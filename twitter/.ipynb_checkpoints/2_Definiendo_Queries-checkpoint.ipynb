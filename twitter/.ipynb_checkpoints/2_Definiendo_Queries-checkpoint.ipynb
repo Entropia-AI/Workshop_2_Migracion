{
 "cells": [
  {
   "cell_type": "markdown",
   "id": "thick-thought",
   "metadata": {},
   "source": [
    "# Definir Queries Útiles\n",
    "\n",
    "En esta notebook vamos a revisar una propuesta del proceso que se puede seguir para definir queries que ayuden a obtener un volumen suficiente de tweets constantemente. Se usará de ejemplo el proceso realizado para el proyecto del Laboratorio de Migración.\n",
    "\n",
    "Para ello, se veran los siguientes puntos:\n",
    "- Queries para un primer dataset\n",
    "- N-Grams para expandir dataset\n",
    "- Proceso iterativo\n",
    "- Añadir operadores de región y lenguaje\n",
    "\n",
    "Nota: Para este proceso nos interesa obtener un volumen considerable de tweets, por lo que entre más días se puedan minar, mejor. En caso de contar con acceso [*Essential* o *Elevated*](https://developer.twitter.com/en/docs/twitter-api/getting-started/about-twitter-api#v2-access-level) se recomienda [aplicar de manera gratuita a credenciales Académicas](https://developer.twitter.com/en/products/twitter-api/academic-research). \n",
    "\n",
    "TO-DO: Precedente de credenciales academicas"
   ]
  },
  {
   "cell_type": "markdown",
   "id": "responsible-young",
   "metadata": {},
   "source": [
    "#### Imports"
   ]
  },
  {
   "cell_type": "code",
   "execution_count": 1,
   "id": "quiet-lending",
   "metadata": {},
   "outputs": [],
   "source": [
    "import twarc"
   ]
  },
  {
   "cell_type": "markdown",
   "id": "minimal-limit",
   "metadata": {},
   "source": [
    "## Primer Dataset\n",
    "\n",
    "### Identificar países y lenguajes de interés\n",
    "Un primer paso es identificar en que lenguaje vamos a minar, en el caso del Laboratorio de Migración se minan tweets de los países hispanohablantes de LATAM (español), países del caribe (inglés) y Brasil (portugués). Dependiendo de que tanto se habla ese idioma en el mundo y los países que nos interesa cubrir, van a cambiar que tan específicos o generales pueden que ser los queries y qué operadores usaríamos.\n",
    "\n",
    "### Ejemplos proyecto Laboratorio de Migración\n",
    "\n",
    "### Inglés\n",
    "Tweets en inglés se publican desde todas partes del mundo y en este caso, solo nos interesan ciertos países que por densidad de población no pueden generar un gran volumen de tweets. Por lo que si no usamos el operador `place_country`, vamos a obtener tweets de todo el mundo y eso significaría invertir más tiempo y recursos en el minado, procesamiento, etc. Para evitar esto, desde ya se puede definir que usaremos el operador `place_country` para así limitar la búsqueda de tweets a esos países y esto nos dará la oportunidad de usar keywords con un alcance más abierto. \n",
    "\n",
    "En el ejemplo de migración se podrían usar: `migrants, immigrants, emigrants, migration, immigration, emigration, migratory, immigratory y emigratory` y luego añadir variaciones como `pro-migrants, anti-migrants, ...`\n",
    "\n",
    "El query podria ser: `(migrants OR immigrants OR emigrants OR migration OR immigration OR emigration OR migratory OR immigratory OR emigratory) (place_country:BB OR place_country:GY OR place_country:BZ OR place_country:JM OR place_country:HT OR place_country:SR)`\n",
    "\n",
    "### Portugués\n",
    "En este caso, los tweets en portugués van a venir de Brasil o de Portugal principalmente, por lo que se podría aplicar el operador `place_country` para obtener solo tweets publicados desde Brasil o minar queries sin ninguna restricción para luego filtrarlos basándose en si son geo-localizables a otro lado que no sea Brasil. \n",
    "\n",
    "Palabras claves podrian ser: `migratórias, migração, migrações, migrantes, migradas`\n",
    "\n",
    "El query podria ser: `(migratórias OR migração OR migrações OR migrantes OR migradas) place_country:BR`\n",
    "\n",
    "### Español"
   ]
  },
  {
   "cell_type": "code",
   "execution_count": null,
   "id": "italic-course",
   "metadata": {},
   "outputs": [],
   "source": []
  }
 ],
 "metadata": {
  "kernelspec": {
   "display_name": "BID",
   "language": "python",
   "name": "bid"
  },
  "language_info": {
   "codemirror_mode": {
    "name": "ipython",
    "version": 3
   },
   "file_extension": ".py",
   "mimetype": "text/x-python",
   "name": "python",
   "nbconvert_exporter": "python",
   "pygments_lexer": "ipython3",
   "version": "3.8.10"
  }
 },
 "nbformat": 4,
 "nbformat_minor": 5
}
