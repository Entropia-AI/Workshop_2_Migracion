{
 "cells": [
  {
   "cell_type": "markdown",
   "id": "novel-skill",
   "metadata": {},
   "source": [
    "# Definir Queries Útiles\n",
    "\n",
    "En esta notebook vamos a revisar una propuesta del proceso que se puede seguir para definir queries que ayuden a obtener un volúmen suficiente de tweets constantemente.\n",
    "\n",
    "Para ello, se veran los siguientes puntos:\n",
    "- Queries para un primer dataset\n",
    "- N-Grams para expandir dataset\n",
    "- Proceso iterativo\n",
    "- Añadir operadores de region y lenguaje\n",
    "\n",
    "Para este proceso nos interesa poder obtener un volumen considerable de tweets, por lo que tal vez implique minar más de 7 dias. "
   ]
  },
  {
   "cell_type": "markdown",
   "id": "adverse-covering",
   "metadata": {},
   "source": [
    "#### Imports"
   ]
  },
  {
   "cell_type": "code",
   "execution_count": 1,
   "id": "cubic-reference",
   "metadata": {},
   "outputs": [],
   "source": [
    "import twarc"
   ]
  },
  {
   "cell_type": "markdown",
   "id": "promotional-girlfriend",
   "metadata": {},
   "source": [
    "## Primer Dataset\n",
    "\n",
    "Para construir un primer dataset"
   ]
  },
  {
   "cell_type": "code",
   "execution_count": null,
   "id": "compound-contribution",
   "metadata": {},
   "outputs": [],
   "source": []
  }
 ],
 "metadata": {
  "kernelspec": {
   "display_name": "BID",
   "language": "python",
   "name": "bid"
  },
  "language_info": {
   "codemirror_mode": {
    "name": "ipython",
    "version": 3
   },
   "file_extension": ".py",
   "mimetype": "text/x-python",
   "name": "python",
   "nbconvert_exporter": "python",
   "pygments_lexer": "ipython3",
   "version": "3.8.10"
  }
 },
 "nbformat": 4,
 "nbformat_minor": 5
}
