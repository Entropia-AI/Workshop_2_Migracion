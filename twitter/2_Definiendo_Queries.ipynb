{
 "cells": [
  {
   "cell_type": "code",
   "execution_count": 35,
   "id": "auburn-gates",
   "metadata": {},
   "outputs": [],
   "source": [
    "import os\n",
    "import json\n",
    "import pendulum\n",
    "import pandas as pd\n",
    "\n",
    "from tqdm import tqdm\n",
    "\n",
    "from twarc.client2 import Twarc2\n",
    "from twarc.expansions import TWEET_FIELDS\n",
    "from twarc.expansions import ensure_flattened"
   ]
  },
  {
   "cell_type": "markdown",
   "id": "african-maximum",
   "metadata": {},
   "source": [
    "Nota: Estas son funciones desarrolladas por el equipo de entropia, el codigo esta en el directorio de helpers."
   ]
  },
  {
   "cell_type": "code",
   "execution_count": 36,
   "id": "sacred-jackson",
   "metadata": {},
   "outputs": [],
   "source": [
    "from helpers.clean_tweets import clean_tweets_dataset\n",
    "from helpers.get_n_grams import get_n_grams"
   ]
  },
  {
   "cell_type": "code",
   "execution_count": 37,
   "id": "detected-context",
   "metadata": {},
   "outputs": [],
   "source": [
    "CREDENTIALS_TWITTER_API = {\n",
    "    'bearer_token': \"Enter your own Bearer token\",\n",
    "\n",
    "    # 'api_key': \"Enter your own API Key\",\n",
    "    # 'api_secret_key': \"Enter your own API Secret Key\",\n",
    "    # 'access_token': \"Enter your own access_token\",\n",
    "    # 'access_token_secret': \"Enter your own access_token_secret\"\n",
    "}\n",
    "\n",
    "IS_ACADEMIC = False # Cambiar a True, si las credenciales son Academicas"
   ]
  },
  {
   "cell_type": "markdown",
   "id": "loaded-yugoslavia",
   "metadata": {},
   "source": [
    "Esta función es la que se encarga de minar los tweets dado una lista de queries y un intervalo de tiempo, la notebook 1_Fundamentos_Twitter_API.ipynb contiene más detalles de qué es y como funcion la API de Twitter."
   ]
  },
  {
   "cell_type": "code",
   "execution_count": 39,
   "id": "certain-transsexual",
   "metadata": {},
   "outputs": [],
   "source": [
    "def get_tweets(credentials_api,\n",
    "               queries_list,\n",
    "               output_file,\n",
    "               since_date, until_date,\n",
    "               is_academic=False):\n",
    "    \"\"\"Function in charge of scrape tweets from the \n",
    "    official Twitter API, using the library named Twarc.\n",
    "\n",
    "    Args:\n",
    "        credentials_api (dict): Dictionary with the Twitter API credentials.\n",
    "        queries_list (list[str]): List of queries to scrape.\n",
    "        output_file (str): Path to the file in which to store the results.\n",
    "        since_date (datetime): Start of the time span to scrape.\n",
    "        until_date (datetime): End of the time span to scrape.\n",
    "        is_academic (bool, optional): If the credentials has Research \n",
    "                                      Academic access level.\n",
    "    \"\"\"\n",
    "\n",
    "    # Instiate the Twarc Client\n",
    "    twarc_client = Twarc2(**credentials_api)\n",
    "\n",
    "    # Make some tweaks for using the research credentials\n",
    "    max_size = 100\n",
    "    tweet_fields = TWEET_FIELDS.copy()\n",
    "    search_func = twarc_client.search_recent\n",
    "    if(is_academic):\n",
    "        search_func = twarc_client.search_all\n",
    "        max_size = 500\n",
    "\n",
    "        # Remove the context_annotations attr to\n",
    "        # scrape 500 tweets per request\n",
    "        tweet_fields.remove('context_annotations')\n",
    "\n",
    "    tweet_fields = ','.join(tweet_fields)\n",
    "\n",
    "    with open(output_file, 'a') as pages_file:\n",
    "        for query in tqdm(queries_list):\n",
    "\n",
    "            search_results = search_func(query=query,\n",
    "                                         start_time=since_date,\n",
    "                                         end_time=until_date,\n",
    "                                         tweet_fields=tweet_fields,\n",
    "                                         max_results=max_size)\n",
    "\n",
    "            # Write all the obtained tweets\n",
    "            for page in search_results:\n",
    "\n",
    "                # Write one by one the tweets\n",
    "                for tweet in ensure_flattened(page):\n",
    "                    json.dump(tweet, pages_file, ensure_ascii=False)\n",
    "                    pages_file.write('\\n')"
   ]
  },
  {
   "cell_type": "markdown",
   "id": "integrated-composer",
   "metadata": {},
   "source": [
    "# Definir Queries Útiles\n",
    "\n",
    "En esta notebook vamos a revisar una propuesta del proceso que se puede seguir para definir queries que ayuden a obtener un volumen suficiente de tweets constantemente. Se usará de ejemplo el proceso realizado para el proyecto del Laboratorio de Migración.\n",
    "\n",
    "Para ello, se veran los siguientes puntos:\n",
    "- Queries para un primer dataset\n",
    "- N-Grams para expandir dataset\n",
    "- Proceso iterativo\n",
    "- Añadir operadores de región y lenguaje\n",
    "\n",
    "Nota: Para este proceso nos interesa obtener un volumen considerable de tweets, por lo que entre más días se puedan minar, mejor. En caso de contar con acceso [*Essential* o *Elevated*](https://developer.twitter.com/en/docs/twitter-api/getting-started/about-twitter-api#v2-access-level) se recomienda [aplicar de manera gratuita a credenciales Académicas](https://developer.twitter.com/en/products/twitter-api/academic-research). Esta notebook se hacen queries dando por hecho que las credenciales son academicas. En el proyecto de Laboraotiro de Migración se pudo obtener sin mayor problema, dado que es el objetivo es estudiar un fenomeno."
   ]
  },
  {
   "cell_type": "markdown",
   "id": "descending-macro",
   "metadata": {},
   "source": [
    "## Primer Dataset\n",
    "\n",
    "### Identificar países y lenguajes de interés\n",
    "Un primer paso es identificar en que lenguaje vamos a minar, en el caso del Laboratorio de Migración se minan tweets de los países hispanohablantes de LATAM (español), países del caribe (inglés) y Brasil (portugués). Dependiendo de que tanto se habla ese idioma en el mundo y los países que nos interesa cubrir, van a cambiar que tan específicos o generales pueden que ser los queries y qué operadores usaríamos.\n",
    "\n",
    "### Ejemplos proyecto Laboratorio de Migración\n",
    "\n",
    "### Inglés\n",
    "Tweets en inglés se publican desde todas partes del mundo y en este caso, solo nos interesan ciertos países que por densidad de población no pueden generar un gran volumen de tweets. Por lo que si no usamos el operador `place_country`, vamos a obtener tweets de todo el mundo y eso significaría invertir más tiempo y recursos en el minado, procesamiento, etc. Para evitar esto, desde ya se puede definir que usaremos el operador `place_country` para así limitar la búsqueda de tweets a esos países y esto nos dará la oportunidad de usar keywords con un alcance más abierto. \n",
    "\n",
    "En el ejemplo de migración se podrían usar: `migrants, immigrants, emigrants, migration, immigration, emigration, migratory, immigratory y emigratory` y luego añadir variaciones como `pro-migrants, anti-migrants, ...`\n",
    "\n",
    "El query podria ser: `(migrants OR immigrants OR emigrants OR migration OR immigration OR emigration OR migratory OR immigratory OR emigratory) (place_country:BB OR place_country:GY OR place_country:BZ OR place_country:JM OR place_country:HT OR place_country:SR)`\n",
    "\n",
    "### Portugués\n",
    "En este caso, los tweets en portugués van a venir de Brasil o de Portugal principalmente, por lo que se podría aplicar el operador `place_country` para obtener solo tweets publicados desde Brasil o minar queries sin ninguna restricción para luego filtrarlos basándose en sí son geo-localizables a otro lado que no sea Brasil. \n",
    "\n",
    "Palabras claves podrian ser: `migratórias, migração, migrações, migrantes, migradas`\n",
    "\n",
    "El query podria ser: `(migratórias OR migração OR migrações OR migrantes OR migradas) place_country:BR`\n",
    "\n",
    "### Español\n",
    "Para este lenguaje, exceptuando a España, nos interesa obtener tweets del conjunto que van a generar la mayoria de tweets en español. Y aunque es buena práctica utilizar queries más generales junto con el operador `place_country`, esto nos dejaría con un volumen muy inferior y que no terminaría de reflejar las conversaciones reales de lo que se podría obtener.\n",
    "\n",
    "Por lo que aquí conviene hacer ambas cosas, tener queries con keywords generales, pero cerrado a solo los países de interés y tener queries con keywords más específicos, pero sin ninguna limitación de geolocalización, para luego tratar de extraer el país de origen por otros atributos (Esto está en la siguiente notebook).\n",
    "\n",
    "Un query ejemplo podría ser: `(migrar OR inmigrar OR emigrar OR migrante OR inmigrante OR emigrante OR migrantes OR inmigrantes OR emigrantes OR migratorios OR inmigratorios OR emigratorios OR migratorias OR inmigratorias OR emigratorias) (place_country:MX OR place_country:AR OR place_country:AR)`. Esto se replicaría para todos los países que nos interesa y nos serviría como primer dataset para iterar sobre los queries. No solo para los queires con el filtro por pais, tambien para aquellos que no lo tienen, ya que esos debe de ser más especificos para no traernos demasiado ruido pero que cubran la mayor parate de la conversación para así tener un volumen suficiente."
   ]
  },
  {
   "cell_type": "markdown",
   "id": "lined-anger",
   "metadata": {},
   "source": [
    "Para esta notebook usaremos de ejemplo la definición de queries en español, y como se mencionó previamente, el primer paso es definir una lista preliminar de keywords y concatenarlas con el operador `OR`. Optar por palabras que de manera explícita hable del tema de interés."
   ]
  },
  {
   "cell_type": "code",
   "execution_count": 6,
   "id": "controlling-crazy",
   "metadata": {},
   "outputs": [],
   "source": [
    "list_keywords = [\"migrar\", \"inmigrar\", \"emigrar\", \n",
    "                 \"migrante\", \"inmigrante\", \"emigrante\", \n",
    "                 \"migrantes\", \"inmigrantes\", \"emigrantes\", \n",
    "                 \"migratorios\", \"inmigratorios\", \"emigratorios\", \n",
    "                 \"migratorias\", \"inmigratorias\", \"emigratorias\"]\n",
    "list_keywords = ' OR '.join(list_keywords)"
   ]
  },
  {
   "cell_type": "markdown",
   "id": "neither-wonder",
   "metadata": {},
   "source": [
    "Si el objetivo fuera seguir la conversación de Género, algunas palabras podrían ser: genero, igualdad, feminismo, brecha salarial, etc."
   ]
  },
  {
   "cell_type": "markdown",
   "id": "narrative-discount",
   "metadata": {},
   "source": [
    "En seguida hay que añadir los operadores del pais de interes. Esto nos ayudara a encontrar keywords o expresiones que esten atadas al contexto de cada pais, ayudando asi a filtrar un poco la conversación migratoria a los paises de interes.\n",
    "\n",
    "Tambien se añade el operador `-is:retweet` y `lang:es`, evitando traer retweets ya que por el momento solo nos interesa obtener los tweets unicos y que esten en español."
   ]
  },
  {
   "cell_type": "code",
   "execution_count": 25,
   "id": "first-destination",
   "metadata": {},
   "outputs": [
    {
     "data": {
      "text/plain": [
       "'(migrar OR inmigrar OR emigrar OR migrante OR inmigrante OR emigrante OR migrantes OR inmigrantes OR emigrantes OR migratorios OR inmigratorios OR emigratorios OR migratorias OR inmigratorias OR emigratorias) (place_country:MX OR place_country:AR OR place_country:CO) -is:retweet'"
      ]
     },
     "execution_count": 25,
     "metadata": {},
     "output_type": "execute_result"
    }
   ],
   "source": [
    "lst_queries = f\"({list_keywords}) (place_country:MX OR place_country:AR OR place_country:CO) lang:es -is:retweet\"\n",
    "lst_queries"
   ]
  },
  {
   "cell_type": "markdown",
   "id": "manufactured-attention",
   "metadata": {},
   "source": [
    "Definimos un intervalo de tiempo considerable para obtener un volumen útil de tweets. En el proyecto del Laboratorio de Migración se empezó con minar tweets de todo el año 2019 y 2020, al ser tanto tiempo, podremos obtener tweets de momentos en los que ocurrieran eventos relacionados a migración, así como en momentos donde sea un tema menos viral. \n",
    "\n",
    "Para este ejemplo usaremos todo lo que va del 2022.\n",
    "\n",
    "Nota: Todos los archivos que se obtengan durante el desarrollo de esta notebook se van a encontrar en el directorio \"./archivos_queries\""
   ]
  },
  {
   "cell_type": "code",
   "execution_count": 64,
   "id": "minute-discharge",
   "metadata": {},
   "outputs": [],
   "source": [
    "lst_queries = [lst_queries]\n",
    "\n",
    "date_start = pendulum.datetime(year=2022, month=1, day=1)\n",
    "date_end = pendulum.datetime(year=2022, month=9, day=10)\n",
    "\n",
    "file_tweets = os.path.abspath(\"./archivos_queries/1_dataset.jsonl\")"
   ]
  },
  {
   "cell_type": "markdown",
   "id": "broadband-local",
   "metadata": {},
   "source": [
    "Se ejecuta la función para minar los tweets"
   ]
  },
  {
   "cell_type": "code",
   "execution_count": 9,
   "id": "sticky-residence",
   "metadata": {},
   "outputs": [
    {
     "name": "stderr",
     "output_type": "stream",
     "text": [
      "100%|██████████| 1/1 [01:26<00:00, 86.80s/it]\n"
     ]
    }
   ],
   "source": [
    "get_tweets(credentials_api = CREDENTIALS_TWITTER_API,\n",
    "           queries_list = lst_queries,\n",
    "           output_file = file_tweets,\n",
    "           since_date = date_start, \n",
    "           until_date = date_end,\n",
    "           is_academic= IS_ACADEMIC)"
   ]
  },
  {
   "cell_type": "markdown",
   "id": "removed-macedonia",
   "metadata": {},
   "source": [
    "Vemos cuantos tweets obtuvimos"
   ]
  },
  {
   "cell_type": "code",
   "execution_count": 10,
   "id": "african-cemetery",
   "metadata": {},
   "outputs": [
    {
     "name": "stdout",
     "output_type": "stream",
     "text": [
      "8593 ./archivos_queries/1_dataset.jsonl\n"
     ]
    }
   ],
   "source": [
    "!wc -l ./archivos_queries/1_dataset.jsonl"
   ]
  },
  {
   "cell_type": "markdown",
   "id": "about-municipality",
   "metadata": {},
   "source": [
    "Estos 8,593 tweets nos van a servir como primer dataset para empezar a identificar keywords que esten relacionadas con el fenomeno que queremos estudiar, ya sea que se refieran a el de manera :\n",
    "- Explicita como lo es decir \"migrante\" o \"inmigrantes\" \n",
    "- Implicito como \"los mexicanos en estado unidos\" o \"las personas ilegales\"."
   ]
  },
  {
   "cell_type": "markdown",
   "id": "social-target",
   "metadata": {},
   "source": [
    "Para lograr hacer esto primero hay que cargar los identificadores unicos (IDs) y textos de los tweets. "
   ]
  },
  {
   "cell_type": "code",
   "execution_count": 11,
   "id": "mobile-penetration",
   "metadata": {},
   "outputs": [
    {
     "data": {
      "text/html": [
       "<div>\n",
       "<style scoped>\n",
       "    .dataframe tbody tr th:only-of-type {\n",
       "        vertical-align: middle;\n",
       "    }\n",
       "\n",
       "    .dataframe tbody tr th {\n",
       "        vertical-align: top;\n",
       "    }\n",
       "\n",
       "    .dataframe thead th {\n",
       "        text-align: right;\n",
       "    }\n",
       "</style>\n",
       "<table border=\"1\" class=\"dataframe\">\n",
       "  <thead>\n",
       "    <tr style=\"text-align: right;\">\n",
       "      <th></th>\n",
       "      <th>id</th>\n",
       "      <th>text</th>\n",
       "    </tr>\n",
       "  </thead>\n",
       "  <tbody>\n",
       "    <tr>\n",
       "      <th>0</th>\n",
       "      <td>1565119364566847488</td>\n",
       "      <td>En el Centro de Jubilados Un Sueño de B° La Es...</td>\n",
       "    </tr>\n",
       "    <tr>\n",
       "      <th>1</th>\n",
       "      <td>1565104878166446080</td>\n",
       "      <td>El Grupo de Asuntos Étnicos, Migrantes y Refug...</td>\n",
       "    </tr>\n",
       "    <tr>\n",
       "      <th>2</th>\n",
       "      <td>1565103949337837568</td>\n",
       "      <td>Lanzamiento de #INTEGRATE de @alcaldiabogota @...</td>\n",
       "    </tr>\n",
       "    <tr>\n",
       "      <th>3</th>\n",
       "      <td>1565102572586909696</td>\n",
       "      <td>@AntaresVazAla Por supuesto, plática del foro ...</td>\n",
       "    </tr>\n",
       "    <tr>\n",
       "      <th>4</th>\n",
       "      <td>1565095116074876928</td>\n",
       "      <td>Por fin entendieron que los nietos tenemos el ...</td>\n",
       "    </tr>\n",
       "    <tr>\n",
       "      <th>...</th>\n",
       "      <td>...</td>\n",
       "      <td>...</td>\n",
       "    </tr>\n",
       "    <tr>\n",
       "      <th>8588</th>\n",
       "      <td>1477088691877261312</td>\n",
       "      <td>Sin duda, fue un año de mucho trabajo. Y nos p...</td>\n",
       "    </tr>\n",
       "    <tr>\n",
       "      <th>8589</th>\n",
       "      <td>1477088689901682688</td>\n",
       "      <td>💇‍♀️ Servimos de escuela para capacitar a 125 ...</td>\n",
       "    </tr>\n",
       "    <tr>\n",
       "      <th>8590</th>\n",
       "      <td>1477086472469684224</td>\n",
       "      <td>@GSandovalSalas @DIF_NMX @GobiernoMX @SRE_mx @...</td>\n",
       "    </tr>\n",
       "    <tr>\n",
       "      <th>8591</th>\n",
       "      <td>1477067319830478848</td>\n",
       "      <td>@denadastotales @alfiemart Pero si con ese mod...</td>\n",
       "    </tr>\n",
       "    <tr>\n",
       "      <th>8592</th>\n",
       "      <td>1477067149873238016</td>\n",
       "      <td>Tengo un conocido que es chavista, vive en Chi...</td>\n",
       "    </tr>\n",
       "  </tbody>\n",
       "</table>\n",
       "<p>8593 rows × 2 columns</p>\n",
       "</div>"
      ],
      "text/plain": [
       "                       id                                               text\n",
       "0     1565119364566847488  En el Centro de Jubilados Un Sueño de B° La Es...\n",
       "1     1565104878166446080  El Grupo de Asuntos Étnicos, Migrantes y Refug...\n",
       "2     1565103949337837568  Lanzamiento de #INTEGRATE de @alcaldiabogota @...\n",
       "3     1565102572586909696  @AntaresVazAla Por supuesto, plática del foro ...\n",
       "4     1565095116074876928  Por fin entendieron que los nietos tenemos el ...\n",
       "...                   ...                                                ...\n",
       "8588  1477088691877261312  Sin duda, fue un año de mucho trabajo. Y nos p...\n",
       "8589  1477088689901682688  💇‍♀️ Servimos de escuela para capacitar a 125 ...\n",
       "8590  1477086472469684224  @GSandovalSalas @DIF_NMX @GobiernoMX @SRE_mx @...\n",
       "8591  1477067319830478848  @denadastotales @alfiemart Pero si con ese mod...\n",
       "8592  1477067149873238016  Tengo un conocido que es chavista, vive en Chi...\n",
       "\n",
       "[8593 rows x 2 columns]"
      ]
     },
     "execution_count": 11,
     "metadata": {},
     "output_type": "execute_result"
    }
   ],
   "source": [
    "df_tweets = pd.read_json(\"./archivos_queries/1_dataset.jsonl\", lines=True)\n",
    "df_tweets = df_tweets[['id', 'text']]\n",
    "df_tweets"
   ]
  },
  {
   "cell_type": "markdown",
   "id": "nonprofit-marijuana",
   "metadata": {},
   "source": [
    "### N-Grams\n",
    "\n",
    "Estas son un concepto muy utilizado en el procesamiento de lenguaje natural (NLP, por siglas en ingles), y se pueden entender como una secuencia de N palabras, por ejemplo:\n",
    "- Dream on (2-Grams)\n",
    "- Kickstart My Heart (3-Grams)\n",
    "- Hail to the King (4-Grams)\n",
    "\n",
    "Estas secuencias de texto se pueden contabilizar en un corpus de texto y obtener la frecuencia de aparición de una palabra tras la otra, y así saber qué palabras puede considerarse como una sola entidad. Por ejemplo, en un texto sobre la historia de la banda de rock Aerosmith el 2-gram \"Dream On\" se puede considerar una sola palabra, dado que se refiere a la canción que sirvió como soundtrack de la pelicula  Armagedon. También puede servir para realizar una predicción de que palabras siguen, como el autocompletado que realiza Spotify para mostrar una lista de opciones de la canción original y covers cuando solo escribimos \"Kick Start...\"."
   ]
  },
  {
   "cell_type": "markdown",
   "id": "immediate-possibility",
   "metadata": {},
   "source": [
    "Podemos considerar los N-Grams como una herramienta util para encontrar patrones entre los tweets que hablan sobre migración y así extender la lista de keywords y/o formar queries que se apoyen en que un tweet contenga al menos dos keywords.\n",
    "\n",
    "Primero hay que preprocesar los tweets para así eliminar partes del texto que no sean de utilidad y pasar todo a minusculas, por ejemplo:\n",
    "- URLs\n",
    "- Numeros\n",
    "- Emojis\n",
    "- Caracteres especiales\n",
    "- Risas (Jajaj o Hahaha)\n",
    "- Espacios en blanco multiples\n",
    "- Mencion a usuarios\n",
    "- Borrar stopwords (que, como, cual, etc)"
   ]
  },
  {
   "cell_type": "code",
   "execution_count": 12,
   "id": "preceding-shame",
   "metadata": {},
   "outputs": [
    {
     "data": {
      "text/html": [
       "<div>\n",
       "<style scoped>\n",
       "    .dataframe tbody tr th:only-of-type {\n",
       "        vertical-align: middle;\n",
       "    }\n",
       "\n",
       "    .dataframe tbody tr th {\n",
       "        vertical-align: top;\n",
       "    }\n",
       "\n",
       "    .dataframe thead th {\n",
       "        text-align: right;\n",
       "    }\n",
       "</style>\n",
       "<table border=\"1\" class=\"dataframe\">\n",
       "  <thead>\n",
       "    <tr style=\"text-align: right;\">\n",
       "      <th></th>\n",
       "      <th>id</th>\n",
       "      <th>text</th>\n",
       "      <th>text_preprocessed</th>\n",
       "    </tr>\n",
       "  </thead>\n",
       "  <tbody>\n",
       "    <tr>\n",
       "      <th>0</th>\n",
       "      <td>1565119364566847488</td>\n",
       "      <td>En el Centro de Jubilados Un Sueño de B° La Es...</td>\n",
       "      <td>centro jubilados sueno estrella pudimos compar...</td>\n",
       "    </tr>\n",
       "    <tr>\n",
       "      <th>1</th>\n",
       "      <td>1565104878166446080</td>\n",
       "      <td>El Grupo de Asuntos Étnicos, Migrantes y Refug...</td>\n",
       "      <td>grupo asuntos etnicos migrantes refugiados per...</td>\n",
       "    </tr>\n",
       "    <tr>\n",
       "      <th>2</th>\n",
       "      <td>1565103949337837568</td>\n",
       "      <td>Lanzamiento de #INTEGRATE de @alcaldiabogota @...</td>\n",
       "      <td>lanzamiento integrate brindara atencion migran...</td>\n",
       "    </tr>\n",
       "    <tr>\n",
       "      <th>3</th>\n",
       "      <td>1565102572586909696</td>\n",
       "      <td>@AntaresVazAla Por supuesto, plática del foro ...</td>\n",
       "      <td>platica foro sao paulo socialismo cuba venezue...</td>\n",
       "    </tr>\n",
       "    <tr>\n",
       "      <th>4</th>\n",
       "      <td>1565095116074876928</td>\n",
       "      <td>Por fin entendieron que los nietos tenemos el ...</td>\n",
       "      <td>entendieron nietos derecho adoptar doble ciuda...</td>\n",
       "    </tr>\n",
       "    <tr>\n",
       "      <th>...</th>\n",
       "      <td>...</td>\n",
       "      <td>...</td>\n",
       "      <td>...</td>\n",
       "    </tr>\n",
       "    <tr>\n",
       "      <th>8588</th>\n",
       "      <td>1477088691877261312</td>\n",
       "      <td>Sin duda, fue un año de mucho trabajo. Y nos p...</td>\n",
       "      <td>duda ano preparamos continuaremos luchando der...</td>\n",
       "    </tr>\n",
       "    <tr>\n",
       "      <th>8589</th>\n",
       "      <td>1477088689901682688</td>\n",
       "      <td>💇‍♀️ Servimos de escuela para capacitar a 125 ...</td>\n",
       "      <td>servimos escuela capacitar migrantes peluqueri...</td>\n",
       "    </tr>\n",
       "    <tr>\n",
       "      <th>8590</th>\n",
       "      <td>1477086472469684224</td>\n",
       "      <td>@GSandovalSalas @DIF_NMX @GobiernoMX @SRE_mx @...</td>\n",
       "      <td>culpables inmigrantes muertos chiapa cirzo bur...</td>\n",
       "    </tr>\n",
       "    <tr>\n",
       "      <th>8591</th>\n",
       "      <td>1477067319830478848</td>\n",
       "      <td>@denadastotales @alfiemart Pero si con ese mod...</td>\n",
       "      <td>modelo rico top pib per capital destino millon...</td>\n",
       "    </tr>\n",
       "    <tr>\n",
       "      <th>8592</th>\n",
       "      <td>1477067149873238016</td>\n",
       "      <td>Tengo un conocido que es chavista, vive en Chi...</td>\n",
       "      <td>conocido chavista vive chile opina gobierno ch...</td>\n",
       "    </tr>\n",
       "  </tbody>\n",
       "</table>\n",
       "<p>8478 rows × 3 columns</p>\n",
       "</div>"
      ],
      "text/plain": [
       "                       id                                               text  \\\n",
       "0     1565119364566847488  En el Centro de Jubilados Un Sueño de B° La Es...   \n",
       "1     1565104878166446080  El Grupo de Asuntos Étnicos, Migrantes y Refug...   \n",
       "2     1565103949337837568  Lanzamiento de #INTEGRATE de @alcaldiabogota @...   \n",
       "3     1565102572586909696  @AntaresVazAla Por supuesto, plática del foro ...   \n",
       "4     1565095116074876928  Por fin entendieron que los nietos tenemos el ...   \n",
       "...                   ...                                                ...   \n",
       "8588  1477088691877261312  Sin duda, fue un año de mucho trabajo. Y nos p...   \n",
       "8589  1477088689901682688  💇‍♀️ Servimos de escuela para capacitar a 125 ...   \n",
       "8590  1477086472469684224  @GSandovalSalas @DIF_NMX @GobiernoMX @SRE_mx @...   \n",
       "8591  1477067319830478848  @denadastotales @alfiemart Pero si con ese mod...   \n",
       "8592  1477067149873238016  Tengo un conocido que es chavista, vive en Chi...   \n",
       "\n",
       "                                      text_preprocessed  \n",
       "0     centro jubilados sueno estrella pudimos compar...  \n",
       "1     grupo asuntos etnicos migrantes refugiados per...  \n",
       "2     lanzamiento integrate brindara atencion migran...  \n",
       "3     platica foro sao paulo socialismo cuba venezue...  \n",
       "4     entendieron nietos derecho adoptar doble ciuda...  \n",
       "...                                                 ...  \n",
       "8588  duda ano preparamos continuaremos luchando der...  \n",
       "8589  servimos escuela capacitar migrantes peluqueri...  \n",
       "8590  culpables inmigrantes muertos chiapa cirzo bur...  \n",
       "8591  modelo rico top pib per capital destino millon...  \n",
       "8592  conocido chavista vive chile opina gobierno ch...  \n",
       "\n",
       "[8478 rows x 3 columns]"
      ]
     },
     "execution_count": 12,
     "metadata": {},
     "output_type": "execute_result"
    }
   ],
   "source": [
    "df_tweets = clean_tweets_dataset(df_tweets, doc_column='text', clean_col='text_preprocessed')\n",
    "df_tweets"
   ]
  },
  {
   "cell_type": "markdown",
   "id": "sealed-avenue",
   "metadata": {},
   "source": [
    "Obtener bigramas"
   ]
  },
  {
   "cell_type": "code",
   "execution_count": 13,
   "id": "generic-subcommittee",
   "metadata": {},
   "outputs": [
    {
     "name": "stderr",
     "output_type": "stream",
     "text": [
      "/home/noecampos/.pyenv/versions/BID/lib/python3.8/site-packages/sklearn/utils/deprecation.py:87: FutureWarning: Function get_feature_names is deprecated; get_feature_names is deprecated in 1.0 and will be removed in 1.2. Please use get_feature_names_out instead.\n",
      "  warnings.warn(msg, category=FutureWarning)\n"
     ]
    }
   ],
   "source": [
    "srs_bigrams = get_n_grams(df_tweets['text_preprocessed'], \n",
    "                          n_gram = 2, \n",
    "                          n_top = 200)"
   ]
  },
  {
   "cell_type": "code",
   "execution_count": null,
   "id": "critical-automation",
   "metadata": {},
   "outputs": [],
   "source": [
    "srs_bigrams[:60]"
   ]
  },
  {
   "cell_type": "markdown",
   "id": "minute-thermal",
   "metadata": {},
   "source": [
    "Obtener trigramas"
   ]
  },
  {
   "cell_type": "code",
   "execution_count": 15,
   "id": "hungry-direction",
   "metadata": {},
   "outputs": [
    {
     "name": "stderr",
     "output_type": "stream",
     "text": [
      "/home/noecampos/.pyenv/versions/BID/lib/python3.8/site-packages/sklearn/utils/deprecation.py:87: FutureWarning: Function get_feature_names is deprecated; get_feature_names is deprecated in 1.0 and will be removed in 1.2. Please use get_feature_names_out instead.\n",
      "  warnings.warn(msg, category=FutureWarning)\n"
     ]
    }
   ],
   "source": [
    "srs_trigramas = get_n_grams(df_tweets['text_preprocessed'], \n",
    "                            n_gram = 3, \n",
    "                            n_top = 200)"
   ]
  },
  {
   "cell_type": "code",
   "execution_count": 16,
   "id": "narrow-youth",
   "metadata": {},
   "outputs": [
    {
     "data": {
      "text/html": [
       "<div>\n",
       "<style scoped>\n",
       "    .dataframe tbody tr th:only-of-type {\n",
       "        vertical-align: middle;\n",
       "    }\n",
       "\n",
       "    .dataframe tbody tr th {\n",
       "        vertical-align: top;\n",
       "    }\n",
       "\n",
       "    .dataframe thead th {\n",
       "        text-align: right;\n",
       "    }\n",
       "</style>\n",
       "<table border=\"1\" class=\"dataframe\">\n",
       "  <thead>\n",
       "    <tr style=\"text-align: right;\">\n",
       "      <th></th>\n",
       "      <th>n_gram</th>\n",
       "      <th>total_freq</th>\n",
       "    </tr>\n",
       "  </thead>\n",
       "  <tbody>\n",
       "    <tr>\n",
       "      <th>0</th>\n",
       "      <td>brenas capital prov</td>\n",
       "      <td>129</td>\n",
       "    </tr>\n",
       "    <tr>\n",
       "      <th>1</th>\n",
       "      <td>capital prov inmigrante</td>\n",
       "      <td>129</td>\n",
       "    </tr>\n",
       "    <tr>\n",
       "      <th>2</th>\n",
       "      <td>barrio grave gracias</td>\n",
       "      <td>116</td>\n",
       "    </tr>\n",
       "    <tr>\n",
       "      <th>3</th>\n",
       "      <td>fomentan sosobra intimidan</td>\n",
       "      <td>116</td>\n",
       "    </tr>\n",
       "    <tr>\n",
       "      <th>4</th>\n",
       "      <td>forasteros inmigrantes fomentan</td>\n",
       "      <td>116</td>\n",
       "    </tr>\n",
       "    <tr>\n",
       "      <th>5</th>\n",
       "      <td>gracias loscontenedoresdebasura unico</td>\n",
       "      <td>116</td>\n",
       "    </tr>\n",
       "    <tr>\n",
       "      <th>6</th>\n",
       "      <td>grave gracias loscontenedoresdebasura</td>\n",
       "      <td>116</td>\n",
       "    </tr>\n",
       "    <tr>\n",
       "      <th>7</th>\n",
       "      <td>inmigrantes fomentan sosobra</td>\n",
       "      <td>116</td>\n",
       "    </tr>\n",
       "    <tr>\n",
       "      <th>8</th>\n",
       "      <td>inseguridad barrio grave</td>\n",
       "      <td>116</td>\n",
       "    </tr>\n",
       "    <tr>\n",
       "      <th>9</th>\n",
       "      <td>loscontenedoresdebasura unico traido</td>\n",
       "      <td>116</td>\n",
       "    </tr>\n",
       "    <tr>\n",
       "      <th>10</th>\n",
       "      <td>traido forasteros inmigrantes</td>\n",
       "      <td>116</td>\n",
       "    </tr>\n",
       "    <tr>\n",
       "      <th>11</th>\n",
       "      <td>unico traido forasteros</td>\n",
       "      <td>116</td>\n",
       "    </tr>\n",
       "    <tr>\n",
       "      <th>12</th>\n",
       "      <td>bogota inseguridad barrio</td>\n",
       "      <td>113</td>\n",
       "    </tr>\n",
       "    <tr>\n",
       "      <th>13</th>\n",
       "      <td>atractivo senorial comida</td>\n",
       "      <td>108</td>\n",
       "    </tr>\n",
       "    <tr>\n",
       "      <th>14</th>\n",
       "      <td>cantidad inmigrantes recien</td>\n",
       "      <td>108</td>\n",
       "    </tr>\n",
       "    <tr>\n",
       "      <th>15</th>\n",
       "      <td>carecia atractivo senorial</td>\n",
       "      <td>108</td>\n",
       "    </tr>\n",
       "    <tr>\n",
       "      <th>16</th>\n",
       "      <td>carnero papas fondas</td>\n",
       "      <td>108</td>\n",
       "    </tr>\n",
       "    <tr>\n",
       "      <th>17</th>\n",
       "      <td>comida eterno carnero</td>\n",
       "      <td>108</td>\n",
       "    </tr>\n",
       "    <tr>\n",
       "      <th>18</th>\n",
       "      <td>cordoba rosario cosmopolita</td>\n",
       "      <td>108</td>\n",
       "    </tr>\n",
       "    <tr>\n",
       "      <th>19</th>\n",
       "      <td>cosmopolita cantidad inmigrantes</td>\n",
       "      <td>108</td>\n",
       "    </tr>\n",
       "  </tbody>\n",
       "</table>\n",
       "</div>"
      ],
      "text/plain": [
       "                                   n_gram  total_freq\n",
       "0                     brenas capital prov         129\n",
       "1                 capital prov inmigrante         129\n",
       "2                    barrio grave gracias         116\n",
       "3              fomentan sosobra intimidan         116\n",
       "4         forasteros inmigrantes fomentan         116\n",
       "5   gracias loscontenedoresdebasura unico         116\n",
       "6   grave gracias loscontenedoresdebasura         116\n",
       "7            inmigrantes fomentan sosobra         116\n",
       "8                inseguridad barrio grave         116\n",
       "9    loscontenedoresdebasura unico traido         116\n",
       "10          traido forasteros inmigrantes         116\n",
       "11                unico traido forasteros         116\n",
       "12              bogota inseguridad barrio         113\n",
       "13              atractivo senorial comida         108\n",
       "14            cantidad inmigrantes recien         108\n",
       "15             carecia atractivo senorial         108\n",
       "16                   carnero papas fondas         108\n",
       "17                  comida eterno carnero         108\n",
       "18            cordoba rosario cosmopolita         108\n",
       "19       cosmopolita cantidad inmigrantes         108"
      ]
     },
     "execution_count": 16,
     "metadata": {},
     "output_type": "execute_result"
    }
   ],
   "source": [
    "srs_trigramas[:20]"
   ]
  },
  {
   "cell_type": "markdown",
   "id": "coupled-proposal",
   "metadata": {},
   "source": [
    "Explorando esta lista de n-gramas encontraremos que:\n",
    "- Las palabras \"migrante\", \"inmigrante\" o \"emigrante\" viene acompañadas de:\n",
    "  - población\n",
    "  - personas\n",
    "  - forasteros\n",
    "  - inseguridad\n",
    "  - muertos\n",
    "  - refugiados\n",
    "  - niños\n",
    "  - caravana\n",
    "  - ilegales\n",
    "  - plaza\n",
    "  - venezolano\n",
    "  - hermanos\n",
    "  - familias\n",
    "  - mujer\n",
    "  - atención\n",
    "  - grupo\n",
    "  - paises\n",
    "  - retornados\n",
    "  - miles\n",
    "  - millones\n",
    "  - trafico\n",
    "\n",
    "\n",
    "- Las palabras \"migratorio\" y \"migratoria\" vienen acompañadas de:\n",
    "  - leyes\n",
    "  - politica\n",
    "  - temas\n",
    "  - pacto\n",
    "  - reformas\n",
    "  - crisis\n",
    "  - fenomeno"
   ]
  },
  {
   "cell_type": "markdown",
   "id": "electronic-albany",
   "metadata": {},
   "source": [
    "## Primer query basado en N-Grams\n",
    "Con el grupo de palabras listadas previamente, se construye un primer query."
   ]
  },
  {
   "cell_type": "code",
   "execution_count": 40,
   "id": "intermediate-palestine",
   "metadata": {},
   "outputs": [],
   "source": [
    "first_query = \"(migrante OR inmigrante OR emigrante) (niño OR mujer OR ilegal OR muerto OR persona OR hermano OR forastero OR refugiado OR retornado OR familia OR caravana OR grupo OR población OR pais OR miles OR millones OR plaza OR trafico OR inseguridad OR atención OR venezolano)\""
   ]
  },
  {
   "cell_type": "markdown",
   "id": "vertical-privacy",
   "metadata": {},
   "source": [
    " "
   ]
  },
  {
   "cell_type": "markdown",
   "id": "perfect-oasis",
   "metadata": {},
   "source": [
    "A este primer query se le añade variaciones de las palabras, por ejemplo:\n",
    "- migrante ⨪> migrantes, inmigrante, ...\n",
    "- niño -> niños, niña, niñas\n",
    "- caravana -> caravanas\n",
    "- refugiado -> refugiados, refugiada, refugiadas"
   ]
  },
  {
   "cell_type": "code",
   "execution_count": 41,
   "id": "adolescent-contemporary",
   "metadata": {},
   "outputs": [],
   "source": [
    "first_query = \"(migrante OR inmigrante OR emigrante OR migrantes OR inmigrantes OR emigrantes) (niño OR niños OR niña OR niñas OR mujer OR mujeres OR hombre OR hombres OR ilegal OR ilegales OR muerto OR muertos OR persona OR personas OR hermano OR hermanos OR hermana OR hermanas OR forastero OR forasteros OR forastera OR forasteras OR refugiado OR refugiados OR refugiada OR refugiadas OR familia OR familias OR caravana OR caravanas OR grupo OR grupos OR población OR poblaciones OR pais OR paises OR miles OR millones OR plaza OR plazas OR trafico OR inseguridad OR atención OR venezolano)\""
   ]
  },
  {
   "cell_type": "markdown",
   "id": "directed-edgar",
   "metadata": {},
   "source": [
    " "
   ]
  },
  {
   "cell_type": "markdown",
   "id": "editorial-scenario",
   "metadata": {},
   "source": [
    "Esto se repite para las palabras migratorio y migratoria"
   ]
  },
  {
   "cell_type": "code",
   "execution_count": 42,
   "id": "hungarian-berry",
   "metadata": {},
   "outputs": [],
   "source": [
    "second_query = \"(migratorio OR migratoria OR migratorios OR migratorias OR inmigratorio OR inmigratoria OR inmigratorios OR inmigratorias OR emigratorio OR emigratoria OR emigratorios OR emigratorias) (ley OR leyes OR politica OR politicas OR tema OR temas OR pacto OR pactos OR reforma OR reformas OR fenomeno OR crisis)\""
   ]
  },
  {
   "cell_type": "markdown",
   "id": "annual-plant",
   "metadata": {},
   "source": [
    " "
   ]
  },
  {
   "cell_type": "markdown",
   "id": "aquatic-assumption",
   "metadata": {},
   "source": [
    "Aprovechando que estamos trabajando con credenciales con acceso academico, podriamos incluso juntar estos dos queries con un OR para así ahorrar tiempo y requests a la API."
   ]
  },
  {
   "cell_type": "code",
   "execution_count": 43,
   "id": "dynamic-joshua",
   "metadata": {},
   "outputs": [],
   "source": [
    "merge_query = f\"({first_query}) OR ({second_query})\""
   ]
  },
  {
   "cell_type": "markdown",
   "id": "fewer-township",
   "metadata": {},
   "source": [
    " "
   ]
  },
  {
   "cell_type": "markdown",
   "id": "proved-survival",
   "metadata": {},
   "source": [
    "Añadimos el operador de `has:geo` pero negado: `-has:geo` y los operadores para evitar retweets y filtrar al español. Con esto vamos a obtener tweets que cumplan con los keywords y que no tengan información de geolocalización. Esto porque aquellos que tengan información de alguna ciudad o pais, ya nos los trajimos con los queries que tienen el operador `place_country`. \n",
    "\n",
    "Para el proyecto del Laboratorio de Migración se hizo de esta manera, y aquellos tweets que no tuvieran información de geolocalización dada por Twitter se intento inferir por medio de los atributos *description* y *location* del usuario. Esto se vera en la siguiente notebook llamada \"3_Get_Location.ipynb\"."
   ]
  },
  {
   "cell_type": "code",
   "execution_count": 44,
   "id": "african-adobe",
   "metadata": {},
   "outputs": [
    {
     "name": "stdout",
     "output_type": "stream",
     "text": [
      "((migrante OR inmigrante OR emigrante OR migrantes OR inmigrantes OR emigrantes) (niño OR niños OR niña OR niñas OR mujer OR mujeres OR hombre OR hombres OR ilegal OR ilegales OR muerto OR muertos OR persona OR personas OR hermano OR hermanos OR hermana OR hermanas OR forastero OR forasteros OR forastera OR forasteras OR refugiado OR refugiados OR refugiada OR refugiadas OR familia OR familias OR caravana OR caravanas OR grupo OR grupos OR población OR poblaciones OR pais OR paises OR miles OR millones OR plaza OR plazas OR trafico OR inseguridad OR atención OR venezolano)) OR ((migratorio OR migratoria OR migratorios OR migratorias OR inmigratorio OR inmigratoria OR inmigratorios OR inmigratorias OR emigratorio OR emigratoria OR emigratorios OR emigratorias) (ley OR leyes OR politica OR politicas OR tema OR temas OR pacto OR pactos OR reforma OR reformas OR fenomeno OR crisis)) -has:geo lang:es -is:retweet\n"
     ]
    }
   ],
   "source": [
    "merge_query = f\"({first_query}) OR ({second_query}) -has:geo lang:es -is:retweet\"\n",
    "print(merge_query)"
   ]
  },
  {
   "cell_type": "markdown",
   "id": "nervous-leisure",
   "metadata": {},
   "source": [
    " "
   ]
  },
  {
   "cell_type": "markdown",
   "id": "sublime-marsh",
   "metadata": {},
   "source": [
    "Dado que minar todo lo que va del 2022 tomaria mucho tiempo, aprovechacermos que la API de Twitter nos permite hacer un conteo de tweets dado un query, para así saber cuantos tweets obtendriamos."
   ]
  },
  {
   "cell_type": "code",
   "execution_count": 69,
   "id": "literary-curve",
   "metadata": {},
   "outputs": [
    {
     "name": "stderr",
     "output_type": "stream",
     "text": [
      "9it [00:17,  1.98s/it]\n"
     ]
    }
   ],
   "source": [
    "twarc_client = Twarc2(**CREDENTIALS_TWITTER_API)\n",
    "counts_per_month = twarc_client.counts_all(query=merge_query,\n",
    "                                           start_time=date_start,\n",
    "                                           end_time=date_end,\n",
    "                                           granularity='day')\n",
    "\n",
    "df_all = []\n",
    "for month_count in tqdm(counts_per_month): \n",
    "    df_all.append(pd.DataFrame(month_count['data']))\n",
    "    \n",
    "df_all = pd.concat(df_all)"
   ]
  },
  {
   "cell_type": "code",
   "execution_count": 70,
   "id": "outdoor-gates",
   "metadata": {},
   "outputs": [
    {
     "name": "stdout",
     "output_type": "stream",
     "text": [
      "Si se minaran lo que va del año 2022 se obtendrian 2654534 tweets\n"
     ]
    }
   ],
   "source": [
    "print(f\"Si se minaran lo que va del año 2022 se obtendrian {df_all['tweet_count'].sum()} tweets\")"
   ]
  },
  {
   "cell_type": "markdown",
   "id": "intensive-scheme",
   "metadata": {},
   "source": [
    " "
   ]
  },
  {
   "cell_type": "markdown",
   "id": "ranking-sympathy",
   "metadata": {},
   "source": [
    "Pero aún así se puede hacer el ejercicio de minar un par de dias"
   ]
  },
  {
   "cell_type": "code",
   "execution_count": 76,
   "id": "matched-soviet",
   "metadata": {},
   "outputs": [],
   "source": [
    "lst_queries = [merge_query]\n",
    "\n",
    "date_start = pendulum.datetime(year=2022, month=9, day=9)\n",
    "date_end = pendulum.datetime(year=2022, month=9, day=11)\n",
    "\n",
    "file_tweets = os.path.abspath(\"./archivos_queries/2_dataset.jsonl\")"
   ]
  },
  {
   "cell_type": "code",
   "execution_count": 77,
   "id": "present-century",
   "metadata": {},
   "outputs": [
    {
     "name": "stderr",
     "output_type": "stream",
     "text": [
      "  0%|          | 0/1 [00:00<?, ?it/s]caught 503 from Twitter API, sleeping 1\n",
      "caught 503 from Twitter API, sleeping 1\n",
      "100%|██████████| 1/1 [02:30<00:00, 150.47s/it]\n"
     ]
    }
   ],
   "source": [
    "get_tweets(credentials_api = CREDENTIALS_TWITTER_API,\n",
    "           queries_list = lst_queries,\n",
    "           output_file = file_tweets,\n",
    "           since_date = date_start, \n",
    "           until_date = date_end,\n",
    "           is_academic= IS_ACADEMIC)"
   ]
  },
  {
   "cell_type": "code",
   "execution_count": 78,
   "id": "concerned-cheese",
   "metadata": {},
   "outputs": [
    {
     "name": "stdout",
     "output_type": "stream",
     "text": [
      "13692 ./archivos_queries/2_dataset.jsonl\n"
     ]
    }
   ],
   "source": [
    "!wc -l ./archivos_queries/2_dataset.jsonl"
   ]
  },
  {
   "cell_type": "markdown",
   "id": "latest-deputy",
   "metadata": {},
   "source": [
    "- [ ] Añadir muestras de la conversación Xeno"
   ]
  }
 ],
 "metadata": {
  "kernelspec": {
   "display_name": "BID",
   "language": "python",
   "name": "bid"
  },
  "language_info": {
   "codemirror_mode": {
    "name": "ipython",
    "version": 3
   },
   "file_extension": ".py",
   "mimetype": "text/x-python",
   "name": "python",
   "nbconvert_exporter": "python",
   "pygments_lexer": "ipython3",
   "version": "3.8.10"
  }
 },
 "nbformat": 4,
 "nbformat_minor": 5
}
