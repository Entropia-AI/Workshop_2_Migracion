{
 "cells": [
  {
   "cell_type": "markdown",
   "metadata": {},
   "source": [
    "# Ajuste de hiperparámetros: Optimización Bayesiana\n",
    "\n",
    "En muchos algoritmos de inteligencia artificial, existen dos tipos de parámetros: aquellos que son inicializados aleatoriamente y pueden ser actualizados durante el entrenamiento y aquellos que no pueden ser estimados durante el entrenamiento sino que deben ser establecidos al inicio del proceso de aprendizaje, pues son parte de la configuración del modelo.\n",
    "Los parámetros no estimables se conocen como hiperparámetros.\n",
    "\n",
    "Los hiperparámetros son importantes pues pueden afectar el desempeño del modelo. Por ejemplo, en el caso de los árboles de decisión, el número de niveles de profundidad del árbol es un hiperparámetro. Si el árbol es muy profundo, puede sobreajustarse a los datos de entrenamiento, mientras que si es muy plano, puede no ser capaz de aprender patrones complejos. Por lo tanto, es importante encontrar el número óptimo de niveles de profundidad para el árbol.\n",
    "\n",
    "En este notebook, veremos cómo podemos ajustar los hiperparámetros de un modelo de aprendizaje automático utilizando la optimización bayesiana.\n",
    "\n",
    "La optimización bayesiana es un método de optimización que se basa en la teoría de la probabilidad. En lugar de probar todas las combinaciones de hiperparámetros, la optimización bayesiana utiliza un modelo probabilístico para estimar la probabilidad de qué combinación de hiperparámetros es la mejor. El modelo probabilístico se actualiza a medida que se prueban nuevas combinaciones de hiperparámetros, lo que permite que el algoritmo se centre en las combinaciones de hiperparámetros que tienen más probabilidades de ser las mejores."
   ]
  },
  {
   "cell_type": "code",
   "execution_count": null,
   "metadata": {},
   "outputs": [],
   "source": []
  }
 ],
 "metadata": {
  "kernelspec": {
   "display_name": "Python 3 (ipykernel)",
   "language": "python",
   "name": "python3"
  },
  "language_info": {
   "codemirror_mode": {
    "name": "ipython",
    "version": 3
   },
   "file_extension": ".py",
   "mimetype": "text/x-python",
   "name": "python",
   "nbconvert_exporter": "python",
   "pygments_lexer": "ipython3",
   "version": "3.9.13"
  },
  "vscode": {
   "interpreter": {
    "hash": "cad67f8f08b43f52430a6b8684b01d2984f30490bfa5827628ebc9dc8cbf0dc5"
   }
  }
 },
 "nbformat": 4,
 "nbformat_minor": 2
}
