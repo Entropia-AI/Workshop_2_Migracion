{
 "cells": [
  {
   "cell_type": "markdown",
   "id": "d21e1ee0",
   "metadata": {},
   "source": [
    "# Fairness Evaluation\n",
    "\n",
    " El desarrollo y uso responsable de modelos de inteligencia artificial es un tema de gran interés para los gobiernos, corporaciones y organizaciones internacionales ya que ésta se ha convertido en una herramienta de gran apoyo para una gran variedad de sectores. De acuerdo a [*Dignum, V.*](https://arxiv.org/abs/2205.10785) y [*Jobin, A., et. al.*](https://www.nature.com/articles/s42256-019-0088-2) las directrices éticas de las aplicaciones de la inteligencia artificial publicadas en más de 600 artículos por diversas organizaciones, convergen a cinco principios:\n",
    " * Transparencia: \n",
    " \n",
    "    Comprenden los esfuerzos para aumentar la explicabilidad, la interpretabilidad u otros actos de comunicación y divulgación. Se presenta como una forma de minimizar el daño y mejorar la IA, aunque algunas fuentes subrayan su beneficio por razones legales o para fomentar la confianza. Algunas fuentes también relacionan la transparencia con el diálogo, la participación y los principios de la democracia\n",
    "\n",
    "\n",
    " * Justicia y equidad:\n",
    "\n",
    "   La justicia se expresa principalmente en términos de equidad y de prevención, control o mitigación de prejuicios y discriminación no deseados. Algunas fuentes se centran en la justicia como respeto a la diversidad, la inclusión y la igualdad, otras reclaman la posibilidad de apelar o impugnar las decisiones, o el derecho a la reparación y el remedio. Las fuentes también destacan la importancia de un acceso justo a la IA, a los datos y a los beneficios de la IA.\n",
    "\n",
    "\n",
    " * No maleficiencia: \n",
    "\n",
    "    Se refiere a la necesidad de evitar los daños y los riesgos, o de prevenir y mitigar los daños y los riesgos no deseados. Se afirma que la IA nunca debe causar un daño previsible o involuntario.\n",
    "\n",
    "    \n",
    " * Responsabilidad:\n",
    " \n",
    "   La responsabilidad rara vez se define. No obstante, las recomendaciones específicas incluyen actuar con \"integridad\" y aclarar la atribución de responsabilidad y la responsabilidad legal si es posible por adelantado, en los contratos\n",
    "\n",
    "\n",
    " * Privacidad:\n",
    "\n",
    "    La IA ética considera la privacidad como un valor que hay que defender y como un derecho que hay que proteger. Aunque a menudo no se define, la privacidad se presenta a menudo en relación con la protección y seguridad de los datos.\n",
    "\n",
    "\n",
    "El principio de equidad puede evaluarse de forma cuantitativa a través de la segmentación de ciertos grupos de interés y las métricas precisión y exahustividad. Con el fin de evaluar la posible existencia de sesgo de equidad en la clasificación xenófoba se considerará la segmentación por país de los tweets pertenecientes al conjunto de prueba."
   ]
  },
  {
   "cell_type": "code",
   "execution_count": 1,
   "id": "e6ef1098",
   "metadata": {},
   "outputs": [],
   "source": [
    "#Imports\n",
    "\n",
    "#Data reading and procesing\n",
    "import pandas as pd\n",
    "import numpy as np\n",
    "\n",
    "#Data visualization\n",
    "import matplotlib.pyplot as plt\n",
    "import seaborn as sns\n",
    "import plotly.io as pio\n",
    "import plotly.express as px\n",
    "pio.templates.default = \"plotly_white\"\n",
    "from plotly.subplots import make_subplots\n",
    "\n",
    "#Metrics\n",
    "from sklearn.metrics import confusion_matrix\n",
    "from sklearn.metrics import classification_report as report\n",
    "\n",
    "#scikit-learn metrics\n",
    "from sklearn.metrics import classification_report"
   ]
  },
  {
   "cell_type": "markdown",
   "id": "1c33da69",
   "metadata": {},
   "source": [
    "### Lectura de datos\n",
    "\n",
    "Se cargará el archivo de datos `fairness_data.csv`, el cual contiene el texto de los tweets procesados, las etiquetas reales (xenófobos o no xenófobos), las etiquetas predichas por el modelo, así como el país de pertenencia de cada tweet. Si bien en este notebook no se utilizará la columna de texto, ésta fue utilizada para la predicción de las etiquetas. El conjunto de datos tal y como se propone tiene como objetivo evitar la reutilización de los códigos previamente utilizados para la predicción y procesamiento."
   ]
  },
  {
   "cell_type": "code",
   "execution_count": 2,
   "id": "e3f4ac13",
   "metadata": {},
   "outputs": [
    {
     "data": {
      "text/html": [
       "<div>\n",
       "<style scoped>\n",
       "    .dataframe tbody tr th:only-of-type {\n",
       "        vertical-align: middle;\n",
       "    }\n",
       "\n",
       "    .dataframe tbody tr th {\n",
       "        vertical-align: top;\n",
       "    }\n",
       "\n",
       "    .dataframe thead th {\n",
       "        text-align: right;\n",
       "    }\n",
       "</style>\n",
       "<table border=\"1\" class=\"dataframe\">\n",
       "  <thead>\n",
       "    <tr style=\"text-align: right;\">\n",
       "      <th></th>\n",
       "      <th>_id</th>\n",
       "      <th>text</th>\n",
       "      <th>date</th>\n",
       "      <th>label</th>\n",
       "      <th>predicted_xeno</th>\n",
       "      <th>xeno_probas</th>\n",
       "      <th>xeno_proba</th>\n",
       "      <th>a_code</th>\n",
       "    </tr>\n",
       "  </thead>\n",
       "  <tbody>\n",
       "    <tr>\n",
       "      <th>1870</th>\n",
       "      <td>1343973985667723264</td>\n",
       "      <td>¡Inmigrantes! Ahora tenemos nuevamente campame...</td>\n",
       "      <td>2021-08-30</td>\n",
       "      <td>1</td>\n",
       "      <td>0</td>\n",
       "      <td>[0.50035353 0.49964647]</td>\n",
       "      <td>0.500354</td>\n",
       "      <td>ND</td>\n",
       "    </tr>\n",
       "    <tr>\n",
       "      <th>1173</th>\n",
       "      <td>1353430950315778048</td>\n",
       "      <td>@usuario Y Fue un inmigrante..  hashtag sorry ...</td>\n",
       "      <td>2021-10-06</td>\n",
       "      <td>1</td>\n",
       "      <td>1</td>\n",
       "      <td>[0.4986857 0.5013143]</td>\n",
       "      <td>0.501314</td>\n",
       "      <td>SLV</td>\n",
       "    </tr>\n",
       "    <tr>\n",
       "      <th>851</th>\n",
       "      <td>1149298465308106752</td>\n",
       "      <td>@usuario No sea tan mentiroso Sr Bolivar, la H...</td>\n",
       "      <td>2021-11-30</td>\n",
       "      <td>1</td>\n",
       "      <td>0</td>\n",
       "      <td>[0.5021997 0.4978003]</td>\n",
       "      <td>0.502200</td>\n",
       "      <td>PAN</td>\n",
       "    </tr>\n",
       "    <tr>\n",
       "      <th>633</th>\n",
       "      <td>1142978044300353536</td>\n",
       "      <td>@usuario Bobolonga la decisión de pedir x tipo...</td>\n",
       "      <td>2021-11-21</td>\n",
       "      <td>0</td>\n",
       "      <td>0</td>\n",
       "      <td>[0.50235867 0.49764133]</td>\n",
       "      <td>0.502359</td>\n",
       "      <td>VEN</td>\n",
       "    </tr>\n",
       "    <tr>\n",
       "      <th>2011</th>\n",
       "      <td>1136778987353640960</td>\n",
       "      <td>@usuario La delincuencia aumenta a pasos galop...</td>\n",
       "      <td>2021-08-28</td>\n",
       "      <td>1</td>\n",
       "      <td>0</td>\n",
       "      <td>[0.50419359 0.49580641]</td>\n",
       "      <td>0.504194</td>\n",
       "      <td>PER</td>\n",
       "    </tr>\n",
       "    <tr>\n",
       "      <th>...</th>\n",
       "      <td>...</td>\n",
       "      <td>...</td>\n",
       "      <td>...</td>\n",
       "      <td>...</td>\n",
       "      <td>...</td>\n",
       "      <td>...</td>\n",
       "      <td>...</td>\n",
       "      <td>...</td>\n",
       "    </tr>\n",
       "    <tr>\n",
       "      <th>2826</th>\n",
       "      <td>1150262759038361600</td>\n",
       "      <td>Pobres y migrantes en su propia patria - Proce...</td>\n",
       "      <td>2021-11-11</td>\n",
       "      <td>0</td>\n",
       "      <td>0</td>\n",
       "      <td>[9.99942706e-01 5.72944453e-05]</td>\n",
       "      <td>0.999943</td>\n",
       "      <td>MEX</td>\n",
       "    </tr>\n",
       "    <tr>\n",
       "      <th>4037</th>\n",
       "      <td>1140036161836134400</td>\n",
       "      <td>Crisis en Venezuela: el \"récord\" de migrantes ...</td>\n",
       "      <td>2021-09-30</td>\n",
       "      <td>0</td>\n",
       "      <td>0</td>\n",
       "      <td>[9.99942927e-01 5.70726665e-05]</td>\n",
       "      <td>0.999943</td>\n",
       "      <td>MEX</td>\n",
       "    </tr>\n",
       "    <tr>\n",
       "      <th>3537</th>\n",
       "      <td>1195171098964430848</td>\n",
       "      <td>La huella digital de los migrantes venezolanos...</td>\n",
       "      <td>2021-11-25</td>\n",
       "      <td>0</td>\n",
       "      <td>0</td>\n",
       "      <td>[9.99944563e-01 5.54373318e-05]</td>\n",
       "      <td>0.999945</td>\n",
       "      <td>VEN</td>\n",
       "    </tr>\n",
       "    <tr>\n",
       "      <th>4179</th>\n",
       "      <td>1227333408881283072</td>\n",
       "      <td>Costo de la vida y limbo migratorio: Principal...</td>\n",
       "      <td>2021-10-17</td>\n",
       "      <td>0</td>\n",
       "      <td>0</td>\n",
       "      <td>[9.99946447e-01 5.35527554e-05]</td>\n",
       "      <td>0.999946</td>\n",
       "      <td>CHL</td>\n",
       "    </tr>\n",
       "    <tr>\n",
       "      <th>3183</th>\n",
       "      <td>1133406042644258816</td>\n",
       "      <td>Mujeres migrantes, negras, indígenas y pobres ...</td>\n",
       "      <td>2021-11-20</td>\n",
       "      <td>0</td>\n",
       "      <td>0</td>\n",
       "      <td>[9.99949972e-01 5.00277789e-05]</td>\n",
       "      <td>0.999950</td>\n",
       "      <td>CHL</td>\n",
       "    </tr>\n",
       "  </tbody>\n",
       "</table>\n",
       "<p>4889 rows × 8 columns</p>\n",
       "</div>"
      ],
      "text/plain": [
       "                      _id                                               text  \\\n",
       "1870  1343973985667723264  ¡Inmigrantes! Ahora tenemos nuevamente campame...   \n",
       "1173  1353430950315778048  @usuario Y Fue un inmigrante..  hashtag sorry ...   \n",
       "851   1149298465308106752  @usuario No sea tan mentiroso Sr Bolivar, la H...   \n",
       "633   1142978044300353536  @usuario Bobolonga la decisión de pedir x tipo...   \n",
       "2011  1136778987353640960  @usuario La delincuencia aumenta a pasos galop...   \n",
       "...                   ...                                                ...   \n",
       "2826  1150262759038361600  Pobres y migrantes en su propia patria - Proce...   \n",
       "4037  1140036161836134400  Crisis en Venezuela: el \"récord\" de migrantes ...   \n",
       "3537  1195171098964430848  La huella digital de los migrantes venezolanos...   \n",
       "4179  1227333408881283072  Costo de la vida y limbo migratorio: Principal...   \n",
       "3183  1133406042644258816  Mujeres migrantes, negras, indígenas y pobres ...   \n",
       "\n",
       "            date  label  predicted_xeno                      xeno_probas  \\\n",
       "1870  2021-08-30      1               0          [0.50035353 0.49964647]   \n",
       "1173  2021-10-06      1               1            [0.4986857 0.5013143]   \n",
       "851   2021-11-30      1               0            [0.5021997 0.4978003]   \n",
       "633   2021-11-21      0               0          [0.50235867 0.49764133]   \n",
       "2011  2021-08-28      1               0          [0.50419359 0.49580641]   \n",
       "...          ...    ...             ...                              ...   \n",
       "2826  2021-11-11      0               0  [9.99942706e-01 5.72944453e-05]   \n",
       "4037  2021-09-30      0               0  [9.99942927e-01 5.70726665e-05]   \n",
       "3537  2021-11-25      0               0  [9.99944563e-01 5.54373318e-05]   \n",
       "4179  2021-10-17      0               0  [9.99946447e-01 5.35527554e-05]   \n",
       "3183  2021-11-20      0               0  [9.99949972e-01 5.00277789e-05]   \n",
       "\n",
       "      xeno_proba a_code  \n",
       "1870    0.500354     ND  \n",
       "1173    0.501314    SLV  \n",
       "851     0.502200    PAN  \n",
       "633     0.502359    VEN  \n",
       "2011    0.504194    PER  \n",
       "...          ...    ...  \n",
       "2826    0.999943    MEX  \n",
       "4037    0.999943    MEX  \n",
       "3537    0.999945    VEN  \n",
       "4179    0.999946    CHL  \n",
       "3183    0.999950    CHL  \n",
       "\n",
       "[4889 rows x 8 columns]"
      ]
     },
     "execution_count": 2,
     "metadata": {},
     "output_type": "execute_result"
    }
   ],
   "source": [
    "#read and show processed data\n",
    "labeled_data = pd.read_csv('./assets/data/fairness_data.csv')\n",
    "labeled_data.replace(np.nan, 'ND', inplace=True)\n",
    "labeled_data.sort_values(by='xeno_proba')"
   ]
  },
  {
   "cell_type": "markdown",
   "id": "60b0cb8b",
   "metadata": {},
   "source": [
    "### Distribución porcentual de tweets por país\n",
    "\n",
    "Se procede a calcular la distribución de tweets por país y etiqueta, para lo cual se utilizará la función `groupby()` de la librería `pandas` para obtener el conteo de tweets por país. Se realizará un gráfico de barras para visualizar la distribución de tweets por país, esto con el fin de identificar la cantidad de muestras de evaluación disponibles."
   ]
  },
  {
   "cell_type": "code",
   "execution_count": 3,
   "id": "d0fc330d",
   "metadata": {},
   "outputs": [],
   "source": [
    "#data frame with label counts by country and type\n",
    "label_counts_country = labeled_data.groupby(['a_code']).label.value_counts().to_frame()\n",
    "label_counts_country.rename(columns={'label':'# Etiquetas'}, inplace=True)\n",
    "label_counts_country.reset_index(inplace=True)\n",
    "label_counts_country.rename(columns={'a_code':'País', 'label':'Tipo'}, inplace=True)\n",
    "label_counts_country.Tipo.replace({0:'No xenófobo', 1:'Xenófobo'}, inplace=True)"
   ]
  },
  {
   "cell_type": "code",
   "execution_count": 4,
   "id": "ae1078d8",
   "metadata": {},
   "outputs": [
    {
     "data": {
      "application/vnd.plotly.v1+json": {
       "config": {
        "plotlyServerURL": "https://plot.ly"
       },
       "data": [
        {
         "alignmentgroup": "True",
         "hovertemplate": "Tipo=No xenófobo<br>País=%{x}<br># Etiquetas=%{y}<extra></extra>",
         "legendgroup": "No xenófobo",
         "marker": {
          "color": "#1f77b4",
          "pattern": {
           "shape": ""
          }
         },
         "name": "No xenófobo",
         "offsetgroup": "No xenófobo",
         "orientation": "v",
         "showlegend": true,
         "textposition": "outside",
         "texttemplate": "%{y:percent}",
         "type": "bar",
         "x": [
          "ND",
          "MEX",
          "VEN",
          "CHL",
          "COL",
          "ARG",
          "PER",
          "ECU",
          "GTM",
          "PAN",
          "SLV",
          "HND",
          "URY",
          "DOM",
          "CRI",
          "BOL",
          "PRY",
          "BRA"
         ],
         "xaxis": "x",
         "y": [
          1244,
          625,
          616,
          394,
          316,
          159,
          139,
          95,
          60,
          50,
          43,
          41,
          35,
          26,
          24,
          14,
          9,
          8
         ],
         "yaxis": "y"
        },
        {
         "alignmentgroup": "True",
         "hovertemplate": "Tipo=Xenófobo<br>País=%{x}<br># Etiquetas=%{y}<extra></extra>",
         "legendgroup": "Xenófobo",
         "marker": {
          "color": "#FF2626",
          "pattern": {
           "shape": ""
          }
         },
         "name": "Xenófobo",
         "offsetgroup": "Xenófobo",
         "orientation": "v",
         "showlegend": true,
         "textposition": "outside",
         "texttemplate": "%{y:percent}",
         "type": "bar",
         "x": [
          "ND",
          "CHL",
          "COL",
          "MEX",
          "PER",
          "VEN",
          "ECU",
          "ARG",
          "PAN",
          "DOM",
          "BRA",
          "URY",
          "BOL",
          "SLV",
          "GTM",
          "PRY",
          "CRI"
         ],
         "xaxis": "x",
         "y": [
          504,
          140,
          108,
          72,
          45,
          43,
          26,
          22,
          11,
          5,
          4,
          3,
          2,
          2,
          2,
          1,
          1
         ],
         "yaxis": "y"
        }
       ],
       "layout": {
        "barmode": "group",
        "height": 800,
        "legend": {
         "title": {
          "text": "Tipo"
         },
         "tracegroupgap": 0
        },
        "template": {
         "data": {
          "bar": [
           {
            "error_x": {
             "color": "#2a3f5f"
            },
            "error_y": {
             "color": "#2a3f5f"
            },
            "marker": {
             "line": {
              "color": "white",
              "width": 0.5
             },
             "pattern": {
              "fillmode": "overlay",
              "size": 10,
              "solidity": 0.2
             }
            },
            "type": "bar"
           }
          ],
          "barpolar": [
           {
            "marker": {
             "line": {
              "color": "white",
              "width": 0.5
             },
             "pattern": {
              "fillmode": "overlay",
              "size": 10,
              "solidity": 0.2
             }
            },
            "type": "barpolar"
           }
          ],
          "carpet": [
           {
            "aaxis": {
             "endlinecolor": "#2a3f5f",
             "gridcolor": "#C8D4E3",
             "linecolor": "#C8D4E3",
             "minorgridcolor": "#C8D4E3",
             "startlinecolor": "#2a3f5f"
            },
            "baxis": {
             "endlinecolor": "#2a3f5f",
             "gridcolor": "#C8D4E3",
             "linecolor": "#C8D4E3",
             "minorgridcolor": "#C8D4E3",
             "startlinecolor": "#2a3f5f"
            },
            "type": "carpet"
           }
          ],
          "choropleth": [
           {
            "colorbar": {
             "outlinewidth": 0,
             "ticks": ""
            },
            "type": "choropleth"
           }
          ],
          "contour": [
           {
            "colorbar": {
             "outlinewidth": 0,
             "ticks": ""
            },
            "colorscale": [
             [
              0,
              "#0d0887"
             ],
             [
              0.1111111111111111,
              "#46039f"
             ],
             [
              0.2222222222222222,
              "#7201a8"
             ],
             [
              0.3333333333333333,
              "#9c179e"
             ],
             [
              0.4444444444444444,
              "#bd3786"
             ],
             [
              0.5555555555555556,
              "#d8576b"
             ],
             [
              0.6666666666666666,
              "#ed7953"
             ],
             [
              0.7777777777777778,
              "#fb9f3a"
             ],
             [
              0.8888888888888888,
              "#fdca26"
             ],
             [
              1,
              "#f0f921"
             ]
            ],
            "type": "contour"
           }
          ],
          "contourcarpet": [
           {
            "colorbar": {
             "outlinewidth": 0,
             "ticks": ""
            },
            "type": "contourcarpet"
           }
          ],
          "heatmap": [
           {
            "colorbar": {
             "outlinewidth": 0,
             "ticks": ""
            },
            "colorscale": [
             [
              0,
              "#0d0887"
             ],
             [
              0.1111111111111111,
              "#46039f"
             ],
             [
              0.2222222222222222,
              "#7201a8"
             ],
             [
              0.3333333333333333,
              "#9c179e"
             ],
             [
              0.4444444444444444,
              "#bd3786"
             ],
             [
              0.5555555555555556,
              "#d8576b"
             ],
             [
              0.6666666666666666,
              "#ed7953"
             ],
             [
              0.7777777777777778,
              "#fb9f3a"
             ],
             [
              0.8888888888888888,
              "#fdca26"
             ],
             [
              1,
              "#f0f921"
             ]
            ],
            "type": "heatmap"
           }
          ],
          "heatmapgl": [
           {
            "colorbar": {
             "outlinewidth": 0,
             "ticks": ""
            },
            "colorscale": [
             [
              0,
              "#0d0887"
             ],
             [
              0.1111111111111111,
              "#46039f"
             ],
             [
              0.2222222222222222,
              "#7201a8"
             ],
             [
              0.3333333333333333,
              "#9c179e"
             ],
             [
              0.4444444444444444,
              "#bd3786"
             ],
             [
              0.5555555555555556,
              "#d8576b"
             ],
             [
              0.6666666666666666,
              "#ed7953"
             ],
             [
              0.7777777777777778,
              "#fb9f3a"
             ],
             [
              0.8888888888888888,
              "#fdca26"
             ],
             [
              1,
              "#f0f921"
             ]
            ],
            "type": "heatmapgl"
           }
          ],
          "histogram": [
           {
            "marker": {
             "pattern": {
              "fillmode": "overlay",
              "size": 10,
              "solidity": 0.2
             }
            },
            "type": "histogram"
           }
          ],
          "histogram2d": [
           {
            "colorbar": {
             "outlinewidth": 0,
             "ticks": ""
            },
            "colorscale": [
             [
              0,
              "#0d0887"
             ],
             [
              0.1111111111111111,
              "#46039f"
             ],
             [
              0.2222222222222222,
              "#7201a8"
             ],
             [
              0.3333333333333333,
              "#9c179e"
             ],
             [
              0.4444444444444444,
              "#bd3786"
             ],
             [
              0.5555555555555556,
              "#d8576b"
             ],
             [
              0.6666666666666666,
              "#ed7953"
             ],
             [
              0.7777777777777778,
              "#fb9f3a"
             ],
             [
              0.8888888888888888,
              "#fdca26"
             ],
             [
              1,
              "#f0f921"
             ]
            ],
            "type": "histogram2d"
           }
          ],
          "histogram2dcontour": [
           {
            "colorbar": {
             "outlinewidth": 0,
             "ticks": ""
            },
            "colorscale": [
             [
              0,
              "#0d0887"
             ],
             [
              0.1111111111111111,
              "#46039f"
             ],
             [
              0.2222222222222222,
              "#7201a8"
             ],
             [
              0.3333333333333333,
              "#9c179e"
             ],
             [
              0.4444444444444444,
              "#bd3786"
             ],
             [
              0.5555555555555556,
              "#d8576b"
             ],
             [
              0.6666666666666666,
              "#ed7953"
             ],
             [
              0.7777777777777778,
              "#fb9f3a"
             ],
             [
              0.8888888888888888,
              "#fdca26"
             ],
             [
              1,
              "#f0f921"
             ]
            ],
            "type": "histogram2dcontour"
           }
          ],
          "mesh3d": [
           {
            "colorbar": {
             "outlinewidth": 0,
             "ticks": ""
            },
            "type": "mesh3d"
           }
          ],
          "parcoords": [
           {
            "line": {
             "colorbar": {
              "outlinewidth": 0,
              "ticks": ""
             }
            },
            "type": "parcoords"
           }
          ],
          "pie": [
           {
            "automargin": true,
            "type": "pie"
           }
          ],
          "scatter": [
           {
            "fillpattern": {
             "fillmode": "overlay",
             "size": 10,
             "solidity": 0.2
            },
            "type": "scatter"
           }
          ],
          "scatter3d": [
           {
            "line": {
             "colorbar": {
              "outlinewidth": 0,
              "ticks": ""
             }
            },
            "marker": {
             "colorbar": {
              "outlinewidth": 0,
              "ticks": ""
             }
            },
            "type": "scatter3d"
           }
          ],
          "scattercarpet": [
           {
            "marker": {
             "colorbar": {
              "outlinewidth": 0,
              "ticks": ""
             }
            },
            "type": "scattercarpet"
           }
          ],
          "scattergeo": [
           {
            "marker": {
             "colorbar": {
              "outlinewidth": 0,
              "ticks": ""
             }
            },
            "type": "scattergeo"
           }
          ],
          "scattergl": [
           {
            "marker": {
             "colorbar": {
              "outlinewidth": 0,
              "ticks": ""
             }
            },
            "type": "scattergl"
           }
          ],
          "scattermapbox": [
           {
            "marker": {
             "colorbar": {
              "outlinewidth": 0,
              "ticks": ""
             }
            },
            "type": "scattermapbox"
           }
          ],
          "scatterpolar": [
           {
            "marker": {
             "colorbar": {
              "outlinewidth": 0,
              "ticks": ""
             }
            },
            "type": "scatterpolar"
           }
          ],
          "scatterpolargl": [
           {
            "marker": {
             "colorbar": {
              "outlinewidth": 0,
              "ticks": ""
             }
            },
            "type": "scatterpolargl"
           }
          ],
          "scatterternary": [
           {
            "marker": {
             "colorbar": {
              "outlinewidth": 0,
              "ticks": ""
             }
            },
            "type": "scatterternary"
           }
          ],
          "surface": [
           {
            "colorbar": {
             "outlinewidth": 0,
             "ticks": ""
            },
            "colorscale": [
             [
              0,
              "#0d0887"
             ],
             [
              0.1111111111111111,
              "#46039f"
             ],
             [
              0.2222222222222222,
              "#7201a8"
             ],
             [
              0.3333333333333333,
              "#9c179e"
             ],
             [
              0.4444444444444444,
              "#bd3786"
             ],
             [
              0.5555555555555556,
              "#d8576b"
             ],
             [
              0.6666666666666666,
              "#ed7953"
             ],
             [
              0.7777777777777778,
              "#fb9f3a"
             ],
             [
              0.8888888888888888,
              "#fdca26"
             ],
             [
              1,
              "#f0f921"
             ]
            ],
            "type": "surface"
           }
          ],
          "table": [
           {
            "cells": {
             "fill": {
              "color": "#EBF0F8"
             },
             "line": {
              "color": "white"
             }
            },
            "header": {
             "fill": {
              "color": "#C8D4E3"
             },
             "line": {
              "color": "white"
             }
            },
            "type": "table"
           }
          ]
         },
         "layout": {
          "annotationdefaults": {
           "arrowcolor": "#2a3f5f",
           "arrowhead": 0,
           "arrowwidth": 1
          },
          "autotypenumbers": "strict",
          "coloraxis": {
           "colorbar": {
            "outlinewidth": 0,
            "ticks": ""
           }
          },
          "colorscale": {
           "diverging": [
            [
             0,
             "#8e0152"
            ],
            [
             0.1,
             "#c51b7d"
            ],
            [
             0.2,
             "#de77ae"
            ],
            [
             0.3,
             "#f1b6da"
            ],
            [
             0.4,
             "#fde0ef"
            ],
            [
             0.5,
             "#f7f7f7"
            ],
            [
             0.6,
             "#e6f5d0"
            ],
            [
             0.7,
             "#b8e186"
            ],
            [
             0.8,
             "#7fbc41"
            ],
            [
             0.9,
             "#4d9221"
            ],
            [
             1,
             "#276419"
            ]
           ],
           "sequential": [
            [
             0,
             "#0d0887"
            ],
            [
             0.1111111111111111,
             "#46039f"
            ],
            [
             0.2222222222222222,
             "#7201a8"
            ],
            [
             0.3333333333333333,
             "#9c179e"
            ],
            [
             0.4444444444444444,
             "#bd3786"
            ],
            [
             0.5555555555555556,
             "#d8576b"
            ],
            [
             0.6666666666666666,
             "#ed7953"
            ],
            [
             0.7777777777777778,
             "#fb9f3a"
            ],
            [
             0.8888888888888888,
             "#fdca26"
            ],
            [
             1,
             "#f0f921"
            ]
           ],
           "sequentialminus": [
            [
             0,
             "#0d0887"
            ],
            [
             0.1111111111111111,
             "#46039f"
            ],
            [
             0.2222222222222222,
             "#7201a8"
            ],
            [
             0.3333333333333333,
             "#9c179e"
            ],
            [
             0.4444444444444444,
             "#bd3786"
            ],
            [
             0.5555555555555556,
             "#d8576b"
            ],
            [
             0.6666666666666666,
             "#ed7953"
            ],
            [
             0.7777777777777778,
             "#fb9f3a"
            ],
            [
             0.8888888888888888,
             "#fdca26"
            ],
            [
             1,
             "#f0f921"
            ]
           ]
          },
          "colorway": [
           "#636efa",
           "#EF553B",
           "#00cc96",
           "#ab63fa",
           "#FFA15A",
           "#19d3f3",
           "#FF6692",
           "#B6E880",
           "#FF97FF",
           "#FECB52"
          ],
          "font": {
           "color": "#2a3f5f"
          },
          "geo": {
           "bgcolor": "white",
           "lakecolor": "white",
           "landcolor": "white",
           "showlakes": true,
           "showland": true,
           "subunitcolor": "#C8D4E3"
          },
          "hoverlabel": {
           "align": "left"
          },
          "hovermode": "closest",
          "mapbox": {
           "style": "light"
          },
          "paper_bgcolor": "white",
          "plot_bgcolor": "white",
          "polar": {
           "angularaxis": {
            "gridcolor": "#EBF0F8",
            "linecolor": "#EBF0F8",
            "ticks": ""
           },
           "bgcolor": "white",
           "radialaxis": {
            "gridcolor": "#EBF0F8",
            "linecolor": "#EBF0F8",
            "ticks": ""
           }
          },
          "scene": {
           "xaxis": {
            "backgroundcolor": "white",
            "gridcolor": "#DFE8F3",
            "gridwidth": 2,
            "linecolor": "#EBF0F8",
            "showbackground": true,
            "ticks": "",
            "zerolinecolor": "#EBF0F8"
           },
           "yaxis": {
            "backgroundcolor": "white",
            "gridcolor": "#DFE8F3",
            "gridwidth": 2,
            "linecolor": "#EBF0F8",
            "showbackground": true,
            "ticks": "",
            "zerolinecolor": "#EBF0F8"
           },
           "zaxis": {
            "backgroundcolor": "white",
            "gridcolor": "#DFE8F3",
            "gridwidth": 2,
            "linecolor": "#EBF0F8",
            "showbackground": true,
            "ticks": "",
            "zerolinecolor": "#EBF0F8"
           }
          },
          "shapedefaults": {
           "line": {
            "color": "#2a3f5f"
           }
          },
          "ternary": {
           "aaxis": {
            "gridcolor": "#DFE8F3",
            "linecolor": "#A2B1C6",
            "ticks": ""
           },
           "baxis": {
            "gridcolor": "#DFE8F3",
            "linecolor": "#A2B1C6",
            "ticks": ""
           },
           "bgcolor": "white",
           "caxis": {
            "gridcolor": "#DFE8F3",
            "linecolor": "#A2B1C6",
            "ticks": ""
           }
          },
          "title": {
           "x": 0.05
          },
          "xaxis": {
           "automargin": true,
           "gridcolor": "#EBF0F8",
           "linecolor": "#EBF0F8",
           "ticks": "",
           "title": {
            "standoff": 15
           },
           "zerolinecolor": "#EBF0F8",
           "zerolinewidth": 2
          },
          "yaxis": {
           "automargin": true,
           "gridcolor": "#EBF0F8",
           "linecolor": "#EBF0F8",
           "ticks": "",
           "title": {
            "standoff": 15
           },
           "zerolinecolor": "#EBF0F8",
           "zerolinewidth": 2
          }
         }
        },
        "title": {
         "text": "Distribución de etiquetas por país y tipo en el conjunto de prueba"
        },
        "width": 1400,
        "xaxis": {
         "anchor": "y",
         "domain": [
          0,
          1
         ],
         "title": {
          "text": "País"
         }
        },
        "yaxis": {
         "anchor": "x",
         "domain": [
          0,
          1
         ],
         "title": {
          "text": "# Etiquetas"
         }
        }
       }
      }
     },
     "metadata": {},
     "output_type": "display_data"
    }
   ],
   "source": [
    "#data visualization\n",
    "fig = px.bar(label_counts_country.sort_values(by=['# Etiquetas'], ascending=False), x='País', y='# Etiquetas', color='Tipo', text_auto='percent', barmode='group', \n",
    "    title='Distribución de etiquetas por país y tipo en el conjunto de prueba', color_discrete_map={'No xenófobo':'#1f77b4', 'Xenófobo':'#FF2626'},\n",
    "    width=1400, height=800)\n",
    "fig.update_traces(textposition='outside')\n",
    "fig.show()"
   ]
  },
  {
   "cell_type": "markdown",
   "id": "dadc671a",
   "metadata": {},
   "source": [
    "### Evaluación de métricas por país\n",
    "\n",
    "La evaluación de equidad requiere únicamente de obtener las métricas evaluación del modelo por cada sector. Para este caso los sectores de interés serán los países de origen de los tweets. \n",
    "\n",
    "Diremos que un modelo es equitativo si las métricas de evaluación son similares para todos los sectores.\n",
    "\n",
    "Calculemos ahora las métricas de evaluación para el país Colombia. Posteriormente se generará una función que permita calcular las métricas de evaluación para todos los países."
   ]
  },
  {
   "cell_type": "code",
   "execution_count": 6,
   "id": "5e1b5d95",
   "metadata": {},
   "outputs": [
    {
     "name": "stdout",
     "output_type": "stream",
     "text": [
      "              precision    recall  f1-score   support\n",
      "\n",
      " No xenófobo     0.8886    0.9335    0.9105       316\n",
      "    Xenófobo     0.7717    0.6574    0.7100       108\n",
      "\n",
      "    accuracy                         0.8632       424\n",
      "   macro avg     0.8301    0.7955    0.8102       424\n",
      "weighted avg     0.8588    0.8632    0.8594       424\n",
      "\n"
     ]
    }
   ],
   "source": [
    "#Get data from Colombia\n",
    "colombia_data = labeled_data[labeled_data.a_code == 'COL']\n",
    "colombia_data.reset_index(inplace=True, drop=True)\n",
    "\n",
    "#print metrics for Colombia data through classification_report function\n",
    "print(classification_report(y_true = colombia_data.label.to_list(), \n",
    "                                y_pred = colombia_data.predicted_xeno.to_list(),\n",
    "                                target_names=['No xenófobo', 'Xenófobo'], digits=4))"
   ]
  },
  {
   "cell_type": "markdown",
   "id": "a31ffd27",
   "metadata": {},
   "source": [
    "Construyamos ahora una función que permita calcular e imprimir las métricas de evaluación para un conjunto de países. Este conjunto puede ser definido por el usuario."
   ]
  },
  {
   "cell_type": "code",
   "execution_count": 7,
   "id": "54221a7c",
   "metadata": {},
   "outputs": [],
   "source": [
    "def print_report(test_data, country_list):\n",
    "    \"\"\"_summary_: Function to print metrics for each country in a list\n",
    "\n",
    "    Args:\n",
    "        test_data (pd.DataFrame): data frame with test labels, predictions and country codes\n",
    "        country_list (list): list of country codes to print metrics for\n",
    "    \"\"\"\n",
    "    for country in country_list:\n",
    "        country_data = test_data[test_data.a_code == country]\n",
    "        country_data.reset_index(inplace=True, drop=True)\n",
    "        print('Código del país: ', country)\n",
    "        print(classification_report(y_true = country_data.label.to_list(), \n",
    "                                y_pred = country_data.predicted_xeno.to_list(),\n",
    "                                target_names=['No xenófobo', 'Xenófobo'], digits=4))\n",
    "        print('-'*60)"
   ]
  },
  {
   "cell_type": "code",
   "execution_count": 12,
   "id": "69d5407f",
   "metadata": {},
   "outputs": [
    {
     "name": "stdout",
     "output_type": "stream",
     "text": [
      "Código del país:  ND\n",
      "              precision    recall  f1-score   support\n",
      "\n",
      " No xenófobo     0.9220    0.8931    0.9073      1244\n",
      "    Xenófobo     0.7551    0.8135    0.7832       504\n",
      "\n",
      "    accuracy                         0.8701      1748\n",
      "   macro avg     0.8385    0.8533    0.8452      1748\n",
      "weighted avg     0.8739    0.8701    0.8715      1748\n",
      "\n",
      "------------------------------------------------------------\n",
      "Código del país:  ECU\n",
      "              precision    recall  f1-score   support\n",
      "\n",
      " No xenófobo     0.9479    0.9579    0.9529        95\n",
      "    Xenófobo     0.8400    0.8077    0.8235        26\n",
      "\n",
      "    accuracy                         0.9256       121\n",
      "   macro avg     0.8940    0.8828    0.8882       121\n",
      "weighted avg     0.9247    0.9256    0.9251       121\n",
      "\n",
      "------------------------------------------------------------\n",
      "Código del país:  ARG\n",
      "              precision    recall  f1-score   support\n",
      "\n",
      " No xenófobo     0.9286    0.8994    0.9137       159\n",
      "    Xenófobo     0.4074    0.5000    0.4490        22\n",
      "\n",
      "    accuracy                         0.8508       181\n",
      "   macro avg     0.6680    0.6997    0.6814       181\n",
      "weighted avg     0.8652    0.8508    0.8572       181\n",
      "\n",
      "------------------------------------------------------------\n",
      "Código del país:  COL\n",
      "              precision    recall  f1-score   support\n",
      "\n",
      " No xenófobo     0.8886    0.9335    0.9105       316\n",
      "    Xenófobo     0.7717    0.6574    0.7100       108\n",
      "\n",
      "    accuracy                         0.8632       424\n",
      "   macro avg     0.8301    0.7955    0.8102       424\n",
      "weighted avg     0.8588    0.8632    0.8594       424\n",
      "\n",
      "------------------------------------------------------------\n",
      "Código del país:  CHL\n",
      "              precision    recall  f1-score   support\n",
      "\n",
      " No xenófobo     0.9251    0.8782    0.9010       394\n",
      "    Xenófobo     0.7000    0.8000    0.7467       140\n",
      "\n",
      "    accuracy                         0.8577       534\n",
      "   macro avg     0.8126    0.8391    0.8239       534\n",
      "weighted avg     0.8661    0.8577    0.8606       534\n",
      "\n",
      "------------------------------------------------------------\n"
     ]
    }
   ],
   "source": [
    "print_report(labeled_data, ['ND', 'ECU', 'ARG', 'COL', 'CHL'])"
   ]
  },
  {
   "cell_type": "markdown",
   "id": "b153ac6e",
   "metadata": {},
   "source": [
    "Las métricas de evaluación para cada país se muestran en la celda superior, donde notamos poca variación con respecto al valor-F de la clase no xenófoba. Sin embargo, la variación llega a ser significativa para la clase xenófoba. Esto puede deberse a que la cantidad de tweets xenófobos en el conjunto de prueba es muy pequeña para algunos países como Argentina y Ecuador. Ambos ejemplos ofrecen polos opuestos; parra argentina los valores de precisión y exhaustividad para la clase xenófoba son muy bajos, mientras que para Ecuador los valores son altos. Una posible respuesta a esta problemática está relacionada con la cantidad de etiquetas de clase xenófoba, ya que se podrían sobre- y des-estimar las métricas de evaluación.\n",
    "Notemos que para los países con mayor cantidad de muestras de la clase xenófoba; Chile, Colombia y ND las métricas de evaluación son similares.\n",
    "Aún con estas similitudes, las pequeñas variaciones muestran que el modelo presenta una pequeña inequidad. Lo cual podría deberse a que el modelo fue entrenado con un conjunto de datos que no estaba distribuida uniformemente por país generandose sesgos de equidad.\n",
    "\n",
    "Parra ajustar la equidad del modelo deben agragarse más muestras etiquetadas de ambas clases para los países con menor cantidad de muestras a los conjuntos de entrenamiento y prueba. Habiendo conocido el método de active learning, podría buscarse una combianación de ambos para mejorar el modelo en general y la equidad en particular.\n",
    "\n"
   ]
  }
 ],
 "metadata": {
  "kernelspec": {
   "display_name": "Python 3.9.13 ('bid')",
   "language": "python",
   "name": "python3"
  },
  "language_info": {
   "codemirror_mode": {
    "name": "ipython",
    "version": 3
   },
   "file_extension": ".py",
   "mimetype": "text/x-python",
   "name": "python",
   "nbconvert_exporter": "python",
   "pygments_lexer": "ipython3",
   "version": "3.9.13"
  },
  "vscode": {
   "interpreter": {
    "hash": "cad67f8f08b43f52430a6b8684b01d2984f30490bfa5827628ebc9dc8cbf0dc5"
   }
  }
 },
 "nbformat": 4,
 "nbformat_minor": 5
}
