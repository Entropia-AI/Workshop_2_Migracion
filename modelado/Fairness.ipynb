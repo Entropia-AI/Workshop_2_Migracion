{
 "cells": [
  {
   "cell_type": "markdown",
   "id": "d21e1ee0",
   "metadata": {},
   "source": [
    "# Fairness Evaluation\n",
    "\n",
    " El desarrollo y uso responsable de modelos de inteligencia artificial es un tema de gran interés para los gobiernos, corporaciones y organizaciones internacionales ya que ésta se ha convertido en una herramienta de gran apoyo para una gran variedad de sectores. De acuerdo a [*Dignum, V.*](https://arxiv.org/abs/2205.10785) y [*Jobin, A., et. al.*](https://www.nature.com/articles/s42256-019-0088-2) las directrices éticas de las aplicaciones de la inteligencia artificial publicadas en más de 600 artículos por diversas organizaciones, convergen a cinco principios:\n",
    " * Transparencia: \n",
    " \n",
    "    Comprenden los esfuerzos para aumentar la explicabilidad, la interpretabilidad u otros actos de comunicación y divulgación. Se presenta como una forma de minimizar el daño y mejorar la IA, aunque algunas fuentes subrayan su beneficio por razones legales o para fomentar la confianza. Algunas fuentes también relacionan la transparencia con el diálogo, la participación y los principios de la democracia\n",
    "\n",
    "\n",
    " * Justicia y equidad:\n",
    "\n",
    "   La justicia se expresa principalmente en términos de equidad y de prevención, control o mitigación de prejuicios y discriminación no deseados. Algunas fuentes se centran en la justicia como respeto a la diversidad, la inclusión y la igualdad, otras reclaman la posibilidad de apelar o impugnar las decisiones, o el derecho a la reparación y el remedio. Las fuentes también destacan la importancia de un acceso justo a la IA, a los datos y a los beneficios de la IA.\n",
    "\n",
    "\n",
    " * No maleficiencia: \n",
    "\n",
    "    Se refiere a la necesidad de evitar los daños y los riesgos, o de prevenir y mitigar los daños y los riesgos no deseados. Se afirma que la IA nunca debe causar un daño previsible o involuntario.\n",
    "\n",
    "    \n",
    " * Responsabilidad:\n",
    " \n",
    "   La responsabilidad rara vez se define. No obstante, las recomendaciones específicas incluyen actuar con \"integridad\" y aclarar la atribución de responsabilidad y la responsabilidad legal si es posible por adelantado, en los contratos\n",
    "\n",
    "\n",
    " * Privacidad:\n",
    "\n",
    "    La IA ética considera la privacidad como un valor que hay que defender y como un derecho que hay que proteger. Aunque a menudo no se define, la privacidad se presenta a menudo en relación con la protección y seguridad de los datos.\n",
    "\n",
    "\n",
    "El principio de equidad puede evaluarse de forma cuantitativa a través de la segmentación de ciertos grupos de interés y las métricas precisión y exahustividad. Con el fin de evaluar la posible existencia de sesgo de equidad en la clasificación xenófoba se considerará la segmentación por país de los tweets pertenecientes al conjunto de prueba."
   ]
  },
  {
   "cell_type": "code",
   "execution_count": null,
   "id": "e6ef1098",
   "metadata": {},
   "outputs": [],
   "source": [
    "import pandas as pd\n",
    "import numpy as np\n",
    "import matplotlib.pyplot as plt\n",
    "import seaborn as sns\n",
    "from sklearn.metrics import confusion_matrix\n",
    "import plotly.express as px\n",
    "import plotly.graph_objects as go\n",
    "from plotly.subplots import make_subplots\n",
    "from sklearn.metrics import classification_report as report"
   ]
  },
  {
   "cell_type": "code",
   "execution_count": 2,
   "id": "e3f4ac13",
   "metadata": {},
   "outputs": [],
   "source": [
    "labeled_data = pd.read_parquet('merged_test_mongo04jul22.parquet')\n",
    "labeled_data._id = labeled_data._id.astype(int)"
   ]
  },
  {
   "cell_type": "code",
   "execution_count": 3,
   "id": "e074129a",
   "metadata": {},
   "outputs": [
    {
     "data": {
      "text/plain": [
       "True     4909\n",
       "False     806\n",
       "Name: is_mig, dtype: int64"
      ]
     },
     "execution_count": 3,
     "metadata": {},
     "output_type": "execute_result"
    }
   ],
   "source": [
    "labeled_data.is_mig.value_counts()"
   ]
  },
  {
   "cell_type": "code",
   "execution_count": 4,
   "id": "3704a339",
   "metadata": {},
   "outputs": [
    {
     "data": {
      "text/plain": [
       "MEX    697\n",
       "VEN    659\n",
       "CHL    534\n",
       "COL    424\n",
       "PER    184\n",
       "ARG    181\n",
       "ECU    121\n",
       "GTM     62\n",
       "PAN     61\n",
       "SLV     45\n",
       "HND     41\n",
       "URY     38\n",
       "DOM     31\n",
       "CRI     25\n",
       "BOL     16\n",
       "BRA     12\n",
       "PRY     10\n",
       "GUY      9\n",
       "NIC      8\n",
       "BLZ      1\n",
       "JAM      1\n",
       "USA      1\n",
       "Name: a_code, dtype: int64"
      ]
     },
     "execution_count": 4,
     "metadata": {},
     "output_type": "execute_result"
    }
   ],
   "source": [
    "labeled_data.a_code.value_counts()"
   ]
  },
  {
   "cell_type": "code",
   "execution_count": 12,
   "id": "0be8e70d",
   "metadata": {},
   "outputs": [
    {
     "data": {
      "text/html": [
       "<div>\n",
       "<style scoped>\n",
       "    .dataframe tbody tr th:only-of-type {\n",
       "        vertical-align: middle;\n",
       "    }\n",
       "\n",
       "    .dataframe tbody tr th {\n",
       "        vertical-align: top;\n",
       "    }\n",
       "\n",
       "    .dataframe thead th {\n",
       "        text-align: right;\n",
       "    }\n",
       "</style>\n",
       "<table border=\"1\" class=\"dataframe\">\n",
       "  <thead>\n",
       "    <tr style=\"text-align: right;\">\n",
       "      <th></th>\n",
       "      <th>_id</th>\n",
       "      <th>text</th>\n",
       "      <th>date</th>\n",
       "      <th>label</th>\n",
       "      <th>predicted_xeno</th>\n",
       "      <th>xeno_probas</th>\n",
       "      <th>xeno_proba</th>\n",
       "      <th>a_code</th>\n",
       "      <th>is_mig</th>\n",
       "    </tr>\n",
       "  </thead>\n",
       "  <tbody>\n",
       "    <tr>\n",
       "      <th>0</th>\n",
       "      <td>1234917304883765248</td>\n",
       "      <td>@usuario Chorrillos, zona liberada de delincue...</td>\n",
       "      <td>2021-10-22</td>\n",
       "      <td>1</td>\n",
       "      <td>1</td>\n",
       "      <td>[0.00042599125624483966, 0.9995740087437551]</td>\n",
       "      <td>0.999574</td>\n",
       "      <td>None</td>\n",
       "      <td>True</td>\n",
       "    </tr>\n",
       "    <tr>\n",
       "      <th>3</th>\n",
       "      <td>1301350292341039104</td>\n",
       "      <td>@usuario @usuario @usuario @usuario debe cuida...</td>\n",
       "      <td>2021-07-22</td>\n",
       "      <td>1</td>\n",
       "      <td>1</td>\n",
       "      <td>[0.01774644115595672, 0.9822535588440433]</td>\n",
       "      <td>0.982254</td>\n",
       "      <td>None</td>\n",
       "      <td>True</td>\n",
       "    </tr>\n",
       "    <tr>\n",
       "      <th>4</th>\n",
       "      <td>1368124417679720448</td>\n",
       "      <td>@usuario @usuario @usuario Voto sí, si se esta...</td>\n",
       "      <td>2021-10-11</td>\n",
       "      <td>1</td>\n",
       "      <td>1</td>\n",
       "      <td>[0.001380022786645687, 0.9986199772133543]</td>\n",
       "      <td>0.998620</td>\n",
       "      <td>None</td>\n",
       "      <td>True</td>\n",
       "    </tr>\n",
       "    <tr>\n",
       "      <th>7</th>\n",
       "      <td>1186452316586680320</td>\n",
       "      <td>@usuario Lamentando que unos delincuentes mane...</td>\n",
       "      <td>2021-08-27</td>\n",
       "      <td>0</td>\n",
       "      <td>1</td>\n",
       "      <td>[0.22405179645682916, 0.7759482035431708]</td>\n",
       "      <td>0.775948</td>\n",
       "      <td>None</td>\n",
       "      <td>False</td>\n",
       "    </tr>\n",
       "    <tr>\n",
       "      <th>8</th>\n",
       "      <td>1234832015414976512</td>\n",
       "      <td>@usuario Me imagino que de las manadas de inmi...</td>\n",
       "      <td>2021-09-04</td>\n",
       "      <td>0</td>\n",
       "      <td>0</td>\n",
       "      <td>[0.9873672824689208, 0.012632717531079316]</td>\n",
       "      <td>0.987367</td>\n",
       "      <td>None</td>\n",
       "      <td>True</td>\n",
       "    </tr>\n",
       "    <tr>\n",
       "      <th>...</th>\n",
       "      <td>...</td>\n",
       "      <td>...</td>\n",
       "      <td>...</td>\n",
       "      <td>...</td>\n",
       "      <td>...</td>\n",
       "      <td>...</td>\n",
       "      <td>...</td>\n",
       "      <td>...</td>\n",
       "      <td>...</td>\n",
       "    </tr>\n",
       "    <tr>\n",
       "      <th>5702</th>\n",
       "      <td>1306657297310113792</td>\n",
       "      <td>@usuario @usuario @usuario Lo peor es que ese ...</td>\n",
       "      <td>2021-09-03</td>\n",
       "      <td>1</td>\n",
       "      <td>0</td>\n",
       "      <td>[0.9311318930899787, 0.06886810691002132]</td>\n",
       "      <td>0.931132</td>\n",
       "      <td>None</td>\n",
       "      <td>False</td>\n",
       "    </tr>\n",
       "    <tr>\n",
       "      <th>5704</th>\n",
       "      <td>1211616197202063360</td>\n",
       "      <td>@usuario Van a aparecer los pro inmigración ir...</td>\n",
       "      <td>2021-07-28</td>\n",
       "      <td>0</td>\n",
       "      <td>1</td>\n",
       "      <td>[0.005176695114690365, 0.9948233048853097]</td>\n",
       "      <td>0.994823</td>\n",
       "      <td>None</td>\n",
       "      <td>True</td>\n",
       "    </tr>\n",
       "    <tr>\n",
       "      <th>5705</th>\n",
       "      <td>1133745808883539968</td>\n",
       "      <td>Lo mismo he pensado siempre ,vi ese vídeo y la...</td>\n",
       "      <td>2021-07-07</td>\n",
       "      <td>0</td>\n",
       "      <td>0</td>\n",
       "      <td>[0.66300054464247, 0.33699945535752995]</td>\n",
       "      <td>0.663001</td>\n",
       "      <td>None</td>\n",
       "      <td>True</td>\n",
       "    </tr>\n",
       "    <tr>\n",
       "      <th>5713</th>\n",
       "      <td>1220365934247825408</td>\n",
       "      <td>@usuario @usuario @usuario  url  MATAD. MATADL...</td>\n",
       "      <td>2021-08-05</td>\n",
       "      <td>0</td>\n",
       "      <td>1</td>\n",
       "      <td>[0.346095757607996, 0.6539042423920041]</td>\n",
       "      <td>0.653904</td>\n",
       "      <td>None</td>\n",
       "      <td>True</td>\n",
       "    </tr>\n",
       "    <tr>\n",
       "      <th>5714</th>\n",
       "      <td>1377433043229569024</td>\n",
       "      <td>@usuario ¿Qué acciones han emprendido desde es...</td>\n",
       "      <td>2021-09-03</td>\n",
       "      <td>1</td>\n",
       "      <td>0</td>\n",
       "      <td>[0.755588631409292, 0.24441136859070808]</td>\n",
       "      <td>0.755589</td>\n",
       "      <td>None</td>\n",
       "      <td>True</td>\n",
       "    </tr>\n",
       "  </tbody>\n",
       "</table>\n",
       "<p>2554 rows × 9 columns</p>\n",
       "</div>"
      ],
      "text/plain": [
       "                      _id                                               text  \\\n",
       "0     1234917304883765248  @usuario Chorrillos, zona liberada de delincue...   \n",
       "3     1301350292341039104  @usuario @usuario @usuario @usuario debe cuida...   \n",
       "4     1368124417679720448  @usuario @usuario @usuario Voto sí, si se esta...   \n",
       "7     1186452316586680320  @usuario Lamentando que unos delincuentes mane...   \n",
       "8     1234832015414976512  @usuario Me imagino que de las manadas de inmi...   \n",
       "...                   ...                                                ...   \n",
       "5702  1306657297310113792  @usuario @usuario @usuario Lo peor es que ese ...   \n",
       "5704  1211616197202063360  @usuario Van a aparecer los pro inmigración ir...   \n",
       "5705  1133745808883539968  Lo mismo he pensado siempre ,vi ese vídeo y la...   \n",
       "5713  1220365934247825408  @usuario @usuario @usuario  url  MATAD. MATADL...   \n",
       "5714  1377433043229569024  @usuario ¿Qué acciones han emprendido desde es...   \n",
       "\n",
       "           date  label  predicted_xeno  \\\n",
       "0    2021-10-22      1               1   \n",
       "3    2021-07-22      1               1   \n",
       "4    2021-10-11      1               1   \n",
       "7    2021-08-27      0               1   \n",
       "8    2021-09-04      0               0   \n",
       "...         ...    ...             ...   \n",
       "5702 2021-09-03      1               0   \n",
       "5704 2021-07-28      0               1   \n",
       "5705 2021-07-07      0               0   \n",
       "5713 2021-08-05      0               1   \n",
       "5714 2021-09-03      1               0   \n",
       "\n",
       "                                       xeno_probas  xeno_proba a_code  is_mig  \n",
       "0     [0.00042599125624483966, 0.9995740087437551]    0.999574   None    True  \n",
       "3        [0.01774644115595672, 0.9822535588440433]    0.982254   None    True  \n",
       "4       [0.001380022786645687, 0.9986199772133543]    0.998620   None    True  \n",
       "7        [0.22405179645682916, 0.7759482035431708]    0.775948   None   False  \n",
       "8       [0.9873672824689208, 0.012632717531079316]    0.987367   None    True  \n",
       "...                                            ...         ...    ...     ...  \n",
       "5702     [0.9311318930899787, 0.06886810691002132]    0.931132   None   False  \n",
       "5704    [0.005176695114690365, 0.9948233048853097]    0.994823   None    True  \n",
       "5705       [0.66300054464247, 0.33699945535752995]    0.663001   None    True  \n",
       "5713       [0.346095757607996, 0.6539042423920041]    0.653904   None    True  \n",
       "5714      [0.755588631409292, 0.24441136859070808]    0.755589   None    True  \n",
       "\n",
       "[2554 rows x 9 columns]"
      ]
     },
     "execution_count": 12,
     "metadata": {},
     "output_type": "execute_result"
    }
   ],
   "source": [
    "labeled_data[labeled_data.a_code.isna()]"
   ]
  },
  {
   "cell_type": "code",
   "execution_count": 11,
   "id": "06286e05",
   "metadata": {},
   "outputs": [
    {
     "data": {
      "text/plain": [
       "0    1936\n",
       "1     618\n",
       "Name: label, dtype: int64"
      ]
     },
     "execution_count": 11,
     "metadata": {},
     "output_type": "execute_result"
    }
   ],
   "source": [
    "labeled_data[labeled_data.a_code.isna()].label.value_counts()"
   ]
  },
  {
   "cell_type": "code",
   "execution_count": null,
   "id": "71bdaab0",
   "metadata": {},
   "outputs": [],
   "source": [
    "def plot_confusion_matrix(test_data, iso_code, country_name, norm=False):\n",
    "    if iso_code:\n",
    "        country_data = test_data[test_data.a_code==iso_code].reset_index(drop=True)\n",
    "    else:\n",
    "        country_data = test_data[test_data.a_code.isna()].reset_index(drop=True)\n",
    "    \n",
    "    confusion = confusion_matrix(y_true = country_data.label.to_list(), \n",
    "                                 y_pred = country_data.predicted_xeno.to_list(), \n",
    "                                 normalize='true' if norm else None)\n",
    "    if norm:\n",
    "        confusion = confusion*100\n",
    "        confusion = np.around(confusion, 2)\n",
    "    \n",
    "    fig = px.imshow(confusion,\n",
    "                labels=dict(y=\"Etiqueta\", x=\"Predicción\", color=\"Cantidad\"),\n",
    "                x=['No xenófobo', 'Xenófobo'],\n",
    "                y=['No xenófobo', 'Xenófobo'], template='seaborn', text_auto=True,\n",
    "                title=f'Matriz de confusión para el país {country_name}', width=650, height=650)\n",
    "    fig.update_layout(font=dict(size=14))\n",
    "    return fig"
   ]
  },
  {
   "cell_type": "code",
   "execution_count": 18,
   "id": "54221a7c",
   "metadata": {},
   "outputs": [],
   "source": [
    "def print_report(test_data, iso_code, country_name):\n",
    "    if iso_code:\n",
    "        country_data = test_data[test_data.a_code==iso_code].reset_index(drop=True)\n",
    "    else:\n",
    "        country_data = test_data[test_data.a_code.isna()].reset_index(drop=True)\n",
    "    target_names=['No xenófobo', 'Xenófobo']\n",
    "    print(classification_report(y_true = country_data.label.to_list(), \n",
    "                                y_pred = country_data.predicted_xeno.to_list(),\n",
    "                                target_names=target_names, digits=4))"
   ]
  },
  {
   "cell_type": "code",
   "execution_count": null,
   "id": "da404762",
   "metadata": {},
   "outputs": [],
   "source": [
    "mex = plot_confusion_matrix(labeled_data, 'MEX', 'México', True)\n",
    "ven = plot_confusion_matrix(labeled_data, 'VEN', 'Venezuela', True)\n",
    "chl = plot_confusion_matrix(labeled_data, 'CHL', 'Chile', True)\n",
    "col = plot_confusion_matrix(labeled_data, 'COL', 'Colombia', True)\n",
    "per = plot_confusion_matrix(labeled_data, 'PER', 'Perú', True)\n",
    "nda = plot_confusion_matrix(labeled_data, None, 'No identificado', True)"
   ]
  },
  {
   "cell_type": "code",
   "execution_count": 27,
   "id": "5732f154",
   "metadata": {},
   "outputs": [
    {
     "name": "stdout",
     "output_type": "stream",
     "text": [
      "              precision    recall  f1-score   support\n",
      "\n",
      " No xenófobo     0.9245    0.9168    0.9206      1936\n",
      "    Xenófobo     0.7461    0.7654    0.7556       618\n",
      "\n",
      "    accuracy                         0.8802      2554\n",
      "   macro avg     0.8353    0.8411    0.8381      2554\n",
      "weighted avg     0.8813    0.8802    0.8807      2554\n",
      "\n"
     ]
    }
   ],
   "source": [
    "print_report(labeled_data, None, 'México')"
   ]
  },
  {
   "cell_type": "code",
   "execution_count": null,
   "id": "cccb9bc0",
   "metadata": {},
   "outputs": [],
   "source": [
    "with open('fairness_eval_pct.html', 'a') as f:\n",
    "    f.write(nda.to_html(full_html=False))\n",
    "    f.write(mex.to_html(full_html=False))\n",
    "    f.write(ven.to_html(full_html=False))\n",
    "    f.write(chl.to_html(full_html=False))\n",
    "    f.write(col.to_html(full_html=False))\n",
    "    f.write(per.to_html(full_html=False))"
   ]
  }
 ],
 "metadata": {
  "kernelspec": {
   "display_name": "Python 3.10.6 64-bit",
   "language": "python",
   "name": "python3"
  },
  "language_info": {
   "codemirror_mode": {
    "name": "ipython",
    "version": 3
   },
   "file_extension": ".py",
   "mimetype": "text/x-python",
   "name": "python",
   "nbconvert_exporter": "python",
   "pygments_lexer": "ipython3",
   "version": "3.10.6"
  },
  "vscode": {
   "interpreter": {
    "hash": "916dbcbb3f70747c44a77c7bcd40155683ae19c65e1c03b4aa3499c5328201f1"
   }
  }
 },
 "nbformat": 4,
 "nbformat_minor": 5
}
