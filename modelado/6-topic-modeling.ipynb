{
 "cells": [
  {
   "cell_type": "markdown",
   "id": "36a02f8c",
   "metadata": {},
   "source": [
    "# Modelado de tópicos con BERTopic\n",
    "\n",
    "\n",
    "Para compreder acerca de qué temas se habla en un conjunto de documentos, es necesario realizar un análisis de tópicos. El análisis de tópicos es una técnica de minería de texto que permite identificar los temas principales que se tratan en un conjunto de documentos. Exiten una gran cantidad de algoritmos que permiten realizar este análisis, entre ellos destacan *Latent Dirichlet Allocation, Latent Semantic Analysis, Non-negative Matrix Factorization*, entre otros.\n",
    "\n",
    "Siendo la mayoria de estos métodos basados en la representación de los documentos como vectores de palabras, es decir, se representan los documentos como vectores de frecuencias de palabras, lo que implica que se pierde la información de contexto de las palabras.\n",
    "\n",
    "En el año 2022 se lanzó [BERTopic](https://arxiv.org/abs/2203.05794), un algoritmo de análisis de tópicos basado en la representación de los documentos como vectores de palabras, pero utilizando la representación de palabras de cualquier modelo transformer de lenguaje (como BERT), a modo que la información contextual contenida dentro de cada texto sea aprovechada. BERTopic es un algoritmo de análisis de tópicos auto-,semi- y supervisado, lo que significa que no es necesario etiquetar todos los documentos para realizar el análisis de tópicos.\n",
    "\n",
    "El modelo de BERTopic permite agrupar textos cuya semántica es similar y provee de una jerarquía de palabras simples o compuestas para cada grupo de textos. Esta jerarquía de palabras permite al usuario asociar un tema o conjunto de temas a cada grupo.\n",
    "El funcionamiento de este modelo o algoritmo se divide en tres etapas:\n",
    "\n",
    "* **Generación y extracción de embbedings por documento**: En esta etapa se utiliza un modelo transformer de lenguaje para generar los embeddings de cada documento. Los embeddings son vectores de números reales que representan la información contextual de cada documento.\n",
    "\n",
    "* **Agrupamiento de los vectores de documentos en grupos semánticamente similares**: En esta etapa se utiliza un algoritmo de clustering para agrupar los vectores de documentos en grupos semánticamente similares. El algoritmo de clustering utilizado es DBSCAN, el cual permite identificar grupos de documentos que se encuentran cercanos entre sí y que no se encuentran cercanos a los grupos de otros documentos.\n",
    "\n",
    "* **Creación de la representación de palabras o tópicos para cada grupo**: Para asignar a cada grupo un conjunto de palabras claves, los textos asignados a cada grupo son considerados como un único documento, para el cual se mide la importancia de las palabras contenidas a partir de la frecuencia de aparición. Esto se realiza gracias a la medida estadística conocida como *Term frequency – Inverse document frequency* (Tf-Idf). De esta manera, a partir de las palabras más importantes de cada grupo se obtiene una descripción del tópico.\n",
    "\n",
    "En este notebook se presenta un ejemplo de aplicación de BERTopic semisupervisado para el análisis de tópicos de un conjunto de documentos. Se presentarán algunas gráficas que permiten visualizar algunos hitos dentro de los datos usados."
   ]
  },
  {
   "cell_type": "code",
   "execution_count": 1,
   "id": "d2298d51",
   "metadata": {},
   "outputs": [
    {
     "name": "stderr",
     "output_type": "stream",
     "text": [
      "[nltk_data] Downloading package stopwords to /home/pedri0/nltk_data...\n",
      "[nltk_data]   Package stopwords is already up-to-date!\n",
      "[nltk_data] Downloading package punkt to /home/pedri0/nltk_data...\n",
      "[nltk_data]   Package punkt is already up-to-date!\n"
     ]
    },
    {
     "data": {
      "text/plain": [
       "True"
      ]
     },
     "execution_count": 1,
     "metadata": {},
     "output_type": "execute_result"
    }
   ],
   "source": [
    "#Imports\n",
    "\n",
    "#models\n",
    "from bertopic import BERTopic\n",
    "from sklearn.feature_extraction.text import CountVectorizer\n",
    "from umap import UMAP\n",
    "\n",
    "#data loading and manipualtion\n",
    "import pandas as pd\n",
    "import nltk\n",
    "from nltk.corpus import stopwords\n",
    "nltk.download('stopwords')\n",
    "nltk.download('punkt')"
   ]
  },
  {
   "cell_type": "markdown",
   "id": "7fc14f53",
   "metadata": {},
   "source": [
    "### Carga de datos etiquetados y no etiquetados sobre migración en twitter\n",
    "\n",
    "Se leerán los datos para modelado de topicos a través del modelo BERTopic, el cual será entrenado de manera semisupervisada. El conjunto de datos contiene etiquetas para los temas covid (477), servicios públicos (465), género (464), seguridad/crimen (429), salud (188) y empleo (427). El conjunto de datos contiene 10,000 tweets. Los textos no etiquetados contienen la etiqueta -1."
   ]
  },
  {
   "cell_type": "code",
   "execution_count": 2,
   "id": "90e89a0f",
   "metadata": {},
   "outputs": [],
   "source": [
    "#read data\n",
    "data = pd.read_csv('assets/data/bertopic_train.csv')\n",
    "#convert string labels to int labels\n",
    "target_label = {'covid': 0, 'servpub':1, 'genero':2, 'crimen':3, 'empleo':4, 'salud':5, '-1':int(-1)}\n",
    "data['target'] = data.label.apply(lambda x: target_label[x])\n",
    "data = data.sample(frac=0.4).reset_index(drop=True)"
   ]
  },
  {
   "cell_type": "markdown",
   "id": "c63470d7",
   "metadata": {},
   "source": [
    "### Configuración del modelo BERTopic\n",
    "\n",
    "Para la etapa de generación de embbedings, se usa un modelo preentrenado en español. Dicho modelo puede intercambiarse por alguno otro más eficiente o entrenado para otro idioma. Los modelos disponibles pueden encontrarse en la página de la paqueteria [SBERT](https://www.sbert.net/docs/pretrained_models.html) o bien en la página de [Hugging Face](https://huggingface.co/models). Para fines demostrativos en este notebook se emplea un modelo eficiente en cuanto a tiempo de inferencia y memoria, entrenado en español llamado *paraphrase-multilingual-MiniLM-L12-v2*.\n",
    "\n",
    "Tanto para el agrupamiento y la representación de palabras, se usa un modelo que permite eliminar las palabras vacías,  determinar la cantidad de palabras dentro de un grupo a analizar (n-gramas) e ignorar palabras poco comunes.\n"
   ]
  },
  {
   "cell_type": "code",
   "execution_count": 3,
   "id": "f8827ae8",
   "metadata": {},
   "outputs": [],
   "source": [
    "#add our stop word through countvectorizer model, set to 2 the limit of n-grams\n",
    "# with min_df: ignore terms that have a document frequency strictly lower than the given threshold (5)\n",
    "vectorizer_model = CountVectorizer(stop_words=stopwords.words('spanish'), ngram_range=(2,2), min_df=1)\n",
    "\n",
    "#use paraphrase-multilingual-mpnet-base-v2 as embedding model. This model is the most accurate for multilingual\n",
    "#diversity is a parameter in BERTopic to diversity words in each topic such that we limit the number of \n",
    "#duplicate words we find in each topic. This is done using an algorithm called Maximal Marginal Relevance \n",
    "#which compares word embeddings with the topic embedding.\n",
    "#We do this by specifying a value between 0 and 1, with 0 being not at all diverse and 1 being completely diverse\n",
    "#min_topic_size is used to specify what the minimum size of a topic can be. \n",
    "#The lower this value the more topics are created.\n",
    "#calculate_probabilities lets you calculate the probabilities of each topic to each document.\n",
    "topic_model = BERTopic(embedding_model='paraphrase-multilingual-MiniLM-L12-v2', verbose=True,\n",
    "                      vectorizer_model=vectorizer_model, diversity=0.5, min_topic_size=5,\n",
    "                      calculate_probabilities=False)"
   ]
  },
  {
   "cell_type": "markdown",
   "id": "a56b3848",
   "metadata": {},
   "source": [
    "### Entrenamiento del modelo BERTopic\n",
    "\n",
    "Para el entrenamiento semisupervisado, los datos de entrada no etiquetadas deben contener la etiqueta -1. Mientras que las etiquetas deben ser números enteros. Para los casos supervisado y semisupervisado estas etiquetas son un parámetro y del método fit. Para el caso auto-supervisado, este parámetro no se usa.\n",
    "\n",
    "Según la cantidad de datos, el tiempo de entrenamiento puede variar significativamente pues dos de los tres modelos involucrados no están optimizados para GPU.\n",
    "\n",
    "Con el método fit_transform se obtiene una lista de números enteros que representan el grupo al que pertenece cada documento."
   ]
  },
  {
   "cell_type": "code",
   "execution_count": 4,
   "id": "b0d35dd9",
   "metadata": {},
   "outputs": [
    {
     "data": {
      "application/vnd.jupyter.widget-view+json": {
       "model_id": "fec40ee394344e11987092034ac880e5",
       "version_major": 2,
       "version_minor": 0
      },
      "text/plain": [
       "Batches:   0%|          | 0/63 [00:00<?, ?it/s]"
      ]
     },
     "metadata": {},
     "output_type": "display_data"
    },
    {
     "name": "stderr",
     "output_type": "stream",
     "text": [
      "2022-10-17 15:24:33,684 - BERTopic - Transformed documents to Embeddings\n",
      "OMP: Info #276: omp_set_nested routine deprecated, please use omp_set_max_active_levels instead.\n",
      "2022-10-17 15:24:43,859 - BERTopic - Reduced dimensionality\n",
      "2022-10-17 15:24:43,940 - BERTopic - Clustered reduced embeddings\n"
     ]
    }
   ],
   "source": [
    "#fit the model using semisupervised topic modeling and infer clusters, probabilities\n",
    "topics = topic_model.fit_transform(data.text.to_list(), y=data.target.tolist())"
   ]
  },
  {
   "cell_type": "code",
   "execution_count": 5,
   "id": "8abc29ed",
   "metadata": {},
   "outputs": [],
   "source": [
    "#save inferred clusters of topics\n",
    "data['cluster_topic'] = topics[0]\n",
    "#save the trained model\n",
    "#topic_model.save(\"bertopic_20news.model\")"
   ]
  },
  {
   "cell_type": "markdown",
   "id": "fe83f9d1",
   "metadata": {},
   "source": [
    "Una vez entranado el modelo pueden obtenerse las palabras más representativas de cada grupo, así como la cantidad de documentos que pertenecen a cada grupo. Esto se hace con el método ``get_topic_info()``."
   ]
  },
  {
   "cell_type": "code",
   "execution_count": 6,
   "id": "96b33e1d",
   "metadata": {},
   "outputs": [
    {
     "data": {
      "text/html": [
       "<div>\n",
       "<style scoped>\n",
       "    .dataframe tbody tr th:only-of-type {\n",
       "        vertical-align: middle;\n",
       "    }\n",
       "\n",
       "    .dataframe tbody tr th {\n",
       "        vertical-align: top;\n",
       "    }\n",
       "\n",
       "    .dataframe thead th {\n",
       "        text-align: right;\n",
       "    }\n",
       "</style>\n",
       "<table border=\"1\" class=\"dataframe\">\n",
       "  <thead>\n",
       "    <tr style=\"text-align: right;\">\n",
       "      <th></th>\n",
       "      <th>Topic</th>\n",
       "      <th>Count</th>\n",
       "      <th>Name</th>\n",
       "    </tr>\n",
       "  </thead>\n",
       "  <tbody>\n",
       "    <tr>\n",
       "      <th>0</th>\n",
       "      <td>-1</td>\n",
       "      <td>870</td>\n",
       "      <td>-1_derechos humanos_migrantes venezolanos_cier...</td>\n",
       "    </tr>\n",
       "    <tr>\n",
       "      <th>1</th>\n",
       "      <td>0</td>\n",
       "      <td>58</td>\n",
       "      <td>0_gracioso tiro_racista si_prender fuego_2020 ...</td>\n",
       "    </tr>\n",
       "    <tr>\n",
       "      <th>2</th>\n",
       "      <td>1</td>\n",
       "      <td>54</td>\n",
       "      <td>1_inmigrantes venezolanos_800 venezuela_especi...</td>\n",
       "    </tr>\n",
       "    <tr>\n",
       "      <th>3</th>\n",
       "      <td>2</td>\n",
       "      <td>49</td>\n",
       "      <td>2_venezolanos delincuentes_inseguridad ciudada...</td>\n",
       "    </tr>\n",
       "    <tr>\n",
       "      <th>4</th>\n",
       "      <td>3</td>\n",
       "      <td>33</td>\n",
       "      <td>3_cerrar fronteras_ingreso extranjeros_fronter...</td>\n",
       "    </tr>\n",
       "    <tr>\n",
       "      <th>...</th>\n",
       "      <td>...</td>\n",
       "      <td>...</td>\n",
       "      <td>...</td>\n",
       "    </tr>\n",
       "    <tr>\n",
       "      <th>64</th>\n",
       "      <td>63</td>\n",
       "      <td>5</td>\n",
       "      <td>63_ingreso extranjeros_admiten extranjeros_hot...</td>\n",
       "    </tr>\n",
       "    <tr>\n",
       "      <th>65</th>\n",
       "      <td>64</td>\n",
       "      <td>5</td>\n",
       "      <td>64_pc ps_presidente2022 delincuentes_vamos nec...</td>\n",
       "    </tr>\n",
       "    <tr>\n",
       "      <th>66</th>\n",
       "      <td>65</td>\n",
       "      <td>5</td>\n",
       "      <td>65_16 anos_radicales abordar_pf rt_solicitud e...</td>\n",
       "    </tr>\n",
       "    <tr>\n",
       "      <th>67</th>\n",
       "      <td>66</td>\n",
       "      <td>5</td>\n",
       "      <td>66_republica dominicana_agente enemigo_migraci...</td>\n",
       "    </tr>\n",
       "    <tr>\n",
       "      <th>68</th>\n",
       "      <td>67</td>\n",
       "      <td>5</td>\n",
       "      <td>67_120 migrantes_invasiones casas_teniamos pob...</td>\n",
       "    </tr>\n",
       "  </tbody>\n",
       "</table>\n",
       "<p>69 rows × 3 columns</p>\n",
       "</div>"
      ],
      "text/plain": [
       "    Topic  Count                                               Name\n",
       "0      -1    870  -1_derechos humanos_migrantes venezolanos_cier...\n",
       "1       0     58  0_gracioso tiro_racista si_prender fuego_2020 ...\n",
       "2       1     54  1_inmigrantes venezolanos_800 venezuela_especi...\n",
       "3       2     49  2_venezolanos delincuentes_inseguridad ciudada...\n",
       "4       3     33  3_cerrar fronteras_ingreso extranjeros_fronter...\n",
       "..    ...    ...                                                ...\n",
       "64     63      5  63_ingreso extranjeros_admiten extranjeros_hot...\n",
       "65     64      5  64_pc ps_presidente2022 delincuentes_vamos nec...\n",
       "66     65      5  65_16 anos_radicales abordar_pf rt_solicitud e...\n",
       "67     66      5  66_republica dominicana_agente enemigo_migraci...\n",
       "68     67      5  67_120 migrantes_invasiones casas_teniamos pob...\n",
       "\n",
       "[69 rows x 3 columns]"
      ]
     },
     "execution_count": 6,
     "metadata": {},
     "output_type": "execute_result"
    }
   ],
   "source": [
    "#get dataframe with info about clusters from fitted model\n",
    "topic_model.get_topic_info()"
   ]
  },
  {
   "cell_type": "markdown",
   "id": "ed5c3ced",
   "metadata": {},
   "source": [
    "Para obtener las 10 primeras palabras más representativas de cada grupo, así como sus probabilidades de pertenencia, se usa el método ``get_topics()``."
   ]
  },
  {
   "cell_type": "code",
   "execution_count": 7,
   "id": "ac2bfe14",
   "metadata": {
    "scrolled": true
   },
   "outputs": [
    {
     "data": {
      "text/plain": [
       "{-1: [('derechos humanos', 0.002875739873487939),\n",
       "  ('migrantes venezolanos', 0.0025453705730600195),\n",
       "  ('cierre fronteras', 0.0020888545781166507),\n",
       "  ('caravana migrante', 0.001707659531177889),\n",
       "  ('crisis migratoria', 0.0016002742315714398),\n",
       "  ('refugiados venezolanos', 0.0015991711235530258),\n",
       "  ('mas inmigrantes', 0.0015423365804628415),\n",
       "  ('30 anos', 0.0015423365804628415),\n",
       "  ('venezolanos colombia', 0.0014114170251951633),\n",
       "  ('dejar entrar', 0.0013332392023639788)],\n",
       " 0: [('gracioso tiro', 0.029571600742905654),\n",
       "  ('racista si', 0.02131726507240328),\n",
       "  ('prender fuego', 0.012031986419332836),\n",
       "  ('2020 pasar', 0.012031986419332836),\n",
       "  ('protestas sucesos', 0.012031986419332836),\n",
       "  ('querran unirse', 0.012031986419332836),\n",
       "  ('quede casa', 0.012031986419332836),\n",
       "  ('quemar racista', 0.012031986419332836),\n",
       "  ('racismo inevitable', 0.012031986419332836),\n",
       "  ('quiere genocidio', 0.012031986419332836)],\n",
       " 1: [('inmigrantes venezolanos', 0.02734096473254114),\n",
       "  ('800 venezuela', 0.017156134930270163),\n",
       "  ('especial crisis', 0.017156134930270163),\n",
       "  ('venezolanos michel', 0.017156134930270163),\n",
       "  ('nombra representante', 0.017156134930270163),\n",
       "  ('atender migracion', 0.017156134930270163),\n",
       "  ('colombia ecuador', 0.012764748949005679),\n",
       "  ('peru acnur', 0.009683342670279068),\n",
       "  ('podcast conversaremos', 0.009683342670279068),\n",
       "  ('perdiendo medios', 0.009683342670279068)],\n",
       " 2: [('venezolanos delincuentes', 0.01585339625102157),\n",
       "  ('inseguridad ciudadana', 0.014628355158825173),\n",
       "  ('delincuentes peruanos', 0.014628355158825173),\n",
       "  ('venezolanos vinieron', 0.013528435810533465),\n",
       "  ('cada dia', 0.012147391559328558),\n",
       "  ('pj corruptos', 0.008256601867564007),\n",
       "  ('luchadores democracia', 0.008256601867564007),\n",
       "  ('peruanos venezolanos', 0.008256601867564007),\n",
       "  ('peruanos vs', 0.008256601867564007),\n",
       "  ('peruzuela gobierno', 0.008256601867564007)],\n",
       " 3: [('cerrar fronteras', 0.051414380259244004),\n",
       "  ('ingreso extranjeros', 0.02371538663673227),\n",
       "  ('frontera aeropuertos', 0.021882825166160923),\n",
       "  ('construccion muro', 0.020237435610451084),\n",
       "  ('narco us', 0.012351202385560036),\n",
       "  ('opinion cientificos', 0.012351202385560036),\n",
       "  ('ocurre propagacion', 0.012351202385560036),\n",
       "  ('oposicion angora', 0.012351202385560036),\n",
       "  ('ordena cierre', 0.012351202385560036),\n",
       "  ('pandemia prioridad', 0.012351202385560036)],\n",
       " 4: [('colombia necesita', 0.018173871748167543),\n",
       "  ('bueno si', 0.018173871748167543),\n",
       "  ('colombia asi', 0.016807361778171236),\n",
       "  ('millones venezolanos', 0.013966772681520117),\n",
       "  ('peru convirtiendo', 0.010257778252414267),\n",
       "  ('parece maracaibo', 0.010257778252414267),\n",
       "  ('peor cuba', 0.010257778252414267),\n",
       "  ('peor venezuela', 0.010257778252414267),\n",
       "  ('peruano haitianos', 0.010257778252414267),\n",
       "  ('perdiendo invirtieron', 0.010257778252414267)],\n",
       " 5: [('trabajar duro', 0.02153129383819046),\n",
       "  ('inmigrantes ilegales', 0.015665714816253156),\n",
       "  ('miseria conurbano', 0.012152789495832162),\n",
       "  ('nuevos vienen', 0.012152789495832162),\n",
       "  ('ninos medicamentos', 0.012152789495832162),\n",
       "  ('morales remitiria', 0.012152789495832162),\n",
       "  ('muerte comenzaste', 0.012152789495832162),\n",
       "  ('pais sabemos', 0.012152789495832162),\n",
       "  ('obvio tweet', 0.012152789495832162),\n",
       "  ('paga solo', 0.012152789495832162)],\n",
       " 6: [('ley migracion', 0.03225203867748285),\n",
       "  ('situacion legal', 0.020983530981250196),\n",
       "  ('nuevo residente', 0.011843618725879485),\n",
       "  ('opinion firme', 0.011843618725879485),\n",
       "  ('necesitamos pasar', 0.011843618725879485),\n",
       "  ('nuevas reglas', 0.011843618725879485),\n",
       "  ('1881 creeria', 0.011843618725879485),\n",
       "  ('obligacion transparentar', 0.011843618725879485),\n",
       "  ('oficiales identidad', 0.011843618725879485),\n",
       "  ('ningun gobierno', 0.011843618725879485)],\n",
       " 7: [('mexico canada', 0.023209056994413096),\n",
       "  ('puntos vacunacion', 0.023209056994413096),\n",
       "  ('19 recuerda', 0.023209056994413096),\n",
       "  ('politicos inmigrantes', 0.013099760105897007),\n",
       "  ('pobres medicos', 0.013099760105897007),\n",
       "  ('plasticas uniformes', 0.013099760105897007),\n",
       "  ('proceso aplicado', 0.013099760105897007),\n",
       "  ('positivos personas', 0.013099760105897007),\n",
       "  ('prevenir contagio', 0.013099760105897007),\n",
       "  ('primero ciudadano', 0.013099760105897007)],\n",
       " 8: [('terrorismo chile', 0.06692895292727898),\n",
       "  ('delincuentes expulsion', 0.0231589294415094),\n",
       "  ('extranjeros delincuentes', 0.021417588443025982),\n",
       "  ('chile debe', 0.021417588443025982),\n",
       "  ('migrantes chile', 0.021417588443025982),\n",
       "  ('mil subsidios', 0.013071466887525739),\n",
       "  ('migrantes politicos', 0.013071466887525739),\n",
       "  ('30 familias', 0.013071466887525739),\n",
       "  ('miserable politicos', 0.013071466887525739),\n",
       "  ('nacional terrorismo', 0.013071466887525739)],\n",
       " 9: [('frontera mexico', 0.0534816942000902),\n",
       "  ('mexico unidos', 0.03516433847206039),\n",
       "  ('derechos migrantes', 0.028290666996909748),\n",
       "  ('costa rica', 0.023091003768727872),\n",
       "  ('obrador hijos', 0.021461309109661052),\n",
       "  ('noche by', 0.021461309109661052),\n",
       "  ('obama mexico', 0.021461309109661052),\n",
       "  ('00 soldados', 0.021461309109661052),\n",
       "  ('necesario haremos', 0.021461309109661052),\n",
       "  ('noviembre politica', 0.021461309109661052)],\n",
       " 10: [('10 dias', 0.021161150940295165),\n",
       "  ('noche situacion', 0.021161150940295165),\n",
       "  ('mugre subtes', 0.021161150940295165),\n",
       "  ('pais regresen', 0.021161150940295165),\n",
       "  ('parqueados esperando', 0.021161150940295165),\n",
       "  ('pasar finlandia', 0.021161150940295165),\n",
       "  ('pediran identificacion', 0.021161150940295165),\n",
       "  ('muertos piden', 0.021161150940295165),\n",
       "  ('migrantes valencia', 0.021161150940295165),\n",
       "  ('onu autobuses', 0.021161150940295165)],\n",
       " 11: [('inmigrantes quitan', 0.03386107851059352),\n",
       "  ('raro contrataran', 0.02589996215318563),\n",
       "  ('quitan trabajo', 0.0239525204085049),\n",
       "  ('nacionales rechazan', 0.01461857287179811),\n",
       "  ('piensa onu', 0.01461857287179811),\n",
       "  ('plazas migrantes', 0.01461857287179811),\n",
       "  ('migrantes ejemplo', 0.01461857287179811),\n",
       "  ('miserableza cambio', 0.01461857287179811),\n",
       "  ('milwaukee hoy', 0.01461857287179811),\n",
       "  ('miles trabajo', 0.01461857287179811)],\n",
       " 12: [('honduras mexico', 0.03309439608462608),\n",
       "  ('noticias honduras', 0.03309439608462608),\n",
       "  ('inyectaron economia', 0.03309439608462608),\n",
       "  ('parte caravana', 0.018679287558408694),\n",
       "  ('pandemia edninforma', 0.018679287558408694),\n",
       "  ('migrantes ninez', 0.018679287558408694),\n",
       "  ('00 hondurenos', 0.018679287558408694),\n",
       "  ('mil guatemaltecos', 0.018679287558408694),\n",
       "  ('mil compatriotas', 0.018679287558408694),\n",
       "  ('migratorias 2020', 0.018679287558408694)],\n",
       " 13: [('martin perez', 0.020797557281527206),\n",
       "  ('necesidades economicas', 0.020797557281527206),\n",
       "  ('minoria entonces', 0.020797557281527206),\n",
       "  ('nieta hijos', 0.020797557281527206),\n",
       "  ('pasar vigilancia', 0.020797557281527206),\n",
       "  ('momento criminalizado', 0.020797557281527206),\n",
       "  ('peligrosos pueden', 0.020797557281527206),\n",
       "  ('minima inmigrantes', 0.020797557281527206),\n",
       "  ('migracion delincuentes', 0.020797557281527206),\n",
       "  ('mentir momento', 0.020797557281527206)],\n",
       " 14: [('pensando regresar', 0.02714578311751608),\n",
       "  ('migracion venezolana', 0.018620003839444624),\n",
       "  ('problemas trabajando', 0.015321744731454222),\n",
       "  ('politicamente perjudicaria', 0.015321744731454222),\n",
       "  ('preocupados venezuela', 0.015321744731454222),\n",
       "  ('precedentes region', 0.015321744731454222),\n",
       "  ('realidad salarial', 0.015321744731454222),\n",
       "  ('politica economica', 0.015321744731454222),\n",
       "  ('plan migrantes', 0.015321744731454222),\n",
       "  ('plan control', 0.015321744731454222)],\n",
       " 15: [('pais papito', 0.02208791667490663),\n",
       "  ('pais argentinaunpaisconbuenagente', 0.02208791667490663),\n",
       "  ('paraguay peru', 0.02208791667490663),\n",
       "  ('mundo inmigrantes', 0.02208791667490663),\n",
       "  ('mundo cerrar', 0.02208791667490663),\n",
       "  ('nueva reforma', 0.02208791667490663),\n",
       "  ('ninguneando argentinos', 0.02208791667490663),\n",
       "  ('necesita patriota', 0.02208791667490663),\n",
       "  ('necesita banca', 0.02208791667490663),\n",
       "  ('nacionalizados viven', 0.02208791667490663)],\n",
       " 16: [('libios rescatan', 0.05081793521999456),\n",
       "  ('guardacostas libios', 0.05081793521999456),\n",
       "  ('mil inmigrantes', 0.02868288705651383),\n",
       "  ('migrante rescatado', 0.02868288705651383),\n",
       "  ('migrantes irak', 0.02868288705651383),\n",
       "  ('migrantes tunecinos', 0.02868288705651383),\n",
       "  ('paz ayudar', 0.02868288705651383),\n",
       "  ('playas tripoli', 0.02868288705651383),\n",
       "  ('posiblemente desaparecidos', 0.02868288705651383),\n",
       "  ('mayoria egipcios', 0.02868288705651383)],\n",
       " 17: [('pasaporte vacunacion', 0.051827579002374724),\n",
       "  ('300 mil', 0.037360921015396696),\n",
       "  ('vacunar venezolanos', 0.037360921015396696),\n",
       "  ('migrantes venezolanos', 0.03384620681370102),\n",
       "  ('venezolanos colombia', 0.02627497868366801),\n",
       "  ('proximo mes', 0.021087418707053718),\n",
       "  ('propio territorio', 0.021087418707053718),\n",
       "  ('reunificacion familiar', 0.021087418707053718),\n",
       "  ('puerta chile', 0.021087418707053718),\n",
       "  ('piden pasaporte', 0.021087418707053718)],\n",
       " 18: [('diversidad sexual', 0.032992567173596464),\n",
       "  ('prohibir personas', 0.032992567173596464),\n",
       "  ('racismo homofobia', 0.032992567173596464),\n",
       "  ('nuevas masculinidades', 0.018621812827459745),\n",
       "  ('personas trans', 0.018621812827459745),\n",
       "  ('nacionales inmigrantes', 0.018621812827459745),\n",
       "  ('mujeres nacionales', 0.018621812827459745),\n",
       "  ('moneda republicanos', 0.018621812827459745),\n",
       "  ('minoritarios estan', 0.018621812827459745),\n",
       "  ('migrantes homosexuales', 0.018621812827459745)],\n",
       " 19: [('tema migratorio', 0.03405122265329285),\n",
       "  ('muchas cartas', 0.02500863292943974),\n",
       "  ('necesiten viajar', 0.02500863292943974),\n",
       "  ('norteamericano razones', 0.02500863292943974),\n",
       "  ('orange walk', 0.02500863292943974),\n",
       "  ('presidenta bachelet', 0.02500863292943974),\n",
       "  ('paso importante', 0.02500863292943974),\n",
       "  ('poblacion salvadorena', 0.02500863292943974),\n",
       "  ('politica interna', 0.02500863292943974),\n",
       "  ('presentaron propuestas', 0.02500863292943974)],\n",
       " 20: [('pasaportes venezolanos', 0.03491670228563743),\n",
       "  ('solicitar visa', 0.03290724531311201),\n",
       "  ('problemas abrir', 0.021310173130015556),\n",
       "  ('provincia necesito', 0.021310173130015556),\n",
       "  ('registrarme regimen', 0.021310173130015556),\n",
       "  ('requiere pasaporte', 0.021310173130015556),\n",
       "  ('pudo salir', 0.021310173130015556),\n",
       "  ('preguntita venezolana', 0.021310173130015556),\n",
       "  ('prorrogas ciudadanos', 0.021310173130015556),\n",
       "  ('presidente interino', 0.021310173130015556)],\n",
       " 21: [('mujeres migrantes', 0.07908496254387772),\n",
       "  ('discriminacion violencia', 0.03843220190472706),\n",
       "  ('100 mujeres', 0.021692075874281066),\n",
       "  ('ninas rebeldes', 0.021692075874281066),\n",
       "  ('mujeres refugiadas', 0.021692075874281066),\n",
       "  ('organismos internacionales', 0.021692075874281066),\n",
       "  ('mujeres lideres', 0.021692075874281066),\n",
       "  ('mujeres colectivo', 0.021692075874281066),\n",
       "  ('mujeres afectadas', 0.021692075874281066),\n",
       "  ('mitad poblacion', 0.021692075874281066)],\n",
       " 22: [('conmoviendo redes', 0.05956991295232695),\n",
       "  ('venezolanos chile', 0.05956991295232695),\n",
       "  ('miles uruguayos', 0.03362271760513565),\n",
       "  ('latina via', 0.03362271760513565),\n",
       "  ('migracion eeuu', 0.03362271760513565),\n",
       "  ('misilistico iran', 0.03362271760513565),\n",
       "  ('mugre pasa', 0.03362271760513565),\n",
       "  ('oite chile', 0.03362271760513565),\n",
       "  ('prostitucion micro', 0.03362271760513565),\n",
       "  ('invasion reciclan', 0.03362271760513565)],\n",
       " 23: [('masa laboral', 0.0288241514285453),\n",
       "  ('vengan inmigrantes', 0.0288241514285453),\n",
       "  ('seguro desempleo', 0.026656837228819973),\n",
       "  ('obra extranjera', 0.0162690569057108),\n",
       "  ('ofrecen beneficios', 0.0162690569057108),\n",
       "  ('pensiones abuelos', 0.0162690569057108),\n",
       "  ('perderia casi', 0.0162690569057108),\n",
       "  ('negro comparar', 0.0162690569057108),\n",
       "  ('nacimientos baja', 0.0162690569057108),\n",
       "  ('mundo vive', 0.0162690569057108)],\n",
       " 24: [('trinidad tobago', 0.04696310386393875),\n",
       "  ('jamaiquinos repatriados', 0.030412508386554862),\n",
       "  ('jamaiquinos migran', 0.030412508386554862),\n",
       "  ('mas reggae', 0.030412508386554862),\n",
       "  ('mencionar palabra', 0.030412508386554862),\n",
       "  ('nacionalidad siempre', 0.030412508386554862),\n",
       "  ('palabra jamaica', 0.030412508386554862),\n",
       "  ('pasaporte jamaiquino', 0.030412508386554862),\n",
       "  ('peticion cambiar', 0.030412508386554862),\n",
       "  ('jamaiquinos pidieran', 0.030412508386554862)],\n",
       " 25: [('dedicada trafico', 0.03407678161209976),\n",
       "  ('derechos humanos', 0.02199957473664284),\n",
       "  ('panama olvida', 0.020797557281527206),\n",
       "  ('panamenos debemos', 0.020797557281527206),\n",
       "  ('panamenos descendientes', 0.020797557281527206),\n",
       "  ('panamenos venezolano', 0.020797557281527206),\n",
       "  ('15 gobierna', 0.020797557281527206),\n",
       "  ('olvida ninguna', 0.020797557281527206),\n",
       "  ('panama complicidad', 0.020797557281527206),\n",
       "  ('panama anunciaron', 0.020797557281527206)],\n",
       " 26: [('2014 obama', 0.02450238529928914),\n",
       "  ('recibir ilegales', 0.02450238529928914),\n",
       "  ('odiar trump', 0.02450238529928914),\n",
       "  ('opinionla opinion', 0.02450238529928914),\n",
       "  ('perfil profesional', 0.02450238529928914),\n",
       "  ('podrias ahora', 0.02450238529928914),\n",
       "  ('politicas periodistas', 0.02450238529928914),\n",
       "  ('postura trump', 0.02450238529928914),\n",
       "  ('pretende criticar', 0.02450238529928914),\n",
       "  ('propone trasladar', 0.02450238529928914)],\n",
       " 27: [('haitianos ilegales', 0.03371881865226054),\n",
       "  ('haiti nunca', 0.03371881865226054),\n",
       "  ('pais pobre', 0.0311834699657894),\n",
       "  ('problema inmigracion', 0.02938886059410004),\n",
       "  ('millones haitianos', 0.0190317269463032),\n",
       "  ('minoria ahh', 0.0190317269463032),\n",
       "  ('municipios convertido', 0.0190317269463032),\n",
       "  ('nunca resolvera', 0.0190317269463032),\n",
       "  ('necesitamos muro', 0.0190317269463032),\n",
       "  ('pagamos justo', 0.0190317269463032)],\n",
       " 28: [('trafico migrantes', 0.10914431631916384),\n",
       "  ('trafico personas', 0.06567114866967569),\n",
       "  ('19 personas', 0.040080060721353755),\n",
       "  ('personas procesados', 0.040080060721353755),\n",
       "  ('migrantes pruebas', 0.040080060721353755),\n",
       "  ('narcotraficantes entender', 0.040080060721353755),\n",
       "  ('migrantes capturados', 0.040080060721353755),\n",
       "  ('operaban traficantes', 0.040080060721353755),\n",
       "  ('organos parte', 0.040080060721353755),\n",
       "  ('parte migrantes', 0.040080060721353755)],\n",
       " 29: [('pais america', 0.021692075874281066),\n",
       "  ('pps comunista', 0.021692075874281066),\n",
       "  ('piensan xenofobia', 0.021692075874281066),\n",
       "  ('puede hacer', 0.021692075874281066),\n",
       "  ('policia etc', 0.021692075874281066),\n",
       "  ('puro venezolano', 0.021692075874281066),\n",
       "  ('peor gobierno', 0.021692075874281066),\n",
       "  ('paulo destruyo', 0.021692075874281066),\n",
       "  ('panama clientelismo', 0.021692075874281066),\n",
       "  ('populismo forma', 0.021692075874281066)],\n",
       " 30: [('personas refugiadas', 0.030407364878586234),\n",
       "  ('psicosocial mas', 0.022332432357654676),\n",
       "  ('puentes internacionales', 0.022332432357654676),\n",
       "  ('nacional gobierno', 0.022332432357654676),\n",
       "  ('proteccion social', 0.022332432357654676),\n",
       "  ('materia salud', 0.022332432357654676),\n",
       "  ('nacionales manana', 0.022332432357654676),\n",
       "  ('necesitamos interpelar', 0.022332432357654676),\n",
       "  ('pandemia entregamos', 0.022332432357654676),\n",
       "  ('programa comunidades', 0.022332432357654676)],\n",
       " 31: [('14 mejorar', 0.030109896362808045),\n",
       "  ('laboral retornados', 0.030109896362808045),\n",
       "  ('ministro young', 0.030109896362808045),\n",
       "  ('mundo voluntariado', 0.030109896362808045),\n",
       "  ('nacionalidad empleo', 0.030109896362808045),\n",
       "  ('necesitan servicio', 0.030109896362808045),\n",
       "  ('nueva oficina', 0.030109896362808045),\n",
       "  ('organizaciones apoyan', 0.030109896362808045),\n",
       "  ('persona desplazada', 0.030109896362808045),\n",
       "  ('integran migrantes', 0.030109896362808045)],\n",
       " 32: [('17 naciones', 0.02249847274693092),\n",
       "  ('medicos ley', 0.02249847274693092),\n",
       "  ('nuevos ricos', 0.02249847274693092),\n",
       "  ('parlamentarios impuestos', 0.02249847274693092),\n",
       "  ('medicamentos comida', 0.02249847274693092),\n",
       "  ('modelo ideal', 0.02249847274693092),\n",
       "  ('ministerios inmigracion', 0.02249847274693092),\n",
       "  ('migracion haitiana', 0.02249847274693092),\n",
       "  ('menos desempleo', 0.02249847274693092),\n",
       "  ('necesitamos ingreso', 0.02249847274693092)],\n",
       " 33: [('frontera sur', 0.03586626646626237),\n",
       "  ('5a cae', 0.03152129775481467),\n",
       "  ('madre aqui', 0.03152129775481467),\n",
       "  ('luego genocidio', 0.03152129775481467),\n",
       "  ('ninos ohh', 0.03152129775481467),\n",
       "  ('olas inmigrantes', 0.03152129775481467),\n",
       "  ('oligarquia feudal', 0.03152129775481467),\n",
       "  ('originarios llegaron', 0.03152129775481467),\n",
       "  ('pais rechaza', 0.03152129775481467),\n",
       "  ('paises compatriotas', 0.03152129775481467)],\n",
       " 34: [('00 pesos', 0.026313431169236595),\n",
       "  ('mexico agradeceremos', 0.026313431169236595),\n",
       "  ('migratorias dejen', 0.026313431169236595),\n",
       "  ('nacional problema', 0.026313431169236595),\n",
       "  ('nadie salga', 0.026313431169236595),\n",
       "  ('necesita mexicanos', 0.026313431169236595),\n",
       "  ('necesita quedemos', 0.026313431169236595),\n",
       "  ('oprimir pueblo', 0.026313431169236595),\n",
       "  ('paises centroamericanos', 0.026313431169236595),\n",
       "  ('pasar ilegales', 0.026313431169236595)],\n",
       " 35: [('viajeros sudafrica', 0.05703502303946197),\n",
       "  ('13 casos', 0.03219196366449158),\n",
       "  ('negativo coronavirus', 0.03219196366449158),\n",
       "  ('llevan riesgos', 0.03219196366449158),\n",
       "  ('mundo noticias', 0.03219196366449158),\n",
       "  ('nicaraguense recuerda', 0.03219196366449158),\n",
       "  ('obligado migrantes', 0.03219196366449158),\n",
       "  ('occidente preguntaron', 0.03219196366449158),\n",
       "  ('omicron dinamarca', 0.03219196366449158),\n",
       "  ('perdido vida', 0.03219196366449158)],\n",
       " 36: [('acento feo', 0.11638633017162342),\n",
       "  ('buena peluchin', 0.11638633017162342),\n",
       "  ('kg pimiento', 0.11638633017162342),\n",
       "  ('malditos ladronisimo', 0.11638633017162342),\n",
       "  ('mas veneca', 0.11638633017162342),\n",
       "  ('mierda venecos', 0.11638633017162342),\n",
       "  ('pimiento inmigrante', 0.11638633017162342),\n",
       "  ('pueden tomar', 0.11638633017162342),\n",
       "  ('querer kche', 0.11638633017162342),\n",
       "  ('sal ahi', 0.11638633017162342)],\n",
       " 37: [('crisis migratoria', 0.0324845940898172),\n",
       "  ('vzlanos pais', 0.03219196366449158),\n",
       "  ('paises alrededor', 0.03219196366449158),\n",
       "  ('muertes agravarse', 0.03219196366449158),\n",
       "  ('vos migrantes', 0.03219196366449158),\n",
       "  ('operaciones ilegales', 0.03219196366449158),\n",
       "  ('personas grupos', 0.03219196366449158),\n",
       "  ('pandemia absolutamente', 0.03219196366449158),\n",
       "  ('pandemia vino', 0.03219196366449158),\n",
       "  ('pasado vos', 0.03219196366449158)],\n",
       " 38: [('aceptaria inmigracion', 0.03782555730577761),\n",
       "  ('medir descontento', 0.03782555730577761),\n",
       "  ('mal alemania', 0.03782555730577761),\n",
       "  ('musulmanes minoria', 0.03782555730577761),\n",
       "  ('naciones xenofobico', 0.03782555730577761),\n",
       "  ('nadie discute', 0.03782555730577761),\n",
       "  ('pasado leyes', 0.03782555730577761),\n",
       "  ('poder igualdad', 0.03782555730577761),\n",
       "  ('politicos saludos', 0.03782555730577761),\n",
       "  ('problema espanol', 0.03782555730577761)],\n",
       " 39: [('proteccion refugiados', 0.06523910163895413),\n",
       "  ('200 migrantes', 0.03981637611134485),\n",
       "  ('migrante reafirmemos', 0.03981637611134485),\n",
       "  ('mundial violacion', 0.03981637611134485),\n",
       "  ('mensaje queremos', 0.03981637611134485),\n",
       "  ('violacion soberania', 0.03981637611134485),\n",
       "  ('mas deportaciones', 0.03981637611134485),\n",
       "  ('patente racismo', 0.03981637611134485),\n",
       "  ('pesca buena', 0.03981637611134485),\n",
       "  ('migrantes emergencia', 0.03981637611134485)],\n",
       " 40: [('2016 setiembre', 0.03624005490373903),\n",
       "  ('problemas buscando', 0.03624005490373903),\n",
       "  ('lugares huyendo', 0.03624005490373903),\n",
       "  ('lared21 diario', 0.03624005490373903),\n",
       "  ('migrantes vivir', 0.03624005490373903),\n",
       "  ('instruidos mejoran', 0.03624005490373903),\n",
       "  ('pais uruguay', 0.03624005490373903),\n",
       "  ('pensiones mala', 0.03624005490373903),\n",
       "  ('peor envidia', 0.03624005490373903),\n",
       "  ('miles frentistas', 0.03624005490373903)],\n",
       " 41: [('mejore politicas', 0.03152129775481467),\n",
       "  ('migracion servicios', 0.03152129775481467),\n",
       "  ('nicaraguenses buscan', 0.03152129775481467),\n",
       "  ('mas falta', 0.03152129775481467),\n",
       "  ('paraguay unico', 0.03152129775481467),\n",
       "  ('peruanos conclu', 0.03152129775481467),\n",
       "  ('peruanos contribuyen', 0.03152129775481467),\n",
       "  ('peruanos emigramos', 0.03152129775481467),\n",
       "  ('peruanos exterior', 0.03152129775481467),\n",
       "  ('peruanos requieren', 0.03152129775481467)],\n",
       " 42: [('solicitantes asilo', 0.05877772118820008),\n",
       "  ('mpp juevesdeinmigracion', 0.0380634538926064),\n",
       "  ('mantiene deportaciones', 0.0380634538926064),\n",
       "  ('juez restablecer', 0.0380634538926064),\n",
       "  ('proceso casos', 0.0380634538926064),\n",
       "  ('mpp reestablecido', 0.0380634538926064),\n",
       "  ('muhammad ali', 0.0380634538926064),\n",
       "  ('podria aprobarse', 0.0380634538926064),\n",
       "  ('ordenan solicitantes', 0.0380634538926064),\n",
       "  ('padres visas', 0.0380634538926064)],\n",
       " 43: [('hoy caravana', 0.0325381138114216),\n",
       "  ('indeseables harias', 0.0325381138114216),\n",
       "  ('mexico economicamente', 0.0325381138114216),\n",
       "  ('hondurenos quieren', 0.0325381138114216),\n",
       "  ('migrante hondurenos', 0.0325381138114216),\n",
       "  ('migrante problema', 0.0325381138114216),\n",
       "  ('mil hondurenos', 0.0325381138114216),\n",
       "  ('nacional 12', 0.0325381138114216),\n",
       "  ('obligan mexico', 0.0325381138114216),\n",
       "  ('ilegales merecen', 0.0325381138114216)],\n",
       " 44: [('autoridades mexicanas', 0.09181799489926878),\n",
       "  ('repliega caravana', 0.056037862675226084),\n",
       "  ('irregularmente mexico', 0.056037862675226084),\n",
       "  ('lectura dominical', 0.056037862675226084),\n",
       "  ('migrantes 48', 0.056037862675226084),\n",
       "  ('mexico repliega', 0.056037862675226084),\n",
       "  ('mexicanas interceptado', 0.056037862675226084),\n",
       "  ('mas 354', 0.056037862675226084),\n",
       "  ('mas 15', 0.056037862675226084),\n",
       "  ('telefonos emergencia', 0.056037862675226084)],\n",
       " 45: [('49 migrantes', 0.06175601192780017),\n",
       "  ('maryin gonzalez', 0.06175601192780017),\n",
       "  ('vietnameses europa', 0.06175601192780017),\n",
       "  ('municipio yorito', 0.06175601192780017),\n",
       "  ('muerte inmigrantes', 0.06175601192780017),\n",
       "  ('migrantes muertos', 0.06175601192780017),\n",
       "  ('migrantes mueren', 0.06175601192780017),\n",
       "  ('mejores familias', 0.06175601192780017),\n",
       "  ('mas 70', 0.06175601192780017),\n",
       "  ('vigilia muerte', 0.06175601192780017)],\n",
       " 46: [('cerrar fronteras', 0.03263347969822482),\n",
       "  ('mejor factores', 0.031357974968520295),\n",
       "  ('rato ademas', 0.031357974968520295),\n",
       "  ('pcr aca', 0.031357974968520295),\n",
       "  ('pensar situacion', 0.031357974968520295),\n",
       "  ('piden llegar', 0.031357974968520295),\n",
       "  ('populismo mierda', 0.031357974968520295),\n",
       "  ('preparando hospitales', 0.031357974968520295),\n",
       "  ('pruebas entornos', 0.031357974968520295),\n",
       "  ('pudo prevenir', 0.031357974968520295)],\n",
       " 47: [('luego bote', 0.059921674939845716),\n",
       "  ('venezolano participo', 0.059921674939845716),\n",
       "  ('seran deportados', 0.059921674939845716),\n",
       "  ('robando tienda', 0.059921674939845716),\n",
       "  ('presidente vizcarra', 0.059921674939845716),\n",
       "  ('peru inseguro', 0.059921674939845716),\n",
       "  ('peor error', 0.059921674939845716),\n",
       "  ('participo saqueos', 0.059921674939845716),\n",
       "  ('pais seran', 0.059921674939845716),\n",
       "  ('matan celular', 0.059921674939845716)],\n",
       " 48: [('frontera bolivia', 0.07344235843437569),\n",
       "  ('libertad obispo', 0.0414526655405782),\n",
       "  ('migrantes bolivianos', 0.0414526655405782),\n",
       "  ('irregular nicaraguenses', 0.0414526655405782),\n",
       "  ('yoreporto23 hijo', 0.0414526655405782),\n",
       "  ('migrante 10', 0.0414526655405782),\n",
       "  ('otorgamiento visas', 0.0414526655405782),\n",
       "  ('nacionalidad boliviana', 0.0414526655405782),\n",
       "  ('nicaragua argentina', 0.0414526655405782),\n",
       "  ('nicaragua suspende', 0.0414526655405782)],\n",
       " 49: [('permisos residencia', 0.0696271709832393),\n",
       "  ('posterior expulsion', 0.039299280317691025),\n",
       "  ('migrante habilitara', 0.039299280317691025),\n",
       "  ('pais vulnerar', 0.039299280317691025),\n",
       "  ('violento derechos', 0.039299280317691025),\n",
       "  ('ley general', 0.039299280317691025),\n",
       "  ('penal parece', 0.039299280317691025),\n",
       "  ('pida respeto', 0.039299280317691025),\n",
       "  ('podria evitar', 0.039299280317691025),\n",
       "  ('policia presencia', 0.039299280317691025)],\n",
       " 50: [('sueno americano', 0.10264958838745811),\n",
       "  ('2017 movimiento', 0.08645841669892024),\n",
       "  ('time enfrenta', 0.08645841669892024),\n",
       "  ('ventura caravana', 0.08645841669892024),\n",
       "  ('via tamaulipas', 0.08645841669892024),\n",
       "  ('vigilo periodistas', 0.08645841669892024),\n",
       "  ('violar ley', 0.08645841669892024),\n",
       "  ('politicos comunicado', 0.08645841669892024),\n",
       "  ('pagos efectivo', 0.08645841669892024),\n",
       "  ('movimiento migrante', 0.08645841669892024)],\n",
       " 51: [('venezolanos peru', 0.08930561298278226),\n",
       "  ('voy ser', 0.08001928605536456),\n",
       "  ('ser empatico', 0.08001928605536456),\n",
       "  ('peru envidia', 0.04516484454421207),\n",
       "  ('peru ok', 0.04516484454421207),\n",
       "  ('peru ilegalmente', 0.04516484454421207),\n",
       "  ('quiera robar', 0.04516484454421207),\n",
       "  ('peruanos tmb', 0.04516484454421207),\n",
       "  ('pocos reciben', 0.04516484454421207),\n",
       "  ('politica genocida', 0.04516484454421207)],\n",
       " 52: [('2021 cerrar', 0.07120104904616961),\n",
       "  ('venezolanos frontera', 0.07120104904616961),\n",
       "  ('venezolanos presidente', 0.07120104904616961),\n",
       "  ('venezuela dicen', 0.07120104904616961),\n",
       "  ('peru cuarentena', 0.07120104904616961),\n",
       "  ('pausa mierdero', 0.07120104904616961),\n",
       "  ('muro mas', 0.07120104904616961),\n",
       "  ('ingresando venezolanos', 0.07120104904616961),\n",
       "  ('importancia evaluar', 0.07120104904616961),\n",
       "  ('hizo ecuador', 0.07120104904616961)],\n",
       " 53: [('inmigracion millonaria', 0.06304259550962935),\n",
       "  ('sugerir medico', 0.06304259550962935),\n",
       "  ('permitir tambien', 0.06304259550962935),\n",
       "  ('pagar deudas', 0.06304259550962935),\n",
       "  ('ingreso debido', 0.06304259550962935),\n",
       "  ('numero casos', 0.06304259550962935),\n",
       "  ('noticias esposados', 0.06304259550962935),\n",
       "  ('meredith arrestada', 0.06304259550962935),\n",
       "  ('local expone', 0.06304259550962935),\n",
       "  ('vivo americano', 0.06304259550962935)],\n",
       " 54: [('mejor mundo', 0.04450065565385601),\n",
       "  ('medico venezolana', 0.04450065565385601),\n",
       "  ('vivo colombia', 0.04450065565385601),\n",
       "  ('quimioterapia dejo', 0.04450065565385601),\n",
       "  ('pedir ayuda', 0.04450065565385601),\n",
       "  ('peruano absurdo', 0.04450065565385601),\n",
       "  ('practicar aborto', 0.04450065565385601),\n",
       "  ('profesionales buenos', 0.04450065565385601),\n",
       "  ('publico pueda', 0.04450065565385601),\n",
       "  ('mundo venezolana', 0.04450065565385601)],\n",
       " 55: [('extrema derecha', 0.08647973938186944),\n",
       "  ('izquierda aborto', 0.035186564935607074),\n",
       "  ('judicial inmigracion', 0.035186564935607074),\n",
       "  ('paises permitir', 0.035186564935607074),\n",
       "  ('memoria historica', 0.035186564935607074),\n",
       "  ('migrantes libertad', 0.035186564935607074),\n",
       "  ('millonario necesite', 0.035186564935607074),\n",
       "  ('odio deja', 0.035186564935607074),\n",
       "  ('pagar pensiones', 0.035186564935607074),\n",
       "  ('trabajos forzosos', 0.035186564935607074)],\n",
       " 56: [('miedo salir', 0.08248141793399116),\n",
       "  ('salir inmigrantes', 0.08248141793399116),\n",
       "  ('mujeres miedo', 0.08248141793399116),\n",
       "  ('justicia entonces', 0.04655453206864937),\n",
       "  ('inmorales via', 0.04655453206864937),\n",
       "  ('lgtb feminismo', 0.04655453206864937),\n",
       "  ('izquierdas derechas', 0.04655453206864937),\n",
       "  ('irregular medieval', 0.04655453206864937),\n",
       "  ('ocultan infancia', 0.04655453206864937),\n",
       "  ('masculinidad toxica', 0.04655453206864937)],\n",
       " 57: [('pagan impuestos', 0.07417188626130009),\n",
       "  ('malditos inmigrantes', 0.048032453721622355),\n",
       "  ('privados salud', 0.048032453721622355),\n",
       "  ('prestacion desempleo', 0.048032453721622355),\n",
       "  ('ppd votaron', 0.048032453721622355),\n",
       "  ('pagamos malditos', 0.048032453721622355),\n",
       "  ('oro quieren', 0.048032453721622355),\n",
       "  ('negro wachines', 0.048032453721622355),\n",
       "  ('nadie ganaba', 0.048032453721622355),\n",
       "  ('miraos logica', 0.048032453721622355)],\n",
       " 58: [('agenda michoacan', 0.1407462597424283),\n",
       "  ('trump historia', 0.1407462597424283),\n",
       "  ('ilegal historias', 0.1407462597424283),\n",
       "  ('carta hija', 0.1407462597424283),\n",
       "  ('canciller educacion', 0.1407462597424283),\n",
       "  ('decreto dejar', 0.1407462597424283),\n",
       "  ('york asediado', 0.1407462597424283),\n",
       "  ('inmigrante publicando', 0.1407462597424283),\n",
       "  ('separar familia', 0.1407462597424283),\n",
       "  ('silvano discurso', 0.1407462597424283)],\n",
       " 59: [('muro frontera', 0.2428374003542136),\n",
       "  ('dice pronto', 0.11003798488953485),\n",
       "  ('blanca anuncia', 0.11003798488953485),\n",
       "  ('guatemala hipocresia', 0.11003798488953485),\n",
       "  ('declarara emergencia', 0.11003798488953485),\n",
       "  ('hipocresia muro', 0.11003798488953485),\n",
       "  ('trump trump', 0.11003798488953485),\n",
       "  ('mexico muro', 0.11003798488953485),\n",
       "  ('sera pagado', 0.11003798488953485),\n",
       "  ('chiapas candiles', 0.11003798488953485)],\n",
       " 60: [('feminismo mujeres', 0.10211985077541763),\n",
       "  ('guardia nacional', 0.07004668111029169),\n",
       "  ('mujeres migrantes', 0.07004668111029169),\n",
       "  ('25 lee', 0.057638944465946834),\n",
       "  ('migrantes huyen', 0.057638944465946834),\n",
       "  ('sorprenderme asi', 0.057638944465946834),\n",
       "  ('visibilizar invisible', 0.057638944465946834),\n",
       "  ('mujeres reprimido', 0.057638944465946834),\n",
       "  ('laura fernandez', 0.057638944465946834),\n",
       "  ('igualdad mujer', 0.057638944465946834)],\n",
       " 61: [('migrantes venezolanas', 0.1881155145862956),\n",
       "  ('mujeres migrantes', 0.129033359940011),\n",
       "  ('video profesionales', 0.10617700296358626),\n",
       "  ('pesos menos', 0.10617700296358626),\n",
       "  ('prostituirse video', 0.10617700296358626),\n",
       "  ('rescatan tres', 0.10617700296358626),\n",
       "  ('sexual hombres', 0.10617700296358626),\n",
       "  ('street journal', 0.10617700296358626),\n",
       "  ('tobago cidhaudiencias', 0.10617700296358626),\n",
       "  ('venezolanas prostituyen', 0.10617700296358626)],\n",
       " 62: [('lead ponen', 0.05403651043682515),\n",
       "  ('inmigrantes titular', 0.05403651043682515),\n",
       "  ('seguira realizando', 0.05403651043682515),\n",
       "  ('previsional favorece', 0.05403651043682515),\n",
       "  ('precarios reforma', 0.05403651043682515),\n",
       "  ('poblaciones clave', 0.05403651043682515),\n",
       "  ('olvidando salud', 0.05403651043682515),\n",
       "  ('mendicidad delincuencia', 0.05403651043682515),\n",
       "  ('legado pinera', 0.05403651043682515),\n",
       "  ('vacuna cambian', 0.05403651043682515)],\n",
       " 63: [('ingreso extranjeros', 0.14617030757231209),\n",
       "  ('admiten extranjeros', 0.1141903616778192),\n",
       "  ('hotel creado', 0.1141903616778192),\n",
       "  ('compatriotas ingresar', 0.1141903616778192),\n",
       "  ('fronteras podemos', 0.1141903616778192),\n",
       "  ('trasladados gobierno', 0.1141903616778192),\n",
       "  ('norma cumple', 0.1141903616778192),\n",
       "  ('panama fronteras', 0.1141903616778192),\n",
       "  ('prohibir compatriotas', 0.1141903616778192),\n",
       "  ('solamente nacionales', 0.1141903616778192)],\n",
       " 64: [('pc ps', 0.11018159387912256),\n",
       "  ('presidente2022 delincuentes', 0.0672454352102713),\n",
       "  ('vamos necesitar', 0.0672454352102713),\n",
       "  ('absoluto nueva', 0.0672454352102713),\n",
       "  ('tocar terrorismo', 0.0672454352102713),\n",
       "  ('izquierda posible', 0.0672454352102713),\n",
       "  ('necesitar comunistas', 0.0672454352102713),\n",
       "  ('nacional integrada', 0.0672454352102713),\n",
       "  ('migrantes defendernos', 0.0672454352102713),\n",
       "  ('matarnos echarnos', 0.0672454352102713)],\n",
       " 65: [('16 anos', 0.08069452225232557),\n",
       "  ('radicales abordar', 0.08069452225232557),\n",
       "  ('pf rt', 0.08069452225232557),\n",
       "  ('solicitud empleador', 0.08069452225232557),\n",
       "  ('trabajo salarios', 0.08069452225232557),\n",
       "  ('gobierno senala', 0.08069452225232557),\n",
       "  ('oportunidades excepcion', 0.08069452225232557),\n",
       "  ('ods8 agenda2030', 0.08069452225232557),\n",
       "  ('migrante temporal', 0.08069452225232557),\n",
       "  ('manufactura 40', 0.08069452225232557)],\n",
       " 66: [('republica dominicana', 0.10049094267660014),\n",
       "  ('agente enemigo', 0.0650762276228432),\n",
       "  ('migracion desorden', 0.0650762276228432),\n",
       "  ('nacionalidad derecho', 0.0650762276228432),\n",
       "  ('pagado impuestos', 0.0650762276228432),\n",
       "  ('muro mar', 0.0650762276228432),\n",
       "  ('miles dominicanos', 0.0650762276228432),\n",
       "  ('metido rd', 0.0650762276228432),\n",
       "  ('justifica campesinos', 0.0650762276228432),\n",
       "  ('mejor vida', 0.0650762276228432)],\n",
       " 67: [('120 migrantes', 0.0570951808389096),\n",
       "  ('invasiones casas', 0.0570951808389096),\n",
       "  ('teniamos pobreza', 0.0570951808389096),\n",
       "  ('poblaciones tomas', 0.0570951808389096),\n",
       "  ('internacionales gobierno', 0.0570951808389096),\n",
       "  ('pandemia teniamos', 0.0570951808389096),\n",
       "  ('migracion desenfrenada', 0.0570951808389096),\n",
       "  ('marco estrategia', 0.0570951808389096),\n",
       "  ('llegan miles', 0.0570951808389096),\n",
       "  ('vinculo chileno', 0.0570951808389096)]}"
      ]
     },
     "execution_count": 7,
     "metadata": {},
     "output_type": "execute_result"
    }
   ],
   "source": [
    "#get top 10 words per topic\n",
    "topic_model.get_topics()"
   ]
  },
  {
   "cell_type": "markdown",
   "id": "4a6db6ae",
   "metadata": {},
   "source": [
    "Una forma más visual de observar una cantidad determinada de grupos y la cantidad de palabras más representativas puede hacerse con el método ``visualize_topics()``."
   ]
  },
  {
   "cell_type": "code",
   "execution_count": 8,
   "id": "8ee96e18",
   "metadata": {},
   "outputs": [
    {
     "data": {
      "application/vnd.plotly.v1+json": {
       "config": {
        "plotlyServerURL": "https://plot.ly"
       },
       "data": [
        {
         "marker": {
          "color": "#D55E00"
         },
         "orientation": "h",
         "type": "bar",
         "x": [
          0.009683342670279068,
          0.012764748949005679,
          0.017156134930270163,
          0.017156134930270163,
          0.017156134930270163,
          0.017156134930270163,
          0.017156134930270163,
          0.02734096473254114
         ],
         "xaxis": "x",
         "y": [
          "peru acnur  ",
          "colombia ecuador  ",
          "atender migracion  ",
          "nombra representante  ",
          "venezolanos michel  ",
          "especial crisis  ",
          "800 venezuela  ",
          "inmigrantes venezolanos  "
         ],
         "yaxis": "y"
        },
        {
         "marker": {
          "color": "#0072B2"
         },
         "orientation": "h",
         "type": "bar",
         "x": [
          0.012351202385560036,
          0.012351202385560036,
          0.012351202385560036,
          0.012351202385560036,
          0.020237435610451084,
          0.021882825166160923,
          0.02371538663673227,
          0.051414380259244004
         ],
         "xaxis": "x2",
         "y": [
          "oposicion angora  ",
          "ocurre propagacion  ",
          "opinion cientificos  ",
          "narco us  ",
          "construccion muro  ",
          "frontera aeropuertos  ",
          "ingreso extranjeros  ",
          "cerrar fronteras  "
         ],
         "yaxis": "y2"
        },
        {
         "marker": {
          "color": "#CC79A7"
         },
         "orientation": "h",
         "type": "bar",
         "x": [
          0.012152789495832162,
          0.012152789495832162,
          0.012152789495832162,
          0.012152789495832162,
          0.012152789495832162,
          0.012152789495832162,
          0.015665714816253156,
          0.02153129383819046
         ],
         "xaxis": "x3",
         "y": [
          "pais sabemos  ",
          "muerte comenzaste  ",
          "morales remitiria  ",
          "ninos medicamentos  ",
          "nuevos vienen  ",
          "miseria conurbano  ",
          "inmigrantes ilegales  ",
          "trabajar duro  "
         ],
         "yaxis": "y3"
        },
        {
         "marker": {
          "color": "#E69F00"
         },
         "orientation": "h",
         "type": "bar",
         "x": [
          0.013099760105897007,
          0.013099760105897007,
          0.013099760105897007,
          0.013099760105897007,
          0.013099760105897007,
          0.023209056994413096,
          0.023209056994413096,
          0.023209056994413096
         ],
         "xaxis": "x4",
         "y": [
          "positivos personas  ",
          "proceso aplicado  ",
          "plasticas uniformes  ",
          "pobres medicos  ",
          "politicos inmigrantes  ",
          "19 recuerda  ",
          "puntos vacunacion  ",
          "mexico canada  "
         ],
         "yaxis": "y4"
        },
        {
         "marker": {
          "color": "#56B4E9"
         },
         "orientation": "h",
         "type": "bar",
         "x": [
          0.021461309109661052,
          0.021461309109661052,
          0.021461309109661052,
          0.021461309109661052,
          0.023091003768727872,
          0.028290666996909748,
          0.03516433847206039,
          0.0534816942000902
         ],
         "xaxis": "x5",
         "y": [
          "00 soldados  ",
          "obama mexico  ",
          "noche by  ",
          "obrador hijos  ",
          "costa rica  ",
          "derechos migrantes  ",
          "mexico unidos  ",
          "frontera mexico  "
         ],
         "yaxis": "y5"
        },
        {
         "marker": {
          "color": "#009E73"
         },
         "orientation": "h",
         "type": "bar",
         "x": [
          0.01461857287179811,
          0.01461857287179811,
          0.01461857287179811,
          0.01461857287179811,
          0.01461857287179811,
          0.0239525204085049,
          0.02589996215318563,
          0.03386107851059352
         ],
         "xaxis": "x6",
         "y": [
          "miserableza cambio  ",
          "migrantes ejemplo  ",
          "plazas migrantes  ",
          "piensa onu  ",
          "nacionales rechazan  ",
          "quitan trabajo  ",
          "raro contrataran  ",
          "inmigrantes quitan  "
         ],
         "yaxis": "y6"
        },
        {
         "marker": {
          "color": "#F0E442"
         },
         "orientation": "h",
         "type": "bar",
         "x": [
          0.020797557281527206,
          0.020797557281527206,
          0.020797557281527206,
          0.020797557281527206,
          0.020797557281527206,
          0.020797557281527206,
          0.020797557281527206,
          0.020797557281527206
         ],
         "xaxis": "x7",
         "y": [
          "minima inmigrantes  ",
          "peligrosos pueden  ",
          "momento criminalizado  ",
          "pasar vigilancia  ",
          "nieta hijos  ",
          "minoria entonces  ",
          "necesidades economicas  ",
          "martin perez  "
         ],
         "yaxis": "y7"
        },
        {
         "marker": {
          "color": "#D55E00"
         },
         "orientation": "h",
         "type": "bar",
         "x": [
          0.02208791667490663,
          0.02208791667490663,
          0.02208791667490663,
          0.02208791667490663,
          0.02208791667490663,
          0.02208791667490663,
          0.02208791667490663,
          0.02208791667490663
         ],
         "xaxis": "x8",
         "y": [
          "necesita patriota  ",
          "ninguneando argentinos  ",
          "nueva reforma  ",
          "mundo cerrar  ",
          "mundo inmigrantes  ",
          "paraguay peru  ",
          "pais argentinaunpaisconbuenagente  ",
          "pais papito  "
         ],
         "yaxis": "y8"
        },
        {
         "marker": {
          "color": "#0072B2"
         },
         "orientation": "h",
         "type": "bar",
         "x": [
          0.021087418707053718,
          0.021087418707053718,
          0.021087418707053718,
          0.02627497868366801,
          0.03384620681370102,
          0.037360921015396696,
          0.037360921015396696,
          0.051827579002374724
         ],
         "xaxis": "x9",
         "y": [
          "reunificacion familiar  ",
          "propio territorio  ",
          "proximo mes  ",
          "venezolanos colombia  ",
          "migrantes venezolanos  ",
          "vacunar venezolanos  ",
          "300 mil  ",
          "pasaporte vacunacion  "
         ],
         "yaxis": "y9"
        },
        {
         "marker": {
          "color": "#CC79A7"
         },
         "orientation": "h",
         "type": "bar",
         "x": [
          0.02500863292943974,
          0.02500863292943974,
          0.02500863292943974,
          0.02500863292943974,
          0.02500863292943974,
          0.02500863292943974,
          0.02500863292943974,
          0.03405122265329285
         ],
         "xaxis": "x10",
         "y": [
          "poblacion salvadorena  ",
          "paso importante  ",
          "presidenta bachelet  ",
          "orange walk  ",
          "norteamericano razones  ",
          "necesiten viajar  ",
          "muchas cartas  ",
          "tema migratorio  "
         ],
         "yaxis": "y10"
        }
       ],
       "layout": {
        "annotations": [
         {
          "font": {
           "size": 16
          },
          "showarrow": false,
          "text": "Topic 1",
          "x": 0.0875,
          "xanchor": "center",
          "xref": "paper",
          "y": 1,
          "yanchor": "bottom",
          "yref": "paper"
         },
         {
          "font": {
           "size": 16
          },
          "showarrow": false,
          "text": "Topic 3",
          "x": 0.36250000000000004,
          "xanchor": "center",
          "xref": "paper",
          "y": 1,
          "yanchor": "bottom",
          "yref": "paper"
         },
         {
          "font": {
           "size": 16
          },
          "showarrow": false,
          "text": "Topic 5",
          "x": 0.6375000000000001,
          "xanchor": "center",
          "xref": "paper",
          "y": 1,
          "yanchor": "bottom",
          "yref": "paper"
         },
         {
          "font": {
           "size": 16
          },
          "showarrow": false,
          "text": "Topic 7",
          "x": 0.9125,
          "xanchor": "center",
          "xref": "paper",
          "y": 1,
          "yanchor": "bottom",
          "yref": "paper"
         },
         {
          "font": {
           "size": 16
          },
          "showarrow": false,
          "text": "Topic 9",
          "x": 0.0875,
          "xanchor": "center",
          "xref": "paper",
          "y": 0.6222222222222222,
          "yanchor": "bottom",
          "yref": "paper"
         },
         {
          "font": {
           "size": 16
          },
          "showarrow": false,
          "text": "Topic 11",
          "x": 0.36250000000000004,
          "xanchor": "center",
          "xref": "paper",
          "y": 0.6222222222222222,
          "yanchor": "bottom",
          "yref": "paper"
         },
         {
          "font": {
           "size": 16
          },
          "showarrow": false,
          "text": "Topic 13",
          "x": 0.6375000000000001,
          "xanchor": "center",
          "xref": "paper",
          "y": 0.6222222222222222,
          "yanchor": "bottom",
          "yref": "paper"
         },
         {
          "font": {
           "size": 16
          },
          "showarrow": false,
          "text": "Topic 15",
          "x": 0.9125,
          "xanchor": "center",
          "xref": "paper",
          "y": 0.6222222222222222,
          "yanchor": "bottom",
          "yref": "paper"
         },
         {
          "font": {
           "size": 16
          },
          "showarrow": false,
          "text": "Topic 17",
          "x": 0.0875,
          "xanchor": "center",
          "xref": "paper",
          "y": 0.24444444444444446,
          "yanchor": "bottom",
          "yref": "paper"
         },
         {
          "font": {
           "size": 16
          },
          "showarrow": false,
          "text": "Topic 19",
          "x": 0.36250000000000004,
          "xanchor": "center",
          "xref": "paper",
          "y": 0.24444444444444446,
          "yanchor": "bottom",
          "yref": "paper"
         }
        ],
        "height": 1200,
        "hoverlabel": {
         "bgcolor": "white",
         "font": {
          "family": "Rockwell",
          "size": 16
         }
        },
        "showlegend": false,
        "template": {
         "data": {
          "bar": [
           {
            "error_x": {
             "color": "#2a3f5f"
            },
            "error_y": {
             "color": "#2a3f5f"
            },
            "marker": {
             "line": {
              "color": "white",
              "width": 0.5
             },
             "pattern": {
              "fillmode": "overlay",
              "size": 10,
              "solidity": 0.2
             }
            },
            "type": "bar"
           }
          ],
          "barpolar": [
           {
            "marker": {
             "line": {
              "color": "white",
              "width": 0.5
             },
             "pattern": {
              "fillmode": "overlay",
              "size": 10,
              "solidity": 0.2
             }
            },
            "type": "barpolar"
           }
          ],
          "carpet": [
           {
            "aaxis": {
             "endlinecolor": "#2a3f5f",
             "gridcolor": "#C8D4E3",
             "linecolor": "#C8D4E3",
             "minorgridcolor": "#C8D4E3",
             "startlinecolor": "#2a3f5f"
            },
            "baxis": {
             "endlinecolor": "#2a3f5f",
             "gridcolor": "#C8D4E3",
             "linecolor": "#C8D4E3",
             "minorgridcolor": "#C8D4E3",
             "startlinecolor": "#2a3f5f"
            },
            "type": "carpet"
           }
          ],
          "choropleth": [
           {
            "colorbar": {
             "outlinewidth": 0,
             "ticks": ""
            },
            "type": "choropleth"
           }
          ],
          "contour": [
           {
            "colorbar": {
             "outlinewidth": 0,
             "ticks": ""
            },
            "colorscale": [
             [
              0,
              "#0d0887"
             ],
             [
              0.1111111111111111,
              "#46039f"
             ],
             [
              0.2222222222222222,
              "#7201a8"
             ],
             [
              0.3333333333333333,
              "#9c179e"
             ],
             [
              0.4444444444444444,
              "#bd3786"
             ],
             [
              0.5555555555555556,
              "#d8576b"
             ],
             [
              0.6666666666666666,
              "#ed7953"
             ],
             [
              0.7777777777777778,
              "#fb9f3a"
             ],
             [
              0.8888888888888888,
              "#fdca26"
             ],
             [
              1,
              "#f0f921"
             ]
            ],
            "type": "contour"
           }
          ],
          "contourcarpet": [
           {
            "colorbar": {
             "outlinewidth": 0,
             "ticks": ""
            },
            "type": "contourcarpet"
           }
          ],
          "heatmap": [
           {
            "colorbar": {
             "outlinewidth": 0,
             "ticks": ""
            },
            "colorscale": [
             [
              0,
              "#0d0887"
             ],
             [
              0.1111111111111111,
              "#46039f"
             ],
             [
              0.2222222222222222,
              "#7201a8"
             ],
             [
              0.3333333333333333,
              "#9c179e"
             ],
             [
              0.4444444444444444,
              "#bd3786"
             ],
             [
              0.5555555555555556,
              "#d8576b"
             ],
             [
              0.6666666666666666,
              "#ed7953"
             ],
             [
              0.7777777777777778,
              "#fb9f3a"
             ],
             [
              0.8888888888888888,
              "#fdca26"
             ],
             [
              1,
              "#f0f921"
             ]
            ],
            "type": "heatmap"
           }
          ],
          "heatmapgl": [
           {
            "colorbar": {
             "outlinewidth": 0,
             "ticks": ""
            },
            "colorscale": [
             [
              0,
              "#0d0887"
             ],
             [
              0.1111111111111111,
              "#46039f"
             ],
             [
              0.2222222222222222,
              "#7201a8"
             ],
             [
              0.3333333333333333,
              "#9c179e"
             ],
             [
              0.4444444444444444,
              "#bd3786"
             ],
             [
              0.5555555555555556,
              "#d8576b"
             ],
             [
              0.6666666666666666,
              "#ed7953"
             ],
             [
              0.7777777777777778,
              "#fb9f3a"
             ],
             [
              0.8888888888888888,
              "#fdca26"
             ],
             [
              1,
              "#f0f921"
             ]
            ],
            "type": "heatmapgl"
           }
          ],
          "histogram": [
           {
            "marker": {
             "pattern": {
              "fillmode": "overlay",
              "size": 10,
              "solidity": 0.2
             }
            },
            "type": "histogram"
           }
          ],
          "histogram2d": [
           {
            "colorbar": {
             "outlinewidth": 0,
             "ticks": ""
            },
            "colorscale": [
             [
              0,
              "#0d0887"
             ],
             [
              0.1111111111111111,
              "#46039f"
             ],
             [
              0.2222222222222222,
              "#7201a8"
             ],
             [
              0.3333333333333333,
              "#9c179e"
             ],
             [
              0.4444444444444444,
              "#bd3786"
             ],
             [
              0.5555555555555556,
              "#d8576b"
             ],
             [
              0.6666666666666666,
              "#ed7953"
             ],
             [
              0.7777777777777778,
              "#fb9f3a"
             ],
             [
              0.8888888888888888,
              "#fdca26"
             ],
             [
              1,
              "#f0f921"
             ]
            ],
            "type": "histogram2d"
           }
          ],
          "histogram2dcontour": [
           {
            "colorbar": {
             "outlinewidth": 0,
             "ticks": ""
            },
            "colorscale": [
             [
              0,
              "#0d0887"
             ],
             [
              0.1111111111111111,
              "#46039f"
             ],
             [
              0.2222222222222222,
              "#7201a8"
             ],
             [
              0.3333333333333333,
              "#9c179e"
             ],
             [
              0.4444444444444444,
              "#bd3786"
             ],
             [
              0.5555555555555556,
              "#d8576b"
             ],
             [
              0.6666666666666666,
              "#ed7953"
             ],
             [
              0.7777777777777778,
              "#fb9f3a"
             ],
             [
              0.8888888888888888,
              "#fdca26"
             ],
             [
              1,
              "#f0f921"
             ]
            ],
            "type": "histogram2dcontour"
           }
          ],
          "mesh3d": [
           {
            "colorbar": {
             "outlinewidth": 0,
             "ticks": ""
            },
            "type": "mesh3d"
           }
          ],
          "parcoords": [
           {
            "line": {
             "colorbar": {
              "outlinewidth": 0,
              "ticks": ""
             }
            },
            "type": "parcoords"
           }
          ],
          "pie": [
           {
            "automargin": true,
            "type": "pie"
           }
          ],
          "scatter": [
           {
            "fillpattern": {
             "fillmode": "overlay",
             "size": 10,
             "solidity": 0.2
            },
            "type": "scatter"
           }
          ],
          "scatter3d": [
           {
            "line": {
             "colorbar": {
              "outlinewidth": 0,
              "ticks": ""
             }
            },
            "marker": {
             "colorbar": {
              "outlinewidth": 0,
              "ticks": ""
             }
            },
            "type": "scatter3d"
           }
          ],
          "scattercarpet": [
           {
            "marker": {
             "colorbar": {
              "outlinewidth": 0,
              "ticks": ""
             }
            },
            "type": "scattercarpet"
           }
          ],
          "scattergeo": [
           {
            "marker": {
             "colorbar": {
              "outlinewidth": 0,
              "ticks": ""
             }
            },
            "type": "scattergeo"
           }
          ],
          "scattergl": [
           {
            "marker": {
             "colorbar": {
              "outlinewidth": 0,
              "ticks": ""
             }
            },
            "type": "scattergl"
           }
          ],
          "scattermapbox": [
           {
            "marker": {
             "colorbar": {
              "outlinewidth": 0,
              "ticks": ""
             }
            },
            "type": "scattermapbox"
           }
          ],
          "scatterpolar": [
           {
            "marker": {
             "colorbar": {
              "outlinewidth": 0,
              "ticks": ""
             }
            },
            "type": "scatterpolar"
           }
          ],
          "scatterpolargl": [
           {
            "marker": {
             "colorbar": {
              "outlinewidth": 0,
              "ticks": ""
             }
            },
            "type": "scatterpolargl"
           }
          ],
          "scatterternary": [
           {
            "marker": {
             "colorbar": {
              "outlinewidth": 0,
              "ticks": ""
             }
            },
            "type": "scatterternary"
           }
          ],
          "surface": [
           {
            "colorbar": {
             "outlinewidth": 0,
             "ticks": ""
            },
            "colorscale": [
             [
              0,
              "#0d0887"
             ],
             [
              0.1111111111111111,
              "#46039f"
             ],
             [
              0.2222222222222222,
              "#7201a8"
             ],
             [
              0.3333333333333333,
              "#9c179e"
             ],
             [
              0.4444444444444444,
              "#bd3786"
             ],
             [
              0.5555555555555556,
              "#d8576b"
             ],
             [
              0.6666666666666666,
              "#ed7953"
             ],
             [
              0.7777777777777778,
              "#fb9f3a"
             ],
             [
              0.8888888888888888,
              "#fdca26"
             ],
             [
              1,
              "#f0f921"
             ]
            ],
            "type": "surface"
           }
          ],
          "table": [
           {
            "cells": {
             "fill": {
              "color": "#EBF0F8"
             },
             "line": {
              "color": "white"
             }
            },
            "header": {
             "fill": {
              "color": "#C8D4E3"
             },
             "line": {
              "color": "white"
             }
            },
            "type": "table"
           }
          ]
         },
         "layout": {
          "annotationdefaults": {
           "arrowcolor": "#2a3f5f",
           "arrowhead": 0,
           "arrowwidth": 1
          },
          "autotypenumbers": "strict",
          "coloraxis": {
           "colorbar": {
            "outlinewidth": 0,
            "ticks": ""
           }
          },
          "colorscale": {
           "diverging": [
            [
             0,
             "#8e0152"
            ],
            [
             0.1,
             "#c51b7d"
            ],
            [
             0.2,
             "#de77ae"
            ],
            [
             0.3,
             "#f1b6da"
            ],
            [
             0.4,
             "#fde0ef"
            ],
            [
             0.5,
             "#f7f7f7"
            ],
            [
             0.6,
             "#e6f5d0"
            ],
            [
             0.7,
             "#b8e186"
            ],
            [
             0.8,
             "#7fbc41"
            ],
            [
             0.9,
             "#4d9221"
            ],
            [
             1,
             "#276419"
            ]
           ],
           "sequential": [
            [
             0,
             "#0d0887"
            ],
            [
             0.1111111111111111,
             "#46039f"
            ],
            [
             0.2222222222222222,
             "#7201a8"
            ],
            [
             0.3333333333333333,
             "#9c179e"
            ],
            [
             0.4444444444444444,
             "#bd3786"
            ],
            [
             0.5555555555555556,
             "#d8576b"
            ],
            [
             0.6666666666666666,
             "#ed7953"
            ],
            [
             0.7777777777777778,
             "#fb9f3a"
            ],
            [
             0.8888888888888888,
             "#fdca26"
            ],
            [
             1,
             "#f0f921"
            ]
           ],
           "sequentialminus": [
            [
             0,
             "#0d0887"
            ],
            [
             0.1111111111111111,
             "#46039f"
            ],
            [
             0.2222222222222222,
             "#7201a8"
            ],
            [
             0.3333333333333333,
             "#9c179e"
            ],
            [
             0.4444444444444444,
             "#bd3786"
            ],
            [
             0.5555555555555556,
             "#d8576b"
            ],
            [
             0.6666666666666666,
             "#ed7953"
            ],
            [
             0.7777777777777778,
             "#fb9f3a"
            ],
            [
             0.8888888888888888,
             "#fdca26"
            ],
            [
             1,
             "#f0f921"
            ]
           ]
          },
          "colorway": [
           "#636efa",
           "#EF553B",
           "#00cc96",
           "#ab63fa",
           "#FFA15A",
           "#19d3f3",
           "#FF6692",
           "#B6E880",
           "#FF97FF",
           "#FECB52"
          ],
          "font": {
           "color": "#2a3f5f"
          },
          "geo": {
           "bgcolor": "white",
           "lakecolor": "white",
           "landcolor": "white",
           "showlakes": true,
           "showland": true,
           "subunitcolor": "#C8D4E3"
          },
          "hoverlabel": {
           "align": "left"
          },
          "hovermode": "closest",
          "mapbox": {
           "style": "light"
          },
          "paper_bgcolor": "white",
          "plot_bgcolor": "white",
          "polar": {
           "angularaxis": {
            "gridcolor": "#EBF0F8",
            "linecolor": "#EBF0F8",
            "ticks": ""
           },
           "bgcolor": "white",
           "radialaxis": {
            "gridcolor": "#EBF0F8",
            "linecolor": "#EBF0F8",
            "ticks": ""
           }
          },
          "scene": {
           "xaxis": {
            "backgroundcolor": "white",
            "gridcolor": "#DFE8F3",
            "gridwidth": 2,
            "linecolor": "#EBF0F8",
            "showbackground": true,
            "ticks": "",
            "zerolinecolor": "#EBF0F8"
           },
           "yaxis": {
            "backgroundcolor": "white",
            "gridcolor": "#DFE8F3",
            "gridwidth": 2,
            "linecolor": "#EBF0F8",
            "showbackground": true,
            "ticks": "",
            "zerolinecolor": "#EBF0F8"
           },
           "zaxis": {
            "backgroundcolor": "white",
            "gridcolor": "#DFE8F3",
            "gridwidth": 2,
            "linecolor": "#EBF0F8",
            "showbackground": true,
            "ticks": "",
            "zerolinecolor": "#EBF0F8"
           }
          },
          "shapedefaults": {
           "line": {
            "color": "#2a3f5f"
           }
          },
          "ternary": {
           "aaxis": {
            "gridcolor": "#DFE8F3",
            "linecolor": "#A2B1C6",
            "ticks": ""
           },
           "baxis": {
            "gridcolor": "#DFE8F3",
            "linecolor": "#A2B1C6",
            "ticks": ""
           },
           "bgcolor": "white",
           "caxis": {
            "gridcolor": "#DFE8F3",
            "linecolor": "#A2B1C6",
            "ticks": ""
           }
          },
          "title": {
           "x": 0.05
          },
          "xaxis": {
           "automargin": true,
           "gridcolor": "#EBF0F8",
           "linecolor": "#EBF0F8",
           "ticks": "",
           "title": {
            "standoff": 15
           },
           "zerolinecolor": "#EBF0F8",
           "zerolinewidth": 2
          },
          "yaxis": {
           "automargin": true,
           "gridcolor": "#EBF0F8",
           "linecolor": "#EBF0F8",
           "ticks": "",
           "title": {
            "standoff": 15
           },
           "zerolinecolor": "#EBF0F8",
           "zerolinewidth": 2
          }
         }
        },
        "title": {
         "font": {
          "color": "Black",
          "size": 22
         },
         "text": "<b>Topic Word Scores",
         "x": 0.5,
         "xanchor": "center",
         "yanchor": "top"
        },
        "width": 1800,
        "xaxis": {
         "anchor": "y",
         "domain": [
          0,
          0.175
         ],
         "showgrid": true
        },
        "xaxis10": {
         "anchor": "y10",
         "domain": [
          0.275,
          0.45
         ],
         "showgrid": true
        },
        "xaxis11": {
         "anchor": "y11",
         "domain": [
          0.55,
          0.7250000000000001
         ],
         "showgrid": true
        },
        "xaxis12": {
         "anchor": "y12",
         "domain": [
          0.825,
          1
         ],
         "showgrid": true
        },
        "xaxis2": {
         "anchor": "y2",
         "domain": [
          0.275,
          0.45
         ],
         "showgrid": true
        },
        "xaxis3": {
         "anchor": "y3",
         "domain": [
          0.55,
          0.7250000000000001
         ],
         "showgrid": true
        },
        "xaxis4": {
         "anchor": "y4",
         "domain": [
          0.825,
          1
         ],
         "showgrid": true
        },
        "xaxis5": {
         "anchor": "y5",
         "domain": [
          0,
          0.175
         ],
         "showgrid": true
        },
        "xaxis6": {
         "anchor": "y6",
         "domain": [
          0.275,
          0.45
         ],
         "showgrid": true
        },
        "xaxis7": {
         "anchor": "y7",
         "domain": [
          0.55,
          0.7250000000000001
         ],
         "showgrid": true
        },
        "xaxis8": {
         "anchor": "y8",
         "domain": [
          0.825,
          1
         ],
         "showgrid": true
        },
        "xaxis9": {
         "anchor": "y9",
         "domain": [
          0,
          0.175
         ],
         "showgrid": true
        },
        "yaxis": {
         "anchor": "x",
         "domain": [
          0.7555555555555555,
          1
         ],
         "showgrid": true
        },
        "yaxis10": {
         "anchor": "x10",
         "domain": [
          0,
          0.24444444444444446
         ],
         "showgrid": true
        },
        "yaxis11": {
         "anchor": "x11",
         "domain": [
          0,
          0.24444444444444446
         ],
         "showgrid": true
        },
        "yaxis12": {
         "anchor": "x12",
         "domain": [
          0,
          0.24444444444444446
         ],
         "showgrid": true
        },
        "yaxis2": {
         "anchor": "x2",
         "domain": [
          0.7555555555555555,
          1
         ],
         "showgrid": true
        },
        "yaxis3": {
         "anchor": "x3",
         "domain": [
          0.7555555555555555,
          1
         ],
         "showgrid": true
        },
        "yaxis4": {
         "anchor": "x4",
         "domain": [
          0.7555555555555555,
          1
         ],
         "showgrid": true
        },
        "yaxis5": {
         "anchor": "x5",
         "domain": [
          0.37777777777777777,
          0.6222222222222222
         ],
         "showgrid": true
        },
        "yaxis6": {
         "anchor": "x6",
         "domain": [
          0.37777777777777777,
          0.6222222222222222
         ],
         "showgrid": true
        },
        "yaxis7": {
         "anchor": "x7",
         "domain": [
          0.37777777777777777,
          0.6222222222222222
         ],
         "showgrid": true
        },
        "yaxis8": {
         "anchor": "x8",
         "domain": [
          0.37777777777777777,
          0.6222222222222222
         ],
         "showgrid": true
        },
        "yaxis9": {
         "anchor": "x9",
         "domain": [
          0,
          0.24444444444444446
         ],
         "showgrid": true
        }
       }
      }
     },
     "metadata": {},
     "output_type": "display_data"
    }
   ],
   "source": [
    "topic_model.visualize_barchart(topics=[1,3,5,7,9,11,13,15,17,19], n_words=8, width=450, height=400)"
   ]
  },
  {
   "cell_type": "markdown",
   "id": "35af1942",
   "metadata": {},
   "source": [
    "A través de los embbedings y los tópicos es posible estimar la jerarquía entre los grupos. Esto se puede hacer con el método ``get_topic_hierarchy()``. La jerarquía es útil para comprender la relación entre los grupos y para identificar grupos que se encuentran dentro de otros grupos."
   ]
  },
  {
   "cell_type": "code",
   "execution_count": 9,
   "id": "1a511235",
   "metadata": {},
   "outputs": [
    {
     "data": {
      "application/vnd.plotly.v1+json": {
       "config": {
        "plotlyServerURL": "https://plot.ly"
       },
       "data": [
        {
         "hoverinfo": "text",
         "marker": {
          "color": "rgb(0,116,217)"
         },
         "mode": "lines",
         "type": "scatter",
         "x": [
          0,
          1.3549055386417919,
          1.3549055386417919,
          0
         ],
         "xaxis": "x",
         "y": [
          -15,
          -15,
          -25,
          -25
         ],
         "yaxis": "y"
        },
        {
         "hoverinfo": "text",
         "marker": {
          "color": "rgb(0,116,217)"
         },
         "mode": "lines",
         "type": "scatter",
         "x": [
          1.3549055386417919,
          1.3911203235306728,
          1.3911203235306728,
          0
         ],
         "xaxis": "x",
         "y": [
          -20,
          -20,
          -35,
          -35
         ],
         "yaxis": "y"
        },
        {
         "hoverinfo": "text",
         "marker": {
          "color": "rgb(0,116,217)"
         },
         "mode": "lines",
         "type": "scatter",
         "x": [
          0,
          1.3983382799263104,
          1.3983382799263104,
          1.3911203235306728
         ],
         "xaxis": "x",
         "y": [
          -5,
          -5,
          -27.5,
          -27.5
         ],
         "yaxis": "y"
        },
        {
         "hoverinfo": "text",
         "marker": {
          "color": "rgb(0,116,217)"
         },
         "mode": "lines",
         "type": "scatter",
         "x": [
          0,
          1.3653833160428022,
          1.3653833160428022,
          0
         ],
         "xaxis": "x",
         "y": [
          -45,
          -45,
          -55,
          -55
         ],
         "yaxis": "y"
        },
        {
         "hoverinfo": "text",
         "marker": {
          "color": "rgb(0,116,217)"
         },
         "mode": "lines",
         "type": "scatter",
         "x": [
          1.3983382799263104,
          1.4371437248577221,
          1.4371437248577221,
          1.3653833160428022
         ],
         "xaxis": "x",
         "y": [
          -16.25,
          -16.25,
          -50,
          -50
         ],
         "yaxis": "y"
        },
        {
         "hoverinfo": "text",
         "marker": {
          "color": "rgb(0,116,217)"
         },
         "mode": "lines",
         "type": "scatter",
         "x": [
          0,
          1.364404876019958,
          1.364404876019958,
          0
         ],
         "xaxis": "x",
         "y": [
          -75,
          -75,
          -85,
          -85
         ],
         "yaxis": "y"
        },
        {
         "hoverinfo": "text",
         "marker": {
          "color": "rgb(0,116,217)"
         },
         "mode": "lines",
         "type": "scatter",
         "x": [
          0,
          1.38542766630408,
          1.38542766630408,
          1.364404876019958
         ],
         "xaxis": "x",
         "y": [
          -65,
          -65,
          -80,
          -80
         ],
         "yaxis": "y"
        },
        {
         "hoverinfo": "text",
         "marker": {
          "color": "rgb(0,116,217)"
         },
         "mode": "lines",
         "type": "scatter",
         "x": [
          0,
          1.388383814784859,
          1.388383814784859,
          0
         ],
         "xaxis": "x",
         "y": [
          -105,
          -105,
          -115,
          -115
         ],
         "yaxis": "y"
        },
        {
         "hoverinfo": "text",
         "marker": {
          "color": "rgb(0,116,217)"
         },
         "mode": "lines",
         "type": "scatter",
         "x": [
          0,
          1.4025084381836486,
          1.4025084381836486,
          1.388383814784859
         ],
         "xaxis": "x",
         "y": [
          -95,
          -95,
          -110,
          -110
         ],
         "yaxis": "y"
        },
        {
         "hoverinfo": "text",
         "marker": {
          "color": "rgb(0,116,217)"
         },
         "mode": "lines",
         "type": "scatter",
         "x": [
          0,
          1.3899333366927413,
          1.3899333366927413,
          0
         ],
         "xaxis": "x",
         "y": [
          -125,
          -125,
          -135,
          -135
         ],
         "yaxis": "y"
        },
        {
         "hoverinfo": "text",
         "marker": {
          "color": "rgb(0,116,217)"
         },
         "mode": "lines",
         "type": "scatter",
         "x": [
          0,
          1.4012568371260032,
          1.4012568371260032,
          0
         ],
         "xaxis": "x",
         "y": [
          -145,
          -145,
          -155,
          -155
         ],
         "yaxis": "y"
        },
        {
         "hoverinfo": "text",
         "marker": {
          "color": "rgb(0,116,217)"
         },
         "mode": "lines",
         "type": "scatter",
         "x": [
          0,
          1.4000276615168934,
          1.4000276615168934,
          0
         ],
         "xaxis": "x",
         "y": [
          -165,
          -165,
          -175,
          -175
         ],
         "yaxis": "y"
        },
        {
         "hoverinfo": "text",
         "marker": {
          "color": "rgb(0,116,217)"
         },
         "mode": "lines",
         "type": "scatter",
         "x": [
          0,
          1.4085623592796357,
          1.4085623592796357,
          0
         ],
         "xaxis": "x",
         "y": [
          -185,
          -185,
          -195,
          -195
         ],
         "yaxis": "y"
        },
        {
         "hoverinfo": "text",
         "marker": {
          "color": "rgb(0,116,217)"
         },
         "mode": "lines",
         "type": "scatter",
         "x": [
          1.4000276615168934,
          1.4147005552693936,
          1.4147005552693936,
          1.4085623592796357
         ],
         "xaxis": "x",
         "y": [
          -170,
          -170,
          -190,
          -190
         ],
         "yaxis": "y"
        },
        {
         "hoverinfo": "text",
         "marker": {
          "color": "rgb(0,116,217)"
         },
         "mode": "lines",
         "type": "scatter",
         "x": [
          1.4012568371260032,
          1.423053301795442,
          1.423053301795442,
          1.4147005552693936
         ],
         "xaxis": "x",
         "y": [
          -150,
          -150,
          -180,
          -180
         ],
         "yaxis": "y"
        },
        {
         "hoverinfo": "text",
         "marker": {
          "color": "rgb(0,116,217)"
         },
         "mode": "lines",
         "type": "scatter",
         "x": [
          0,
          1.4053385335116129,
          1.4053385335116129,
          0
         ],
         "xaxis": "x",
         "y": [
          -205,
          -205,
          -215,
          -215
         ],
         "yaxis": "y"
        },
        {
         "hoverinfo": "text",
         "marker": {
          "color": "rgb(0,116,217)"
         },
         "mode": "lines",
         "type": "scatter",
         "x": [
          0,
          1.4047373599425008,
          1.4047373599425008,
          0
         ],
         "xaxis": "x",
         "y": [
          -225,
          -225,
          -235,
          -235
         ],
         "yaxis": "y"
        },
        {
         "hoverinfo": "text",
         "marker": {
          "color": "rgb(0,116,217)"
         },
         "mode": "lines",
         "type": "scatter",
         "x": [
          1.4047373599425008,
          1.4119495604062493,
          1.4119495604062493,
          0
         ],
         "xaxis": "x",
         "y": [
          -230,
          -230,
          -245,
          -245
         ],
         "yaxis": "y"
        },
        {
         "hoverinfo": "text",
         "marker": {
          "color": "rgb(0,116,217)"
         },
         "mode": "lines",
         "type": "scatter",
         "x": [
          1.4053385335116129,
          1.4218307273235113,
          1.4218307273235113,
          1.4119495604062493
         ],
         "xaxis": "x",
         "y": [
          -210,
          -210,
          -237.5,
          -237.5
         ],
         "yaxis": "y"
        },
        {
         "hoverinfo": "text",
         "marker": {
          "color": "rgb(0,116,217)"
         },
         "mode": "lines",
         "type": "scatter",
         "x": [
          0,
          1.4103559031306208,
          1.4103559031306208,
          0
         ],
         "xaxis": "x",
         "y": [
          -255,
          -255,
          -265,
          -265
         ],
         "yaxis": "y"
        },
        {
         "hoverinfo": "text",
         "marker": {
          "color": "rgb(0,116,217)"
         },
         "mode": "lines",
         "type": "scatter",
         "x": [
          0,
          1.4076285096938976,
          1.4076285096938976,
          0
         ],
         "xaxis": "x",
         "y": [
          -275,
          -275,
          -285,
          -285
         ],
         "yaxis": "y"
        },
        {
         "hoverinfo": "text",
         "marker": {
          "color": "rgb(0,116,217)"
         },
         "mode": "lines",
         "type": "scatter",
         "x": [
          1.4103559031306208,
          1.4151397261301266,
          1.4151397261301266,
          1.4076285096938976
         ],
         "xaxis": "x",
         "y": [
          -260,
          -260,
          -280,
          -280
         ],
         "yaxis": "y"
        },
        {
         "hoverinfo": "text",
         "marker": {
          "color": "rgb(0,116,217)"
         },
         "mode": "lines",
         "type": "scatter",
         "x": [
          0,
          1.4065362445420062,
          1.4065362445420062,
          0
         ],
         "xaxis": "x",
         "y": [
          -295,
          -295,
          -305,
          -305
         ],
         "yaxis": "y"
        },
        {
         "hoverinfo": "text",
         "marker": {
          "color": "rgb(0,116,217)"
         },
         "mode": "lines",
         "type": "scatter",
         "x": [
          0,
          1.407969390870888,
          1.407969390870888,
          0
         ],
         "xaxis": "x",
         "y": [
          -325,
          -325,
          -335,
          -335
         ],
         "yaxis": "y"
        },
        {
         "hoverinfo": "text",
         "marker": {
          "color": "rgb(0,116,217)"
         },
         "mode": "lines",
         "type": "scatter",
         "x": [
          0,
          1.4124109070384512,
          1.4124109070384512,
          1.407969390870888
         ],
         "xaxis": "x",
         "y": [
          -315,
          -315,
          -330,
          -330
         ],
         "yaxis": "y"
        },
        {
         "hoverinfo": "text",
         "marker": {
          "color": "rgb(0,116,217)"
         },
         "mode": "lines",
         "type": "scatter",
         "x": [
          1.4065362445420062,
          1.4165085336023278,
          1.4165085336023278,
          1.4124109070384512
         ],
         "xaxis": "x",
         "y": [
          -300,
          -300,
          -322.5,
          -322.5
         ],
         "yaxis": "y"
        },
        {
         "hoverinfo": "text",
         "marker": {
          "color": "rgb(0,116,217)"
         },
         "mode": "lines",
         "type": "scatter",
         "x": [
          1.4151397261301266,
          1.420446865226785,
          1.420446865226785,
          1.4165085336023278
         ],
         "xaxis": "x",
         "y": [
          -270,
          -270,
          -311.25,
          -311.25
         ],
         "yaxis": "y"
        },
        {
         "hoverinfo": "text",
         "marker": {
          "color": "rgb(0,116,217)"
         },
         "mode": "lines",
         "type": "scatter",
         "x": [
          1.4218307273235113,
          1.425699810555678,
          1.425699810555678,
          1.420446865226785
         ],
         "xaxis": "x",
         "y": [
          -223.75,
          -223.75,
          -290.625,
          -290.625
         ],
         "yaxis": "y"
        },
        {
         "hoverinfo": "text",
         "marker": {
          "color": "rgb(0,116,217)"
         },
         "mode": "lines",
         "type": "scatter",
         "x": [
          0,
          1.3964162850207058,
          1.3964162850207058,
          0
         ],
         "xaxis": "x",
         "y": [
          -345,
          -345,
          -355,
          -355
         ],
         "yaxis": "y"
        },
        {
         "hoverinfo": "text",
         "marker": {
          "color": "rgb(0,116,217)"
         },
         "mode": "lines",
         "type": "scatter",
         "x": [
          1.425699810555678,
          1.4299349534124668,
          1.4299349534124668,
          1.3964162850207058
         ],
         "xaxis": "x",
         "y": [
          -257.1875,
          -257.1875,
          -350,
          -350
         ],
         "yaxis": "y"
        },
        {
         "hoverinfo": "text",
         "marker": {
          "color": "rgb(0,116,217)"
         },
         "mode": "lines",
         "type": "scatter",
         "x": [
          1.423053301795442,
          1.4302088718676143,
          1.4302088718676143,
          1.4299349534124668
         ],
         "xaxis": "x",
         "y": [
          -165,
          -165,
          -303.59375,
          -303.59375
         ],
         "yaxis": "y"
        },
        {
         "hoverinfo": "text",
         "marker": {
          "color": "rgb(0,116,217)"
         },
         "mode": "lines",
         "type": "scatter",
         "x": [
          1.3899333366927413,
          1.4372410334196044,
          1.4372410334196044,
          1.4302088718676143
         ],
         "xaxis": "x",
         "y": [
          -130,
          -130,
          -234.296875,
          -234.296875
         ],
         "yaxis": "y"
        },
        {
         "hoverinfo": "text",
         "marker": {
          "color": "rgb(0,116,217)"
         },
         "mode": "lines",
         "type": "scatter",
         "x": [
          0,
          1.3950527475837515,
          1.3950527475837515,
          0
         ],
         "xaxis": "x",
         "y": [
          -365,
          -365,
          -375,
          -375
         ],
         "yaxis": "y"
        },
        {
         "hoverinfo": "text",
         "marker": {
          "color": "rgb(0,116,217)"
         },
         "mode": "lines",
         "type": "scatter",
         "x": [
          0,
          1.4052197968221147,
          1.4052197968221147,
          0
         ],
         "xaxis": "x",
         "y": [
          -385,
          -385,
          -395,
          -395
         ],
         "yaxis": "y"
        },
        {
         "hoverinfo": "text",
         "marker": {
          "color": "rgb(0,116,217)"
         },
         "mode": "lines",
         "type": "scatter",
         "x": [
          0,
          1.4035376189978752,
          1.4035376189978752,
          0
         ],
         "xaxis": "x",
         "y": [
          -405,
          -405,
          -415,
          -415
         ],
         "yaxis": "y"
        },
        {
         "hoverinfo": "text",
         "marker": {
          "color": "rgb(0,116,217)"
         },
         "mode": "lines",
         "type": "scatter",
         "x": [
          1.4052197968221147,
          1.4106427860212438,
          1.4106427860212438,
          1.4035376189978752
         ],
         "xaxis": "x",
         "y": [
          -390,
          -390,
          -410,
          -410
         ],
         "yaxis": "y"
        },
        {
         "hoverinfo": "text",
         "marker": {
          "color": "rgb(0,116,217)"
         },
         "mode": "lines",
         "type": "scatter",
         "x": [
          1.3950527475837515,
          1.4191391065792347,
          1.4191391065792347,
          1.4106427860212438
         ],
         "xaxis": "x",
         "y": [
          -370,
          -370,
          -400,
          -400
         ],
         "yaxis": "y"
        },
        {
         "hoverinfo": "text",
         "marker": {
          "color": "rgb(0,116,217)"
         },
         "mode": "lines",
         "type": "scatter",
         "x": [
          1.4372410334196044,
          1.4389409792246266,
          1.4389409792246266,
          1.4191391065792347
         ],
         "xaxis": "x",
         "y": [
          -182.1484375,
          -182.1484375,
          -385,
          -385
         ],
         "yaxis": "y"
        },
        {
         "hoverinfo": "text",
         "marker": {
          "color": "rgb(0,116,217)"
         },
         "mode": "lines",
         "type": "scatter",
         "x": [
          0,
          1.392507106532679,
          1.392507106532679,
          0
         ],
         "xaxis": "x",
         "y": [
          -425,
          -425,
          -435,
          -435
         ],
         "yaxis": "y"
        },
        {
         "hoverinfo": "text",
         "marker": {
          "color": "rgb(0,116,217)"
         },
         "mode": "lines",
         "type": "scatter",
         "x": [
          0,
          1.3937673791323884,
          1.3937673791323884,
          0
         ],
         "xaxis": "x",
         "y": [
          -445,
          -445,
          -455,
          -455
         ],
         "yaxis": "y"
        },
        {
         "hoverinfo": "text",
         "marker": {
          "color": "rgb(0,116,217)"
         },
         "mode": "lines",
         "type": "scatter",
         "x": [
          1.392507106532679,
          1.424693798595692,
          1.424693798595692,
          1.3937673791323884
         ],
         "xaxis": "x",
         "y": [
          -430,
          -430,
          -450,
          -450
         ],
         "yaxis": "y"
        },
        {
         "hoverinfo": "text",
         "marker": {
          "color": "rgb(0,116,217)"
         },
         "mode": "lines",
         "type": "scatter",
         "x": [
          1.4389409792246266,
          1.4407247016922329,
          1.4407247016922329,
          1.424693798595692
         ],
         "xaxis": "x",
         "y": [
          -283.57421875,
          -283.57421875,
          -440,
          -440
         ],
         "yaxis": "y"
        },
        {
         "hoverinfo": "text",
         "marker": {
          "color": "rgb(0,116,217)"
         },
         "mode": "lines",
         "type": "scatter",
         "x": [
          1.4025084381836486,
          1.444664569854479,
          1.444664569854479,
          1.4407247016922329
         ],
         "xaxis": "x",
         "y": [
          -102.5,
          -102.5,
          -361.787109375,
          -361.787109375
         ],
         "yaxis": "y"
        },
        {
         "hoverinfo": "text",
         "marker": {
          "color": "rgb(0,116,217)"
         },
         "mode": "lines",
         "type": "scatter",
         "x": [
          0,
          1.4006412564630273,
          1.4006412564630273,
          0
         ],
         "xaxis": "x",
         "y": [
          -475,
          -475,
          -485,
          -485
         ],
         "yaxis": "y"
        },
        {
         "hoverinfo": "text",
         "marker": {
          "color": "rgb(0,116,217)"
         },
         "mode": "lines",
         "type": "scatter",
         "x": [
          0,
          1.4086846701280287,
          1.4086846701280287,
          1.4006412564630273
         ],
         "xaxis": "x",
         "y": [
          -465,
          -465,
          -480,
          -480
         ],
         "yaxis": "y"
        },
        {
         "hoverinfo": "text",
         "marker": {
          "color": "rgb(0,116,217)"
         },
         "mode": "lines",
         "type": "scatter",
         "x": [
          0,
          1.397954848542675,
          1.397954848542675,
          0
         ],
         "xaxis": "x",
         "y": [
          -495,
          -495,
          -505,
          -505
         ],
         "yaxis": "y"
        },
        {
         "hoverinfo": "text",
         "marker": {
          "color": "rgb(0,116,217)"
         },
         "mode": "lines",
         "type": "scatter",
         "x": [
          1.4086846701280287,
          1.423731987678263,
          1.423731987678263,
          1.397954848542675
         ],
         "xaxis": "x",
         "y": [
          -472.5,
          -472.5,
          -500,
          -500
         ],
         "yaxis": "y"
        },
        {
         "hoverinfo": "text",
         "marker": {
          "color": "rgb(0,116,217)"
         },
         "mode": "lines",
         "type": "scatter",
         "x": [
          0,
          1.3851432702522009,
          1.3851432702522009,
          0
         ],
         "xaxis": "x",
         "y": [
          -515,
          -515,
          -525,
          -525
         ],
         "yaxis": "y"
        },
        {
         "hoverinfo": "text",
         "marker": {
          "color": "rgb(0,116,217)"
         },
         "mode": "lines",
         "type": "scatter",
         "x": [
          1.423731987678263,
          1.4291853714896423,
          1.4291853714896423,
          1.3851432702522009
         ],
         "xaxis": "x",
         "y": [
          -486.25,
          -486.25,
          -520,
          -520
         ],
         "yaxis": "y"
        },
        {
         "hoverinfo": "text",
         "marker": {
          "color": "rgb(0,116,217)"
         },
         "mode": "lines",
         "type": "scatter",
         "x": [
          0,
          1.403576572748592,
          1.403576572748592,
          0
         ],
         "xaxis": "x",
         "y": [
          -545,
          -545,
          -555,
          -555
         ],
         "yaxis": "y"
        },
        {
         "hoverinfo": "text",
         "marker": {
          "color": "rgb(0,116,217)"
         },
         "mode": "lines",
         "type": "scatter",
         "x": [
          0,
          1.4064620041378169,
          1.4064620041378169,
          1.403576572748592
         ],
         "xaxis": "x",
         "y": [
          -535,
          -535,
          -550,
          -550
         ],
         "yaxis": "y"
        },
        {
         "hoverinfo": "text",
         "marker": {
          "color": "rgb(0,116,217)"
         },
         "mode": "lines",
         "type": "scatter",
         "x": [
          0,
          1.3995916555311214,
          1.3995916555311214,
          0
         ],
         "xaxis": "x",
         "y": [
          -565,
          -565,
          -575,
          -575
         ],
         "yaxis": "y"
        },
        {
         "hoverinfo": "text",
         "marker": {
          "color": "rgb(0,116,217)"
         },
         "mode": "lines",
         "type": "scatter",
         "x": [
          1.4064620041378169,
          1.4165206817168527,
          1.4165206817168527,
          1.3995916555311214
         ],
         "xaxis": "x",
         "y": [
          -542.5,
          -542.5,
          -570,
          -570
         ],
         "yaxis": "y"
        },
        {
         "hoverinfo": "text",
         "marker": {
          "color": "rgb(0,116,217)"
         },
         "mode": "lines",
         "type": "scatter",
         "x": [
          0,
          1.4004451635385924,
          1.4004451635385924,
          0
         ],
         "xaxis": "x",
         "y": [
          -585,
          -585,
          -595,
          -595
         ],
         "yaxis": "y"
        },
        {
         "hoverinfo": "text",
         "marker": {
          "color": "rgb(0,116,217)"
         },
         "mode": "lines",
         "type": "scatter",
         "x": [
          1.4165206817168527,
          1.4205931053301313,
          1.4205931053301313,
          1.4004451635385924
         ],
         "xaxis": "x",
         "y": [
          -556.25,
          -556.25,
          -590,
          -590
         ],
         "yaxis": "y"
        },
        {
         "hoverinfo": "text",
         "marker": {
          "color": "rgb(0,116,217)"
         },
         "mode": "lines",
         "type": "scatter",
         "x": [
          1.4291853714896423,
          1.4357942206919345,
          1.4357942206919345,
          1.4205931053301313
         ],
         "xaxis": "x",
         "y": [
          -503.125,
          -503.125,
          -573.125,
          -573.125
         ],
         "yaxis": "y"
        },
        {
         "hoverinfo": "text",
         "marker": {
          "color": "rgb(0,116,217)"
         },
         "mode": "lines",
         "type": "scatter",
         "x": [
          1.444664569854479,
          1.4471043428344534,
          1.4471043428344534,
          1.4357942206919345
         ],
         "xaxis": "x",
         "y": [
          -232.1435546875,
          -232.1435546875,
          -538.125,
          -538.125
         ],
         "yaxis": "y"
        },
        {
         "hoverinfo": "text",
         "marker": {
          "color": "rgb(0,116,217)"
         },
         "mode": "lines",
         "type": "scatter",
         "x": [
          0,
          1.3741547264601504,
          1.3741547264601504,
          0
         ],
         "xaxis": "x",
         "y": [
          -615,
          -615,
          -625,
          -625
         ],
         "yaxis": "y"
        },
        {
         "hoverinfo": "text",
         "marker": {
          "color": "rgb(0,116,217)"
         },
         "mode": "lines",
         "type": "scatter",
         "x": [
          0,
          1.3930083776089395,
          1.3930083776089395,
          1.3741547264601504
         ],
         "xaxis": "x",
         "y": [
          -605,
          -605,
          -620,
          -620
         ],
         "yaxis": "y"
        },
        {
         "hoverinfo": "text",
         "marker": {
          "color": "rgb(0,116,217)"
         },
         "mode": "lines",
         "type": "scatter",
         "x": [
          1.4471043428344534,
          1.46011990026938,
          1.46011990026938,
          1.3930083776089395
         ],
         "xaxis": "x",
         "y": [
          -385.13427734375,
          -385.13427734375,
          -612.5,
          -612.5
         ],
         "yaxis": "y"
        },
        {
         "hoverinfo": "text",
         "marker": {
          "color": "rgb(0,116,217)"
         },
         "mode": "lines",
         "type": "scatter",
         "x": [
          0,
          1.4108836695406075,
          1.4108836695406075,
          0
         ],
         "xaxis": "x",
         "y": [
          -635,
          -635,
          -645,
          -645
         ],
         "yaxis": "y"
        },
        {
         "hoverinfo": "text",
         "marker": {
          "color": "rgb(0,116,217)"
         },
         "mode": "lines",
         "type": "scatter",
         "x": [
          0,
          1.3724736638188284,
          1.3724736638188284,
          0
         ],
         "xaxis": "x",
         "y": [
          -655,
          -655,
          -665,
          -665
         ],
         "yaxis": "y"
        },
        {
         "hoverinfo": "text",
         "marker": {
          "color": "rgb(0,116,217)"
         },
         "mode": "lines",
         "type": "scatter",
         "x": [
          1.3724736638188284,
          1.39591947368711,
          1.39591947368711,
          0
         ],
         "xaxis": "x",
         "y": [
          -660,
          -660,
          -675,
          -675
         ],
         "yaxis": "y"
        },
        {
         "hoverinfo": "text",
         "marker": {
          "color": "rgb(0,116,217)"
         },
         "mode": "lines",
         "type": "scatter",
         "x": [
          1.4108836695406075,
          1.4174996119743193,
          1.4174996119743193,
          1.39591947368711
         ],
         "xaxis": "x",
         "y": [
          -640,
          -640,
          -667.5,
          -667.5
         ],
         "yaxis": "y"
        },
        {
         "hoverinfo": "text",
         "marker": {
          "color": "rgb(0,116,217)"
         },
         "mode": "lines",
         "type": "scatter",
         "x": [
          1.46011990026938,
          1.469611418149828,
          1.469611418149828,
          1.4174996119743193
         ],
         "xaxis": "x",
         "y": [
          -498.817138671875,
          -498.817138671875,
          -653.75,
          -653.75
         ],
         "yaxis": "y"
        },
        {
         "hoverinfo": "text",
         "marker": {
          "color": "rgb(0,116,217)"
         },
         "mode": "lines",
         "type": "scatter",
         "x": [
          1.38542766630408,
          1.487250185065084,
          1.487250185065084,
          1.469611418149828
         ],
         "xaxis": "x",
         "y": [
          -72.5,
          -72.5,
          -576.2835693359375,
          -576.2835693359375
         ],
         "yaxis": "y"
        },
        {
         "hoverinfo": "text",
         "marker": {
          "color": "rgb(0,116,217)"
         },
         "mode": "lines",
         "type": "scatter",
         "x": [
          1.4371437248577221,
          1.5172913452681651,
          1.5172913452681651,
          1.487250185065084
         ],
         "xaxis": "x",
         "y": [
          -33.125,
          -33.125,
          -324.39178466796875,
          -324.39178466796875
         ],
         "yaxis": "y"
        }
       ],
       "layout": {
        "autosize": false,
        "height": 1220,
        "hoverlabel": {
         "bgcolor": "white",
         "font": {
          "family": "Rockwell",
          "size": 16
         }
        },
        "hovermode": "closest",
        "plot_bgcolor": "#ECEFF1",
        "showlegend": false,
        "template": {
         "data": {
          "bar": [
           {
            "error_x": {
             "color": "#2a3f5f"
            },
            "error_y": {
             "color": "#2a3f5f"
            },
            "marker": {
             "line": {
              "color": "white",
              "width": 0.5
             },
             "pattern": {
              "fillmode": "overlay",
              "size": 10,
              "solidity": 0.2
             }
            },
            "type": "bar"
           }
          ],
          "barpolar": [
           {
            "marker": {
             "line": {
              "color": "white",
              "width": 0.5
             },
             "pattern": {
              "fillmode": "overlay",
              "size": 10,
              "solidity": 0.2
             }
            },
            "type": "barpolar"
           }
          ],
          "carpet": [
           {
            "aaxis": {
             "endlinecolor": "#2a3f5f",
             "gridcolor": "#C8D4E3",
             "linecolor": "#C8D4E3",
             "minorgridcolor": "#C8D4E3",
             "startlinecolor": "#2a3f5f"
            },
            "baxis": {
             "endlinecolor": "#2a3f5f",
             "gridcolor": "#C8D4E3",
             "linecolor": "#C8D4E3",
             "minorgridcolor": "#C8D4E3",
             "startlinecolor": "#2a3f5f"
            },
            "type": "carpet"
           }
          ],
          "choropleth": [
           {
            "colorbar": {
             "outlinewidth": 0,
             "ticks": ""
            },
            "type": "choropleth"
           }
          ],
          "contour": [
           {
            "colorbar": {
             "outlinewidth": 0,
             "ticks": ""
            },
            "colorscale": [
             [
              0,
              "#0d0887"
             ],
             [
              0.1111111111111111,
              "#46039f"
             ],
             [
              0.2222222222222222,
              "#7201a8"
             ],
             [
              0.3333333333333333,
              "#9c179e"
             ],
             [
              0.4444444444444444,
              "#bd3786"
             ],
             [
              0.5555555555555556,
              "#d8576b"
             ],
             [
              0.6666666666666666,
              "#ed7953"
             ],
             [
              0.7777777777777778,
              "#fb9f3a"
             ],
             [
              0.8888888888888888,
              "#fdca26"
             ],
             [
              1,
              "#f0f921"
             ]
            ],
            "type": "contour"
           }
          ],
          "contourcarpet": [
           {
            "colorbar": {
             "outlinewidth": 0,
             "ticks": ""
            },
            "type": "contourcarpet"
           }
          ],
          "heatmap": [
           {
            "colorbar": {
             "outlinewidth": 0,
             "ticks": ""
            },
            "colorscale": [
             [
              0,
              "#0d0887"
             ],
             [
              0.1111111111111111,
              "#46039f"
             ],
             [
              0.2222222222222222,
              "#7201a8"
             ],
             [
              0.3333333333333333,
              "#9c179e"
             ],
             [
              0.4444444444444444,
              "#bd3786"
             ],
             [
              0.5555555555555556,
              "#d8576b"
             ],
             [
              0.6666666666666666,
              "#ed7953"
             ],
             [
              0.7777777777777778,
              "#fb9f3a"
             ],
             [
              0.8888888888888888,
              "#fdca26"
             ],
             [
              1,
              "#f0f921"
             ]
            ],
            "type": "heatmap"
           }
          ],
          "heatmapgl": [
           {
            "colorbar": {
             "outlinewidth": 0,
             "ticks": ""
            },
            "colorscale": [
             [
              0,
              "#0d0887"
             ],
             [
              0.1111111111111111,
              "#46039f"
             ],
             [
              0.2222222222222222,
              "#7201a8"
             ],
             [
              0.3333333333333333,
              "#9c179e"
             ],
             [
              0.4444444444444444,
              "#bd3786"
             ],
             [
              0.5555555555555556,
              "#d8576b"
             ],
             [
              0.6666666666666666,
              "#ed7953"
             ],
             [
              0.7777777777777778,
              "#fb9f3a"
             ],
             [
              0.8888888888888888,
              "#fdca26"
             ],
             [
              1,
              "#f0f921"
             ]
            ],
            "type": "heatmapgl"
           }
          ],
          "histogram": [
           {
            "marker": {
             "pattern": {
              "fillmode": "overlay",
              "size": 10,
              "solidity": 0.2
             }
            },
            "type": "histogram"
           }
          ],
          "histogram2d": [
           {
            "colorbar": {
             "outlinewidth": 0,
             "ticks": ""
            },
            "colorscale": [
             [
              0,
              "#0d0887"
             ],
             [
              0.1111111111111111,
              "#46039f"
             ],
             [
              0.2222222222222222,
              "#7201a8"
             ],
             [
              0.3333333333333333,
              "#9c179e"
             ],
             [
              0.4444444444444444,
              "#bd3786"
             ],
             [
              0.5555555555555556,
              "#d8576b"
             ],
             [
              0.6666666666666666,
              "#ed7953"
             ],
             [
              0.7777777777777778,
              "#fb9f3a"
             ],
             [
              0.8888888888888888,
              "#fdca26"
             ],
             [
              1,
              "#f0f921"
             ]
            ],
            "type": "histogram2d"
           }
          ],
          "histogram2dcontour": [
           {
            "colorbar": {
             "outlinewidth": 0,
             "ticks": ""
            },
            "colorscale": [
             [
              0,
              "#0d0887"
             ],
             [
              0.1111111111111111,
              "#46039f"
             ],
             [
              0.2222222222222222,
              "#7201a8"
             ],
             [
              0.3333333333333333,
              "#9c179e"
             ],
             [
              0.4444444444444444,
              "#bd3786"
             ],
             [
              0.5555555555555556,
              "#d8576b"
             ],
             [
              0.6666666666666666,
              "#ed7953"
             ],
             [
              0.7777777777777778,
              "#fb9f3a"
             ],
             [
              0.8888888888888888,
              "#fdca26"
             ],
             [
              1,
              "#f0f921"
             ]
            ],
            "type": "histogram2dcontour"
           }
          ],
          "mesh3d": [
           {
            "colorbar": {
             "outlinewidth": 0,
             "ticks": ""
            },
            "type": "mesh3d"
           }
          ],
          "parcoords": [
           {
            "line": {
             "colorbar": {
              "outlinewidth": 0,
              "ticks": ""
             }
            },
            "type": "parcoords"
           }
          ],
          "pie": [
           {
            "automargin": true,
            "type": "pie"
           }
          ],
          "scatter": [
           {
            "fillpattern": {
             "fillmode": "overlay",
             "size": 10,
             "solidity": 0.2
            },
            "type": "scatter"
           }
          ],
          "scatter3d": [
           {
            "line": {
             "colorbar": {
              "outlinewidth": 0,
              "ticks": ""
             }
            },
            "marker": {
             "colorbar": {
              "outlinewidth": 0,
              "ticks": ""
             }
            },
            "type": "scatter3d"
           }
          ],
          "scattercarpet": [
           {
            "marker": {
             "colorbar": {
              "outlinewidth": 0,
              "ticks": ""
             }
            },
            "type": "scattercarpet"
           }
          ],
          "scattergeo": [
           {
            "marker": {
             "colorbar": {
              "outlinewidth": 0,
              "ticks": ""
             }
            },
            "type": "scattergeo"
           }
          ],
          "scattergl": [
           {
            "marker": {
             "colorbar": {
              "outlinewidth": 0,
              "ticks": ""
             }
            },
            "type": "scattergl"
           }
          ],
          "scattermapbox": [
           {
            "marker": {
             "colorbar": {
              "outlinewidth": 0,
              "ticks": ""
             }
            },
            "type": "scattermapbox"
           }
          ],
          "scatterpolar": [
           {
            "marker": {
             "colorbar": {
              "outlinewidth": 0,
              "ticks": ""
             }
            },
            "type": "scatterpolar"
           }
          ],
          "scatterpolargl": [
           {
            "marker": {
             "colorbar": {
              "outlinewidth": 0,
              "ticks": ""
             }
            },
            "type": "scatterpolargl"
           }
          ],
          "scatterternary": [
           {
            "marker": {
             "colorbar": {
              "outlinewidth": 0,
              "ticks": ""
             }
            },
            "type": "scatterternary"
           }
          ],
          "surface": [
           {
            "colorbar": {
             "outlinewidth": 0,
             "ticks": ""
            },
            "colorscale": [
             [
              0,
              "#0d0887"
             ],
             [
              0.1111111111111111,
              "#46039f"
             ],
             [
              0.2222222222222222,
              "#7201a8"
             ],
             [
              0.3333333333333333,
              "#9c179e"
             ],
             [
              0.4444444444444444,
              "#bd3786"
             ],
             [
              0.5555555555555556,
              "#d8576b"
             ],
             [
              0.6666666666666666,
              "#ed7953"
             ],
             [
              0.7777777777777778,
              "#fb9f3a"
             ],
             [
              0.8888888888888888,
              "#fdca26"
             ],
             [
              1,
              "#f0f921"
             ]
            ],
            "type": "surface"
           }
          ],
          "table": [
           {
            "cells": {
             "fill": {
              "color": "#EBF0F8"
             },
             "line": {
              "color": "white"
             }
            },
            "header": {
             "fill": {
              "color": "#C8D4E3"
             },
             "line": {
              "color": "white"
             }
            },
            "type": "table"
           }
          ]
         },
         "layout": {
          "annotationdefaults": {
           "arrowcolor": "#2a3f5f",
           "arrowhead": 0,
           "arrowwidth": 1
          },
          "autotypenumbers": "strict",
          "coloraxis": {
           "colorbar": {
            "outlinewidth": 0,
            "ticks": ""
           }
          },
          "colorscale": {
           "diverging": [
            [
             0,
             "#8e0152"
            ],
            [
             0.1,
             "#c51b7d"
            ],
            [
             0.2,
             "#de77ae"
            ],
            [
             0.3,
             "#f1b6da"
            ],
            [
             0.4,
             "#fde0ef"
            ],
            [
             0.5,
             "#f7f7f7"
            ],
            [
             0.6,
             "#e6f5d0"
            ],
            [
             0.7,
             "#b8e186"
            ],
            [
             0.8,
             "#7fbc41"
            ],
            [
             0.9,
             "#4d9221"
            ],
            [
             1,
             "#276419"
            ]
           ],
           "sequential": [
            [
             0,
             "#0d0887"
            ],
            [
             0.1111111111111111,
             "#46039f"
            ],
            [
             0.2222222222222222,
             "#7201a8"
            ],
            [
             0.3333333333333333,
             "#9c179e"
            ],
            [
             0.4444444444444444,
             "#bd3786"
            ],
            [
             0.5555555555555556,
             "#d8576b"
            ],
            [
             0.6666666666666666,
             "#ed7953"
            ],
            [
             0.7777777777777778,
             "#fb9f3a"
            ],
            [
             0.8888888888888888,
             "#fdca26"
            ],
            [
             1,
             "#f0f921"
            ]
           ],
           "sequentialminus": [
            [
             0,
             "#0d0887"
            ],
            [
             0.1111111111111111,
             "#46039f"
            ],
            [
             0.2222222222222222,
             "#7201a8"
            ],
            [
             0.3333333333333333,
             "#9c179e"
            ],
            [
             0.4444444444444444,
             "#bd3786"
            ],
            [
             0.5555555555555556,
             "#d8576b"
            ],
            [
             0.6666666666666666,
             "#ed7953"
            ],
            [
             0.7777777777777778,
             "#fb9f3a"
            ],
            [
             0.8888888888888888,
             "#fdca26"
            ],
            [
             1,
             "#f0f921"
            ]
           ]
          },
          "colorway": [
           "#636efa",
           "#EF553B",
           "#00cc96",
           "#ab63fa",
           "#FFA15A",
           "#19d3f3",
           "#FF6692",
           "#B6E880",
           "#FF97FF",
           "#FECB52"
          ],
          "font": {
           "color": "#2a3f5f"
          },
          "geo": {
           "bgcolor": "white",
           "lakecolor": "white",
           "landcolor": "white",
           "showlakes": true,
           "showland": true,
           "subunitcolor": "#C8D4E3"
          },
          "hoverlabel": {
           "align": "left"
          },
          "hovermode": "closest",
          "mapbox": {
           "style": "light"
          },
          "paper_bgcolor": "white",
          "plot_bgcolor": "white",
          "polar": {
           "angularaxis": {
            "gridcolor": "#EBF0F8",
            "linecolor": "#EBF0F8",
            "ticks": ""
           },
           "bgcolor": "white",
           "radialaxis": {
            "gridcolor": "#EBF0F8",
            "linecolor": "#EBF0F8",
            "ticks": ""
           }
          },
          "scene": {
           "xaxis": {
            "backgroundcolor": "white",
            "gridcolor": "#DFE8F3",
            "gridwidth": 2,
            "linecolor": "#EBF0F8",
            "showbackground": true,
            "ticks": "",
            "zerolinecolor": "#EBF0F8"
           },
           "yaxis": {
            "backgroundcolor": "white",
            "gridcolor": "#DFE8F3",
            "gridwidth": 2,
            "linecolor": "#EBF0F8",
            "showbackground": true,
            "ticks": "",
            "zerolinecolor": "#EBF0F8"
           },
           "zaxis": {
            "backgroundcolor": "white",
            "gridcolor": "#DFE8F3",
            "gridwidth": 2,
            "linecolor": "#EBF0F8",
            "showbackground": true,
            "ticks": "",
            "zerolinecolor": "#EBF0F8"
           }
          },
          "shapedefaults": {
           "line": {
            "color": "#2a3f5f"
           }
          },
          "ternary": {
           "aaxis": {
            "gridcolor": "#DFE8F3",
            "linecolor": "#A2B1C6",
            "ticks": ""
           },
           "baxis": {
            "gridcolor": "#DFE8F3",
            "linecolor": "#A2B1C6",
            "ticks": ""
           },
           "bgcolor": "white",
           "caxis": {
            "gridcolor": "#DFE8F3",
            "linecolor": "#A2B1C6",
            "ticks": ""
           }
          },
          "title": {
           "x": 0.05
          },
          "xaxis": {
           "automargin": true,
           "gridcolor": "#EBF0F8",
           "linecolor": "#EBF0F8",
           "ticks": "",
           "title": {
            "standoff": 15
           },
           "zerolinecolor": "#EBF0F8",
           "zerolinewidth": 2
          },
          "yaxis": {
           "automargin": true,
           "gridcolor": "#EBF0F8",
           "linecolor": "#EBF0F8",
           "ticks": "",
           "title": {
            "standoff": 15
           },
           "zerolinecolor": "#EBF0F8",
           "zerolinewidth": 2
          }
         }
        },
        "title": {
         "font": {
          "color": "Black",
          "size": 22
         },
         "text": "<b>Hierarchical Clustering",
         "x": 0.5,
         "xanchor": "center",
         "yanchor": "top"
        },
        "width": 1000,
        "xaxis": {
         "mirror": "allticks",
         "rangemode": "tozero",
         "showgrid": false,
         "showline": true,
         "showticklabels": true,
         "ticks": "outside",
         "type": "linear",
         "zeroline": false
        },
        "yaxis": {
         "mirror": "allticks",
         "range": [
          -680,
          0
         ],
         "rangemode": "tozero",
         "showgrid": false,
         "showline": true,
         "showticklabels": true,
         "tickmode": "array",
         "ticks": "outside",
         "ticktext": [
          "43_hoy caravana_indeseables...",
          "12_honduras mexico_noticias...",
          "10_10 dias_noche situacion_...",
          "44_autoridades mexicanas_re...",
          "59_muro frontera_dice pront...",
          "9_frontera mexico_mexico un...",
          "60_feminismo mujeres_guardi...",
          "21_mujeres migrantes_discri...",
          "61_migrantes venezolanas_mu...",
          "39_proteccion refugiados_20...",
          "31_14 mejorar_laboral retor...",
          "30_personas refugiadas_psic...",
          "36_acento feo_buena peluchi...",
          "58_agenda michoacan_trump h...",
          "19_tema migratorio_muchas c...",
          "67_120 migrantes_invasiones...",
          "14_pensando regresar_migrac...",
          "2_venezolanos delincuentes_...",
          "51_venezolanos peru_voy ser...",
          "29_pais america_pps comunis...",
          "62_lead ponen_inmigrantes t...",
          "11_inmigrantes quitan_raro ...",
          "18_diversidad sexual_prohib...",
          "48_frontera bolivia_liberta...",
          "66_republica dominicana_age...",
          "24_trinidad tobago_jamaiqui...",
          "20_pasaportes venezolanos_s...",
          "4_colombia necesita_bueno s...",
          "41_mejore politicas_migraci...",
          "16_libios rescatan_guardaco...",
          "7_mexico canada_puntos vacu...",
          "15_pais papito_pais argenti...",
          "53_inmigracion millonaria_s...",
          "0_gracioso tiro_racista si_...",
          "47_luego bote_venezolano pa...",
          "54_mejor mundo_medico venez...",
          "6_ley migracion_situacion l...",
          "27_haitianos ilegales_haiti...",
          "57_pagan impuestos_malditos...",
          "40_2016 setiembre_problemas...",
          "23_masa laboral_vengan inmi...",
          "65_16 anos_radicales aborda...",
          "42_solicitantes asilo_mpp j...",
          "35_viajeros sudafrica_13 ca...",
          "37_crisis migratoria_vzlano...",
          "28_trafico migrantes_trafic...",
          "32_17 naciones_medicos ley_...",
          "55_extrema derecha_izquierd...",
          "38_aceptaria inmigracion_me...",
          "13_martin perez_necesidades...",
          "56_miedo salir_salir inmigr...",
          "8_terrorismo chile_delincue...",
          "64_pc ps_presidente2022 del...",
          "34_00 pesos_mexico agradece...",
          "33_frontera sur_5a cae_madr...",
          "25_dedicada trafico_derecho...",
          "5_trabajar duro_inmigrantes...",
          "26_2014 obama_recibir ilega...",
          "50_sueno americano_2017 mov...",
          "45_49 migrantes_maryin gonz...",
          "22_conmoviendo redes_venezo...",
          "1_inmigrantes venezolanos_8...",
          "17_pasaporte vacunacion_300...",
          "52_2021 cerrar_venezolanos ...",
          "49_permisos residencia_post...",
          "46_cerrar fronteras_mejor f...",
          "3_cerrar fronteras_ingreso ...",
          "63_ingreso extranjeros_admi..."
         ],
         "tickvals": [
          -5,
          -15,
          -25,
          -35,
          -45,
          -55,
          -65,
          -75,
          -85,
          -95,
          -105,
          -115,
          -125,
          -135,
          -145,
          -155,
          -165,
          -175,
          -185,
          -195,
          -205,
          -215,
          -225,
          -235,
          -245,
          -255,
          -265,
          -275,
          -285,
          -295,
          -305,
          -315,
          -325,
          -335,
          -345,
          -355,
          -365,
          -375,
          -385,
          -395,
          -405,
          -415,
          -425,
          -435,
          -445,
          -455,
          -465,
          -475,
          -485,
          -495,
          -505,
          -515,
          -525,
          -535,
          -545,
          -555,
          -565,
          -575,
          -585,
          -595,
          -605,
          -615,
          -625,
          -635,
          -645,
          -655,
          -665,
          -675
         ],
         "type": "linear",
         "zeroline": false
        }
       }
      }
     },
     "metadata": {},
     "output_type": "display_data"
    }
   ],
   "source": [
    "topic_model.visualize_hierarchy()"
   ]
  },
  {
   "cell_type": "markdown",
   "id": "fdbc1873",
   "metadata": {},
   "source": [
    "### Búsqueda de tópicos por palabra clave\n",
    "Pueden obtenerse los tópicos que contienen una palabra clave o son similares a dicha plabra con el método ``find_topics()``. Este método el número de tópicos así como su índice de similitud."
   ]
  },
  {
   "cell_type": "code",
   "execution_count": 18,
   "id": "2a52e3c1",
   "metadata": {},
   "outputs": [
    {
     "name": "stdout",
     "output_type": "stream",
     "text": [
      "Los temas similares a covid son: [46, 36, 62, 7, 33], cuya similitud es [0.5719180231678345, 0.5647417562028396, 0.5413615662729051, 0.5411579846567005, 0.5410703588482876]\n"
     ]
    }
   ],
   "source": [
    "query_word = 'covid'\n",
    "similar_topics, similarity = topic_model.find_topics(query_word, top_n=5)\n",
    "print('Los temas similares a {} son: {}, cuya similitud es {}'.format(query_word, similar_topics, similarity))"
   ]
  },
  {
   "cell_type": "markdown",
   "id": "4e52d2ca",
   "metadata": {},
   "source": [
    "Mostremos una muestra aleatoria de cinco documentos del grupo más similar a la palabra clave."
   ]
  },
  {
   "cell_type": "code",
   "execution_count": 19,
   "id": "eeb0199a",
   "metadata": {},
   "outputs": [
    {
     "data": {
      "text/html": [
       "<div>\n",
       "<style scoped>\n",
       "    .dataframe tbody tr th:only-of-type {\n",
       "        vertical-align: middle;\n",
       "    }\n",
       "\n",
       "    .dataframe tbody tr th {\n",
       "        vertical-align: top;\n",
       "    }\n",
       "\n",
       "    .dataframe thead th {\n",
       "        text-align: right;\n",
       "    }\n",
       "</style>\n",
       "<table border=\"1\" class=\"dataframe\">\n",
       "  <thead>\n",
       "    <tr style=\"text-align: right;\">\n",
       "      <th></th>\n",
       "      <th>_id</th>\n",
       "      <th>label</th>\n",
       "      <th>a_code</th>\n",
       "      <th>text</th>\n",
       "      <th>target</th>\n",
       "      <th>cluster_topic</th>\n",
       "    </tr>\n",
       "  </thead>\n",
       "  <tbody>\n",
       "    <tr>\n",
       "      <th>859</th>\n",
       "      <td>1301562760044720129</td>\n",
       "      <td>-1</td>\n",
       "      <td>NaN</td>\n",
       "      <td>pues en otros paises ni la han llevado la masc...</td>\n",
       "      <td>-1</td>\n",
       "      <td>46</td>\n",
       "    </tr>\n",
       "    <tr>\n",
       "      <th>1754</th>\n",
       "      <td>1385985184701587466</td>\n",
       "      <td>-1</td>\n",
       "      <td>CRI</td>\n",
       "      <td>recuerdan cuando zepolito pedia a otros revisa...</td>\n",
       "      <td>-1</td>\n",
       "      <td>46</td>\n",
       "    </tr>\n",
       "    <tr>\n",
       "      <th>975</th>\n",
       "      <td>1481630797534842880</td>\n",
       "      <td>covid</td>\n",
       "      <td>CHL</td>\n",
       "      <td>exacto..no entiendo porque cerrar fronteras, s...</td>\n",
       "      <td>0</td>\n",
       "      <td>46</td>\n",
       "    </tr>\n",
       "    <tr>\n",
       "      <th>1894</th>\n",
       "      <td>1341151351619919878</td>\n",
       "      <td>covid</td>\n",
       "      <td>NaN</td>\n",
       "      <td>nada mas sensato, el virus antes de contagiart...</td>\n",
       "      <td>0</td>\n",
       "      <td>46</td>\n",
       "    </tr>\n",
       "    <tr>\n",
       "      <th>1712</th>\n",
       "      <td>1410195942645633025</td>\n",
       "      <td>covid</td>\n",
       "      <td>NaN</td>\n",
       "      <td>che alvaro si quienes trajeron el virus son lo...</td>\n",
       "      <td>0</td>\n",
       "      <td>46</td>\n",
       "    </tr>\n",
       "  </tbody>\n",
       "</table>\n",
       "</div>"
      ],
      "text/plain": [
       "                      _id  label a_code  \\\n",
       "859   1301562760044720129     -1    NaN   \n",
       "1754  1385985184701587466     -1    CRI   \n",
       "975   1481630797534842880  covid    CHL   \n",
       "1894  1341151351619919878  covid    NaN   \n",
       "1712  1410195942645633025  covid    NaN   \n",
       "\n",
       "                                                   text  target  cluster_topic  \n",
       "859   pues en otros paises ni la han llevado la masc...      -1             46  \n",
       "1754  recuerdan cuando zepolito pedia a otros revisa...      -1             46  \n",
       "975   exacto..no entiendo porque cerrar fronteras, s...       0             46  \n",
       "1894  nada mas sensato, el virus antes de contagiart...       0             46  \n",
       "1712  che alvaro si quienes trajeron el virus son lo...       0             46  "
      ]
     },
     "execution_count": 19,
     "metadata": {},
     "output_type": "execute_result"
    }
   ],
   "source": [
    "data[data.cluster_topic==similar_topics[0]].sample(5)"
   ]
  }
 ],
 "metadata": {
  "kernelspec": {
   "display_name": "Python 3.9.13 ('bid')",
   "language": "python",
   "name": "python3"
  },
  "language_info": {
   "codemirror_mode": {
    "name": "ipython",
    "version": 3
   },
   "file_extension": ".py",
   "mimetype": "text/x-python",
   "name": "python",
   "nbconvert_exporter": "python",
   "pygments_lexer": "ipython3",
   "version": "3.9.13"
  },
  "vscode": {
   "interpreter": {
    "hash": "cad67f8f08b43f52430a6b8684b01d2984f30490bfa5827628ebc9dc8cbf0dc5"
   }
  }
 },
 "nbformat": 4,
 "nbformat_minor": 5
}
