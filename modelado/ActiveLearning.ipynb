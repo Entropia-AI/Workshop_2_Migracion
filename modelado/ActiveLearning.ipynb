{
 "cells": [
  {
   "cell_type": "markdown",
   "id": "c5bc9ec0",
   "metadata": {},
   "source": [
    "# Active Learning\n",
    "\n",
    "Para que la generalización de las características aprendidas por la red neuronal durante su entrenamiento sea buena, el conjunto de entrenamiento debe contener una gran cantidad de muestras representativas de la tarea a resolver, pues es a través de éstas y de la función de pérdida que el modelo actualiza los cientos de miles o millones de parámetros presentes en éste. De esta manera, el rendimiento del modelo depende también de la cantidad y calidad de muestras presentes en el conjunto de entrenamiento. Sin embargo, la construcción de un conjunto de entrenamiento de calidad puede ser un proceso costoso y tedioso, pues requiere de la etiquetación manual de un gran número de muestras. En este sentido, la adquisición de datos se vuelve un proceso crítico en el desarrollo de cualquier tipo de modelo de inteligencia artificial.\n",
    "\n",
    "Una técnica especialmente útil para añadir un conjunto de datos etiquetados que reduce de forma óptima la cantidad de muestras nuevas a etiquetar basado en la información relevante para la tarea a resolver se conoce como Active Learning o Deep Active Learning.\n",
    "\n",
    "De acuerdo con *Ren, P., et. al. (Survey of Deep Active Learning)*, active learning es un método dedicado a estudiar cómo obtener el mayor número posible de ganancias de rendimiento etiquetando el menor número posible de muestras. Más concretamente, su objetivo es seleccionar las muestras más útiles del conjunto de datos sin etiquetar y entregárselas a un ente llamado oráculo (por ejemplo un anotador humano) para que las etiquete, a fin de reducir el coste del etiquetado lo máximo posible, manteniendo el rendimiento.\n",
    "\n",
    "El procedimiento para aplicar la técnica de active learning es completamente iterativo de la siguiente forma: El oráculo es consultado con las muestras que la red considera más informativas, dada su configuración actual. Una vez asignadas las etiquetas de dichas muestras, el modelo es entrenado con el conjunto original y este nuevo conjunto etiquetado, para finalmente repetir este proceso hasta que el modelo muestre un rendimiento sólido o se cumpla una cierta condición.\n",
    "\n",
    "El componente más importante de esta técnica es la estrategia de consulta, cuyas variaciones proveen de diferentes algoritmos de active learning. La estrategia de consulta empleada para extender las muestras de entrenamiento para el modelo de xenofobia fue basado en el modelo, en la cual los casos de consulta son seleccionados basados en una medida producida por el modelo dada una muestra o instancia. En particular, se usó la estrategia *Least Confidence* que puede resumirse en:\n",
    "* Se crea un clasificador inicial.\n",
    "* Se aplica el clasificador actual a cada muestra no etiquetada.\n",
    "* Se extraen y etiquetan $n$ muestras tales que el clasificador está menos seguro de la pertenencia a las clases (probabilidad de pertenencia a ambas clases es cercana a $0.5$).\n",
    "* Se entrena un nuevo clasificador con todos los datos etiquetados.\n",
    "\n",
    "En este notebook se muestra el proceso de extensión de muestras de entrenamiento para el modelo de xenofobia usando la técnica de active learning a través del método least confidence."
   ]
  },
  {
   "cell_type": "code",
   "execution_count": 1,
   "id": "6e52cdaa",
   "metadata": {},
   "outputs": [],
   "source": [
    "#Imports\n",
    "\n",
    "#HuggingFace library\n",
    "from transformers import AutoModelForSequenceClassification, AutoTokenizer, DataCollatorWithPadding, Trainer, TrainingArguments, TextClassificationPipeline\n",
    "from datasets import Dataset, Value, ClassLabel, Features\n",
    "\n",
    "#PyTorch Neural Networks\n",
    "import torch\n",
    "import torch.nn as nn\n",
    "\n",
    "#data reading\n",
    "import pandas as pd\n",
    "\n",
    "#math\n",
    "import numpy as np\n",
    "import seaborn as sns\n",
    "from matplotlib import pyplot as plt\n",
    "import plotly.express as px"
   ]
  },
  {
   "cell_type": "markdown",
   "id": "e735f1b7",
   "metadata": {},
   "source": [
    "### Carga del modelo de xenofobia y de los datos\n",
    "\n",
    "Se cargará el modelo de xenofobia entrenado en el notebook xenofobia.ipynb, y los datos. Tal y como se describió en dicho notebook."
   ]
  },
  {
   "cell_type": "code",
   "execution_count": 2,
   "id": "5870ed05",
   "metadata": {},
   "outputs": [],
   "source": [
    "model_name = './checkpoint-5250'\n",
    "\n",
    "#load model from model name using huggingface library\n",
    "model = AutoModelForSequenceClassification.from_pretrained(\n",
    "        model_name, return_dict=True, num_labels=2)\n",
    "\n",
    "#load tokenizer and config it (based on robertuito github)\n",
    "tokenizer = AutoTokenizer.from_pretrained(model_name)\n",
    "tokenizer.model_max_length = 128"
   ]
  },
  {
   "cell_type": "code",
   "execution_count": 3,
   "id": "0b23049e",
   "metadata": {},
   "outputs": [
    {
     "data": {
      "text/html": [
       "<div>\n",
       "<style scoped>\n",
       "    .dataframe tbody tr th:only-of-type {\n",
       "        vertical-align: middle;\n",
       "    }\n",
       "\n",
       "    .dataframe tbody tr th {\n",
       "        vertical-align: top;\n",
       "    }\n",
       "\n",
       "    .dataframe thead th {\n",
       "        text-align: right;\n",
       "    }\n",
       "</style>\n",
       "<table border=\"1\" class=\"dataframe\">\n",
       "  <thead>\n",
       "    <tr style=\"text-align: right;\">\n",
       "      <th></th>\n",
       "      <th>id</th>\n",
       "      <th>text</th>\n",
       "    </tr>\n",
       "  </thead>\n",
       "  <tbody>\n",
       "    <tr>\n",
       "      <th>1251</th>\n",
       "      <td>1220683909740090112</td>\n",
       "      <td>@usuario Quien entra aún país ajeno a la fuerz...</td>\n",
       "    </tr>\n",
       "    <tr>\n",
       "      <th>110</th>\n",
       "      <td>1245938019523160064</td>\n",
       "      <td>@usuario @usuario El problema de los venezolan...</td>\n",
       "    </tr>\n",
       "    <tr>\n",
       "      <th>1330</th>\n",
       "      <td>1123895305894800000</td>\n",
       "      <td>@usuario @usuario Mi opinion desde aqui para e...</td>\n",
       "    </tr>\n",
       "    <tr>\n",
       "      <th>114</th>\n",
       "      <td>1361427681091470080</td>\n",
       "      <td>@usuario De ahi, estamos a un paso de que la O...</td>\n",
       "    </tr>\n",
       "    <tr>\n",
       "      <th>801</th>\n",
       "      <td>1363194081657179904</td>\n",
       "      <td>CHILE ESTADO CORRUPTO, POLICÍA SINIESTRA Y DEL...</td>\n",
       "    </tr>\n",
       "  </tbody>\n",
       "</table>\n",
       "</div>"
      ],
      "text/plain": [
       "                       id                                               text\n",
       "1251  1220683909740090112  @usuario Quien entra aún país ajeno a la fuerz...\n",
       "110   1245938019523160064  @usuario @usuario El problema de los venezolan...\n",
       "1330  1123895305894800000  @usuario @usuario Mi opinion desde aqui para e...\n",
       "114   1361427681091470080  @usuario De ahi, estamos a un paso de que la O...\n",
       "801   1363194081657179904  CHILE ESTADO CORRUPTO, POLICÍA SINIESTRA Y DEL..."
      ]
     },
     "execution_count": 3,
     "metadata": {},
     "output_type": "execute_result"
    }
   ],
   "source": [
    "active_data_df = pd.read_csv('./assets/data/activelearning.csv')\n",
    "active_data_df.sample(5)"
   ]
  },
  {
   "cell_type": "code",
   "execution_count": 4,
   "id": "48dc32d7",
   "metadata": {},
   "outputs": [
    {
     "data": {
      "application/vnd.jupyter.widget-view+json": {
       "model_id": "9a2a4cd5604e43c382b9974a8050293f",
       "version_major": 2,
       "version_minor": 0
      },
      "text/plain": [
       "  0%|          | 0/175 [00:00<?, ?ba/s]"
      ]
     },
     "metadata": {},
     "output_type": "display_data"
    }
   ],
   "source": [
    "def tokenize(batch):\n",
    "        \"\"\"Tokenize text in current mini batch. This is a util function for get_dataset_from_dataframes function\n",
    "\n",
    "        Args:\n",
    "            batch (batched datasets.arrow_dataset.Dataset)\n",
    "        \n",
    "        Returns:\n",
    "            [datasets.arrow_dataset.Dataset]: Mapped text-label dataset\n",
    "        \"\"\"\n",
    "        return tokenizer(batch['text'], padding=False, truncation=True)\n",
    "\n",
    "def format_dataset(dataset):\n",
    "    \"\"\"Map text-label for specific dataset from pandas. This is a util function for get_dataset_from_dataframes function\n",
    "\n",
    "    Args:\n",
    "        dataset (datasets.arrow_dataset.Dataset): Dataset from pandas DataFrame\n",
    "\n",
    "    Returns:\n",
    "        [datasets.arrow_dataset.Dataset]: Mapped text-label dataset\n",
    "    \"\"\"\n",
    "    def get_labels(examples):\n",
    "        return {'labels': examples['label']}\n",
    "\n",
    "    dataset = dataset.map(get_labels)\n",
    "    return dataset\n",
    "\n",
    "#Features to map insto dataset\n",
    "features = Features({\n",
    "    'text': Value('string'),\n",
    "    })\n",
    "#create dataset from pandas dataframe for model consumption\n",
    "active_data = Dataset.from_pandas(active_data_df, features=features)\n",
    "active_data = active_data.map(tokenize, batched=True, batch_size=8)\n",
    "\n",
    "#to be able to use batched training, we need to use a data collator\n",
    "data_collator = DataCollatorWithPadding(tokenizer, padding='longest')"
   ]
  },
  {
   "cell_type": "markdown",
   "id": "7bcdddb0",
   "metadata": {},
   "source": [
    "### Inferencia de los datos\n",
    "debe instanciarse una clase Trainer con el modelo entrenado y el tokenizador como argumentos. La predicción se realiza a través del método predict, el cual recibe como argumento un texto y devuelve la probabilidad de pertenencia a cada una de las clases."
   ]
  },
  {
   "cell_type": "code",
   "execution_count": 5,
   "id": "93ef334c",
   "metadata": {
    "scrolled": false
   },
   "outputs": [
    {
     "name": "stderr",
     "output_type": "stream",
     "text": [
      "The following columns in the test set  don't have a corresponding argument in `RobertaForSequenceClassification.forward` and have been ignored: text. If text are not expected by `RobertaForSequenceClassification.forward`,  you can safely ignore this message.\n",
      "***** Running Prediction *****\n",
      "  Num examples = 1394\n",
      "  Batch size = 8\n"
     ]
    },
    {
     "data": {
      "application/vnd.jupyter.widget-view+json": {
       "model_id": "326d64d5b6354164913067830339b081",
       "version_major": 2,
       "version_minor": 0
      },
      "text/plain": [
       "  0%|          | 0/175 [00:00<?, ?it/s]"
      ]
     },
     "metadata": {},
     "output_type": "display_data"
    }
   ],
   "source": [
    "trainer_args = {\n",
    "        \"model\": model,\n",
    "        \"data_collator\": data_collator,\n",
    "        \"tokenizer\": tokenizer}\n",
    "\n",
    "test_trainer = Trainer(**trainer_args)\n",
    "raw_pred= test_trainer.predict(active_data)\n",
    "y_pred = np.argmax(raw_pred.predictions, axis=-1)"
   ]
  },
  {
   "cell_type": "markdown",
   "id": "0976a3d5",
   "metadata": {},
   "source": [
    "Las probabilidades de pertenencia a cada una de las clases de cada texto regresado por el método predict no se encuentran normalizados. Se muestra el siguiente ejemplo:\n",
    "\n",
    "<figure>\n",
    "    <img src=\"./assets/images/logits.png\"\n",
    "         alt=\"Logits\"\n",
    "         style=\"max-width: 80%; height: auto\">\n",
    "    <figcaption>Logits producidos por el modelo de seis textos</figcaption>\n",
    "</figure>\n",
    "\n",
    "\n",
    "a estos valores no normalizados se les conoce como logits. Para obtener las probabilidades de pertenencia a cada una de las clases, se aplica la función softmax a los logits. La función softmax es una función de activación que se utiliza para normalizar los logits de tal manera que la suma de las probabilidades de pertenencia a cada una de las clases sea igual a $1$. La función softmax se define con la siguiente ecuación:\n",
    "$$\\sigma (z)_{j} = \\frac{exp(z_{j})}{\\sum^{n}_{i=1}exp(z_{k})}$$\n",
    "\n",
    "Con $exp(\\cdot)$ la funcion exponencial, $n$ el número de clases y $z_{j}$ el valor del logit de la clase $j$.\n",
    "\n",
    "La siguiente celda de código normaliza los logits de los textos y construye un dataframe con las probabilidades de cada clase en una columna por separado."
   ]
  },
  {
   "cell_type": "code",
   "execution_count": 18,
   "id": "a53e899b",
   "metadata": {},
   "outputs": [],
   "source": [
    "softmax = nn.Softmax(dim=1)\n",
    "probas = softmax(torch.tensor(raw_pred.predictions)).numpy()\n",
    "probas = pd.DataFrame(probas, columns=['Prob_class0', 'Prob_class1'])"
   ]
  },
  {
   "cell_type": "markdown",
   "id": "99a9bf3f",
   "metadata": {},
   "source": [
    "Para extraer las muestras tales que el clasificador está menos seguro de la pertenencia a las clases, se restan las probabilidades de clase de cada texto. Esto nos dirá el grado de \"confusión\" por muestra. Como ejemplo consideremos los siguientes casos:\n",
    "* Dado un texto A, el modelo predice las probabilidades de pertenencia a las clases de $0.9$ y $0.1$. Para la clase no xenófoba y xenófoba respectivamente, la diferencia entre ambas probabilidades es de $0.8$. Este caso es el más claro de todos, ya que el modelo está muy seguro de la pertenencia a la clase no xenófoba.\n",
    "* Dado un texto B, el modelo predice las probabilidades de pertenencia a las clases de $0.49$ y $0.51$. Para la clase no xenófoba y xenófoba respectivamente, la diferencia entre ambas probabilidades es de $0.01$. Este caso es el más confuso de todos, ya que el modelo no está seguro a qué clase pertenece el texto B.\n",
    "\n",
    "Con esto en mente, sabemos que las muestras más representativas serán aquellas que tengan una diferencia entre las probabilidades más pequeña. Sin embargo, el modelo, ni el método, ofrecen una idea de que tan pequeña debe ser la diferencia para considerar que el modelo está menos seguro de la pertenencia a las clases. Este valor umbral debe definirse de manera empírica, basado en la cantidad de muestras que se desean etiquetar.\n",
    "\n",
    "La siguiente celda realiza la resta entre las probabilidades, para así obtener las muestras más representativas, así mismo se define la etiqueta designada por el modelo actual y el texto analizado."
   ]
  },
  {
   "cell_type": "code",
   "execution_count": 39,
   "id": "780af11c",
   "metadata": {},
   "outputs": [
    {
     "data": {
      "text/html": [
       "<div>\n",
       "<style scoped>\n",
       "    .dataframe tbody tr th:only-of-type {\n",
       "        vertical-align: middle;\n",
       "    }\n",
       "\n",
       "    .dataframe tbody tr th {\n",
       "        vertical-align: top;\n",
       "    }\n",
       "\n",
       "    .dataframe thead th {\n",
       "        text-align: right;\n",
       "    }\n",
       "</style>\n",
       "<table border=\"1\" class=\"dataframe\">\n",
       "  <thead>\n",
       "    <tr style=\"text-align: right;\">\n",
       "      <th></th>\n",
       "      <th>Prob_class0</th>\n",
       "      <th>Prob_class1</th>\n",
       "      <th>margin_sampling</th>\n",
       "      <th>id</th>\n",
       "      <th>text</th>\n",
       "      <th>predicted_label</th>\n",
       "    </tr>\n",
       "  </thead>\n",
       "  <tbody>\n",
       "    <tr>\n",
       "      <th>322</th>\n",
       "      <td>0.999943</td>\n",
       "      <td>0.000057</td>\n",
       "      <td>0.999887</td>\n",
       "      <td>1096158206349459968</td>\n",
       "      <td>@usuario @usuario le pregunto a la @usuario po...</td>\n",
       "      <td>ok</td>\n",
       "    </tr>\n",
       "    <tr>\n",
       "      <th>1106</th>\n",
       "      <td>0.000087</td>\n",
       "      <td>0.999913</td>\n",
       "      <td>0.999826</td>\n",
       "      <td>1358250094399810048</td>\n",
       "      <td>@usuario En vez de sacarlos cada día se la pon...</td>\n",
       "      <td>xenófobo</td>\n",
       "    </tr>\n",
       "    <tr>\n",
       "      <th>978</th>\n",
       "      <td>0.999775</td>\n",
       "      <td>0.000225</td>\n",
       "      <td>0.999549</td>\n",
       "      <td>1299872225542249984</td>\n",
       "      <td>emoji luces de policía emoji emoji luces de po...</td>\n",
       "      <td>ok</td>\n",
       "    </tr>\n",
       "    <tr>\n",
       "      <th>526</th>\n",
       "      <td>0.000272</td>\n",
       "      <td>0.999728</td>\n",
       "      <td>0.999456</td>\n",
       "      <td>1155687859640320000</td>\n",
       "      <td>La Guajira, no resiste más migrantes venezolan...</td>\n",
       "      <td>xenófobo</td>\n",
       "    </tr>\n",
       "    <tr>\n",
       "      <th>636</th>\n",
       "      <td>0.000197</td>\n",
       "      <td>0.999803</td>\n",
       "      <td>0.999606</td>\n",
       "      <td>1326142115114589952</td>\n",
       "      <td>CHILE NECESITA ABOGADOS POR LA VERDAD 30 AÑOS ...</td>\n",
       "      <td>xenófobo</td>\n",
       "    </tr>\n",
       "  </tbody>\n",
       "</table>\n",
       "</div>"
      ],
      "text/plain": [
       "      Prob_class0  Prob_class1  margin_sampling                   id  \\\n",
       "322      0.999943     0.000057         0.999887  1096158206349459968   \n",
       "1106     0.000087     0.999913         0.999826  1358250094399810048   \n",
       "978      0.999775     0.000225         0.999549  1299872225542249984   \n",
       "526      0.000272     0.999728         0.999456  1155687859640320000   \n",
       "636      0.000197     0.999803         0.999606  1326142115114589952   \n",
       "\n",
       "                                                   text predicted_label  \n",
       "322   @usuario @usuario le pregunto a la @usuario po...              ok  \n",
       "1106  @usuario En vez de sacarlos cada día se la pon...        xenófobo  \n",
       "978   emoji luces de policía emoji emoji luces de po...              ok  \n",
       "526   La Guajira, no resiste más migrantes venezolan...        xenófobo  \n",
       "636   CHILE NECESITA ABOGADOS POR LA VERDAD 30 AÑOS ...        xenófobo  "
      ]
     },
     "execution_count": 39,
     "metadata": {},
     "output_type": "execute_result"
    }
   ],
   "source": [
    "#construct dataframe with predictions, probabilities and text\n",
    "probas['margin_sampling'] = (probas.Prob_class0 - probas.Prob_class1).abs()\n",
    "probas['id'] = active_data_df['id']\n",
    "probas['text'] = active_data_df['text']\n",
    "probas['predicted_label'] = np.argmax(raw_pred.predictions, axis=-1)\n",
    "probas.predicted_label = probas.predicted_label.replace({0:'ok', 1:'xenófobo'})\n",
    "probas.sample(5)"
   ]
  },
  {
   "cell_type": "markdown",
   "id": "db4d6f62",
   "metadata": {},
   "source": [
    "De manera visual se presenta una gráfica de puntos. Cada punto pertenece a un texto, sus coordenadas $x$ e $y$ corresponden al valor de la probabilidad de pertenencia a las clases no xenófobo y xenófobo respectivamente. En dicha gráfica se muestra un cuadro color naranja que encierra las muestras más representativas.\n",
    "\n",
    "Debido a la contrucción de este gráfico, los puntos siempre se encontrarán sobre la recta $y = -x$\n",
    "\n",
    "Note que los extremos, izquierdo y derecho contendrán textos para los cuales el modelo es más confidente de la pertenencia a una clase. Esto se debe a que la diferencia entre las probabilidades de pertenencia a las clases es cercana a $1.0$."
   ]
  },
  {
   "cell_type": "code",
   "execution_count": 36,
   "id": "baf5584d",
   "metadata": {},
   "outputs": [
    {
     "data": {
      "application/vnd.plotly.v1+json": {
       "config": {
        "plotlyServerURL": "https://plot.ly"
       },
       "data": [
        {
         "customdata": [
          [
           "@usuario @usuario Porque ahora? Esto a ocurrido hace mucho tiempo? Lo pasa es que se quiere victimizar a inmigrantes y asi validar su llegada y privilegiar sus derechos."
          ],
          [
           "@usuario No los veo deambular ni mucho menos desnutridos como para seguir llamándolo \"crisis migratoria\""
          ],
          [
           "@usuario Interesante el programa de astronomia, pero de poco uso. Seria mejor dedicar el tiempo para el problema de inmigracion ilegal que prolifera en este condado, y donde hay muchos casos que los que escuchan a la Poderosa pueden hablar con experiencia propia."
          ],
          [
           "@usuario @usuario @usuario @usuario Si todos los migrantes colombianos que llegaron a Venezuela tenían uriola y alitas."
          ],
          [
           "@usuario Sembrando odio? Solo porque quiere acabar con los violentistas antifas que destruyen? Odio porque quiere regularizar la inmigración descontrolada que sufre EEUU? Odio porque defiende la familia y los valores cristianos de EEUU? Amigo, cambie CNN y vea otro tipo de noticias."
          ],
          [
           "Ser estadounidense y zurdo debería ser considerado un crimen. Y sobre todo si sos inmigrante, y SOBRE TODO si sos latino."
          ],
          [
           "el fomento de los sindicatos de clase como jaurías callejeras al servicio de la extrema izquierda a costa del dinero público, el derroche de las reservas para futuras pensiones, el inicio de un infame plan para comprar a través de falsas ONGs, 1 millón de inmigrantes (sigue)"
          ],
          [
           "Pero hashtag el cacas puso a la inútil y espurea @usuario para quedar bien con su pasado comunista y terrorista. No es lo mismo asesinar y poner bombas que cuidar migrantes. No es lo mismo. hashtag 4ta transformacion hashtag 4tadefecacion"
          ],
          [
           "@usuario Es que tu no distingues chile de venezuela. No quieres hacerlo, ni te interesa. Yo contrate un venezolano pobre. Me gustaria que hablaras con el para que aprendas algo"
          ],
          [
           "@usuario @usuario Eres un chiste que se avergüenza de tu apellido paterno (Perez, mas cercano de ser Chileno) y usa su apellido de migrante para sentirse \"Europeo\". Sabias que los decendientes de alemanes somos tecnicamente \"migrantes\"??"
          ],
          [
           "@usuario @usuario @usuario Porfavor hagan algo ya con esto. Que estan esperando a que el pais colapse? No se han dado cuento como se encuentran los países que han abierto sus fronteras a inmigrantes? No han visto en lo que se a convertido Alemania y Sweeden donde la criminalidad se ha disparado?"
          ],
          [
           "@usuario Joder esto es muy fácil, quieren independencia, no hacen caso, cierre de fronteras y selección natural"
          ],
          [
           "@usuario @usuario @usuario Hay que cerrar nuestra frontera sur!! Ni modo..la ley de supervivencia!!🤷 emoji tono de piel claro emoji ‍"
          ],
          [
           "@usuario hay un movimiento que es &quot;Rio de Janeiro es TU país&quot; que el resto de Brasil le pide que se separe y construya un muro gigante en su frontera"
          ],
          [
           "Pregunta Para Dummies: Si @usuario ordeno al ejército de EEUU disparar contra los migrantes desarmados que pretendieran ingresar a USA, por qué el Dr Maburro no puede ordenar lo mismo para hashtag venezuela ? Es para una tarea."
          ],
          [
           "@usuario Error, no fue la POLITICA DE TRUMP, fue la decisión de sus padres al llevarlos violando las leyes de inmigracion de un país extranjero. No cambien las realidades para desinformación de incautos y contradictores de las normas."
          ],
          [
           "@usuario Te falto mencionar lleno de ladrones narcos traficante de inmigrantes roba cuentas de afp apitutados en el estado y tanto de lo que formas parte ! Corrupción"
          ],
          [
           "cerrar las fronteras!! 2020 es ya!!@usuario @usuario @usuario @usuario @usuario @usuario @usuario @usuario"
          ],
          [
           "@usuario @usuario @usuario @usuario : Uds q son abanderados de la caridad por migración venezolana? Por qué no se llevan a estos angelitos a sus casas?"
          ],
          [
           "Felicidades ,una vez más, por el programa de ayer y cómo se trató el fenómeno migratorio que tanto afecta a la seguridad nacional. @usuario @usuario hashtag inmigración hashtag seguridad nacional hashtag fronteras hashtag ue hashtag crimen organizado hashtag yihadismo"
          ],
          [
           "@usuario @usuario Te recuerdo q Gye., tiene millones migrantes internos, de costa y sierra, gente que llego a vivir a los cinturones de miseria q rodean a la ciudad, gente q lamentablemente no tiene educación., peor sabe de politica, o tener un criterio, sobre pillo como RC y su banda"
          ],
          [
           "@usuario @usuario @usuario Muro de trump pepr incompleto siguen pAsando migrantes drogas y armas"
          ],
          [
           "\"La tierra es de quien la trabaja\", dijo nuestro querido Zapata, así que lo mejor sería que los migrantes que vienen en camino ocupen las carpas de la ignominiosa performance.."
          ],
          [
           "@usuario @usuario ¿El Capitalismo viola? No tiene sentido lo que dices. Compara los datos de violaciones antes de la llegada de inmigrantes durante el hashtag welcomerefugees y después de este, verás que la casualidad queda bastante reducida."
          ],
          [
           "PRESIDENTE TRUMP, CUIDA los IMPUESTOS con diente y muelas, SUSPENDE entrada a EE.UU a INMIGRANTES que NO puedan PAGARAE su SALUD @usuario url"
          ],
          [
           "Le tengo más miedo a la policía que al narco así que no gracias Trump, por mi que tus militares ni se asomen a la frontera o les ponemos un muro emoji cara con ojos en blanco emoji ."
          ],
          [
           "@usuario @usuario De hecho, tendrá que hacerlo SÍ O SÍ. Argentina estaba mal antes de la Pandemia, ahora se está hundiendo más, y eso significa migración masiva ootra vez emoji cara haciendo una mueca emoji emoji manos en oración tono de piel claro emoji"
          ],
          [
           "@usuario Es verdad, en ésta vida nada es Gratis, por algún ladito te lo cobran después. Me hizo acordar del vídeo de la Sra Veneca q vivía en Cúcuta, creo q ya se fue, cómo Renegaba, porque acá en Colombia todo lo cobran, Internet, Parábolica, Gas, Luz, Agua, Arriendo y allá No pagaba."
          ],
          [
           "Es necesario tomar previsiones @usuario ante un brote masivo de coronavirus. Cierre de fronteras ya! Dejen el patebolismo la vaina es sería @usuario @usuario @usuario"
          ],
          [
           "@usuario La mayoría de los Uruguayos no estamos en contra de los inmigrantes.o que si es en contra de los empresarios que se aprovechan y toman solamente extranjeros porque como precisan trabajan doble turno, no se sindicalisan, etc,etc.,,."
          ],
          [
           "La inmigración llegó para quedarse. Es parte de la globalización y del siglo XXI. O nos adaptamos como sociedad o le damos cada vez más espacio a la xenofobia y a ese tipo de odiosidades que deberían estar sepultadas hace rato emoji cara sin expresión emoji emoji cara sin expresión emoji ."
          ],
          [
           "Aqui pensando en Trump y las ganas que posee de levantar ese muro. Ahora es cuando.. que se sienta el power mexicano. Salgan de ese país y déjenlos siendo lo que son.. que se den cuenta donde está su riqueza, que no son nada sin los inmigrantes."
          ],
          [
           "@usuario @usuario @usuario A mi lo que me parece curioso es lo de la secta al sacar la información con la nacionalidad, ¿que buscaba? Porque ya sabemos que la secta no saca nunca la nacionalidad de los delincuentes, con el objetivo de no atacar a los \"pobres inmigrantes\"."
          ],
          [
           "url pq será que el GobCubano se niega a díalogar con los cubanos que reclamamos un salario justo, el fin de los muros antimigrantes y la extremacensura y exclcuión?? pq será que el gobCubano cierra las puertas a los cubanos"
          ],
          [
           "Lo bueno es que los venezolanos se irán de Perú. Y lo malo, la sra diputada se queda. Es lo realmente bueno. (VIDEO) Diputada xenófoba peruana pide cerrar las fronteras y expulsar a los venezolanos \"malos o buenos\" url"
          ],
          [
           "Me quejo de los inmigrantes durante todo el directo y después me llaman racista?!?!?"
          ],
          [
           "@usuario @usuario Es autoatentado!! Encontraron disque pasaportes venezolanos. Para generar más xenofobia!!"
          ],
          [
           "Gobierno va por más despidos emoji signo de exclamación emoji La SHCP asegura que los recursos son insuficientes para programas sociales; estiman correr a 5 mil más. Una pregunta, invertir en estudiantes borrachos, inmigrantes y estadios de baseball, es redituable? hashtag amlotraidor mx url"
          ],
          [
           "Ya saben por qué tan amables con las caravanas de migrantes y las montones de dinero a El Salvador? Van a llegar miles de personas a hacerse ciudadanos mexicanos. Y saben por quién van a votar?"
          ],
          [
           "@usuario @usuario Los venezofachos no son todos los venezolanos, son los que se vinieron a Chile a buscar el oasis que nunca existió, la mayoría de los venezolanos en Chile = Venezofachos"
          ],
          [
           "@usuario Deberían darse una vuelta por todos los clubes (table) o go go dance de la Ciudad de México donde están migrantes ilegales.."
          ],
          [
           "@usuario @usuario las fronteras son un problema no hay duda sobre ello, pero para mi ponen en competencia a quien quiera cruzarla tanto como violar la seguridad de su pais e la emigración ilegal de cumplir el sueno americano."
          ],
          [
           "@usuario @usuario @usuario @usuario @usuario Decir la verdad es malo?, decir que un ciudadano colombiano, venezolano, paraguayo robo, asesino los convierte a todos en asesinos?. \"Perú: cifras históricas de desempleo en medio de una estampida migratoria\" url"
          ],
          [
           "@usuario @usuario @usuario Cuando un colombiano iba a Venezuela si no tenía sus papeles le tocaba escondersede la guardia venezolana por por que se creian el puta haciendo valer sus reglas pero los venezolanos yegaron a combia y nadie los sacó por el contrario an tenido más ayudas que yo que soy emoji bandera colombia emoji"
          ],
          [
           "No le veo la xenofobia al hecho de no otorgarle vacunas a los migrantes, cada Estado está en la obligación de responder por los suyos."
          ],
          [
           "La indignación de la gente del pro es muy selectiva, les duele q este gobierno traiga a 1 persona (ex presidente y bajo riesgo de vida) pero no los 1600 que trajo el pro como refugiados. url"
          ],
          [
           "@usuario @usuario @usuario Verdad que leyendo ciertos comentarios los problemas de los venezolanos en el Perú se reduce a criterios osmelsoucista o miss Venezuela incluido pedicure y manicure. Verdad y con todo respeto el venezolano es bastante superficial y simple incluso para asumir su propia tragedia."
          ],
          [
           "Aun no pasa un año de esto y ya se les olvidó.. Ahora si quieren sacar migrantes de Chile.. como dice que dijo. Pa donde calienta el sol"
          ],
          [
           "hashtag abajolosmatinales q son títeres de hashtag la moneda para desviar todos sus cagazos hashtag essal y agua negra en hashtag osorno hashtag mañalich y su frase para el bronce x hashtag transplante hashtag desempleo y alza brutal en Gran Stgo hashtag inmigración tapada con 1 dedo o debajo la alfombra Reprobación al Gobierno, etc"
          ],
          [
           "@usuario nos podemos quedar con esa sola frase de kkast desafortunada..pero el trasfondo igual es cierto, si no se regulariza y se establecen limites a la inmigración ilegal, va a haber un colapso en la zona norte, especialmente porque muchos de ellos vienen en precarias condiciones"
          ],
          [
           "@usuario @usuario @usuario @usuario Porsupuesto!! Es absurdo pensar en que esto es un acierto!! Nos salvamos!! Pero nada de esto habría sucedido de no ser por la migración indiscriminada permitida e incentivada por nuestro gobierno"
          ],
          [
           "@usuario Bueno prepare se a recibir 15 millones de venezolanos desplazados."
          ],
          [
           "@usuario Me da terror pensar que esas personas vienen por un motivo, he leído muchos tw de los mismos venezolanos viviendo en chile años, dicen que nada bueno viene de los que exigen entrar al país hoy !"
          ],
          [
           "@usuario @usuario Es un ataque de la Onu globalista..nos salió caro no haber firmado el Pacto Migratorio. Por eso quieren imponer cambio constitución, entre otras cosas para quitarle al ejecutivo la posibilidad de elegir, privilegiar su país y no someterse a la agenda globalista 2030"
          ],
          [
           "Álvaro Bellolio y Ley de Migración: \"Muy felices de terminar una tramitación de casi 8 años\" url a través de @usuario hashtag venezolanos . El frente amplio, PC, PS piden al Tribunal Constitucional bonos para los indocumentados !! Nefastos emoji cara cabreada emoji emoji persona haciendo el gesto de no emoji hay que sacarlos"
          ],
          [
           "@usuario @usuario @usuario No es más que el fruto de las acciones de este gobierno, a la gente no le gustó nada que se les diera dinero a los migrantes, ni que haya carencias en salud mientras se regalan 30M. Además de fomentar el odio entre mexicanos, también se fomentó hacia el migrante centroamericano."
          ],
          [
           "@usuario Porque culpan a otros de las decisiones del gobierno. El señor @usuario le abrió las fronteras, nuestro país no es capaz de cubrir las necesidades básicas de los colombianos, ahora va a ser capaz de cubrir las de los migrantes venezolanos."
          ],
          [
           "@usuario @usuario @usuario El problema SÍ es la inmigración ilegal. Le guste aceptarlo o no. Y además, cual es la ventaja de aprender ese idioma? El inglés es mas global"
          ],
          [
           "@usuario no es su calidad de inmigrante, sino las repercusiones de inmigración masiva"
          ],
          [
           "Lanzo como propuesta una Reforma Migratoria Integral que sea un primer paso para establecer unos mecanismos serios de ingreso al país, para la protección de miles de familias Colombianas; NO podemos callarnos ante esa delincuencia Venezolana que nos desangra día tras día."
          ],
          [
           "@usuario Pa saber que a esos son los que joden en los puestos de migración emoji cara llorando de risa emoji La gaminería garantiza pasar derecho"
          ],
          [
           "@usuario Principalmente de los honorables \"inmigrantes\" colombianos y venezolanos"
          ],
          [
           "@usuario Lo felicito, descubrió el agua tibia. Ud. lleva dos décadas aprox. como concejal de Bogotá, muestre por lo menos un anteproyecto de acuerdo de su autoría con el que se quiera solucionar esta problemática. Ni siquiera analiza que hay casi 1 millón de venezolanos en Bogotá. Ay!"
          ],
          [
           "@usuario Completamente de acuerdo. Claro que la inmigración es un aporte pero, como dices, más regulada sino va a ser caldo de cultivo para la extrema derecha. Qué pretende entonces el PC, senador Navarro y otros? Quizás les sirve que surjan liderazgos fascistas. A Chile no."
          ],
          [
           "@usuario @usuario @usuario Total ya existía y seguirá existiendo, pero es un hecho que se ha aumentado muchísimo o va a decir que la mendicidad no aumentó? Los robos el micro tráfico no ha aumentado? Porque la gente no los quiere? La xenofobia se da contra el venezolano de mal no contra el que hace el bien"
          ],
          [
           "@usuario @usuario @usuario @usuario @usuario @usuario @usuario @usuario @usuario @usuario @usuario @usuario @usuario @usuario jaja si si campeon ahora cuentanos una de vaqueros. alla hubieron 125 mil peruanos en su mejor momento de los cuales no quedan ni la sexta parte. aqui los venezolanos ya superan el millon"
          ],
          [
           "@usuario @usuario En serio? Y los q cruzan las fronteras todos los dias? Somos nosotros culpables?"
          ],
          [
           "Es injusto, el gobierno quiere favorecer a 1. 7 millones de venezolanos. Acá no tenemos sistema de salud, hay 4millones de desempleados. Maldito Duque. Maduro amo y señor de Venezuela esta feliz de la estupidez de IVÁN Duque,"
          ],
          [
           "@usuario @usuario la mayoría que han tirado la comida fueron los hondureños los del SALVADOR Y GUATEMALA no se les a visto eso, a lo mejor son mas acomplejados"
          ],
          [
           "@usuario erickchba2 @usuario Pero muchos de los militantes progresistas en los medios de comunicación o la academia ahora están defendiendo a los &quot;inmigrantes indocumentados&quot;. No hay &quot;indocumentados&quot;, son ilegales."
          ],
          [
           "@usuario Después de que Ud y su partido prácticamente obligaron a ppk a recibir a los venezolanos y hasta llegaron a la huachafada de izar la bandera venezolana en el partido aprista vienen ahora a pretender que nos olvidemos de eso?"
          ],
          [
           "Sí es cierto que Perú muchos odian a los venezolanos pero estos también se han ganado el odio de muchos por sus actitudes o acciones que Venezuela sea tierra de nada no quiere decir que los demás países lo sean emoji cara con ojos en blanco emoji"
          ],
          [
           "@usuario En Formosa solo votan los paraguayos q cruzan las fronteras por los planes sociales, no votan formoseños"
          ],
          [
           "El pastizal que se han llevado las ONG que han trasladado inmigrantes ilegales contagiados por Coronavirus durante el Estado de Alarma url"
          ],
          [
           "@usuario Me parece lo mejor para la integridad de la relación política y comercial entre ambos países, la inmigración ilegal y descontrolada es un problema."
          ],
          [
           "@usuario @usuario @usuario @usuario @usuario @usuario Por ejemplo, en el tema de las violaciones grupales si que tengo datos a mano -de lo otro tendría que buscar-, y un 50%, con un 22% de magrebies, serían inmigrantes, o sea, que un 10% más o menos de la población estaría cometiendo un 50% de las agresiones url"
          ],
          [
           "Algo le aprendieron a Chávez, que cedulaba en Cúcuta y Maicao, al igual que a los Colombianos migrantes en situación económica deficitaria en el interior del país. Eso de no volvernos como Venezuela realmente tuvo el efecto contrario, las similitudes son casi innumerables Chamo."
          ],
          [
           "@usuario Maldito régimen uds no pueden ni emitir una palabra x su culpa estamos en esta debacle sin luz gasolina agua etc son una calamidad un desastre una maldición..coño váyanse dejemos vivir en pazz!!El interior del país clama por justicia"
          ],
          [
           "@usuario Ellos tiene bastante espacio para recibir inmigrantes!! tendríamos que decirles que serán recibidos con los brazos abiertos"
          ],
          [
           "@usuario @usuario El problema de los venezolanos es problema de Venezuela, los colombiano ya han sido muy generosos, amables y buenos pero ni a un bogotano pobre, la alcaldía le ha dado tanto como a un venezolano. Una cosa es ayudar y otra es mantener."
          ],
          [
           "la punta del iceberg de INMIGRANTES llega a la frontera de tamaulipas con texas centros de retención en texas rebasados por la cantidad de personas arrestadas , mientras tanto la frontera sur de méxico abierta al paso de TODO el mundo"
          ],
          [
           "Senadora estas segura que estas personas no trafican, o tienen beneficios personales para promover el supuesto derecho de migrantes, ahora y el derecho de un país? de los ciudadanos a vivir en paz. El derecho de ellos llega justo hasta donde llegan lo de los ciudadanos de un país"
          ],
          [
           "@usuario La progresía comunistoide daña la psiquis del individuo, lo adoctrina de tal manera que lo convierte en un virus, luegoblo hace huir de su país para infectar los paises vecinos, obvio que hay gente buena entre ellos, pero una buena parte de los migrantes son usados como arma."
          ],
          [
           "Jamás me sentí tan humillado, al ver a mis hashtag compatriotas en semejante acto por parte de un país que denigra y detesta a los hashtag venezolanos en hashtag ecuador la cuna de la hashtag xenofobia alimentada por su presidente !! todo gracias al hashtag bloqueo que nos hace salir de nuestra hashtag patria grande url"
          ],
          [
           "@usuario Lo único que pondrá control es la construcción del Muro en la frontera"
          ],
          [
           "Ya es preocupante.!! Y encima, se viene un feriado largo, que en las fronteras con Brasil será un hecho muy peligroso para nuestro país, con la llegada de más turistas que nunca, hacia los Free Shopp. Qué esperan las autoridades, para limitar o frenar esa posible avalancha ? url"
          ],
          [
           "@usuario @usuario @usuario Por Dios no más tapadera a esta 5aT AMLO entregó México a los Inmigrantes a cambio de perpetuarse en el poder- AMLO apoya narcotráfico y criminales el mismo dijo no serán perseguidos- AMLO es indigno de representar a México hashtag amlorenuncia hashtag amlo renuncia -esto firmó este dictador emoji dorso de mano con índice hacia abajo emoji url"
          ],
          [
           "¿O sea que ahora los venezolanos en Chile y los venezolanos que no han salido de Venezuela, los mismos que no pudieron contra 20 años de chavismo, quieren explicarle a los chilenos qué está bien y mal, cómo se debe protestar y cuáles son los derechos humanos? Qué gentecita, mano."
          ],
          [
           "@usuario Vaya a Estados Unidos ilegal a un hospital a ver si no le mandan migración.. dejen la estupidez"
          ],
          [
           "Si eso llegare a la Presidencia, habría que cerrar esto y botar la llave. Sería peor que Danilo y no soportaría presión internacional que tenemos sobre tema migratorio y de nacionalidad."
          ],
          [
           "@usuario Por cierto, creo que ha metido Ud. la pata a base de bien. Ese tipo de perfiles no es muy suyo denunciarlos. Inmigrante (probablemente ilegal) procedente de Gambia y también probablemente delincuente habitual. ¿No relee un poco las noticias?"
          ],
          [
           "Hablamos de terrorismo y el gobierno habla de mascarillas Hablamos de incendios intencionales y el gobierno habla de fiestas clandestinas Hablamos de inmigración ilegal y el gobierno habla de cuarentenas Mientras más hablamos nos damos cuenta de la gran desconexión del gobierno!"
          ],
          [
           "@usuario De donde será su papá ?? Seguro indio de tiarras uruguayas no era mm. Creo que extranjero; uno de tantos inmigrantes que llego a nuestro pais . Que vergüenza sr novik se caga en su pasado"
          ],
          [
           "@usuario @usuario @usuario Nuestra gente sin trabajo ni dinero, pero el gobierno muy chingon para apoyar a los migrantes"
          ],
          [
           "@usuario ERES TARADO, DILE A OSC QUE YA NO DEN VISAS HUMANITARIAS EN LA FRONTERA SUR, Y QUE COMIENCEN DEPORTACIONES MASIVAS; O TAMBIÉN ES INÚTIL COMO TÚ?"
          ],
          [
           "@usuario @usuario @usuario El gobierno entregó el mando a la agenda 20-30 de la ONU ya no tenemos gobierno propio. Bachelet dejó todo amarrado de antes. Nos llenó de inmigrantes, hizo convenio con ONU y se fue a su cargo actual. Esto no es ni la punta del iceberg todavía. Las FFAA no quieren actuar"
          ],
          [
           "@usuario A la población: 63% de 6.948 casos son 4.377, lo que representa un 0.018% de la población de Chilenos (Censo), el restante 37% (2.571) representa un 0.23% de la población migrante (Ubilla) osea la probabilidad de que un migrante tenga VIH es 10 veces mayor a la de un Chileno."
          ],
          [
           "*Ayudaria a la carabana inmigrante pero para que se vaya mas rapido -Pero eso no seria ayuda, sino compensación *Le estas dando sentimentalismo, seguiria siendo ayuda -La ayuda es altruista Y ya sabran como termino todo"
          ],
          [
           "@usuario @usuario El famoso pacto migratorio no contiene ninguna obligación para los migrantes,sólo que muchos derechos. Así como ud privatizó medio chile. El presidente tiene todo el derecho a no firmar."
          ],
          [
           "Se veía venir con tanta pobreza en cada calle del país. hashtag paro nacional hashtag paro21 noviembre y la reforma migratoria? @usuario hashtag colombia tiene dignidad."
          ],
          [
           "@usuario @usuario Que hay de las fronteras terrestres?. Por alla no solo se filtra el migrante clandestino, el fugitivo de la justicia, el contrabando, la cocaina y ahora, seguro, lo hara el corona virus. Mientras tanto, la foto oficial en los diarios es una pandemia de populismo."
          ],
          [
           "@usuario Estoy de acuerdo con usted. Por personas como esas es que cerraron la frontera, por eso también entiendo la xenofobia. Son unos vagos sinvergüenzas. Mis respetos a los ecuatorianos y venezolanos de bien."
          ],
          [
           "@usuario @usuario Pues si eso fue así por no hacer algo a tiempo paso lo que paso y ademas muchos colombianos que fueron a trabajar a Venezuela fue por que allá no les gustaba trabajar a los venezolanos y les gustaba vivir de los subsidios que les daba el gobierno, eso es una realidad"
          ],
          [
           "@usuario @usuario @usuario @usuario lo resolverá en la medida q se vayan dando las cosas con esta situación y se abran los demás negocios, esto no lo esperaba nadie y lo de los migrantes es un asunto q el Gobierno se lo dejo solo al Alcalde y los recursos no se deben gastar en ellos, mucho es lo q se ha hecho"
          ],
          [
           "@usuario AMLO siempre ha hablado de la soberanía de México en su discurso, debería empezar por reforzar los controles en la frontera Sur con Guatemala, cualquiera se pasa como en su casa !!"
          ],
          [
           "@usuario tiene razón en Colombia ha crecido la pobreza y se evidencia con los millones de venezolanos desplazados que Maburro nos está enviando a \"MENDINGAR\" en los semáforos pues en su país solo ven mierda en forma de chavistas @usuario @usuario"
          ],
          [
           "@usuario @usuario Las leyes de un país las tiene que respetar cualquiera, sea nacional o extranjero. Decir que las personas venezolanas tienen que hacerlo en nada aporta al debate y sí mucho a la xenofobia. Aclaración:sobre migrantes (pobres en su mayoría) se comenten más delitos que al contrario."
          ],
          [
           "@usuario @usuario Pues yo soy venezolano y en colombia en 5 años en Bogotá nos han robado más de 200 millones de pesos en una estafas. Igual seguimos adelante y no culpamos a costeños ni venezolanos, culpó a lo que realmente lo hicieron ladrones un estafadores.."
          ],
          [
           "Sr. @usuario debería empezar a trabajar en soluciones a esta problemática en la cual lamentablemente la ciudad de Quito a caído, que si bien hasta cierto punto es entendible por el tema migratorio debería ser regulado y que afecte lo menos posible a los ciudadanía quiteña. url"
          ],
          [
           "Siempre dicen que no son racistas pero cuando quieren apuntar a extranjeros siempre hablan de haitianos encuanto que hay 3 veces mas venezolanos que haitianos en chile Entraron 100 mil haitianos en el gob de Bachelet 300 mil venezolanos en el gob de Piñera"
          ],
          [
           "El hashtag feminicidio es el pan de cada dia en hashtag argentina y hashtag perú, diariamente mueren mujeres, acosadas o violadas, pero por un hashtag venezolano han hecho odio a toda una nación, expliquenme hashtag ecuatorianos donde está su ley o defensa para las otras víctimas?"
          ],
          [
           "Por que los haitianos se vienen a Chile, si el paraíso cubano y venezolano están muy cerca de ellos? url"
          ],
          [
           "@usuario Es tan TONTO AMLO que no se da cuenta de lo que está provocando con su estúpida forma de gobernar cree que Trump está jugano imagínense cerrada la frontera al comercio cuanto se perderá que detenga la migración del sur y punto AMLO EL PAÍS NO ES TU JUGUETE"
          ],
          [
           "@usuario Por que PUTAAS no interpretan bien..cuando dijo que todos los venezolanos son asesinos? Sin embargo, le repito vaya a los barrios populares y dese cuenta ud mismo de la situación, como ha sido afectada la gente de a pie por los migrantes vnzlanos. Por favor más empatia."
          ],
          [
           "Venezolanos cuando tienen un bajón de luz en Chile"
          ],
          [
           "@usuario @usuario Tu soberbia habla mal de ti. No de mi!! Y si, están en todo su derecho de organizar la entrada de migrantes, es más, habían tardado en hacerlo. Lo de no recibir gente en décadas.. te puedo asegurar yo a ti, que no tienes la menor idea del potencial que como Nación tenemos."
          ],
          [
           "hashtag matamoros hashtag tamaulipas eso esta muy bien cortado Dudo que los migrantes traigan herramienta para hacer esos cortes Debería de investigar la autoridad que está pasando"
          ],
          [
           "Tu amigo el Veneco, al que le diste monedas porque gritaba en la calle \"Ayudame hermano..\" El mismo que te saqueó el negocio y te lo volvió mierda."
          ],
          [
           "@usuario @usuario @usuario Dicen que es xenofobia pero porque las uri están llenas de más venezolanos arrestados por hurto que los mismos colombianos??"
          ],
          [
           "@usuario @usuario Ah! pero eso si se preocupan y mucho por los inmigrantes hondureños q van en busca del \"sueño americano\", se preocupan porque les den buena comida y todas las comodidades, mientras aquí en casa, la gente sufriendo y muriéndose d hambre; \"candil d la calle y oscuridad en la casa\""
          ],
          [
           "@usuario Hable de los migrantes venezolanos. Cretino"
          ],
          [
           "@usuario Yo no he visto nada de manifestaciones, cuando los violadores son inmigrantes, todo es política y manipulación"
          ],
          [
           "@usuario @usuario Eres venezolana?? Toma tu dosis de Patria, tu caso no es más importante que el millones de madres que estamos sufriendo por culpa de tu régimen!!"
          ],
          [
           "@usuario @usuario @usuario @usuario @usuario @usuario @usuario @usuario @usuario @usuario @usuario @usuario Excelente! Debemos proteger nuestras fronteras para q no ingresen más infectados. emoji manos aplaudiendo tono de piel claro emoji emoji manos aplaudiendo tono de piel claro emoji emoji manos aplaudiendo tono de piel claro emoji"
          ],
          [
           "@usuario @usuario @usuario @usuario @usuario @usuario y eso de los migrantes fue un urln maña de EPN. es como si tuvieras un terreno con otro socio y ya cuando llegas hay paracaidistas y ya NO los puedes sacar de forma legal, entonces tienes que negociar."
          ],
          [
           "@usuario @usuario ¿Las momias de palacio son \"sansón\"? Busca \"pacto migratorio\" para que veas la destrucción que sale de ka cabeza de estos decrépidos ladrones de basura."
          ],
          [
           "@usuario @usuario @usuario Si no es odio contra los migrantes, es priorización de recursos emoji persona con la mano en la frente tono de piel claro emoji cuando todo esté bien en el país ahora si regalas lo que quieras y das \"ayuda humanitaria\".."
          ],
          [
           "@usuario @usuario @usuario @usuario Prioridades en salud @usuario hashtag hospital digital y las ITS que sigan aumentando las cifras y culpamos a migrantes y mujeres?"
          ],
          [
           "@usuario Ah okey señora Claudia la delincuencia en Colombia - Bogotá es producto de la migración venezolana, será que antes no existía la delincuencia, no excusamos a los venezolanos que van a delinquir pero también es verdad que son muchos los que van a trabajar y son buenas personas"
          ],
          [
           "@usuario @usuario @usuario @usuario Y porqué Maduro no contrata a los Cubanos para q atienda alos Venezolanos? Así se suspende el éxodo de migrantes a Colombia."
          ],
          [
           "@usuario EUA fue muy claro con los 3 requerimientos respecto a migración ilegal de sudamerica. Nos beneficia a ambos países frenar esta situación. Cualquier postura que no sea esta nos va a perjudicar. Nuestra economía va en retroceso y este sería un golpe durísimo. Tómenlo con seriedad."
          ],
          [
           "@usuario @usuario Aquellos que \"defienden\" a los migrantes, y que no se enfrentan a la gran responsabilidad de no permitir entrar a ilegales entonces qué sugieren? En la frontera los ciudadanos mexicanos se quejan de los migrantes, Gael está cómodo en EUA que dé sugerencias. No solo crítica."
          ],
          [
           "@usuario El negacionismo y el doble discurso; con cara gano Yo con sello pierdes tú; títere incoherente y corrupto; no tenemos presidente tenemos canciller de la oposición venezolana remunerado con sueldo de presidente en Colombia. Duque majadero, perdón mandadero."
          ],
          [
           "Alguien le pidió la opinión sobre lo q ocurre en Chile a algún venezolano?"
          ],
          [
           "@usuario @usuario Disputan control de narcotráfico, gasolina, prostitución, migrantes, contrabando etc, la policía y ejercito cobran su impuesto para que todos puedan trabajar en la ilegalidad los oficiales de policía y ejercito solo se benefician del dinero fácil \" aquí no pasa nada\""
          ],
          [
           "\"Martorell se siente de clase media\" el mismo que es inmigrante y vende bolsas de basura para sobrevivir. El venezolano y su mojon mental."
          ],
          [
           "@usuario CHILE DEBE CERRAR SUS FRONTERAS! Alerta por CORONAVIRUS! En las condiciones de extrema violencia y TERRORISMO que vive Chile, no se puede controlar este tipo de epidemias. @usuario @usuario @usuario @usuario @usuario @usuario"
          ],
          [
           "@usuario Lo peor de todo es que hay gente que intenta excusarlos de que son unos \"pocos\" los que hacen daño. Y que muchos colombianos también emigraron a Venezuela en épocas del conflicto armado y bla bla bla bla. emoji cara con ojos en blanco emoji emoji cara con símbolos en la boca emoji"
          ],
          [
           "@usuario @usuario @usuario @usuario .Voy a ser tu próximo Presidente emoji bandera perú emoji emoji bandera perú emoji emoji bandera perú emoji emoji bandera perú emoji emoji bandera perú emoji emoji bandera perú emoji Voy a traer paz, honestidad y integridad al país. Cuando sea tu Presidente los Peruanos podrán vivir seguros. En mi Gobierno Expulsaremos a todos los Venezolanos del Peru para q la prosperidad y paz regrese al país."
          ],
          [
           "La crisis bancaria del 99 que dio lugar la migración, suicidios caos y miseria fue ocasionada por los mismos que hoy gobiernan con Moreno. La Patria se recuperó con @usuario @usuario hoy Lasso-Nebot-Bucaram vuelven a destruirla. ¡Prohibido olvidar! emoji dorso de mano con índice hacia abajo emoji url"
          ],
          [
           "Es el segundo video que veo de gente ecuatoriana y venezolana intentando cruzar la frontera. Pongan más resguardos en las fronteras. Cosas así no se deben escapar ni permitir."
          ],
          [
           "@usuario @usuario @usuario He seguido informándome, y parece que el ayuntamiento pone reticencias porque el uso de la parcela no está estipulado para montar un campamento..Creo que la situación de emergencia con los inmigrantes, merece la pena saltarse buscar fórmulas para conseguirles un lugar digno."
          ],
          [
           "@usuario Nosotros lo que tenemos que hacer es cerrar la frontera. Ya no más!!"
          ],
          [
           "@usuario @usuario @usuario @usuario Jjaja muerdete el culo y sufre sólito yo también soy Colombiano y Venezolano tengo el mismo pasaporte que tu y además el pasaporte venezolano con mucho orgullo llora y sufre sólito eres una minoría asquerosa no me afectas"
          ],
          [
           "@usuario @usuario @usuario Cerrar frontera es ayudar a que el venezolano no encuentre soluciones a sus problemas de abastecimiento y saquen a maduro por necesidad extrema, frontera abierta oxígeno a maduro."
          ],
          [
           "@usuario Esa es la cosa que ojalá lleguen a Colombia,Chile, Perú, Ecuador etc etc.. por que esa es la situación que no le dan ayuda a los venezolanos y llegan y llegan recursos y nadaa"
          ],
          [
           "@usuario @usuario Nada mas pro-inmigración que una política ordenada. El descontrol migratorio genera esclavitud por la supervivencia además de afectar directamente la vida de los quintiles más bajos. Increíble que los periodistas tengan cero capacidad de enfocar en problema en serio"
          ],
          [
           "@usuario @usuario Está claro que necesita arrancar de la constitución socialista venezolana a una que hizo prosperar a un país durante 40 años , pero el que cruza una frontera ilegalmente comete delito, por lo tanto no solo se sintió como delincuente, lo es"
          ],
          [
           "@usuario @usuario Nada cambiará e incluso con una constituyente,porq el problema de fondo partió hace 30 en el Congreso que ha tenido un abandono permanente a la educación pública y con los nuevos mercados ,tecnológicos y una migración económica ilegal etc aumentarán los pobres y la desigualdad!!"
          ],
          [
           "@usuario ¿entonces como? ¿como si fuera migrante y ofrecerle casa, sustento, comida y empleo?"
          ],
          [
           "@usuario @usuario No vacunar a migrantes pone en peligro a chilen@usuario. Muy mala política."
          ],
          [
           "@usuario la villa 31..indocumentados..narcos..inmigrantes..muchas casas de comidas de paises limitrofes..no era un lugar para vivir..se metieron de pecho y el estado lo permitio..y tengo amigos ahi viviendo.."
          ],
          [
           "Mientras tanto en los pesebres de Colombia: Jesús abandona a Maria por una Veneca."
          ],
          [
           "@usuario @usuario Tan weones no somos Moreira. Paren el show, pesquen sus negocios truchos, sus lucas corruptas y vayanse del país de una vez!"
          ],
          [
           "@usuario @usuario Logros..no me jodass miseria muerte corrupción crisis migración narcotráfico lo único bueno que hizo esa RATA FUE MORIR"
          ],
          [
           "@usuario Juan carlos estas trinando como loco sin pensar. Calmate!! Mesura. Imaginate apenas duque vacune el primer venezolano sin documentos. Al otro dia hay un millon mas."
          ],
          [
           "@usuario PERO, DE QUE RACISMO HABLAS CARA DURA??..VERDAD QUE TU VIVES EN TORNO A LOS INMIGRANTES Y ESTO NO ES RACISMO ES SACAR PROVECHO A LA DESGRACIA HUMANA, LA CUAL CONOCES PERFECTAMENTE!! url"
          ],
          [
           "hashtag openmafia - Endurecimiento de las penas para combatir a las mafias de la inmigración ilegal, así como para quienes colaboren con ellas, ya sean ONGs, empresas o particulares. - Persecución efectiva de los manteros y mafias de comercio callejero."
          ],
          [
           "@usuario Hay que preguntarle a los 6 millones de colombianos! Si no se han regresado a cocalombia, por algo será!"
          ],
          [
           "@usuario @usuario Con mucho respeto a usted señorita que es una dama pero a ninguno para perdonar primero deben resarcir el daño a todas las familias de Vzla cuando uno ve ancianos que están solas por culpa de la migración salvaje cuando uno ve niños muriendo a diario y personas que mueren no más"
          ],
          [
           "@usuario @usuario Me dicen que en Europa la campañas de vacunación no van dirigidas a inmigrantes y gitanos"
          ],
          [
           "@usuario @usuario Q más quiere ver si es tan evidente todo y la gran inmigración q causa los venezolanos en toda la región y los muertos en manifestaciones q"
          ],
          [
           "@usuario @usuario @usuario Que esperábamos después de la firma del pacto global migratorio que Panamá se comprometió respaldar. Que los cubanos se iban a ir a otro país? Pues no Sres, vienen para donde tienen y tendrán mejores atenciones."
          ],
          [
           "@usuario Si y usted con sus acciones nos echa a los lobos. ¡IRRESPONSABLE! Debe cerrar todos los focos de transmisión y las fronteras! Explique lo jodido de tratar que es el COVID en las UCIS. Sinverguenza!"
          ],
          [
           "@usuario Ojalá lo ves y actúes en una , as algo bueno almenos y nota a todos los venezolanos del Perú url"
          ],
          [
           "@usuario La inmigración es parte del problema coincido con ud , pero aún así el Gobierno tiene responsabilidad de la llegada al 8.4 , ahora lo bochornoso es ocupar días completo lo que vivió carabineros años atrás uso los 33 , seamos serios hoy es imperativo reducir la cesantía"
          ],
          [
           "Alguien de aquí dijo inmigrante ilegal? emoji luces de policía emoji emoji luces de policía emoji Porque el término correcto es inmigrante indocumentado. JAJAJAJAJAJAJA emoji cara llorando de risa emoji emoji cara llorando de risa emoji todo en south park"
          ],
          [
           "Pero dice Gatell que hay que asistir a los migrantes de la caravana que viene, por humanidad hashtag si es mexicano no importa."
          ],
          [
           "@usuario @usuario Creían a absorber millones de migrantes en la miseria iba a salir grátis? El tipo prometió lo q no tenía y ahora nos pasa a nosotros la factura. Todo para el quedar \"solidario\", eso sí los sacrificados fuimos nosotros! Pq hasta Maduro anda feliz de q le quiten responsabilidad!"
          ],
          [
           "@usuario @usuario No sólo el sr este cambia su comportamiento al cruzar la frontera, conozco a mucha gente que al cruzar se vuelven educados y respetuosos de las normas y leyes, no es otra cosa que allá si hacen cumplir la ley, en México ya hasta le pegan a la policía"
          ],
          [
           "@usuario La pesadilla la han organizado uds. Al no tener control de la situación y suponer que nadie se atrevería a no dejarlos entrar en olor de multitud y fama.Usan uds. a los inmigrantes en su beneficio,no se si por dinero política o por su ego. O todo a la vez. A quien ayudan uds?"
          ],
          [
           "y saber que el inmigrante Simon Bolivar lucho ppr hacerlos libres y ahora xenofobos ofendidos victimas"
          ],
          [
           "@usuario El deplorable eres tu , un politico de acuerdos de corrupcion de baja monta q dejo entrar a 1,2 MM de migrantes q fue para provocar lo que esta pasando ahora, eres de lo peor y tu sabes perfectamente por q la constitucion actual es un lujo, lo que esta mal son politicos como tu!!"
          ],
          [
           "@usuario El problema no es de los migrantes, son sus propios países corruptos qué los maltrata.. OMS, onu, oea, y un sin fin de parásitos que no hacen nada por ellos.. ONU por Venezuela que.? Vista a la cuenta bancaria.!!"
          ],
          [
           "@usuario Además no se les rechaza por ser venezolanos, se les rechaza por ser delincuentes, porque todos conocemos aún venezolano que trabaja lucha por su sustento, pero la realidad no se pude tapar con la palabra xenofobia."
          ],
          [
           "Pues sí chicos. Ahora si eres estudiante y no puedes permitirte pagar la universidad, eres un inmigrante."
          ],
          [
           "@usuario DEJEN HABLAR AL ABOGADO USTEDES REPITEN LO MISMO EL ABOGADO PUEDE DAR SOLUCIONES. LOS VECINOS DE QTA NORMAL NECESITAN SOLUCIONES. ESTO ES LA CONSECUENCIA DE CRISIS MIGRATORIA USTEDES VIVEN EN OTROS BARRIOS ES FÁCIL HABLAR DE ZONA DE CONFOR DEBE AYUDAR A LOS VECINS"
          ],
          [
           "@usuario @usuario @usuario @usuario @usuario @usuario @usuario @usuario @usuario Y adicional a eso son enviados a los campos de concentración creados por el gobierno de El Salvador. Atropellando los Derechos humanos y abusando del poder. Hasta cuando ?"
          ],
          [
           "@usuario @usuario @usuario @usuario Si pues! Todos los pro-migrantes, los que se llenan la boca defendiendolos, invitandolos, a donde? donde estan que no ofrecen sus casas pues? si son tan generosos con los recursos ajenos, puro discurso"
          ],
          [
           "hashtag bienvenidos13 Pero qué onda ustedes? Lo de venta comida instalada por migrantes en calle San Isidro con Curico, Serrano, San Francisco, no es de ahora. Ocurre más o menos tres a cuatro años, por tanto, excusa que es por la Pandemia, es mentira, además, hay tráfico droga ahí."
          ],
          [
           "Menuda cuadrilla de zafios que se creen el sueño americano y esperan ser presidente allá por el año 500"
          ],
          [
           "@usuario Inmigrantes ilegales? yo creo que había más simpatizantes de tu partido que inmigrantes."
          ],
          [
           "@usuario Sobre todo que Mr. Trump se queja de lo que le cuesta a la patrulla fronteriza y no ve lo que. nos cuesta a los mexicanos las olas de inmigrantes? Que le pregunten a los alcaldes de las ciudades fronterizas y sus ciudadanos que son los que cargan con el problema ?"
          ],
          [
           "@usuario @usuario Ya hay dos constitucionalistas que han desahuevado a la bestia del alcalde de la Molina. A qué hora levanta su ridiculo cierre de fronteras distritales?@usuario"
          ],
          [
           "@usuario @usuario @usuario La aceptación no selectiva de migrantes venezolanos indocumentados nos está pasando factura. Recuerdan cuando pasaban el puente de Rumichaca sin siquiera registrarse, y seguían, caminando por la Panamericana como Pedro por su casa?"
          ],
          [
           "@usuario hashtag vizcarra lagarto asesino es un psicópata. Cierren las fronteras. hashtag inhabiliten avizcarra @usuario ¿Zoraida Avalós está en Perú?"
          ],
          [
           "Suma y sigue. Un no parar. hashtag inmigración ILEGAL hashtag coronavirus"
          ],
          [
           "@usuario Incapacidad Venezuela, Argentina, Cuba, los migrantes vienen de allí, nos quieren convertir en Venezuela"
          ],
          [
           "@usuario @usuario Encuentro una insolencia que la inmigrante colombiana Gloria Toro (FridaSiKalo). Nos diga como debemos tratar conflicto mapuche. Y más que diga que se debe aplicar ley de seguridad del estado. En tiempos de Pinochet la UDI la apedrea por inmiscuirse tema país"
          ],
          [
           "@usuario El problema de nuestro pais no es la delincuencia solamente sino la violencia criminal y social por lo que la solución no está en las armas sino en políticas migratorias y cultura antiviolencia y de seguridad en EEUU no pueden controlar la violencia y se puede portar armas emoji cara con ojos en blanco emoji"
          ],
          [
           "@usuario Pq entonces tu jefe no contrata inmigrantes para su escolta en vez de tener a la GC en su puerta? Así crea empleo..y demuestra que es un demócrata!"
          ],
          [
           "Alguien le pidió la opinión sobre lo q ocurre en Chile a algún venezolano?"
          ],
          [
           "No a la inmigración ilegal! Quieres inmigrar? Hazlo organizadamente, pide los permisos necesarios, se paciente y perseverante, apégate a la ley. No atropelles a ninguna institución gubernamental. Querer es poder. hashtag inmigra correctamente"
          ],
          [
           "@usuario Deje el show. Ponga los recursos para atender a esta población y de paso a los estratos 3 y 4. O solo los pobres migrantes merecen la ayuda? Localmente hay mucho por hacer. No solo duplicar la miseria que da en familias en acción."
          ],
          [
           "La migración desordenada, sin requisitos ni seguridad ha propiciado esta situación. Esto no es 'xenofobia', es un tema de razón de Estado, de soberanía y de gestión pública. hashtag cuarto poder"
          ],
          [
           "@usuario Que no ocurra como el cierre de fronteras de nada sirve CERRAR LA MURALLA DE TROLLA ,SI EL CABALLO ESTÁ DENTRO"
          ],
          [
           "@usuario @usuario Su gobierno va a terminar con 40 millones de desocupados y siendo el país con más muertos x Covid 19, con un estallido social que es una olla a presion fomentada permanentemente desde la provocación. Y cerrando las fronteras a la inmigración. Patético y penosa presidencia."
          ],
          [
           "@usuario Terrible acuerdo!! No hay oportunidades laborales, ni salud ni educación, para los mexicanos..cómo se comprometen a dárselas a los migrantes??"
          ],
          [
           "Javier, @usuario es de las personas que da sin condición y da a manos llenas. Ama a Guatemala como si lo fuera (y ya lo queremos como a un hermano). @usuario @usuario háganse el favor de regularizar su situación migratoria. @usuario hashtag firma para javi"
          ],
          [
           "@usuario Pues no creo que esté mal que existan filtros para los migrantes los demás países lo hacen. por qué Mexico no?"
          ],
          [
           "Mientras se pelean entre ellos por el campeonato de xenofobia, ningún político \"progresista\" en Colombia elogiará el ETPV de Duque porque implicaría reconocer la inviabilidad y el fracaso del modelo que han defendido, ese que expulsó a más de 5 millones de venezolanos de su país."
          ],
          [
           "@usuario Querrás decir INMIGRANTE ILEGAL, no?"
          ],
          [
           "@usuario Muchos hermanos inmigrantes no quieren pasar por el registro, la información será compartida, nuestro gobierno ofrece salidas pero no más, no quieren ellos quieren hacer las cosas a su modo, pero siempre hay caza inmigrantes q los van a llevar a otros peligros. emoji cara con sudor frío emoji"
          ],
          [
           "@usuario @usuario Cierto,los colombianos emigraban a Venezuela en busca de porvenir pero trabajando, no asesinando y robando, como lo hacen buena parte del vecino país quienes deportados x delincuentes regresan por trochas bajo el silencio cómplice de migración."
          ],
          [
           "Así: si eres inmigrante facho y estás en contra de los cambios q hay q hacer en Chile para q gobierne la ciudadanía y no la élite (como hace más de 200 años) únete a kkast y disfruta de los martes de pololeo.."
          ],
          [
           "@usuario Art77_H @usuario @usuario Al igual que Gabriel Wave, que solo publica un video de un violador golpeado y arrestado cuando el violador es negro o inmigrante, puede estar de acuerdo con qué violador debe ser golpeado, pero dudo que esté de acuerdo con su opinión sobre los negros. e inmigrantes"
          ],
          [
           "@usuario @usuario @usuario @usuario Revisa los requisitos para irte a vivir a esos países, de eso estamos hablando de filtros migratorios. Si Piñera fuera al aeropuerto a recibir refugiados sería hermoso, si no tuvieras 400.00 inmigrantes inscritos para recibir beneficios sociales en Chile."
          ],
          [
           "@usuario @usuario @usuario El y todo su gobierno. La frontera con venezuela debió haberla cerrado desde el año pasado y recien hoy vino a cerrar, sin tener la certeza si realmente lo hacen cumplir."
          ],
          [
           "@usuario @usuario @usuario Y disculpa que te conteste de esta forma, pero hay tanta gente ciega, que no quiere ver el tremendo daño que nos han hecho con la inmigración desatada que comenzó con Bachelet y Heraldo Muñoz."
          ],
          [
           "@usuario Sería interesante saber cuántos hijos de inmigrantes estàn naciendo versus hijos de chilenos"
          ],
          [
           "@usuario Lilianecatapan1 @usuario @usuario g1 São paraguayos que perdieron sus trabajos y llegaron de São Paulo, fueron recibidos y puestos en cuarentena en albergues, fronteras cerradas, pero muchos paraguayos regresaron y fueron recibidos por orden del presidente."
          ],
          [
           "@usuario No es doble estandar! Si tienen vinculos cn dictadura narco de maduro hay q dejarlos entrar? Si tienen antecedentes? Si no cumplen los requisitos hay q dejarlos entrar? Y como explicarías en ese caso a los millones d otros inmigrantes q se han rechazado x eso mismo? 🤦 emoji tono de piel claro medio emoji ‍"
          ],
          [
           "@usuario @usuario @usuario Tampoco los millones de inmigrantes que entraron a Venezuela eran santos OBVIO. Ni tampoco son santos todos los habitante que conforman su país ,cierto ?"
          ],
          [
           "@usuario @usuario Ay ay ay! Esta srta. está en la luna de Paita. Cómo alguien en sus cabales puede pensar: que los migrantes q huyen de su país xq no tienen qué llevarse a la boca, y llegan a Perú con manos vacías generan crecimiento económico? De dónde salió ésta Ministra? Más demagoga imposible!"
          ],
          [
           "@usuario \"Bandas criminales venezolanas\".. no puedes escribir bandas criminales, así simple? Qué ganas de crear xenofobia y estigmatizar."
          ],
          [
           "@usuario Sara, Sara, Sara.. No y su Chile no resiste , ela ahí sufriendo el agobio de la inmigración, vean sus me gusta y se darán cuenta el tipo de persona que es.."
          ],
          [
           "Váyanse del país,cuba, Venezuela etc y dejen trabajar al resto que si producen al país.Uds solo critican y ansias de llegar al poder"
          ],
          [
           "@usuario @usuario Cuando los peruanos emigraban a venezuela no iban rezar. Bastantes delincuentes que fueron a hacer fechorías. Y no vengan con el cuento de que no todos eran malos porque también hay mucho venezolano preparado y educado que se ha tenido que ir a esos países."
          ],
          [
           "@usuario Tiene usted razón. Pero el problema es mas específico, el crecimiento económico y la generación de empleo va mas lento que la llegada de extranjeros. Si hay suficiente generación de empleo, los inmigrantes molestariamos menos."
          ],
          [
           "@usuario @usuario @usuario exigencia de vacunas? Cuba las pide y Chile nada. Está preparado el E* y tiene los recursos para atender alta cifra de enfermos q vienen con inmigrantes? hashtag chile primero"
          ],
          [
           "@usuario @usuario @usuario Y por qué cree que doña Bache abrió la puerta a inmigrantes pobres?"
          ],
          [
           "El gobierno realojó a 36 familias en Casavalle. Hay 36 familias con viviendas nuevas y dignas pero parece que algunas están compuestas x inmigrantes dominicanos. Ya estamos esperando que Vero Alonso y Lafigliola empiecen a juntar firmas para sacárselas."
          ],
          [
           "@usuario @usuario le pregunto a la @usuario por qué la opinión de Suráfrica; Domínica; Antigua y Barbudas; vale igual que la de Colombia o Perú? ellos acaso lidian con los millones de Migrantes a causa de la narcotiranía de Maduro? No quiero hacerme el listillo, de hecho, pregunto en mi ignorancia"
          ],
          [
           "Es increíble la cantidad de migrantes hashtag cubanos que pasan diariamente por peñas blancas emoji cara de frustración emoji"
          ],
          [
           "@usuario No era como Oslo, pero no era tan insegura como lo es en este momento todo por cuenta de los venezolanos, no es xenofobia es la realidad."
          ],
          [
           "Néstor Moráles más preocupado por los Venezolanos migrantes que los Colombianos asesinados, empieza la estrategia mediática para meter miedo de volvernos una segunda Venezuela malparidos manipuladores hashtag mananas blu hashtag feliz martes"
          ],
          [
           "@usuario @usuario @usuario @usuario Es obvio que haya aumentado el número de migrantes, acaso no sabes que hay una barbaridad de latinos esperando a entrar? pobre croquetero"
          ],
          [
           "@usuario @usuario @usuario @usuario imagino que le van a dar los mismos privilegios que a los venezolanos que huyen de la dictadura"
          ],
          [
           "@usuario Si la marcha es por Chile, pedirán al gobierno TODO lo que debe cambiar en nuestro país, empezando por las pensiones?? Porque está claro que la inmigración no es nuestro principal problema."
          ],
          [
           "@usuario @usuario @usuario El problema de la hashtag migracion no es de blanco o negro @usuario No se trata de \"cargas\" o \"imposiciones\" pero tampoco de caridad sin medidas. hashtag mexico debe crear una ley migratoria que se adapte a la realidad del país, poner límites sin medidas drásticas."
          ],
          [
           "@usuario Presidente, pero de q? De una junta de condominio? Ningún Presidente de una República hace control migratorio"
          ],
          [
           "@usuario Que crees no soy bot, soy una mexicana a la que le cae muy mal que sus impuestos te los hayan regalado. No eres ni mexicano. Regresa a tu país. Guatemala te espera"
          ],
          [
           "@usuario La delincuencia aumenta a pasos galopantes y sin lugar a dudas la migración venezolana algo tuvo que ver .."
          ],
          [
           "Le pregunté a una señora venezolana que veo a diario, hoy con un cartel de \"Ecuatoriano abre los ojos, vota bien\", que de dónde saca ese lema si ayer decía \"tengo hambre y quiero ir a Perú\"? y dijo: Sigo con hambre y gente de @usuario me dio dinero! ASQUEROSOS..!"
          ],
          [
           "@usuario Salgan de Perú mis queridos hermanos Venezolanos, por favor."
          ],
          [
           "Pregunta Para Dummies: Si @usuario ordenó al ejército de EEUU disparar contra los migrantes desarmados que pretendieran ingresar a USA, por qué el Dr Maburro no puede ordenar lo mismo para hashtag venezuela ? Es para una tarea, XQ no hemos podido entender, X Q el mono si puede?"
          ],
          [
           "@usuario @usuario Hola Gato!! Buenos días!! Ya habrá empezado a llevar ladrillos, arena, piedra, hierros de 14 para la Frontera con Brasil?? Con 6 metros de altura esta bien, y arriba por las dudas 2 metros de alambre electrificado.."
          ],
          [
           "@usuario @usuario Exacto. Entre mas empleo. Menos migrantes y tener mas oportunidades en nuestro propio pais emoji pulgar hacia arriba emoji emoji pulgar hacia arriba emoji"
          ],
          [
           "@usuario Al peje le importan más los inmigrantes y los narcos que los aranceles que nos pongan Trump."
          ],
          [
           "@usuario Desigualdad y pobreza, vinieron d su 1er Gob y continuó en el segundo!! La corrupción se apoderó del país hasta el día de hoy. Lo peor fué la inmigración descontrolada q usteded provocó, generando más desespleo luego haciendo crecer el Estado.Todo lo q hizo fue un desastre!! emoji cara cabreada emoji"
          ],
          [
           "@usuario @usuario @usuario 100 de venezolanos en Peru me convencieron de no votar nunca por los COMUNISTAS"
          ],
          [
           "FBI Y NO CONTROLAN NI EL GATILLO LA POLICÍA DE USA. @usuario @usuario SI TODO INMIGRANTE Y LATINO SE FUERA DE USA QUE SERIA DE USA QUIEN TRABAJARÍA SI EL GRINGO NLANQUITO NO SABE HACER LO QUE HACE EL INMIGRANTE Y LATINO. Conoce debilidades de cada nación y no las repitas"
          ],
          [
           "@usuario @usuario @usuario @usuario @usuario @usuario @usuario @usuario @usuario @usuario @usuario @usuario @usuario @usuario Se debe cerrar esa frontera con Vzuela definitivamente"
          ],
          [
           "Amigos hashtag venezolanos mientras vivan en este techo, MI TECHO Colombia, obedecen las reglas , ok? Si no.. Bien pueden regresashh"
          ],
          [
           "@usuario No olvidemos esto jamas.Peru Ecuador Chile.Siempre seran lo q son.Pueblos incultos q temen a gente Superior Y hablo de preparacion intelectual y profesional venga d donde venga Vnzla renacera mas prospera y fuerte q nunca y la migracion cambiara de sentido.Alli la dulce venganza"
          ],
          [
           "Eso incluye a sus migrantes. Ellos no pueden votar, como no debería tampoco ningún beneficiario de sus ayudas sociales."
          ],
          [
           "Que dice, la que dijo que le habían dado una pedrá, que el feminismo es responsable de miles de muertos por la COVID. Y los rebrotes actuales, son causa de los inmigrantes que recogen la fruta. La cicatriz la debe llevar bien maquillada, no se le nota nada. HA DICHO"
          ],
          [
           "Encuentro cuatico que alguien se sienta más cómodo en otro país que el propio. Por eso me cargan las leyes de inmigración de casi todos lados incluyendo Chile, uno debería ser libre de irse y estar donde se siente bien"
          ],
          [
           "@usuario @usuario Con la ayuda de diputados como ustedes, que en vez de trabajar para Chile, trabajan para sus bolsillos, es fácil recriminar de la vereda opuesta, migración sin control, todo lo rechazan, que esperan que los hashtag tiemposmejores se hagan de milagro?"
          ],
          [
           "@usuario @usuario @usuario @usuario @usuario @usuario @usuario @usuario Hay que cerrar la frontera señor alcalde antes que sea tarde @usuario hashtag duque cierre las fronteras ya"
          ],
          [
           "No hace falta decir que el crimen, sin decirlo, se entiende como una consecuencia de la inmigración y la falta de integración (palabras q en Suecia van siempre asociadas). En un momento de su discurso, el moderado se refiere a Dinamarca ¿Va a comparar la gestión del Coronavirus?"
          ],
          [
           "@usuario @usuario Esta es la política de inmigración de Colombia emoji signo de interrogación emoji emoji cara cabreada emoji emoji signo de interrogación emoji"
          ],
          [
           "Es importante llevar un control de la migracion venezolana en Trinidad en acuerdo con sus autoridades solo asi se puede acabar el negocio de trata..pero esta claro que la trata alimenta prostitucion y seguro esclavitud del siglo XXI"
          ],
          [
           "@usuario emoji señal de stop emoji Querida @usuario NO olvidemos que @usuario Le dió refugio político a este TERRORISTA ex Sendero Luminoso, Rodolfo Noriega y encima le dió un puesto en la Coordinadora Nacional de inmigrantes!! emoji dorso de mano con índice hacia abajo emoji hashtag fuera terroristas de chile url"
          ],
          [
           "@usuario @usuario @usuario Con con un indice delictivo y de homicidio increible (ni en guerras) con un alto nivel de desnutricion, el salario mas bajo de latonoamerica, crisis migratoria.."
          ],
          [
           "@usuario En Chile somos alrededor de 300.00 venezolanos. Hallar un empleo con contrato es cada vez más difícil. La llegada rápida y masiva de migrantes va a generar un ambiente más precarizante."
          ],
          [
           "@usuario @usuario @usuario @usuario Yo no digo que inmigración sea la causa de los problemas. Es un problema nuevo más para los pobres. Por cupo empleo atención etc que no se va arreglar por qué llegaron. Al contrario. Ese es mi punto"
          ],
          [
           "Ahora saldrán los venezolanos en Perú a decir que el peruano que te amenazó tenía razón."
          ],
          [
           "@usuario Me Preocupa la realidad de esas rutas del Istmo.. ¿Realmente hay una estrategia de base para ese proyecto? ¿Veremos hacerce realidad? ¿No será nueva ruta de migrantes y delincuencia? ¿El sueño del porfirismo sobre el Istmo es suficientemente moderno para nuestros días? emoji cara con monóculo emoji"
          ],
          [
           "@usuario Esto hay que pararlo. Vienen aquí sin una cultura social democrática y pacífica, pero con todos los derechos que las naciones unidas otorgan al refugiado o migrante. Los políticos no están siendo capaces de solventar este gravísimo problema."
          ],
          [
           "@usuario @usuario @usuario @usuario @usuario No puede ser verdad .. 🤦 emoji tono de piel claro emoji ‍ suben los impuestos, tarifas miles de personas al seguro de desempleo entre otros y tenemos que sacar de nuestro bolsillo ? Ahora q se hagan cargo xq no tomaron a tiempo medidas cierre de frontera controles cuarentena obligatoria !!"
          ],
          [
           "Primero hace pública invitación a migrantes ofreciéndoles trabajo lo que provocó caravanas y caravanas de ilegales. Cuando las consecuencias de su torpeza tienen o pueden tener consecuencias en la economía, organiza un mitin en favor de la \"bonita amistá.\" Ganso pendejo."
          ],
          [
           "@usuario KAKAST NO ES CHILENO AWEONAO, ES HIJO DE MIGRANTES. NO MERECE SER PRESIDENTE. url"
          ],
          [
           "El presidente de Colombia hace algo con pantalones respecto a migrantes.. bien ahí!! emoji manos aplaudiendo emoji emoji manos aplaudiendo emoji nuestro @usuario su ministrillo @usuario el cancilleruso @usuario viven en un mundo paralelo.. militares, drones.. puaj!! Que termine pronto este suplicio por favor."
          ],
          [
           "@usuario Justo hace rato me encontré con un grupo de centroamericanos inmigrantes. Y pues como señalan muchas personas aquí: groseros y agresivos."
          ],
          [
           "@usuario Porque sólo destacan en el titular delincuente venezolano, porque por supuesto llama más la atención colocar \"venezolano\", Ej: atraparon dos delicuentes de la banda x en Perú, dónde uno es peruano y el otro venezolano."
          ],
          [
           "@usuario Yo soy inmigrante, si no puedo opinar ok. Pero quiero estar exento de impuestos."
          ],
          [
           "@usuario Fresitas al ataque, desde su muy privilegiada posición, y sin hacer colas, le piden a 11millones más 1 millón de inmigrantes que vayan en 2 días a vacunarse contra la \"mortal\" difteria que ya se llevó DOS personas, si, DOS, no los casi 40MIL del COVID-19, no, solo DOS.. Vah.."
          ],
          [
           "Bueno, es Brasil CERRAR FRONTERAS APRENDER"
          ],
          [
           "@usuario Si hablamos de contradicción ud se pronuncia de los bombardeos a los guerrilleros pero no dice nada cuando un migrante asesina a un ciudadano de bien por robarlo."
          ],
          [
           "Venezuela, en lugar de agradecer a Brasil por recibir a sus inmigrantes, sigue saboteando."
          ],
          [
           "@usuario los países como Chile se dan cuenta que esto va para largo y que la ola migratoria va a seguir creciendo ,cada día más controles .No se puede alargar más este asunto .El venezolano no da más .Sos"
          ],
          [
           "@usuario @usuario Si, si.. desplazados por las guerrillas narco-comunistas.. que me dice de los 5 millones de venezolanos que \"turistean\" a pie por el mundo gracias al amigote de Petro.."
          ],
          [
           "@usuario @usuario Pasaremos aa historia como la peor emigración del siglo XXI. aquí en ecuador la cosa no es diferente uno va a las zonas de discotecas y los que lideran el microtrafico de estupefacientes son colombianos y venezolanos."
          ],
          [
           "@usuario uno detestabas esa estúpida política migratoria de libre movilidad y ciudadanía universal, el chulquero se ha pronunciado a favor de un montón de libertades entre esas continuar con esta situación. Esque la embajada entrometida injerencista les obliga para q nieguen el bloqueo"
          ],
          [
           "@usuario yo me acuerdo que en venezuela todas las putas eran colombianas y todovia son putas todas"
          ],
          [
           "Y luego hablan de xenofobia y no se dan cuenta que no los quieren por ellos mismos. La dignidad de esos \"venezolanos\" por el piso"
          ],
          [
           "Por ahora la narcocracia mexicana salinista-zedillista-bushista exportadora se salvó. Pero si @usuario no detiene a hordas migrantes de SOROS, el presidente @usuario @usuario tomará medidas más fuertes y radicales."
          ],
          [
           "@usuario xq tantos venezolanos muertos d hambre perseguidos x la Dictadura huyen dl paraíso comunista?? Xq no son capaces d defender su país? Ojalá alguien le corte el oxigeno al Dictador"
          ],
          [
           "@usuario En una guerra comercial con USA Mexico es un niño recién nacido.. lo mejor será considerar la idea de cero tolerancia hacia los migrantes hasta que el plan para LATAM esté en operación"
          ],
          [
           "Yo estoy de acuerdo con que se de asilo a quienes son perseguidos por razones políticas pero, los migrantes que están llegando ahora, no lo son. Alguien publicó que -si no encuentran trabajo, van a delinquir- El problema es que, por ej., en Iquique, los colombianos venden droga."
          ],
          [
           "@usuario EL PROBLEMA SON LOS QUE LLEGAN SIN REGISTRO ILEGALMENTE. No solonlos gringos que coordinan las caravanas migrantes con visa de usa."
          ],
          [
           "@usuario Porque al igual que los hijos de inmigrantes Alemanes en su momento, en su mayoría, y para bien o mal, ya son chilenos. El estado debe hacerse cargo de la migración que aceptó, no dejan de ser inocentes niños."
          ],
          [
           "*TODO CADA DÍA PEOR.. CONTINUARÁ LA EMIGRACIÓN DE VENEZOLANOS emoji dorso de mano con índice a la derecha emoji * El Nacional: Más de 500 venezolanos caminan cada día cerca de la frontera Colombia-Ecuador."
          ],
          [
           "@usuario Los 3 inmigrantes que se observan están poniendo en riesgo de muerte a la ciudadanía del país que los recibe y acoge.. y de paso se hacen las víctimas con otro paisano que grabo el video desde arriba quizás hasta un dinerito sacaron. (en su país de origen los hubieran torturado)"
          ],
          [
           "@usuario No los están agrediendo, ellos entraron por la fuerza como los inmigrantes pasados, no veo porque en su momento les molesto y ahora no, aparte son personas que sino logran pasar a estados unidos se quedarán en México donde no trabajan, solo viven de lo que la gente les da"
          ],
          [
           "Venezolanos ofrecen empleo a los inmigrantes venezolanos y son estafadores, actúan como Casa de Cambio, ofrecen emoji bolsa de dinero emoji más altos para q caigan emoji símbolo de socorro emoji"
          ],
          [
           "@usuario Todo el problema que se ido incrementando y creciendo Al presidente de Colombia Iván Duque es culpa del régimen usurpador de Nicolás Maduro, porque la diáspora de migrantes venezolanos ha desbordado y a llevado a el país a un caos total."
          ],
          [
           "@usuario Lástima que no puedo hacerlo mismo con los más 5 millones de Colombianos que viven en Venezuela, producto del Narcoestado, malas políticas y persecución militar. Y lo más irónico es que no se devuelven. Tranquilo aquí viven feliz en la Revolución Bolivariana. url"
          ],
          [
           "@usuario La vida de un delincuente no vale nada, acá un Venezolano mato a quema ropa de un tiro a una sra por robarle el bolso fuera de un CC, que recomienda hacer con el criminal?"
          ],
          [
           "@usuario A qué te refieres petiso? A dejar entrar venezolano con antecedentes penales? Y fueron los que apoyaban a Macri? Y el que asesino a turista extranjeros? Se más claro @usuario."
          ],
          [
           "@usuario Con la aprobacion de la migracion por parte de Duque se incrementara la miseria en un 10%"
          ],
          [
           "@usuario Acá en EEUU ya están comprendiendo porque de la insistencia del Muro y las restricciones a la inmigración que quiere imponer Trump"
          ],
          [
           "@usuario Y estamos llenos de migrantes, indocumentados y pasando grandes dificultades, qué hacer? @usuario"
          ],
          [
           "Deben cerrar las fronteras hasta reorganizar el.pais del desastre económico y laboral"
          ],
          [
           "Enano qlio. Cierra las fronteras o andate a Brasil a weveaar csm"
          ],
          [
           "hashtag colombia El terror como forma de control social. Venga de donde venga. Duele que venezolanos/as estén atrapados en ese horror adoptado al migrar. Duele q el pueblo colombiano no tenga respiro. Sí. Me duele el pueblo colombiano. No me salgan con xenofobia porque no me la calo"
          ],
          [
           "@usuario Después lloran que les ponen un muro en la frontera y los deportan"
          ],
          [
           "@usuario Y qué quieres? Que les den libre tránsito? El cruzar la frontera sin la documentación correspondiente es ilegal y se debe evitar"
          ],
          [
           "Yo podría decirte que los venezolanos \"le matamos el hambre a esos inmigrantes\", como lo dijo más de un soplapolla venezolano, como lo dices tú hoy de forma mucho más educada."
          ],
          [
           "@usuario Y que hizo Ud Sra Bachelet? Dejo entrar 1 millón de inmigrantes. Quien asume eses costo ahora? No tiene moral para hablar."
          ],
          [
           "@usuario @usuario Usted ha buscado en cuánto está el índice de consultas de urgencias en los municipios de frontera a causa del éxodo venezolano?.. se cuadruplicó y si los hospitales estaban en crisis antes, imagine ahora! Le dejo esa perla!!"
          ],
          [
           "Tamara Acosta habla desde su burbuja, no comprende que la gente pobre chilena está siendo discriminada y siendo desplazada por esta inmigración descontrolada. hashtag holala red chile"
          ],
          [
           "@usuario O sos retrasada o sos kirchnerista. Vos bien sabes que cuando hablamos de esos inmigrantes nos referimos a la gente de Bolivia o Paraguay que cruzan la frontera a cobrar jubilaciones cuando en su puta vida aportaron algo en nuestro país, lo mismo con la salud y planes sociales."
          ],
          [
           "@usuario Menos mal que aquí en la península, no puedo morir por coronavirus (siempre que no me junte con inmigrantes, claro. Por eso no me junto con el Emérito ni su mujer, no sea que me contagien)"
          ],
          [
           "Debido al Gobierno ineficiente y las estructuras de salud deterioradas en Colombia se agudizará la pandemia hashtag coronaviruscolombia para pesar de los Venezolanos el Norte de Santander será nuestra pesadilla por eso máxima conciencia¡¡ url"
          ],
          [
           "@usuario En el Ecuador hay cerca de 500 mil venezolanos gracias a las puertas abiertas a todo el mundo ahora que se quejan, si hasta transporte les daban para su ingreso. Con la brillante lógica de Moreno y la suya entonces todos son financiados por Maduro y Correa. Se pasan de ridiculos"
          ],
          [
           "@usuario Cual seria la medida correcta? Ante tanta violencia y descontrol? Este país va de mal en peor. Educación,salud,migrantes,VIH,afp,jornada laboral,corrupción,coimas, fraudes.. Me falta espacio para nombrar todo el descontento del pueblo. @usuario @usuario"
          ],
          [
           "AsoVenezuela fija posición ante los últimos eventos ocurridos. Los migrantes venezolanos somos gente de paz. A los violentos los rechazamos y pedimos sean judicializados oportunamente. Colombia es nuestra casa y la defendermos! url"
          ],
          [
           "@usuario BarretoCarina1 Acabo de describir lo que pasó, no fue por xenofobia ni por ningún prejuicio. De todos modos, cualquier grupo que sea inmigrante masivo o marginado durante mucho tiempo tendrá más miembros cometiendo delitos, es normal."
          ],
          [
           "Lamentablemente, el resurgimiento de la FARC en Colombia, sin duda recrudecerá el tema de la creciente inmigración desenfrenada hacia Panamá. El gobierno nacional ya debe iniciar acciones para enfrentar esta situación que se nos avecina y tal vez sin control."
          ],
          [
           "1.250.00 inmigrantes enviando remesas a sus países?"
          ],
          [
           "@usuario @usuario @usuario @usuario Suiza era tercer mundo comparada con Colombia (hasta que llegaron los venezolanos a arruinarla). emoji cara guiñando el ojo emoji"
          ],
          [
           "@usuario estimada Sra. Marcela, podria preguntarle a don Andres hasta cuando dejan entrar inmigrantes a nuestro pais? Estamos en una gran crisis sanitaria, economica y social, no podemos mas!! Por favor,,!!"
          ],
          [
           "Tiene que ser así .. TODO INMIGRANTE QUE COMETE ALGUNA ILEGALIDAD, ESTARÁ CON SU FAMILIA Y OTROS INMIGRANTES DE SU PUEBLO / PUEBLO / LOCALIDAD REGRESADO / DEPORTADO A SUS ORÍGENES."
          ],
          [
           "@usuario @usuario Creo que debería de haber más inmigración, pero no descontrolada. Lo que veo es que se niegan posiciones absolutamente convencionales/razonables, con tal de no admitir que existe una crisis. Sin consecuencias por violar la ley, colapsa todo. Las leyes están ahí desde hace ratos."
          ],
          [
           "@usuario @usuario Porq Federico zalasar no dice a la hora q pasa imagenes de ROBO a extranjero. Q El ladron. Es venezolano.. Se escucha clarisiimo. Porq no recalca eso??. Umm. tanto amor hacia ellos. O Pena.."
          ],
          [
           "@usuario @usuario @usuario @usuario @usuario @usuario @usuario @usuario Mi punto es, que no todos los inmigrantes violan la leyes. Como suele ocurrir, es un pequeño %, pues la mayoría trabajan, pagan impuestos y respetan las leyes. Los puestos de trabajo que ocupan, no son especializados y son aquellos que hoy no queremos desarrollar.."
          ],
          [
           "@usuario @usuario @usuario @usuario Te lo tomo , 100 Lucas verdes que ahí no es nada. Pero ojalá todos los países tuvieran esa inmigración, si argentina los últimos 30 años hubiera recibido esa inmigración hoy seríamos otra cosa."
          ],
          [
           "@usuario El MEJOR candidato.. Al inmigrante bueno se le apoya, al inmigrante delincuente se le deporta.. Así se simple."
          ],
          [
           "@usuario @usuario @usuario @usuario @usuario Es capaz de encarar a @usuario por los inmigrantes, eso deja claro que los Chilenos no le importan.. Y habla de humanidad, pero no habla de las consecuencias para Chile. Otro mas a mi listado por los que no hay que votar en el futuro."
          ],
          [
           "@usuario @usuario @usuario @usuario @usuario @usuario @usuario @usuario @usuario @usuario @usuario @usuario @usuario @usuario @usuario @usuario @usuario @usuario @usuario @usuario @usuario @usuario @usuario @usuario @usuario @usuario @usuario @usuario @usuario @usuario @usuario @usuario @usuario @usuario @usuario @usuario @usuario @usuario @usuario @usuario @usuario @usuario @usuario @usuario @usuario @usuario @usuario @usuario Gracias por tu voto Don Pio Semu. Mira tienes toda la razón en hacer esta reflexión. Y preguntarte quién financia, quién mueve y quién manipula a los grupos de migrantes. También decir q es sumamente riesgosa para toda la población. Como para q los usan además de cómo ya se vió?"
          ],
          [
           "por primera vez coincidiendo con bocanaro en que el ingreso de extranjeros al país es un problema"
          ],
          [
           "@usuario @usuario No es como sea, tú pensamiento no razona que los países actúan conforme al derecho internacional y que los países vecinos a Venezuela sufrirán más la guerra por la inmigración que conlleva a que se destruya la democracia."
          ],
          [
           "@usuario Y a vuelta de 5 años le estaran pidiendo visa hasta para entrar a Bolivia, Perú debería irse preparando para que no los agarre desprevenido la migración de chilenos así como fue con los venezolanos."
          ],
          [
           "@usuario @usuario Y tú, desde cuando te importa lo que pasa en con los.inmigrantes? Nunca vi un reportaje tuyo en USA cuando Obama deporto y persiguió a tantos. Tampoco he leído un reporte den los campos de concentración en USA. Dime si tu Gobierno los dejaría entrar como aquí en México? IMB3CIL"
          ],
          [
           "@usuario @usuario @usuario Pues que en lugar de mencionar una nacionalidad en particular, debió especificar que todos los extranjeros, migrantes, etc que delincan pues serán deportados y que los Colombianos que hagan lo mismo les caerá el peso de la ley. En mi opinión mucho drama 🤷‍"
          ],
          [
           "@usuario @usuario La pregunta es porque a un venezolano, racista, socialista y que vive en EEUU como tú le importa el tema Boliviano, aquí no hay nada para Venezuela ni para los socialistas, ustedes ocupense de sus problemas, que ya mucha gente se escapa de Venezuela"
          ],
          [
           "@usuario @usuario cerrar fronteras nadie sale nadie entra.. comunismo puro."
          ],
          [
           "¡ABUSIVO! Detenido un venezolano en Perú por tocar indebidamente a una joven que se quedó dormida en transporte público url"
          ],
          [
           "@usuario @usuario Ahora a sufrir el hambre la injusticia social el robo y LA MIGRACIÓN SERA LA ÚNICA OPCIÓN PARA SALVARSE.. POR CIERTO BRASIL MODIFICA SU LEY MIGRATORIA Y CERRARA SUS FRONTERAS. A CHILE NO CREO QUE QUIERAN VENIR. ESTAMOS SIENDO ASECHADOS POR EL CRIMEN Y LA MISERIA"
          ],
          [
           "@usuario @usuario ¿Por qué \"huyen\" los ciudadanos de los paises comunistas? ¿Por qué los inmigrantes se dirigen a los países capitalistas?"
          ],
          [
           "Para aquellos que piensan que la inmigración afecta demasiado al país, necesitan ver la realidad del país con el menor número de inmigrantes y ahora ruegan porque lleguen inmigrantes. url"
          ],
          [
           "@usuario Creo que regresa en uno de esos aviones de inmigrantes ilegales .. Tendremos noticias pronto .. emoji avioneta emoji emoji cara de loco emoji emoji cara llorando de risa emoji emoji cara revolviéndose de la risa emoji"
          ],
          [
           "@usuario @usuario @usuario @usuario De hecho, ella responde eso -lo de que apenas tenía dinero para hacer las compras- solo para botar a un venezolano que decía que podía pagar su propia vacuna. Le dijo que se largada a Chile sin tanto dinero tenía. Con ironía. Pensando que el venezolano es un muerto de hambre"
          ],
          [
           "En muchos disturbios de los originados hoy participaron ciudadanos venezolanos. ¿Para cuándo pasaporte y/o visa para estos ciudadanos? @usuario @usuario @usuario"
          ],
          [
           "@usuario @usuario Es que acaso @usuario no tiene que estar más preocupado por su país que por uno con el que nisiquiera comparte frontera? Usted es un patético esbirro de un genocida con ínfulas de dictador, preocupese por su país, y deje que el presidente de México se preocupemos México."
          ],
          [
           "Alguien apuesta contra mi? Estoy seguro que en un par de meses, los semáforos de todo EEUU estarán llenos de migrantes pidiendo caridad!! 5..4..3. Quienes no conocen EEUU..aprovechen!!"
          ],
          [
           "@usuario Ella tiene toda la razón para que quieren tapar la realidad hay que poner mano dura el que la hace que la pague para la cárcel el inmigrante debe someterse a las autoridades"
          ],
          [
           "@usuario Donde digan q vacunan a todos los indocumentados venezolanos .. Venezuela entera se traslada a colombia incluido el MABURRO. por q en la tierra del encato de los izquierdistas , NO HAY PLANES DE VACUNA y ya no abría vacunas para los colombianos .. difícil de entender?"
          ],
          [
           "De la misma escuela q Santelices: Los culpables de más casos de VIH son los inmigrantes"
          ],
          [
           "@usuario @usuario @usuario Parece estranjero. Acuérdense q a los estranjero &amp; inmigrantes no se puedes ni tocar xq de una dicen q es xenofobia"
          ],
          [
           "Yo estoy de acuerdo con defender el empleo de los uruguayos pero no descarto a los inmigrantes que también tienen derecho al trabajo. emoji cara con ojos en blanco emoji emoji cara pensativa emoji emoji cara gritando de miedo emoji"
          ],
          [
           "Es decir, usted dice que los venezolanos delincuentes son quienes huyen del bloqueo? Qué es lo que tienen bloqueado? Qué les bloquearon, cuándo, y quién? De verdad Gustavo.. deje d defender delincuentes! No le basta con defender a las FARC y al grupo de sicarios de Escobar, M19?"
          ],
          [
           "Igual.. Hay que cerrar toda esa frontera.."
          ],
          [
           "@usuario Como la gente no entiende y lee la letra chica de esto, cada persona no podrá trabajar más de 40 horas semanales, no más horas extras, no más un segundo trabajo (legalmente) solo $301.00 menos imposiciones al mes. Más contratación de inmigrantes, más automatización. 🤷 emoji tono de piel claro emoji ‍"
          ],
          [
           "Ud. Cree que la inmigración masiva e ilegal es parte de un plan de desestabilización de Chile?"
          ],
          [
           "@usuario Señor Ángel Torres, déjese de tonterías y no oculte la verdad, hay muchos más inmigrantes que lo que ustedes anuncian, y ya el habitante de las Islas vive con miedo y temor a ser atracado, asaltado y violado. No ofenda la inteligencia de las personas. Renuncie"
          ],
          [
           "@usuario Presidente como vote x ud le exijo como colombiano q cierre las fronteras y q prohíba la llegada de vuelos del exterior punto he dicho"
          ],
          [
           "hashtag ahora en @usuario nuestro director Nacional @usuario: \"En general los migrantes están agradecidos de Chile; pero nos encontramos con chilenos que no los quieren y ni siquiera se han dado el tiempo para escucharles\"."
          ],
          [
           "@usuario Don Porfirio la sociedad Mexicana no cree que se toque a ningún migrante que solicite asilo o trabajo en nuestro país de manera ORDENADA y legal, debería ir personalmente para verificar lo que le dicen. Si voy a su casa, rompo la puerta, UD se interpone, lo émpujo y entro?"
          ],
          [
           "@usuario @usuario Hay que ver después del covid para ver si los números bajan lo que te digo es que por lo menos en Colombia puedes salir adelante además algo que les pegó fuerte también es la llegada masiva de inmigrantes Venezolanos"
          ],
          [
           "@usuario @usuario Desafortunadamente no hay trabajo. Y si lo hay toca competir con venezolanos gracias a la política de \"puertas abiertas\" de Duque. Si lo consigue, por más experiencia y preparación académica, el salario mínimo y contrato obra labor es lo que se consigue. No es pesimismo, es real."
          ],
          [
           "@usuario @usuario Sí tranquilo ya lo estamos haciendo. También escribele una carta a tu presi pa que haga control migratorio."
          ],
          [
           "Lo que se debe es exigir Visa a los venezolanos senador, como ya lo hacen países como Chile y Perú, entre otros."
          ],
          [
           "@usuario @usuario Alguien me puede decir que han hecho por Venezuela hasta la fecha el resto de países latinoamericanos o del resto del mundo, excepto hablar y acoger inmigrantes? Pero los malos somos los europeos."
          ],
          [
           "@usuario @usuario @usuario @usuario A detener, a golpear, a hambrear y humillar a los migrantes. AMLO está violando lss leyes a las que se comprometió México y todo por darle gusto al presidente de otro. país."
          ],
          [
           "@usuario @usuario Las deportaciones las están haciendo desde que Peña Nieto era presidente. A los venezolanos al llegar los separan del resto de los pasajeros y los aíslan hasta deportarlos a Venezuela. Este pana se salva por tener la cédula chilena y lo deportan vía Santiago de Chile."
          ],
          [
           "@usuario Escucho a migrantes? Dicen que nunca dejaran de venir ya que la frontera esta abierta! No se van a documentar, no les interesa, solo quieren USA! Mas y mas estados niegan entrada a caravanas por gastos y danos que causan. Vea la realidad!"
          ],
          [
           "@usuario @usuario Pues que exija México a gobiernos de donde provienen los migrantes para detener eso, que culpa tenemos de que el Trump nos este hostigando.. Y culpa también de amlo por tratarlos bien al inicio de su gobierno.. No creen..?"
          ],
          [
           "@usuario Creo que no es xenofobia. Solo preocupación por la violencia extrema que muestran muchos venezolanos en su comportamiento cotidiano de soberbia o desdén al peruano y sobre todo la delincuencia. No podemos decir amén a esas atrocidades en nombre del amor al prójimo y + emoji cara pensativa emoji"
          ],
          [
           "@usuario @usuario @usuario @usuario @usuario se han presentado robos a la ciudadanía y a negocios por parte de migrantes en la localidad de Engativá y ustedes de brazos cruzados a ver si hacen algo por brindar seguridad en la localidad 10 ola"
          ],
          [
           "@usuario @usuario @usuario Tanto el gobierno como la gente debe de hacer su parte, estoy de acuerdo con que desde el principio,se debieron de cerrar fronteras y creo que estamos aun a tiempo para que esta nueva variante no llegue tan fuerte"
          ],
          [
           "@usuario @usuario @usuario Sea el porcentaje q sea, el de los delitos cometidos x venezolanos o extranjeros en colombia no puede ser permitido, el hecho de que se opine sobre la expulsión de un extranjero de colombia por cometer delitos en nuestra nación so puede ser llamado senofobia"
          ],
          [
           "Favor que el conductor lea los twits que la mayoria no están muy de acuerdo con la migracion en masa..se entiende el problema humano, pero no podemos como pais hacernos cargo de la crisis de venezuela, recordar tambien que hay muchos chilenos con problemas. hashtag crisismigratoriamv"
          ],
          [
           "@usuario Y cuando se les acaben las croquetas? Ahora va a \" disque vender o rifar más aeronaves \" porque?? Le falta dinero, su saqueo ya no le está dando, imagínate, sus obras magnas, sus cooperaciónes a centro América, las dádivas a los migrantes, a los adultos mayores(según yo son los"
          ],
          [
           "Los mexicanos que están en la cancha se estaban tocando el corazón con el himno de EEUU; yo no estoy a favor pero medio que se merecen un muro fronterizo"
          ],
          [
           "@usuario @usuario Entonces Tomé en cuenta con mucha seriedad y certeza p abolir el Pacto Migratorio Mundial, que está hundiendo a México y q todo mexicano consciente le exige salir de él. hashtag no pacto migratorio mundial."
          ],
          [
           "@usuario @usuario Aparte de no saber sumar ahora ciego? Que solo cuentas los acarreados que juntas con tu amigo Arconada? Ya que ni en su propio país los quieren ( menos en México) vayanse a Cuba o a la chingada a descansar con lopitos"
          ],
          [
           "@usuario A mí me da risa ver cómo a los venezolanos les ofende que les digan venecos. Antes no entendía xq pensé que era una abreviación de venezolano, pero la verdadera razón de su ofensa es que así le decían en su momento a los colombianos que migraban a la pujante venezuela"
          ],
          [
           "@usuario @usuario @usuario @usuario Basta ver entrevistas en tv para escuchar ese sonsonete tan particular de esos migrantes que entran a montones."
          ],
          [
           "@usuario xenofobia, por decir que son venezolanos, acuerdesen, q un muchacho en bosa lo dejaron parapléjico unos de Venezuela, primero dispararon y ay si le quitaron el celular,Mañana puede ser un familiar de los que trinan aquí. o alguno de nosotros ser la victima."
          ],
          [
           "@usuario Usted no es nadie para cerrar las fronteras chimpancé usurpadora."
          ],
          [
           "@usuario Balas locas ?? Ya si coyote ..dediquese a lo suyo mejor traficar migrantes"
          ],
          [
           "@usuario Tommy, Ralph Lauren y esas marcas gringas \"\"caras\"\" pero que en realidad solo las usan los inmigrantes para sentir que estan cumpliendo el sueño americano y teniendo status. Como por quererse \"blanquear\""
          ],
          [
           "@usuario @usuario @usuario @usuario @usuario @usuario @usuario Caballeros, es necesario proteger nuestra frontera de la migración infinita. Como verdaderos patriotas, estoy seguro que el Ejército debe estar pensando siempre lo mejor para los peruanos en primer lugar. emoji bandera perú emoji"
          ],
          [
           "@usuario Con tod respeto, los migrantes son responsabilidad de sus países, de sus presidentes y no me parece el regalo de 100 millones de dólares,cuando el proyecto original ha la de préstamo de ese dinerito que a los mexicanos les hace falta. hashtag amlorenuncia"
          ],
          [
           "Tengo unos amigos que le decian a un venezolano: vo que te viniste a Chile porque estabay cagao de hambre!!.. ahora el los mira y se rie.. emoji cara llorando de risa emoji hashtag ffaa hashtag no mas violencia"
          ],
          [
           "La Cruz roja y Banco Santander no te van a ayudar si estás en ERTE o paro. Salvo que seas inmigrante ilegal, entonces elige hotel de cinco estrellas al que prefieras ir"
          ],
          [
           "@usuario No olvidar q su asesino es inmigrante ecuatoriano."
          ],
          [
           "@usuario @usuario ¿Qué tan cierto es que dizque el delincuente venezolano hiere o mata a su víctima así esta no oponga resistencia al robo?"
          ],
          [
           "Un voto menos para el oficialismo??.., o es una jugada para mostrar un delincuente deportado y en dos días habilitan el ingreso de cientos de convictos extranjeros.."
          ],
          [
           "Y va a dar trabajo Alós inmigrantes y comida y Alós que se mueren de hambre AKI que ??"
          ],
          [
           "@usuario @usuario @usuario @usuario Deberian poner los intereses de mexico y los mexicanos por encima de todo (CA y EU), ver que las caravanas migrantes en méxico son un problema que afecta a todos de alguna manera, que no se detendran"
          ],
          [
           "@usuario Hay que unirnos todos para apoyar a la guardia nacional, podríamos por ejemplo empezar una patrulla de patriotas que detengan el flujo migratorio."
          ],
          [
           "Los discursos buenistas y sus frases llenas de empatia y comprensión valen CALLAMPA. En Chile hay problemas de inmigración."
          ],
          [
           "(Cabe señalar la rareza de que SIC Notícias, un especialista en Novinlingua, haya llamado a las cosas por sus nombres - &quot;inmigrantes ilegales&quot; - en lugar de los &quot;migrantes&quot; intencionalmente genéricos)."
          ],
          [
           "@usuario @usuario Pero no hay punto de comparación. No vas a comprar alemanes inmigrantes con los negros haitianos. Hay un mar de diferencia"
          ],
          [
           "@usuario Se necesita cerrar todas las fronteras y prohibir los viajes a Europa. Se deben tomar medidas muy serias de lo contrario, nos lleva el diablo."
          ],
          [
           "@usuario @usuario \"culpa del migrante\" emoji cara con mano sobre la boca emoji"
          ],
          [
           "@usuario @usuario Yo pensé que era la fila de los fracasados que se van de Mexico y buscan cruzar la frontera"
          ],
          [
           "El gobierno mexicano no tiene capacidad de dar asistencia médica a los mexicanos.. AMLO sigue terco en ofrecerla a los migrantes.. ¿CÓMO?"
          ],
          [
           "@usuario @usuario Emigrar legalmente. Otra cosa es no estar de acuerdo con la inmigración ilegal."
          ],
          [
           "Me hacen recordar a Venezuela en el 89 todos los insultos para los colombianos q vivíamos allá.. La misma mierda"
          ],
          [
           "Gobierno invitaba a los migrantes a venir y trabajar en nuestro País, después de los acuerdos con Trump, no queremos que pasen por nuestro territorio. 'No queremos que atravieses nuestro territorio' - Vía @usuario url"
          ],
          [
           "@usuario Comercialmente no pueden ser peores, al ser socios comerciales necesita que México este bien, y porque el verdadero muro de EUA contra los migrantes es que México sea el país donde se generen los empleos y heredarnos ese problema"
          ],
          [
           "@usuario @usuario @usuario Yo no, no nos escucho a los Tijuanences cuando dejo llegar la caravana, que lo apoyen los migrantes y los que votaron por el."
          ],
          [
           "\"eureka\" \"no es el momento de critica\" hijo de mil putas. Criticaste a bukele y a TRUMP, te burlaste de sus medidas y las ninguneaste. Hoy tenes cara de orto por que te bajaron del Pony y cancelaron los vuelos. Cuantos panameños moriran por no cerrar las fronteras a tiempo?"
          ],
          [
           "@usuario @usuario @usuario Venezuela deberia exigir ayuda humanitaria a la ONU para asistir a los connacionales que regresan enfermos, descorazonados del capitalismo, sin un centevo de dolar en su bolsillo, huyendo de la xenofobia y mezquindad de chilenos, brasileños, peruanos, ecuatorianos y colombianos"
          ],
          [
           "@usuario Saludos don Diego te informo que en la.ciudad de Ibarra al norte de Ecuador luego del asesinato de una ecuatoriana por parte de un venezolano, se ha desatado la furia de la cijdadania en contra de los migrantes venezolanos atacadolos quemandoles sus cosas golpeando"
          ],
          [
           "@usuario Ellos fueron enviados allá para desprestigiar a los Venezolanos honestos. Las autoridades de Peru deben actuar contra los criminales con todo el peso de la ley."
          ],
          [
           "@usuario Quien amarro a los migrantes peruanos en los 80 y 90 ..aquí en Venezuela cuando éramos el sueño latinoamericano..??más bien se enriquecieron y se llevaron sus bienes a sus países"
          ],
          [
           "@usuario @usuario @usuario MEJOR DI QUE ERES MIGRANTE Y YO CREO QUE RÁPIDO TE DAN LA AYUDA"
          ],
          [
           "@usuario Nadie lo hace, ni el gobierno de AMLO, no estar en contra no significa estar a favor, los migrantes venezolanos en México podran decir a la perfección si el gobierno de México no apoya al pueblo venezolano, literalmente.. Les regalan los papeles de estancia humanitaria"
          ],
          [
           "Una vez que una de éstas escribe algo medianamente aceptable y le saltan a la yugular ¿Por qué se ponen tan sensibles cuando tocan al inmigrante venezolano? Si al menos fueran consistentes y usarán la misma vara de sensibilidad con el resto de la inmigración.."
          ],
          [
           "@usuario Que paso con la deportación de venezolanos documentados e indocumentados que encontraron infringiendo las normas de nuestro pais? Único país en América que deja que entre todo extranjero sin documentos, se queda, se le brinda ayuda, maltrata, daña y no da buen uso a lo que vea."
          ],
          [
           "@usuario @usuario Viniciu99462308 @usuario @usuario Bandoleiro35 @usuario Sí, pero el término más correcto es xenófobo. Recuerdo que hace un tiempo, &quot;xenófobo&quot; estaba mal para el sentido que el tipo estaba usando. Significaba &quot;miedo a un inmigrante&quot;"
          ],
          [
           "@usuario Te llamas Heidy porque vives en un país de cuento? No, las políticas populistas en un país pobre solo traerá desigualdades sociales, porque no hablan del gasto de presupuesto para atender a tanta población migrante, mientras que los nacionales estamos faltos de oportunidades"
          ],
          [
           "@usuario AlertNews24 ¡¡Maldita sea !! En poco tiempo, inmigración masiva a Brasil. ¡¡Qué mierda !!"
          ],
          [
           "@usuario @usuario Gracias por difundir. Esta no es una campaña en contra de los extranjeros, pero sí es necesario visualizar los efectos de una inmigración sin control y como nos afecta a quienes vivimos en ciudades como Antofagasta."
          ],
          [
           "hashtag feliz miercoles \"Deportaciones Masivas de Migrantes\" ahora les llaman: \"Retorno Asistido\". emoji cara sonriendo con los ojos cerrados emoji emoji cara sonriendo con los ojos cerrados emoji"
          ],
          [
           "@usuario Alguien sabe como poner en contacto (Twitter, Facebook, etc) a uno de esos 30 millones que votaron por el, con los inmigrantes que van a llegar? Me imagino que esos 30 millones estarán ansiosos por alojar y alimentar a uno o varios inmigrantes."
          ],
          [
           "@usuario Costa Rica necesita cerrar fronteras.."
          ],
          [
           "@usuario No es una marcha anti-inmigracion, es pro Chile."
          ],
          [
           "@usuario @usuario ¿Qué tal si le llevamos a todos los inmigrantes con carpas incluidas a las afueras de casa de @usuario ? Les dejo la inquietud, es la mejor manera de que deje de ser ciego, sordo y mudo"
          ],
          [
           "@usuario @usuario Que chingados va a saber!! K yo sepa nunca hizo nada por frenar la migración ni de sus compatriotas menos de otros países Además estas caravanas tan Grandes y exageradas de personas nunca se avían visto en Mexico, o si ?"
          ],
          [
           "@usuario En realidad si tiene razón. Muchos migrantes se quejan y nos quejamos de la falta de oportunidades. Aquí o en los países de cualquiera de nosotros, sí somos una carga nadie nos va querer. Además, una persona no productiva pues como pretende vivir gratis"
          ],
          [
           "@usuario @usuario @usuario @usuario @usuario @usuario @usuario @usuario @usuario no era una ilusion ,eso era seguro, nos íbamos tranformar en un pais de 25 millones en 2 años y la economia a 1 % o menos ,ladelincuencia desatada y todo mal,dime que hizo bachelet condeuda de chile? donde quedo la plata?bachelet paso sename,corrupcion carabienro,FFAA,inmigracion"
          ],
          [
           "Lo dije y lo repito: hashtag colombia lo que les está pasando hoy, no es otra cosa que una pequeña dosis de KARMA.. por las incontables veces que se burlaron, ofendieron y humillaron a los hashtag venezolanos Hoy saben que se siente, y experimentan las consecuencias. Y apenas son los trailers"
          ],
          [
           "@usuario Amigo y usted piensa que los recursos que aporta la migración ilegal sé perderán?,vendrán los túneles para seguir con éste lucrativo negocio de venta de nuestra soberanía."
          ],
          [
           "@usuario @usuario No señor, no sea burro, en Venezuela si fueron a trabajar muchos colombianos pero NUNCA se les dió nacionalidad hasta que llegó el mal nacido de Chávez y regalo nacionalidad para todos y eso se convirtió en votos Chavistas! Ahora miren como quedó Venezuela, quieren eso?"
          ],
          [
           "@usuario @usuario Ahi te hago un entre paréntesis.. en em campo ya no hay chilenos que trabajen de temporeros, habrá un mínimo, toda la fruta y verdura que comes Rodrigo la pega la están haciendo inmigrantes, yo este año tuve 500 trabajadores de los cuales con suerte 30 eran chilenos."
          ],
          [
           "Y donde esta la colonia Colombiana q son millones ,quiero verlos marchar a favor de Vzla.y en contra de la intervención Colombiana sino q se vallan también.."
          ],
          [
           "Mucha gente dice q la problemática de Venezuela es un asunto del exterior y que el Pte @usuario no se preocupa por Colombia. Pero hay que aclararle a la ciudadanía que este es un problema interno, al día de hoy tenemos un millón y medio de migrantes venezolanos. @usuario url"
          ],
          [
           "@usuario @usuario Voy de vez en cuando, pero me gusta Chile y más aún cuando veo que se está llenando de inmigrantes emoji dos corazones emoji"
          ],
          [
           "@usuario @usuario @usuario A ti te preocupa que no se respete la Laicidad? Y que no se respete la legalidad? Con @usuario contratando a inmigrantes ILEGALES como guardias de seguridad? Eso no ns preocupa??"
          ],
          [
           "Las personas no son iguales, la raza importa, los géneros son diferentes, la etnia es valiosa, el color debe ser hablado, el coeficiente intelectual es relevante, hay culturas superiores e inferiores, la moral es importante y, finalmente, los inmigrantes deben ser seleccionados y en desacuerdo con la población local. deportados de la cultura."
          ],
          [
           "Ahora Leo en las redes Venezolanos arrechos en Perú, Colombia, Chile, diciendo que se están uniendo para pelear porque no se van a calar más xenofobia y maltratos quieren tratos dignos, esos son los mismos que se fueron por que se cansaron de pelear en su país? Pregunto ??"
          ],
          [
           "El Dato: A los que protestan en Chile yo les propondría hacer un intercambio, ellos se pueden venir a Venezuela a disfrutar de este Paraíso creado por Maduro y los venezolanos (la mayoría del país seguramente) nos iríamos a Chile con Piñera."
          ],
          [
           "@usuario @usuario @usuario @usuario @usuario Creí que antes (en las olas de migrantes ), se pedía que se detuvieran con excusas como \"son delincuentes\" \"por qué ayudarlos si nosotros estamos mas jodidos\" etc etc.. y ahora es \"no, pobrecitos vamos a dejar de detenerlos\", ahora, lo del asesinato, claro que está mal y debe.."
          ],
          [
           "@usuario @usuario Derechos humanos ya estaría con represalias contra los que agredieron a los migrantes, si los hubieran contrarrestado el ataque con cualquier tipo de arma."
          ],
          [
           "@usuario @usuario De.racista nada. Solo logica y.ademas mayoritaria. Este presidente salio elejido x su programa y lo dijo muy claro inmigracion regulada y debo recordarte q gano decirme racista sin conocerme es igual q decirme facho pobre x no tener pensamientos de izquierda. Me despido otra vez"
          ],
          [
           "Cuando leo, que policia de colombia usa gas lacrimógeno contra migrantes venezolanos, me digo será para que entiendan que ellos tienen una patria que se llama Venezuela"
          ],
          [
           "Con la emigración de venezolanos honestos y trabajadores al exterior por la catástrofe socialista, salen también bandas de delincuentes que antes azotaban a hashtag venezuela. Ahora azotan a los países vecinos. Bravo emoji manos aplaudiendo tono de piel claro emoji por la @usuario que desmanteló la banda \"Los Melean\" hashtag 8nov"
          ],
          [
           "@usuario @usuario Claro 4 millones de colombianos en vzla y hablan de una empuje colombiano si aja colombianos por todo el mundo y son muy valientes para defender su país jaja"
          ],
          [
           "Pero que bonito el respaldo del presidente @usuario al los desplazados venezolanos, y para cuándo el hashtag respaldo a los hashtag desplazados colombianos? hashtag indignante hashtag ayuda humanitaria"
          ],
          [
           "@usuario @usuario ai ai ai .. Una persona que es xenófoba es no tener discurso de odio. El odio es el repudio de una persona. Es un sentimiento. Si sostengo que no deberíamos aceptar más inmigrantes, ¿es un discurso de odio? Si es así, ya no somos un país libre con pensamientos e ideas libres."
          ],
          [
           "He leído por ahí un texto que me ha gustado y que podría ser la solución al *problema de la inmigración ilegal*: Creo que *la mejor solución* sería aumentar la presencia de la policía en las fronteras, pero no para.. url"
          ],
          [
           "@usuario @usuario @usuario @usuario @usuario @usuario ¿Y quién mierda va a tu país africano?¿Me estás cargando? Tenés una visión distopica de tu Estado fallido. Son un país de mierda que vive expulsando migrantes, pobres y viven en crisis políticas y económicas. Justamente cuando Argentina es el país con inmigrantes de Sudamérica."
          ],
          [
           "Venezolanos crean dormitorios públicos en calles de Guayaquil. El Gobierno ecuatoriano nunca debió admitir esta migración masiva si no puede solucionar siquiera los problemas sociales de Ecuador @usuario @usuario @usuario @usuario @usuario @usuario url"
          ],
          [
           "@usuario @usuario Quien fue a Cucuta a entregar ayuda humanitaria a los venezolanos y a vociferar que Chile es un oasis en Latinoamerica? La frontera en el norte es un colador, ¿quien esta de presidente?"
          ],
          [
           "@usuario Mpdo por ti estamos así, podías cerrar esas fronteras desde hace mucho tiempo; ojalá te de esa mnda y te mueras corrupto cachon."
          ],
          [
           "Dar seguridad a los mexicanos, regulando la migración ilegal en las fronteras, no es violentar los derechos humanos de los migrantes. Es absurdo"
          ],
          [
           "@usuario Los Venezolanos venden pañuelos en Chile porque en Venezuela un Colombiano los saco a patadas y huyeron como nenas sufridas"
          ],
          [
           "@usuario Sí le quemas las patas al diablo no uses twitter, si no la controlas.. No sabes lo que significaría para nuestra economía lo que dices; tan facil que sería un comunicado de @usuario en donde cancelen las visas de trabajo a ilegales y fortalecer la seguridad en la frontera sur."
          ],
          [
           "@usuario @usuario Estimada Carabineros informan que el avión se ha ido sin llevarse a los venezolanos Varados en el aeropuerto. Dónde está la gestión que hicieron ?"
          ],
          [
           "Muchos venezolanos se fueron a Chile porque les dijeron que ese país era el paraíso, si es el paraíso pero para los explotadores, el asalariado se convierte en esclavo del siglo XXI"
          ],
          [
           "@usuario @usuario En eso no te resto la razon. Los culpables son los del narcoregimen y los colaboradores..ya esta bueno de estar facilitando o mejorando los mecanismos para que continue la migracion, deben atacar el problema de raiz!"
          ],
          [
           "@usuario Habría que saber qué concepto de racismo utiliza eso. Hoy, si prefieres darle de comer a tu hijo en vez de a un inmigrante que acaba de llegar en patera, ya eres racista."
          ],
          [
           "@usuario @usuario Racista por qué¿? Estar en contra de la inmigración ilegal es ser racista?"
          ],
          [
           "@usuario @usuario Relaciones exteriores otra vez?, salen en todas, cuantas más vendrán?, por qué solo se investiga inmigrantes de China ahora?, qué pasa con los haitianos?, o esa raíz es muy grande y llega a un tronco muy grueso?"
          ],
          [
           "@usuario Pero que dejen al inmigrante que cuida mi abuela. Por favor"
          ],
          [
           "Como hasta les viene bien incentivar que las mujeres no tengan hijos (más rentable ser un país puerta giratoria de migrantes) pues tampoco creo que hagan mucho en ese sentido."
          ],
          [
           "La frontera terrestre con chile se esta controlando mejor,pero la de Ecuador pasan como si nada a Peru emoji bandera perú emoji emoji cara con ansiedad y sudor emoji"
          ],
          [
           "@usuario @usuario @usuario Yo pensé que ese vídeo era en la Guainía, guajira, o el choco, por qué esa es la realidad de muchos colombianos, debería irse sumerce a Venezuela y dejarnos preocupar por nuestros problemas"
          ],
          [
           "@usuario Es una estrategia en 2 sentidos, por un lado apoyar a los gobiernos de donde vienen los migrantes, involucrando a EU, como está ocurriendo y si ya están aqui, que ganen para su comida. No lo veo mal. La mano que mece la cuna nos los dejara de enviar"
          ],
          [
           "Si en Chile tuviéramos un comunista de la calaña de Nicolás Maduro, muchos de los que ahora quieren poner minas antipersonales en la frontera serían los primeros en querer transformarse en migrantes e irse de nuestro país.. ¿o acaso es mentira lo que digo?"
          ],
          [
           "@usuario Te repito el problema es de este gobierno que irresponsablemente se puso a ofrecer poco menos que una política de puertas abiertas para los Venezolanos y discriminación y racismo para los Haitianos."
          ],
          [
           "@usuario Por tal razón es que Migración Colombia no debe dejar entrar a todo extranjero, no todos vienen con buenas intenciones, para muestra un botón."
          ],
          [
           "@usuario @usuario &quot;En la casa de mi Padre hay muchas viviendas&quot;, dijo Jesucristo. Incluso en la casa de Dios hay criterios para recibir o no a alguien en el cielo. Muchos irán al infierno Así será en Brasil: Criterios para la entrada de los migrantes, como enseña Jesucristo!"
          ],
          [
           "@usuario Pues esa buena idea presidente ellos tienen que irse a mandar vacunar allá en Venezuela por qué las vacunas que hay no alcanza para los colombianos"
          ],
          [
           "Excelente noticia que el Gobierno haya prohibido marcha anti migrantes de este Domingo. No puede admitirse expresiones xenofobicas ni de intolerancia. Ojalá si lleguen algunos a la marcha y que Carabineros los cague a palos."
          ],
          [
           "@usuario Con todo respeto presidente, le invitó a que vea \"inmigración, pobreza mundial y bolas de chicle\". La realidad es que abran o cierren las puertas de ciudadanos Venezolanos a su país, no va a cambiar la situación. Los gobiernos de latam deben forzar la salida de Maduro y su grupo."
          ],
          [
           "Esta mujer podría ser parte de los clubes mata migrantes en EEUU . Lástima de mexicanos en nuestras filas."
          ],
          [
           "@usuario ¿Por que debería entrometerse México por lo que construya Estado Unidos dentro de su territorio? Se queja la clase alta y burla de migrantes y pero aprueban la migración ilegal por pobreza! Y desaprueban medidas para disminuirla, Mediocres son lo que tienen esa incongruente idea!"
          ],
          [
           "@usuario @usuario @usuario @usuario @usuario Creo que cerrar las fronteras es urgente, ya en Colombia no cabe uno más"
          ],
          [
           "CON LA POLÍTICA DE FRONTERAS ABIERTAS Y SIN CONTROL, MARTÍN VIZCARRA PERMITIRÍA QUE ESTOS MALOS ELEMENTOS YA ESTÉN EN EL PERÚ PARA OCASIONAR DISTURBIOS A FAVOR DE LA DICTADURA DE GÉNERO. ¡ ABAJO LA DICTADURA DE GÉNERO ! hashtag defensa ciudadana url"
          ],
          [
           "No soy xenófobo ni nada, pero perder ante los inmigrantes es triste por decir lo menos."
          ],
          [
           "@usuario @usuario El principal responsable del caos migratorio, él omitió la ley y permitió el ingreso irregular de miles de extranjeros, se le debe de aplicar la ley de responsabilidades por tanta omisión y @usuario deben ser objetiva y levantar las recomendaciones por las muertes en la estaciones"
          ],
          [
           "\"A diferencia del delincuente peruano que tal vez muestran un ápice de remordimiento de culpa, el delincuente venezolano no tiene esa característica, es sumamente frío y no tiene remordimiento\" A eso se exponen los gobiernos latinoamericanos dejando a Maduro continuar en el poder"
          ],
          [
           "@usuario @usuario @usuario JAJAJAJAJAJA \"no soy xenófobo porque defiendo la inmigración\" JAJAJAJAJAJA Pues ve con cuidado,porque te identificas mucho con los enfermos nacionalistas"
          ],
          [
           "Bloquear, prohibir, finalizar. Todo muy Siglo XX. El pato anda reduciendo la política migratoria al juego de Policías y ladrones. Será que sin estigmatización no se puede administrar ese país?"
          ],
          [
           "Qué espera @usuario para hacer los mismo ? Cierre de fronteras y no recibir vuelos internacionales !! hashtag alerta coronavirus"
          ],
          [
           "@usuario De ahí la importancia de cerrar fronteras..!! Por este personaje ahora en nuestro territorio habrá otro miedo más 🤷 emoji tono de piel claro emoji ‍🤷 emoji tono de piel claro emoji ‍"
          ],
          [
           "@usuario El oasis puede ser para los esforzados y q aman sus país con sus defectos y virtudes , pregúntenle a un peruano ,venezolano, vienen a trabajar y tienen muchos sus propios negocios y el chileno medio nada? Si los problemas en salud y previsión el modelo no es malo se puede mejorar"
          ],
          [
           "@usuario clei1ton ¿Quién habló de negarse? Simplemente abandonó el pacto para que el país elabore sus propias reglas de recepción de inmigrantes. ¿O cree que las políticas (que ni siquiera tienen en el vdd) para dar la bienvenida a los venezolanos son correctas? No es bueno para ellos ni para nosotros."
          ],
          [
           "@usuario Puede que la mayoría de los migrantes sean inocentes en México, pero no todos lo son y muchos son delincuentes que huyen de la justicia de sus países"
          ],
          [
           "@usuario @usuario @usuario ACÁ NUNCA SE SELECCIONÓ LA INMIGRACIÓN, FUE UN TERRIBLE ERROR. ACTUALMENTE CON DÉFICIT HABITACIONAL Y DESOCUPACIÓN SEGUIMOS CON FRONTERAS ABIERTAS. LOS PAÍSES NORMALES SI NO TENÉS UN PEQUEÑO CAPITAL O ESTUDIOS ÚTILES PARA EL PAÍS DE ACOGIDA NO ENTRÁS."
          ],
          [
           "@usuario Una economía justa y leyes de inmigración justas entre los países es lo que pides, una posición de ganar ganar; porqué resistirse a esto? porqué hay que aceptar que unos tienen derecho a entrar ilegalmente y otros deben hacerlo en forma legal en USA"
          ],
          [
           "@usuario @usuario @usuario @usuario Es que es imposible que sean miles de millones, si aun fueran el triple los migrantes su poder de compra es bajo como para generar daño a la economia de chile."
          ],
          [
           "@usuario Al millon de venezolanos en Perú : ¿ por qué tenemos que pedirles visa?"
          ],
          [
           "@usuario Los Democratas y la prensa amarilla (Univision, CÑÑ, CBS) se la han pasado bajo Obama festejando a todo homosexual que salía del closet, su personaje favorito es un inmigrante ilegal transexual que quiere adoptar un niño. Trump no esta esta en contra pero es normal y moral."
          ],
          [
           "@usuario @usuario @usuario @usuario El pase reglamentado se obtiene con promedio, en cada carrera es diferente, bendita universidad q preferir a sus alumnos antes que los externos. Imagina apoyar a un migrante por encima de un ciudadano mexicano que está muriendo de hambre o regalar dinero a un país ooh espera! url"
          ],
          [
           "@usuario @usuario Grande EEUU. le da papaya hasta a un inmigrante ilegal para que critique el sistema que le dió oportunidades. Con razón se emberracan a ratos."
          ],
          [
           "@usuario Colombia no puede venirsela ahora a tirar de poner restricciones a migrantes cuando toda la vida su gente a migrado a otros países por la perra necesidad..nos toca pagar ese precio y quedarnos calladitos..el pez muere por su boca."
          ],
          [
           "@usuario ¡La realidad les guste o no!,en los 70 el venezolano era \"Pobre,pero HONRADO.\"(ahora lo llaman pendejo) llego una inmigracion LatAm caribeña con muchos \"vicios\",al \"integrarse\"con el venezolano,cambio para mal la idiosincrasia del venezolano,muy diferente a la inmigracion europea"
          ],
          [
           "@usuario @usuario Cuando no se ve el contexto, se habla sin saber, a ese pueblo fronterizo de 300 habitantes llegaron 1500 inmigrantes indocumentados, los lugareños fueron víctimas de robó y abusos, y como recita la biblia: \"justos por pecadores\""
          ],
          [
           "Todos los que amenazan con irse del país váyanse por favor se los pido, sin llorar y sin pedir que los traigan de vuelta después eh emoji símbolo de mareo emoji"
          ],
          [
           "@usuario @usuario @usuario Oye flaca, hasta en un episodio del programa del Pancho Savedra, contra viento y marea, un Haitiano admtió que Bachelet hizo un tipo de pacto con Haiti para permitir el flujo de migrantes entre ambos paises sin necesidad de papeles ni visa emoji cara con ojos en blanco emoji url Minuto 1:18"
          ],
          [
           "El chorro se llevó un celular de 20 lucas. Lo vende a 10 en el mercado negro y sólo paga 700 x el delito. Sigue siendo un negoción. Para colmo lo obligan a regularizar su situación migratoria regalandole el DNI. Somos el hazme reír del mundo.. hashtag buen viernes"
          ],
          [
           "@usuario Estadísticamente tienes alguna prueba para criticar la cantidad de extranjeros trabajando ? Sabes si tienen estatus legal o ilegal ? Cuidado y te sorprenderás que cada inmigrante que veas y jusquez este legal. Sencillo doña ellos solo trabajan."
          ],
          [
           "@usuario Eso de que \"Venezuela abrió las puertas a los inmigrantes\" es bullshit, alguien dejo la puerta abierta y ningún gobierno hizo algo al respecto"
          ],
          [
           "Cerrar frontera con Venezuela pero dejar la frontera con Ecuador abierta, es como limpiar la casa por un área solamente y no limpiar el resto de polvo que se acumula."
          ],
          [
           "hashtag ultimo minuto mano la historia esta escrita fue un venezolano el que lideró colombia y fue un colombiano el que traicionó a ese venezolano entonces? que podemos esperar es su naturaleza llevan la traición en la sangre no esperen nada a cambio de ellos"
          ],
          [
           "Normal, pero con las cagadas que se mando en su gobierno con los inmigrantes, imposible tener esos accesos, \"me imagino que sabrá porque\" y deje de hablar tanta estupidez."
          ],
          [
           "@usuario @usuario @usuario Andrés,yo no solo tengo amigos sino familares Venezolanos que vinieron a trabajar con pundonor,ética y moral,pero la referencia de doña Claudia,no va dirigida a ellos,sino a quienes vinieron a delinquir. Viví 10 años en Venezuela y pedía q colombiano criminal lo deportarán."
          ],
          [
           "@usuario @usuario Se pudo haber echo más si no fuera por la negligencia de la marioneta Duque .tardo mucho en cerrar aeropuertos y fronteras .igualito de bruto al taita."
          ],
          [
           "@usuario Guaido póngase los pantalones y saqué un pelo de dinero q manda EEUU y mandé a buscar a Miles de venezolanos que están en frontera para regresar a su estado"
          ],
          [
           "@usuario no es su calidad de inmigrante, sino las repercusiones de inmigración masiva"
          ],
          [
           "@usuario Que pida los datos personales de los inmigrantes que han dejado entrar al país, así pueden hacer un catastro de cuántos chilenos van a quedar sin fuente laboral."
          ],
          [
           "se los dijimos AMLO ES UN PELIGRO PARA MÉXICO pero mucho mas para el mismo ABRIR LA FRONTERA FUE UNA DECISIÓN DE UN SOCIOPATA url"
          ],
          [
           "@usuario y vienen mas casos como estos, pues esta gente viven del rebusque diario, la migración venezolana es una bomba de tiempo social y sanitaria"
          ],
          [
           "Cómo dirían por ahí, si bien es cierto lo que dice el gobierno, no es menos cierto lo que dices Jorge. No es lo mismo 200 personas buscando empleo que 1200, el exceso de oferta además ha impactado en los salarios, hay que regular migracion, no es justo que ofrezcamos calle."
          ],
          [
           "@usuario Efectivamente, Bogotá no era una utopía y difícilmente lo será, pero si una persona migrante, comete un delito, debe ser condenada y deportada!"
          ],
          [
           "@usuario ¡¡Ni los migrantes se comportaron así!!"
          ],
          [
           "@usuario @usuario Tiene razón irresponsable es la gente que sigue en las calles creyéndose los pijas, los cráneos del país, capital federal y el conurbano va a explotar de coronavirus porque se creen los pijas del mundo en muchos casos.. perfecto que cierre las fronteras y no deje entrar a nadie.."
          ],
          [
           "@usuario Pero si los tenemos al lado en una frontera extensa de miles de kilómetros, se meten por cualquier hueco! Además es mejor tenerlos contados, pasando por Migración. Pero en algún momento se tendrá que construir un muro, como USA hizo con México."
          ],
          [
           "@usuario @usuario @usuario Cierre de frontera!!"
          ],
          [
           "@usuario SE VA LA GENTE QUE TIENE PLATA Y ESTUDIO ,LES QUEDAN LOS PLANEROS Y LOS INMIGRANTES BOLIVIANOS ,SEAN FELICES EN ESE GRAN PAÍS JAJAJAJA"
          ],
          [
           "@usuario @usuario @usuario Si ciudadanos venezolanos, se encuentran con armas, dinero en efectivo, en medio de los manifestantes, y no son los migrantes, por si acaso, ¿que se debe hacer?"
          ],
          [
           "Si coloco lo que pienso y expreso de la situación con los venezolanos en Trinidad y Tobago me cierran la cuenta por racismo, xenofobia etcétera.. hashtag el que entendio entendio"
          ],
          [
           "@usuario @usuario Mi esposo es jefe de RRHH en una empresa y por más que trataron de priorizar a los chilenos, pasaba que el extranjero cumplía con horario, asistencia y trato con la gente, y los chilenos fallaban (en especial los jóvenes) creo que nuestro problema va más allá de los inmigrantes"
          ],
          [
           "@usuario Perdón y en que rubro trabajas??, porque legalmente eso no corresponde, hay un tope legal del 15% con excepción de profesionales de especialidades que en Chile escasean, por mi yo contrataría muchos más inmigrantes, pero la ley hoy sólo me permite tener un tope de 18.."
          ],
          [
           "@usuario Porque no nos consultaste sobre abrír las fronteras norte y sur? Que estas pensando? No ves que tenemos tantos problemas que solucionar internos y nos arrimas más problemas? Eres el presidente de México o de Centroamerica?"
          ],
          [
           "@usuario Hola, Hágale dibujos a sus opositores, para que entiendan que corren peligro de invasiones, por parte de las caravanas de inmigrantes. Es mejor evitar que lamentar. Ca"
          ],
          [
           "Inmigrantes irregulares o con antecedentes, inmediata PLR. hashtag acuerdoporlapaz"
          ],
          [
           "@usuario @usuario @usuario Todo el mundo sabe que ha Sido pésimo presidente de deterioro la seguridad, se acabó el empleo y el país está lleno de migrantes"
          ],
          [
           "@usuario Hay que cerrar las fronteras!!"
          ],
          [
           "@usuario y llegaron los defensores de los derechos de los pobres inmigrantes"
          ],
          [
           "@usuario Ahora no fue la reforma fiscal de Bachelet y los impuestos en siempre expansión que hicieron que chile ya no fuera la mejor opción para invertir.. ahora son los migrantes emoji cara sin expresión emoji"
          ],
          [
           "@usuario Pues si @usuario fue quien provocó la situación al dar puertas abiertas a migrantes como se le va a apoyar"
          ],
          [
           "@usuario Cual es la deuda del Estado con los afrodescendientes? Este es un pais de inmigrantes, hay colectividades de todos los origenes Mañana vas a inventar deuda del estado con los asiaticos, y con los oceánicos, etc etc basta Vicky!! Inutil becada!!"
          ],
          [
           "Critican a @usuario por lo del muro, pero es su deber controlar el ingreso de personas a su pais, el no es culpable de que en Mexico perdure la narco guerra, ni de las dictaduras de Nicaragua y Venezuela o cualquier problematica que genere migracion ilegal a EEUU"
          ],
          [
           "Colombia tratando de controlar la invasión venezolana url"
          ],
          [
           "@usuario @usuario @usuario @usuario Un ejemplo claro son los migrantes haitianos que están en la frontera, ellos no andan estirando la mano, exigiendo comida ni delinquiendo, ellos se pusieron a trabajar y a adaptarse al nuevo país. Los centroamericanos todo lo contrario."
          ],
          [
           "Venezolano que apoye las protestas en hashtag chile es chavista. Fin de comunicado url"
          ],
          [
           "@usuario Al menos mis referentes no hecharon a inmigrante no construyeron un muro no abusaron sexualmente de mujeres no estafaron y así puedo seguir mamita"
          ],
          [
           "@usuario @usuario @usuario No, el inmigrante viene a aportar y a crecer junto a nuestro país. Lo que hay que hacer es adaptar la inmigración al crecimiento económico del país: a menor crecimiento, menos inmigrantes.. y a más crecimiento, más inmigrantes."
          ],
          [
           "@usuario @usuario @usuario Piñera está castigado x economía no por política migratoria .. acá ya se pasaron x cualquier lado migración y ahora se puso orden .."
          ],
          [
           "@usuario Señor Presidente, con todo respeto me dirijo a usted para pedirle que por favor haga algo al respecto con el tema de la migración de hondureños y salvadoreños que esta dando de que hablar en nuestro país, si trabajen o no traen problemas. No lo permita. Analicelo"
          ],
          [
           "Es un binomio. Sin mafia, apenas habría inmigración ilegal."
          ],
          [
           "@usuario ¿Y la ley mordaza que ustedes quieren imponer para que no hablemos mal de delincuentes, feministas, LGTB o migrantes?"
          ],
          [
           "@usuario Que el señor presidente siga sin tomar decisiones sobre migracion venezolana y siga abrochando al pueblo con impuestos esperemos la reforma tributaria haber que sorpresa nos trae."
          ],
          [
           "@usuario @usuario @usuario \"Amigo migrante: si quieres respeto, empieza por darlo. Eso de quererte meter a la fuerza, tumbando la reja, o corriendo por el rio, es una falta de respeto a nosotros como país. El respeto al derecho ajeno es la paz. -Estados Unidos de América\""
          ],
          [
           "LOS QUE CREEN QUE CASTILLO RESPETARÁ LAS INSTITUCIONES DEMOCRÁTICAS DEBERÍA APRENDER DE LA EXPERIENCIA DE VENEZUELA CON CHÁVEZ @usuario APENAS GANÓ LA ELECCIÓN CONVOCÓ UNA CONSTITUYENTE ILEGAL Y CORROMPIÓ A LAS FFAA HOY HAY 8 MILLONES DE VENEZOLANOS MENDIGOS EN EL MUNDO"
          ],
          [
           "@usuario VENECOS son los colombianos que querian ser Venezolanos emoji cara revolviéndose de la risa emoji emoji cara revolviéndose de la risa emoji estos colombianos perdieron la memoria emoji cara con ojos en blanco emoji me acuerdo q los hijos de colombianos nacidos en Venezuela eran los venecos o sea VENEZOLANOS-COLOMBIANOS emoji cara pensativa emoji emoji cara llorando de risa emoji emoji cara llorando de risa emoji"
          ],
          [
           "@usuario Esa la ocupan para protejer narcos con la excusa q son migrantes"
          ],
          [
           "@usuario cuando hashtag mexico truene por favor cuide nuestras fronteras porque se van a venir para acá, están siendo totalmente irresponsables."
          ],
          [
           "@usuario La verdad que no los entiendo, son migrantes, se les ayuda, pero en su mente es como una obligación, por tanto, ni las gracias dan.. Creo que es que son todos así, arrogantes?"
          ],
          [
           "Pasamos a ser la tierra del trabajo a ser la tierra de los chorros y asesinos.. de inmigrantes a delincuentes.. tristeza infinita. Mucha luz a su familia."
          ],
          [
           "@usuario RecordNews3 Sí, Brasil tiene que dejar de ser &quot;la casa de la madre de Joana&quot;, no solo por eso, sino por muchas razones. Prohibir totalmente la entrada de extranjeros así como la salida de brasileños sería lo correcto en este momento."
          ],
          [
           "Quizás se den cuenta @usuario el daño que hace hashtag migración de hashtag venezuela a hashtag america lo creado hashtag violencia @usuario @usuario @usuario hashtag peru @usuario @usuario @usuario @usuario esto no es un juego es libertad y paz"
          ],
          [
           "Lo que pasó en Ecuador fue producto de la inmigración sin regulación, cosa que nunca pasará en Chile ya que Piñera pensó primero en su país."
          ],
          [
           "@usuario La verdad, pienso que como la gente no empiece a informarse en serio de cuales son los males de nuestra sociedad y empiecen a darse cuenta de que están usando al inmigrante como chivo espiatorio, al final la historia se volverá a repetir en europa.. muerte y destrucción"
          ],
          [
           "@usuario Nuevo Peru?, van a refundar la Patria?, Van a cambiar la Constitución?, Van aplicar el socialismo del siglo 21?, se van a perpetuar en el poder?. Toda esta basura aplicaron en Venezuela y hoy tenemos problema regional de migracion."
          ],
          [
           "@usuario Alejandro y tu ers la Bea sanchez de la izquierda pero flojo, este gobierno esta con estos temas por que tu presidenta dejo la debacle y la sigue haciendo , gente como ella y como tu demuestra claramente que su administracion es un fracaso solo mirar, crec., endeuda%, migracion"
          ],
          [
           "@usuario Toda la razón!! No sé si es comparable la cantidad de migrantes de chilenos de antes, con los venezolanos de ahora."
          ],
          [
           "Este travieso &quot;BACURIM&quot; criticando al presidente porque el presidente no cerró las fronteras, este gusano fue uno de los responsables de la aprobación de la ley que prohíbe el cierre de fronteras y a favor de la inmigración de todo lo que no vale. !! ! url"
          ],
          [
           "@usuario ¿Qué será lo malo en que un país cuide sus fronteras para evitar la inmigración ilegal?"
          ],
          [
           "Yo de pana no entiendo a esos venecos que se arrecha cuando uno hace un tweet diciendo que se quiere ir de venezuela o quejandose de esta mierda. Marico de bolas que me voy a quejar mientras siga viviendo en esta mierda donde NO SIRVE UN COÑO!!"
          ],
          [
           "CHILE ESTADO CORRUPTO, POLICÍA SINIESTRA Y DELINCUENTE SIN SALIDA. LA MIGRACIÓN VENEZOLANA Y EL ESTADO ASESINO DE COLOMBIA url"
          ],
          [
           "La derogación del decreto que impedía el ingreso de extranjeros nos convierte definitivamente en el basurero del mundo."
          ],
          [
           "A nosotros los venezolanos por supuesto q nos ofende demasiadoo q nos digan venecos, ya q esa palabra viene de los colombianos nacidos en Venezuela. Y de verdad nos da mucha pena y vergüenza q nos comparen"
          ],
          [
           "@usuario @usuario @usuario @usuario ¿mencionas a Chile, no sabes que ese país hace mucho está repatriando haitianos? por que se estaba teniendo problema con esa inmigración. China y Venezuela? nunca alcanzarán la cifra de haitiano en suelo dominicano."
          ],
          [
           "@usuario @usuario Hay que salvar vidas,y no dejar el maldito orgullo y la ineptitud,ya es hora de actuar,cancelar clases,suspender,rapidamente cualquier multitud antes que se propague el virus,cierre de fronteras,no mas viajes internacionales."
          ],
          [
           "RT @usuario: Cuando el migrante es moreno, bajo y de pómulos altos. Los Nacionalistas muestran la ignorancia y el odio. Pero, cuando se acerca un gringo le abren hasta las.. Puertas. url"
          ],
          [
           "El pueblo respalda al director de migración en el cumplimiento de la ley. El que esté ilegal tiene que ser repatriado a su país de origen. url"
          ],
          [
           "@usuario Que no tiene nada de malo o raro, pero no aporta a frenar la delincuencia, la crisis de inmigración, las narcoguerrillas.. por qué se preocupan de tonteras como los apellidos?"
          ],
          [
           "Contener a migrantes en frontera Sur, único evento acertado de este gobierno morenista!.que E. U. Se beneficie Por ello es secundario. Que se han creído los migrantes??"
          ],
          [
           "@usuario Pero yo me pregunto porque poner el albergue de los migrantes en el centro de la ciudad? Porque exponernos a nosotros? Me queda claro que lo tienen que apoyar pero porque exponernos"
          ],
          [
           "@usuario Es ridículo que un irregular exista para el sistema de salud y no para el servicio de inmigración o la PDI, por eso es q hay muchos Igor Yaroslav en chile durante años cometiendo delitos."
          ],
          [
           "@usuario Lo que pasa que la crisis hace creer a muchos venezolanos que todos los países están obligados a recibirlos a como sea incluso una de la estrategia es que Simón Bolívar le dió patria a Perú, Colombia y ecuador y la otra es el pasado cuando vzla recibia s todo el mundo"
          ],
          [
           "Ver como salen tantos Venezolanos del gran paraíso que es Colombia me deja la tranquili.. Momento!"
          ],
          [
           "@usuario Esa gente q la mayoría son salvadoreños, hondureños y nicaragüenses, están lucrando con las áreas públicas de Guatemala. Sólo en este país se ve eso."
          ],
          [
           "@usuario El @usuario está cometiendo un atentado contra la salud de 48 millones de colombianos al traer al país a un puñado de colombianos que están en el epicentro del virus y posiblemente infectadas , por qué no les prestan atención allá mismo , ojalá por 12, personas no mueran mile"
          ],
          [
           "@usuario Tienes algo q decir @usuario ? TANTO q te preocupan los migrantes en lugar de atacar a CIUDADANOS mexicanos cómo los hashtag le baron mexico te apoya ¿O todos los mojados del programa paisano tmbn les diras q elijan EU ó MEX??"
          ],
          [
           "@usuario Claro ella no puede vacunarse siendo residente pero todo el resto de inmigrantes venezolanos, dominicanos, cubanos, etc. si pueden. No será un tanto discriminatoria esta forma de pensar hacia la presentadora? Hay que castigarla por alguna razón??"
          ],
          [
           "@usuario Ahora a recibir chilenos migrantes. Lo de hoy en chile es el inicio del camino q destruyó Venezuela. Ojalá los q hoy votaron puedan vivir mucho tiempo para q padezcan el sufrimiento."
          ],
          [
           "@usuario @usuario Dejen de insultar a las fuerzas, hay una constitución que respetar, si no les gusta váyanse del país. A hacer marxismo a otro lado url"
          ],
          [
           "Es recontra notorio que están manoseando demasiado la palabra XENOFOBIA Perú: país colapsado económicamente , sanitariamente y encima con mil problemas Pedir orden en las fronteras no es XENOFOBIA amigos. Es algo lógico en estas circunstancias. Y lo dicen los mismos venezolanos"
          ],
          [
           "@usuario Creo que el problema está en que al llegar a Panamá de Venezuela no se realizaba ningún control migratorio. Se llegaba a Panamá y hacías el transbordo a Miami"
          ],
          [
           "@usuario Estoy de acuerdo, generalizar a nadie le trae nada bueno. Compartí la noticia por lo que dijiste \"entraron de manera abusiva\" que es cierto, hay algunos migrantes que usan la violencia y no es la manera, independientemente de si es hondureño o guatemalteco."
          ],
          [
           "Si le hizo fraude a su propia familia a su tío lo despojo de sus bienes @usuario que se espera del recurso de los migrantes los pobres de los pobres, porque me pregunto en Chiapas el nuevo gobierno sólo trata con ladrones y sinvergüenzas?"
          ],
          [
           "@usuario @usuario @usuario quizas no entendiste o yo no te entiendo.. no me parece bien la politica migratoria.. no podemos curar el hambre del mindo porque somos un pais deficitario.. y no soy no de un lado ni del otro!!"
          ],
          [
           "@usuario Le queda mas cerca USA, y ya que los acepta con tanto gusto podría irse con integrantes de las Caravanas migrantes."
          ],
          [
           "@usuario Siento que era super necesario tener un contrapeso a las huevadas que estaba diciendo el presidente de la comunidad de \"refugiados\" venezolanos en Chile. Lo del respeto a las horas de sueño es otra cosa JAJAJA"
          ],
          [
           "@usuario En lugar de referirnos a grupos concretos de violentos o violadores, nos referimos a inmigrantes en general."
          ],
          [
           "@usuario Y es que su mezquino entender, la situación de venezuela y de miles de inmigrantes de ese país, no están influyendo en la propagación del covid? Desean una vueltita por Cúcuta y la frontera."
          ],
          [
           "La palabra hashtag veneco se utilizaba para denominar a los colombianos que regresaban de Venezuela a Colombia. La envidia se los come, porque el venezolano preparado le da 3 patadas a cualquier latinoaméricano. Esa es la realidad."
          ],
          [
           "@usuario @usuario Los que no deportan cubanos y venezolanos que trajo Vázquez y obligan los del SUNCA a contratar en las obras. No los refugiados, eso es muy distinto."
          ],
          [
           "LOS VENEZOLANOS QUE EN ECUADOR, POR UN PAR DE DÓLARES, SALIERON A HACERLE CAMPAÑA A LASSO SEGURO YA DEBEN ESTAR VIVIENDO EN \"MANSIONES O APARTAMENTOS PROPIOS\"!"
          ],
          [
           "@usuario Señor duque y los más de 6 millones de colombianos acá en Venezuela que significan? Me llama la atención no tome en cuenta esa migración"
          ],
          [
           "@usuario ¿Sabes qué permite la existencia de trabajadores de muy bajo costo? El exceso de oferta laboral. Sé que no es el tema, pero la inmigración descontrolada ha sido muy buen negocio para los grandes empresarios."
          ],
          [
           "@usuario @usuario Que ignorancia la usted no querer informase sobre la clase de persona que tiene refugiada en su país !"
          ],
          [
           "@usuario Solidaridad con los chilenos? es problema de ellos no de los venezolanos así como trataron a los venezolanos en Chile y para colmo solidaridad"
          ],
          [
           "@usuario .. no les exigieron ni la mitad, por no decir casi nada de los documentos que a los venezolanos que emigraron sí. Después que todo pasé; democráticamente Venezuela debe ajustar sus leyes y políticas migratorias para los extranjeros. Es lo justo y necesario."
          ],
          [
           "@usuario @usuario @usuario Resulta que también la inmigración desorganizada es un tema de seguridad, todo tiene que ser atendido.. PP"
          ],
          [
           "@usuario @usuario @usuario Los \"mendigos\" venezolanos ESTÁN PAGADOS, por el ACNUR, con fondos que proporciona Estados Unidos, para venir a dañar la imagen de Venezuela. Los que están en Ecuador viven de ese sueldo y hacen remesas a sus familiares de mil dólares mensuales que les produce la mendicidad."
          ],
          [
           "@usuario @usuario @usuario Así lo acepto Pejestorio. Veía con emoción y casi lágrimas a su homólogo \"Trom \" cuando en una actitud de subordinación hizo su 1o viaje al extranjero. defendió a los campesinos chihuahuenses a los migrantes \"violadores y asesinos\" ? pero x su refinería saca la garras. k sad!"
          ],
          [
           "@usuario @usuario @usuario @usuario Todos los paises tienen derecho a elegir que tipo de inmigración quieren. Se llama soberania, cosa que odian entidades globalistas como UNICEF que a toda costa quieren destruir los estados-nacion"
          ],
          [
           "@usuario Maduro causó la tragedia. Piñera la usó irresponsable y vilmente. Y ahora le explota en la cara. La fría realidad es q Chile NO puede recibir más inmigración d pobreza. No tiene como enfrentarla. Piñera siempre lo supo .. Qué va a hacer? @usuario"
          ],
          [
           "@usuario \"Contra la xenofobia\" Desde cuando es xenofobia estar en contra de la inmigración ilegal, o tener a alguien de raza negra en su formación."
          ],
          [
           "@usuario @usuario Exacto cuál política migratoria todo ha sudo improvisación e hígado"
          ],
          [
           "@usuario @usuario @usuario El estado debe garantizar educación, salud, seguridad y trabajo.. nos puedes explicar donde están sus \"logros\",? sin tocar el tema de las caravanas que nos está costando un gran problema migratorio y por ineptitud se volvió económico"
          ],
          [
           "@usuario Un amigo alquilaba un apartamento a un extranjero..ahora ya no tiene ese ingreso y le suspendieron el contrato..te lo llevas para tu casa?"
          ],
          [
           "@usuario Excelente! Pero se tienen que cerrar las fronteras YA!!"
          ],
          [
           "@usuario Todavía recuerdo los aviones que llegaban de noche con inmigrantes, subsidiados por Bachelet. Que rápido olvidamos los chilenos y después, culpamos al que está de turno."
          ],
          [
           "Creo que Colombia no ha superado totalmente sus problemas y esto puede desencadenar en una recaída en extremo de la violencia.. Quizás tengamos que prepararnos para recibir a la inmigración de ése país para los próximos años.."
          ],
          [
           "@usuario señora y ud cree q los panameños pueden sacar panama adelante le cuento q si en Estados Unidos ay inmigrante q es una potencia xq en un país latino no pueden haber inmigrantes abra los ojos panama como otros países necesita de los extranjeros deje la amargura y el populismo"
          ],
          [
           "Antes escuchaba a mis amigos decir: \"más vale chola conocida que gringa con sida\".. Ahora se reemplaza por \"Más vale chola conocida que venezolana asesina\". (ojo no es un caso aislado) Esa gente viene a sobrevivir y hará todo por hacerlo acá.. Y no es xenofobia por si acaso."
          ],
          [
           "@usuario Y de cuarta se vio corto, es un mercachifles oportunista y aplaudidor del gobierno que le limosnea 4 pesos para decir que apoyan a los migrantes.. hashtag postureo puro hashtag fuera la iglesia de la politica"
          ],
          [
           "@usuario ¡Este discurso es incorrecto! Construye un muro en la frontera como el triunfo. Poner fin a estas políticas de bienestar. Es más barato que dañar la constitución y meterse en una jodida guerra, que es todo lo que este país miserable que es Brasil no necesita en este momento."
          ],
          [
           "@usuario Agarra tus maletas y unete a la siguiente caravana migrante. Viejo payaso."
          ],
          [
           "\"El camino al infierno está empedrado de buenas intenciones\" decian los clásicos. El detalle está en que siguen confundiendo a refugiados con migrantes, los primeros son muy pocos, los segundos un chingo y quieren ir a EU al costo que sea emoji cara con ojos en blanco emoji url"
          ],
          [
           "@usuario @usuario Los controles son en el día, cuando ingresan los ecuatorianos. Muy bueno lo q hace, pero a esa hora no sirve. Hable con pdte @usuario para que ordene el cierre de la frontera. De lo contrario, el próximo fin de semana, q tiene puente, se repetirá esto. Foto de @usuario url"
          ],
          [
           "@usuario Un país como el nuestro con economía destruida, la migración venezolana ayuda a ENTERRARLA, la mano de obra \"barata\", es aprovechada por nuestros \"listos y acuciosos empresarios\" (únicos beneficiados), precarizando el empleo, y aumentando informalidad. Resultado: CRISIS SOCIAL"
          ],
          [
           "@usuario SURAMERICA ENTERA DEBE DECLARARSE EN CRISIS HUMANITARIA COMPLEJA..EN ALARMA..EN EMERGENCIA.. ANTE LA INCONTENIBLE MIGRACION VZLANA!! analizar sus causas y actuar en consecuencia.."
          ],
          [
           "El 80,2% de los inmigrantes (mas de 1.250.00 personas) supera con creces el número de chilenos cesantes según el INE, por lo que cada inmigrante en edad laboral disminuye en mas de 50% las posibilidades de empleo de todo chileno cesante. Solo números. hashtag inmigracion abusiva"
          ],
          [
           "@usuario @usuario @usuario q increible un spot de turismo que no habla de turismo, esta 4ta el spot y por meten imagenes de las elecciones y del triunfo del peje-dios? hasta para eso tienen mal gusto, asi no habra turismo, solo migrantes buscando quedarse o ir a usa y esperando dinero del peje"
          ],
          [
           "@usuario Tenemos una política y gobierno q no mira los intereses ni bienestar de los chilenos. En estos momentos es más importante salvaguardar a los migrantes otorgándoles toda clase de beneficios. Hicieron este acuerdo con la ONU sin siquiera importar lo q pensamos"
          ],
          [
           "@usuario @usuario Donde hay servicios sociales \"gratis\", no puede haber inmigración descontrolada."
          ],
          [
           "Excelente propuesta @usuario no se ha visto de fondo la problemática que puede ocasionar no tomar mediadas de cuidado y cuarentena a los migrantes en el sur del país. Importante tener en cuenta los pasos ilegales @usuario @usuario"
          ],
          [
           "Los hechos bandalicos en Colombia venganza de .. por acoger venezolanos"
          ],
          [
           "El inmigrante comienza a pagar impuestos desde el día 1. El nacido y criado en Chile es puro gasto durante al menos 18 años. Si realmente les importaran los recursos públicos, incentivarían la inmigración de trabajadores (ej.: visas \"Work &amp; Holiday\" en países desarrollados).."
          ],
          [
           "@usuario Por supuesto que los hay y se debe detener la migración, para ello debe presionar a los países vecinos, dejar de ofrecer lo que no cumplirá y no firmar tratados de libre migración, no quedarnos con el problema, cuál fue el objeto de regalar $30 Millones de dólares a cada país ?"
          ],
          [
           "@usuario @usuario @usuario Man lo único que provoca es meterte ese mazo por el culo y ponerte a cruzar las fronteras caminando y eso siendo generosos"
          ],
          [
           "También el 19 de Enero me tocó un conductor extranjero ..por el acento creo es venezolano.. Fue el peor viaje que he tenido y @usuario @usuario tampoco me han dicho nada del \" conductor\" me gustaría saber si el que se se registró es el mismo que conducía."
          ],
          [
           "@usuario Por Un País Sin Migración Si México Lo Tiene Todo Por Que Debemos Irnos Ah Otro País@usuario"
          ],
          [
           "@usuario Hijo de tu madre, descarado han provocado la peor crisis migratoria de america latina y quieres que nos reciban con bombos y platillos, vayanse si quieren que volvamos al pais.."
          ],
          [
           "En esto, estoy de acuerdo con usted!!..Presidenta de la UDI y su polémica visión del trabajo: Se han creado más empleo, pero la mayoría se están quedando en manos de migrantes url"
          ],
          [
           "@usuario Ya yo no veo ni DIPLOMACIA NI FRATERNIDAD DIOS PADRE ME PERDONE Y TODO SU AMOR. PERO YO VEO ES PERSONA QUE ES DE IZQUIERDA LASTIMOSAMENTE Y A NUESTRO SEÑOR NO LE GUSTA ESO COMO PUEDE ESTAR A FAVOR DE LA INMIGRACIÓN MASIVA DE TODO ESTOM"
          ],
          [
           "El siguiente punto es la gran relación. Exportamos jóvenes brasileños (de ascendencia europea) y recibimos inmigrantes poco calificados que reducen nuestro nivel social, moral y económico. En este pastel, pone a la población marginal brasileña, sin razón específica. url"
          ],
          [
           "@usuario Pero dicen por ahí, que la migración es un derecho, pueden ir a quejarse a cualquier otro país."
          ],
          [
           "Pero que no vengan contaminados..O tendremos que ver eso como el complot de exterminio a venezolanos por medio del covid-19 entre EEUU el grupo de Lima y la UE..NO PODEMOS DESCUIDAR NINGÚN FRENTE..ESTAMOS EN GUERRA CONTRA DOS IMPERIOS..Ahora le toca al UE..¡¡PENDIENTE Y VISTA!!"
          ],
          [
           "@usuario En partes es maluco y muy mal la xenofobia, pero en varias oportunidades invite a varios venezolanos a que asistieran a la casa del migrante donde tendrían algo de comer,prendas de vestir y asesoría en varios aspectos,pero dijeron algunos en su mayoría si no dan plata a qué vamos"
          ],
          [
           "@usuario @usuario Como falso es; Que eres autoridad Que no eres la mierda que más apesta Que eres migrante Que representas al Ecuador"
          ],
          [
           "@usuario @usuario @usuario Cómo es eso de que está refugiado en Colombia y están regresando a la dictadura del reegimeen!? Y que clase de irresponsable anda por ahí caminando por Latinoamérica con niños? Los padres de ese niño son responsables de esa situación, a ellos nadie los obligó a irse!"
          ],
          [
           "hashtag contigo chv Pero @usuario ¿Por qué no les recomienda a la familia venezolana que vayan a las Condes, Vitacura o Zapallar y que se tomen una casa más grande por esas zonas? @usuario @usuario @usuario @usuario @usuario hashtag leyantitomasahora"
          ],
          [
           "Quieren más solidaridad quiere más comprensión llegan a chile, y no son capaces de respetar nada y quieren que se le reciba con los brazos abiertos por Asociación de Venezolanos en Chile: Esperábamos más solidaridad por parte del Estado url vía @usuario"
          ],
          [
           "Tierra arrasada: apagón eléctrico, cierre de las pocas empresas básicas que algo producían, acabar fuentes de empleo, atentar contra comercios privados y empresarios, cerrar fronteras para impedir intercambio comercial.. arrasar, acabar, destruir, hacerte dependiente de.."
          ],
          [
           "emoji cara gritando de miedo emoji NO MAMEN emoji cara gritando de miedo emoji ¿Los migrantes centroamericanos no sabían que su presencia en el país no es grata cuando se hace de forma ilegal? Entonces porque a la primer caravana se le dio libre entrada y hasta apoyo economico recibieron y propuesta de trabajo en el país @usuario"
          ],
          [
           "Los hijos de los 6 millones de colombianos que tenemos en Venezuela. Se fueron a COLOMBIA Hechando peste contra Venezuela. Y por la pandemia. Regresan y siguen hechando peste. Prefieron a los hermanos Iraníes. Es mi opinion"
          ],
          [
           "@usuario @usuario Y eso justifica actos delictivos? Y eso hace al estado a de un país crítico, invertir ayudas en los migrantes?? Qué pasa con la gente de aquí??"
          ],
          [
           "@usuario @usuario @usuario @usuario En primera, la guardia nacional estará entretenida vigilando y tapando la inmigración cuando nos hace tanta falta para mejorar la seguridad interna. En segundo, nosotros necesitamos trabajo y asistencia médica social más que ellos. Nuestro país va de mal en peor."
          ],
          [
           "@usuario Soy venezolano pero estoy deacuerdo si estaba apoyando una marcha o paro como sea contra el presidente de Colombia. Fuera y punto."
          ],
          [
           "@usuario Este es el retrato de quienes firmaron el acuerdo para expresar su apoyo a los inmigrantes. Afortunadamente @usuario no firmó, pero no estamos lejos de eso, a menos que nos despertemos y nos opongamos a cualquier ideologización de esa demanda. ¡No es xenofobia, es legal!"
          ],
          [
           "@usuario @usuario En mi opinion si, implica tener un monton de soldados en la frontera sur que mataran a cualquiera que se les oponga (trate de cruzar por ejemplo)"
          ],
          [
           "@usuario ¿Creían que el criminal esperaría sentado en su casa viendo la TV? Ojo el tipo no tiene arraigo en nuestro país, a estas alturas del partido debe estar cruzando la frontera norte regresando a su país (Venezuela) u otro para refugiarse. El Estado una vez más le falla al ciudadano."
          ],
          [
           "@usuario @usuario @usuario @usuario Venezuela se convirtió en un narcoestado asesino, y a Colombia le afecta ¿Olvidas todo el dinero que se gasta en la masiva migración venezolana? O los atentados del eln (que opera libremente en Venezuela) sí Colombia tiene problemas y Venezuela es una de ellos."
          ],
          [
           "La izquierda no ha sido capaz de explicar xq el \"Pacto Migratorio\" era bueno para Chile. Ahora expliquen xq @usuario es de \"Ultraderecha xenófoba racista homofóbico\". ¿Pueden? @usuario @usuario @usuario @usuario @usuario @usuario @usuario"
          ],
          [
           "@usuario @usuario @usuario No hables tu sin saber..Aquí vinieron muchos inmigrantes. Q recibieron de forma gratuita los servicios de salud Y educación gratis tampoco pagaron impuesto ni servicios básicos y muchos fueron hasta delincuentes, que hablas tu entonces"
          ],
          [
           "@usuario NADA! Que podemos hacer..Ppk tuvo la brillante idea de aplicar la política de puertas abiertas para todos ellos y Ahora los niños peruanos tendrán más dificultad en encontrar cupos..¿Ven?..y Vizcarra que dice? NADA."
          ],
          [
           "..con lo del piojo Navarro.. ahora se entiende algo de la inmigración venezolana..es una forma de \"exportar la revolución bolivariana\" para desestabilizar a Chile y recuperar la vía allendista al poder total.. @usuario el pdte @usuario cayó redondito en trampa.."
          ],
          [
           "@usuario Claro fue por culpa por tu presidente ppk te acuerdas que lo alababa idolatrabas lo amabas él dijo bien claro amigo venezolanos vengan a Perú que las puertas están abiertas ahora no te hagas la estrecha"
          ],
          [
           "@usuario @usuario @usuario @usuario @usuario @usuario @usuario @usuario @usuario @usuario @usuario Así como publicas estas fotos, deberías publicar también donde los indefensos migrantes agreden sin miramientos a la guardia nacional y dejan a elementos de la misma heridos."
          ],
          [
           "@usuario Solo mira estadísticas , aparte de que es injusto que quieras normalizar a los inmigrantes ilegales, los crímenes y delitos son de muchos inmigrantes ilegales. Y todavía quieres que Trump no sea duro con las políticas migratorias? Por favor"
          ],
          [
           "@usuario @usuario @usuario @usuario Si su organización de veras quiere ayudar, vaya a los países originales de los migrantes e impida que salgan."
          ],
          [
           "No no lo hace por ayy que vacunen a los turistas ja ja somos bien buena onda. No. Si tienen ligero a nada de registro necesario para la vacuna es porque no quiere empeorar AHORITA la crisis migratoria deteniendo a indocumentados en las vacunas y hacer peor la situación"
          ],
          [
           "@usuario Se redujo en un 80% la entrada de Venezolanos en Chile en los últimos meses Visa NO HAY"
          ],
          [
           "@usuario @usuario @usuario @usuario @usuario @usuario @usuario @usuario @usuario @usuario @usuario @usuario @usuario @usuario @usuario @usuario @usuario @usuario @usuario @usuario @usuario @usuario @usuario @usuario @usuario @usuario @usuario @usuario @usuario @usuario @usuario @usuario @usuario @usuario @usuario @usuario @usuario @usuario @usuario @usuario @usuario @usuario @usuario @usuario @usuario @usuario @usuario @usuario @usuario Tu mejor defensa es el ataque? No desprecio, no discriminó, no soy xenófobo sinónimos e ideas afines. Deja tus datos y a cuantos migrantes quieres tener en tu casa. Así de fácil."
          ],
          [
           "@usuario @usuario Llora pues y vete al sueño americano a lavar platos y listo, imbécil, para eso es que sirve los venezolanos opositores en el exterior a dar lastima y a limpiar que jode."
          ],
          [
           "..mientras q las clases bajas, los jóvenes, las mujeres, los inmigrantes, resumamos en precariado, se ve reducido a las ayudas asistenciales (subsidios, PNCs..) casi incompatibles con la vida. Y el gasto del Estado es mayor, por cierto, en prestaciones y pensiones contributivas"
          ],
          [
           "El viernes en la mañana un inmigrante me la hizo de pedo porque no le di dinero, trate de no hacerle mucho caso a sus insultos, neta que ese mismo día en la tarde por cómo me sentía, en el 1er momento me le hubiera ido a los golpes emoji cara sin boca emoji"
          ],
          [
           "Quiero complementar este comentario precisando información al respecto Yo no soy Xenofobico solo creo que durante el gobierno de la nefasta e irresponsable @usuario se promovio y se facilitó la migración masiva e irregular a la vez"
          ],
          [
           "@usuario Hijos de inmigrantes deberian tener nacionalidad de sus padres, no la del país en que nacen, como lo hacen muchos paises."
          ],
          [
           "@usuario @usuario cierra las fronteras ctm."
          ],
          [
           "¿cuánto tiempo le quitarán a la tarea de salvaguardar las fronteras y encañonar a migrantes que vienen de Centroamérica y África? ¿De perseguir y soltar criminales? ¿Qué respuesta se le dará a los yanquis en lugar de patrullar la frontera sur de su país? url"
          ],
          [
           "@usuario @usuario Presidente Duque, ¿De casualidad no se le ha ocurrido cerrar las fronteras?, Se nos están tirando el país con la ayuda de su gobierno por la omisión."
          ],
          [
           "Recuerda si te vas a tirar a algún extranjero tienes que ser el puto amo! No estarás tirando en tu nombre sino en nombre de tu país, hazlo bien coño! hashtag inmigrantes hashtag nochesdesexo"
          ],
          [
           "¿En qué se parece una feminista radical trans excluyente a un currito alarmado por la invasión de la inmigración ilegal? En más de lo que le gustaría emoji cara radiante con ojos sonrientes emoji emoji cara radiante con ojos sonrientes emoji"
          ],
          [
           "Maduro habla d los migrantes q regresan, como si eso no fuera SU RESPONSABILIDAD! Esa gente se fue por culpa d maduro y regresa pq el coronavirus los manda a casa! Es comprensible q los demás países no pueden cargar con esa cantidad de gente! Cada país tiene q ocuparse d su gente"
          ],
          [
           "@usuario Soy venezolano y pido disculpa pública por el comportamiento de algunos de mis coterráneos; sin embargo, difiero de ésta propuesta porque quien es delincuente debe ir preso. El común, mal interpretará dicho acto y pedirá el retiro de todos los venezolanos por xeno y aporofobia."
          ],
          [
           "emoji luces de policía emoji emoji luces de policía emoji emoji advertencia emoji emoji advertencia emoji PELIGRO emoji advertencia emoji emoji luces de policía emoji emoji advertencia emoji PELIGRO emoji advertencia emoji emoji advertencia emoji emoji luces de policía emoji emoji luces de policía emoji OJO ESTO PASA EN COLOMBIA CON LOS VENEZOLANOS QUE SUPUESTAMENTE VIENEN HUYENDO DE SU PAÍS, SON UNOS INFILTRADOS DE MADURO PARA AYUDAR A LA IMPLEMENTACIÓN DEL COMUNISMO CASTROCHAVISTA. url"
          ],
          [
           "@usuario @usuario @usuario @usuario Y la PENDEJEZ de dejar pasar a los centroamericanos ES DE ESTE PINCHE ORATE, firmaron el pacto y se vino la ola de migrantes y gracias a esa PENDEJEZ, Trump puso en 4 a este pendejo con los aranceles, y ahora tiene que hacer lo que el les diga. Así o mas PENDEJOS"
          ],
          [
           "Es hora de deportar a este periodista que solo piensa en hacer daño a Brasil. @usuario vuelve a tu país. Ya has cruzado la línea."
          ],
          [
           "@usuario Piñera no haya que hacer con tanto migrantes Lo que antes AVALO y uso para su campaña ,ahora le molesta Lo tiene con los pantalones abajo e histérico ..bebé de su propio TOXICO..su Dios Trump no lo ayuda..Lo humbre más en sus tiempos mejores Hierven en mentiras y montajesSERA!!"
          ],
          [
           "Éxodo de los venezolanos (persecución y atropellos) y el plan de vacunación contra el Covid 19 son nuestras prioridades."
          ],
          [
           "@usuario Señores @usuario @usuario los buscan para hacerse cargo de los inmigrantes que trajeron. ¿Los mandamos a hacer la cuarentena a sus casas? ¿Se harán cargo de su hambre? ¡Plata tienen! Los U$ 500 millones de Atacama donados x hashtag emiratosarabes y que están en USA. @usuario"
          ],
          [
           "@usuario @usuario @usuario Pero bueno, y esos excompatriotas que estan en EEUU se van a venir en un avión de Conviasa? si esa linea es chimba es venezolana, deberian venir en una aerolinea de las buenas algo así como american air line, eso si es caché, Espero que no le den permiso a conviasa que se jodan"
          ],
          [
           "De acuerdo bien por las autoridades hay que comentar que la gran mayoría eran ciudadanos extranjeros es por eso que exhortó al presidente a serrar las fronteras o por lo menos regular una migración ordenada ya basta del que me importismo del Presidente Moreno y su comitiva."
          ],
          [
           "@usuario Pues hombre! un incremento de un 600 % me parece difícil achacarlo a q ahora se denuncie más. Desde luego la razón principal es otra. Y el incremento brutal de una inmigración ilegal q viene de países con una cultura hacia la mujer tan denigrante, pues lo explica perfectamente"
          ],
          [
           "Hay 2 cosas por los cuales la gente a votado por el Frepap y Unión por el Perú \"La delincuencia y la Migración venezolana\" No es una sorpresa es una realidad emoji cara con símbolos en la boca emoji url"
          ],
          [
           "@usuario @usuario Deberíamos inferir que hay algo más que interés ideológico en las absurdas políticas que nos imponen con la inmigración ilegal?"
          ],
          [
           "Leo lo de los migrantes y digo, ¿no mejor les conviene ir a Belice, de ahí a Cuba y de ahí a Florida? Piensenle"
          ],
          [
           "@usuario @usuario @usuario Creo que si importa, para taparle el hocico a los que reclaman por los inmigrantes. En su mayoría fachos pobres!!"
          ],
          [
           "@usuario Todos en contra de los inmigrantes pero nadie hace nada para que el gobierno cache de una vez.. Que la mayoría está molesta con la sobre población, tenemos que salir a las calles hacer algo. No sólo escribirlo."
          ],
          [
           "Aquí la palabra \"presuntos\" sale sobrando . Porque si intentan tramitarla , entonces ya caen en la ilegalidad.Ademàs , ¿los que no son presuntos delincuentes si la pueden tramitar a los migrantes?"
          ],
          [
           "@usuario En la mayoria de nuestras ciudades migrantes piden ayuda en los semaforos y topes,nuestra gente de buen corazón los ayuda,que comen mejor que muchos de nuestras comunidades,se aprovechan de la buena fé de los mexicanos."
          ],
          [
           "@usuario @usuario @usuario @usuario Que bonito. Pero como el Open Arms no trae refugiados sino inmigrantes ilegales ni los deja en el primer puerto seguro que encuentra sus argumentos son demagogia pura. Acaso usted realmente cree que algún país puede sobrevivir con puertas abiertas?."
          ],
          [
           "@usuario @usuario @usuario En medio de una ola de inseguridad y aumento de bandas criminales es necesario un grupo elite de tránsito? No sería más coherente un grupo de protección fronteriza, que combata la criminalidad en las trochas? El microteafico? O es otro el negocio socio, diría el cantante."
          ],
          [
           "Cuanto joden con el muro. Ahora los moralistas se quejan de que llevar órden a una línea divisoria cada vez más borrosa. Porqué tienen verjas y puertas en sus casas los que cuestionan organizar la frontera? Cuanta doble moral! hashtag si al muro"
          ],
          [
           "@usuario Una Señora que Gustavo estaba entrevistando acerca de Venezolanos que se encuentran refugiados en Colombia,se atrevio a decir,que nosotros los COLOMBIANOS le haciamos mas daño al Venezolano, que ellos a nosotros, Falacia,tal vez sea Veneca o tiene familia MADURISTA"
          ],
          [
           "@usuario Creo que en ningún país te dejan entrar así nomas, mucho menos a la fuerza, ojala que estas personas migrantes puedan entrar en razón y hagan las cosas conforme a derecho y respetando nuestras leyes migratorias."
          ],
          [
           "@usuario @usuario Pues ya tuve mas que la inmigrante ilegal.. emoji cara feliz con ojos sonrientes emoji"
          ],
          [
           "Ya que el gobierno ha decidido autorizar y facilitar la inmigración ilegal, corresponde se informe al país cuantos cientos de miles o millones de extranjeros está en condiciones de recibir el país, pues esa cuenta la pagamos todos."
          ],
          [
           "@usuario @usuario @usuario TERNURITAS Este es un plan de USA para que ya no llegue más inmigrantes a su país Sólo los inmigrantes mexicanos mandan más de 24 mil millones de dólares al año. Mientras esas personas se van a quedar en México y como piensas que podría hacerlo México solo ?? Bien Trump"
          ],
          [
           "Por favor difundir Lea y RT! hashtag pdc y PR espera que con sus votos para Ley de Migracion el Gbno suscriba Pacto Migratorio ONU que mayoría de chilenos rechaza Extorsiones de PR y PDC a espaldas de tds los chilenos hashtag vomitivos Walker Lorenzini Ascensio El Gbno aceptará este chantaje? url"
          ],
          [
           "@usuario @usuario Ahora sé vienes a dar cuenta..! Chile necesita ley de cuotas anuales de inmigración y por lo menos dos años sin está para crear los suficientes empleos. Ejemplos son Canadá ó Australia. url"
          ],
          [
           "@usuario @usuario @usuario @usuario No sería la primera ni la última vez que alojo a un migrante. Busco no ser miserable ni racista."
          ],
          [
           "Renuncien del gobierno inútil de LoLo (Locuaz López) @usuario ! En 6 meses crearon una crisis económica, de empleo, de violencia e inseguridad; una crisis de migrantes, de confianza y fuga de capitales y una crisis democrática! Son un peligeo para México y los mexicanos!"
          ],
          [
           "@usuario Que visite los colegios municipales y verá la realidad. Salas colapsadas con alumnos mayoritariamente migrantes emoji cara cabreada emoji"
          ],
          [
           "Cuando los que hoy esperan en la frontera norte sean menos de mil. Si queremos dejemos entrar a tres mil y así."
          ],
          [
           "EL GENOCIDA MADURO TIENE QUE TENER PERSONAS DENTRO DEL TERRITORIO VENEZOLANO A TODA COSTA PARA VEERSE COMO PAIS!! POR ESO LOS PASAPORTES SON ORO EN POLVO!! url"
          ],
          [
           "Que tal que Venezuela excluya a los más de 6 millones de colombianos que hay allá?. Antes de que los venezolanos emigraran a Colombia, fueron más de 6 millones los colombianos que emigraron a Venezuela, y que aún siguen allá. url"
          ],
          [
           "@usuario @usuario @usuario @usuario Uno de los problemas es generar otro problema?? Qué pasará con Colombia si estalla un conflicto bélico en el vecino país? No habrá más migrantes?? Y muchos colombianos en la misma situación?."
          ],
          [
           "@usuario Gente como tú no debería ser llamado mexicano. Realmente es un asunto de dignidad más que de políticas migratorias y aranceles. El país está siendo chantajeado y ¿prefieres seguir con tus prejuicios vs el gobierno actual de México? Que asco me da la gente como tú."
          ],
          [
           "\"El control migratorio detiene a los extranjeros, no a la violencia de género\" IMPORTANTE."
          ],
          [
           "@usuario \"Denme, alimenteme, vistanme, duermanme, bañenme, llevenme, traiganme, ponganme, dejenme, regalenme, entreguenme, ¡quiéranme!\"-Pidió el migrante Venezolano."
          ],
          [
           "@usuario Porque apoyan esta ley que favorece a los inmigrantes venezolanos y diprime la calidad de vida aún más del pueblo hambriento de Colombia qué le toca buscar alternativas porque no hay trabajo el gobierno no lo genera después se dedican sólo a perseguir a la clase que se rebusca"
          ],
          [
           "@usuario Necesitamos mas muertes, por ello debemos arreciar las sanciones y bloqueos al pueblo venezolano, ello nos garantizaría la toma del poder y la ayuda de los EEUU. !! VAMOS BIEN ¡¡ url"
          ],
          [
           "@usuario Desafortunadamente, nuestras leyes no son tan estrictas como en los Estados Unidos para las visas de inmigrantes."
          ],
          [
           "@usuario @usuario @usuario @usuario @usuario Hay que terner poco cuestionamiento para ser migrante y votar por un antimigrante emoji señal de aprobación con la mano tono de piel claro medio emoji ojalá no seas venezolano porque ahí si que te odiará este tipo"
          ],
          [
           "@usuario @usuario @usuario Este sujeto ¿en qué situación migratoria se encuentra ? ¿trabaja en el gobierno ? Y si es así ¿Eso no es quitarle trabajo a un mexicano ?"
          ],
          [
           "@usuario @usuario @usuario Y ya empiezan a decir idioteces algunos como tú, por un sólo caso no puedes generalizar, así como no te gustaría que por unos descuartizadores venezolanos en Perú, pensemos que todos ustedes son iguales."
          ],
          [
           "@usuario @usuario @usuario @usuario denuncia funcionarios de la cancilleria están cobrando para dar fraudulentamente visas a Venezolanos sin revisar antecedentes penales pobre Ecuador lleno de corrupción @usuario"
          ],
          [
           "Se disculpa por los ofensivos calificativos a los migrantes. Cuando te disculparas con nuestro pueblo @usuario por apoyar a nuestros hambreadores, torturadores y asesinos? Que han destrozado millones de vidas y familias? Tan inocente eres? Q no ves la realidad?"
          ],
          [
           "@usuario Venezuela es un país de inmigrantes yo misma tengo un familiar casado con peruano. Esa es una pobre vieja ignorante que cree que se la está comiendo y de dónde cree que salió Tarek saab y el salami?.. y el burro de la barragana?.."
          ],
          [
           "@usuario @usuario Por que atacan los migrantes a los de la guardia nacional ??"
          ],
          [
           "@usuario Pediré los planos a @usuario y construiré un muro en nuestra frontera."
          ],
          [
           "@usuario Cuál millón de Venezolanos, aquí no hay esa cantidad de venezolanos es algún momento hubo 400 mil y quedan muchos menos de 100 mil.."
          ],
          [
           "@usuario ya empieza a trabajar con tu política exterior y reglas migratorias que todo país tiene !! No es posible las consecuencias que se pueden venir macroeconómica y tú no eres para ir a usa !"
          ],
          [
           "Esto es CRITICO @usuario @usuario @usuario @usuario a cuidar fronteras con hashtag brasil Se nos viene una tercera ola @usuario si no cierran frontera con Brasil, nadie puede venir de ahí.."
          ],
          [
           "El gobierno dirá que esa era la estrategia: estrangular al pueblo para que los migrantes envíen más dinero Las Nuevas Ideas para estorsionar!"
          ],
          [
           "@usuario La verdad es q la sociedad cada vez está más agresiva y muchas veces creo q es llevada por la impotencia de ver como una clase en Chile vive en completa impunidad y privilegios, y eso los lleva a ser agresivo con otras personas, de acuerdo con hay q filtrar la migración, salu2"
          ],
          [
           "@usuario Pienso que Trump no está en contra de la inmigración. Que está en contra de la inmigración sin control e ilegal."
          ],
          [
           "@usuario @usuario @usuario @usuario @usuario @usuario Perú, Perú, Perú..Libre e Independiente gracias a la única Batalla ganada por el *Venezolano* General en Jefe Simon Bolivar en Ayacucho..! Nosotros Venceremos.!"
          ],
          [
           "@usuario Qué mayoría, a la que se le encuestó sobre el aeropuerto, sobre regalar millones a Centroamérica, o quizá los que están a favor de su millonarias sumas regaladas por la cancelación del aeropuerto, o de los inmigrantes con toda su ayuda que no da ni a su pueblo? Esos? Puff"
          ],
          [
           "Marcha \"anti migrantes\" este fin de semana en Santiasco? hashtag aweonaos"
          ],
          [
           "@usuario @usuario estos serán más votos para que en el futuro no vuelva a salir un imbecil como tú. Son la comunidad de inmigrantes más grande de Chile y eso los tiene con cagadera"
          ],
          [
           "@usuario @usuario Aquí en Colombia siempre les han dicho \"veneco\" al nacido en Venezuela, esa palabra quiere decir vénerea complicada."
          ],
          [
           "¿Y los venezolanos porque migraron a Ecuador? ¿Por el genial gobierno de Maduro?"
          ],
          [
           "@usuario @usuario Es sorprendente la cantidad de personas brutas en el mundo, y lo peor es que gracias a la globalización a casi no existe la supervivencia del más capaz. Como puede alguien, que vive a diario entre MILLONES de venezolanos, querer un modelo similar al de Venezuela?"
          ],
          [
           "Una pregunta: ¿Es ético permitir la migración irregular de ciudadanos de un Estado a otro; tal como los haitianos a RD. hashtag comite vigilancia migratoria hashtag no invasion haitiana rd hashtag canciller rdrenuncia ya url"
          ],
          [
           "@usuario Están llegando muchos inmigrantes, se necesita un programa de vacunación específico, pues en general muchas enfermedades ya fueron erradicadas en Brasil porque tenemos un sistema de vacunación desde la niñez, ¡pero en algunos países esto no pasa!"
          ],
          [
           "Se me olvidaba k los inmigrantes no son personas son hayawanat url"
          ],
          [
           "No hay dudas que los eventos en el Ecuador son provocados por elementos conectados con el gobierno de Maduro. Algo similar puede decirse de la \"xenofobia\" contra venezolanos en Perú. Todo es un plan de la dictadura venezolana para desestabilizar a las democracias en América, .."
          ],
          [
           "No me vengan con doble moral, nosotros tratamos peor a los inmigrantes que cruzaron hace unos meses."
          ],
          [
           "Cierre de frontera!! Gritan algunos. No cierran pero si hace algo bueno que es obligar al uso de mascarilla. Pero que dices? Eso como va a ser? Exijo que me la paguéis.. Así pues con todo, menos mal que está vez les toca a otros probar de su propia medicina."
          ],
          [
           "@usuario El lío es q en los 90 dejaron de impulsar casas baratas xq la población caía. El boom económico aumento inmigración y hoy falta vivienda en todas partes. La ley nueva no aplica a casas construidas después del 2014"
          ],
          [
           "Cuando dejas entrar de forma masiva inmigración de culturas tan diferentes, estas poniendo la semilla para que antes o después tengamos estos problemas sociales, como lo de hoy en el Aldi de Gerona."
          ],
          [
           "@usuario Pero cuando digo que la migración es un negocio capitalista y no un derecho humano me caen encima, allí tienen, a quien le conviene la migración? es o no un negocio? quien me dice lo contrario?"
          ],
          [
           "@usuario @usuario @usuario Sigues pobre migrante"
          ],
          [
           "@usuario No estoy de acuerdo con la natalidad irresponsable, pero esta gente no tiene ni para comprar un preservativo, los programas de control de natalidad deben ser prioridad en este proceso migratorio y aplicarse a la Población colombiana. @usuario"
          ],
          [
           "@usuario No faltan pretextos para intervención militar: Multi caravanas de migrantes nunca antes vistas, Culiacán caso insuficientemente aclarado en sus orígenes, masacre de mujeres y niños mormones originarios de Utah..etc. ¿qué falta?"
          ],
          [
           "@usuario @usuario Tu eres una de las que salió a rebuznar que los haitianos trajeron lepra. Quédate calladita no más porque eres una inmigrante de 2 generación sus padres llegaron cagados de hambre y ahora insultan a los nuevos migrantes por querer lo mismo que el estado le regalo a sus padres.."
          ],
          [
           "@usuario Semir presidente. Tique de queda, militaruze la ciudad, cierre fronteras. Y hay que controlar los medios, algunos cse pasan. No hay que bajar la guardia."
          ],
          [
           "@usuario @usuario En otros países ni siquiera es gratis estudiar , por eso hay tantos inmigrantes acá, ya eso es mucho que puedan estudiar y recibirse de lo que cada uno quiere, me parece excesivo además pedir que te den fotocopias o te alimenten, como dice los presos viven ahí lamentablemente"
          ],
          [
           "@usuario @usuario @usuario Bueno, sí, estamos pagando el muro, pero vamos a hacer un muro en la frontera con Guatemala y los Guatemaltecos tendrán que pagarlo"
          ],
          [
           "Primero la revocación de mandato en 2022.. así se tiene un margen para seguir \"maiceando\": beca de ninis, regalar dinero en nombre de López, 5 mil pesos de ayuda a migrantes.. Con la finalidad de tener su ejército de votantes listo para las elecciones Además.."
          ],
          [
           "Por eso Trump pone trabas a la migración latina"
          ],
          [
           "Me pregunto algo emoji cara pensativa emoji viendo la crisis de migrantes centroamericanos y venezolanos ¿por qué se critica más duramente a los países que no quieren recibirlos en vez del país que los esta obligando a emigrar de manera desesperada?"
          ],
          [
           "Entonces se vinieron los venezolanos que estaban en argentina, ecuador, Peru. Estamos mucho peor de lo que pensábamos. hashtag holachilelared"
          ],
          [
           "@usuario A Bachelet, le espera un juicio, por alta traición a la Patria, por ser autora del ingreso ilegal de miles de migrantes con falsa visa de turismo.Mujer falsa inepta y nefasta."
          ],
          [
           "@usuario Pues si, se le olvidó de que mucho venezolano que se fue para allá es descendiente de colombiano. Y parieron que jode en Venezuela, solo que el problema se les devuelve."
          ],
          [
           "@usuario @usuario @usuario @usuario Es fácil cuando la balanza favorece al sector económico empresas en gral. ..que es del chileno?? Se acuerdan que muchos somos inmigrantes en nuestro propio país.."
          ],
          [
           "@usuario @usuario como estamos en austeridad seguramente les dara tortillas sin sal. Por que esta ahorrando para unos estadios de beisbol y darle mas dinero a los migrantes"
          ],
          [
           "@usuario DON GILBERTO NO AL PACTO MIGRATORIO , NO ES RASISMO. ESQUE MEXICO TAMBIEN TIENE SUS PROPIOS PROBLEMAS"
          ],
          [
           "@usuario Ponte que un inmigrante ilegal llega a Santiago con 50$. ¿Donde puede residir con esa cantidad de dinero? ¿Puede conseguir trabajo rápidamente para ser autosustentanble? ¿La oferta laboral disminuida por la pandemia no defradara sus expectativas? Y en ese contexto q viene?"
          ],
          [
           "@usuario @usuario @usuario @usuario @usuario @usuario Hoy López tiene la guadia nacional casando migrantes y sin dar seguridad a los Mexicanos url"
          ],
          [
           "@usuario supongo que a los que entran de forma ilegal tambien los haran hacer la cuarentena pagando los 300 mil de la residencia sanitaria al igual que los llegan de brasil hashtag aeropuerto"
          ],
          [
           "ESO LO HA HECHO TODA LA VIDA\"HERMANA\" REPUBLICA DE COLOMBIA CON VENEZUELA: LEGALIZAN VEHICULOS, ALIMENTOS, SUELTAN PRIVADOS DE LIBERTAD X SOBRE POBLACION PENAL Y LOS HACEN HUIR A VENEZUELA, COLOMBIANOS CON DOBLE NACIONALIDAD, DOMICILIADOS ALLA Y PAREN EN VENEZUELA, GASOLINA..CDM"
          ],
          [
           "@usuario Oye cuéntanos un poco.. es buen negocio esto del tráfico de inmigrantes?? quiero meterme en este asunto.. necesito plata."
          ],
          [
           "C. Pres. @usuario , llevamos más de 30 años sin crecimiento económico y mucha pobreza en México, hoy es momento de cambiar esto dando trabajo a nuestro pueblo en todo el país y evitar que nuestros migrantes se vayan al extranjero. ¡PRIMERO MI PUEBLO ANTE TODO!"
          ],
          [
           "@usuario Esta es la criminal inmigración de Bachelet, tan defendida por la izquierda. Y es lo que la ONU está haciendo contra todos los países que firmaron el pacto migratorio. La inescrupulosa Alta Comisionada es cómplice de los delitos cometidos por estos delincuentes."
          ],
          [
           "@usuario @usuario @usuario @usuario @usuario Mi solidaridad y apoyo a los venezolanos honestos y trabajadores q llegaron a Perú buscando oportunidades. Abrazos!! Es lamentable, pero buen número vinieron a delinquir y ellos los hacen quedar mal. Lo q genera desconfianza hasta en los empresarios para poder contrartarlos"
          ],
          [
           "@usuario Peruanos ¡Abran los Ojos! La llegada de venezolanos les ha traído más beneficios, pagan sus tasas de los trámites consulares, sirven con calidad, gastan más dinero en Perú que lo que envían a Venezuela, personal calificado y preparado sin invertir ni un centavo. ¿Sigo?"
          ],
          [
           "@usuario Lamento que no haya ningún urbanista con visión, solo personas que seguirán confundidos, dándole más cabida a los migrantes del interior, que ocupan más servicios de energía y agua, pero si voto es lo más importante, y el desarrollo de los departamentos donde?"
          ],
          [
           "@usuario @usuario @usuario Nos avisas que te dice cuando se ponga peor por no cerrar fronteras otra vez. Pinche títere"
          ],
          [
           "¡Ajá!, ¿Entonces los migrantes venezolanos o son víctimas o son ejército infiltrado del \"socialismo del siglo XXI? Escoge una de dos @usuario.. ambas no se puede. hashtag ordonez hashtag titere sin control del gobierno"
          ],
          [
           "El momento de cerrar fronteras fue este verano. O hace un mes. Ahora es demasiado tarde para mayoría de países. 2. Si los países tuvieron dificultades para detenerlo antes, ahora lo tendrán mucho más difícil. Si es un 60% más infeccioso, R0 ha pasado de 2,7 a 4,3 en promedio."
          ],
          [
           "@usuario @usuario Sí. Una crisis que él y su gobierno crearon al literalmente invitar a los migrantes y hasta ofrecerles visas de trabajo. Nunca en la época moderna, y quizás ni en la antigua de la historia de México, existió un presidente que se humillara más ante EEUU. Es el gato de Trump."
          ],
          [
           "@usuario @usuario @usuario @usuario Mas raro me parece que Macri dijo que hay que echar a los inmigrantes ladrones y su padre siga en el país"
          ],
          [
           "@usuario @usuario Gobierno Comunista. Jjaja jaja Resulta que miles de venezolanos en 2020, incluido el líder de la oposición Leopoldo López, encarcelado por el comunismo, son gilipollas y huyen de su país comunista para pedir asilo político en otro país comunista jojojo no se puede ser más bobo"
          ],
          [
           "@usuario @usuario @usuario Totalmente de acuerdo, cerrar frontera no es cerrar el comercio internacional, eso se tiene que sostener con controles sanitarios acordes a la actividad que se controla, el tránsito de personas en cambio, habría que pararlo..me parece.."
          ],
          [
           "@usuario @usuario y del dato de los jugadores latinos, cuantos son hijos de ilegales? Porque nadie el tema en USA, es la migración IELGAL!"
          ],
          [
           "Presidente @usuario usted con su gran Visión ¿Qué tiene pensado para los chilenos que están siendo reemplazados por inmigrantes?"
          ],
          [
           "@usuario Manda a decir @usuario que no puede retirar las reformas tributarias, con eso piensa financiar los 3 millones de Venecos que se vinieron a Colombia buscando el sueño americano! emoji cara de loco emoji emoji cara revolviéndose de la risa emoji emoji cara revolviéndose de la risa emoji emoji cara con manos abrazando emoji"
          ],
          [
           "@usuario @usuario @usuario @usuario @usuario @usuario @usuario @usuario @usuario @usuario @usuario @usuario Por que no dicen.que.el SICARIO es.Venezolano"
          ],
          [
           "@usuario @usuario Cuantos Venezolanos o extranjeros han deportado este año?? Si realmente estan preocupados por lo que pasa en Ecuador."
          ],
          [
           "@usuario Gael el Actor q vive en Argentina?? Q nos diga cuantos inmigrantes pueden recibir en su casa para enviarselos le recuerdo q no les gusta los frijoles con Huevo! Y tome en cuanta q son Gente Difícil de Controlar ya q confrontan a la Guardia Nal. La cuál ha sido muy prudente hashtag 4 t"
          ],
          [
           "@usuario @usuario Está llegando los tiempos en que los hashtag migrantes se tomen propiedades sin tener sanciones porque la Ley no se contempla el desalojo de una expropiación ilegal? @usuario así de inoperante es el hashtag poderlegislativo ?"
          ],
          [
           "Brasil, ¡CIERRE ESTAS FRONTERAS!"
          ],
          [
           "@usuario Una cosa es inmigración ilegal.. otra es darle acta de nacimientos y cédulas en el país que lleguen bajo estas condiciones.."
          ],
          [
           "@usuario @usuario @usuario Menos mal antes de la migración venezolana en Colombia no mataban por robar un celular"
          ],
          [
           "Si en Chile estaban preocupados por la cantidad de inmigrantes venezolanos que había, prepárense con el coñazo de venezolanos que ahora se van a Chile después del triunfo de CK en Argentina."
          ],
          [
           "@usuario Basta de vuelos. Cierre de fronteras"
          ],
          [
           "Primo la cordura en el Senado, se rechazó la indicación a la ley de migraciones de senadores Latorre (FA) &amp; Allende (PS) que pretendía no sancionar el ingreso ilegal y por pasos clandestinos de extranjeros a nuestro país. La migración debe ser ordenada y legal . Chile primero"
          ],
          [
           "Esta es la realidad ! Se han fijado que desaparecio la palabra migrantes emoji signo de interrogación emoji y no solo la palabra,de mi barrio desapareció el 90 % de ellos ( cerca de mall) ..y la treta de los encapuchados emoji signo de interrogación emoji si usas capucha nadie ve el color de tu piel o los rasgos @usuario @usuario"
          ],
          [
           "@usuario Tu historia es muy bonita, Pero las épocas son distintas, Venezuela en ese tiempo era próspera y la migración de colombianos a Venezuela no fue de medio millón en 2 años! Y eso es una carga fuerte..Colombia se volverá mas insegura como paso con Venezuela, hoy estamos destruidos"
          ],
          [
           "@usuario Porfavor vean el video de canal de kripto y lo que pretenden hacer con nuestros hijos una más de las tantas infamias que se están tramando en emoji bandera chile emoji por favor debemos sacarnos el velo de los ojos y despertar de esta total crisis en todos los ámbitos social educativa migratoria! emoji cara con el ceño ligeramente fruncido emoji"
          ],
          [
           "@usuario @usuario Cabo verde estos políticos corruptos atacando un político venezolano solamente porque los EEUU pidió a esta país cabo verde quiero presionar al diplomático ALEX SAAB y lo manden para EEUU como un preso común los EEUU ataca a cualquier país todo mal que hagas te será devuelto peor"
          ],
          [
           "@usuario @usuario Porque los periodistas no comentan que esto fue el resultado de no frenar la entrada en la frontera sur sin , papeles o sea un error del gobierno que está afectando a los mexicanos por una idiotez"
          ],
          [
           "@usuario @usuario Leíste cuando puse que es venezolano, cierto? Leíste bien que puse eso y que por lo tanto creo, al igual que tú, que el pasaporte SÍ pesa? Pero si además del pasaporte venezolano, mides 1.60, eres caro y no eres tan disciplinado, no te van a comprar en Europa tan rápido."
          ],
          [
           "@usuario Que quieren que le den becas en colegios particulares y bonos a los migrantes que vienen a url."
          ],
          [
           "@usuario @usuario @usuario @usuario @usuario Y cerrar la frontera ya."
          ],
          [
           "Esta es una de tantas páginas xenófobas en Chile. El que la dirige, Kaiser, prácticamente tiene tendencias neonazis Inmigración genera déficit para Chile, de más de un millón de millones d.. url vía @usuario"
          ],
          [
           "@usuario @usuario Que vergüenza. .. pido disculpas porque no todos los Venezolanos somos así!! Muchas veces no es Xenofobia, es simplemente que hay Venezolanos que no entienden de normas, leyes y comportamiento y por eso reciben el trato que les dan .. !!"
          ],
          [
           "@usuario @usuario @usuario @usuario Estuvieron 6 meses esperando q el gobierno venezolano se dignara a dejarlos entrar, no culpes a chile x eso. Chile ha estado todo este tiempo haciendo las gestiones para q en su pais los reciban."
          ],
          [
           "@usuario RENÉ USTED ESTÁ DETENIDO EN EL TIEMPO 60AÑOS HAN TRASCURRIDO EL SOCIALISMO CUBANO NOS A DADO MISERIA HAMBRE REPRESIÓN PERSECUCIÓN ENVIDIA ABANDONO ESCASEZ LIMITACIÓN MIGRACIÓN ADOCTRINAMIENTO PROHIBICIONES ENFERMEDADES ATRAZO EXTREMO. ES MOMENTO D PROVAR EL CAPITALISMO"
          ],
          [
           "@usuario Sin embargo debe estar muy bien regulado para evitar la sobre-migración y esto podría perjudicar la economía"
          ],
          [
           "@usuario @usuario Larreta los dejó sin agua Muchos vecinos que viven en la villa que trabajan y pagan impuestos en Argentina tienen que hacer cola por un plato de comida En Formosa @usuario cruzan la frontera sólo para cobrar cc @usuario @usuario url"
          ],
          [
           "@usuario @usuario Mira muchos venezolanos tenían asilo en USA y en países desarrollados. A colombia vino muy poca gente de bn, que son los que tenían familia acá, pero en su mayoría eran ñeros y sicarios; los que los otros países rechazaron. Y aca los admitimos por que Duque quería guerra"
          ],
          [
           "@usuario Nosotros requerimos leyes de inmigración mucho más estrictas y con una visión de largo plazo, donde incluso se consideren aspectos de tipo cultural que puedan ser un aporte al país, queremos un país de cultura europea o centroamericana?"
          ],
          [
           "@usuario Ella saltó a la política luego de hacerse conocida en la radio en un programa en la z101 donde cualquiera que la escuchaba se decía, incluyéndome, \"esa mujer debe llegar al poder\". Pero todo cambió cuando fijó posición a favor de la migración de haitianos. Ahí se fue derrumbando."
          ],
          [
           "@usuario Es que es una mierda todo. Habría que, o cerrar perímetros y la frontera, o exigir PCR negativa a nativos y extranjeros."
          ],
          [
           "¿Qué ofreció México a cambio de suspender los aranceles? url. - No se deberían aceptar, que los migrantes se quedaran en el territorio mexicanos por mas de 60 días. No esta la economía de los estados para soportarlo o que la cubra EEUU"
          ],
          [
           "Venecos ardidos en Noviembre por las elecciones de Estados Unidos, sea azul o sea rojo igual la mierda que lleva venecoland es la misma, re-tarde esto pero igual de cómico"
          ],
          [
           "@usuario @usuario @usuario @usuario Dónde están los doble moral que protegen a los migrantes, gracias @usuario"
          ],
          [
           "@usuario No veo el problema, se debe detener la migración ilegal."
          ],
          [
           "@usuario Tiene razón Donald Trump, el solo protege su frontera no como Andrés Manuel López obrador que permite que pasen todos en nuestra frontera sur."
          ],
          [
           "@usuario @usuario La migración me agrada cuando es temporal y para aprebder y luego volver al país de origen a aplicar todo lo aprendido. Cómo lo hacen nuestros jóvenes en los working holidays o los programas de intercambio etc. pero lo que pasó acá fue una invasion. La nueva ley considera (sigue)"
          ],
          [
           "@usuario La forma mas contundente de desenmascarar a estos delincuentes es mostrarle al mundo, sus caras,documentos,armas y cualquier otra prueba que demuestre su vinculación con el régimen Venezolano"
          ],
          [
           "@usuario. @usuario @usuario @usuario. Acabo de pasar por la plaza de los andes y habían un grupo grande de inmigrantes (haitianos) que se estaban sacando fotos. Lo malo que se subían arriba de las bancas parados y saltaban al suelo como 8 será cultura"
          ],
          [
           "@usuario @usuario Nose como llegan estas cagadas de noticias a mi TL si las que me interesan son Venezolanos deportados vzls abandonan chile muere maduro de 1 tiro en la cabeza igual que el borrachin de Allende Temas importantes"
          ],
          [
           "@usuario @usuario @usuario @usuario @usuario @usuario @usuario @usuario @usuario @usuario @usuario @usuario Se te olvida un punto. Tienen que mantener a los migrantes y refugiados ."
          ],
          [
           "@usuario @usuario Es muy triste en Colombia no se ve eso. Se nota la presencia de venezolanos eso es lo que saben hacer"
          ],
          [
           "@usuario @usuario No veo como el Presidente @usuario fomenta la xenofobia por estar presente cuando se expulsa del país a extranjeros en este caso venezolanos que incumplen las leyes y normativas peruanas. Son personas que han delinquido."
          ],
          [
           "@usuario @usuario @usuario La UBA es la cuna socialista de inmigrantes. La de negros es la Unlam."
          ],
          [
           "Necesito que mi peluquero me de un turno porque lo denuncio por inmigrante ilegal sino"
          ],
          [
           "Ahora comprendo a Trump USA ya no aguanta a tantos inmigrantes, a que van, a dormir en la calle a ser un indigente mas, la gente no entiende que el sueño Americano termino hace mas de 20 años Mexico no quiere esto url"
          ],
          [
           "@usuario @usuario Muchas venezolanas pensamos igual que tu @usuario y la invitación es no parir en Colombiano, también deben dejar de parir en Venezuela. Nuestro país está en ruinas, los venezolanos necesitamos reeducación total. Debemos empezar por el respeto luego del cambio de Gobierno"
          ],
          [
           "@usuario Se les recuerda a estas colombianas..que en Venezuela en su mayor auge existieron viviendo en nuestro territorio 5 millones de hermanos colombianos y aun se encuentran regados en esta hermosa patria unos 4 millones.."
          ],
          [
           "@usuario La diferencia es que en aquella epoca , los Colombianos que iban a Venezuela eran gente de bien, iban a trabajar y habia mucho trabajo porque precisamente hacían el trabajo que ellos no hacían porque son como son, eso no es nuevo. Ahora resulta que debemos regresarles el favor."
          ],
          [
           "@usuario @usuario @usuario Y todavía siguen, crearon barrios completos de Colombianos, hay zonas donde cuando hay juegos de Colombia Vs Venezuela pareciera que estas en la misma Colombia de la cantidad de Colombianos que hay, eso si nunca se les humilla."
          ],
          [
           "@usuario La verdad que ni puta idea pero creo que cuando aún no estaba el Covid Bryan en el país ahí había que cerrar frontera y controlar a los que venían de afuera. Y chau a casa."
          ],
          [
           "@usuario @usuario Y que Palma Salamanca es inocente, que Lula es inocente, que impedir la inmigración de delincuentes e ilegales es racismo.."
          ],
          [
           "@usuario Y no solo estadounidenses, cientos, quizá miles de inmigrantes ilegales y de estatus migratorio regular."
          ],
          [
           "@usuario Señor rincón u lanzamos un SOS desde ipiales las autoridades del Ecuador están enviando a Colombia los venezolanos sacándolo del país y amenazandolos de muerte de lo cual hay videos y testimonios porfavor ayúdenos"
          ],
          [
           "@usuario @usuario @usuario @usuario @usuario @usuario @usuario @usuario @usuario @usuario @usuario Fuera odiador de hermanos migrantes url"
          ],
          [
           "@usuario vivir en el estrato 4 en este país ya no es sinónimo de abundancia de dinero, también enfrentamos el desempleo , la falta de recursos económicos , el covid 19 , la migración Veneca , y el inepto presidente @usuario ."
          ],
          [
           "La situación irregular de los inmigrantes no hace más que aumentar el empleo precario y el desempleo. Desde que el Presidente Duque llegó al poder, Migración Colombia no ha sacado ni un solo Permiso Especial de Permanencia, ¿Qué esperan?"
          ],
          [
           "Mientras tanto en Ecuador el hashtag coronavirus sigue ingresando como dueño de casa. emoji cara con ojos en blanco emoji emoji cara triste pero aliviada emoji Cuantos a favor de cerrar fronteras?? url"
          ],
          [
           "@usuario @usuario El aumento de casos de dengue, así como el que se trate de un virus distinto (tipo 2) es atribuible al hecho de que hay más migrantes del sur del continente. Y quién crees que no ha hecho nada para tener mejor control sanitario en eso de las migraciones?"
          ],
          [
           "Amigo y eso quw usted no se ha dado una vuelta por IG.. en cuentuchas de venezolanos en Chile.. aquello es pavoroso.. emoji persona haciendo el gesto de de acuerdo emoji"
          ],
          [
           "@usuario @usuario Eee.. Será porque sólo los países pueden establecer eso?.. O pretendes que inviten a millones de venezolanos a vivir a su casa?."
          ],
          [
           "@usuario @usuario Si en Venezuela no hay una intervención militar extranjera prepárese los países de America Latina pues más de 4 millones migrarán este año colapsado sistemas de migración en sur America todo por la complicidad de politiqueros de la MUD son tan dañinos como los del tirano en Vzla"
          ],
          [
           "¿En qué están fallando los gobiernos de centro América para tener tanta migración y ser responsables del problema que hoy tiene México respecto a su gente? @usuario"
          ],
          [
           "@usuario @usuario Y migración porqué no intervino y le aplicó la ley? Nadie puede venir a insultarte en tu país."
          ],
          [
           "¿Muro pa' qué? siempre habrá forma de pasar, ninguna frontera en el mundo es controlable. Mi opinión: mayor control, más presupuesto para deportaciones masivas y reforma migratorias más drásticas"
          ],
          [
           "@usuario ..en aquella epoca cuando colombianos iban a Venezuela era a TRABAJAR y a aportar ..no como ahora aca, al contrario .."
          ],
          [
           "@usuario @usuario @usuario por favor atentos con este venezolano que participó en los saqueos de hace algunos días. Abrir investigación y deportar"
          ],
          [
           "Qué hace la gente de Iguazú que no lincha a su intendente por no cerrar las fronteras?"
          ],
          [
           "Por favor al Sr. Presidente @usuario le solicito tomar medidas urgentes hacia los migrantes qué ingresan a hashtag ecuador para mejorar en el control interno y así evitar más muertes como la de hashtag ibarra"
          ],
          [
           "@usuario @usuario si vivieras en chile, argentina , usa o europa cambia la palabra venezolano por colombiano y sera lo mismo"
          ],
          [
           "@usuario @usuario Porque la frontera con Colombia es Tabatinga de Brasil donde hay mucho infectado. Es como ir de Bogota a Soacha donde la circulacion de gente es alta. Traen el virus a Leticia de esta forma."
          ],
          [
           "hashtag chamo emoji bandera perú emoji emoji luces de policía emoji Mientras el pueblo peruano esta sin trabajo emoji botón de marca de verificación emoji usted presidente esta preocupado más por los venezolanos , hashtag peru hashtag gobierno de mentiras url"
          ],
          [
           "@usuario Primero que no sos inmigrante, sos hija de inmigrantes. Arrancamos mal, y segundo, perteneces al partido político más facho imposible. Llamate a silencio man, y deja de mentir y ponete a laburar, si es posible en la actividad privada así no tenemos que pagarte más por nada."
          ],
          [
           "Exhortamos al Gobierno Nacional cerrar la frontera sur, Macará, ya que al lado peruano no sólo está el problema del corona virus sino también el guillain barre. También tenemos derecho. No hay control. Exigimos cierre de Frontera. @usuario @usuario @usuario @usuario"
          ],
          [
           "@usuario El fenómeno criminal es mutable y movible y evidentemente las tendencias delictuales en Latinoamérica han ido traspasando fronteras. La importación de nuevas formas delictuales se entrelazan de alguna forma con la migración, sea regular o irregular."
          ],
          [
           "@usuario Quien entra aún país ajeno a la fuerza no puede esperar una trato diferente. Vayan ambas fronteras para entender lo que viven la gente local con estos inmigrantes"
          ],
          [
           "@usuario @usuario @usuario @usuario Tanta cosa, los del FPMR se fueron a Vivir a Francia, Evo se fue a Mexico. No hay ni un pelotudo que se vaya a vivir a tus admiradas Cuba, Venezuela o Nicaragua. Una medida para medir paises es ver el interés de migrantes, los países que admiras producen emigrantes"
          ],
          [
           "Si Hitler hubiera entrado a Polonia como lo hacen los cientos de miles de migrantes en la actualidad, no sería un villano, sería el salvador de los alemanes.."
          ],
          [
           "@usuario puede tener mucha razón en lo que manifiesta, pero: - No es \"políticamente correcto\". &amp; - No creo que su llamado lo vayan a leer l@usuario inmigrantes irresponsables. O si en un hipotético caso lo leen, les entrará por un oído y les saldrá por el otro: viven de eso. url"
          ],
          [
           "@usuario @usuario Tengo demaciados amigos venezolanos acá que están muy bien, sin embargo la poca xenofobia apareció después de tiempo por las noticias de delincuentes venezolanos que entraron porque no se les pidió nada simplemente se abrieron las puertas pero según tu crees somos malos con todos"
          ],
          [
           "@usuario @usuario Eso sí habla de quedé hicieron bien las cosas Ho México pide limosna Y encima otra maldita mentira México va a dar a cambio amor y respeto Y nada más Al otro día la frontera con Guatemala sellada Maldito mentiroso López hablador"
          ],
          [
           "@usuario Gracias a Dios que usd dicen algo,ya es hora de parar la inmigración y sufrimiento del pueblo de Venezuela"
          ],
          [
           "@usuario Y si son latinos dudo mucho q no estes hablando de inmigrantes.. la ultima vez que vi geografia latinoamerica empezaba de america central para abajo.. Hasta dnd se EE.UU esta en el Norte"
          ],
          [
           "@usuario @usuario Que clase de argumento imbecil es ese? Este migrante solo respira y gasta y debo correr con todos los gastos?? En ese caso, un niño chileno huerfano es lo mismo? Le pagas la salud, educacion y gastos? O a un chileno normal le pagas eso? Por que si no es de lo mas imbecil"
          ],
          [
           "@usuario Con todos los buenos humanistas que hay aquí, a ver cuántos se llevan a sus casas, y al camps este espero que lo detengan ya, por tráfico de inmigrantes y colaborar con las mafias, un cañonazo al barco y muerto el perro se acabó la rabia"
          ],
          [
           "Se imaginan Uds que en hashtag medellín el pasaje de Metro subiera ¡ 140 miserables pesos ! y por ello, la comunidad lo DESTRUYERA, como en Chile ? creo que el tema de \"CERRAR FRONTERAS\" a extraños que no sienten respeto por sus bienes, debería ser una política de barrio, ciudad, país."
          ],
          [
           "4. La migración.. Ese si es un grave problema!! Si Colombia \"NO TIENE\" emoji cara pensativa emoji para atender a su propia comunidad; cómo carajos va a atender al Venezolano errante!?"
          ],
          [
           "@usuario O tomamos las calles para buscar la libertad o muy pronto la segunda oleada de migración no bajara de 4 o 5 millones en solo 6 meses empieza la partida generalizada todo por la inacción de una clase política cómplice y traidora deben desaparecer por cohabitar con el asesino PSUV url"
          ],
          [
           "El candidato a vicepresidente de Macri: Hay que endurecer el ingreso de migrantes"
          ],
          [
           "La estúpida política de brazos abiertos a migrantes (que ademas está comprobado muchos son delincuentes) de AMLO rindiendo frutos. Este artículo de un periódico de Miami revela lo que pasa en México, dan ganas de llorar. url"
          ],
          [
           "Impresentable como la prensa de Chile (izquierda globalista y progre), ha descontextualizado el sentido original de la marcha, diciendo que es anti inmigrante y sólo por (xenofobia)estableciendo que todos los que apoyan son prácticamente unos nazis🤦‍.(1/2) hashtag marcha anti inmigrantes"
          ],
          [
           "Comparado MARZO de Gob anterior: 2.682.00 buscando empleo, +383.00 2.613.00 en rebusque callejero +240.00 6.844.00 en sub-empleo -p/e Rappi y Uber+680.00 Oferta de mano de obra (PEA) aumentó en 435.00=Aumento de desempleo no solo es culpa de migración venezolana emoji dorso de mano con índice hacia abajo emoji url"
          ],
          [
           "@usuario @usuario Será q los 6 millones de colombianos q están aquí también se los trajo la corriente poquito a poco??la misma corriente q lleva la coca a USA??"
          ],
          [
           "@usuario @usuario @usuario @usuario Jjaja si claro por eso hacian mierda a los colombianos que migraban a Venezuela antes de la crisis, son una mierda como sociedad y viven haciendose las victimas porque asi los educo el regimen socialista"
          ],
          [
           "LA PREGUNTA ES QUIEN LO PUSO AHI. Y PORQUE EL CONGRESO NO HACE ALGO AL RESPECTO. AVISENLE A PORFIRIO MUÑOZ LEDO. TAN PREOCUPADO POR DERECHOS DE INMIGRANTES Y OLVIDADO DE DERECHOS ELECTORALES"
          ],
          [
           "@usuario @usuario @usuario Latinoamérica está con cientos de nuevas Constituciónes, hasta ahora no veo que sirvan mucho para terminar con problemas económicos y sociales de la región o no existiría tanta pobreza y migración!"
          ],
          [
           "@usuario Toda la razón, debería renunciar @usuario . Sin embargo, si se da cuenta Economista, que mucha de esta delincuencia es producto de la migración que ha llegado de Venezuela, gracias al nefasto gobierno de Maduro. Sin embargo ahí ud no opina nada, es mas, mejor lo entrevista"
          ],
          [
           "@usuario No necesitamos ayuden a los migrantes, necesitamos esos recursos para enfrentar a los narcos dictadores que secuestran al país!"
          ],
          [
           "@usuario Lo peor de Latinoamérica llegó aquí y de Europa la mayoría huyendo de guerra ayudaron a mejorar nuestro país hasta que llegó la peste socialista. Ahora veo con pena la cantidad de latinos mierdas quejándose de la inmigración que parcialmente causaron sus gobiernos chulos complice"
          ],
          [
           "La izquierda con todo su aparto comunicacional logró instalar mentira que marcha es contra inmigrantes.y @usuario compró al toque. Es contra descontrol que dejó la nefasta y que siguió en este gobierno. Mal que este gobierno censure"
          ],
          [
           "Si @usuario quiere ser el presidente de los DDHH hoy mismo su gobierno debe detener, anular y bajar el \"PLAN RETORNO\" para inmigrantes Haitianos. emoji bandera haití emoji se encuentra en crisis política social pero la frialdad de la política chilena permite el retorno obligado de inmigrantes."
          ],
          [
           "@usuario Eso debe ser lo que pasa cuando un inmigrante viola a una niña de 11, 12 años y no abrís la boca."
          ],
          [
           "@usuario Jorge, no toda la Guardia Nacional estara en la frontera México también tiene mucha gente pobre en la calle y sin trabajo y hoy en día se vela más por los intereses de los centroamericanos que de los mexicanos México tiene derecho a que se respeten sus leyes y soberania"
          ],
          [
           "@usuario @usuario @usuario @usuario @usuario @usuario @usuario Y si el agresor, violador o asesino es un inmigrante irregular??"
          ],
          [
           "Muy cierto esto. Inmigrantes creen y practican en brujerías y cosas raras. hashtag haitianos"
          ],
          [
           "@usuario @usuario El ministerio de salud debería realizar brigadas de salud en los barrios más vulnerables ya que muchos viajeros entran por las fronteras de manera ilegal sin ninguna clase de prevención."
          ],
          [
           "@usuario Ni antes del Regimen ni despues de el, podremos solos, necesitamos una politica de inmigracion selectiva de alta calidad!"
          ],
          [
           "@usuario Por segunda vez apelo respetuosamente a la comprensión lectora: Yo no estoy de acuerdo con la xenofobia, y mi tuit es una crítica a lo cobarde que es la prensa cuando dice extranjero y no dice ciudadano venezolano . Crítico además a los políticos y sus visas humanitarias."
          ],
          [
           "Vean como persiguen a las personas en Perú por vender café..Y si van a las calles ven a Peruanos vendiendo café.. Y aquí nadie persigue a ningún peruano por vender con su tarantines en ningún rincón del país Venezolano.Yo creo que presionan a las personas es para que se vayan."
          ],
          [
           "@usuario @usuario Ademas, no creo que el venezolano de a pie tenga los recursos para traerse a toda la familia a Chile en avión, visitar Venezuela dos veces al año y empezar una PYME en dos meses estando acá. Dime de donde escapas como rata y te diré quien eres."
          ],
          [
           "No basta con estar en contra de la inmigración ilegal. También estamos en contra de lo legal."
          ],
          [
           "Ojalá entender por qué se vota fascismo, y por qué principalmente los votos son de gente joven, clase obrera e inmigrantes ilegales. OJALÁ ENTENDERLO."
          ],
          [
           "@usuario @usuario No mejoran la situación con respecto al Covid en EEUU y en Colombia y se las van arreglar a los migrantes Venezolanos, no me jodan cuerdas de lacayos."
          ],
          [
           "@usuario @usuario @usuario @usuario Pues a mi me parece que usted es una bobasa al no entender lo dicho por la vieja esa. Pues como no son ustedes los que viven las atrocidades que algunos venezolanos vienen a causar en el país. Que hpta manía de hablar sin saber"
          ],
          [
           "@usuario @usuario @usuario Pedazo de estupido, para que sepas qué el tema migratorio es un tema qué hay que atender con urgencia @usuario me suena que tienes el poco de ilegales trabajando en tu restaurante para pagarle salario @usuario revisar esté restaurante."
          ],
          [
           "@usuario Ah ok. Una descendiente más de los millones de colombianos que hemos recibido :p"
          ],
          [
           "Por favor emoji manos en oración tono de piel medio emoji Presidente @usuario cierre la frontera con hashtag venezuela .. escuche a los colombianos."
          ],
          [
           "los actuales sectores sociales y economicos han estado presente durante siglos en la prosperidad de los EUA porque unos inmigrantes quieren cambiarla para mal? si quieren un pais a su medida está Cuba Iran China Rusia para que inmigren alla cual es el problema vivan y dejen vivir"
          ],
          [
           "@usuario Y por capricho no se ejecutó el CIERRE RADICAL DE FRONTERA y hoy tenemos lo que tenemos, pero el 6D voy con el PSUV \"aunque vengan degollando\" @usuario"
          ],
          [
           "@usuario @usuario Muchos se fue por la guerra de arena y fmln.y por las Pandillas que apoyaban los areneros y frentudos.ellos se confabularon en contra del Pueblo.Ingratos Asesinos usaron a las maras para intimidar y hacer que el Pueblo emigrara buscando pan y urlusas de la. Migración"
          ],
          [
           "@usuario Llamar a consultas al embajador en cuba, cerrar la frontera con Venezuela indefinidamente, judicializar y deportar extranjeros que no cumplan con la ley y la convivencia!! Medidas urgentes y decretar el hashtag estado de conmocion interior"
          ],
          [
           "@usuario Cabe preguntar cómo Peru no detuvo el ingreso a SU territorio en el norte y permitió el ingreso hasta llegar a la frote con Chile, y ahora es responsable nuestro país?..esa crisis en la frontera es responsabilidad de Perú"
          ],
          [
           "@usuario Hoy dos inmigrantes persiguieron a la hija de una amiga en una parada del tranvía y la chica echó a correr al sentirse intimidada y ellos detrás. Tuvo que llamar a la policía, es que no tienen respeto ni a la autoridad"
          ],
          [
           "@usuario Diganle a esta sra, que en venezuela una buena parte de los colombianos que viven en las zonas populares no pagan luz,agua, impuestos, ect ect ect ect por eso no se van de venezuela"
          ],
          [
           "@usuario no sirve dar trabajo, si no se expulsa a los migrantes, no sirve dar trabajo si no se reduce la poblacion, si no se controla la reproduccion humana, hay muchos detalles que no se estan tomando en cuenta"
          ],
          [
           "@usuario ¿Quién se cree este idiota que es para hablar esta mierda? En @usuario VSF. Vas a hablar de la política de tu país, mierda. Si yo fuera presidente de Brasil, el ejército ya estaría en la frontera disparando ahora. Gran presidente. Estúpida mierda url"
          ],
          [
           "Arde @usuario @usuario y todo el fascismo asfixiante del siglo XXI jaja hashtag antifascism hashtag migrantes"
          ],
          [
           "@usuario Si entra al pais con pasaporte colombiano y sin cédula le ponen problemas. Es ridículo. Como si el pasaporte no fuese suficiente. A mi me han amenazado con multas. Al final la saco pues siempre quiero saber cual es la amenaza del dia por inmigración Colombia."
          ],
          [
           "@usuario Médicos peruanos también están poniendo en riesgo su salud cuidando pacientes venezolanos. Si empezamos a hablar de nacionalidades, la xenofobia es vista desde otro punto de vista. Mejor dejemos las nacionalidades de lado, el covid no distingue. emoji cara guiñando el ojo emoji"
          ],
          [
           "@usuario Que bueno que se estén tomando acciones para contener la migración ilegal, que malo que se haga por coacción de Trump"
          ],
          [
           "@usuario @usuario nos resultó más huevos tibios que @usuario quien de menos sostuvo su posición firme a la construcción del muro, ahora dejamos la puerta abierta que la primer cosa que no le parezca a @usuario nos va a amenazar con los aranceles. hashtag mexico sin hurvos"
          ],
          [
           "@usuario Una pregunta, y los gobiernos de esos migrantes, q hacen x ellos? Creo q el gobierno de cada país tiene q resolver los problemas de su gente, y no el nuestro"
          ],
          [
           "Los migrantes tienen la culpa del desempleo, los jueces tienen la culpa de la delincuencia, el obstruccionismo de la oposición tiene la culpa del bajo crecimiento. Dejen de echarle la culpa al resto y hagan su trabajo!"
          ],
          [
           "@usuario Emigrar deberían exigir a sus gobiernos la creación de nuevos empleos. Es excesiva la cantidad de caravanas y para los migrantes doloroso, agotador y triste al dejar a sus familias. Es difícil toda esta situación para nuestro presidente"
          ],
          [
           "1) Todo inmigrante será libre de no ser deportado, aunque se trate de un traficante, asesino o violador. 2) La condición de \"ilegal\" pasa a ser \"irregular\", y una familia extranjera podría vivir toda su vida en Chile siendo \"irregular\"."
          ],
          [
           "@usuario Pongan minas en toda la frontera. No somos el sueño americano."
          ],
          [
           "@usuario @usuario Como en los últimos tiempos donde ciudadanos venezolanos tienen más derechos que los mismos colombianos, ahora lo que faltaba que venga en autoproclamado presidente del país del nunca jamás a hablar de política de Colombia cuando en su país su gestión ha sido nefasta y corrupta"
          ],
          [
           "Sé que esto no tiene que ver con el fandom, pero JUSTICIA PARA EL CHICO AL QUE UN GRUPO DE VENEZOLANOS TIRARON DE UN PUENTE SOLO POR SER PERUANO emoji bandera perú emoji emoji cara de por favor emoji . JUSTICIA MI PERÚ emoji bandera perú emoji ESTA DE LUTO emoji cara de por favor emoji"
          ],
          [
           "@usuario @usuario Tan difícil es hacer una ley que cada vez que un inmigrante que comete más de 2 delitos es deportado a su país directamente? Y da igual si es menor o no esto ya es insoportable.."
          ],
          [
           "@usuario @usuario @usuario @usuario ¿Perder? viajar en México es una experiencia peligrosa para TODOS. Vivimos una crisis que afecta la economía y el desarrollo social. Hoy el gobierno no garantiza seguridad a los mexicanos ¿cómo exigir garantías para migrantes? ¿Quién pierde? Por favor"
          ],
          [
           "@usuario . Y lo 6 millones de colombianos que viven en Venezuela? Se te olvidó eso, asqueroso? Preocúpate por el Narco-tráfico en Colombia y los asesinatos a diario de líderes sindicales y no te me metas en los asuntos internos de Venezuela, entendiste, burro?"
          ],
          [
           "@usuario Esta es una incongruencia de lo progre. Recibir migrantes mola mucho en política, pero en la vida real es una putada recibirlos tan indiscriminadamente tanto para las personas como para las instituciones"
          ],
          [
           "@usuario Buen testimonio acerca de la diferencia entre migrantes honrados y enchufados huyendo (y lavando dinero mal habido). Con frecuencia a unos se los ve como problema, a otros como enigmas gasta plata respectivamente."
          ],
          [
           "México destinará 90 mdd anuales a Centroamérica para reducir migración. Y nuestro pueblo, muriendo en pasillos de hospitales públicos, por falta de atención y medicinas. El peor presidente en la historia de Mexico hashtag feliz domingo via El Universal url"
          ],
          [
           "@usuario @usuario @usuario @usuario @usuario @usuario @usuario @usuario @usuario @usuario @usuario @usuario Te puedo comentar que me parece un triunfo, lo que se acordó ya se estaba implantando de antemano aparte que era necesario y más para los mexicanos, porque ya era un abuso de la gente inmigrante, y se logró recursos para hacerlo, no somos trampolín para llegar a USA"
          ],
          [
           "@usuario Lo q aparentemente es progreso se volvió una bomba de tiempo. Si bien la baja mortalidad a nivel global se aplaude, sin control de natalidad q contrarrestre el aumento poblacional condena al 3er mundo a la miseria, enfermedades, violencia, migración masiva y destrucción ambiental"
          ],
          [
           "@usuario @usuario 1-Si Jadue es tan malo y va a destruir la economía entonces no van a venir inmigrantes, o sí? 2-Negociar implica que Chile recibirá recursos a cambio de una franja de costa, puede ser gas lo que ayudaría mucho a tener energía a bajo costo. 3-Expropiar a Ponce Lerou? Obvio."
          ],
          [
           "@usuario Hija de migrantes"
          ],
          [
           "@usuario Sos tan ignorante.. Peronismo, comunismo, dictadura, socialismo, todo para vos es lo mismo. Algo muy común en las personas q el único libro q leyeron en su vida es el del egoísmo y el del odio.. Son la inmigración más nefasta q podemos esperar en la Argentina, los vende patria"
          ],
          [
           "@usuario Qué cosa más terrible, amigo! Habrá 100 millones de inmigrantes y ciudades desaparecidas. Qué horror!"
          ],
          [
           "Tal cuál!! Que @usuario no quiera ver esa diferencia es otra cosa, será que las familias que sufren en éste momento la pérdida de un familiar gracias a un Venezolano su sentimiento es por Xenofobia? Noo es claro..son Delicuentes,punto"
          ],
          [
           "@usuario Todavia no leo ninguna propuesta seria de parte del gobierno o de pp oficialistas. Porque plantear reforzar las froteran militarizando estas y expulsion a ilegales no tiene nada de solución seria. El gobierno no tiene politica migratoria, no hay agenda y la ineptitud se nota"
          ],
          [
           "@usuario @usuario compañero @usuario ya es el momento de cerrar las fronteras hashtag cubacierralasfronteras,cuba pertenece al mundo , la prepotencia solo taerá muertes,por amor al pueblo por la memoria de nuestro comandante hashtag fidel vivo hashtag cierralasfronteras ya ,vas a matar al pueblo"
          ],
          [
           "@usuario @usuario @usuario @usuario @usuario Creo que cerrar las fronteras es urgente, ya en Colombia no cabe uno más"
          ],
          [
           "Tendrán que pagar muy caro esos animales de personas. hashtag justiciaparavictoria"
          ],
          [
           "@usuario Deberian cerrar frontera y cerrar hacia Artigas y Tacuarembó"
          ],
          [
           "¿Que tal? No hay recursos para guarderías y exámenes para recién nacidos pero si para migrantes. Lo cual no estaría mal, de no ser que primero deberían satisfacer las necesidades de los mexicanos.."
          ],
          [
           "Atizan la guerra y cierran las puertas a migrantes. ¿Importan las personas o.. petróleo?"
          ],
          [
           "@usuario No sabes lo que dices.. si el pais esta colapsado con los servicios publicos con la poca poblacion que queda.te imaginas en un dia los millones de migrantes retornando por favor no seas tan irrespondable con esa pluma."
          ],
          [
           "@usuario @usuario @usuario La violencia peruana me aterra. Me avergüenza ser peruana. Vivo en el extranjero y jamás viví esa hostilidad! Sepan diferenciar un delincuente de una persona decente y no generalicen! No todos los peruanos somos narcotraficantes ni todos los venezolanos son delincuentes."
          ],
          [
           "Mi tío está en Soacha y acaba de salir con palos a confrontar a los venecos, tengo el corazón a mil, qué mierda está pasando emoji cara llorando fuerte emoji"
          ],
          [
           "@usuario @usuario Amilcar..?? Ni argentino debes ser. Sos de los que cruzan la frontera para votar a cambio de un plan,seguro"
          ],
          [
           "@usuario @usuario El dia que se fue de PLR teniendo todo a su favor dejo la cagá, economía, terrorismo, corrupción, tráfico de inmigrantes..LO PEOR DEL SIGLO 21 EN CHILE."
          ],
          [
           "Personalmente no estoy en contra de los inmigrantes, al contrario porque creo que en la medida que llegue buena masa crítica a Chile, nos veremos todos favorecidos en el mediano y largo plazo. Llegaremos al desarrollo de la mano y apoyados por esos inmigrantes."
          ],
          [
           "@usuario El ataque no es personal es su desastre de apoyar acciones como la compra de los aviones y desamparar a los migrantes . Es su altanería ,prepotencia, incapacidad y abuso lo que nos molesta hashtag fuera jovel"
          ],
          [
           "Esto suena a: mi marido me quiere pero me pega por que lo merezco 🤦 emoji tono de piel claro emoji ‍ Entreguistas, nos está saliendo caro su firma del pacto migratorio emoji cara con símbolos en la boca emoji emoji cara con símbolos en la boca emoji emoji cara cabreada emoji emoji cara cabreada emoji hashtag amlo el fracaso presidencial hashtag transformacion de4ta hashtag cgx m"
          ],
          [
           "No tiene sentido tener como único socio comercial a un país que no nos respeta, nos culpa de migrantes que no depende de nosotros y de su pueblo drogadicto que tampoco, es tiempo de diversificar nuestros tratados con los más de 7 mil millones de habitantes restantes del mundo"
          ],
          [
           "@usuario @usuario @usuario @usuario @usuario @usuario @usuario @usuario En lugar de llamar a migrantes a q se devuelvan a luchar por su país, diciéndoles q se queden en Colombia! Cómo así?! Entonces no tenían ni la más mínima intención de recuperar su país y a Colombia le toca absorber responsabilidad de Maduro?"
          ],
          [
           "@usuario Cuando va ha asumir su participación en el tráfico de inmigrantes haitianos. Como lo confirma Juan Pablo letelier en radio bio bio. Usted tiene una deuda con el pueblo chileno que ha tenido que ver colapsados todos los servicios públicos. CARA DE RAJA."
          ],
          [
           "Nuestros políticos al parecer no logran dimensionar el problema y las consecuencias de la inmigración descontrolada. Este Martes 30 a las 20:00 invitamos a todos a tuitear acerca de este gran problema para Chile, te esperamos! url"
          ],
          [
           "@usuario Por favor Presidente, no habrá las fronteras, los de la costa del Uruguay, frontera con Brasil!"
          ]
         ],
         "hovertemplate": "predicted_label=ok<br>Prob_class0=%{x}<br>Prob_class1=%{y}<br>text=%{customdata[0]}<extra></extra>",
         "legendgroup": "ok",
         "marker": {
          "color": "#636efa",
          "symbol": "circle"
         },
         "mode": "markers",
         "name": "ok",
         "showlegend": true,
         "type": "scattergl",
         "x": [
          0.9998325109481812,
          0.9998971223831177,
          0.9999488592147827,
          0.999416708946228,
          0.9998899698257446,
          0.9998703002929688,
          0.9714801907539368,
          0.9829555153846741,
          0.9998705387115479,
          0.9999346733093262,
          0.9234939217567444,
          0.9990206956863403,
          0.9993333220481873,
          0.9999510049819946,
          0.9999232292175293,
          0.9997062087059021,
          0.9999589920043945,
          0.9999198913574219,
          0.5915601253509521,
          0.9990097284317017,
          0.9999624490737915,
          0.999321699142456,
          0.999951958656311,
          0.9998927116394043,
          0.9999817609786987,
          0.7628910541534424,
          0.9998533725738525,
          0.9999253749847412,
          0.9999314546585083,
          0.9998592138290405,
          0.9999045133590698,
          0.9995538592338562,
          0.9999210834503174,
          0.999903678894043,
          0.9999799728393555,
          0.9996404647827148,
          0.9380417466163635,
          0.9999799728393555,
          0.9994613528251648,
          0.8734763264656067,
          0.7485156655311584,
          0.999468982219696,
          0.9999736547470093,
          0.9993280172348022,
          0.9997143149375916,
          0.9999831914901733,
          0.9999678134918213,
          0.9862318634986877,
          0.9999721050262451,
          0.9931990504264832,
          0.9975565671920776,
          0.9998760223388672,
          0.9815658330917358,
          0.9997168183326721,
          0.9999818801879883,
          0.9998977184295654,
          0.9991975426673889,
          0.9999165534973145,
          0.9998026490211487,
          0.5544304251670837,
          0.9996694326400757,
          0.9999690055847168,
          0.9999173879623413,
          0.9993282556533813,
          0.9989396929740906,
          0.9997954964637756,
          0.9998993873596191,
          0.9998493194580078,
          0.8139122724533081,
          0.9995113611221313,
          0.9733884334564209,
          0.9997736811637878,
          0.9999215602874756,
          0.9999754428863525,
          0.9999406337738037,
          0.9999406337738037,
          0.9999494552612305,
          0.9945558309555054,
          0.7668923139572144,
          0.9991543292999268,
          0.9999396800994873,
          0.9997476935386658,
          0.9848278760910034,
          0.9999419450759888,
          0.999238133430481,
          0.9999659061431885,
          0.7858889698982239,
          0.99933260679245,
          0.9955458641052246,
          0.9996259212493896,
          0.9683759808540344,
          0.9996671676635742,
          0.9997757077217102,
          0.9997484087944031,
          0.999811589717865,
          0.9912480115890503,
          0.9999611377716064,
          0.9999047517776489,
          0.9709551930427551,
          0.9998893737792969,
          0.9998878240585327,
          0.9994826316833496,
          0.9997597336769104,
          0.9995195865631104,
          0.9995656609535217,
          0.8744262456893921,
          0.9995520710945129,
          0.9998772144317627,
          0.9998849630355835,
          0.9988497495651245,
          0.9999200105667114,
          0.8780953288078308,
          0.9998010993003845,
          0.9999243021011353,
          0.9998127818107605,
          0.9866669774055481,
          0.9999101161956787,
          0.9983664155006409,
          0.9995005130767822,
          0.9995243549346924,
          0.9997566342353821,
          0.999845027923584,
          0.9996885061264038,
          0.9999512434005737,
          0.9986498951911926,
          0.9996676445007324,
          0.9998526573181152,
          0.9999366998672485,
          0.9890308976173401,
          0.9998677968978882,
          0.9999293088912964,
          0.9964588284492493,
          0.9999567270278931,
          0.9998593330383301,
          0.5710655450820923,
          0.9999479055404663,
          0.9996134638786316,
          0.9994627833366394,
          0.9998359680175781,
          0.9999732971191406,
          0.9996071457862854,
          0.9997583031654358,
          0.9949564337730408,
          0.9998888969421387,
          0.9996209144592285,
          0.6602191925048828,
          0.6076544523239136,
          0.999854326248169,
          0.9998588562011719,
          0.9998487234115601,
          0.9995977282524109,
          0.8827258944511414,
          0.9998218417167664,
          0.9998900890350342,
          0.9997075200080872,
          0.9997193217277527,
          0.9998056292533875,
          0.9999767541885376,
          0.9992179870605469,
          0.9999358654022217,
          0.9999313354492188,
          0.998518168926239,
          0.9991531372070312,
          0.996435284614563,
          0.9985686540603638,
          0.9956580400466919,
          0.9859473705291748,
          0.9998559951782227,
          0.9999023675918579,
          0.9997549653053284,
          0.9961535334587097,
          0.9999638795852661,
          0.9155998826026917,
          0.9872224926948547,
          0.9999386072158813,
          0.9997760653495789,
          0.9999148845672607,
          0.998579740524292,
          0.6815950274467468,
          0.9934638142585754,
          0.9998397827148438,
          0.9999072551727295,
          0.9998102784156799,
          0.9998856782913208,
          0.9994714856147766,
          0.9990293979644775,
          0.9989987015724182,
          0.9857266545295715,
          0.999828577041626,
          0.9998226761817932,
          0.9943864345550537,
          0.9998593330383301,
          0.9990966320037842,
          0.9999188184738159,
          0.9993085861206055,
          0.9997383952140808,
          0.9990847110748291,
          0.7279908657073975,
          0.9999617338180542,
          0.9998323917388916,
          0.9999563694000244,
          0.9933063387870789,
          0.9944287538528442,
          0.9983806610107422,
          0.9987353682518005,
          0.9999768733978271,
          0.9996521472930908,
          0.9999326467514038,
          0.999754011631012,
          0.9998728036880493,
          0.9999724626541138,
          0.9998984336853027,
          0.9997684359550476,
          0.9997747540473938,
          0.9994383454322815,
          0.9998606443405151,
          0.9999121427536011,
          0.9422187209129333,
          0.974237859249115,
          0.9863303899765015,
          0.9985600113868713,
          0.9997380375862122,
          0.9999432563781738,
          0.999935507774353,
          0.9995761513710022,
          0.9999399185180664,
          0.9998217225074768,
          0.9999043941497803,
          0.9981706142425537,
          0.9983460903167725,
          0.9998892545700073,
          0.9977002739906311,
          0.8139660358428955,
          0.9997020363807678,
          0.999315619468689,
          0.9999243021011353,
          0.9997711777687073,
          0.9986134767532349,
          0.9201537370681763,
          0.9305253624916077,
          0.9998217225074768,
          0.9998769760131836,
          0.9999343156814575,
          0.9992129802703857,
          0.9995417594909668,
          0.9998961687088013,
          0.9998346567153931,
          0.935104489326477,
          0.9745067954063416,
          0.9996812343597412,
          0.9999340772628784,
          0.9992602467536926,
          0.99937504529953,
          0.9999814033508301,
          0.9999332427978516,
          0.9819084405899048,
          0.9987753033638,
          0.9996108412742615,
          0.9999457597732544,
          0.508840024471283,
          0.9988017082214355,
          0.7579089999198914,
          0.9998977184295654,
          0.9996697902679443,
          0.9998626708984375,
          0.9999551773071289,
          0.9997161030769348,
          0.9997079968452454,
          0.9998822212219238,
          0.9999374151229858,
          0.9998940229415894,
          0.9991679191589355,
          0.9998897314071655,
          0.9981390237808228,
          0.9999686479568481,
          0.9994662404060364,
          0.9997287392616272,
          0.9998047947883606,
          0.9987581968307495,
          0.9997884631156921,
          0.999617338180542,
          0.9757317900657654,
          0.9998531341552734,
          0.9999706745147705,
          0.9764065146446228,
          0.7870431542396545,
          0.9953482747077942,
          0.9999439716339111,
          0.9999445676803589,
          0.9998970031738281,
          0.6333577632904053,
          0.9992547631263733,
          0.9999030828475952,
          0.9972266554832458,
          0.9999034404754639,
          0.9998403787612915,
          0.9996187686920166,
          0.8223044276237488,
          0.9998200535774231,
          0.9999083280563354,
          0.6629338264465332,
          0.9999217987060547,
          0.9997065663337708,
          0.9996864795684814,
          0.9999252557754517,
          0.999974250793457,
          0.9983410835266113,
          0.9993473887443542,
          0.9999815225601196,
          0.9999591112136841,
          0.9981133937835693,
          0.99953293800354,
          0.9963647723197937,
          0.9997979998588562,
          0.9999532699584961,
          0.9996477365493774,
          0.9998034834861755,
          0.9999278783798218,
          0.9994271993637085,
          0.9927778840065002,
          0.9999428987503052,
          0.9999618530273438,
          0.9963370561599731,
          0.9999066591262817,
          0.9863688945770264,
          0.999879002571106,
          0.9996405839920044,
          0.998547375202179,
          0.8605220913887024,
          0.9999818801879883,
          0.9998910427093506,
          0.9996981620788574,
          0.9999815225601196,
          0.9898862838745117,
          0.9999414682388306,
          0.9488727450370789,
          0.9917168021202087,
          0.9990836381912231,
          0.996013879776001,
          0.9998194575309753,
          0.9998888969421387,
          0.9998785257339478,
          0.9265066385269165,
          0.9986453652381897,
          0.9995317459106445,
          0.9999698400497437,
          0.9717978835105896,
          0.9999508857727051,
          0.9947713017463684,
          0.9999024868011475,
          0.9998685121536255,
          0.9936785101890564,
          0.9999240636825562,
          0.9998928308486938,
          0.9987162351608276,
          0.9995566010475159,
          0.9965657591819763,
          0.9999638795852661,
          0.9997703433036804,
          0.9982960820198059,
          0.9998557567596436,
          0.9999568462371826,
          0.9998846054077148,
          0.9998835325241089,
          0.9996423721313477,
          0.9956377148628235,
          0.9998063445091248,
          0.9988642930984497,
          0.9773930907249451,
          0.9997580647468567,
          0.9998736381530762,
          0.9917243123054504,
          0.992553174495697,
          0.999829888343811,
          0.999881386756897,
          0.999843955039978,
          0.988839328289032,
          0.9852142930030823,
          0.9999374151229858,
          0.999636173248291,
          0.9931197166442871,
          0.9995953440666199,
          0.9992031455039978,
          0.9997913241386414,
          0.9998492002487183,
          0.9993919134140015,
          0.999828577041626,
          0.9800422787666321,
          0.9992658495903015,
          0.9998971223831177,
          0.9998928308486938,
          0.9995323419570923,
          0.9972313046455383,
          0.9999173879623413,
          0.9999752044677734,
          0.6748015880584717,
          0.9998912811279297,
          0.9998577833175659,
          0.99993896484375,
          0.9999797344207764,
          0.9844676852226257,
          0.9995607733726501,
          0.9999082088470459,
          0.9999033212661743,
          0.9999526739120483,
          0.9860408902168274,
          0.9998859167098999,
          0.9999111890792847,
          0.7403019070625305,
          0.9816328287124634,
          0.9999020099639893,
          0.9999054670333862,
          0.9997174143791199,
          0.9990847110748291,
          0.9998010993003845,
          0.9979088306427002,
          0.999893307685852,
          0.9957308173179626,
          0.999896764755249,
          0.9997835755348206,
          0.999650239944458,
          0.9953922033309937,
          0.9980202913284302,
          0.9999788999557495,
          0.9870439171791077,
          0.9938036203384399,
          0.9998927116394043,
          0.9997352957725525,
          0.9989320635795593,
          0.9997794032096863,
          0.9999308586120605,
          0.9999152421951294,
          0.9997695088386536,
          0.8133388161659241,
          0.9885657429695129,
          0.999803364276886,
          0.9119945764541626,
          0.9999812841415405,
          0.9998189806938171,
          0.9996411800384521,
          0.9999144077301025,
          0.5015189051628113,
          0.9994235038757324,
          0.999919056892395,
          0.9998754262924194,
          0.9999648332595825,
          0.9993414282798767,
          0.9986948370933533,
          0.9997612833976746,
          0.9998893737792969,
          0.9998356103897095,
          0.9871770143508911,
          0.9993158578872681,
          0.9995874762535095,
          0.9987461566925049,
          0.9997355341911316,
          0.9978013634681702,
          0.9972078204154968,
          0.9543092250823975,
          0.9999210834503174,
          0.9998401403427124,
          0.9999362230300903,
          0.999784529209137,
          0.9998998641967773,
          0.9998401403427124,
          0.7396403551101685,
          0.9992930889129639,
          0.9997051358222961,
          0.9968315958976746,
          0.9999144077301025,
          0.9999345541000366,
          0.9999053478240967,
          0.9999327659606934,
          0.999754011631012,
          0.9999433755874634,
          0.9998992681503296,
          0.9999358654022217,
          0.999804675579071,
          0.999367892742157,
          0.9993444085121155,
          0.9998548030853271,
          0.9999178647994995,
          0.6300917267799377,
          0.9998502731323242,
          0.9989392161369324,
          0.9997245669364929,
          0.9998958110809326,
          0.9996408224105835,
          0.9998935461044312,
          0.999931812286377,
          0.9998923540115356,
          0.9994732737541199,
          0.9997236132621765,
          0.9862384796142578,
          0.99974125623703,
          0.9999611377716064,
          0.9997758269309998,
          0.9998663663864136,
          0.9998026490211487,
          0.9014057517051697,
          0.9999781847000122,
          0.9951723217964172,
          0.9528775811195374,
          0.9999712705612183,
          0.9997860789299011,
          0.9998999834060669,
          0.9988253712654114,
          0.9998338222503662,
          0.9997114539146423,
          0.997925877571106,
          0.9999086856842041,
          0.999809205532074,
          0.9997335076332092,
          0.9672979712486267,
          0.9994490742683411,
          0.997646152973175,
          0.9986717700958252,
          0.9993709921836853,
          0.9998637437820435,
          0.9993184804916382,
          0.999957799911499,
          0.9981449842453003,
          0.9998797178268433,
          0.9999145269393921,
          0.911350429058075,
          0.999976396560669,
          0.9998395442962646,
          0.9989884495735168,
          0.9997640252113342,
          0.9999009370803833,
          0.9920028448104858,
          0.9997878670692444,
          0.99687260389328,
          0.9999171495437622,
          0.9986910223960876,
          0.9284245371818542,
          0.9995947480201721,
          0.9966183304786682,
          0.9998962879180908,
          0.9999562501907349,
          0.9999480247497559,
          0.999836802482605,
          0.9992695450782776,
          0.9997946619987488,
          0.9947671890258789,
          0.9998854398727417,
          0.9993417859077454,
          0.9998944997787476,
          0.9999215602874756,
          0.9819689393043518,
          0.9999696016311646,
          0.9994518160820007,
          0.9998798370361328,
          0.9994632601737976,
          0.9987702965736389,
          0.9999827146530151,
          0.9999822378158569,
          0.9981353282928467,
          0.9999078512191772,
          0.6955111026763916,
          0.9499841332435608,
          0.9998817443847656,
          0.9995719790458679,
          0.9981655478477478,
          0.9999020099639893,
          0.9998165965080261,
          0.9999116659164429,
          0.9940506815910339,
          0.9992844462394714,
          0.9997300505638123,
          0.9998972415924072,
          0.9999386072158813,
          0.9999663829803467,
          0.999915361404419,
          0.9997751116752625,
          0.9998774528503418,
          0.9999064207077026,
          0.9999147653579712,
          0.9996140599250793,
          0.999858021736145,
          0.999756395816803,
          0.9998834133148193,
          0.9999587535858154,
          0.9998452663421631,
          0.9991971850395203,
          0.999891996383667,
          0.9997926354408264,
          0.9987577199935913,
          0.9999337196350098,
          0.9996294975280762,
          0.9867021441459656,
          0.9998680353164673,
          0.9997004270553589,
          0.9998788833618164,
          0.9999550580978394,
          0.9999189376831055,
          0.995496392250061,
          0.9997979998588562,
          0.9984834790229797,
          0.9995342493057251,
          0.9996954202651978,
          0.9999188184738159,
          0.9990153312683105,
          0.9999446868896484,
          0.9999727010726929,
          0.9987891316413879,
          0.9998154044151306,
          0.9957544803619385,
          0.9998853206634521,
          0.9997100234031677,
          0.9881988763809204,
          0.9999270439147949,
          0.999903678894043,
          0.9999440908432007,
          0.999862551689148,
          0.99978107213974,
          0.9999419450759888,
          0.995594322681427,
          0.9943285584449768,
          0.9999361038208008,
          0.9945946335792542,
          0.9999690055847168,
          0.8066485524177551,
          0.8745579719543457,
          0.9999257326126099,
          0.9807615876197815,
          0.9997218251228333,
          0.9991925358772278,
          0.9999825954437256,
          0.9997952580451965,
          0.9998288154602051,
          0.9994282126426697,
          0.9998695850372314,
          0.9997528195381165,
          0.9998278617858887,
          0.9999687671661377,
          0.9997538924217224,
          0.9998538494110107,
          0.9998263716697693,
          0.9990599751472473,
          0.9996752738952637,
          0.9975484013557434,
          0.9879557490348816,
          0.9995905756950378,
          0.9999773502349854,
          0.999742329120636,
          0.9994279742240906,
          0.9998282194137573,
          0.9905242323875427,
          0.9999563694000244,
          0.765261709690094,
          0.999954104423523,
          0.9999103546142578,
          0.9999382495880127,
          0.9993756413459778,
          0.8425993323326111,
          0.9999464750289917,
          0.9994356036186218,
          0.9958244562149048,
          0.9998823404312134,
          0.9998962879180908,
          0.9999698400497437,
          0.9997746348381042,
          0.943379282951355,
          0.8950712084770203,
          0.9985648989677429,
          0.9999356269836426,
          0.9662612676620483,
          0.9998235106468201,
          0.9998424053192139,
          0.8970550894737244,
          0.9999339580535889,
          0.99985671043396,
          0.9998002648353577,
          0.8755331039428711,
          0.9993852376937866,
          0.9973366856575012,
          0.9999032020568848,
          0.9991896748542786,
          0.9997432827949524,
          0.9995579123497009,
          0.9999105930328369,
          0.9995985627174377,
          0.8799135088920593,
          0.9998236298561096,
          0.999359667301178,
          0.9999803304672241,
          0.9977496266365051,
          0.9999500513076782,
          0.9996862411499023,
          0.967742383480072,
          0.9955109357833862,
          0.9999539852142334,
          0.9999741315841675,
          0.9995774626731873,
          0.9998540878295898,
          0.9999507665634155,
          0.9999315738677979,
          0.9947063326835632,
          0.9988527297973633,
          0.9999101161956787,
          0.9998742341995239,
          0.9997796416282654,
          0.7833990454673767,
          0.8404331803321838,
          0.9999500513076782,
          0.998479425907135,
          0.9999579191207886,
          0.9952167272567749,
          0.9987989664077759,
          0.9997887015342712,
          0.9995036125183105,
          0.9995757937431335,
          0.9999204874038696,
          0.9990456700325012,
          0.9999547004699707,
          0.9994679093360901,
          0.990462601184845,
          0.9969935417175293,
          0.9999140501022339,
          0.9998260140419006,
          0.9999184608459473,
          0.9998364448547363,
          0.9998002648353577,
          0.9996180534362793,
          0.9998838901519775,
          0.9998996257781982,
          0.9986491799354553,
          0.999861478805542,
          0.6801381707191467,
          0.9998773336410522,
          0.9999731779098511,
          0.997060239315033,
          0.9999620914459229,
          0.9997790455818176,
          0.9998332262039185,
          0.99937903881073,
          0.999395489692688,
          0.9995734095573425,
          0.999862790107727,
          0.9998971223831177,
          0.9483497738838196,
          0.9999634027481079,
          0.9996637105941772,
          0.9999383687973022,
          0.66107177734375,
          0.9363163709640503,
          0.999962329864502,
          0.9999794960021973,
          0.9998087286949158,
          0.9852834939956665,
          0.9999477863311768,
          0.8630388379096985,
          0.999413251876831,
          0.9998927116394043,
          0.9998524188995361,
          0.9853774905204773,
          0.9998807907104492,
          0.9762393236160278,
          0.9999226331710815,
          0.9998588562011719,
          0.9999462366104126,
          0.9999558925628662,
          0.9999551773071289,
          0.9996472597122192,
          0.999457061290741,
          0.8255646824836731,
          0.999805748462677,
          0.9998370409011841,
          0.9993830919265747,
          0.9981679916381836,
          0.9996880292892456,
          0.9995020627975464,
          0.9999004602432251,
          0.9997835755348206,
          0.6502781510353088,
          0.9998878240585327,
          0.999931812286377,
          0.999832272529602,
          0.9996243715286255,
          0.999889612197876,
          0.8611785769462585,
          0.9999202489852905,
          0.9999514818191528,
          0.9997716546058655,
          0.9999498128890991,
          0.9999499320983887,
          0.9997944235801697,
          0.9967195391654968,
          0.9998620748519897,
          0.9999665021896362,
          0.9995362758636475,
          0.9996764659881592,
          0.99985671043396,
          0.9954985976219177,
          0.9999583959579468,
          0.5549315810203552,
          0.9997655749320984,
          0.9985260963439941,
          0.9901283383369446,
          0.9999412298202515,
          0.9991057515144348,
          0.9996684789657593,
          0.9999514818191528,
          0.9998714923858643,
          0.9994277358055115,
          0.987900972366333,
          0.9998384714126587,
          0.9997181296348572,
          0.9994907379150391,
          0.9939256310462952,
          0.9999234676361084,
          0.9996132254600525,
          0.9445813894271851,
          0.9968428611755371,
          0.9998360872268677,
          0.9667770862579346,
          0.9987366795539856,
          0.9999843835830688,
          0.9994174242019653,
          0.999524712562561,
          0.9999760389328003,
          0.9998766183853149,
          0.9939578771591187,
          0.9997004270553589,
          0.9997594952583313,
          0.9999146461486816,
          0.9999034404754639,
          0.9996576309204102,
          0.9997645020484924,
          0.9971805810928345,
          0.9999502897262573,
          0.9986832737922668,
          0.9999244213104248,
          0.9954688549041748,
          0.999963641166687,
          0.9153473377227783,
          0.999923825263977,
          0.9996122717857361,
          0.9979352951049805,
          0.9998729228973389,
          0.9998675584793091,
          0.9999645948410034,
          0.9921128749847412,
          0.9995205402374268,
          0.9090655446052551,
          0.999832272529602,
          0.9999322891235352,
          0.9999656677246094,
          0.9996482133865356,
          0.9995810389518738,
          0.9998985528945923,
          0.9999648332595825,
          0.9999724626541138,
          0.9996016621589661,
          0.999981164932251,
          0.9201686382293701,
          0.9993584752082825,
          0.9999276399612427,
          0.9998571872711182,
          0.994239330291748,
          0.9904317259788513,
          0.992984414100647,
          0.999782145023346,
          0.9997221827507019,
          0.9999408721923828,
          0.9996034502983093,
          0.9999744892120361,
          0.9989702701568604,
          0.7173700332641602,
          0.9995719790458679,
          0.9999573230743408,
          0.9997203946113586,
          0.9998177886009216,
          0.999870777130127,
          0.9999490976333618,
          0.99988853931427,
          0.9950789213180542,
          0.9991598129272461,
          0.9997676014900208,
          0.9448293447494507,
          0.9996569156646729,
          0.9997535347938538,
          0.9732609391212463,
          0.9999507665634155,
          0.9975382089614868,
          0.9998456239700317,
          0.9999544620513916,
          0.9998908042907715,
          0.9998266100883484,
          0.9999412298202515,
          0.9997034668922424,
          0.9972079396247864,
          0.9998960494995117,
          0.9841375350952148,
          0.99986732006073,
          0.9999381303787231,
          0.999886155128479,
          0.9999663829803467,
          0.6980443596839905,
          0.9739053249359131,
          0.9999604225158691,
          0.9383320808410645,
          0.9999061822891235,
          0.9998651742935181,
          0.9998370409011841,
          0.9999618530273438,
          0.9999784231185913,
          0.9999426603317261,
          0.9999133348464966,
          0.9998214840888977,
          0.9999403953552246,
          0.9997960925102234,
          0.9999526739120483,
          0.9998533725738525,
          0.9981653094291687,
          0.9998832941055298,
          0.7396403551101685,
          0.9963979721069336,
          0.9999314546585083,
          0.9994100332260132,
          0.9998736381530762,
          0.998095691204071,
          0.995625376701355,
          0.9989268183708191,
          0.9998754262924194,
          0.9999337196350098,
          0.9995614886283875,
          0.9991216063499451,
          0.9548119306564331,
          0.9997856020927429,
          0.9998125433921814,
          0.9998358488082886,
          0.9999587535858154,
          0.9999288320541382
         ],
         "xaxis": "x",
         "y": [
          0.00016741646686568856,
          0.0001028264086926356,
          0.000051114529924234375,
          0.0005833438481204212,
          0.00010999795631505549,
          0.0001296969858231023,
          0.028519785031676292,
          0.017044518142938614,
          0.00012944565969519317,
          0.0000653268798487261,
          0.07650603353977203,
          0.0009793461067602038,
          0.00066659803269431,
          0.00004900607746094465,
          0.00007679526606807485,
          0.000293724617222324,
          0.00004102727325516753,
          0.00008013506885617971,
          0.40843987464904785,
          0.0009902979945763946,
          0.000037604590033879504,
          0.0006782663986086845,
          0.00004800036549568176,
          0.00010733237286331132,
          0.00001821900877985172,
          0.2371089905500412,
          0.00014666200149804354,
          0.00007457592437276617,
          0.00006854924140498042,
          0.00014073887723498046,
          0.00009550358663545921,
          0.0004460899217519909,
          0.00007886021194281057,
          0.00009635044261813164,
          0.000019975026589236222,
          0.0003595547459553927,
          0.06195825710892677,
          0.00001997268191189505,
          0.0005386783159337938,
          0.1265237182378769,
          0.25148436427116394,
          0.0005310106207616627,
          0.000026316551156924106,
          0.000671971298288554,
          0.00028562353691086173,
          0.000016808733562356792,
          0.000032182633731281385,
          0.013768177479505539,
          0.00002793577004922554,
          0.006800977047532797,
          0.002443428849801421,
          0.00012393937504384667,
          0.018434185534715652,
          0.00028316647512838244,
          0.00001811131187423598,
          0.00010229887993773445,
          0.0008024264825507998,
          0.00008339330088347197,
          0.00019737407274078578,
          0.44556954503059387,
          0.00033054480445571244,
          0.00003102892151218839,
          0.0000826552786747925,
          0.0006718260701745749,
          0.0010603205300867558,
          0.0002044924913207069,
          0.00010057588951895013,
          0.00015068733773659915,
          0.1860877275466919,
          0.0004885881789959967,
          0.02661154232919216,
          0.00022635796631220728,
          0.00007842569903004915,
          0.00002456380389048718,
          0.000059335776313673705,
          0.000059344718465581536,
          0.0000505773386976216,
          0.005444222595542669,
          0.23310767114162445,
          0.000845614296849817,
          0.0000602764448558446,
          0.0002523055300116539,
          0.01517213974148035,
          0.000058024168538395315,
          0.0007618686649948359,
          0.00003404796007089317,
          0.21411104500293732,
          0.0006673933821730316,
          0.004454075824469328,
          0.0003740477841347456,
          0.031624022871255875,
          0.0003327891754452139,
          0.00022432953119277954,
          0.0002516244712751359,
          0.0001883822405943647,
          0.008751904591917992,
          0.0000388892185583245,
          0.00009521649189991876,
          0.0290448609739542,
          0.0001105738410842605,
          0.00011213589459657669,
          0.0005173330428078771,
          0.0002402323007117957,
          0.0004804240888915956,
          0.00043433517566882074,
          0.1255737543106079,
          0.00044785832869820297,
          0.00012280930241104215,
          0.0001150697935372591,
          0.0011501942062750459,
          0.00008000816160347313,
          0.121904656291008,
          0.00019897054880857468,
          0.00007568063301732764,
          0.00018727386486716568,
          0.013333024457097054,
          0.00008987409819383174,
          0.0016335773980244994,
          0.0004994271439500153,
          0.00047571671893820167,
          0.00024337018840014935,
          0.00015492754755541682,
          0.00031154000316746533,
          0.00004880088090430945,
          0.0013500815257430077,
          0.000332380790496245,
          0.00014733578427694738,
          0.00006334779754979536,
          0.01096915453672409,
          0.00013216756633482873,
          0.00007069216371746734,
          0.0035411773715168238,
          0.00004323534085415304,
          0.00014062404807191342,
          0.4289344549179077,
          0.00005213674376136623,
          0.0003865707549266517,
          0.0005372846499085426,
          0.00016398706065956503,
          0.000026702047762228176,
          0.0003928461519535631,
          0.00024172158737201244,
          0.005043582990765572,
          0.0001110803714254871,
          0.00037911051185801625,
          0.3397807776927948,
          0.39234548807144165,
          0.00014569702034350485,
          0.00014106523303780705,
          0.0001512673479737714,
          0.0004023034416604787,
          0.11727404594421387,
          0.00017815863247960806,
          0.00010991575254593045,
          0.00029248278588056564,
          0.0002806989650707692,
          0.00019434782734606415,
          0.000023212343876366504,
          0.0007819377351552248,
          0.00006408290937542915,
          0.00006867355841677636,
          0.0014818678610026836,
          0.0008468654123134911,
          0.003564727259799838,
          0.001431318698450923,
          0.0043419902212917805,
          0.01405259594321251,
          0.0001440318301320076,
          0.00009760355169419199,
          0.0002450062020216137,
          0.0038464737590402365,
          0.000036125285987509415,
          0.08440014719963074,
          0.012777544558048248,
          0.00006142186612123623,
          0.00022392006940208375,
          0.00008515521767549217,
          0.0014202141901478171,
          0.31840500235557556,
          0.006536186207085848,
          0.00016017943562474102,
          0.00009276778291678056,
          0.0001897470938274637,
          0.00011434896441642195,
          0.0005285186925902963,
          0.0009706523269414902,
          0.001001281081698835,
          0.014273364096879959,
          0.00017141815624199808,
          0.00017738231690600514,
          0.005613618530333042,
          0.00014062404807191342,
          0.0009033796959556639,
          0.00008112150680972263,
          0.0006914410041645169,
          0.00026159005938097835,
          0.0009153246646746993,
          0.27200913429260254,
          0.00003827449108939618,
          0.00016762477753218263,
          0.00004368397640064359,
          0.006693726405501366,
          0.005571307148784399,
          0.0016193490009754896,
          0.0012646833201870322,
          0.000023167540348367766,
          0.0003478478465694934,
          0.00006732207111781463,
          0.0002459466049913317,
          0.00012717963545583189,
          0.00002754588240350131,
          0.00010152144386665896,
          0.0002316181780770421,
          0.00022530440764967352,
          0.0005616580601781607,
          0.0001392964186379686,
          0.00008780013013165444,
          0.05778128281235695,
          0.025762131437659264,
          0.013669590465724468,
          0.0014400554355233908,
          0.00026191648794338107,
          0.0000567627175769303,
          0.00006451371882576495,
          0.00042388233123347163,
          0.00006011583172949031,
          0.0001783576881280169,
          0.00009561210754327476,
          0.0018293294124305248,
          0.001653968938626349,
          0.00011072472989326343,
          0.002299752552062273,
          0.1860339343547821,
          0.0002979752025566995,
          0.0006843679584562778,
          0.00007573413313366473,
          0.00022878943127579987,
          0.0013865187065675855,
          0.0798463374376297,
          0.06947463750839233,
          0.00017835412290878594,
          0.00012296841305214912,
          0.00006566972297150642,
          0.0007870187982916832,
          0.0004582943511195481,
          0.00010385540372226387,
          0.00016528530977666378,
          0.06489558517932892,
          0.025493234395980835,
          0.00031874136766418815,
          0.00006596666207769886,
          0.0007397226872853935,
          0.0006249620928429067,
          0.000018582273696665652,
          0.00006677533383481205,
          0.01809152588248253,
          0.0012247249251231551,
          0.0003891656524501741,
          0.000054213160183280706,
          0.4911600351333618,
          0.0011982355499640107,
          0.24209100008010864,
          0.00010232571366941556,
          0.00033027082099579275,
          0.0001373517734464258,
          0.000044797332520829514,
          0.00028384599136188626,
          0.0002919545513577759,
          0.00011780478962464258,
          0.00006258588109631091,
          0.00010593081242404878,
          0.0008320639608427882,
          0.00011027753498638049,
          0.0018609148683026433,
          0.00003134049256914295,
          0.0005337996990419924,
          0.00027120349113829434,
          0.00019518945191521198,
          0.0012417772086337209,
          0.00021159221068955958,
          0.00038264284376055,
          0.024268249049782753,
          0.00014685693895444274,
          0.000029329936296562664,
          0.023593517020344734,
          0.21295684576034546,
          0.004651700146496296,
          0.00005601232987828553,
          0.00005547199907596223,
          0.00010296682012267411,
          0.3666422665119171,
          0.0007451677229255438,
          0.00009685201803222299,
          0.002773354295641184,
          0.0000965692670433782,
          0.00015958760923240334,
          0.00038118468364700675,
          0.17769552767276764,
          0.0001799965975806117,
          0.00009168955875793472,
          0.3370662331581116,
          0.00007820874452590942,
          0.00029337001615203917,
          0.00031352019868791103,
          0.00007479672058252618,
          0.000025797542548389174,
          0.001658885390497744,
          0.0006525592762045562,
          0.000018429809642839245,
          0.00004092317612958141,
          0.0018865696620196104,
          0.00046711182221770287,
          0.003635294269770384,
          0.00020207144552841783,
          0.000046744557039346546,
          0.00035227552871219814,
          0.0001965417613973841,
          0.0000720839379937388,
          0.00057279656175524,
          0.007222061511129141,
          0.0000571332493564114,
          0.00003814404408331029,
          0.003662928706035018,
          0.00009338686504634097,
          0.013631115667521954,
          0.00012099654850317165,
          0.00035936932545155287,
          0.0014525805599987507,
          0.13947783410549164,
          0.00001807974695111625,
          0.00010893035505432636,
          0.0003018889983650297,
          0.000018442346117808484,
          0.010113728232681751,
          0.00005852821414009668,
          0.05112726241350174,
          0.008283227682113647,
          0.0009163900977000594,
          0.0039861928671598434,
          0.00018057193665299565,
          0.00011109699698863551,
          0.00012148731184424832,
          0.07349330931901932,
          0.001354695181362331,
          0.0004682274011429399,
          0.000030141845854814164,
          0.028202088549733162,
          0.00004905844616587274,
          0.005228692665696144,
          0.00009751499601406977,
          0.00013143774413038045,
          0.006321519613265991,
          0.00007595392526127398,
          0.00010716781252995133,
          0.0012837272370234132,
          0.0004434128641150892,
          0.0034343255683779716,
          0.00003608256156439893,
          0.00022971711587160826,
          0.0017039086669683456,
          0.0001442388165742159,
          0.000043121774069732055,
          0.00011535036901477724,
          0.00011643980542430654,
          0.0003576582530513406,
          0.004362359642982483,
          0.00019363699539098889,
          0.0011357048060745,
          0.022606894373893738,
          0.00024189379473682493,
          0.00012635740858968347,
          0.008275686763226986,
          0.0074468571692705154,
          0.00017005439440254122,
          0.00011858470679726452,
          0.00015605644148308784,
          0.011160619556903839,
          0.014785685576498508,
          0.00006259966903598979,
          0.0003637668851297349,
          0.006880306638777256,
          0.0004046774411108345,
          0.0007969308062456548,
          0.00020866311388090253,
          0.00015076853742357343,
          0.0006080953171476722,
          0.00017140654381364584,
          0.01995772309601307,
          0.0007341644959524274,
          0.00010283916344633326,
          0.00010717159602791071,
          0.0004676738753914833,
          0.002768739592283964,
          0.00008263959898613393,
          0.000024782249965937808,
          0.3251984119415283,
          0.00010875516454689205,
          0.0001421978959115222,
          0.00006097959339967929,
          0.00002029798270086758,
          0.015532254241406918,
          0.00043925296631641686,
          0.0000918120495043695,
          0.00009666416008258238,
          0.00004737819472211413,
          0.01395911630243063,
          0.0001141108587034978,
          0.00008877021900843829,
          0.25969812273979187,
          0.0183672234416008,
          0.00009802329441299662,
          0.00009448855416849256,
          0.0002825101255439222,
          0.0009152465499937534,
          0.00019891535339411348,
          0.002091227797791362,
          0.00010662521526683122,
          0.0042691342532634735,
          0.00010320560249965638,
          0.0002164914330933243,
          0.0003497483558021486,
          0.004607853014022112,
          0.001979738473892212,
          0.00002110129025822971,
          0.012956109829246998,
          0.006196410395205021,
          0.00010728570487117395,
          0.00026474444894120097,
          0.0010678916005417705,
          0.00022065873781684786,
          0.00006915599078638479,
          0.0000847048286232166,
          0.00023051595780998468,
          0.1866612434387207,
          0.011434320360422134,
          0.000196630964637734,
          0.08800546824932098,
          0.000018729067960521206,
          0.0001810665853554383,
          0.00035883940290659666,
          0.00008558839181205258,
          0.49848103523254395,
          0.0005765592795796692,
          0.00008088097092695534,
          0.0001245794555870816,
          0.00003521936014294624,
          0.000658579112496227,
          0.0013051839778199792,
          0.00023866113042458892,
          0.00011058027303079143,
          0.00016436715668532997,
          0.012822977267205715,
          0.0006841341964900494,
          0.0004125129198655486,
          0.001253839465789497,
          0.00026448434800840914,
          0.00219867005944252,
          0.0027921157889068127,
          0.04569079726934433,
          0.00007890617416705936,
          0.0001598224334884435,
          0.00006379086698871106,
          0.00021546075004152954,
          0.00010017112799687311,
          0.0001597902737557888,
          0.26035964488983154,
          0.0007068314589560032,
          0.0002948893525172025,
          0.003168357303366065,
          0.0000855321777635254,
          0.00006546607619384304,
          0.00009462507296120748,
          0.00006721256795572117,
          0.00024593487614765763,
          0.0000566078961128369,
          0.00010069998097606003,
          0.00006408364424714819,
          0.00019535535830073059,
          0.0006321130786091089,
          0.0006556022563017905,
          0.00014520715922117233,
          0.00008209722727769986,
          0.36990833282470703,
          0.00014971157361287624,
          0.001060763606801629,
          0.00027539118309505284,
          0.00010412153642391786,
          0.00035912322346121073,
          0.00010644429130479693,
          0.00006816678796894848,
          0.00010764498438220471,
          0.0005267963279038668,
          0.00027633592253550887,
          0.01376148872077465,
          0.00025871803518384695,
          0.000038816149753984064,
          0.000224124058149755,
          0.00013359071454033256,
          0.00019737407274078578,
          0.09859424084424973,
          0.00002183256219723262,
          0.004827705677598715,
          0.04712247848510742,
          0.000028740341804223135,
          0.0002138789714081213,
          0.00009998922178056091,
          0.001174671808257699,
          0.00016617309302091599,
          0.000288499693851918,
          0.0020741266198456287,
          0.00009130391117651016,
          0.0001908302801894024,
          0.00026644408353604376,
          0.03270208090543747,
          0.0005508906324394047,
          0.002353812800720334,
          0.0013282601721584797,
          0.000628973706625402,
          0.00013628212036564946,
          0.0006815425585955381,
          0.00004215911394567229,
          0.0018550573149695992,
          0.00012025899923173711,
          0.00008548627374693751,
          0.08864955604076385,
          0.00002358273559366353,
          0.0001604295102879405,
          0.0010115071199834347,
          0.0002360079815844074,
          0.00009904556645778939,
          0.007997182197868824,
          0.00021210667910054326,
          0.0031274640932679176,
          0.00008288006210932508,
          0.001308940933085978,
          0.07157547771930695,
          0.00040526926750317216,
          0.003381716087460518,
          0.0001036891553667374,
          0.00004371764589450322,
          0.00005197510836296715,
          0.00016322080045938492,
          0.0007304598693735898,
          0.0002053143980447203,
          0.00523278396576643,
          0.00011453578190412372,
          0.0006582512869499624,
          0.00010546798148425296,
          0.00007839548925403506,
          0.01803107187151909,
          0.000030446723030763678,
          0.0005482210544869304,
          0.00012019171117572114,
          0.0005366902914829552,
          0.0012297010980546474,
          0.000017248275980819017,
          0.0000177355050254846,
          0.0018645958043634892,
          0.00009212301665684208,
          0.3044888973236084,
          0.05001584812998772,
          0.00011826535774162039,
          0.0004280280554667115,
          0.0018344712443649769,
          0.00009794349170988426,
          0.00018337425717618316,
          0.00008836112829158083,
          0.005949283484369516,
          0.0007155248895287514,
          0.00026997935492545366,
          0.00010271400242345408,
          0.00006141870107967407,
          0.00003359365291544236,
          0.00008464314305456355,
          0.00022487387468572706,
          0.00012254025205038488,
          0.00009356914961244911,
          0.00008517876267433167,
          0.0003859605931211263,
          0.00014201633166521788,
          0.00024359559756703675,
          0.00011658368748612702,
          0.000041192710341420025,
          0.0001546524144941941,
          0.0008027698495425284,
          0.00010793627734528854,
          0.00020737865997944027,
          0.0012422753497958183,
          0.0000662389793433249,
          0.00037052607513032854,
          0.013297885656356812,
          0.00013193146151024848,
          0.0002995783288497478,
          0.00012105274072382599,
          0.00004491175423027016,
          0.000081097379734274,
          0.004503665957599878,
          0.00020205488544888794,
          0.0015165212098509073,
          0.0004657370736822486,
          0.00030465456075035036,
          0.00008111624629236758,
          0.0009846644243225455,
          0.00005528372639673762,
          0.00002731737549765967,
          0.0012109067756682634,
          0.00018456426914781332,
          0.004245550371706486,
          0.00011469339369796216,
          0.00028994845342822373,
          0.011801051907241344,
          0.00007300755532924086,
          0.00009630037675378844,
          0.000055850716307759285,
          0.0001374848943669349,
          0.0002189509104937315,
          0.00005810091533930972,
          0.004405670799314976,
          0.0056714569218456745,
          0.00006387273606378585,
          0.005405320320278406,
          0.00003096412183367647,
          0.19335144758224487,
          0.1254420131444931,
          0.0000742774864193052,
          0.01923835650086403,
          0.00027820118702948093,
          0.0008074150537140667,
          0.000017359185221721418,
          0.00020477149519138038,
          0.00017113365174736828,
          0.0005717407912015915,
          0.00013045732339378446,
          0.0002471345942467451,
          0.00017207385099027306,
          0.000031235940696205944,
          0.000246076553594321,
          0.00014608068158850074,
          0.00017361414211336523,
          0.0009400899289175868,
          0.0003247078275308013,
          0.0024515942204743624,
          0.012044232338666916,
          0.00040946793160401285,
          0.00002266954288643319,
          0.0002577207633294165,
          0.0005720450426451862,
          0.00017174339154735208,
          0.009475808590650558,
          0.00004364495907793753,
          0.2347383201122284,
          0.00004590557000483386,
          0.00008966778841568157,
          0.00006176123133627698,
          0.0006244161631911993,
          0.15740063786506653,
          0.00005357147892937064,
          0.0005643432377837598,
          0.0041755568236112595,
          0.00011759311018977314,
          0.00010373524128226563,
          0.000030205585062503815,
          0.00022531792637892067,
          0.05662064999341965,
          0.10492882877588272,
          0.0014351214049383998,
          0.00006440166180254892,
          0.03373872861266136,
          0.0001765258639352396,
          0.0001575326605234295,
          0.10294489562511444,
          0.00006607822433579713,
          0.00014321452181320637,
          0.0001997426588786766,
          0.1244669184088707,
          0.000614768941886723,
          0.002663344843313098,
          0.00009674383181845769,
          0.0008103769505396485,
          0.00025675297365523875,
          0.00044205511221662164,
          0.00008938061364460737,
          0.0004015099839307368,
          0.12008650600910187,
          0.00017636433767620474,
          0.0006403535953722894,
          0.000019654793504741974,
          0.002250414341688156,
          0.00004988954242435284,
          0.0003137557941954583,
          0.03225763887166977,
          0.0044890898279845715,
          0.00004597741281031631,
          0.000025822499083005823,
          0.00042252035927958786,
          0.0001458966580685228,
          0.00004921978688798845,
          0.00006844368181191385,
          0.005293712951242924,
          0.00114729767665267,
          0.00008985849854070693,
          0.00012575340224429965,
          0.0002203408512286842,
          0.21660098433494568,
          0.15956681966781616,
          0.000049891350499819964,
          0.001520591671578586,
          0.000042106279579456896,
          0.004783241543918848,
          0.001200987258926034,
          0.00021134382404852659,
          0.0004963598912581801,
          0.00042419639066793025,
          0.00007949981954880059,
          0.0009543324704281986,
          0.00004528669887804426,
          0.0005320527707226574,
          0.009537355974316597,
          0.0030064606107771397,
          0.00008597154374001548,
          0.000173966953298077,
          0.0000814869927125983,
          0.00016353142564184964,
          0.00019973712915088981,
          0.0003819442354142666,
          0.00011610862566158175,
          0.00010038034088211134,
          0.0013508738484233618,
          0.00013853768177796155,
          0.3198617994785309,
          0.00012270630395505577,
          0.000026823763619177043,
          0.0029397362377494574,
          0.00003789604306803085,
          0.00022101796639617532,
          0.0001666910684434697,
          0.000620901701040566,
          0.0006045246846042573,
          0.000426635320764035,
          0.00013718577974941581,
          0.00010286368342349306,
          0.05165022984147072,
          0.00003653778912848793,
          0.00033634991268627346,
          0.00006165389640955254,
          0.3389282822608948,
          0.06368368864059448,
          0.000037720023101428524,
          0.000020517059965641238,
          0.00019123901438433677,
          0.014716551639139652,
          0.000052264033001847565,
          0.1369611620903015,
          0.0005867035361006856,
          0.00010728028428275138,
          0.00014754511357750744,
          0.014622511342167854,
          0.00011916803487110883,
          0.02376062422990799,
          0.00007736180850770324,
          0.00014112376084085554,
          0.00005381264054449275,
          0.00004412000998854637,
          0.000044820284529123455,
          0.000352737755747512,
          0.0005429262528195977,
          0.1744353175163269,
          0.0001942898379638791,
          0.00016289537597913295,
          0.0006168828113004565,
          0.00183197483420372,
          0.0003119361062999815,
          0.0004979593213647604,
          0.00009955234418157488,
          0.00021643216314259917,
          0.3497218191623688,
          0.00011221666500205174,
          0.00006821036367909983,
          0.00016771013906691223,
          0.00037559124757535756,
          0.00011036052455892786,
          0.13882140815258026,
          0.00007970188016770408,
          0.00004849293691222556,
          0.000228325036005117,
          0.000050229635235155,
          0.00005010247332393192,
          0.00020556003437377512,
          0.003280478063970804,
          0.0001378611195832491,
          0.00003347883830429055,
          0.0004637490783352405,
          0.00032360211480408907,
          0.0001432207936886698,
          0.004501383285969496,
          0.00004164194979239255,
          0.44506844878196716,
          0.00023437479103449732,
          0.0014739219332113862,
          0.009871705435216427,
          0.000058744612033478916,
          0.0008942602435126901,
          0.0003314896603114903,
          0.00004849478500545956,
          0.00012850950588472188,
          0.0005722167552448809,
          0.012099035084247589,
          0.00016152577882166952,
          0.000281838933005929,
          0.000509231467731297,
          0.006074372213333845,
          0.00007651995838386938,
          0.00038684281753376126,
          0.05541863664984703,
          0.0031571697909384966,
          0.000163873570272699,
          0.033222854137420654,
          0.0012633102014660835,
          0.000015626565073034726,
          0.0005825445405207574,
          0.00047529468429274857,
          0.000023940878236317076,
          0.0001233818766195327,
          0.006042121909558773,
          0.00029962349799461663,
          0.00024055386893451214,
          0.00008539290865883231,
          0.00009653907181927934,
          0.00034240950481034815,
          0.00023553500068373978,
          0.0028194026090204716,
          0.00004973620525561273,
          0.0013167659053578973,
          0.00007556460332125425,
          0.004531197249889374,
          0.00003636860492406413,
          0.08465271443128586,
          0.0000761850387789309,
          0.0003876994887832552,
          0.0020647330675274134,
          0.000127089922898449,
          0.000132372893858701,
          0.0000354556214006152,
          0.007887125015258789,
          0.00047943522804416716,
          0.09093447774648666,
          0.00016768679779488593,
          0.00006775990914320573,
          0.00003429012940614484,
          0.00035183923318982124,
          0.0004189589817542583,
          0.00010145350825041533,
          0.00003514634590828791,
          0.000027585576390265487,
          0.00039839689270593226,
          0.00001880726449599024,
          0.07983139157295227,
          0.0006415261304937303,
          0.0000723827542969957,
          0.00014280187315307558,
          0.005760650150477886,
          0.009568334557116032,
          0.007015634793788195,
          0.0002178782015107572,
          0.0002778478665277362,
          0.00005912582855671644,
          0.00039662307244725525,
          0.000025479253963567317,
          0.0010297942208126187,
          0.28262993693351746,
          0.00042805459816008806,
          0.0000427055056206882,
          0.0002795715699903667,
          0.000182266827323474,
          0.00012917687126901,
          0.00005086852615932003,
          0.00011144077870994806,
          0.004921081475913525,
          0.0008401368395425379,
          0.0002324619999853894,
          0.05517064407467842,
          0.0003431074437685311,
          0.0002464141580276191,
          0.02673901617527008,
          0.00004924424865748733,
          0.002461786614730954,
          0.00015437691763509065,
          0.000045580931328004226,
          0.00010919096530415118,
          0.00017347699031233788,
          0.00005876943760085851,
          0.0002965106687042862,
          0.0027920256834477186,
          0.00010388808004790917,
          0.01586252637207508,
          0.00013269908959046006,
          0.00006192069122334942,
          0.00011378465569578111,
          0.00003363372161402367,
          0.3019556403160095,
          0.026094604283571243,
          0.00003954310523113236,
          0.06166796013712883,
          0.0000937937293201685,
          0.00013478324399329722,
          0.00016298519039992243,
          0.00003811015631072223,
          0.00002161091470043175,
          0.00005738054096582346,
          0.00008670561510371044,
          0.00017850176664069295,
          0.00005965349919279106,
          0.00020391946600284427,
          0.00004736215851153247,
          0.00014655657287221402,
          0.0018347131554037333,
          0.00011673308472381905,
          0.26035964488983154,
          0.00360204023309052,
          0.00006850931094959378,
          0.0005900121759623289,
          0.00012628656986635178,
          0.001904359320178628,
          0.00437458511441946,
          0.001073154853656888,
          0.0001245844323420897,
          0.00006626721733482555,
          0.00043853127863258123,
          0.000878349004779011,
          0.04518803209066391,
          0.00021437038958538324,
          0.00018753296171780676,
          0.00016410078387707472,
          0.000041289542423328385,
          0.00007119224756024778
         ],
         "yaxis": "y"
        },
        {
         "customdata": [
          [
           "@usuario @usuario En este país todo lo que está al lado de la izquierda es intocable, desaparezca dinero, corrupción, droga, ingreso ilegal de inmigrantes, Sename, etc., no hay culpables. La administración del Estado necesita un cambio rotundo, partiendo por el Congreso y eliminar la agenda 2030."
          ],
          [
           "@usuario Don Marcelo y esos datos de donde los saca si ni siquiera tienen idea del@usuario en la@usuario sur . Por favor esa@usuario usted se la cree . Además. Quitar empleo en Mexico para crearlo en centro@usuario es una traicion al país , no lo cree ?"
          ],
          [
           "@usuario de la manera mas atenta ya es hora de que mande al ejército a la frontera sur, y no permitir que pase ningún indocumentado, y si los militares son agredidos, darles la orden de responder con gran fuerza, el respeto se gana Sr presidente, tenga la palabra de fuerza"
          ],
          [
           "@usuario cuánta más sangre de los peruanos quiere?? De la cara. Póngase firme. Ordene la política migratoria. Si usted no puede, hágase a un costado."
          ],
          [
           "@usuario @usuario @usuario @usuario Ese tal Tonatiuh! Más bien fue protector, defensor de migrantes! Toleró todas las caravanas! Aquí en mi pueblo Mapastepec por alojar migrantes paso por encima de los derechos de los que aquí vivimos"
          ],
          [
           "Cierre de fronteras y mucho autoritarismo. No quiero un pais donde el fin justifica los medios!!"
          ],
          [
           "@usuario Ojalá vaya algún día a Venezuela donde viven 6 millones de colombianos que prefieren resistir antes que regresar. Esos 6 millones de colombianos también le quitan el trabajo a millones de venezolanos."
          ],
          [
           "Apoyaron la migración venezolana y ahora esos mismos crearon bandas de pandillas para saquear los países fronterizos. Que vergüenza."
          ],
          [
           "Bien echo piñera por fin detendremos la migración ilegal"
          ],
          [
           "POR FAVOR QUE SE LARGUEN TODOS DE UNA BUENA VEZ. TENGAN UN MÍNIMO DE DIGNIDAD Y VÁYANSE A LA MIERDA! NI SUS PROPIAS MADRES CREERÁN MAS EN UDS, LÁRGUENSE DE MI PAÍS, DAN ASCO, REPUGNAN, LOS ODIAAMOSS A TODOS. RENUNCIEN YAA!!"
          ],
          [
           "@usuario @usuario A eso súmale la llegada de inmigrantes."
          ],
          [
           "@usuario Que estas haciendo para que el gobierno Venezolano cumpla con su responsabilidad de mantener a su gente? Venezuela apoyado de Ecuador envía a Venezolanos a Perú donde no hay trabajo ni para nosotros, eso no ayuda a los venezolanos y nos perjudica, apoyar eso es estúpido"
          ],
          [
           "@usuario Es necesario que otro gobierno..los ponga a trabajar por el bien de los mexicanos primero ,después los migrantes"
          ],
          [
           "NORTE: Migración ILEGAL masiva SUR: TERRORISMO CENTRO: PORTONAZOS, Detenciones ciudadanas @usuario con 13% aprobación qué espera para darle atribuciones a @usuario y terminar con el @usuario ? PERDÓN pero de parte de quién está UD? hashtag el peor gobierno de la historia url"
          ],
          [
           "@usuario @usuario @usuario Así como dice usted @usuario alguien miente.. mi percepción es, la inseguridad en Barranquilla es una cosa de locos,la migración incontrolada ha traído tanta violencia, el desempleo la informalidad crecen es solo mirar cada esquina. La salud ni hablar atención pésima. url"
          ],
          [
           "Será por los flojos del gobierno mexicano que no hacen su trabajo para detener la migración"
          ],
          [
           "@usuario Que bonito es el buenísmo con los inmigrantes delincuentes"
          ],
          [
           "@usuario @usuario Pues pida disculpas y siéntese, porque gran parte de esta situación la tiene AMLO al haber ofrecido trabajo a los migrantes, cuando no puede dárselos a los mexicanos."
          ],
          [
           "La inmigracion debe ser controlada nos hace falta en Chile. Gasfiters ? No. Medicos especialistas ? Sí. Mano de obra No calificada ? No. Empresarios de vengan a crear fuentes de empleos ? Sí."
          ],
          [
           "La pregunta que muchos nos hacemos es ¿Por qué hay dinero para migrantes y no para los mexicanos? No sólo en el deporte, apoyo en general. url"
          ],
          [
           "@usuario @usuario @usuario Llévate a los MIGRANTES a tu casa. No Queremos MIGRANTES ilegales"
          ],
          [
           "@usuario Jjaja el colmo .. no hay ni para nosotros y este imbécil quiere vacunar hasta a los migrantes .. Porfavor Dios ya llévatelo emoji manos en oración tono de piel claro emoji emoji manos en oración tono de piel claro emoji"
          ],
          [
           "@usuario @usuario Muy tarde empezaron a pedir visa eso debió ser desde el primer día. Además debe cerrar las fronteras nadie debe ingresar es un caos Lima ."
          ],
          [
           "@usuario @usuario @usuario @usuario @usuario A ver!! El dinero de los inmigrantes!! Pinche Ratona!! No miras que tú Cola cagada hasta da vuelta en la manzana? Ah!! Pero crees q No tenemos memoria? @usuario hashtag ratadel prian url"
          ],
          [
           "@usuario @usuario Piden respeto por los venezolanos que hay aka en Perú cuando la mayoría vino a delinquir para poder tener para las drogas y el alcohol les gusta la vida fácil"
          ],
          [
           "Guardia Nacional repliega Caravana Migrante 2020 url vía @usuario poca m&amp;$//(-) de esta gente todavía de que los mexicanos les damos alimentos por cómo vienen agraden a nuestras autoridades porque no se quedan en su país y pelean así con su gobierno también"
          ],
          [
           "@usuario La 4T quiere obtener dinero a cómo de lugar para mantener a los migrantes"
          ],
          [
           "¿No que no iba a endeudar a México? Pero ahí lo tienen ofreciendo trabajo y dinero a migrantes. hashtag opcmx"
          ],
          [
           "@usuario @usuario emoji alto voltaje emoji emoji alto voltaje emoji Chiste o burla? En un par de días solo a Colchane han ingresado alrededor de 1.800 migrantes. Quieren hacernos creer que los otros miles vienen con papeles en regla y contrato de trabajo? @usuario @usuario @usuario"
          ],
          [
           "@usuario Un día un VENEZOLANO me asaltó en mi país y otro amigo de ese ladrón me dijo que me acostumbre ya que SIEMPRE me iban a asaltar en mi país pues habían venido a eso. Yo nunca le creí a ese par de delincuentes y hoy en día aprecio mucho a los inmigrantes y sé que son gente de bien."
          ],
          [
           "LAS OLIGARQUIAS Y ANTINACIONALISTA PITIYANKIS,,MAS APROVECHADORES DE LA VIDA FACIL,,COMO UNION EUROPEA,,EEUU,,ISRAEL,,MAS LOS QUE VIVEN EN VENEZUELA,,COMERCIANTES Y MIGRANTES,,BACHAQUEROS Y LAVA$$,,TUMBAN GOBIERNOS PARA PODER ELIMINAR LA CONSTITUCION Y ROBAR LIBREMENTE,,."
          ],
          [
           "@usuario De ahi, estamos a un paso de que la ONU se instale en la frontera, para hacerse cargo de los inmigrantes con potestad de Bachelet..uff"
          ],
          [
           "Directo al Desastre: FUERTE DESEMPLEO por Inmigración Descontrolada url vía @usuario hashtag noala nueva leyde inmigración Marcha el 11 de agosto a las 11A.M. Plaza Italia.Regiones Plaza de Armas."
          ],
          [
           "@usuario Exigiendo VISA y PCR al ingreso se frena la inmigración No cumple: multa o carcel"
          ],
          [
           "La diaspora venezolana lanzo al mundo.. muchos de los mejores profesionales, de los mas preparados.. Pero al final tambien se fueron los delincuentes, los flojos. Esos que estan robando y matando y mal poniendo a los miles de otros Venezolanos en los países de acogida."
          ],
          [
           "@usuario @usuario No van a crear politicas públicas de control ni de deportación si esta metida la ONU. Porque esta organización prohibe la expulsión de ilegales y delincuentes, hasta ese punto estan llegando Por eso es esta marcha Es contra d las leyes migratorias de fronteras abiertas de la ONU"
          ],
          [
           "@usuario Que me importa tu partido Morena o la de sinvergüenzas traidores ustedes regalan la soberanía de México a la ONU no al pacto migratorio fuera de Puebla.@usuario No con Morena @usuario"
          ],
          [
           "@usuario Se necesita ser muy estúpido pensar que los venezolanos vienen a colaborar con la movilización, ellos son afectos al gobierno suyo martuchis."
          ],
          [
           "@usuario @usuario @usuario Problemas de cesantía, congelamiento d los salarios son por culpa de venezolanos q cobran lo q sea en lo q sea. Salud,transporte y vivienda ya era un problema,con 1millon y medio d inmigrantes es insostenible.Pero venir a exigir a Chile es lo q los condeno a q no sean bienvenidos"
          ],
          [
           "Esta división artificial de México, por la vía del Presupuesto Federal, crea condiciones de miseria en amplias zonas de nuestro Territorio Nacional:, ocasionando abandono, migración, delincuencia, crimen, ingobernabilidad, depreciación de los bienes privados.."
          ],
          [
           "@usuario Hay alguna prueba, imagen o detenidos tras un ingreso ilegal al país, por que es muy grave que se infiltren grupos extranjeros a desestabilizar un gobierno y no pase nada o solo son estupideces dignas de desquiciados."
          ],
          [
           "@usuario @usuario @usuario Urgente deben impedir el PASE DE LOS ECUATORIANOS AL PERÚ,ESTAMOS EN PELIGRO DE CONTAGIO."
          ],
          [
           "@usuario PUES EN EL BARRIO DE EL LASSO HABIAN UNOS INMIGRANTES ..HACIENDO EL PARIPE..CON LA AYUDA DEL SEÑOR MAFIA HIDALGO..LIMPIANDO UN PATERRITO SIN MASCARILLAS..LO DIGO POR SI QUIEREN QUEDAR BIEN..POR LO QUE VEO SOLO SABEN DAR CAÑA A UNOS CHAVALITOS."
          ],
          [
           "@usuario Colombia no está pensando en su futuro no sabe con lo que está jugando recibiendo terroristas para atacar a venezuela desde su país, el gobierno colombiano no está pensando en el futuro de su pueblo en su seguridad, a nosotros no nos importa que hayan gringos en su país . hashtag rt"
          ],
          [
           "@usuario @usuario @usuario @usuario @usuario @usuario @usuario @usuario @usuario @usuario @usuario @usuario @usuario La mayoría de delincuentes son venezolanos así que mejor callate. Estúpido"
          ],
          [
           "@usuario @usuario Ni desconozcas que la inseguridad en este país aumentó desde la llegada de tus compatriotas, así como pasó Chile, Argentina y tantos países.. me ha tocado conocer casos de colombianos que le extienden la mano a un venezolano y? Los terminan robando, o los matan. Triste realidad"
          ],
          [
           "@usuario Cada Venezolano es potencial delincuente para este"
          ],
          [
           "@usuario Terrible!! No es x la cultura.. es xq lamentablemente no distingue otras alternativas No podíamos darnos el lujo de recibir a todos, me encantaría q fuera así, pero los recursos eran y aún son limitados. Q el quiera comer gato es fruto d politica migratoria irresponsable"
          ],
          [
           "La inmigración ilegal q está asfixiando a Iquique. Aquí tienes las consecuencias."
          ],
          [
           "@usuario Es broma? Aqui muchos estamos en contra de los migrantes que estan causando esto, aparte estamos mas preocupados por los asesinatos del diario, no hay tiempo para esas marchitas de unidad que no van a arreglar nada. Necesitamos acciones contundentes."
          ],
          [
           "Esto es algo que está ocurriendo a nivel mundial por las malas políticas migratorias y la defensa de sectores de izquierda a proteger delincuentes gratuitamente ."
          ],
          [
           "@usuario @usuario DEBE SER POR AMLO QUE USA ESTA LLENO DE INMIGRANTES MEXICANOS"
          ],
          [
           "@usuario @usuario @usuario @usuario Precisamente eso..resolviendo el problema principal..resolvemos el accesorio..resolviendo venezuela..resolveremos la inmigración, la inseguridad."
          ],
          [
           "@usuario Chile ya no está en condiciones de seguir recibiendo tanta inmigración, es penoso verlos durmiendo en la calle y sin trabajo. El desempleo va en alza y han quebrado más de 700 empresas nacionales."
          ],
          [
           "Exigimos protecion ante la precencia de la caravana urlta fuera de control.. Ya Hagan su trabajo @usuario @usuario @usuario @usuario"
          ],
          [
           "Desbordarán migrantes a Tijuana, otra vez url vía @usuario Y AMLO ABRIO LA FRONTERA SUR, A DIARIO PASARAN"
          ],
          [
           "@usuario @usuario @usuario @usuario emoji cara llorando de risa emoji emoji cara llorando de risa emoji Gracias a Cuba, Venezuela y los grupos ilegales de Irlanda que entrenaron a los grupos de crimen organizado de izquierda para que llenaran los campos colombianos de minas, por ende nuestras @usuario desarrollaron habilidades para contrarrestarlas"
          ],
          [
           "Un nuevo siglo y otra oleada de inmigrantes. El nuevo Uruguay.."
          ],
          [
           "@usuario Pero si los grupos armados son los inmigrantes, del gobierno para abajo se bajan los pantalones."
          ],
          [
           "@usuario @usuario EN PERÚ NOS FALTA PUESTOS D TRABAJO, NO HAY EDUCACIÓN, SALUD, ESTO CONLLEVA A PERSONAS CON ANEMIA, HAMBRUNA; MAS DEL 60% SON POBRES D LOS CUALES EL 40% SON D EXTREMA POBREZA, GRACIAS A GOBIERNOS CORRUPTOS EN MI PAÍS, NO PODEMOS SOSTENER TANTA INMIGRACIÓN Y LOS EFECTOS YA SE VEN"
          ],
          [
           "@usuario @usuario @usuario Y si mejor te pones a trabajar y detienes la inmigración ilegal?"
          ],
          [
           "@usuario Investiguen a la Presidencia de ESSALUD por crear una service para seguir contratando a miles de \"supuestos médicos venezolanos/as\" y \"supuestas enfermeras venezolanas/os\" siendo prohibido por Nuestra Constitución Política traicionando al Perú y a los peruanos."
          ],
          [
           "@usuario @usuario hashtag alos venezolanos les digo Vuelvan a Venezuela y luchen por su país , así como exigen la nacionalidad y subsidios que no se les dan a Los Colombianos menos favorecidos, y deportación inmediata a todas las ratas ,Hapones y atracadores que hacen de las suyas. FUERA DE NUESTRO PAIS."
          ],
          [
           "hashtag yoapoyoamananlich hashtag rechazo Por favor Señores Del Gobierno de Chile espero realmente, que se tomen medidas reales para que se cierren las fronteras a la inmigración. Tendremos los Chilenos graves problemas Económicos, y la Caridad debe empezar por casa. @usuario"
          ],
          [
           "@usuario @usuario @usuario @usuario @usuario Me estás mal interpretando, e insisto que hay que ejercer controles y muy fuertes para evitar el ingreso de delincuentes de cualquier nacionalidad a éste país ya que en ése caso, la comunidad venezolana migrante no puede ser responsabilizada por el acto atroz de \"uno de ellos\""
          ],
          [
           "@usuario @usuario DEBE SER POR AMLO QUE USA ESTA LLENO DE INMIGRANTES MEXICANOS"
          ],
          [
           "@usuario @usuario @usuario La vida SIEMPRE es una prioridad, y más la vida de un niño, no el beisbol, ni instalaciones para Morena, ni los inmigrantes, México y su población más vulnerable es PRIMERO."
          ],
          [
           "@usuario @usuario @usuario Los empresarios estan furiosos con tanto inmigrante. A quienes crees que les dieron en el gusto trayendo trabajadores a mitad de precio?. Sigue pensando asi el 10% que se queda con 2/3 de la torta te lo agradece."
          ],
          [
           "@usuario Respeten y vayanse a su país"
          ],
          [
           "@usuario @usuario Cual es la idea? Están ayudando a los inmigrantes ILEGALES, y a los Conchaninos los tienen abandonados"
          ],
          [
           "@usuario Q bronca la verdad son unos hijos de puta. Q pasa si la sociedad se organiza y pone en la entrada de cualquier villa protestando NO QUEREMOS MAS DELINCUENCIA NI NARCOS NI INMIGRANTES ILEGALES Y QUE SE TERMINE ESTA NEGRURA DE MIERDA DE UNA VEZ POR TODAS!"
          ],
          [
           "@usuario Coronel de mierda. Retroexcavadora, para fomentar la inmigración ilegal, si hay algo que este pequeño coronel no sabe es respetar la ley. url"
          ],
          [
           "@usuario Siempre he pensado lo mismo. No fueron los buenos migrantes los que impulsaron la ayuda, sino la \"plaga\" venezolana la que obligó a gestar la organización internacional para sacarnos de la dictadura"
          ],
          [
           "Inmigración y destrucción en Chile de la democracia. Diario la estrella!!"
          ],
          [
           "Esto es gracias a los inmigrantes y lo debil del gobierno"
          ],
          [
           "@usuario Los migrantes sosteniendo al país, manteniendo a los vividores del @usuario el gobierno robando todo lo que puede. Por eso les conviene que más gente salga del país.."
          ],
          [
           "@usuario @usuario Y con el perdón se solucióna todo el daño que cometen los delincuentes venezolanos?"
          ],
          [
           "@usuario @usuario Yo no tengo problema con el migrantes pero si ban a venir a defender este modelo económico y a defender a este gobierno inepto y criminal.. Que se vallan a la chucha.."
          ],
          [
           "hashtag el debate decisivo señor Iglesias, mejor quitemos las frinteras y acoja usted en su casa a todos los que lleguen, incluidos alimento y sanidad. Y a cambio apretemos las clavijas a los que pagamos impuestos y cobramos poco.. ah, y demosmas ayudas a los inmigrantes, claro"
          ],
          [
           "@usuario Pero hubiera sido el sicario venezolano ahí uff hacen escándalo estos hipócritas del Perú."
          ],
          [
           "La migración venezolana en Chile, y hay que decirlo, o al menos la primera oleada son personas muy, pero muy preparadas y eso me impresionó muchísimo, así que hasta principios de año le tenían buena estima a los venezolanos, pero ya somos muchos y qué pasa cuando somos muchos?"
          ],
          [
           "@usuario esto es delincuencia y xenofobia cometida por Ecuatorianos y que usted promueve contra los venezolanos o esto si esta bien? url"
          ],
          [
           "@usuario @usuario Supongo que no votarán por candidatos del partido que ha permitido la entrada desordenada de inmigrantes indocumentados y ese mismo partido que permitió que le impusieran una agenda pro gay desde la embajada USA. Solo para mantener la coherencia, verdad??"
          ],
          [
           "@usuario @usuario Porque no?.. solo demuestra lo que ya se sabe, que faltan filtros para el ingreso de extranjeros, muchos de ellos vienen con antecedentes penales"
          ],
          [
           "En el barrio molinos 2 sector la gente está en la calle, dicen que la alcaldia va a traer unos venezolanos a darles albergue en el polideportivo. Esa es la ayuda de el gobierno para los migrantes? Meterlos en sitios sin las mesidas de higiene necesarias?"
          ],
          [
           "El apoyo económico extranjero por dejar entrar tanta gente no es crecimiento económico para todos. Dejé de comerse los recursos solo emoji cara de cerdo emoji"
          ],
          [
           "Tengan cuidado con todos esos venezolanos no registrados en colombia pueden ser un factor armado para el 21 de noviembre con maduro nada es un juego"
          ],
          [
           "@usuario Debes tener muy claro que en Tunja la empresa privada han creado cientos de puestos de trabajo en los ultimo años.. pero la desbordada llegada de migrantes desocupados tiene la ciudad a punto de colapso en salud, vivienda y servicios."
          ],
          [
           "@usuario Qué hará usted contra la migración ilegal y la delincuencia extranjera?"
          ],
          [
           "La migración ilegal y los crímenes en chile, no es lo que queremos en ningún pais, se deben respetar las leyes migratorias de cada pais."
          ],
          [
           "@usuario Es todo? Yo estoy de acuerdo en que México no tenga las puertas abiertas a los migrantes..los invito a ir a TAPACHULA CHIAPAS y platicar con los ciudadanos que ahí viven ya verán!"
          ],
          [
           "Esta dictadura les abrio las fronteras de venezuela a la guerrilla colombiana y armo a los colectivos que son los mismos malandros, solo en socialismo los malandros mandan mas que los cuerpos de seguridad.."
          ],
          [
           "@usuario No a la ley de inmigración sin responsabilidad , es una lacra la el libre ingreso para trabajar. Ojalá un país ocde lo permitiera !!"
          ],
          [
           "emoji círculo rojo grande emoji DESPIERTA CHILE emoji círculo rojo grande emoji este dgo. 11 a las 11 hrs. En Plaza Italia por el hashtag derecho amarchar en contra d las políticas migratorias d este Gobierno que sólo han perjudicado y relegado a los chilenos más vulnerables. Inmigrantes tienen PRIORIDAD en salud, vivienda, educación!"
          ],
          [
           "@usuario @usuario DEBE SER POR AMLO QUE USA ESTA LLENO DE INMIGRANTES MEXICANOS"
          ],
          [
           "@usuario COMPATRIOTAS , SI NO VA + DE 1 MILLON , SE DA POR PERDIDO LA IZQUIERDA SE REIRÁ Y SE APROVECHARA DICIENDO QUE EL PUEBLO QUIERE + INMIGRANTES."
          ],
          [
           "@usuario Preferiría que se invirtiera en México, creo que primero es nuestra nación que otra cosa y eso se puede combatir desde la frontera"
          ],
          [
           "@usuario @usuario PAREN LA INMIGRACIÓN AUN ES TIEMPO CHILE NO SE MERECE ESTA INVACION VAMOS DIRECTO A UNA DEBACLE SANITARIA STOP NOW"
          ],
          [
           "@usuario Duque, por legalizar y dizque \"normalizar\" 2 millones de venezolanos."
          ],
          [
           "No olvidemos los ilegales que están entrando por el norte, no olvidemos a Colchane. El delincuente muerto solo fue un distractor, un tonto útil que sacrificaron."
          ],
          [
           "@usuario Estos políticos corruptos tienen secuestrada las leyes y la institucionalidad en Honduras fomentando la migración masiva"
          ],
          [
           "@usuario @usuario @usuario @usuario Su argumentos para decir que somos peor que Venezuela por favor, porque que yo sepa en Colombia estamos invadidos de venezolanos y no al contrario o es que usted es de los que escribe sin pruebas o solo por ser opositor del gobierno??"
          ],
          [
           "@usuario @usuario Inmigrante ilegal cabreando a brasileños .."
          ],
          [
           "@usuario @usuario @usuario @usuario Con tanto venezolano como no va a subir el desempleo, mas problemas para colombia."
          ],
          [
           "@usuario Ahora quien se hace cargo?, no fuerón capaces de entregarles dignidad a sus compatriotas y le iban a dar d comer a migrantes, digan la verdad q los trajerón xk son mano de obra barata y ahora q se quejan d hambre, somos los emoji bandera chile emoji q tenemos q sacar el pan de nuestra boca para darles"
          ],
          [
           "@usuario @usuario @usuario Cuando Uds se lleven los 5 millones de colombianos que viven en Venezuela. Hacemos un trueque, Uds nos dan \"2 millones\" (habrá que ver si eso es cierto) y nosotros les devolvemos 5 millones"
          ],
          [
           "@usuario Parte es consecuencias de la inmigración descontrolada, se importó mucha pobreza."
          ],
          [
           "@usuario PARA CUANDO TE LLEVAS A LOS MILLONES DE COLOMBIANOS QUE ESTAN AQUI EN VENEZUELA."
          ],
          [
           "@usuario @usuario Yo creo, que la solución , no es cerrar las fronteras, porque eso atrae más ilegales que pasan por cualquier puesto fronterizo y quedan piolas. En cambio el abrir fronteras ( desde el punto de vista de JAZ) se controla 100% , osea con Visa de trabajo, o sino"
          ],
          [
           "@usuario emoji cara revolviéndose de la risa emoji emoji cara revolviéndose de la risa emoji ven a ver a Chile el ejemplo de hogiene que dan tus inmigrantes"
          ],
          [
           "Hoy me puse un suero de vitamina C en un Centro Cosmetologico y me lo puso una enfermera venezolana. En Perú tienen que convalidar el título y cuesta 3 mil dólares, aquí sólo tienen que registrarlo en el Senecyt, dura 10 días y sin costo. Y para nuestros profesionales no hay trab"
          ],
          [
           "@usuario @usuario Ya es tarde Lady ,del día que permitieron entrar gente ,del exterior ,sea el motivo que sea ,el presidente tendría que haber tomado medidas al respecto y cerrar todo tipo de fronteras ,nadie entra ,nadie sale ,ese es el peor error para mi !!"
          ],
          [
           "@usuario @usuario En la mañana pasé por ahí y de verdad estaba muy lleno de basura, no creo que hayan sido los inmigrantes"
          ],
          [
           "El inmigrante hijo de yuta de mi novio me hace agarrar un mal humor"
          ],
          [
           "Esos hijos que son mayorcitos y tan de sus padres, que se vayan con ellos a los asilos o que dejen de explotar inmigrantes que los cuiden.. En qué momento deja el hijo de pertenecerles? Ay omá. hashtag criando personas"
          ],
          [
           "@usuario @usuario ¿Quieres justicia para todos?, ¿Qué hay de los que viven la inseguridad día a día gracias a ésta migración? Cusco es más tranquilo que Lima. Si vivieras en los distritos limeños de SJL, SMP, o Chorrillos, tal vez exigirías a todo pulmón, que haya más control con ésta migración."
          ],
          [
           "@usuario hombre, pues con no dejar entrar a extranjeros sobra, ahh no, q eso va en contra d la economía, pues nada"
          ],
          [
           "@usuario @usuario @usuario Todos dicen q en Venezuela pasan hambre y lo único q veo n los inmigrantes venezolanos pantalones d marca celulares d última tecnología etc.y todos robustos y n vez d buscar trabajo piden caridad. Hambre es ésto emoji dorso de mano con índice hacia abajo emoji o es que ellos no son seres humanos para llevar ayuda humanitaria? url"
          ],
          [
           "@usuario @usuario los extrajeros no es malo como tal, lo malo es cuando es una migracion masiva, daña la economia de un pais, y tambien la cultura, ahi queda perjudicada la cultura del pais local, ni hablar cuando es ilegal como paso con EEUU desde el sur."
          ],
          [
           "Esto lo explica todo, las caravanas de migrantes ahora van en sentido contrario, todos al sur -hasta los pinches güeros mariguana van a madres- a ganar quetzales.."
          ],
          [
           "Yo sé que esto está mal, pero en estos momentos dónde hoy se sabe si se aprueba una ley o no en Argentina, que vengan de otros países a tirar mierda provida me pone xenofobica. Podés cerrar el orto y respetar las fronteras forro de mierda jshskala que hija de puta"
          ],
          [
           "@usuario @usuario Entonces los venezolanos que hay en Chile son alienígenas. Jejeje"
          ],
          [
           "@usuario Y otras plagas más.Todas de mucho cuidado.Mientras su pdte, tiene el gobierno cerrado x su capricho de impedir la inmigración centroamericana.Irreal!🤦 emoji tono de piel claro emoji ‍!"
          ],
          [
           "@usuario Inmigración ilegal"
          ],
          [
           "@usuario @usuario La clave alli es inmigracion ORDENADA. En Chile es un desorden absoluto!"
          ],
          [
           "@usuario @usuario Se han creado muchos puestos de trabajo, lamentablemente el gobierno pasado aumentó mucho los puestos politicos que no hacían nada, además de la llegada masiva y sin control de inmigrantes, tráfico humano de M. Bachelet."
          ],
          [
           "Que razón hay para entender que Rapa Nui tiene capacidad finita de recibir inmigrantes y el resto de Chile no tiene límites?"
          ],
          [
           "@usuario Que se abran las investigaciones a fondo a los gerentes de los canales de televisión y radio del Perú por editar, desviar y manipular la información a los peruanos OCULTANDO las nacionalidades de DELICUENTES y PROSTITUTAS VENEZOLANAS en Intervenciones POLICIALES."
          ],
          [
           "Lo peruanos tienen más cojones q los chilenos, no los convencen con droga y 10% ..chile lo convirtieron en nidos d los políticos corruptos amigos d los narcos..y no hacen nada p esta llegada de migrantes buenos y malos..nuestro amado pais lo están reventando"
          ],
          [
           "@usuario @usuario El idiota de obrador, esta afectando la seguridad nacional de Mexico al mantener la frontera sur abierta y deja entrar al pais a toda clase de gente sin verificar si tienen antecedentes penales o no. Es una lastima que todabia lo apoyen en sus pendejadas."
          ],
          [
           "@usuario @usuario hashtag apoyo en bucaramanga Señor presidente @usuario @usuario el departamento de Santander requiere atención especial y apoyo inmediato, toda vez que la presencia de migrantes, cada vez es numerosa, poniendo en peligro la vida de todos los asociados @usuario"
          ],
          [
           "@usuario @usuario @usuario @usuario Pero qué tal, anduvieron de pinches alcahuetes fomentando y apoyando las caravanas de migrantes con los putos de derechos humanos, la policía y y toda la caterva que movilizaron para acompañar a los chingaos migrantes. Ahora están de putos llorando por el 5%"
          ],
          [
           "@usuario Votas por bachelet, apoyas el gobierno de Piñera, o sea eres mas onunista que cualquiera!! Defiendes a los empresarios vende patria que quieren inmigrantes para bajar los sueldos!!"
          ],
          [
           "Mírese no más un presidente de izquierda, dándole gracias a uno ultra derecha racista a más no poder y además agresivo , grosero, no entiendo AMLO por qué celebra el que Mexico sea un muro con los migrantes"
          ],
          [
           "@usuario No es precisamente la migración la que está destruyendo a Chile señor migrante.. Porque ud, por su apellido, es migrante, si? A no ser que su apellido de marca de cerveza sea porque le hace mucho al producto de la cebada fermentada, lo que puede explicar algunas cosas."
          ],
          [
           "@usuario Jjaja hay que buscar la visa, pero de inmigrante. emoji cara llorando de risa emoji"
          ],
          [
           "Inmigración excesiva en Chile es el peor error en 50 años sólo aporta a disminuir felicidad de los chilenos"
          ],
          [
           "@usuario Que barbaridad hablas! Todos uds y sus funcionarios progres son quienes promueven el caos y la decadencia en éste país. A ella le debemos la migración descontrolada q promueve la delincuencua. CÍNICOS!!"
          ],
          [
           "@usuario @usuario @usuario @usuario Esa es la mentalidad parasita de la izquierda. Inmigrantes en busca de paguitas, llegan aqui a pedir derechos que en su pais jamas serian capaces de pedir. Falsos y cobardes..quieren en un dia lo que en su pais jamas han tenido. Vete a la mierda parasito."
          ],
          [
           "@usuario Que alguien le explique a este malandro del micrófono, que en los últimos 4 años han entrado a Colombia dos millones de venezolanos. Estúpido."
          ],
          [
           "@usuario @usuario @usuario @usuario @usuario @usuario @usuario Es urgente que el gobierno ponga un alto a la migración de colombianos y venezolanos. @usuario"
          ],
          [
           "@usuario @usuario DEBE SER POR AMLO QUE USA ESTA LLENO DE INMIGRANTES MEXICANOS"
          ],
          [
           "@usuario No es un problema cultural, mucha gente saliendo sin tener que hacerlo, y sin discriminar pero ahora se ve lo peligroso de la inmigración sin control"
          ],
          [
           "@usuario Vicepresidenta, debe empoderarse de estos delitos y llevarlos a la justicia. Sea venezolano o colombiano. Esto pasa diario en Colombia!"
          ],
          [
           "@usuario @usuario @usuario @usuario @usuario El mundo entero son aquellos que defienden cuotas y demás para inmigrantes. O sea, que quieren que se les trate diferente por su raza. Y los racistas son los otros. Igual que las mujeres. Pero los machistas son otros."
          ],
          [
           "@usuario Las leyes en USA deben de cambiar ser más rigurosa en cuanto a los inmigrantes. Dígame que va a ser una mujer con hijos sola en un país extranjero. El que quiera ir a USA que lo intente de manera legal. Sea profesional genere interés y luche para lograrlo"
          ],
          [
           "A ver, a ver, con Uribe NO se meta. Este NO es su país, igualada. Coja sus chécheres y a la frontera. Aquí no queremos migrantes de su calaña. Respete MI país que NO es el suyo. Ustedes dejaron acabar Venezuela. Regrese. Aquí no joda. url"
          ],
          [
           "@usuario @usuario @usuario @usuario No por el echo de ser inmigrantes, y que tengan los mismos derechos por su pago a México, significa que hagan está clase de cosas. Se que no son todos, estoy consciente. Pero como evitas, que esto suceda?."
          ],
          [
           "@usuario @usuario Los adoloridos son los que se quejan. Los que aún no los ha afectado este fenómeno migratorio, siguen diciendo que hay que dejarlos vivir su vida. Por mi que la vivan de donde vinieron."
          ],
          [
           "@usuario En eso no pensaron los que van declarando la guerra a Perú, creo que solo va a parar hasta que alguien tire por un puente a un venezolano, el hampa venezolano no razona con logica, solo son unos salvajes que no piensan en las consecuencias"
          ],
          [
           "@usuario Los estadounidenses radicales olvidan que ellos mismos son inmigrantes en el continente, que se han hecho de tierras robándolas a los indígenas, los verdaderos dueños; y a México, con invasiones, guerra y acuerdos fraudulentos. Son ellos quienes debían irse del continente"
          ],
          [
           "Hoy 11/01/2021 siguen llegando buses con inmigrantes ilegales en hashtag iquique jamás podremos avanzar en las fases de pandemia, frontera hashtag colchane Totalmente abierta @usuario @usuario hashtag chile RT url"
          ],
          [
           "@usuario @usuario No es detener sino retener! Y los venezolanos en Perú están haciendo turismo. hashtag rafael lopez aliaga presidente"
          ],
          [
           "@usuario LA PARRANDA DE IGNORANTES QUE LIMITAN CON NUESTRA HERMOSA VENEZUELA Y LOS QUE ESTÁN UN POCO MÁS ALLÁ HACIA EL CONO SUR, TIENEN LA MEMORIA COMO UNA PRÓSTATA. CUANDO VOLVAMOS A SER LIBRES DEBEMOS EXIGIRLE VISAS A TODOS. CON EXCEPCIÓN DE NUESTROS HERMANOS COLOMBIANOS Y BRAZIL."
          ],
          [
           "@usuario Personas que no pagan impuestos, causa de la inmigración descontrolada."
          ],
          [
           "@usuario @usuario @usuario jaja .. si miles muertos de hambre comprando televisores para vivir y llenos de inmigrantes que vinieron de paises como el Chino.. no se entiende..como viene gente a pasar hambre y esclavitud..jaja"
          ],
          [
           "@usuario . Arresten y expulsen del país a esta persona. Soy venezolano,siento vergüenza de que esta basura aproveche la situación para delinquir . Por lacras como ésta los ciudadanos de bien somos mal vistos!!"
          ],
          [
           "@usuario @usuario @usuario Nosotros no estamos con la transformacion de 4ta que encabeza el vejete y su horda de mercenarios que lo unico que saben hacer es empinarse ante Trump, dejar entrar a cualquiera por la frontera sur y darle en la madre al pueblo con sus caprichos"
          ],
          [
           "Y todo por abrir las fronteras sin teglas y prometer paso libre y ayuda y más. Ahora como la guardia nacional esta de muro ya no dejan salir a nadie y se quedaron. Aparte funciona México como 3er país seguro. Todo mal ."
          ],
          [
           "@usuario @usuario @usuario @usuario Y ahora que citen al mas corrupto de todos al presidente actual por hipócrita y dar contratos sin licitar y regalar dinero a migrantes y países centroamericanos y dejar sin dinero a Mexico ! hashtag lopez destruye mexico hashtag lopez farsante"
          ],
          [
           "@usuario @usuario @usuario @usuario @usuario @usuario @usuario Cierre fronteras ¡ el Perú no va aguantar a tremenda epidemiaa Sr Viscarra esto es una emergencia"
          ],
          [
           "Bien por @usuario y el @usuario Bienvenidos a los extranjeros que quieran trabajar. No a los delincuentes. Me pregunto por qué trabajan tantos venezolanos, paraguayos, peruanos o bolivianos en Argentina y los argentinos dicen que no hay trabajo. emoji cara pensativa emoji emoji bandera argentina emoji url"
          ],
          [
           "@usuario @usuario No cuida a los ciudadanos mexicanos, y quiere proteger a la bola de migrantes que a fuerza quieren llegar a otro país donde los maltratan! Ja, chida tu filosofía!!"
          ],
          [
           "@usuario Salud gratis para inmigrantes? emoji cara pensativa emoji y eso? Que onda?"
          ],
          [
           "@usuario Calla ladrón, escoria, lacra, basura, díscolo, rata, ni siquiera te fijes en el Ecuador imbécil de quinta.. Ya mucho tenemos lidiando con la migración masiva y desordenada de la gente del pueblo que destruiste"
          ],
          [
           ".. Me da pena.. Y eso que también soy venezolana.. Después dicen disque no tienen nada, y que los tratan mal, y que nadie los valoran. O sea, nO tienen conciencia de NADA, quizás y son puros malandrejos venezolanos que están horita mismo en Colombia.. En serio, que decepción"
          ],
          [
           "La Guajira, no resiste más migrantes venezolanos, la situación se hace insostenible"
          ],
          [
           "La salida de @usuario tiene que llevar consigo la salida de todos aquellos que de forma descarada se roban los recursos y viven a sus anchas burlándose de la migración venezolana, usándola como bandera de lucha para su interés propio."
          ],
          [
           "@usuario @usuario Ellos saben perfectamente los riesgos de pasar la frontera del sur y del norte de Mexico, están metiéndose a un país que no es el suyo. O a poco así son de considerados los americanos? Si no quieren que les pase nada que se queden en su país"
          ],
          [
           "Cerro Renca en estos momentos llenos de inmigrantes ya parcelaron los terrenos @usuario @usuario @usuario @usuario @usuario @usuario @usuario url"
          ],
          [
           "@usuario @usuario Para eso hay q luchar con los inmigrantes ilegales. Son ellos los q trafican cn humanos"
          ],
          [
           "@usuario @usuario Gracias a la Corporacion Politica argentina Tendremos pronto inmigracion che, Se viene el ESTALLIDO y nadie le interesa pararlo, Solo que pase en el mando del otro."
          ],
          [
           "@usuario Pero los hondureños matan policías y civiles y eso no te indigna gordo hijo de perra faltó de huevos para hablar del pacto de migración"
          ],
          [
           "@usuario @usuario DIOS VA A PERMITIR Q ESTA IRRESPONSABLE MENESTRA CREAMER SE VAYA LO MÁS URGENTE D MINISTERIO D EDUCACIÓN ECUADOR 25-05-21, NUNCA DEBIÓ SER FUNCIONARIA EN ECUADOR SIENDO VENEZOLANA,NO LE IMPORTA SU PROPIO PUEBLO, PEOR,JAMÁS LE IMPORTARÁ LOS ESTUDIANTES ECUATORIANOS Y SU SUERTE."
          ],
          [
           "Chile-Pueblos nortinos al borde del colapso, por inmigración descontrolada"
          ],
          [
           "@usuario @usuario A cerrar fronteras para evitar que los que debamos salir seamos nosotros"
          ],
          [
           "@usuario @usuario @usuario @usuario @usuario @usuario @usuario @usuario La mejor prueba son los inmigrantes, salen a buscar trabajo y encuentran los de acá se quejan q se paga poco y le preguntas q sabe hacer,no saben hacer nada y quieren ganar millones"
          ],
          [
           "375.675 MAL AGRADECIDOS. votar apruebo..es premiar la quema y destrucción de Chile emoji fuego emoji que tanta cesantía dejó..cesantía con la que muchos migrantes tienen que lidiar..uds son unos genios¡🤦 emoji tono de piel claro emoji ‍"
          ],
          [
           "¡Y no pasa nada! Inmigrantes ilegales confinados com Covid generando pánico en Albacete. url"
          ],
          [
           "@usuario Que arrecho.. ahora respetar las leyes y costumbres del país que te tiene que aguantar es xenofobia. Que mentalidad de mierda la del venezolano."
          ],
          [
           "@usuario Deben cerrar las fronteras, que no regresen más al País, hasta q se controle. Deben disponer q los mercados y centros comerciales habrán sólo 2 veces x semana, sino la gente seguirá todos los días: van por pan caliente, carne fresca, tocino para sus antojos, etc. Gente plaga!"
          ],
          [
           "¿No que no iba a endeudar a México? Pero ahí lo tienen ofreciendo trabajo y dinero a migrantes. hashtag opcmx"
          ],
          [
           "@usuario Ya pongan orden y un alto a los emigrantes que violan nuestras fronteras y hacen y deshacen No hay control, y pasa a ser México un país vulnerable!! Q Pena"
          ],
          [
           "hashtag contigo chv esto es lo que nos dejó la ex presidenta michael bachelet, dejando entrar a Chile a los inmigrantes, dejando que ellos se aprovechen de un país que no es el de ellos, tienen más beneficios que los chilenos"
          ],
          [
           "@usuario Esos no son secuestros, son ROBOS y ASALTOS , como algunos MIGRANTES llevan el dinero que les dan sus parientes de EU, para pagarle a los POLLEROS, las pandillas que deambular en ambos lados de la LÍNEA , los TUMBAN. Pero también en las colonias PROLES roban . No exagere."
          ],
          [
           "La Sra q enseña a lavarse las manos y don Heraldo Muñoz el sr del opulento reloj .. algo q decir respecto a la inmigración descontrolada en época donde ellos eran responsables!!"
          ],
          [
           "@usuario @usuario No estaría de más.. Controlar la entrada por los aeropuertos..y controlar muy muy de cerca, la inmigración ilegal.."
          ],
          [
           "@usuario Qué opinas del joven arrojado de un puente por dos VENEZOLANOS emoji bandera venezuela emoji emoji bandera venezuela emoji emoji bandera venezuela emoji sí VENEZOLANOS tus engreídos. Hablaras de ese joven víctima de esos delincuentes o te vas hacer a la loca"
          ],
          [
           "@usuario Y seguirá..se fue a la real mierda(me perdonan) dejaron que la izquierda los jodiera..y se preocupan de migrante ilegales venezolanos..je se ve lo mal que van,me perdonan de verdad pero increíble cómo van en bajada sin freno qué barbaridad lo de chile!! Y la izq aún no gobierna !"
          ],
          [
           "Llevamos 1 año denunciado la migracion descontrolada.. nos encerraron 1 año, se supone que la frontera cerrada..y ahora resulta que quieren vacunar primero a los que no respetaron fronteras ni cuarentenas, ser chileno en Chile es un pecado"
          ],
          [
           "@usuario @usuario DEBE SER POR AMLO QUE USA ESTA LLENO DE INMIGRANTES MEXICANOS"
          ],
          [
           "Mas que MIGRACIÓN es una INVASIÓN lo que está sucediendo en Chile!! Invito al panel completo para que vengan a vivir por unos dias la realidad de la MIGRACIÓN en Antofagasta. Es tan fácil hablar de lejos a favor, sentaditos en un programa!! hashtag actualidad as"
          ],
          [
           "Si,existiera un plan de migración controlada,no habría tanto desorden en Estación Central,la mayoría de los ambulantes son extranjeros indocumentados. Ayer fui a Meigs y está lleno de pacos, pero no hay control,andan puro webiando con el celular."
          ],
          [
           "@usuario @usuario Ah, por último: un nazi es el que llega a las mismas ideas y pensamientos que los nazis. Como tú. Un inmigrante de los que se casa por papeles, y luego viene a dar lecciones de amor a los ciudadanos del país que le acoge."
          ],
          [
           "@usuario Vayanse periodistas truchos, no los queremos en Bolivia no tienen etica profesional, una verguenza para su pais"
          ],
          [
           "@usuario @usuario Inmigración masiva e ilegal que izquierda y derecha propician. Antes de la inmigración masiva en Chile se podía surgir. El sueldo mínimo iba en constante aumento. Todo eso acabó por culpa de todos estos políticos."
          ],
          [
           "@usuario @usuario Esto se veía venir, lo mismo pasara con la llegada de tantos inmigrantes maduro tiene policía paramilitar en sus calles y aquí al parecer sucederá lo mismo"
          ],
          [
           "@usuario Totalmente de acuerdo con usted alcaldesa aunque les suene mal primero los compatriotas Colombianos porque estoy segura que sí fuéramos nosotros los que estuvieron en venezuela hace mucho rato nos habrían sacado de alla còmo perros"
          ],
          [
           "La única herramienta de hashtag venezuela para frenar a los colombianos es la falta, el roce. hashtag vamoscolombia hashtag laplateafc"
          ],
          [
           "Sr. inmigrante venezolano, recapacite y váyase a otro país con mejores perspectivas que la Argentina."
          ],
          [
           "@usuario @usuario DEBE SER POR AMLO QUE USA ESTA LLENO DE INMIGRANTES MEXICANOS"
          ],
          [
           "@usuario A eso sumále la negligencia con que el gobierno ha atendido lo que sucede en Crucitas, otro potencial foco por la entrada ilegal de inmigrantes."
          ],
          [
           "@usuario @usuario Y si renunciara Piñera a quién pondrían?? A Bachelet q nos llenó de inmigrantes?? A Frei q nos vendió a las multinacionales?? A Lagos q robó en Ferrocarriles?? Al asesino senador Quintana?? A Quién..!!"
          ],
          [
           "@usuario Mira refugiado como persona eres pesimo, pero como narrador das asco. Te pones a decir que Brisuela es gringo, con la más mala intención. Te mordiste el ocico animal"
          ],
          [
           "@usuario KK Solo estaba tratando de evitar que te conviertas en un inmigrante ilegal allí"
          ],
          [
           "CHILE NECESITA ABOGADOS POR LA VERDAD 30 AÑOS D MANIPULACIÓN POLÍTICA DE CONCERTACION. Nos han llevado a esta corrupción CORRUPTOS; POLITICOS. (3 poderes hay que cambiar)O N U. F m i . Infiltración. Inmigración ilegal. Traidores a la Patria. PLEBISCITO ILEGAL. Singapurismo url"
          ],
          [
           "Yo creo que pronto llegarán los inmigrantes de esos que compran y compran terrenos en el sur de Chile"
          ],
          [
           "ALERTA CONGRESO NO FIRMEN TAL CANALLADA DEJAR ENTRAR SIN PAPELES A INMIGRANTES."
          ],
          [
           "SI..SI..PABLO..ACÁ VINIERON INMIGRANTE, MILLONARIOS..Q QUERÍAN VER DE Q SE TRATABA.. LA AMÉRICA ..ESTACIONARON SUS YATES EN EL PUERTO DE BAIRES..COMPRARON ESTANCIAS..Y BUE..DESPUÉS ARMARON ARGENTINA ..TRATATE LOCO..TRATATE"
          ],
          [
           "@usuario Pero ellos quedaron en una zona sin apoyo ni pueden entrar al peru ni pueden entrar a chile pienzo que nuestro presidente con su apoyo y todos nosotros exijamos por lo menos dejen ingresar a chile a personas que estan en frontera y cierren todo..cree usted sea viable"
          ],
          [
           "@usuario O hacer claudicar al gobierno y dar opción a ciertos voceras que dicen por ahi que ellos lo paran todo,pero quieren inmigrantes sudacas,anda,como si estos fueran angeles.Los partidos mas nacionalistas minoritarios,han de tomar una decisión:unirse y entrar en el congreso."
          ],
          [
           "Los bebés no tienen culpa.Bienvenida Ema. De todas formas se hace necesario regular la inmigración ilegal"
          ],
          [
           "@usuario Si eso esta claro, el problema no es la migración, si no el alto % de esta, este país ya no da a basto y los chilenos ya no somos prioridad en nuestro propio país"
          ],
          [
           ".@usuario Que pasa en @usuario que migracion laboral esta manga por hombro @usuario atienda su tienda que se le cae encima y ni cuenta se da en estos momentos y desde hace meses caos en migracion laboral.. @usuario @usuario @usuario @usuario @usuario"
          ],
          [
           "La inmigración nunca va a parar ! Lo que se puede es regular pero nunca parara ! A caso han dejado de irse en yolas ? Entonces lo que deben es permitir o emitir un permiso a todo el que quiera entrar pero se debe crear un control de todo el que entre hashtag listo"
          ],
          [
           "chamo de pana y todo ser veneco es una mierda xd"
          ],
          [
           "@usuario Que malandraje. Cualquier delincuente se convierte fácilmente en policía. El estado venezolano es culpable de esto. Los funcionarios tienen poquito estudio y conocimiento y nada de formación. En la Unes se va como un liceo normal. La formación policial debe ser Especial"
          ],
          [
           "Antofagasta. La ciudad más violenta de Chile, gracias a la inmigración descontrolada de gobiernos anteriores."
          ],
          [
           "La situacion en Republica Dominicana es critica, y las agendas LGBT y migratoria, pretenden terminar con el pais, gracias a una invasion fusion y una serie de metodos que atentan contra lo mas intrinsico de los dominicanos, sus estudiantes, y ese mal es la Ideologia de Genero."
          ],
          [
           "@usuario @usuario @usuario Ya que te gusta informarte te dejo un par de artículos que podrían interesarte: url y url. Aparte Chile no es la panacea de los servicios públicos como para que los inmigrantes queramos venir a \"robar\" salud y educación, créeme! emoji cara con ojos en blanco emoji"
          ],
          [
           "@usuario @usuario Lamentablemente este Gobierno termino de entregar el País en bandeja . Estamos hasta el perno. Inmigración ilegal, delincuencia, narcotrafico, lumpen, etc etc , no hay control ni orden y cada día será peor ."
          ],
          [
           "@usuario Es una realidad social ya dejé de politizar ay qué tomar medidas contundentes con los venezolanos que es una realidad muchos vienen a delinquir y no se puede seguir romantizando la delincuencia"
          ],
          [
           "@usuario @usuario Pero no fueron culo de encontrar un culpable de las quemas de estaciones de metro.. Y ni hablar de la pasarela de inmigrantes que hay en el norte.. Pura basura."
          ],
          [
           "@usuario Boy Me sorprendió que el mundo se acabe y sigan las deportaciones de inmigrantes kk vei Sdds qnd disparó al presidente .."
          ],
          [
           "@usuario @usuario No tendríamos q ofrecer ese tipo de trato es un bien común una problema menos de migración ,narcotráfico, y peligro eminente de individuos no deseados a su país a sus terroristas del medio oriente emoji cara sonriendo con gafas de sol emoji"
          ],
          [
           "@usuario @usuario Que triste con esta gente ignorante, egoístas. Sólo piensan en su bienestar. No se que tienen en la cabeza. Autoridades que les apliquen el peso de la ley. Señores policías protejanse aparece uno sin mascarillas."
          ],
          [
           "@usuario @usuario Y la gente sinceramente se canso de la inmigracion ilegal, no hay trabajo en chile como para tanta gente!!"
          ],
          [
           "Esos Ediles que Protegen y tienen los RICOS como a la Mattei y Lavin que no conocen de Necesidades ni de Pobreza y siempre se han movido en Barrio Alto que le van a INTERESAR LOS INMIGRANTES ni los CESANTES"
          ],
          [
           "Gracias ⁦@usuario⁩ por tus inmigrantes ahora somos un país más seguro emoji cara con símbolos en la boca emoji url"
          ],
          [
           "@usuario @usuario @usuario @usuario La realidad es que en la práctica al entrar como turistas y luego conseguir un contrato están burlando la ley. Falta además un política pública que aclare cuantos migrantes soporta el sistema de salud y otros de apoyo social a los chilenos más vulnerables"
          ],
          [
           "@usuario El termino veneco lo utilizaron los colombianos hace los mismos colombianos q se la echaban de venezolazos, nada q ver con todo . Como en toda parte del mundo, cuando hay inmigracion extranjera llega gente de todo tipo, la xenofobia es el peor mal del ser humano"
          ],
          [
           "@usuario hashtag stopsb101.hashtag protect ncfamilies @usuario Necesitamos parar todos estos proyectos de leyes anti inmigrantes que afectarían y perjudicarían bastante a nuestras comunidades inmigrantes trabajadoras."
          ],
          [
           "@usuario Le creo,la situación es de cuidado con los migrantes emoji cara radiante con ojos sonrientes emoji emoji cara revolviéndose de la risa emoji emoji cara neutral emoji"
          ],
          [
           "@usuario @usuario No he visto ni un solo venezolano raquítico, desnutrido, de los que están de mendigos en las calles de las ciudades de Ecuador. Entre los venezolanos que permanecen en su país y muestran los canales de televisión, entre ellas la CNN, tampoco se ve personas mal alimentadas."
          ],
          [
           "@usuario @usuario Bueno, que tiene que haber controles, siempre. Pero eso no se puede cambiar por menos inmigración. Hay que reducir drásticamente la inmigración. Ya no somos la Argentina de hace 100 años. Este país tiene demasiada pobreza y desempleo; no necesita que le manden más."
          ],
          [
           "@usuario Con suerte el 10% de esa gente son Chilenos, el resto puros inmigrantes q seguro entraron ilegal gracias a tu @usuario y q @usuario INCREMENTÓ y se pasó por el otro la LEY VIGENTE DE INMIGRACIÓN DE 1975. Sino ningún ilegal hubiese podido entrar. Wn LADRÓN Y MENTIROSO"
          ],
          [
           "@usuario Y en cambio en Colombia los premian, regularizando su estado migratorio, a cambio de que?? De no aportar nada a Colombia, solo crimen? En cambio los venezolanos que sí están acá de forma legal, pagando impuestos y demás les toca endeudarse para regularizar su situación"
          ],
          [
           "CHILE SOBREPASADO POR INMIGRACIÓN ILEGAL"
          ],
          [
           "La mata da de todo, por uno pagan todos, y lamentablemente asi será, que se pida documentos en regla en la frontera norte para que los venezolanos puedan entrar al país, no tiene? Regrese por donde vino."
          ],
          [
           "Esa gente es antiderechos, antifeministas, antiniñez, antibosques, antimigrantes, antivacunas, antigente.. así no se puede. Espero que @usuario deje de darles cancha. hashtag basta de antiderechos, Paraguay. url"
          ],
          [
           "@usuario La inmigración ilegal apoyada por sectores del apruebo"
          ],
          [
           "@usuario @usuario @usuario Siguen entrando caravanas de migrantes no le queda claro al gobierno qué hay qué frenar el flujo?"
          ],
          [
           "@usuario Mil razones y justificaciones para favorecer la inmigración desastrosamente descontrolada."
          ],
          [
           "@usuario Los anti migración weviando con Venezuela.."
          ],
          [
           "Él inmigración colombia está feliz porque hay 600venezolanos trabajando y los colombianos sin empleo que porquería dé gobierno"
          ],
          [
           "@usuario Y ahora estamos mas ligados que no sabemos quien es quien, yo hace unos mese hablaba con un cuñazo y hablé mald e los vecinos y resulta que el tipo es hijo de colombianos, y cómo el insepulto le dio cedula y nacionalidad a millones, no joda."
          ],
          [
           "@usuario @usuario Tuviste que ir hasta DC y estar allá 3 o 4 días para que entendieras que eso es algo que siempre tiene que hacer el gob de México?? Cuidar la frontera evitando a toda costa que cruce gente indocumentada. En serio @usuario ??"
          ],
          [
           "@usuario @usuario DEBE SER POR AMLO QUE USA ESTA LLENO DE INMIGRANTES MEXICANOS"
          ],
          [
           "@usuario @usuario @usuario @usuario @usuario @usuario @usuario @usuario @usuario @usuario @usuario @usuario @usuario En los ultimos 10 años el 10 por ciento de la poblacion de Paraguay se radico en Argentina. Somos 50 millones, los sindicatos del estado, antes de la pandemia, no querian hacer el censo. Con una economia destruida recibis inmigrantes y no tenes vivienda ni trabajo para ellos."
          ],
          [
           "@usuario @usuario @usuario asu una veneca con bandera de ecuador y nombre de colombia viviendo en peru q original"
          ],
          [
           "Cambiamos aranceles a la exportacion mexicana por control en la frontera sur.. pero que hacen los Gobiernos Centroamericanos para controlar, regular o detener a sus conacionales que caminan a un futuro incierto, cansado y peligroso."
          ],
          [
           "@usuario Es un desorden de desgobierno Renato, todo lo que tiene que ver con inmigrantes, sobre todo ilegales, y una falta de respeto hacia la autoridad de Colchane. Feo, muy feo."
          ],
          [
           "@usuario Es venezolana, su opinión no cuenta."
          ],
          [
           "@usuario Ahora pregunto , cómo no quieren que halla xenofobia en Perú? Cada vez que hablan de un crimen hay un venezolano involucrado ."
          ],
          [
           "@usuario @usuario @usuario @usuario HOY RADIO DESIERTO LOS ANTOFAGASTINOS DIERON SU PARECER CON RESPECTO A LA MIGRACIÓN Y TODOS COINCIDEN EN QUE YA BASTA DE MIGRACIÓN LA CARIDAD EMPIEZA POR CHILE emoji bandera chile emoji emoji manos en oración emoji"
          ],
          [
           "@usuario cada país cuida los suyos estamos en una situación donde no podemos darnos infulas de país rico y lastimosamente las cosas tienen que ser asi Colombia y la nacionalización de venezolanos traerá problemas a largo y corto plazo de eso no queda duda"
          ],
          [
           "@usuario Farsante, el dizque \"embajador\" con DNI en el Perú. Porque si sabe que esto ocurre, porque ahora han exigido la regularización de mas de medio millón de ellos y porque se hace de la vista gorda, con los que ingresan por la frontera. Porque no exige, q no se les deje ingresar"
          ],
          [
           "@usuario @usuario Llevamos 2-3 años haciendo lo contrario. Permitimos migración masiva de 2 millones a un mercado laboral q ya tenía sobreoferta laboral. Q creían q iba a pasar? @usuario y lo peor le dimos un respiro Maduro. Todo insatisfecho se fue, quedaron los q dependen del estado."
          ],
          [
           "@usuario @usuario Lo de la inmigración ilegal y descontrolada no es crisis para el gobierno. @usuario está implementando una política hashtag antichilena sin precedentes @usuario y sus esbirros debieran ser juzgados por alta traición a la patria"
          ],
          [
           "Al colombiano lo han discriminado en todo lado,, pero el colombiano recibe hasta el hpta, migración Colombia es una ramera no controla nada y todo por aquello del síndrome del ambajador de la India."
          ],
          [
           "@usuario @usuario @usuario @usuario Presidente no se ponga a estar dando bono más bien genere empleo para que el pueblo haitiano venezolano colombiano ecuatoriano peruano y chileno se ganen el dinero como es debido no mal acostumbré al pueblo regalando ya que eso es lo que está haciendo maduro en venezuela"
          ],
          [
           "@usuario @usuario Hay algún estudio q estime la masa de inmigrantes con trabajo en perjuicio de chilenos cesantes?"
          ],
          [
           "@usuario La 4T quiere obtener dinero a cómo de lugar para mantener a los migrantes"
          ],
          [
           "Yo si estoy de acuerdo en que deberíamos hacer control migratorio: Colombia debería controlar la salida de nacionales que luego van y nos hacen quedar en ridiculo a los demás ante el mundo."
          ],
          [
           "@usuario Urge que Colombia empiece una política de migración estricta que incluya una visa, y la revisión de antecedentes penales de todos los venezolanos que ingresan al país"
          ],
          [
           "@usuario A todos los inmigrantes venezolanos, colombianos, en general que ingrese al país debe exigir cuentas bancarias visa etc"
          ],
          [
           "@usuario No sea weon, en paises del primer mundo ponen un monton de trabas para entrar, muchos requisitos, q nada tienen q ver con la raza, no hable weas, piden q uno posea dinero y una profesion q aporte al pais, en cambio chile no pide nada, es x eso q el inmigrante vive de modo miserab"
          ],
          [
           "@usuario Oigan no jodan, acaso esperas que pierda la vida un soldado peruano a manos de una turba de inmigrantes extranjeros, es obvio que los disparos son al aire pero WAYKA ustedes si se estan disparando a los pies publicando noticias sesgadas."
          ],
          [
           "@usuario @usuario @usuario Jaja aceptenlo todo venezolano que estra al país es delincuente. Ese es tu razonamiento. Si escribieras gramaticalmente correcto tal vez te dejarías entender mejor. Pero sigue así y ni tú te entenderás."
          ],
          [
           "Que le pides a un zurdo disfrazado de centro-derecha? Nos engañó a todos y ahora mos tiene cagados y llenos de cesantes chilenos mientras ganan y lucran los inmigrantes ? Piñera y sus secuaces: TRAIDORES."
          ],
          [
           "@usuario @usuario @usuario @usuario @usuario @usuario @usuario @usuario @usuario @usuario @usuario @usuario @usuario @usuario Trajeron inmigrantes para los trabajos que los chilenos no quieren porque les pagan poco y los chilenos prefieren vincularse al narco que les da mayor rentabilidad. Además a los inmigrantes en algunos trabajos los \"empresarios\" les pagan menos del mínimo. No soy del PC"
          ],
          [
           "@usuario Los persiguieron,investigando el plan de vuelo, donde estaban sus casas etc, etc., es ridículo y no tener interés por la vida de todos, emitir frases hechas, manoseadas hasta el cansancio, lo cierto es que : FUERA INMIGRANTE QUE ATENTA CONTRA LA SEGURIDAD NACIONAL, QUEREMOS VIVIR"
          ],
          [
           "@usuario @usuario @usuario @usuario Si gracias a dios, y muy objetivo, colombia no puede seguir recibiendo migrantes indiscriminadamente, la politica social que tenemos genera demasiado desempleo y desigualdad, por ende primero debemos enfocarnos en nuestra estructura interna que la externa"
          ],
          [
           "@usuario @usuario @usuario @usuario migracion.por favor deporten está mujer ya mostró de que es capaz. No merece estar aqui..q no le haga daño a nadie mas..y en nombre de mi país pido perdón a la madre y familia"
          ],
          [
           "Soy partidario de la construcción de un muro doble; 1.-EL MORAL consistente en la potencialización del orgullo de los dominicanos APOSTADOS allí;y 2.-EL.MURO FÍSICO: consistente en la edificación QUE OBSTRUYA EL INGRESO MEDALAGANARIO Y DISCRECIONAL DE HAITIANOS AL TERRITORIO."
          ],
          [
           "Este Cura solo está instando el odio entre los chilenos y los migrantes ? yo lo expulsaría de Chile ya ? @usuario @usuario @usuario"
          ],
          [
           "¿Y a México? Que entre y salga quién le de la gana, ya casi un año con esto, ya le dieron en la madre a todo,solo falta el cierre de fronteras, que era de lo primero que debían hacer. ¡Dios, llévatelos! Pero no en avión"
          ],
          [
           "@usuario @usuario @usuario Esa es una carga muy grande de México,por , este gobierno que no existe la falta de huevos no podemos aceptar migrantes en México bastantes problemas tenemos y más con amlo crisis económica recesión y más inseguridad imposible hashtag amlo el fracaso presidencial"
          ],
          [
           "@usuario Que vergüenza!! urlted metió a México en este problema con los migrantes.!!es su responsabilidad!!"
          ],
          [
           "Y ahora se pone a decir que los inmigrantes vienen a robar..mira señora VÁYASE A LA CUEVA DE DONDE HA SALIDO Y NO SALGA MÁS."
          ],
          [
           "@usuario EL FIRMO EL PACTO MIGRATORIO, el es el culpable junto con la Izquierda. Lo que pasa en Chile es el Cansancio del Abuso de la clase política corrupta. Deben irse todos."
          ],
          [
           "Ahora que el Perú tiene una importante migración venezolana, urge que conozcamos su historia porque tarde o temprano esa peste puede colarse por nuestra ventana."
          ],
          [
           "@usuario presidente no sea indolente como duele saber que estemos siendo dirigidos por alguien como usted un ser indolente que prefiere el caos para un país que el mismo bienestar nada le cuesta cerrar fronteras aéreas y respetar la decisión de alcaldes y gobernadores como duele .."
          ],
          [
           "@usuario @usuario @usuario Irresponsables las personas que siendo migrantes se ponen a tener hijos sin la capacidad económica para mantenerlos y luego le exigen al gobierno que se los mantenga.."
          ],
          [
           "@usuario ¿Por qué no se preocupa mejor de castigar a quienes son culpables y/o artífices de la llegada descontrolada de inmigrantes a nuestro país?.. Y no son uniformes, son overoles de protección contra el COVID-19.. tiene mal puesto su foco."
          ],
          [
           "México surrealista, que pinche coraje. ¡Ah pero con los migrantes si se ponen al tú por tú! emoji cara cabreada emoji"
          ],
          [
           "@usuario Diselo a Antón Losada uno de los muchos \"intelectuales\" del régimen progre que en su peculiar demagogia y su falsa imagen que quiere tque invadan nuestras fronteras con todos los inmigrantes que para eso paga impuestos. Menudo payaso"
          ],
          [
           "No concibo que de los 8700 Migrantes, en Chiapas se quede la mayoría y se les ofrezca un empleo y sueldo Digno..mientras la Mayoría de los Chiapanecos siempre han buscado eso, sin tener éxito!!..ver para creer!!.."
          ],
          [
           "TODOS CORREN A FRONTERAS EEUU CON MEXICO CENTRO Y SUR AMERICANOS JAJAJA MIENTRAS LOS LADRONES ASESINOS NARCOS SUS CAPITALES TAMBIEN ROBADOS A SUS RESPECTIVA NACIONES AL EXTERIOR FIDEL CASTRO CHAVEZ ORTEGA MADURO CRISTINA BACHELET CORREA"
          ],
          [
           "Cuando te crees que van a llegar las vacunas de navidad a la Argentina krishnerista.. Cuando no tienes ni idea de cuántos Venecos hay en Colombia y te atreves hablar pendejadas.."
          ],
          [
           "@usuario porque ofrecer trabajo a los migrantes si exite desempleo para los mexicanos"
          ],
          [
           "@usuario Paraiso para los migrantes y delincuentes también"
          ],
          [
           "@usuario Se parece a los venezolanos que vienen a Argentina: hacen antichavismo y anti kirchnerismo, trabajan de lo que sea porque son pobres y dan ganas de pegarles una patada en el culo.."
          ],
          [
           "¡¡No estamos peleados con el desarrollo individual humano, pero el Presidente @usuario neta la regó!! En el minuto 23 demuestra más apoyo a inmigrantes que a los mexicanos que no tienen empleo y viven al día como todos. url"
          ],
          [
           "Esos inmigrantes que contribuyen con el desarrollo son los que queremos, NO los delincuentes VENEZOLANOS, que hay por doquier, tal plaga de langostas, aqui en PANAMA..aparte que se creen raza superior y no respetan ley ni orden..UNA COSA ES VELOCIDAD Y OTRA ATROPELLO.."
          ],
          [
           "Fuera importacion de pobreza extranjera primero los chilenos fuera nueva ley de inmigracion muchos chilenos piensan como yo ya despertamos.ya hay guerra civil en el sur con los terroristas extranjeros y chilenos contra el pueblo honesto y no haces nada solo tienes dinero"
          ],
          [
           "@usuario @usuario @usuario @usuario @usuario @usuario @usuario Entonces tú también apoyas la nacionalización de venezolanos .. JAJAJAJA emoji cara llorando de risa emoji la extrema derecha que tanto criticaba a Vizcarra por no ponerle un alto a inmigración venezolana ahora apoya a Rafael López Aliaga que quiere nacionalizarlos emoji cara llorando de risa emoji url"
          ],
          [
           "@usuario @usuario Ajá, se les dió trabajo y no quisieron, solo estiran la mano y quieren que nuestro gobierno los mantenga y cuidadito con darles cosas que no les gustan porqué puff! Se te van a los golpes. Por eso acá en México se le llama \"inmigrante hondureño\". Relájate un chingo mijita emoji cara llorando de risa emoji emoji cara con ojos en blanco emoji"
          ],
          [
           "Tengo amigos venezolanos, pero lamentablemente este caos no es de nuestra idiocincracia.. También tenemos delincuentes, solo que no tan masivos"
          ],
          [
           "¿Cuál es la lógica de esto? ¿Que nunca ha habido criminalidad desatada por bandas de delincuencia organizada de colombianos? ¿Que las autoridades han sido muy eficientes conteniendo a la delincuencia nacional? Abajo un tipo comenta que hay que construir un muro en la frontera."
          ],
          [
           "Control inmigración. No más buenismo convertido en negocio. Nadie en sus cabales deja entrar a alguien en su casa sin saber quién es ni qué intención tiene."
          ],
          [
           "@usuario No es xenofobia lo que dice la alcaldesa es muy sierto lo que dice los colombianos andamos con tanta inseguridad, el presidente beneficiando a venezolanos. esta mujer si deberia ser presidente de colombia, le sobran pantalones"
          ],
          [
           "@usuario @usuario La orden les llego de arriba para dejar entrar tanto inmigrante, los peces gordos se llenaron los bolsillos y todos sabemos quiénes son."
          ],
          [
           "@usuario Y lentar el muro.. y aprovechar floras y faunas.. drones, Cámaras con pantallas solares.. Pero usar la frontera para beneficiar a bandidos, es un acto terrorista contra el pueblo dominicano!"
          ],
          [
           "@usuario Si de calidad hablamos, sería prudente que el honorable asuma la mediocre gestión de su sector político al permitir un ingreso sin control de personas que hoy viven en situaciones de miseria y abuso, gracias a sus elevadas politicas migratorias, eso sí resuta deplorable y bajo."
          ],
          [
           "@usuario Es un error enorme, en su mayoría las empresas que generan trabajo en el Estado son extranjeras.Vienen invierten y explotan al mexicano. Contaminan y acarrea la ilegalidad migratoria con ello delincuencia y vandalismo. Si ponemos el nacionalismo que se intenta con la Reforma E"
          ],
          [
           "@usuario Es excelente darles el estatus y normalizar a muchos venezolanos que están en la ilegalidad. Así se hace más fácil el control de los delincuente y se acaba el negocio de algunas registradurías seccionales que expiden cedulas fraudulentas por $$."
          ],
          [
           "@usuario @usuario @usuario Hombre, evidentemente no soy tan listo de Twitter como tú, pero cuando no hay otro modo de parar la inmigración ilegal, cómo lo haces? \"Eh, no paséis, que no hay cama pa tanta gente..\""
          ],
          [
           "&quot;inmigración ilegal"
          ],
          [
           "@usuario @usuario @usuario Usted se queda calladita que usted es una simple inmigrante y todavia falta lo que dictamine la corte suprema y no se emocione porque los medios lo que hacen es difamar. El que quiera socialismo que se venga para Venezuela."
          ],
          [
           "@usuario Tú preocupado por inmigrantes y el Covid subiendo. Vete a la M..!"
          ],
          [
           "@usuario @usuario @usuario @usuario No por el echo de ser inmigrantes, y que tengan los mismos derechos por su pago a México, significa que hagan está clase de cosas. Se que no son todos, estoy consciente. Pero como evitas, que esto suceda?."
          ],
          [
           "@usuario @usuario @usuario @usuario Al igual si analizan los robos el 70% son hechos por venezolanos por eso aumento la delincuencia no ahí un control migratorio de antecedentes"
          ],
          [
           "@usuario @usuario @usuario No los puso como enemigos xq es ilegal que tú entres a un país sin pasar por los procesos que ese país exige. El no está en contra de los mexicanos sino de aquellos que entran ilegal."
          ],
          [
           "@usuario Que opina ud cdo P. Narvaez dice suelta de cuerpo q el modelo neoliberal ha fracasado?? Y mientras siguen llegando inmigrantes Y sin considerar cómo era Chile en 1970, 1990 y 2018 Hacer campaña mintiendo asi.. otsea!!"
          ],
          [
           "@usuario @usuario Fregar a México, traición a la patria con el pacto migratorio."
          ],
          [
           "@usuario Cierre fronteras re contra malparido."
          ],
          [
           "@usuario Esos 3 desertores le están declarando la guerra a Colombia, enconchados en territorio Venezolano y arropados por la narco-dictadura que usurpa el ejecutivo. mientras menos tiempo respiren oxigeno, mas vidas humanas se van a salvar, son terroristas confesos y activos."
          ],
          [
           "@usuario Para eso La ONU los llenó de migrantes para desestabilizar, México Hiba por el mismo camino ,los gringos obligaron al gobierno a frenarlo ,se veia a leguas que eran un herramienta para eso ,también nuestros gobiernos tienen una estrategia similar,dejar que el caos cunda observen"
          ],
          [
           "@usuario @usuario Desaparecidos? Orita no! Estamos usando ese dinero para mantener migrantes emoji dedo índice hacia arriba tono de piel claro emoji"
          ],
          [
           "@usuario @usuario @usuario un millón de Venezolanos buscando trabajo para poder comer y sobrevivir y siguen entrando gracias a esa basura de ideología chavista comunista que te vende el paraíso y mira como termina."
          ],
          [
           "@usuario Más venezolanos para Colombia"
          ],
          [
           "@usuario @usuario emoji advertencia emoji Esa era la Madre del Cordero, de Traer a los Inmigrantes, VOTOS para la Izquierda, para el Tercer Gobierno de la Corrupta !"
          ],
          [
           "@usuario Los rolos son el resultado del \"mestizaje\" entre Bogotanos con migrantes de otras ciudades. En síntesis los cochinos hijueputas son los q vienen a la capital a hacer vida y no tienen un culo de educación. Las mañanas migraron con ellos."
          ],
          [
           "@usuario @usuario Inmoralidad en todo el Estado..el que pueda vayase a vivir a otro lado..hija de inmigrantes..jamás creí que iba a llegar a pensar esto emoji cara triste pero aliviada emoji"
          ],
          [
           "@usuario Cómo así enviarlos a la cárcel acá en Colombia, cuántos colombianos hay presos en Venezuela les apuesto que en 3 días máximo están otra vez robando aca en Bogotá que falta de justicia en este país"
          ],
          [
           "@usuario @usuario Sillas, muertos, inmigrantes, niños.. todo lo qué sume a su causa y puedan desechar a la primera."
          ],
          [
           "@usuario Nos va terminar saliendo más barato hacer un muro en la frontera sur y que lo paguen los hermanos centroamericanos emoji cara revolviéndose de la risa emoji emoji cara llorando de risa emoji emoji cara revolviéndose de la risa emoji"
          ],
          [
           "@usuario Simplemente es proteger la seguridad de MÉXICO, con tanto migrante malandro que viene."
          ],
          [
           "Tanto que se beneficiaron los Colombianos en Venezuela, que hasta malas prácticas llevaron al País, y ahora se lavan las manos como Ponciu Pilatus. Ayuden a Venezuela.. No se haga los indiferentes."
          ],
          [
           "Dostora explique el ingresox el norte inmigrantes a Chile en Pandemia y todos los dias en Buses cruzando 4 o 5 paises .Y un Chileno para viajar tiene muchas limitaciones hashtag bienvenidos13"
          ],
          [
           "@usuario BUENAS NOTICIAS!! Los venezolanos en la frontera norte pudieron pasar, gracias a tu presidente y tu flamante alta comisionada para los derechos humanos. Te informo que van a enterar mucho mas venezolanos emoji cara llorando de risa emoji emoji cara llorando de risa emoji"
          ],
          [
           "@usuario @usuario Déjenla pasar..Déjenla pasar..POR LA FRONTERA SUR."
          ],
          [
           "@usuario El muro tendra puertas. Puertas por las que pasaran los migrantes LEGALES que cumplan los PROCESOS que SOBERANAMENTE establezcan los Estados Unidos."
          ],
          [
           "@usuario Y después simplemente se unen a la caravana migrante y alegan que en su país no hay forma de salir adelante y buscan el sueño americano o se plantan en otro país y siguen sangrando el sistema."
          ],
          [
           "@usuario Sr Pte necesitamos urgente refuerzo militar policial acá n PJC..para control estricto xq ya no se respeta el cierre d la frontera..demasiada gente pasa,mismo con el supuesto control militar.. emoji cara agotada emoji"
          ],
          [
           "@usuario ¿? ¿Y usted ya olvidó cuando abrió puertas de Chile de par en par permitiendo una inmigración irresponsable y desatada? Todo el caos en consultorios y cupos para escuelas es responsabilidad suya y de Bachelet."
          ],
          [
           "@usuario @usuario Unidad Nacional? Si es un monstruo que ha polarizado y divido al país entero!! Apoyo para que convierta a México en Venezuela ? Ud esta igual de loco ! Váyanse porque esto no acaba hasta que se acaba"
          ],
          [
           "@usuario @usuario @usuario Los inmigrantes en chile en su mayoría tienen los trabajos que los chilenos no quieren hacer, estoy de acuerdo en que el estado debe regular más a quien deja entrar en el país, pero decir que por los extranjeros los chilenos no tienen trabajo es irreal."
          ],
          [
           "@usuario Y no te dio rabia el genocidio ocurrido en Chile durante el Gobierno de @usuario en el que murieron más de 25.00 compatriotas por falta de atención médica, no sabes cuántos chilenos han muerto por no ser atendidos a tiempo. No estamos en condiciones de recibir inmigrantes"
          ],
          [
           "@usuario La culpa no es de los inmigrantes, es el sistema público rasca, ineficiente y que a los Gobiernos les importa emoji champiñón emoji emoji champiñón emoji"
          ],
          [
           "@usuario @usuario Mientras el trabaje para los Centroamericanos!! El pais no va ir para un solo lado? Muchos estan molestos por tanta ayuda a los Centroamericanos, y con el pacto migratorio? Que no le dice al Mexicano todo lo que trae? El pacto migratorio!!"
          ],
          [
           "@usuario Resentido? Lo diras por los inmigrantes, a mi me da absolutamente lo mismo que ellos puedan tener casa o celulares. No soy como otros que critican hasta eso \"si los chilenos no tienen celulares ellos tampoco pueden tener\" emoji cara revolviéndose de la risa emoji emoji cara revolviéndose de la risa emoji Paz no mas emoji pulgar hacia arriba emoji"
          ],
          [
           "Asi mismo es aunque los paramilitares estan en Venezuela desde hace tiempo han invadido territorio y creado hasta urbanizaciones a las que le han puesto nombres de barrios colombianos como por ejemplo Buena Ventura"
          ],
          [
           "@usuario Además, así los países se libran de llenarse de inmigrantes solo porque no piden nada . Si es un problema de Venezuela que afecta la región no debe ser un solo país el que cargue con todo, y en ese caso protege su nación con visado."
          ],
          [
           "@usuario @usuario @usuario Maduro lo hubiera recibido con honores, seguramente esa es la misión que les encomendó a los presos que liberó y llegaron a Colombia como refugiados"
          ],
          [
           "@usuario El gobierno es una puta caca , pero tú eres un deficiente, puto pelo cordero !! Me tienes hasta la polla !! En Avila no hay más que cagao de turismo , y triperos explotando a chavales e inmigrantes en la hosteleria, dónde está la industria ?? TROZO MIERDA !!"
          ],
          [
           "@usuario Asentamientos conformados por migrantes trabajadores son muy apreciados..pero cuando no es así..ue pasa? Cuando lo que llega a un país no es la calidad de la migración esperada..que sucede?"
          ],
          [
           "¡Santiago! Mientras tanto, sin tren de uso diario entre Concepción y Puerto Montt y Valdivia. Centralismo sin control. Ya viene la migración que cambiará a Chile."
          ],
          [
           "@usuario Debemos aprender a convivir, ya Colombia y Venezuela prácticamente es un solo país, con una frontera libre y sin control alguno con los migrantes venezolanos."
          ],
          [
           "@usuario @usuario @usuario ¿Existe alguna Ley que prohiba embarcar a todos los venezolanos que estàn ingresando a Colombia y enviàrselos a los países que simpatizan con Maduro?"
          ],
          [
           "Con que derecho un inmigrante hace eso en un pais ageno?"
          ],
          [
           "@usuario @usuario Es simple, parar los migrantes antes de llegar a México o siquiera mostrar la intención de hacerlo."
          ],
          [
           "@usuario no puede ser el descontrol de ingreso de venezolanos por tumbes, por favor, presidente del Perú que está pasando en tumbes??"
          ],
          [
           "@usuario jaja q hijoeputas son los colombianos jaja y hablan paja de venezuela"
          ],
          [
           "@usuario @usuario Inmigrantes, mano mas barata?, obvio, si ni un chileno con tanto bono de mierda quiere mover el poto, y los que llegan quieren trabajar y partir.. No dijo ni una mentira..recuerdas cuando el comentario era \"prefiero una nana P..\" ahora, esto de la mano más barata se da en emoji globo terráqueo mostrando asia y australia emoji"
          ],
          [
           "Los logros de la izquierda desde el 18O: Cesantía Quiebras Violencia Saqueos Odio Intolerancia Más migrantes Más pobreza Más desesperanza hashtag rechazo tu tongo"
          ],
          [
           "@usuario En vez de sacarlos cada día se la ponen más vacana aquí en Colombia..q se largue a su país a sacar al dictador y a exigir allá..fuera VENECOS!!"
          ],
          [
           "@usuario ¿de los mios? no,gracias,con lo que hacen los migrantes hondureños y salvadoreños en mi estado,tengo,para que un ignorante como tú,quiera hacerse el héroe."
          ],
          [
           "@usuario Hay que hacer responsables a los que permiten y viven de la inmigración ilegal. Estas violaciones son evitables."
          ],
          [
           "@usuario @usuario No hay odio, la inseguridad era un gran problema antes de la llegada de venezolanos al Perú. Los índices de criminalidad han aumentado con su llegada y eso esta siendo aprovechado por grupos políticos radicales tanto de derecha cómo de izquierda."
          ],
          [
           "@usuario @usuario @usuario @usuario La ley de inmigración de 1975 tenía la orientación para prevenir eso, pero se ha orquestado todo un sistema para eludirla y traer mucha más gente de la que Chile podía aguantar."
          ],
          [
           "Señora Sara, confunde migración con delincuencia. Ser migrante no es ser delincuente. Como ser nacional no lo inhibe de ser delincuente. Acá a Chile llegan delincuentes como llegan a Europa chilenos delincuentes, que son delincuentes, pero no por ser migrantes chilenos."
          ],
          [
           "@usuario antes de que vengan venezolanos ya hay mucho desempleo en Perú, así que es imposible que todos los venezolanos que llegan a Perú tengan trabajo estable eso es imposible porque no lo hay, tercero si quieren retornar es su decisión, solo que no tiene lógica.."
          ],
          [
           "El problema nunca fue la migración de venezolanos. El verdadero problema es siempre ha sido el Perú en general, su informalidad, malas gestiones, CERO PRODUCTIVIDAD Y EMPATÍA. El tipo de gente de mierda que tenemos en cargos importantes es lo que no nos deja avanzar."
          ],
          [
           "solo en el área de la salud, creo que en total superan los 40.00 despidos, súmenle a eso la migración de más de 200.00 extranjeros sin trabajo fijo, y todavía se preguntan porque aumento la delincuencia ?"
          ],
          [
           "Esto es impresentable.. Beneficios a inmigrantes.. Educación superior gratuita para todos.. Aborto libre y gratis..y un largo etc. cuando tenemos problemas como éste"
          ],
          [
           "@usuario Aceptación de inmigración ilegal POR COJONES"
          ],
          [
           "@usuario Vente a vivir a Chile entonces. Acá te esperan todos los pobres inmigrantes que trajiste en hordas y les mentiste. Ven a vivir en campamentos como ellos. Vieja cínica mentirosa y cobarde . hashtag rechazo emoji bandera chile emoji"
          ],
          [
           "@usuario @usuario Está avanzando un proceso de disminución de mano de obra no calificada a nivel mundial En los super hay cajas automáticas. La linea 6 del metro no tiene operarios. Chile ni siquiera se ha preocupado de esto. En unos años más la cesantía estará alta y con la carga de inmigrantes."
          ],
          [
           "@usuario El lobby que esta contra el rodeo es el mismo que tiene a Chile lleno de migrantes. Lo que quieren es borrar la cultura chilena. No me gusta el rodeo, pero me extraña que seas parte de esto."
          ],
          [
           "@usuario Claro, Mx es quien les permite pasar indiscriminadamente para llegar a la frontera. Aquí la mayoría de la población es pobre y ahora con tanto inmigrante habrá q compartir el ya de por si saturado servicio de salud! Los gobernantes? Ellos a particulares. Despierta Mx!"
          ],
          [
           "@usuario De nuevo es para los mismos de siempre. Hay gente profesional desempleada y no tienen ningun peso. Pero se los dan a los inmigrantes y a las mujeres flojas con 5 hijos."
          ],
          [
           "@usuario @usuario Los venezolanos noson problema ni del peru ni de su presidente, ve a exigirle tus derechos a maduro"
          ],
          [
           "@usuario E importó pobreza al traer miles de inmigrantes sin ningún plan de inserción"
          ],
          [
           "@usuario @usuario Buenismo y más buenismo. La culpa, como ha dicho Rocío, es de los que les dejan entrar, subvencionando redes de inmigración ilegal y creando efecto llamada"
          ],
          [
           "@usuario @usuario Claro tenemos que proteger nuestra frontera y evitar migracion desordenada"
          ],
          [
           "@usuario Jaja me acabas de conocer y ya sabes luche o no? Si estuve preso o no? Buenaa!! Jjaja te deseo suerte recibiendo migrantes, ya veo que eresq primeriza en eso."
          ],
          [
           "@usuario @usuario Es contra la inmigración descontrolada, no con toda inmigración."
          ],
          [
           "@usuario De crisis migratoria nada Pablo,nos estan invadiendo. Tenemos un gobierno de inutiles y una oposision igual. No se si seran ordenes url"
          ],
          [
           "Ya no soporto a Brasil, dime buenos países para la inmigración ilegal"
          ],
          [
           "@usuario @usuario El problema radica en la falta de presencia en las trochas, cada día entran paisanos sin las medidas de bioseguridad ni control del covid, ya adentro para que..?? Esas teochas deben ser controladas por el ejercito y migración"
          ],
          [
           "@usuario @usuario DEBE SER POR AMLO QUE USA ESTA LLENO DE INMIGRANTES MEXICANOS"
          ],
          [
           "A pesar de los comentarios progre.. NO ES XENOFOBIA.. EN EL 2020 96,8% de CAPTURAS DE EXTRANJEROS.. SON VENEZOLANOS.. Es percepción de la ciudadanía pero RESPALDADA EN CIFRAS DE LA POLICÍA NACIONAL.. Las cifras no mienten y los muertos tampoco! url url"
          ],
          [
           "@usuario Cooño pero que tipo para bruto!! Jjaja mamarracho opinando de Ecuador cuando todos los días no dejan de llagar acá venezolanos producto de tu ineptitud y sobre todo de tu inconmensurable grado de delincuencia, en silencio perro!!"
          ],
          [
           "@usuario Que la ayuda la soliciten los países de dónde salen los migrantes y que el se ocupe de trabajar por los mexicanos."
          ],
          [
           "@usuario @usuario Que increíble q el presidente del Senado sea un perfecto huevón. Podría ser cierto lo que dice el banco central, pero no en los porcentajes actuales 7% (1.250.00 sobre 18 millones) @usuario según esto cuando lleguemos a 2 millones de inmigrantes habrá empleo para todos?"
          ],
          [
           "@usuario No jure nada porque esta gente no llegara mejos, ningún país desta dejando entrar migrantes"
          ],
          [
           "@usuario @usuario @usuario Es un problema que el mismo @usuario ocasionó al permitir la entrada a cualquiera sin cumplir con los requisitos de migración, y solo por amenaza de Trump fue que los contuvo."
          ],
          [
           "@usuario Regordete Gayly. Das asco Peruano. Cuando vengas a Ecuador te recibiremos como te lo mereces. hashtag prensa basura"
          ],
          [
           "Una vergüenza la discriminación hacía nuestros niños Chilenos.@usuario @usuario Alcalde de Estación Central por colapso de salas cunas y jardines infantiles: \"la prioridad la tiene el migrante, hay cursos que sólo hay un niño chileno\" url"
          ],
          [
           "@usuario @usuario Los únicos que ponen en peligro los hashtag ddhh son los venezolanos, los militares están protegiendo nuestro país hashtag perú"
          ],
          [
           "@usuario @usuario @usuario y no es mi obligación refutarte ni mierda, si no sabes porqué se fueron los venecos de su país, lee pe' huevón, averigüa, a mi no me preguntes un carajo emoji cara sonriendo con gafas de sol emoji"
          ],
          [
           "@usuario @usuario Estos Policías Municipales de Santiago son unos asquerosos hijos de MMG, son policías de juguetes y RACISTAS así como su Jefe directo el Sr. Alcalde.. Yo estoy de acuerdo a la lucha a Inmigración clandestina, pero con humanidad y legalidad y no ser RACISTA!"
          ],
          [
           "@usuario @usuario @usuario Es que necesitan el recurso destinado para poder atender y mantener a los inmigrantes ilegales que irrumpen violentamente en el pais"
          ],
          [
           "@usuario @usuario @usuario Duque promovió la migración de venezolanos, esperando empleos en la gran capitalista que es colombia. Terminaron pidiendo limosna en todas las calles. Se vino lo peor de Venezuela"
          ],
          [
           "@usuario @usuario @usuario Y si en lugar de andar de argüenderos y lamebotas se ponen a trabajar y le exigen al \"presidente\" que haga lo mismo, con un mitin no van a resolver absolutamente nada, mejor implementen acciones para detener el ingreso de migrantes a Mexico ya basta de ocurrencias.."
          ],
          [
           "@usuario Lo que hay que hacer es cerrar esa frontera de inmediato y evitar más éxodo de venezolanos al país, el que entró que se quede, ya no se pueden más en el país o esto va a colapsar"
          ],
          [
           "Esto es importante Aquí en Chile también la educación cuesta plata Los Venezolanos juramos que debe ser regalada Estudiamos en una tronco de universidad como la UCV pero no aprendimos a pagar por la calidad"
          ],
          [
           "@usuario @usuario @usuario Todo cubano y venezolano q te encuentras en la calle dicen son especialistas,lo lindo están descubiertos, no saben nada, mediocres, había uno q no sabía cómo tratar la candidiasis genital, me respondió diciéndome:No me preguntes trátala tú;son solo estudiantes no saben nada"
          ],
          [
           "@usuario @usuario Y que dices del problema real en Chile: inmigración descontrolada ilegal"
          ],
          [
           "@usuario @usuario Que se vacunen en su país, eso mismo le van a decir a los colombianos que estén de ilegales en otro país. O bueno puede ser que halla países que si vacunen a inmigrantes ilegales, pero lo justo para mí es que se vacune primero la población nacional."
          ],
          [
           "Lo de regularizar inmigrantes lo llevan en el ADN.¿No fue Echenique el que tenía asistentes sin darles de alta a la Seguridad Social?De dónde sacaron a estos lumbreras..!"
          ],
          [
           "@usuario Por el \"mama guevo\" se entiende que no eres colombiano, creo que en Venezuela hay bastantes cosas por resolver como para que estés tratando de resolver las de acá, aporta en la solución a tu país. \"Mamaguevo\" como dices tú"
          ],
          [
           "@usuario Como \"periodista\" deberías estar mejor informado, Venezuela tiene años invadida por cubanos,rusos,chinos,sirios,y guerrilleros colombianos que han asesinado a miles de venezolanos.Pero solo te preocupa que USA invada,por que odias al país que te recibió de esa manera?"
          ],
          [
           "CIERREN FRONTERAS EN hashtag serio!! PARA INGRESO DE EXTRANJEROS QUE SIGUEN LLEGANDO COMO MOSCAS, EN CAMIONES Y REMISES CON LA FACILIDAD Q ENCUENTRAN ACA PARA ENTRAR Y TODAVÍA POSITIVOS, CON ALOJAMIENTO, COMIDA Y HASTA CHIP PARA CEL.!!HASTA CUANDO @usuario @usuario ??!!"
          ],
          [
           "Inician Saqueos y robos en Ambato Ecuador por ciudadanos Venezolanos @usuario. @usuario @usuario @usuario DDHH humanos esperemos se pronuncien por nuestra seguridad y no solo la de delincuentes. url"
          ],
          [
           "@usuario @usuario @usuario Esta que escribe es una ignorante. En los 70's 80's metían PRESOS a todos los migrantes en Venezuela, sobre todo a los peruanos. Infórmate un poco, conversa con tu padre (en caso seas peruan@usuario). Por eso, la generación de mi padre los aborrecen. url"
          ],
          [
           "@usuario Con esta decisión de ecuador me reafirmo en decir q ya es hora de cerrar la frontera. La seguridad nacional está en la línea roja"
          ],
          [
           "Parte de los protocolos del experimento de la ONU en nuestro pais junto con la demolición de las instituciones y la inmigración descontrolada. Es increíble pensar que Bachelet @usuario y la iz entregaron nuestra soberanía"
          ],
          [
           "@usuario No jodamos ahora ud.le va a enseñar a expresarse a la Alcaldesa? El dia q un migrante le pegue su puñalada nos cuenta vale? Ah y vaya y digaselo a los url decir la nacionalidad es tapar el sol con un dedo,los venezolanos nos tienen AZOTADOS!¡"
          ],
          [
           "@usuario Por favor cierre las fronteras, las 3 de Venezuela, no reciba mas gente, cuide a los ciudadanos de su pais..por davor"
          ],
          [
           "@usuario @usuario El terrorismo en Araucanía Apoyo a Carabineros Delincuencia Inmigración hashtag chile primero hashtag piñera atina"
          ],
          [
           "@usuario Bien por Duque pero recordemos que el nefasto Pres.Santos dejó legalizado 500 mil venez. con permiso de trabajo que desplazaron a igual # de colombianos Con Duque ya van casi 2 millones. Sin ser xenófobo le exijo que primero atienda los colombianos pobres y luego los de afuera"
          ],
          [
           "JUAN PERALTA volvé a México y encargáte de tus problemas..pobres inmigrantes..FORRO hashtag involucrados"
          ],
          [
           "@usuario No sólo en el Perú en muchos países de Latinoamérica tambien hay , pero esto se intensifica cuando la migración es desmedida como el caso de Venezuela, culpa del gobierno por no frenar esto que terminará afectando a todos"
          ],
          [
           "Cuando las maternidades de los hospitales públicos y consultorios están abarrotados de gente inmigrante con prioridad de atención por sobre los Chilenos, debe ser justo protestar pero no en un gobierno de izquierda"
          ],
          [
           "@usuario Entonces.maduro ante tanta brutalidad ,,cierre usted la frontera y no permita transito x hay"
          ],
          [
           "@usuario @usuario @usuario No sé usted quien sea pero no tiene ni idea de los problemas de la migración eso incluye infiltración de la ideologia socialista por ejemplo. Averigüe por qué el régimen veneco busca compras de terrenos en Colombia por ejemplo"
          ],
          [
           "@usuario Yo estoy de acuerdo en el \"derecho a la seguridad pública\" y además en \"limitar la inmigración\", y por supuesto impedir la inmigración de delincuentes. Ahora está bien?, ud concuerda con esto?"
          ],
          [
           "La derecha, otra vez, sigue sin identificar al enemigo. Y tampoco puede entender los conflictos de America del Sur. No muchachos, lo de Chile no fueron infiltrados venezolanos haciendo quilombo."
          ],
          [
           "@usuario Lo que pasa es que vienen los extranjeros de otros países con esa enfermedad y ellos pasan en el ingreso fronterizo que allí entran, la solución es que cierren el ingreso como hicieron en el aeropuerto y allí nadie podrá pasar al menos que se tomen medidas drásticas."
          ],
          [
           "@usuario @usuario La estreches mental la tienes tu Porque crees que esto de hoy en dia en una migracion normal legal y de acuerdo a lo que Chile puede soportar como un pais en vias de desarrollo Tu no puedes imponer masivamente la inmigracion a ningun pais, porque terminaras por colapsarlo.."
          ],
          [
           "@usuario Dejen de aprovechar, la necesidad de trabajo de Inmigrantes. O los tienen contratados? Para que hagan cursos de Conducción, en Chile si. Y paguen permisos de circulación, de sus Motocicletas."
          ],
          [
           "@usuario X eso pagan todos los venezolanos en chile jaja"
          ],
          [
           "@usuario como que no aquí hay más de seis millones de colombianos sin contar a los demás inmigrantes cual es la bulla?"
          ],
          [
           "@usuario @usuario @usuario @usuario @usuario @usuario @usuario Te repito que hay mexicanos en peligro real en la frontera norte. Los centroamericanos NO son nuestra responsabilidad. Ellos vienen bajo su propio riesgo y voluntad. El gobierno mexicano NO tiene por que ser responsable de ellos, se les trata de ayudar en lo que se puede"
          ],
          [
           "Exactamente, dejó a los niños mexicanos en la calle y a sus madres si poder ir a trabajar y a otros sin sus tratamientos contra el cáncer pero eso sí, todo el apoyo para niños migrantes, López es candil de la calle y es hipócrita."
          ],
          [
           "@usuario señor presidente cuando va a cerrar las fronteras ya estamos cansados de su inamovilidad, ya es hora k actúe y vea x el país."
          ],
          [
           "Curioso, además de repetirse el libreto, en el Estallido Delincuencial en Colombia se ha identificado presencia de venezolanos. Tiene cara de burro, oreja de burro, cola de burro: es Maduro."
          ],
          [
           "Y que esperamos para salirnos sr @usuario estás son mafias encubiertas que nos han llenado de inmigrantes, operadores políticos y el nefasto cáncer. Cuando el @usuario se dará cuenta que es un dinero que nos sirve para gastos que si son importantes, no para tirar"
          ],
          [
           "@usuario Sr. @usuario en lugar de buscar esas firmas, no seria mejor buscar la manera de una Intervención Militar para ayudar a salir de estos delincuentes?? Vamos a seguir con la guewonada?? O será que todos los políticos venezolanos tienen poco cerebro??"
          ],
          [
           "@usuario @usuario Los mexicanos pueden trabajar en territorio nacional. Los migrantes no. Digo por aquello de sus comparaciones sin contexto. ."
          ],
          [
           "@usuario A todo coche le llega su sábado. Paciencia Jimmy el tuyo llegará. Tu legado: más pobreza extrema, más inmigrantes, más analfabetismo, no carreteras, no hospitales, educación en retroceso, seguridad cero y narcotráfico totalmente infiltrado. Que moral tenés para juzgar a la CICIG."
          ],
          [
           "@usuario Cómo inmigrante que vivió esa situación estoy completamente de acuerdo. Hay que cuidar el Perú de los maleantes"
          ],
          [
           "Si señor, Echenique, hay que regularizar a todos los inmigrantes. A usted, el primero. Pedazo de imbécil!"
          ],
          [
           "@usuario Presidente ,tarde reacción de controlar migrantes venezolanos de MADURO Ya hay miles en Chile entre estos infiltrados y delincuentes. Escuche a los ciudadanos de verdad . Pare la migración Por el bien de su país NO TEMA , menos los retorcidos del INDH"
          ],
          [
           "Dios santo se metieron todo los venezolanos a colombia vean que contagio puede aver url"
          ],
          [
           "@usuario @usuario Toda la razón estimado, la solución no es de 1,2,3 en moto la delincuencia busca sus maneras, FALTA MÁS POLICÍAS, UN BUEN GOBERNADOR, ALCALDE, que le guste su ciudad, una buena seguridad y control migratorio.. por falta de eso, tenemos esta inseguridad o paramos ya! o subirá.."
          ],
          [
           "@usuario @usuario Kkk .. @usuario, eres un pícaro, militante, sin escrúpulos y no brasileño !! Así que cállate y vuelve a tu país y lleva a tu marido contigo"
          ],
          [
           "@usuario @usuario Mi opinion desde aqui para empezat cierre de la frontera con colombia yq basta de tanta vaina desde mqicao desd cucuta etc etc"
          ],
          [
           "Caos en Acre, muchos inmigrantes ilegales, muchas ciudades inundadas y familias sin hogar hashtag domingo espetacular"
          ],
          [
           "@usuario @usuario Tener un millón de venezolanos es una experiencia peor que la tuya emoji cara llorando de risa emoji emoji cara llorando de risa emoji"
          ],
          [
           "@usuario @usuario @usuario @usuario Los chinos la año de estar paren y ese ya es panameño No es justo, es como decir un colonense emoji profesional sanitario mujer tono de piel oscuro emoji para en veraguas por querer la cédula 9, que irónico. Perdon si parezco despectivo pero los inmigrantes ya kbrean el país esta uff como la todos sabén.."
          ],
          [
           "@usuario Mientras se permita inmigración masiva, generalmente de baja cualificación, los sueldos bajos no tienen solución. Siempre habrá un camarero de Ecuador que trabaje por 900$ (dicho esto sin ningún desprecio sino como evidencia de lo que pasa)."
          ],
          [
           "@usuario Sr usted luce como un mexicano AcompleJao q siendo Mexico su pais el responsable de los miles y miles de inmigrantes ilegales q entran a USA y usted piensa q Trump esta errado en su comportamiento Por Favor"
          ],
          [
           "@usuario Ese es el problema, las pruebas pero, se sabe que ellos más la ONG Migrantes son quienes financian la entrada y el traslado de los ilegales, las carpas para dormir en la playa, los materiales para construir las tomas en Renca, etc, etc"
          ],
          [
           "@usuario @usuario En el peor de los casos, se vienen a Chile.. Cuál es el problema, si ya entre haitianos, colombianos y venezolanos, el peruano es el menos extranjero entre los extranjeros emoji cara sonriendo con los ojos cerrados emoji"
          ],
          [
           "@usuario @usuario @usuario Qué tiene que ver Dios? Dios lo mató? en tierra colombiana 2 venezolanos a un jovencito de 19 años, entre delincuentes es fácil planear la fuga, quieren q reaccione: hombre araña, Flashman, Si está en tierra ajena. Bueno la gente de los barracones de El Callao que se encarguen"
          ],
          [
           "@usuario Barrios que mas incumplen las normas de seguidad en los que hay mucha población inmigrante hacinada en pisos patera que no han visto una mascarilla en su vida ni intencion tienen de ponersela."
          ],
          [
           "@usuario Que valor señor presidente, pero creo que si se debería hacer algo en la frontera sur y no dejarlos pasar como si nada ya basta de eso y creame yo lo apoyo, pero en esto de la migración sea mas duro en la frontera sur."
          ],
          [
           "@usuario Anciano globalista igual que ppk. A favor de la migración sin control"
          ],
          [
           "@usuario @usuario @usuario @usuario Por fin, no hay que estigmatizar inmigrantes pero es de locos que se deje entrar gente con antecedentes y que se abarroten las prisiones con criminales extranjeros"
          ],
          [
           "@usuario @usuario Q poca madre, la nueva administración me dejó sin trabajo. Tengo 46 años. No encuentro trabajo desde enero. Tengo deudas hasta la madre. Una hija q requiere muchas cosas y este pinche viejo da dinero a inmigrantes y regala a El Salvador millones de pesos, vale para pura verga"
          ],
          [
           "@usuario Por estudios he pasado por Argentina y Chile en los 90. Para argentinos solo podíamos ser sirvientes era el estigma miren ahora como están. En Santiago la migración ocupo plazas que Chilenos no interesaba ahora restaurantes peruanos dan trabajo a mismos chilenos."
          ],
          [
           "@usuario @usuario Una inmigración masiva donde sólo se importa pobreza NO es beneficiosa para el pais, es de sentido común q cualquier sobrecarga al Estado sólo trae problemas sociales y económicos al país receptor."
          ],
          [
           "@usuario Jshjajahshahjaja Weon barsa nunca antes Recoleta sido el vertedero de lo que es hoy desde que asumiste como Alcalde , comuna sucia y llena de inmigrantes"
          ],
          [
           "@usuario Ahora se están peleando cual gobierno culiao penca trajo menos inmigrantes a morir de hambre.. así con el debate en Chilito.."
          ],
          [
           "@usuario Venga a arreglar la cagada que dejó con los inmigrantes en chile .."
          ]
         ],
         "hovertemplate": "predicted_label=xenófobo<br>Prob_class0=%{x}<br>Prob_class1=%{y}<br>text=%{customdata[0]}<extra></extra>",
         "legendgroup": "xenófobo",
         "marker": {
          "color": "#EF553B",
          "symbol": "circle"
         },
         "mode": "markers",
         "name": "xenófobo",
         "showlegend": true,
         "type": "scattergl",
         "x": [
          0.02869257517158985,
          0.00009274407784687355,
          0.0005270594847388566,
          0.0015359643148258328,
          0.00007099123467924073,
          0.19375333189964294,
          0.00036551334778778255,
          0.00014974856458138674,
          0.00017963003483600914,
          0.00011447202268755063,
          0.00010792270768433809,
          0.00009893022070173174,
          0.00007805235509295017,
          0.0001471134164603427,
          0.00362692354246974,
          0.05667170509696007,
          0.009750233963131905,
          0.00016833929112181067,
          0.000821105670183897,
          0.00012119988969061524,
          0.00006833575025666505,
          0.0003872246597893536,
          0.00008886855357559398,
          0.007992397993803024,
          0.004987709224224091,
          0.0009859424317255616,
          0.00038019390194676816,
          0.00008384398825000972,
          0.0000863879467942752,
          0.09582866728305817,
          0.010088104754686356,
          0.0014149245107546449,
          0.0001772081886883825,
          0.00011372652079444379,
          0.00011194412945769727,
          0.0030838579405099154,
          0.0819915384054184,
          0.00010867615492315963,
          0.00006663914246018976,
          0.0006699031800962985,
          0.001137925311923027,
          0.00008107186295092106,
          0.0001260369608644396,
          0.0067421915009617805,
          0.00017088791355490685,
          0.00009907371713779867,
          0.0001270815555471927,
          0.003257995005697012,
          0.0016083476366475224,
          0.11316516250371933,
          0.00028972962172701955,
          0.00025726776220835745,
          0.0001644546282477677,
          0.0000894193144631572,
          0.00009998674067901447,
          0.00007143318362068385,
          0.0459989495575428,
          0.007714269682765007,
          0.0004131232562940568,
          0.0032983063720166683,
          0.012742776423692703,
          0.14429959654808044,
          0.0000855335674714297,
          0.0001160563770099543,
          0.00019068385881837457,
          0.00025726776220835745,
          0.00007871408888604492,
          0.0006469596410170197,
          0.0002852072357200086,
          0.00007147726137191057,
          0.00008804663229966536,
          0.00019931441056542099,
          0.00015098261064849794,
          0.29752466082572937,
          0.00008394351607421413,
          0.0002818437642417848,
          0.0006151027046144009,
          0.00018830808403436095,
          0.0011462048860266805,
          0.0011720408219844103,
          0.057922590523958206,
          0.0005409599980339408,
          0.00006900012522237375,
          0.004046810790896416,
          0.000542103371117264,
          0.0001110641605919227,
          0.2307116836309433,
          0.00021699709759559482,
          0.07188286632299423,
          0.0013524745590984821,
          0.008281371556222439,
          0.00014118403487373143,
          0.0005456439102999866,
          0.12835276126861572,
          0.00025726776220835745,
          0.00007598747470183298,
          0.00007555054617114365,
          0.00013218256935942918,
          0.1960015892982483,
          0.0001242990547325462,
          0.005739904474467039,
          0.0007612304179929197,
          0.0000817923282738775,
          0.0004314321849960834,
          0.0005842817481607199,
          0.00007801634637871757,
          0.0028242170810699463,
          0.00018224702216684818,
          0.0038275825791060925,
          0.0004086336703039706,
          0.00023115419025998563,
          0.012213319540023804,
          0.03188979998230934,
          0.000295503152301535,
          0.0017106265295296907,
          0.0001671758946031332,
          0.3566587269306183,
          0.00009944968769559637,
          0.002758778166025877,
          0.00013216391380410641,
          0.0017351285787299275,
          0.16859473288059235,
          0.00016490984125994146,
          0.0004160423413850367,
          0.00007978500070748851,
          0.00012980177416466177,
          0.00007313666719710454,
          0.00013186658907216042,
          0.00006300174572970718,
          0.00008158278797054663,
          0.00007298757554963231,
          0.0006102557526901364,
          0.2622944116592407,
          0.4434433579444885,
          0.012193465605378151,
          0.11876280605792999,
          0.011760018765926361,
          0.00025051902048289776,
          0.00008515124500263482,
          0.00007232782809296623,
          0.09811420738697052,
          0.00025726776220835745,
          0.010664165951311588,
          0.015567467547953129,
          0.0006354464567266405,
          0.00008967173198470846,
          0.00008740175690036267,
          0.00009328449959866703,
          0.04836496710777283,
          0.0025917852763086557,
          0.00007597290823468938,
          0.00011813979654107243,
          0.00016267946921288967,
          0.0019782502204179764,
          0.0003358987160027027,
          0.00012257906200829893,
          0.00018409639596939087,
          0.00006318055238807574,
          0.00008053587225731462,
          0.11964073777198792,
          0.028523055836558342,
          0.18005222082138062,
          0.01986321248114109,
          0.00007557259959867224,
          0.00009074353147298098,
          0.00011361704673618078,
          0.0002718919131439179,
          0.005298148840665817,
          0.000240620385739021,
          0.00016129275900311768,
          0.00010733318777056411,
          0.0008221642347052693,
          0.00016452443378511816,
          0.00013264607696328312,
          0.00008359826460946351,
          0.00016853185661602765,
          0.0006030747899785638,
          0.0002477555244695395,
          0.00006844975723652169,
          0.003555205650627613,
          0.4196418523788452,
          0.00008384398825000972,
          0.00007647793972864747,
          0.00008898456144379452,
          0.00015091094246599823,
          0.0004494698659982532,
          0.0002963038277812302,
          0.00025848211953416467,
          0.00006579295586561784,
          0.00031459209276363254,
          0.00025726776220835745,
          0.00012947134382557124,
          0.0000768506433814764,
          0.0001230023190146312,
          0.003117350395768881,
          0.0010500666685402393,
          0.004020358435809612,
          0.009520668536424637,
          0.27452850341796875,
          0.00011303124483674765,
          0.00025726776220835745,
          0.00008136306132655591,
          0.0001545822451589629,
          0.00012769244494847953,
          0.0055021182633936405,
          0.0001969683653442189,
          0.007043659221380949,
          0.0002834044280461967,
          0.0003678352804854512,
          0.0044906651601195335,
          0.04716004431247711,
          0.00010434996511321515,
          0.0002884529822040349,
          0.0026034750044345856,
          0.43928998708724976,
          0.00016334815882146358,
          0.23421849310398102,
          0.00013718420814257115,
          0.18306823074817657,
          0.0001890211715362966,
          0.00010732193186413497,
          0.0004719632852356881,
          0.00018053183157462627,
          0.0037348398473113775,
          0.00006806253804825246,
          0.004963568411767483,
          0.00007969549187691882,
          0.08807463943958282,
          0.00016636539658065885,
          0.1435798704624176,
          0.00009285186388297006,
          0.006842073053121567,
          0.0001317559799645096,
          0.00020446169946808368,
          0.00012921271263621747,
          0.00006532089173560962,
          0.00007269679917953908,
          0.00007095739420037717,
          0.0005139418062753975,
          0.00035274328547529876,
          0.00025807382189668715,
          0.0001852552522905171,
          0.0012723348336294293,
          0.000477721361676231,
          0.00015146985242608935,
          0.00010880162153625861,
          0.12294521182775497,
          0.00025726776220835745,
          0.010555249638855457,
          0.00008443580009043217,
          0.07180541008710861,
          0.000498989422339946,
          0.00015777317457832396,
          0.00023573156795464456,
          0.00009372373460792005,
          0.00007623351120855659,
          0.00007441935304086655,
          0.00007163161353673786,
          0.0002670177782420069,
          0.1030210554599762,
          0.003971063997596502,
          0.1769879013299942,
          0.00038019390194676816,
          0.0017421956872567534,
          0.0003476482816040516,
          0.49314987659454346,
          0.2642534673213959,
          0.0006652037845924497,
          0.0001554416085127741,
          0.00008665221685077995,
          0.0001371559628751129,
          0.00016785685147624463,
          0.00007317057315958664,
          0.0015430246712639928,
          0.00023690231319051236,
          0.21368025243282318,
          0.0009829913033172488,
          0.00007064937381073833,
          0.00009498660801909864,
          0.043683771044015884,
          0.033308371901512146,
          0.009483312256634235,
          0.005948161706328392,
          0.0009727788856253028,
          0.010188470594584942,
          0.2373446822166443,
          0.0005233687115833163,
          0.00008050969336181879,
          0.08603457361459732,
          0.03074309229850769,
          0.00006729510641889647,
          0.00010847406520042568,
          0.000129876789287664,
          0.00008741176134208217,
          0.0000676123599987477,
          0.00007597225339850411,
          0.31126669049263,
          0.00027819268871098757,
          0.06132623180747032,
          0.0004873265861533582,
          0.00012913647515233606,
          0.00009502004104433581,
          0.0015796066727489233,
          0.00008670354873174801,
          0.0004134883056394756,
          0.00008084466389846057,
          0.00010664799629012123,
          0.0017295255092903972,
          0.11533360183238983,
          0.01730203442275524,
          0.00006702829705318436,
          0.00009328449959866703,
          0.0004165740974713117,
          0.00007444575021509081,
          0.00009856617543846369,
          0.004836448468267918,
          0.0014414348406717181,
          0.00026935714413411915,
          0.0000778463072492741,
          0.00017163633310701698,
          0.0005294056027196348,
          0.000398422300349921,
          0.048091109842061996,
          0.00009448477067053318,
          0.00020219422003719956,
          0.0003021449956577271,
          0.0036134973634034395,
          0.0010822697076946497,
          0.00006791976920794696,
          0.17125312983989716,
          0.00005930941188125871,
          0.0004915650351904333,
          0.0032380030024796724,
          0.0001247006730409339,
          0.00015251115837600082,
          0.0023290340323001146,
          0.00009844641317613423,
          0.0018258632626384497,
          0.0004890234558843076,
          0.00010937364277197048,
          0.00582586694508791,
          0.13047175109386444,
          0.18529564142227173,
          0.0003316666989121586,
          0.0006501172319985926,
          0.001131981611251831,
          0.0000976378214545548,
          0.00006632829899899662,
          0.04600498452782631,
          0.00014458665100391954,
          0.00006792735075578094,
          0.13542208075523376,
          0.00007314769027289003,
          0.00007221142732305452,
          0.0009650550782680511,
          0.13564041256904602,
          0.00009906531340675429,
          0.00008671982504893094,
          0.05400322005152702,
          0.0012660959037020802,
          0.11667020618915558,
          0.00010026898235082626,
          0.00015179575711954385,
          0.00006718110671499744,
          0.00907968170940876,
          0.00009264049003832042,
          0.00007393537816824391,
          0.00009704042895464227,
          0.0016571537125855684,
          0.4030136168003082,
          0.003340404015034437,
          0.00007080747309373692,
          0.0006830007187090814,
          0.00008842358511174098,
          0.00018687002011574805,
          0.0003106220974586904,
          0.00008530784543836489,
          0.00007957657362567261,
          0.00019037503807339817,
          0.00014172628289088607,
          0.019350023940205574,
          0.0000590245945204515,
          0.00025726776220835745,
          0.0003080800815951079,
          0.434579998254776,
          0.013726463541388512,
          0.00461400905624032,
          0.00009304454579250887,
          0.3851715624332428,
          0.0012375549413263798,
          0.00008889109449228272,
          0.0011216618586331606,
          0.012243852950632572,
          0.0006599110784009099,
          0.00011246796930208802,
          0.0015810882905498147,
          0.00008779921336099505,
          0.00006986950029386207,
          0.3371703028678894,
          0.00007194466888904572,
          0.00018052011728286743,
          0.046159159392118454,
          0.00027858151588588953,
          0.00009186799434246495,
          0.002688653999939561,
          0.00006437618139898404,
          0.00020588174811564386,
          0.00012728093133773655,
          0.008216466754674911,
          0.014614805579185486,
          0.00009848838817561045,
          0.0000975302464212291,
          0.00017914084310177714,
          0.0010530540021136403,
          0.00024110150116030127,
          0.0002151936205336824,
          0.00008937839447753504,
          0.00013452015991788357,
          0.00008599713328294456,
          0.0012251402949914336,
          0.0010894929291680455,
          0.18274374306201935,
          0.005745104514062405,
          0.13129056990146637,
          0.0014640040462836623,
          0.0003680706431623548,
          0.0011716701555997133,
          0.00021973474940750748,
          0.30940648913383484,
          0.0001741189626045525,
          0.00017798850603867322,
          0.1782739758491516,
          0.00008015370985958725,
          0.0005043864366598427,
          0.0005019839736633003,
          0.0007956408080644906,
          0.000069192006776575,
          0.002779371337965131,
          0.00020187077461741865,
          0.026388445869088173,
          0.1399436891078949,
          0.00007497895421693102,
          0.00022031436674296856,
          0.00011892896145582199,
          0.009504832327365875,
          0.11942365765571594,
          0.00040779952541925013,
          0.19708627462387085,
          0.00024648182443343103,
          0.0002772096486296505,
          0.03133512660861015,
          0.11024472862482071,
          0.00009798702376428992,
          0.01443879771977663,
          0.002921065781265497,
          0.013018982484936714,
          0.00007465988892363384,
          0.0007921669748611748,
          0.000143597528222017
         ],
         "xaxis": "x",
         "y": [
          0.9713073968887329,
          0.9999072551727295,
          0.9994729161262512,
          0.9984641075134277,
          0.9999289512634277,
          0.8062466979026794,
          0.9996345043182373,
          0.9998502731323242,
          0.9998204112052917,
          0.9998855590820312,
          0.9998921155929565,
          0.9999010562896729,
          0.9999219179153442,
          0.9998528957366943,
          0.9963730573654175,
          0.9433282613754272,
          0.9902498126029968,
          0.9998316764831543,
          0.9991788268089294,
          0.9998787641525269,
          0.9999316930770874,
          0.9996127486228943,
          0.9999110698699951,
          0.9920076131820679,
          0.9950122237205505,
          0.9990140199661255,
          0.999619722366333,
          0.9999161958694458,
          0.9999135732650757,
          0.904171347618103,
          0.9899118542671204,
          0.9985851049423218,
          0.9998227953910828,
          0.9998862743377686,
          0.9998880624771118,
          0.9969161748886108,
          0.9180084466934204,
          0.9998912811279297,
          0.9999333620071411,
          0.9993301630020142,
          0.9988621473312378,
          0.9999189376831055,
          0.9998739957809448,
          0.9932577610015869,
          0.9998290538787842,
          0.9999009370803833,
          0.9998729228973389,
          0.9967420697212219,
          0.9983915686607361,
          0.8868348598480225,
          0.9997102618217468,
          0.9997426867485046,
          0.9998354911804199,
          0.9999105930328369,
          0.9998999834060669,
          0.9999285936355591,
          0.9540011286735535,
          0.9922857284545898,
          0.9995868802070618,
          0.9967016577720642,
          0.987257182598114,
          0.8557003736495972,
          0.9999144077301025,
          0.9998838901519775,
          0.9998093247413635,
          0.9997426867485046,
          0.9999213218688965,
          0.9993529915809631,
          0.9997147917747498,
          0.9999284744262695,
          0.999911904335022,
          0.9998007416725159,
          0.9998489618301392,
          0.702475368976593,
          0.9999160766601562,
          0.9997181296348572,
          0.999384880065918,
          0.9998117089271545,
          0.9988538026809692,
          0.9988279938697815,
          0.9420774579048157,
          0.9994590878486633,
          0.9999309778213501,
          0.9959532022476196,
          0.9994578957557678,
          0.9998888969421387,
          0.7692883014678955,
          0.9997829794883728,
          0.9281171560287476,
          0.9986475110054016,
          0.9917186498641968,
          0.9998587369918823,
          0.9994543194770813,
          0.871647298336029,
          0.9997426867485046,
          0.9999240636825562,
          0.9999244213104248,
          0.9998677968978882,
          0.8039984703063965,
          0.9998756647109985,
          0.9942600727081299,
          0.9992387294769287,
          0.9999182224273682,
          0.999568521976471,
          0.9994157552719116,
          0.9999220371246338,
          0.9971758127212524,
          0.9998177886009216,
          0.9961724877357483,
          0.9995914101600647,
          0.9997687935829163,
          0.9877866506576538,
          0.968110203742981,
          0.9997044205665588,
          0.9982894062995911,
          0.9998327493667603,
          0.6433413028717041,
          0.9999005794525146,
          0.9972412586212158,
          0.9998677968978882,
          0.9982648491859436,
          0.8314052820205688,
          0.9998350143432617,
          0.9995840191841125,
          0.9999202489852905,
          0.9998701810836792,
          0.9999268054962158,
          0.9998681545257568,
          0.9999369382858276,
          0.9999184608459473,
          0.9999270439147949,
          0.9993897676467896,
          0.7377055883407593,
          0.5565566420555115,
          0.987806499004364,
          0.8812372088432312,
          0.9882400035858154,
          0.999749481678009,
          0.9999148845672607,
          0.9999276399612427,
          0.9018857479095459,
          0.9997426867485046,
          0.989335834980011,
          0.984432578086853,
          0.9993645548820496,
          0.9999103546142578,
          0.9999126195907593,
          0.9999066591262817,
          0.9516350626945496,
          0.9974082112312317,
          0.9999240636825562,
          0.9998818635940552,
          0.9998372793197632,
          0.9980217218399048,
          0.9996640682220459,
          0.9998774528503418,
          0.9998158812522888,
          0.9999368190765381,
          0.9999194145202637,
          0.8803592920303345,
          0.9714769124984741,
          0.8199477791786194,
          0.9801368713378906,
          0.9999244213104248,
          0.9999092817306519,
          0.9998863935470581,
          0.9997281432151794,
          0.9947018027305603,
          0.9997593760490417,
          0.9998387098312378,
          0.9998927116394043,
          0.999177873134613,
          0.9998354911804199,
          0.99986732006073,
          0.9999164342880249,
          0.9998314380645752,
          0.9993969202041626,
          0.9997522234916687,
          0.9999315738677979,
          0.9964447617530823,
          0.5803581476211548,
          0.9999161958694458,
          0.9999234676361084,
          0.9999109506607056,
          0.9998490810394287,
          0.9995505213737488,
          0.9997037053108215,
          0.9997414946556091,
          0.999934196472168,
          0.9996854066848755,
          0.9997426867485046,
          0.9998705387115479,
          0.9999231100082397,
          0.9998769760131836,
          0.9968826770782471,
          0.9989499449729919,
          0.9959796667098999,
          0.9904792904853821,
          0.7254714965820312,
          0.9998869895935059,
          0.9997426867485046,
          0.9999185800552368,
          0.9998453855514526,
          0.9998723268508911,
          0.9944979548454285,
          0.9998030066490173,
          0.992956280708313,
          0.999716579914093,
          0.9996321201324463,
          0.9955093860626221,
          0.9528399705886841,
          0.9998956918716431,
          0.9997115731239319,
          0.9973964691162109,
          0.5607099533081055,
          0.9998366832733154,
          0.7657815217971802,
          0.999862790107727,
          0.8169318437576294,
          0.9998109936714172,
          0.9998927116394043,
          0.9995280504226685,
          0.9998194575309753,
          0.9962651133537292,
          0.9999319314956665,
          0.9950364232063293,
          0.9999202489852905,
          0.9119253754615784,
          0.9998335838317871,
          0.8564201593399048,
          0.9999071359634399,
          0.9931579232215881,
          0.9998682737350464,
          0.9997956156730652,
          0.999870777130127,
          0.9999346733093262,
          0.999927282333374,
          0.9999290704727173,
          0.9994860887527466,
          0.9996472597122192,
          0.9997419714927673,
          0.9998148083686829,
          0.9987276196479797,
          0.99952232837677,
          0.999848484992981,
          0.9998911619186401,
          0.8770548105239868,
          0.9997426867485046,
          0.9894447922706604,
          0.999915599822998,
          0.9281945824623108,
          0.9995009899139404,
          0.9998421669006348,
          0.9997642636299133,
          0.9999063014984131,
          0.9999237060546875,
          0.9999256134033203,
          0.99992835521698,
          0.9997329115867615,
          0.8969789147377014,
          0.9960289001464844,
          0.8230120539665222,
          0.999619722366333,
          0.9982578158378601,
          0.9996523857116699,
          0.5068500638008118,
          0.7357465028762817,
          0.9993347525596619,
          0.9998445510864258,
          0.9999133348464966,
          0.999862790107727,
          0.9998321533203125,
          0.9999268054962158,
          0.9984569549560547,
          0.9997630715370178,
          0.7863197326660156,
          0.9990170001983643,
          0.9999293088912964,
          0.999904990196228,
          0.9563162326812744,
          0.9666916728019714,
          0.990516722202301,
          0.9940518736839294,
          0.9990272521972656,
          0.9898114800453186,
          0.7626553773880005,
          0.9994766116142273,
          0.9999195337295532,
          0.9139654636383057,
          0.9692568778991699,
          0.9999326467514038,
          0.9998915195465088,
          0.9998700618743896,
          0.9999126195907593,
          0.9999324083328247,
          0.9999240636825562,
          0.6887333393096924,
          0.9997218251228333,
          0.938673734664917,
          0.9995126724243164,
          0.9998708963394165,
          0.999904990196228,
          0.9984203577041626,
          0.9999133348464966,
          0.9995865225791931,
          0.9999191761016846,
          0.999893307685852,
          0.9982705116271973,
          0.8846664428710938,
          0.9826980233192444,
          0.9999330043792725,
          0.9999066591262817,
          0.9995834231376648,
          0.9999254941940308,
          0.9999014139175415,
          0.9951635599136353,
          0.9985585808753967,
          0.99973064661026,
          0.9999221563339233,
          0.9998283386230469,
          0.9994706511497498,
          0.9996015429496765,
          0.9519089460372925,
          0.9999054670333862,
          0.9997978806495667,
          0.9996979236602783,
          0.9963865280151367,
          0.9989176988601685,
          0.999932050704956,
          0.8287468552589417,
          0.9999406337738037,
          0.9995083808898926,
          0.9967619180679321,
          0.9998753070831299,
          0.999847412109375,
          0.9976709485054016,
          0.999901533126831,
          0.9981741905212402,
          0.9995110034942627,
          0.9998905658721924,
          0.9941741824150085,
          0.8695282936096191,
          0.8147042989730835,
          0.9996683597564697,
          0.9993498921394348,
          0.9988679885864258,
          0.9999023675918579,
          0.9999337196350098,
          0.9539950489997864,
          0.9998553991317749,
          0.999932050704956,
          0.8645779490470886,
          0.9999268054962158,
          0.9999277591705322,
          0.9990350008010864,
          0.8643595576286316,
          0.9999009370803833,
          0.999913215637207,
          0.9459967017173767,
          0.9987339377403259,
          0.8833297491073608,
          0.9998997449874878,
          0.9998481273651123,
          0.9999327659606934,
          0.9909203052520752,
          0.999907374382019,
          0.9999260902404785,
          0.9999029636383057,
          0.9983428716659546,
          0.5969864130020142,
          0.9966596364974976,
          0.9999291896820068,
          0.9993170499801636,
          0.9999115467071533,
          0.9998131394386292,
          0.9996894598007202,
          0.9999146461486816,
          0.9999203681945801,
          0.9998096823692322,
          0.9998582601547241,
          0.9806499481201172,
          0.9999409914016724,
          0.9997426867485046,
          0.9996919631958008,
          0.5654200315475464,
          0.9862735867500305,
          0.9953859448432922,
          0.9999068975448608,
          0.6148284077644348,
          0.9987624883651733,
          0.9999110698699951,
          0.9988783001899719,
          0.9877561330795288,
          0.9993401169776917,
          0.9998874664306641,
          0.998418927192688,
          0.9999121427536011,
          0.9999301433563232,
          0.6628296971321106,
          0.9999279975891113,
          0.9998194575309753,
          0.9538408517837524,
          0.999721348285675,
          0.9999080896377563,
          0.9973113536834717,
          0.9999356269836426,
          0.9997941851615906,
          0.9998726844787598,
          0.9917834997177124,
          0.9853852391242981,
          0.999901533126831,
          0.9999024868011475,
          0.99982088804245,
          0.9989469647407532,
          0.9997588992118835,
          0.9997847676277161,
          0.9999105930328369,
          0.9998654127120972,
          0.9999140501022339,
          0.9987748265266418,
          0.9989105463027954,
          0.8172562122344971,
          0.9942548871040344,
          0.86870938539505,
          0.9985359907150269,
          0.9996318817138672,
          0.9988283514976501,
          0.9997802376747131,
          0.6905934810638428,
          0.9998258948326111,
          0.9998220801353455,
          0.8217260241508484,
          0.9999198913574219,
          0.9994956254959106,
          0.9994980096817017,
          0.9992043375968933,
          0.9999308586120605,
          0.9972206354141235,
          0.9997981190681458,
          0.9736115336418152,
          0.8600562810897827,
          0.9999250173568726,
          0.9997796416282654,
          0.9998810291290283,
          0.9904952049255371,
          0.8805763721466064,
          0.9995922446250916,
          0.8029137253761292,
          0.9997535347938538,
          0.9997227787971497,
          0.9686648845672607,
          0.8897552490234375,
          0.9999020099639893,
          0.985561192035675,
          0.9970790147781372,
          0.9869809746742249,
          0.9999253749847412,
          0.9992079138755798,
          0.9998563528060913
         ],
         "yaxis": "y"
        }
       ],
       "layout": {
        "height": 800,
        "legend": {
         "title": {
          "text": "predicted_label"
         },
         "tracegroupgap": 0
        },
        "margin": {
         "t": 60
        },
        "shapes": [
         {
          "line": {
           "dash": "dash"
          },
          "type": "line",
          "x0": 0,
          "x1": 1,
          "xref": "x domain",
          "y0": 0.5,
          "y1": 0.5,
          "yref": "y"
         },
         {
          "line": {
           "dash": "dash"
          },
          "type": "line",
          "x0": 0.5,
          "x1": 0.5,
          "xref": "x",
          "y0": 0,
          "y1": 1,
          "yref": "y domain"
         },
         {
          "fillcolor": "LightSalmon",
          "line": {
           "width": 1
          },
          "opacity": 0.4,
          "type": "rect",
          "x0": 0.3,
          "x1": 0.7,
          "xref": "x",
          "y0": 0.3,
          "y1": 0.7,
          "yref": "y domain"
         }
        ],
        "template": {
         "data": {
          "bar": [
           {
            "error_x": {
             "color": "#2a3f5f"
            },
            "error_y": {
             "color": "#2a3f5f"
            },
            "marker": {
             "line": {
              "color": "#E5ECF6",
              "width": 0.5
             },
             "pattern": {
              "fillmode": "overlay",
              "size": 10,
              "solidity": 0.2
             }
            },
            "type": "bar"
           }
          ],
          "barpolar": [
           {
            "marker": {
             "line": {
              "color": "#E5ECF6",
              "width": 0.5
             },
             "pattern": {
              "fillmode": "overlay",
              "size": 10,
              "solidity": 0.2
             }
            },
            "type": "barpolar"
           }
          ],
          "carpet": [
           {
            "aaxis": {
             "endlinecolor": "#2a3f5f",
             "gridcolor": "white",
             "linecolor": "white",
             "minorgridcolor": "white",
             "startlinecolor": "#2a3f5f"
            },
            "baxis": {
             "endlinecolor": "#2a3f5f",
             "gridcolor": "white",
             "linecolor": "white",
             "minorgridcolor": "white",
             "startlinecolor": "#2a3f5f"
            },
            "type": "carpet"
           }
          ],
          "choropleth": [
           {
            "colorbar": {
             "outlinewidth": 0,
             "ticks": ""
            },
            "type": "choropleth"
           }
          ],
          "contour": [
           {
            "colorbar": {
             "outlinewidth": 0,
             "ticks": ""
            },
            "colorscale": [
             [
              0,
              "#0d0887"
             ],
             [
              0.1111111111111111,
              "#46039f"
             ],
             [
              0.2222222222222222,
              "#7201a8"
             ],
             [
              0.3333333333333333,
              "#9c179e"
             ],
             [
              0.4444444444444444,
              "#bd3786"
             ],
             [
              0.5555555555555556,
              "#d8576b"
             ],
             [
              0.6666666666666666,
              "#ed7953"
             ],
             [
              0.7777777777777778,
              "#fb9f3a"
             ],
             [
              0.8888888888888888,
              "#fdca26"
             ],
             [
              1,
              "#f0f921"
             ]
            ],
            "type": "contour"
           }
          ],
          "contourcarpet": [
           {
            "colorbar": {
             "outlinewidth": 0,
             "ticks": ""
            },
            "type": "contourcarpet"
           }
          ],
          "heatmap": [
           {
            "colorbar": {
             "outlinewidth": 0,
             "ticks": ""
            },
            "colorscale": [
             [
              0,
              "#0d0887"
             ],
             [
              0.1111111111111111,
              "#46039f"
             ],
             [
              0.2222222222222222,
              "#7201a8"
             ],
             [
              0.3333333333333333,
              "#9c179e"
             ],
             [
              0.4444444444444444,
              "#bd3786"
             ],
             [
              0.5555555555555556,
              "#d8576b"
             ],
             [
              0.6666666666666666,
              "#ed7953"
             ],
             [
              0.7777777777777778,
              "#fb9f3a"
             ],
             [
              0.8888888888888888,
              "#fdca26"
             ],
             [
              1,
              "#f0f921"
             ]
            ],
            "type": "heatmap"
           }
          ],
          "heatmapgl": [
           {
            "colorbar": {
             "outlinewidth": 0,
             "ticks": ""
            },
            "colorscale": [
             [
              0,
              "#0d0887"
             ],
             [
              0.1111111111111111,
              "#46039f"
             ],
             [
              0.2222222222222222,
              "#7201a8"
             ],
             [
              0.3333333333333333,
              "#9c179e"
             ],
             [
              0.4444444444444444,
              "#bd3786"
             ],
             [
              0.5555555555555556,
              "#d8576b"
             ],
             [
              0.6666666666666666,
              "#ed7953"
             ],
             [
              0.7777777777777778,
              "#fb9f3a"
             ],
             [
              0.8888888888888888,
              "#fdca26"
             ],
             [
              1,
              "#f0f921"
             ]
            ],
            "type": "heatmapgl"
           }
          ],
          "histogram": [
           {
            "marker": {
             "pattern": {
              "fillmode": "overlay",
              "size": 10,
              "solidity": 0.2
             }
            },
            "type": "histogram"
           }
          ],
          "histogram2d": [
           {
            "colorbar": {
             "outlinewidth": 0,
             "ticks": ""
            },
            "colorscale": [
             [
              0,
              "#0d0887"
             ],
             [
              0.1111111111111111,
              "#46039f"
             ],
             [
              0.2222222222222222,
              "#7201a8"
             ],
             [
              0.3333333333333333,
              "#9c179e"
             ],
             [
              0.4444444444444444,
              "#bd3786"
             ],
             [
              0.5555555555555556,
              "#d8576b"
             ],
             [
              0.6666666666666666,
              "#ed7953"
             ],
             [
              0.7777777777777778,
              "#fb9f3a"
             ],
             [
              0.8888888888888888,
              "#fdca26"
             ],
             [
              1,
              "#f0f921"
             ]
            ],
            "type": "histogram2d"
           }
          ],
          "histogram2dcontour": [
           {
            "colorbar": {
             "outlinewidth": 0,
             "ticks": ""
            },
            "colorscale": [
             [
              0,
              "#0d0887"
             ],
             [
              0.1111111111111111,
              "#46039f"
             ],
             [
              0.2222222222222222,
              "#7201a8"
             ],
             [
              0.3333333333333333,
              "#9c179e"
             ],
             [
              0.4444444444444444,
              "#bd3786"
             ],
             [
              0.5555555555555556,
              "#d8576b"
             ],
             [
              0.6666666666666666,
              "#ed7953"
             ],
             [
              0.7777777777777778,
              "#fb9f3a"
             ],
             [
              0.8888888888888888,
              "#fdca26"
             ],
             [
              1,
              "#f0f921"
             ]
            ],
            "type": "histogram2dcontour"
           }
          ],
          "mesh3d": [
           {
            "colorbar": {
             "outlinewidth": 0,
             "ticks": ""
            },
            "type": "mesh3d"
           }
          ],
          "parcoords": [
           {
            "line": {
             "colorbar": {
              "outlinewidth": 0,
              "ticks": ""
             }
            },
            "type": "parcoords"
           }
          ],
          "pie": [
           {
            "automargin": true,
            "type": "pie"
           }
          ],
          "scatter": [
           {
            "fillpattern": {
             "fillmode": "overlay",
             "size": 10,
             "solidity": 0.2
            },
            "type": "scatter"
           }
          ],
          "scatter3d": [
           {
            "line": {
             "colorbar": {
              "outlinewidth": 0,
              "ticks": ""
             }
            },
            "marker": {
             "colorbar": {
              "outlinewidth": 0,
              "ticks": ""
             }
            },
            "type": "scatter3d"
           }
          ],
          "scattercarpet": [
           {
            "marker": {
             "colorbar": {
              "outlinewidth": 0,
              "ticks": ""
             }
            },
            "type": "scattercarpet"
           }
          ],
          "scattergeo": [
           {
            "marker": {
             "colorbar": {
              "outlinewidth": 0,
              "ticks": ""
             }
            },
            "type": "scattergeo"
           }
          ],
          "scattergl": [
           {
            "marker": {
             "colorbar": {
              "outlinewidth": 0,
              "ticks": ""
             }
            },
            "type": "scattergl"
           }
          ],
          "scattermapbox": [
           {
            "marker": {
             "colorbar": {
              "outlinewidth": 0,
              "ticks": ""
             }
            },
            "type": "scattermapbox"
           }
          ],
          "scatterpolar": [
           {
            "marker": {
             "colorbar": {
              "outlinewidth": 0,
              "ticks": ""
             }
            },
            "type": "scatterpolar"
           }
          ],
          "scatterpolargl": [
           {
            "marker": {
             "colorbar": {
              "outlinewidth": 0,
              "ticks": ""
             }
            },
            "type": "scatterpolargl"
           }
          ],
          "scatterternary": [
           {
            "marker": {
             "colorbar": {
              "outlinewidth": 0,
              "ticks": ""
             }
            },
            "type": "scatterternary"
           }
          ],
          "surface": [
           {
            "colorbar": {
             "outlinewidth": 0,
             "ticks": ""
            },
            "colorscale": [
             [
              0,
              "#0d0887"
             ],
             [
              0.1111111111111111,
              "#46039f"
             ],
             [
              0.2222222222222222,
              "#7201a8"
             ],
             [
              0.3333333333333333,
              "#9c179e"
             ],
             [
              0.4444444444444444,
              "#bd3786"
             ],
             [
              0.5555555555555556,
              "#d8576b"
             ],
             [
              0.6666666666666666,
              "#ed7953"
             ],
             [
              0.7777777777777778,
              "#fb9f3a"
             ],
             [
              0.8888888888888888,
              "#fdca26"
             ],
             [
              1,
              "#f0f921"
             ]
            ],
            "type": "surface"
           }
          ],
          "table": [
           {
            "cells": {
             "fill": {
              "color": "#EBF0F8"
             },
             "line": {
              "color": "white"
             }
            },
            "header": {
             "fill": {
              "color": "#C8D4E3"
             },
             "line": {
              "color": "white"
             }
            },
            "type": "table"
           }
          ]
         },
         "layout": {
          "annotationdefaults": {
           "arrowcolor": "#2a3f5f",
           "arrowhead": 0,
           "arrowwidth": 1
          },
          "autotypenumbers": "strict",
          "coloraxis": {
           "colorbar": {
            "outlinewidth": 0,
            "ticks": ""
           }
          },
          "colorscale": {
           "diverging": [
            [
             0,
             "#8e0152"
            ],
            [
             0.1,
             "#c51b7d"
            ],
            [
             0.2,
             "#de77ae"
            ],
            [
             0.3,
             "#f1b6da"
            ],
            [
             0.4,
             "#fde0ef"
            ],
            [
             0.5,
             "#f7f7f7"
            ],
            [
             0.6,
             "#e6f5d0"
            ],
            [
             0.7,
             "#b8e186"
            ],
            [
             0.8,
             "#7fbc41"
            ],
            [
             0.9,
             "#4d9221"
            ],
            [
             1,
             "#276419"
            ]
           ],
           "sequential": [
            [
             0,
             "#0d0887"
            ],
            [
             0.1111111111111111,
             "#46039f"
            ],
            [
             0.2222222222222222,
             "#7201a8"
            ],
            [
             0.3333333333333333,
             "#9c179e"
            ],
            [
             0.4444444444444444,
             "#bd3786"
            ],
            [
             0.5555555555555556,
             "#d8576b"
            ],
            [
             0.6666666666666666,
             "#ed7953"
            ],
            [
             0.7777777777777778,
             "#fb9f3a"
            ],
            [
             0.8888888888888888,
             "#fdca26"
            ],
            [
             1,
             "#f0f921"
            ]
           ],
           "sequentialminus": [
            [
             0,
             "#0d0887"
            ],
            [
             0.1111111111111111,
             "#46039f"
            ],
            [
             0.2222222222222222,
             "#7201a8"
            ],
            [
             0.3333333333333333,
             "#9c179e"
            ],
            [
             0.4444444444444444,
             "#bd3786"
            ],
            [
             0.5555555555555556,
             "#d8576b"
            ],
            [
             0.6666666666666666,
             "#ed7953"
            ],
            [
             0.7777777777777778,
             "#fb9f3a"
            ],
            [
             0.8888888888888888,
             "#fdca26"
            ],
            [
             1,
             "#f0f921"
            ]
           ]
          },
          "colorway": [
           "#636efa",
           "#EF553B",
           "#00cc96",
           "#ab63fa",
           "#FFA15A",
           "#19d3f3",
           "#FF6692",
           "#B6E880",
           "#FF97FF",
           "#FECB52"
          ],
          "font": {
           "color": "#2a3f5f"
          },
          "geo": {
           "bgcolor": "white",
           "lakecolor": "white",
           "landcolor": "#E5ECF6",
           "showlakes": true,
           "showland": true,
           "subunitcolor": "white"
          },
          "hoverlabel": {
           "align": "left"
          },
          "hovermode": "closest",
          "mapbox": {
           "style": "light"
          },
          "paper_bgcolor": "white",
          "plot_bgcolor": "#E5ECF6",
          "polar": {
           "angularaxis": {
            "gridcolor": "white",
            "linecolor": "white",
            "ticks": ""
           },
           "bgcolor": "#E5ECF6",
           "radialaxis": {
            "gridcolor": "white",
            "linecolor": "white",
            "ticks": ""
           }
          },
          "scene": {
           "xaxis": {
            "backgroundcolor": "#E5ECF6",
            "gridcolor": "white",
            "gridwidth": 2,
            "linecolor": "white",
            "showbackground": true,
            "ticks": "",
            "zerolinecolor": "white"
           },
           "yaxis": {
            "backgroundcolor": "#E5ECF6",
            "gridcolor": "white",
            "gridwidth": 2,
            "linecolor": "white",
            "showbackground": true,
            "ticks": "",
            "zerolinecolor": "white"
           },
           "zaxis": {
            "backgroundcolor": "#E5ECF6",
            "gridcolor": "white",
            "gridwidth": 2,
            "linecolor": "white",
            "showbackground": true,
            "ticks": "",
            "zerolinecolor": "white"
           }
          },
          "shapedefaults": {
           "line": {
            "color": "#2a3f5f"
           }
          },
          "ternary": {
           "aaxis": {
            "gridcolor": "white",
            "linecolor": "white",
            "ticks": ""
           },
           "baxis": {
            "gridcolor": "white",
            "linecolor": "white",
            "ticks": ""
           },
           "bgcolor": "#E5ECF6",
           "caxis": {
            "gridcolor": "white",
            "linecolor": "white",
            "ticks": ""
           }
          },
          "title": {
           "x": 0.05
          },
          "xaxis": {
           "automargin": true,
           "gridcolor": "white",
           "linecolor": "white",
           "ticks": "",
           "title": {
            "standoff": 15
           },
           "zerolinecolor": "white",
           "zerolinewidth": 2
          },
          "yaxis": {
           "automargin": true,
           "gridcolor": "white",
           "linecolor": "white",
           "ticks": "",
           "title": {
            "standoff": 15
           },
           "zerolinecolor": "white",
           "zerolinewidth": 2
          }
         }
        },
        "width": 1200,
        "xaxis": {
         "anchor": "y",
         "domain": [
          0,
          1
         ],
         "title": {
          "text": "Prob_class0"
         }
        },
        "yaxis": {
         "anchor": "x",
         "domain": [
          0,
          1
         ],
         "title": {
          "text": "Prob_class1"
         }
        }
       }
      }
     },
     "metadata": {},
     "output_type": "display_data"
    }
   ],
   "source": [
    "#plot scatter of probabilities given by the model from each text\n",
    "fig = px.scatter(probas, x=\"Prob_class0\", y=\"Prob_class1\", color=\"predicted_label\",\n",
    "                hover_data=['text'], width=1200, height=800)\n",
    "fig.add_hline(y=0.5, line_dash=\"dash\")\n",
    "fig.add_vline(x=0.5, line_dash=\"dash\")\n",
    "fig.add_vrect(x0=0.3, x1=0.7, y0=0.3,y1=0.7, fillcolor=\"LightSalmon\", opacity=0.4, line_width=1)\n",
    "fig.show()"
   ]
  },
  {
   "cell_type": "markdown",
   "id": "2cd65dd3",
   "metadata": {},
   "source": [
    "Una vez construido el conjunto de datos, se define un umbral para la diferencia entre las probabilidades de valor $0.3$. Con esto se obtienen las muestras más representativas, las cuales se etiquetan manualmente."
   ]
  },
  {
   "cell_type": "code",
   "execution_count": 40,
   "id": "e4aecd5b",
   "metadata": {},
   "outputs": [
    {
     "data": {
      "text/html": [
       "<div>\n",
       "<style scoped>\n",
       "    .dataframe tbody tr th:only-of-type {\n",
       "        vertical-align: middle;\n",
       "    }\n",
       "\n",
       "    .dataframe tbody tr th {\n",
       "        vertical-align: top;\n",
       "    }\n",
       "\n",
       "    .dataframe thead th {\n",
       "        text-align: right;\n",
       "    }\n",
       "</style>\n",
       "<table border=\"1\" class=\"dataframe\">\n",
       "  <thead>\n",
       "    <tr style=\"text-align: right;\">\n",
       "      <th></th>\n",
       "      <th>Prob_class0</th>\n",
       "      <th>Prob_class1</th>\n",
       "      <th>margin_sampling</th>\n",
       "      <th>id</th>\n",
       "      <th>text</th>\n",
       "      <th>predicted_label</th>\n",
       "    </tr>\n",
       "  </thead>\n",
       "  <tbody>\n",
       "    <tr>\n",
       "      <th>1168</th>\n",
       "      <td>0.434580</td>\n",
       "      <td>0.565420</td>\n",
       "      <td>0.130840</td>\n",
       "      <td>1179940011019569920</td>\n",
       "      <td>@usuario Cooño pero que tipo para bruto!! Jjaj...</td>\n",
       "      <td>xenófobo</td>\n",
       "    </tr>\n",
       "    <tr>\n",
       "      <th>669</th>\n",
       "      <td>0.439290</td>\n",
       "      <td>0.560710</td>\n",
       "      <td>0.121420</td>\n",
       "      <td>1285187904227229952</td>\n",
       "      <td>La inmigración nunca va a parar ! Lo que se pu...</td>\n",
       "      <td>xenófobo</td>\n",
       "    </tr>\n",
       "    <tr>\n",
       "      <th>1134</th>\n",
       "      <td>0.403014</td>\n",
       "      <td>0.596986</td>\n",
       "      <td>0.193973</td>\n",
       "      <td>1084918484042240000</td>\n",
       "      <td>@usuario @usuario Está avanzando un proceso de...</td>\n",
       "      <td>xenófobo</td>\n",
       "    </tr>\n",
       "    <tr>\n",
       "      <th>381</th>\n",
       "      <td>0.508840</td>\n",
       "      <td>0.491160</td>\n",
       "      <td>0.017680</td>\n",
       "      <td>1321891553976219904</td>\n",
       "      <td>@usuario Esto hay que pararlo. Vienen aquí sin...</td>\n",
       "      <td>ok</td>\n",
       "    </tr>\n",
       "    <tr>\n",
       "      <th>652</th>\n",
       "      <td>0.501519</td>\n",
       "      <td>0.498481</td>\n",
       "      <td>0.003038</td>\n",
       "      <td>1239560358802619904</td>\n",
       "      <td>@usuario Mpdo por ti estamos así, podías cerra...</td>\n",
       "      <td>ok</td>\n",
       "    </tr>\n",
       "  </tbody>\n",
       "</table>\n",
       "</div>"
      ],
      "text/plain": [
       "      Prob_class0  Prob_class1  margin_sampling                   id  \\\n",
       "1168     0.434580     0.565420         0.130840  1179940011019569920   \n",
       "669      0.439290     0.560710         0.121420  1285187904227229952   \n",
       "1134     0.403014     0.596986         0.193973  1084918484042240000   \n",
       "381      0.508840     0.491160         0.017680  1321891553976219904   \n",
       "652      0.501519     0.498481         0.003038  1239560358802619904   \n",
       "\n",
       "                                                   text predicted_label  \n",
       "1168  @usuario Cooño pero que tipo para bruto!! Jjaj...        xenófobo  \n",
       "669   La inmigración nunca va a parar ! Lo que se pu...        xenófobo  \n",
       "1134  @usuario @usuario Está avanzando un proceso de...        xenófobo  \n",
       "381   @usuario Esto hay que pararlo. Vienen aquí sin...              ok  \n",
       "652   @usuario Mpdo por ti estamos así, podías cerra...              ok  "
      ]
     },
     "execution_count": 40,
     "metadata": {},
     "output_type": "execute_result"
    }
   ],
   "source": [
    "to_label = probas[probas.margin_sampling<=0.3]\n",
    "to_label.sample(5)"
   ]
  }
 ],
 "metadata": {
  "kernelspec": {
   "display_name": "Python 3.9.13 ('bid')",
   "language": "python",
   "name": "python3"
  },
  "language_info": {
   "codemirror_mode": {
    "name": "ipython",
    "version": 3
   },
   "file_extension": ".py",
   "mimetype": "text/x-python",
   "name": "python",
   "nbconvert_exporter": "python",
   "pygments_lexer": "ipython3",
   "version": "3.9.13"
  },
  "vscode": {
   "interpreter": {
    "hash": "cad67f8f08b43f52430a6b8684b01d2984f30490bfa5827628ebc9dc8cbf0dc5"
   }
  }
 },
 "nbformat": 4,
 "nbformat_minor": 5
}
