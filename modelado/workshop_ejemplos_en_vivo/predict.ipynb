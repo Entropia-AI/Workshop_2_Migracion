{
 "cells": [
  {
   "cell_type": "markdown",
   "id": "5ea4ab6f",
   "metadata": {},
   "source": [
    "# Predicting with finetuned Robertuito for detecting Xenophobia"
   ]
  },
  {
   "cell_type": "code",
   "execution_count": 1,
   "id": "552462e4",
   "metadata": {},
   "outputs": [],
   "source": [
    "#transformers\n",
    "from transformers import (\n",
    "    AutoModelForSequenceClassification, AutoTokenizer)\n",
    "from transformers import pipeline\n",
    "\n",
    "#Data procesing\n",
    "import pandas as pd\n",
    "from pysentimiento.preprocessing import preprocess_tweet"
   ]
  },
  {
   "cell_type": "markdown",
   "id": "bf9e9201",
   "metadata": {},
   "source": [
    "# Load and config model"
   ]
  },
  {
   "cell_type": "code",
   "execution_count": 2,
   "id": "ccd90631",
   "metadata": {
    "scrolled": true
   },
   "outputs": [],
   "source": [
    "model_name = './robertuito/checkpoint-2472'\n",
    "\n",
    "#load model from model name using huggingface library\n",
    "model = AutoModelForSequenceClassification.from_pretrained(\n",
    "        model_name, return_dict=True, num_labels=2)\n",
    "\n",
    "#load tokenizer and config it (based on robertuito github)\n",
    "tokenizer = AutoTokenizer.from_pretrained(model_name)\n",
    "tokenizer.model_max_length = 128\n",
    "model.config.id2label = {\n",
    "            0: 'no xenofobo',\n",
    "            1: 'xenofobo',\n",
    "        }\n",
    "id2label = {\n",
    "            0: 'no xenofobo',\n",
    "            1: 'xenofobo'\n",
    "        }\n",
    "label2id = {v:k for k,v in id2label.items()}\n",
    "model.config.label2id = label2id\n",
    "\n",
    "#add new tokens to tokenizer, resize model embeddings\n",
    "special_tokens = ['@usuario', 'url', 'hashtag', 'emoji']\n",
    "tokenizer.add_tokens(special_tokens)\n",
    "model.resize_token_embeddings(len(tokenizer))\n",
    "\n",
    "pipe = pipeline(\"text-classification\", model=model, tokenizer=tokenizer)"
   ]
  },
  {
   "cell_type": "markdown",
   "id": "2b00eca2",
   "metadata": {},
   "source": [
    "# Load and Prepare Data"
   ]
  },
  {
   "cell_type": "code",
   "execution_count": 3,
   "id": "6bd84767",
   "metadata": {},
   "outputs": [],
   "source": [
    "#Load data to predict\n",
    "predict_df = pd.read_csv('online_predictions.csv')#('zero_ones.csv')#\n",
    "predict_df.label = predict_df.label.astype(int)\n",
    "\n",
    "#preprocess text: normalize user mentions, laughts, urls and hashtag text\n",
    "preprocess_fn = lambda x: preprocess_tweet(x, lang='es', shorten=2, url_token='url', hashtag_token='hashtag')\n",
    "#preprocess all text data\n",
    "predict_df['text'] = predict_df['text'].astype(str)\n",
    "predict_df['text'] = predict_df['text'].apply(preprocess_fn)"
   ]
  },
  {
   "cell_type": "code",
   "execution_count": 4,
   "id": "d9a7e602",
   "metadata": {},
   "outputs": [],
   "source": [
    "dict_labels = { 0: 'no xenofobo', 1: 'xenofobo'}\n",
    "\n",
    "def infer_text(df, index_=0, pipeline=None, dict_label=None):\n",
    "    text = str(df.iloc[index_].text)\n",
    "    label = df.iloc[index_].label\n",
    "    print('El texto analizado es: \\n {}'.format(text))\n",
    "    print('-'*50)\n",
    "    inference = pipeline(text)\n",
    "    print('La etiqueta asignada por un humano es: \\n {}'.format(dict_label[label]))\n",
    "    print('-'*50)\n",
    "    print(\"La IA está {:.2f}% segura de que corresponde a la clase: {}\".format(inference[0]['score']*100,inference[0]['label']))\n",
    "    print('-'*50)"
   ]
  },
  {
   "cell_type": "code",
   "execution_count": 9,
   "id": "f7938a69",
   "metadata": {},
   "outputs": [
    {
     "name": "stdout",
     "output_type": "stream",
     "text": [
      "El texto analizado es: \n",
      " ¿Y a México? Que entre y salga quién le de la gana, ya casi un año con esto, ya le dieron en la madre a todo,solo falta el cierre de fronteras, que era de lo primero que debían hacer. ¡Dios, llévatelos! Pero no en avión\n",
      "--------------------------------------------------\n",
      "La etiqueta asignada por un humano es: \n",
      " xenofobo\n",
      "--------------------------------------------------\n",
      "La IA está 59.79% segura de que corresponde a la clase: no xenofobo\n",
      "--------------------------------------------------\n"
     ]
    }
   ],
   "source": [
    "infer_text(predict_df, index_=2, pipeline = pipe, dict_label=dict_labels)"
   ]
  }
 ],
 "metadata": {
  "kernelspec": {
   "display_name": "Python 3.9.15 ('bid')",
   "language": "python",
   "name": "python3"
  },
  "language_info": {
   "codemirror_mode": {
    "name": "ipython",
    "version": 3
   },
   "file_extension": ".py",
   "mimetype": "text/x-python",
   "name": "python",
   "nbconvert_exporter": "python",
   "pygments_lexer": "ipython3",
   "version": "3.9.15"
  },
  "vscode": {
   "interpreter": {
    "hash": "cad67f8f08b43f52430a6b8684b01d2984f30490bfa5827628ebc9dc8cbf0dc5"
   }
  }
 },
 "nbformat": 4,
 "nbformat_minor": 5
}
