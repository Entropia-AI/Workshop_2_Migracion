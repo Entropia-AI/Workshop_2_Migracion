{
 "cells": [
  {
   "cell_type": "markdown",
   "id": "36a02f8c",
   "metadata": {},
   "source": [
    "# Modelado de tópicos con BERTopic\n",
    "\n",
    "\n",
    "Para compreder acerca de qué temas se habla en un conjunto de documentos, es necesario realizar un análisis de tópicos. El análisis de tópicos es una técnica de minería de texto que permite identificar los temas principales que se tratan en un conjunto de documentos. Exiten una gran cantidad de algoritmos que permiten realizar este análisis, entre ellos destacan *Latent Dirichlet Allocation, Latent Semantic Analysis, Non-negative Matrix Factorization*, entre otros.\n",
    "\n",
    "Siendo la mayoria de estos métodos basados en la representación de los documentos como vectores de palabras, es decir, se representan los documentos como vectores de frecuencias de palabras, lo que implica que se pierde la información de contexto de las palabras.\n",
    "\n",
    "En el año 2022 se lanzó [BERTopic](https://arxiv.org/abs/2203.05794), un algoritmo de análisis de tópicos basado en la representación de los documentos como vectores de palabras, pero utilizando la representación de palabras de cualquier modelo transformer de lenguaje (como BERT), a modo que la información contextual contenida dentro de cada texto sea aprovechada. BERTopic es un algoritmo de análisis de tópicos auto-,semi- y supervisado, lo que significa que no es necesario etiquetar todos los documentos para realizar el análisis de tópicos.\n",
    "\n",
    "El modelo de BERTopic permite agrupar textos cuya semántica es similar y provee de una jerarquía de palabras simples o compuestas para cada grupo de textos. Esta jerarquía de palabras permite al usuario asociar un tema o conjunto de temas a cada grupo.\n",
    "El funcionamiento de este modelo o algoritmo se divide en tres etapas:\n",
    "\n",
    "* **Generación y extracción de embbedings por documento**: En esta etapa se utiliza un modelo transformer de lenguaje para generar los embeddings de cada documento. Los embeddings son vectores de números reales que representan la información contextual de cada documento.\n",
    "\n",
    "* **Agrupamiento de los vectores de documentos en grupos semánticamente similares**: En esta etapa se utiliza un algoritmo de clustering para agrupar los vectores de documentos en grupos semánticamente similares. El algoritmo de clustering utilizado es DBSCAN, el cual permite identificar grupos de documentos que se encuentran cercanos entre sí y que no se encuentran cercanos a los grupos de otros documentos.\n",
    "\n",
    "* **Creación de la representación de palabras o tópicos para cada grupo**: Para asignar a cada grupo un conjunto de palabras claves, los textos asignados a cada grupo son considerados como un único documento, para el cual se mide la importancia de las palabras contenidas a partir de la frecuencia de aparición. Esto se realiza gracias a la medida estadística conocida como *Term frequency – Inverse document frequency* (Tf-Idf). De esta manera, a partir de las palabras más importantes de cada grupo se obtiene una descripción del tópico.\n",
    "\n",
    "En este notebook se presenta un ejemplo de aplicación de BERTopic semisupervisado para el análisis de tópicos de un conjunto de documentos. Se presentarán algunas gráficas que permiten visualizar algunos hitos dentro de los datos usados."
   ]
  },
  {
   "cell_type": "code",
   "execution_count": 1,
   "id": "d2298d51",
   "metadata": {},
   "outputs": [
    {
     "name": "stderr",
     "output_type": "stream",
     "text": [
      "[nltk_data] Downloading package stopwords to /home/pedri0/nltk_data...\n",
      "[nltk_data]   Package stopwords is already up-to-date!\n",
      "[nltk_data] Downloading package punkt to /home/pedri0/nltk_data...\n",
      "[nltk_data]   Package punkt is already up-to-date!\n"
     ]
    }
   ],
   "source": [
    "#Imports\n",
    "\n",
    "from bertopic import BERTopic\n",
    "from sklearn.datasets import fetch_20newsgroups\n",
    "import pandas as pd\n",
    "import nltk\n",
    "from nltk.corpus import stopwords\n",
    "from sklearn.feature_extraction.text import CountVectorizer\n",
    "nltk.download('stopwords')\n",
    "nltk.download('punkt')\n",
    "from umap import UMAP"
   ]
  },
  {
   "cell_type": "markdown",
   "id": "7fc14f53",
   "metadata": {},
   "source": [
    "### Carga de datos 20 newsgroups"
   ]
  },
  {
   "cell_type": "code",
   "execution_count": 2,
   "id": "90e89a0f",
   "metadata": {},
   "outputs": [
    {
     "data": {
      "text/plain": [
       "['alt.atheism',\n",
       " 'comp.graphics',\n",
       " 'comp.os.ms-windows.misc',\n",
       " 'comp.sys.ibm.pc.hardware',\n",
       " 'comp.sys.mac.hardware',\n",
       " 'comp.windows.x',\n",
       " 'misc.forsale',\n",
       " 'rec.autos',\n",
       " 'rec.motorcycles',\n",
       " 'rec.sport.baseball',\n",
       " 'rec.sport.hockey',\n",
       " 'sci.crypt',\n",
       " 'sci.electronics',\n",
       " 'sci.med',\n",
       " 'sci.space',\n",
       " 'soc.religion.christian',\n",
       " 'talk.politics.guns',\n",
       " 'talk.politics.mideast',\n",
       " 'talk.politics.misc',\n",
       " 'talk.religion.misc']"
      ]
     },
     "execution_count": 2,
     "metadata": {},
     "output_type": "execute_result"
    }
   ],
   "source": [
    "data = fetch_20newsgroups(subset='all',  remove=('headers', 'footers', 'quotes'))\n",
    "documents = data['data']\n",
    "label_categories = data['target']\n",
    "categories = data['target_names']\n",
    "categories"
   ]
  },
  {
   "cell_type": "code",
   "execution_count": 3,
   "id": "21d8ec2d",
   "metadata": {},
   "outputs": [
    {
     "data": {
      "text/html": [
       "<div>\n",
       "<style scoped>\n",
       "    .dataframe tbody tr th:only-of-type {\n",
       "        vertical-align: middle;\n",
       "    }\n",
       "\n",
       "    .dataframe tbody tr th {\n",
       "        vertical-align: top;\n",
       "    }\n",
       "\n",
       "    .dataframe thead th {\n",
       "        text-align: right;\n",
       "    }\n",
       "</style>\n",
       "<table border=\"1\" class=\"dataframe\">\n",
       "  <thead>\n",
       "    <tr style=\"text-align: right;\">\n",
       "      <th></th>\n",
       "      <th>data</th>\n",
       "      <th>target</th>\n",
       "      <th>target_name</th>\n",
       "      <th>synthetic_target</th>\n",
       "    </tr>\n",
       "  </thead>\n",
       "  <tbody>\n",
       "    <tr>\n",
       "      <th>2490</th>\n",
       "      <td>\\n: &gt;There is an emergency oxygen system that ...</td>\n",
       "      <td>14</td>\n",
       "      <td>sci.space</td>\n",
       "      <td>14</td>\n",
       "    </tr>\n",
       "    <tr>\n",
       "      <th>3688</th>\n",
       "      <td>\\n</td>\n",
       "      <td>6</td>\n",
       "      <td>misc.forsale</td>\n",
       "      <td>6</td>\n",
       "    </tr>\n",
       "    <tr>\n",
       "      <th>2667</th>\n",
       "      <td>On Tuesday, when it was raining in Chicago, ES...</td>\n",
       "      <td>10</td>\n",
       "      <td>rec.sport.hockey</td>\n",
       "      <td>10</td>\n",
       "    </tr>\n",
       "    <tr>\n",
       "      <th>4388</th>\n",
       "      <td>Well, here it is, NHL in the year 2000.\\nI got...</td>\n",
       "      <td>10</td>\n",
       "      <td>rec.sport.hockey</td>\n",
       "      <td>10</td>\n",
       "    </tr>\n",
       "    <tr>\n",
       "      <th>2329</th>\n",
       "      <td>I've been following discussions about the Delt...</td>\n",
       "      <td>14</td>\n",
       "      <td>sci.space</td>\n",
       "      <td>14</td>\n",
       "    </tr>\n",
       "  </tbody>\n",
       "</table>\n",
       "</div>"
      ],
      "text/plain": [
       "                                                   data target  \\\n",
       "2490  \\n: >There is an emergency oxygen system that ...     14   \n",
       "3688                                                 \\n      6   \n",
       "2667  On Tuesday, when it was raining in Chicago, ES...     10   \n",
       "4388  Well, here it is, NHL in the year 2000.\\nI got...     10   \n",
       "2329  I've been following discussions about the Delt...     14   \n",
       "\n",
       "           target_name synthetic_target  \n",
       "2490         sci.space               14  \n",
       "3688      misc.forsale                6  \n",
       "2667  rec.sport.hockey               10  \n",
       "4388  rec.sport.hockey               10  \n",
       "2329         sci.space               14  "
      ]
     },
     "execution_count": 3,
     "metadata": {},
     "output_type": "execute_result"
    }
   ],
   "source": [
    "#dataframe creation\n",
    "wanted_keys = ['data', 'target']\n",
    "docs = [data.get(key) for key in wanted_keys]\n",
    "news = pd.DataFrame(docs).T\n",
    "news.columns = ['data', 'target']\n",
    "news['target_name'] = news['target'].apply(lambda x: categories[x])\n",
    "news['synthetic_target'] = news['target']\n",
    "news = news.sample(frac=0.25).reset_index(drop=True)\n",
    "news.sample(5)"
   ]
  },
  {
   "cell_type": "code",
   "execution_count": 4,
   "id": "b944c7c8",
   "metadata": {},
   "outputs": [],
   "source": [
    "#remove some labels\n",
    "labels = news.target.unique()\n",
    "for label in labels:\n",
    "    index_label = news[news.target==label].sample(frac=0.7).index\n",
    "    news.loc[index_label, 'synthetic_target'] = -1"
   ]
  },
  {
   "cell_type": "code",
   "execution_count": 5,
   "id": "dd52748b",
   "metadata": {},
   "outputs": [
    {
     "data": {
      "text/plain": [
       "-1     3297\n",
       " 13      80\n",
       " 5       80\n",
       " 10      79\n",
       " 11      78\n",
       " 12      77\n",
       " 3       77\n",
       " 4       75\n",
       " 16      75\n",
       " 6       73\n",
       " 9       73\n",
       " 8       72\n",
       " 7       72\n",
       " 14      71\n",
       " 17      69\n",
       " 2       68\n",
       " 1       68\n",
       " 15      67\n",
       " 0       58\n",
       " 18      55\n",
       " 19      48\n",
       "Name: synthetic_target, dtype: int64"
      ]
     },
     "execution_count": 5,
     "metadata": {},
     "output_type": "execute_result"
    }
   ],
   "source": [
    "news.synthetic_target.value_counts()"
   ]
  },
  {
   "cell_type": "code",
   "execution_count": 6,
   "id": "f8827ae8",
   "metadata": {},
   "outputs": [],
   "source": [
    "#add our stop word through countvectorizer model, set to 2 the limit of n-grams\n",
    "# with min_df: ignore terms that have a document frequency strictly lower than the given threshold (5)\n",
    "vectorizer_model = CountVectorizer(stop_words=stopwords.words('english'), ngram_range=(1,2), min_df=1)\n",
    "\n",
    "#use paraphrase-multilingual-mpnet-base-v2 as embedding model. This model is the most accurate for multilingual\n",
    "#diversity is a parameter in BERTopic to diversity words in each topic such that we limit the number of \n",
    "#duplicate words we find in each topic. This is done using an algorithm called Maximal Marginal Relevance \n",
    "#which compares word embeddings with the topic embedding.\n",
    "#We do this by specifying a value between 0 and 1, with 0 being not at all diverse and 1 being completely diverse\n",
    "#min_topic_size is used to specify what the minimum size of a topic can be. \n",
    "#The lower this value the more topics are created.\n",
    "#calculate_probabilities lets you calculate the probabilities of each topic to each document.\n",
    "topic_model = BERTopic(embedding_model=\"all-MiniLM-L6-v2\", verbose=True,\n",
    "                      vectorizer_model=vectorizer_model, diversity=0.3, min_topic_size=5,\n",
    "                      calculate_probabilities=False)"
   ]
  },
  {
   "cell_type": "code",
   "execution_count": 7,
   "id": "b0d35dd9",
   "metadata": {},
   "outputs": [
    {
     "data": {
      "application/vnd.jupyter.widget-view+json": {
       "model_id": "f627f0309534476b9762f89935a2c306",
       "version_major": 2,
       "version_minor": 0
      },
      "text/plain": [
       "Batches:   0%|          | 0/148 [00:00<?, ?it/s]"
      ]
     },
     "metadata": {},
     "output_type": "display_data"
    },
    {
     "name": "stderr",
     "output_type": "stream",
     "text": [
      "2022-10-12 14:08:42,293 - BERTopic - Transformed documents to Embeddings\n",
      "OMP: Info #276: omp_set_nested routine deprecated, please use omp_set_max_active_levels instead.\n",
      "2022-10-12 14:09:02,358 - BERTopic - Reduced dimensionality\n",
      "2022-10-12 14:09:02,576 - BERTopic - Clustered reduced embeddings\n"
     ]
    }
   ],
   "source": [
    "#fit the model using semisupervised topic modeling and infer clusters, probabilities\n",
    "topics = topic_model.fit_transform(news.data.to_list(), y=news.synthetic_target.tolist())"
   ]
  },
  {
   "cell_type": "code",
   "execution_count": 10,
   "id": "8abc29ed",
   "metadata": {},
   "outputs": [],
   "source": [
    "#save inferred clusters of topics\n",
    "news['cluster_topic'] = topics[0]"
   ]
  },
  {
   "cell_type": "code",
   "execution_count": 12,
   "id": "af45e67b",
   "metadata": {},
   "outputs": [
    {
     "data": {
      "text/plain": [
       "-1      1387\n",
       " 0       454\n",
       " 1       250\n",
       " 2       171\n",
       " 3       115\n",
       "        ... \n",
       " 111       6\n",
       " 113       5\n",
       " 115       5\n",
       " 112       5\n",
       " 114       5\n",
       "Name: cluster_topic, Length: 117, dtype: int64"
      ]
     },
     "execution_count": 12,
     "metadata": {},
     "output_type": "execute_result"
    }
   ],
   "source": [
    "news.cluster_topic.value_counts()"
   ]
  },
  {
   "cell_type": "code",
   "execution_count": 14,
   "id": "96b33e1d",
   "metadata": {},
   "outputs": [
    {
     "data": {
      "text/html": [
       "<div>\n",
       "<style scoped>\n",
       "    .dataframe tbody tr th:only-of-type {\n",
       "        vertical-align: middle;\n",
       "    }\n",
       "\n",
       "    .dataframe tbody tr th {\n",
       "        vertical-align: top;\n",
       "    }\n",
       "\n",
       "    .dataframe thead th {\n",
       "        text-align: right;\n",
       "    }\n",
       "</style>\n",
       "<table border=\"1\" class=\"dataframe\">\n",
       "  <thead>\n",
       "    <tr style=\"text-align: right;\">\n",
       "      <th></th>\n",
       "      <th>Topic</th>\n",
       "      <th>Count</th>\n",
       "      <th>Name</th>\n",
       "    </tr>\n",
       "  </thead>\n",
       "  <tbody>\n",
       "    <tr>\n",
       "      <th>0</th>\n",
       "      <td>-1</td>\n",
       "      <td>1387</td>\n",
       "      <td>-1_ax max_file_edu_a86</td>\n",
       "    </tr>\n",
       "    <tr>\n",
       "      <th>1</th>\n",
       "      <td>0</td>\n",
       "      <td>454</td>\n",
       "      <td>0_games_season_det_03</td>\n",
       "    </tr>\n",
       "    <tr>\n",
       "      <th>2</th>\n",
       "      <td>1</td>\n",
       "      <td>250</td>\n",
       "      <td>1_patients_health_cancer_disease</td>\n",
       "    </tr>\n",
       "    <tr>\n",
       "      <th>3</th>\n",
       "      <td>2</td>\n",
       "      <td>171</td>\n",
       "      <td>2_encryption_nsa_law enforcement_clipper chip</td>\n",
       "    </tr>\n",
       "    <tr>\n",
       "      <th>4</th>\n",
       "      <td>3</td>\n",
       "      <td>115</td>\n",
       "      <td>3_fbi_agents_warrant_would</td>\n",
       "    </tr>\n",
       "    <tr>\n",
       "      <th>...</th>\n",
       "      <td>...</td>\n",
       "      <td>...</td>\n",
       "      <td>...</td>\n",
       "    </tr>\n",
       "    <tr>\n",
       "      <th>112</th>\n",
       "      <td>111</td>\n",
       "      <td>6</td>\n",
       "      <td>111_cpu fans_cpu fan_fan blowing_sink grease</td>\n",
       "    </tr>\n",
       "    <tr>\n",
       "      <th>113</th>\n",
       "      <td>112</td>\n",
       "      <td>5</td>\n",
       "      <td>112_messages posted_sarcastic sort_funny thing...</td>\n",
       "    </tr>\n",
       "    <tr>\n",
       "      <th>114</th>\n",
       "      <td>113</td>\n",
       "      <td>5</td>\n",
       "      <td>113_companies_columbus_addresses_library center</td>\n",
       "    </tr>\n",
       "    <tr>\n",
       "      <th>115</th>\n",
       "      <td>114</td>\n",
       "      <td>5</td>\n",
       "      <td>114_mileage_odometer_oxygen sensor_eeprom</td>\n",
       "    </tr>\n",
       "    <tr>\n",
       "      <th>116</th>\n",
       "      <td>115</td>\n",
       "      <td>5</td>\n",
       "      <td>115_baptism_salvation_holy spirit_cf john</td>\n",
       "    </tr>\n",
       "  </tbody>\n",
       "</table>\n",
       "<p>117 rows × 3 columns</p>\n",
       "</div>"
      ],
      "text/plain": [
       "     Topic  Count                                               Name\n",
       "0       -1   1387                             -1_ax max_file_edu_a86\n",
       "1        0    454                              0_games_season_det_03\n",
       "2        1    250                   1_patients_health_cancer_disease\n",
       "3        2    171      2_encryption_nsa_law enforcement_clipper chip\n",
       "4        3    115                         3_fbi_agents_warrant_would\n",
       "..     ...    ...                                                ...\n",
       "112    111      6       111_cpu fans_cpu fan_fan blowing_sink grease\n",
       "113    112      5  112_messages posted_sarcastic sort_funny thing...\n",
       "114    113      5    113_companies_columbus_addresses_library center\n",
       "115    114      5          114_mileage_odometer_oxygen sensor_eeprom\n",
       "116    115      5          115_baptism_salvation_holy spirit_cf john\n",
       "\n",
       "[117 rows x 3 columns]"
      ]
     },
     "execution_count": 14,
     "metadata": {},
     "output_type": "execute_result"
    }
   ],
   "source": [
    "#get dataframe with info about clusters from fitted model\n",
    "topic_model.get_topic_info()"
   ]
  },
  {
   "cell_type": "code",
   "execution_count": 15,
   "id": "ac2bfe14",
   "metadata": {
    "scrolled": true
   },
   "outputs": [
    {
     "data": {
      "text/plain": [
       "{-1: [('ax max', 0.005801951251383066),\n",
       "  ('file', 0.0037244025924846194),\n",
       "  ('edu', 0.00309976386047196),\n",
       "  ('a86', 0.002656104732012123),\n",
       "  ('information', 0.0025747185335116864),\n",
       "  ('system', 0.0023039551733029353),\n",
       "  ('145 145', 0.0021230078141801414),\n",
       "  ('pl', 0.002094804466525847),\n",
       "  ('a86 a86', 0.002039342860958741),\n",
       "  ('program', 0.001989941473852277)],\n",
       " 0: [('games', 0.006880379813224154),\n",
       "  ('season', 0.005942210107381999),\n",
       "  ('det', 0.005287226769148705),\n",
       "  ('03', 0.005237657890152873),\n",
       "  ('hockey', 0.00498700452731302),\n",
       "  ('baseball', 0.004742235704740176),\n",
       "  ('players', 0.004626523805434089),\n",
       "  ('shots', 0.004576946582266683),\n",
       "  ('stl', 0.004400876263038574),\n",
       "  ('power play', 0.00413545501699192)],\n",
       " 1: [('patients', 0.007442527410495439),\n",
       "  ('health', 0.006279988972118991),\n",
       "  ('cancer', 0.0057398355293025016),\n",
       "  ('disease', 0.005599757043385022),\n",
       "  ('yeast', 0.004894638326597243),\n",
       "  ('diet', 0.004765705351829008),\n",
       "  ('effects', 0.004394723231868954),\n",
       "  ('msg', 0.004242199075606837),\n",
       "  ('doctors', 0.003939184855920635),\n",
       "  ('foods', 0.003906878683488134)],\n",
       " 2: [('encryption', 0.010891782945610776),\n",
       "  ('nsa', 0.009486397646387468),\n",
       "  ('law enforcement', 0.007136948215465011),\n",
       "  ('clipper chip', 0.006680566466348159),\n",
       "  ('wiretap', 0.006295578020024833),\n",
       "  ('encrypted', 0.006210410186021831),\n",
       "  ('security', 0.00572333813994428),\n",
       "  ('phones', 0.005651618298331471),\n",
       "  ('chips', 0.0054139215979227),\n",
       "  ('crypto', 0.004750770026517282)],\n",
       " 3: [('fbi', 0.017912949904224797),\n",
       "  ('agents', 0.006703117817039543),\n",
       "  ('warrant', 0.006440524718755735),\n",
       "  ('would', 0.006410130291515757),\n",
       "  ('children', 0.005897975225885052),\n",
       "  ('raid', 0.005593702715295687),\n",
       "  ('waco', 0.005431978497060967),\n",
       "  ('evidence', 0.005390487305541377),\n",
       "  ('weapons', 0.0050058736915632555),\n",
       "  ('trial', 0.004798995338374868)],\n",
       " 4: [('hi yep', 1.0095330041001758),\n",
       "  ('yep dir', 1.0095330041001758),\n",
       "  ('hello huh', 1.0095330041001758),\n",
       "  ('dir hello', 1.0095330041001758),\n",
       "  ('yep', 0.7016562021930617),\n",
       "  ('dir', 0.6949326958375188),\n",
       "  ('huh', 0.6478364528078449),\n",
       "  ('hello', 0.5292802836298944),\n",
       "  ('hi', 0.4294577720489183),\n",
       "  ('', 1e-05)],\n",
       " 5: [('israel', 0.029896357691373693),\n",
       "  ('israeli', 0.023356648694552617),\n",
       "  ('palestinian', 0.012690370527947708),\n",
       "  ('palestinians', 0.008487260237982077),\n",
       "  ('lebanon', 0.008024464043131306),\n",
       "  ('israelis', 0.007491440825144379),\n",
       "  ('zionism', 0.0058057448220851515),\n",
       "  ('land', 0.005041319397207674),\n",
       "  ('palestinian people', 0.004759511014777562),\n",
       "  ('policy research', 0.004397347996832916)],\n",
       " 6: [('cars', 0.012784589317962737),\n",
       "  ('ford', 0.01133553608228402),\n",
       "  ('mustang', 0.009287784767653207),\n",
       "  ('centaur', 0.006716395201164875),\n",
       "  ('sedan', 0.006044755681048387),\n",
       "  ('toyota', 0.005572670860591924),\n",
       "  ('dealership', 0.00554966678377204),\n",
       "  ('wagon', 0.004948417349756399),\n",
       "  ('v6', 0.0047497319351697135),\n",
       "  ('miles', 0.004715892043034403)],\n",
       " 7: [('scsi', 0.02588375017264388),\n",
       "  ('bios', 0.021932604948705612),\n",
       "  ('hard disk', 0.01853021081448469),\n",
       "  ('rom bios', 0.015935465508286586),\n",
       "  ('disk drives', 0.015351181055064118),\n",
       "  ('controller card', 0.012798969412702593),\n",
       "  ('floppy disk', 0.010310607775215759),\n",
       "  ('disk controller', 0.00890415285923798),\n",
       "  ('jumpers', 0.008137149162129452),\n",
       "  ('16 heads', 0.008000935765927888)],\n",
       " 8: [('guns', 0.017387693835425273),\n",
       "  ('criminals', 0.008586348934598071),\n",
       "  ('firearms', 0.0072686913192214694),\n",
       "  ('gun control', 0.006458966664891972),\n",
       "  ('violent', 0.005969563327458224),\n",
       "  ('would', 0.004887807567393028),\n",
       "  ('laws', 0.004817312463781439),\n",
       "  ('knife', 0.004736981264229489),\n",
       "  ('ban', 0.004622402468728591),\n",
       "  ('fid', 0.004558190084665136)],\n",
       " 9: [('bible', 0.008060030367089988),\n",
       "  ('heaven', 0.007866775720403665),\n",
       "  ('eternal', 0.0077220739031769025),\n",
       "  ('satan', 0.006765934308170143),\n",
       "  ('would', 0.006107081590913243),\n",
       "  ('paul', 0.006029519507874662),\n",
       "  ('spirit', 0.005641909484947083),\n",
       "  ('sins', 0.005546305342553891),\n",
       "  ('antichrist', 0.00474476107361363),\n",
       "  ('grace', 0.004506615815167789)],\n",
       " 10: [('armenian', 0.019879791655723553),\n",
       "  ('armenians', 0.01650848733681537),\n",
       "  ('turkish', 0.011461815855757647),\n",
       "  ('turks', 0.007571160179628507),\n",
       "  ('armenia', 0.007084896734532021),\n",
       "  ('genocide', 0.005016682789218613),\n",
       "  ('azeri', 0.004947865326074983),\n",
       "  ('serdar argic', 0.004764629699127923),\n",
       "  ('greece', 0.0046632545991464784),\n",
       "  ('azerbaijani', 0.004366121054064804)],\n",
       " 11: [('xterm', 0.01611852919097536),\n",
       "  ('remote', 0.01477783462317246),\n",
       "  ('x11r5', 0.01191790972573733),\n",
       "  ('makefile', 0.010421118157803493),\n",
       "  ('echo shar', 0.009663424095373952),\n",
       "  ('shell', 0.009276304264997015),\n",
       "  ('rx pl', 0.00836480611936426),\n",
       "  ('libxmu', 0.008137620290841223),\n",
       "  ('symbol', 0.007943876525730488),\n",
       "  ('bindir', 0.007019511290775352)],\n",
       " 12: [('widget', 0.015518363556857949),\n",
       "  ('dpy', 0.012421188137500896),\n",
       "  ('screen', 0.010137652400596397),\n",
       "  ('pixmap', 0.009261198381428817),\n",
       "  ('xlib', 0.009071434519170465),\n",
       "  ('colormap', 0.008171834300987432),\n",
       "  ('xclrp', 0.008009737033160142),\n",
       "  ('draw', 0.007029646284258242),\n",
       "  ('focus', 0.006164565652161975),\n",
       "  ('cmap', 0.0060391271033198414)],\n",
       " 13: [('amp', 0.019302332517812163),\n",
       "  ('stereo', 0.010127446036717346),\n",
       "  ('frequency', 0.008820831560924513),\n",
       "  ('model', 0.008714255602763494),\n",
       "  ('ohms', 0.007151435539487167),\n",
       "  ('amps', 0.006688089506047211),\n",
       "  ('rms', 0.006688089506047211),\n",
       "  ('excellent condition', 0.0063844502375747895),\n",
       "  ('resound', 0.006159453314835414),\n",
       "  ('dc', 0.006157438891348826)],\n",
       " 14: [('printer', 0.0433283246802577),\n",
       "  ('hp', 0.023470622986120213),\n",
       "  ('printers', 0.02130238697874499),\n",
       "  ('bj 200', 0.016210451684747572),\n",
       "  ('deskjet', 0.015593350938742164),\n",
       "  ('printing', 0.010736616660017373),\n",
       "  ('inkjet', 0.007501913887980067),\n",
       "  ('laser printers', 0.006887478091028551),\n",
       "  ('laserjet', 0.006887478091028551),\n",
       "  ('printer driver', 0.006771817819566812)],\n",
       " 15: [('space station', 0.013941191570143618),\n",
       "  ('moon', 0.012334831761318455),\n",
       "  ('nasa', 0.01198147184174472),\n",
       "  ('orbit', 0.01088376152107242),\n",
       "  ('redesign', 0.010512060095782049),\n",
       "  ('budget', 0.00894443118192423),\n",
       "  ('would', 0.0079537983845491),\n",
       "  ('gibbons', 0.007072109315832171),\n",
       "  ('shuttle', 0.006046988122746683),\n",
       "  ('option billion', 0.005458874689150002)],\n",
       " 16: [('monitor', 0.039621057285024804),\n",
       "  ('vga', 0.028244934883037014),\n",
       "  ('trinitron', 0.013165091836388764),\n",
       "  ('playback', 0.011572470460540683),\n",
       "  ('frames', 0.010013105988292224),\n",
       "  ('resolution', 0.009641693114961871),\n",
       "  ('640x480 mode', 0.009429299273823612),\n",
       "  ('screen', 0.009006509800249503),\n",
       "  ('fps', 0.008112085295083683),\n",
       "  ('modes', 0.007171529275461093)],\n",
       " 17: [('jpeg', 0.026232733697098918),\n",
       "  ('gif', 0.013523708882998494),\n",
       "  ('format', 0.008580953031355691),\n",
       "  ('files', 0.007012486273370694),\n",
       "  ('quality', 0.00674726389556672),\n",
       "  ('jfif', 0.005807810993153458),\n",
       "  ('cx cx', 0.00490102819883593),\n",
       "  ('viewer', 0.004825617939595739),\n",
       "  ('chz', 0.004555550895209453),\n",
       "  ('quicktime', 0.004410873648949484)],\n",
       " 18: [('bmw', 0.02652039347963898),\n",
       "  ('bikes', 0.016239811256251274),\n",
       "  ('jeff', 0.00958962695515858),\n",
       "  ('engine', 0.007937755685677934),\n",
       "  ('would', 0.007016455455864112),\n",
       "  ('sprocket', 0.006803483461362479),\n",
       "  ('honda', 0.006439726171052137),\n",
       "  ('harleys', 0.006309314102671512),\n",
       "  ('insurance', 0.006213665040689995),\n",
       "  ('ride', 0.006081549006550647)],\n",
       " 19: [('list', 0.03617766847447154),\n",
       "  ('mailing list', 0.02879380371316955),\n",
       "  ('edu', 0.02328276476325637),\n",
       "  ('send', 0.018839429407564993),\n",
       "  ('address', 0.01734797308343969),\n",
       "  ('mailer', 0.01724492605893243),\n",
       "  ('mit edu', 0.014158479113106385),\n",
       "  ('unsubscribe', 0.013227365032368892),\n",
       "  ('newsgroup mailer', 0.013227365032368892),\n",
       "  ('singer mit', 0.013227365032368892)],\n",
       " 20: [('00', 0.04294584140509204),\n",
       "  ('50', 0.025738517903855035),\n",
       "  ('1st', 0.021066022600939354),\n",
       "  ('wolverine', 0.020105247198607068),\n",
       "  ('hulk', 0.016677275641422764),\n",
       "  ('copies', 0.015746645567565727),\n",
       "  ('ghost rider', 0.014822969556416122),\n",
       "  ('picture sleeve', 0.014822969556416122),\n",
       "  ('comics', 0.013866648939873147),\n",
       "  ('punisher', 0.013224682377081284)],\n",
       " 21: [('stephanopoulos', 0.03503189017298831),\n",
       "  ('mr stephanopoulos', 0.03479814663519878),\n",
       "  ('serbs', 0.011432502137688462),\n",
       "  ('iran', 0.010881964190558861),\n",
       "  ('muslims', 0.009608897929213336),\n",
       "  ('jobs', 0.008509784130546361),\n",
       "  ('gulf', 0.008411966433184644),\n",
       "  ('uae', 0.006418985077784489),\n",
       "  ('sanctions', 0.006192623415589469),\n",
       "  ('stephanopoulos know', 0.006050902573190749)],\n",
       " 22: [('many cheek', 1.8171594073803163),\n",
       "  ('_too_ many', 1.8171594073803163),\n",
       "  ('cheek', 1.5974822497601386),\n",
       "  ('_too_', 1.5974822497601386),\n",
       "  ('many', 0.49192812810278685),\n",
       "  ('', 1e-05),\n",
       "  ('', 1e-05),\n",
       "  ('', 1e-05),\n",
       "  ('', 1e-05),\n",
       "  ('', 1e-05)],\n",
       " 23: [('mac', 0.01638473496517644),\n",
       "  ('cd technology', 0.016066834102287583),\n",
       "  ('applelink', 0.015797026435498504),\n",
       "  ('toshiba', 0.01434082949277769),\n",
       "  ('cd300', 0.014326157537944794),\n",
       "  ('cd rom', 0.012625358487889836),\n",
       "  ('vv vv', 0.011847769826623878),\n",
       "  ('disks', 0.009837873890315136),\n",
       "  ('photo cd', 0.00882756366568872),\n",
       "  ('data transfer', 0.008411630608688518)],\n",
       " 24: [('battery', 0.017862573929738154),\n",
       "  ('switch', 0.0152341222322171),\n",
       "  ('error', 0.01215006592608388),\n",
       "  ('motherboard', 0.011502475248726987),\n",
       "  ('logic board', 0.009807870551836528),\n",
       "  ('powerbook', 0.008191212706162186),\n",
       "  ('ntu', 0.008054532351731791),\n",
       "  ('seconds inactivity', 0.008054532351731791),\n",
       "  ('turbo switch', 0.008054532351731791),\n",
       "  ('two wires', 0.008054532351731791)],\n",
       " 25: [('mhz', 0.03881453259627733),\n",
       "  ('fpu', 0.027271819731835727),\n",
       "  ('68030', 0.01497871251120449),\n",
       "  ('risc', 0.013119796175536016),\n",
       "  ('instruction set', 0.01259900753286216),\n",
       "  ('pentium', 0.012198197409703277),\n",
       "  ('processors', 0.011470179077267351),\n",
       "  ('microcode', 0.011202894927046797),\n",
       "  ('clock speed', 0.010699080365146066),\n",
       "  ('mc68882rc25', 0.00922965826478512)],\n",
       " 26: [('nasa', 0.014948998765916594),\n",
       "  ('lunar', 0.009648746351265301),\n",
       "  ('km', 0.009608088896540069),\n",
       "  ('degrees', 0.009608088896540069),\n",
       "  ('shuttle', 0.00899558467803646),\n",
       "  ('orbit', 0.006626834289797888),\n",
       "  ('spacecraft', 0.006243160816985328),\n",
       "  ('galileo', 0.006231189334002114),\n",
       "  ('balloon', 0.005186319328405759),\n",
       "  ('jupiter', 0.005143112400331556)],\n",
       " 27: [('interference', 0.01933079369821918),\n",
       "  ('antenna', 0.014375659934918277),\n",
       "  ('signals', 0.009898262608009516),\n",
       "  ('detector', 0.009462331562298367),\n",
       "  ('fcc', 0.00927418888707551),\n",
       "  ('transmitting', 0.00917512201444723),\n",
       "  ('ham radio', 0.008363547309673277),\n",
       "  ('beacons', 0.007681130135926682),\n",
       "  ('rf', 0.007393215884089164),\n",
       "  ('stations', 0.006366703205806562)],\n",
       " 28: [('miles', 0.02768483866425892),\n",
       "  ('interior', 0.017427185716363702),\n",
       "  ('sunroof', 0.015271662963008002),\n",
       "  ('tires', 0.014924609833345419),\n",
       "  ('excellent condition', 0.01463731265873334),\n",
       "  ('fm cassette', 0.013248462991152229),\n",
       "  ('cruise control', 0.013248462991152229),\n",
       "  ('wam umd', 0.012726385802506669),\n",
       "  ('steering', 0.012546267993200006),\n",
       "  ('pontiac', 0.01118756615677005)],\n",
       " 29: [('modem', 0.042269581450853265),\n",
       "  ('fax', 0.022779421891867494),\n",
       "  ('9600', 0.022241123639336023),\n",
       "  ('modems', 0.017513373788297138),\n",
       "  ('2400', 0.01682097732426301),\n",
       "  ('internal', 0.014226349680000371),\n",
       "  ('cable', 0.014190256049053093),\n",
       "  ('mac se', 0.01257586520386088),\n",
       "  ('warranty', 0.00960554828497066),\n",
       "  ('microcom', 0.0093700546484904)],\n",
       " 30: [('taxes', 0.019566080116562846),\n",
       "  ('billion dollars', 0.017460834092865668),\n",
       "  ('government', 0.014252299233865843),\n",
       "  ('deficit', 0.010781872326495783),\n",
       "  ('congress', 0.00815726401523192),\n",
       "  ('health care', 0.007137570629896193),\n",
       "  ('economy', 0.006753359640870383),\n",
       "  ('spending', 0.0064923468657743745),\n",
       "  ('reagan', 0.006236012176023452),\n",
       "  ('phill', 0.0060187660087027825)],\n",
       " 31: [('windows', 0.05000481185525776),\n",
       "  ('os', 0.0433165590903266),\n",
       "  ('wsm', 0.022865624511953623),\n",
       "  ('beta', 0.014922258241318462),\n",
       "  ('windows nt', 0.013755880191066475),\n",
       "  ('shareware freeware', 0.012292894713394705),\n",
       "  ('bmp', 0.011134953428778472),\n",
       "  ('run windows', 0.00914624980478145),\n",
       "  ('solaris', 0.009017908667694745),\n",
       "  ('windows apps', 0.008693240370436036)],\n",
       " 32: [('3d', 0.019539659011931526),\n",
       "  ('animation', 0.0178295512016922),\n",
       "  ('graphics', 0.016291446975843612),\n",
       "  ('shading', 0.010168290517590795),\n",
       "  ('cad', 0.009969148057441991),\n",
       "  ('software', 0.009626881699501443),\n",
       "  ('3d grafsys', 0.008720386996925782),\n",
       "  ('dec phigs', 0.00853624176413447),\n",
       "  ('gphigs', 0.007448507744880486),\n",
       "  ('fax', 0.006630445175760417)],\n",
       " 33: [('morality', 0.021174747271959223),\n",
       "  ('morals', 0.019902693401529323),\n",
       "  ('objective', 0.018778044389565356),\n",
       "  ('ethics', 0.012041936723260918),\n",
       "  ('natural morality', 0.011915393209618453),\n",
       "  ('values', 0.010411912588672802),\n",
       "  ('cooperative behaviour', 0.010061865282452774),\n",
       "  ('motto', 0.008336270844133976),\n",
       "  ('immoral', 0.008173007856958731),\n",
       "  ('positive view', 0.007828237094544945)],\n",
       " 34: [('fallacy', 0.018344326166860506),\n",
       "  ('atheists', 0.014694726308529988),\n",
       "  ('atheism', 0.012930215820580564),\n",
       "  ('atheist', 0.011386373995595375),\n",
       "  ('argumentum', 0.009855365587421097),\n",
       "  ('premises', 0.00888993581770967),\n",
       "  ('false', 0.007609638852932165),\n",
       "  ('belief', 0.007309667262980293),\n",
       "  ('evidence', 0.0069814544474811925),\n",
       "  ('inference', 0.006889292184291928)],\n",
       " 35: [('dos', 0.0788130151868984),\n",
       "  ('vb', 0.02438360336271996),\n",
       "  ('dos shell', 0.021854652702877727),\n",
       "  ('command', 0.019022340356650545),\n",
       "  ('dos box', 0.015256622020922263),\n",
       "  ('cpu time', 0.01391923242826215),\n",
       "  ('program manager', 0.013429781976962544),\n",
       "  ('running dos', 0.01165974592485151),\n",
       "  ('ms dos', 0.011292204062792603),\n",
       "  ('using dde', 0.009342001460585605)],\n",
       " 36: [('polygons', 0.026702729557934436),\n",
       "  ('spline', 0.019580852758491498),\n",
       "  ('polyhedra', 0.017472104725577045),\n",
       "  ('edges', 0.01663454713384355),\n",
       "  ('convex polygons', 0.0149237765954312),\n",
       "  ('concave', 0.0149237765954312),\n",
       "  ('algorithm', 0.01236499726623607),\n",
       "  ('distsq p_c', 0.012295157536761653),\n",
       "  ('computer graphics', 0.01226226490682025),\n",
       "  ('surfaces', 0.010542332145059782)],\n",
       " 37: [('edu', 0.04470043802558345),\n",
       "  ('newsgroup', 0.01579054140248977),\n",
       "  ('navy mil', 0.009678016581973266),\n",
       "  ('admin rl', 0.009548929852249083),\n",
       "  ('health diabetes', 0.009548929852249083),\n",
       "  ('lonexa admin', 0.009548929852249083),\n",
       "  ('misc health', 0.009316224422641657),\n",
       "  ('groups', 0.007501685427952115),\n",
       "  ('nrl', 0.007452979538113326),\n",
       "  ('hp', 0.007425130786763433)],\n",
       " 38: [('nicknames', 0.0369217777294331),\n",
       "  ('list nicknames', 0.0369217777294331),\n",
       "  ('maddi', 0.034561535012223574),\n",
       "  ('sam', 0.02772171163933895),\n",
       "  ('rule humor', 0.02586367677361498),\n",
       "  ('vax cns', 0.02586367677361498),\n",
       "  ('keeper list', 0.02586367677361498),\n",
       "  ('say sorry', 0.02461451848628873),\n",
       "  ('smileys', 0.02372832791185512),\n",
       "  ('hausmann', 0.02372832791185512)],\n",
       " 39: [('countersteering', 0.037214914591455206),\n",
       "  ('turn', 0.022571071600584997),\n",
       "  ('riding', 0.021320307510109528),\n",
       "  ('brake', 0.016962492712230628),\n",
       "  ('technique', 0.016962492712230628),\n",
       "  ('rear', 0.011829304877392834),\n",
       "  ('plow', 0.011015561067124908),\n",
       "  ('shifting', 0.009130532450139384),\n",
       "  ('helmet bonk', 0.008825868783205185),\n",
       "  ('get bike', 0.008825868783205185)],\n",
       " 40: [('games', 0.02694258687036635),\n",
       "  ('sale', 0.01977175585767789),\n",
       "  ('controller', 0.0185494202598091),\n",
       "  ('konami', 0.013206550925315596),\n",
       "  ('segacd', 0.013206550925315596),\n",
       "  ('tenyard fight', 0.013206550925315596),\n",
       "  ('snes', 0.013206550925315596),\n",
       "  ('packaging manuals', 0.013206550925315596),\n",
       "  ('sega genesis', 0.013206550925315596),\n",
       "  ('electronics', 0.013131000536136759)],\n",
       " 41: [('uartcmd', 0.022395998474982567),\n",
       "  ('serial', 0.021582337136451166),\n",
       "  ('uart', 0.020609543890598256),\n",
       "  ('modem', 0.017906269151721763),\n",
       "  ('sta uartcmd', 0.01748606565624071),\n",
       "  ('ports', 0.017331778786945567),\n",
       "  ('interrupts', 0.016514929654450942),\n",
       "  ('registers', 0.014992555163893733),\n",
       "  ('bios', 0.013552946781026042),\n",
       "  ('comm', 0.012743370482368208)],\n",
       " 42: [('homosexuality', 0.03881461927273086),\n",
       "  ('homosexual', 0.031226672250367203),\n",
       "  ('paul', 0.015347348978596995),\n",
       "  ('homosexuals', 0.011249544055080878),\n",
       "  ('heterosexual', 0.01046467743482305),\n",
       "  ('sodom', 0.008256670335939116),\n",
       "  ('biblical', 0.007795714149962019),\n",
       "  ('would', 0.0073633135551890655),\n",
       "  ('sin', 0.007354403836242738),\n",
       "  ('kinsey', 0.0073392625208347695)],\n",
       " 43: [('backup', 0.0259339627623818),\n",
       "  ('copy protection', 0.019994785713812673),\n",
       "  ('restore', 0.014746582405040187),\n",
       "  ('software', 0.013350276096871613),\n",
       "  ('norton', 0.01333380952767907),\n",
       "  ('copies', 0.010454890439846735),\n",
       "  ('floppy', 0.009109927732205635),\n",
       "  ('piracy', 0.00881439678669146),\n",
       "  ('pirating', 0.00881439678669146),\n",
       "  ('disks', 0.00867104761988367)],\n",
       " 44: [('vlb', 0.03637897449116569),\n",
       "  ('vram', 0.0324669837461052),\n",
       "  ('cards', 0.03175193161665954),\n",
       "  ('vga', 0.028330030493072676),\n",
       "  ('16 256', 0.026900348541273784),\n",
       "  ('eisa', 0.02577638884288283),\n",
       "  ('viper', 0.024656899079235576),\n",
       "  ('72 hz', 0.023911420925576694),\n",
       "  ('stealth 24', 0.021279842151853013),\n",
       "  ('colors 16', 0.016218681289177944)],\n",
       " 45: [('request', 0.030216070074800684),\n",
       "  ('list', 0.027310803863238777),\n",
       "  ('boogie ebay', 0.02603665814251666),\n",
       "  ('motorcycles', 0.018433518442986636),\n",
       "  ('racing', 0.015026545674568842),\n",
       "  ('request boogie', 0.014254749402975657),\n",
       "  ('moto guzzi', 0.014254749402975657),\n",
       "  ('wheelies', 0.014254749402975657),\n",
       "  ('shaft drive', 0.013741539097079689),\n",
       "  ('bounces', 0.012505320683272168)],\n",
       " 46: [('diesel', 0.057375634932311695),\n",
       "  ('diesels', 0.03852487673308711),\n",
       "  ('emissions', 0.03431878080377017),\n",
       "  ('viscosity', 0.02432901613525889),\n",
       "  ('particulate matter', 0.017489704502889235),\n",
       "  ('diesel emissions', 0.017489704502889235),\n",
       "  ('clean diesel', 0.013607174188757568),\n",
       "  ('gas engines', 0.013607174188757568),\n",
       "  ('20w50', 0.013607174188757568),\n",
       "  ('temperatures', 0.011736760058231321)],\n",
       " 47: [('pkzip', 0.021376290490726577),\n",
       "  ('database', 0.018960251055396588),\n",
       "  ('rtf files', 0.018791561702006066),\n",
       "  ('files rtf', 0.018791561702006066),\n",
       "  ('wordprocessor', 0.017802571623986373),\n",
       "  ('hlp files', 0.014620032792191628),\n",
       "  ('file', 0.014486521564066018),\n",
       "  ('windows application', 0.013351928717989781),\n",
       "  ('unix', 0.012179149417248656),\n",
       "  ('pgp', 0.010818202936222687)],\n",
       " 48: [('existence', 0.024078477328777534),\n",
       "  ('evolution', 0.010602667948020516),\n",
       "  ('religion', 0.010443443203381723),\n",
       "  ('creationist', 0.009142435465264928),\n",
       "  ('questions', 0.008415002741001073),\n",
       "  ('source existence', 0.008297179590060759),\n",
       "  ('creationists', 0.008297179590060759),\n",
       "  ('scientific', 0.007370530919037839),\n",
       "  ('supernatural', 0.00725611138973292),\n",
       "  ('universe exist', 0.007087025662854058)],\n",
       " 49: [('dogs', 0.02138941142363779),\n",
       "  ('riding', 0.013770346447905915),\n",
       "  ('bikers', 0.010477978351940443),\n",
       "  ('leg', 0.009442849823906625),\n",
       "  ('trained', 0.009109853383488785),\n",
       "  ('150lb', 0.008957844391178346),\n",
       "  ('30 mph', 0.008180863988330934),\n",
       "  ('driveway', 0.007858483763955332),\n",
       "  ('springer', 0.007726517556091722),\n",
       "  ('retreat', 0.007501720098238404)],\n",
       " 50: [('homosexuality', 0.0173473814019397),\n",
       "  ('exclusively homosexual', 0.014425934252734399),\n",
       "  ('sexual partners', 0.014425934252734399),\n",
       "  ('heterosexuals', 0.013666704867313193),\n",
       "  ('number sexual', 0.01122352868683938),\n",
       "  ('men surveyed', 0.01122352868683938),\n",
       "  ('men gay', 0.01122352868683938),\n",
       "  ('engaged homosexual', 0.01122352868683938),\n",
       "  ('straight men', 0.01122352868683938),\n",
       "  ('repressed', 0.010506059120811755)],\n",
       " 51: [('00 unix', 0.03342603956206796),\n",
       "  ('list 20', 0.03342603956206796),\n",
       "  ('unix', 0.03228295292970978),\n",
       "  ('books', 0.02743101816138128),\n",
       "  ('spice', 0.019662004644011907),\n",
       "  ('programming', 0.017261368485000057),\n",
       "  ('chemistry book', 0.016603433762581103),\n",
       "  ('purdum', 0.012917646224475514),\n",
       "  ('study guide', 0.012917646224475514),\n",
       "  ('00 programmer', 0.012917646224475514)],\n",
       " 52: [('stuff deleted', 0.1458508261797862),\n",
       "  ('deletion', 0.0494541985456456),\n",
       "  ('minor', 0.03864882834687641),\n",
       "  ('followers hole', 0.03402920238539918),\n",
       "  ('think approval', 0.03402920238539918),\n",
       "  ('guys deleted', 0.03402920238539918),\n",
       "  ('joke patient', 0.03402920238539918),\n",
       "  ('humorous items', 0.03402920238539918),\n",
       "  ('hurts doctor', 0.03402920238539918),\n",
       "  ('jason deletion', 0.03402920238539918)],\n",
       " 53: [('shipping', 0.03528255066681246),\n",
       "  ('formatted', 0.030290072827625157),\n",
       "  ('seagate', 0.02494362175356217),\n",
       "  ('scsi', 0.018297456758713092),\n",
       "  ('disk sale', 0.016408139028422405),\n",
       "  ('disk', 0.016257165896101468),\n",
       "  ('original ibm', 0.015615662265495),\n",
       "  ('hard drive', 0.015188588211043502),\n",
       "  ('drives', 0.015133192934074929),\n",
       "  ('exabyte', 0.014617423410187746)],\n",
       " 54: [('mark ocsmd', 0.02509134423707024),\n",
       "  ('joy cooking', 0.02509134423707024),\n",
       "  ('fatima', 0.02509134423707024),\n",
       "  ('ocs com', 0.02509134423707024),\n",
       "  ('mark wilson', 0.024187986620095244),\n",
       "  ('book mormon', 0.022011983317885356),\n",
       "  ('wilson online', 0.01757646725243573),\n",
       "  ('everything signed', 0.01757646725243573),\n",
       "  ('try email', 0.01757646725243573),\n",
       "  ('wilbur orville', 0.01757646725243573)],\n",
       " 55: [('militia', 0.036976139212850534),\n",
       "  ('amendment', 0.03313257515658388),\n",
       "  ('bear arms', 0.03015300769619619),\n",
       "  ('second amendment', 0.027120145083408972),\n",
       "  ('well regulated', 0.021933099079661386),\n",
       "  ('regulated militia', 0.020759209197906938),\n",
       "  ('constitution', 0.01872118559666157),\n",
       "  ('free state', 0.013956246742096575),\n",
       "  ('right keep', 0.01296379674162878),\n",
       "  ('shall infringed', 0.011971721375216174)],\n",
       " 56: [('cooling towers', 0.026173618990137638),\n",
       "  ('turbine', 0.023662804636083314),\n",
       "  ('reactor', 0.017449079326758425),\n",
       "  ('feedwater', 0.015780523584447093),\n",
       "  ('fossil plants', 0.015780523584447093),\n",
       "  ('condensate', 0.015780523584447093),\n",
       "  ('cooling tower', 0.013001000265761056),\n",
       "  ('power plants', 0.013001000265761056),\n",
       "  ('power plant', 0.013001000265761056),\n",
       "  ('plutonium', 0.013001000265761056)],\n",
       " 57: [('hard drive', 0.020311014039081702),\n",
       "  ('floppy', 0.01731651809264634),\n",
       "  ('software', 0.015226045982079122),\n",
       "  ('00', 0.014387323188500337),\n",
       "  ('scsi hard', 0.012000951656636108),\n",
       "  ('ram', 0.011425419160924282),\n",
       "  ('floppy drive', 0.011096026060241494),\n",
       "  ('amiga', 0.01092179117381346),\n",
       "  ('drives', 0.010841215946469645),\n",
       "  ('disk drive', 0.010415712437869089)],\n",
       " 58: [('envelope', 0.027073783562334985),\n",
       "  ('reboost', 0.018042981622488543),\n",
       "  ('drag', 0.01582110461810857),\n",
       "  ('sort', 0.011336596639981439),\n",
       "  ('boost', 0.010796827272964753),\n",
       "  ('retrieving hst', 0.00983334869717406),\n",
       "  ('fuselage', 0.00983334869717406),\n",
       "  ('orbital maneuvering', 0.00983334869717406),\n",
       "  ('edo', 0.00983334869717406),\n",
       "  ('spacecraft would', 0.00983334869717406)],\n",
       " 59: [('shared memory', 0.035435128314270294),\n",
       "  ('ms windows', 0.026956772051284307),\n",
       "  ('desktop manager', 0.022713017769101496),\n",
       "  ('icons', 0.017053451046380074),\n",
       "  ('memory extension', 0.015910451399124288),\n",
       "  ('pc xware', 0.015910451399124288),\n",
       "  ('word warning', 0.015142011846067664),\n",
       "  ('shm', 0.014596857644354476),\n",
       "  ('server running', 0.014174051325708117),\n",
       "  ('emacs', 0.013828632650101265)],\n",
       " 60: [('simms', 0.03318651375458672),\n",
       "  ('ram', 0.024393099088551713),\n",
       "  ('ati', 0.02318039364908313),\n",
       "  ('motherboard', 0.016705858968676532),\n",
       "  ('cache card', 0.0159692697016468),\n",
       "  ('eisa dma', 0.013156501336859437),\n",
       "  ('graphics ultra', 0.012200882077229361),\n",
       "  ('performance', 0.011462278156137396),\n",
       "  ('24 bit', 0.010821562354291263),\n",
       "  ('memory aperture', 0.009867376002644578)],\n",
       " 61: [('bible', 0.021139792885272457),\n",
       "  ('truth', 0.013481663029499892),\n",
       "  ('lds', 0.010970243366467314),\n",
       "  ('mcconkie', 0.01081784956582301),\n",
       "  ('beliefs', 0.009937377180976552),\n",
       "  ('faith', 0.009544427402800384),\n",
       "  ('doctrine', 0.009490061271141246),\n",
       "  ('mormon', 0.008760524074595266),\n",
       "  ('christians', 0.008742983919117719),\n",
       "  ('bible teaches', 0.006252564087663768)],\n",
       " 62: [('censorship', 0.023932142233497593),\n",
       "  ('quote context', 0.01836575410231839),\n",
       "  ('stephen', 0.013005111164170812),\n",
       "  ('rejecting', 0.011667631330848421),\n",
       "  ('hate', 0.01142508325908558),\n",
       "  ('hearings', 0.01141204161623171),\n",
       "  ('contrary', 0.010060046763505187),\n",
       "  ('took quote', 0.010009258333975028),\n",
       "  ('man argument', 0.010009258333975028),\n",
       "  ('herrings smoke', 0.010009258333975028)],\n",
       " 63: [('win31', 0.01973307385891984),\n",
       "  ('excel', 0.015362735324825336),\n",
       "  ('application error', 0.013939635687261245),\n",
       "  ('emm386 exe', 0.013939635687261245),\n",
       "  ('32bit', 0.013437770344497358),\n",
       "  ('virtual memory', 0.013048537651502674),\n",
       "  ('umb', 0.012730547509473677),\n",
       "  ('autoexec bat', 0.011839844315351903),\n",
       "  ('qemm', 0.010721456750989433),\n",
       "  ('swap file', 0.010388815898847692)],\n",
       " 64: [('ncsl', 0.07206769382614682),\n",
       "  ('nmsu edu', 0.04917041525591707),\n",
       "  ('ftp', 0.045422281570706366),\n",
       "  ('nist gov', 0.040383498063197215),\n",
       "  ('ncsl nist', 0.031226203606638886),\n",
       "  ('archives', 0.03037709187950364),\n",
       "  ('ncsl server', 0.030172768661465017),\n",
       "  ('multi lingual', 0.019339978810655432),\n",
       "  ('crl nmsu', 0.018643686216457594),\n",
       "  ('csrc ncsl', 0.016681545167510376)],\n",
       " 65: [('network', 0.03611559686889339),\n",
       "  ('packet', 0.03378286635555265),\n",
       "  ('sys mac', 0.030403698826927558),\n",
       "  ('comp sys', 0.02845635942087789),\n",
       "  ('internet', 0.016382377898646865),\n",
       "  ('network server', 0.014815115821779455),\n",
       "  ('sdexter', 0.014815115821779455),\n",
       "  ('traffic', 0.012944091740623928),\n",
       "  ('criteria', 0.010668203529645062),\n",
       "  ('ms windows', 0.01004038641274667)],\n",
       " 66: [('polysyllabic', 0.19293708305834623),\n",
       "  ('neil', 0.13893189194353855),\n",
       "  ('regarding case', 0.10443444870001818),\n",
       "  ('problems cathy', 0.10443444870001818),\n",
       "  ('yes regards', 0.10443444870001818),\n",
       "  ('smith posting', 0.10443444870001818),\n",
       "  ('polysyllabic polysyllabic', 0.10443444870001818),\n",
       "  ('polysyllabic sub', 0.10443444870001818),\n",
       "  ('says problems', 0.10443444870001818),\n",
       "  ('case informative', 0.10443444870001818)],\n",
       " 67: [('mary', 0.03923223894909986),\n",
       "  ('bernadette', 0.028629434534270803),\n",
       "  ('saint', 0.019998911135200748),\n",
       "  ('saint aloysius', 0.013987210328814814),\n",
       "  ('apparitions', 0.012433075847835389),\n",
       "  ('purity', 0.012243141516258316),\n",
       "  ('priest priest', 0.009873138357223213),\n",
       "  ('immaculate conception', 0.009873138357223213),\n",
       "  ('flowers', 0.008935892856995743),\n",
       "  ('lourdes', 0.00843312889049293)],\n",
       " 68: [('hire', 0.017419092482872902),\n",
       "  ('statutes', 0.0166988257678636),\n",
       "  ('clayton', 0.015113625728753195),\n",
       "  ('discrimination', 0.01431757557238688),\n",
       "  ('homosexuals', 0.011902476862932528),\n",
       "  ('laws', 0.009927530090374049),\n",
       "  ('defines rape', 0.009142401276765386),\n",
       "  ('1992', 0.009085751634530764),\n",
       "  ('individual rights', 0.008557968799287712),\n",
       "  ('consenting adults', 0.008557968799287712)],\n",
       " 69: [('batteries', 0.04629455412685173),\n",
       "  ('concrete', 0.02606796079382464),\n",
       "  ('wd 40', 0.02549769857210135),\n",
       "  ('bmw', 0.023182406838540014),\n",
       "  ('self discharge', 0.017736664505108864),\n",
       "  ('cb650', 0.016602839543251736),\n",
       "  ('bike', 0.01262346034596427),\n",
       "  ('bikes storage', 0.012424519782439764),\n",
       "  ('cold cranking', 0.012424519782439764),\n",
       "  ('cranking amps', 0.012424519782439764)],\n",
       " 70: [('atoms', 0.031271216131882475),\n",
       "  ('observations', 0.02862539869529391),\n",
       "  ('fractal', 0.02410028700780334),\n",
       "  ('informal exploration', 0.014187231347780983),\n",
       "  ('theory', 0.013843105801705512),\n",
       "  ('scientific thinking', 0.0136764518781474),\n",
       "  ('fossil', 0.011216528987100455),\n",
       "  ('ideas', 0.010191844943957648),\n",
       "  ('scientific work', 0.009938144598032043),\n",
       "  ('iterated systems', 0.009938144598032043)],\n",
       " 71: [('mr stephanopoulos', 0.027081254354707037),\n",
       "  ('stephanopoulos', 0.02704505725378197),\n",
       "  ('secretary', 0.025203196829881005),\n",
       "  ('republicans', 0.011101650965270665),\n",
       "  ('young', 0.009874812792539402),\n",
       "  ('secretary riley', 0.009731050407113617),\n",
       "  ('mr president', 0.008684438472234279),\n",
       "  ('school work', 0.008540004966058452),\n",
       "  ('secretary reich', 0.008540004966058452),\n",
       "  ('stephanopoulos well', 0.00834173651293699)],\n",
       " 72: [('creed', 0.04012283113922767),\n",
       "  ('holy spirit', 0.02824784966953782),\n",
       "  ('pope', 0.018789072381395686),\n",
       "  ('filioque', 0.01766029717676903),\n",
       "  ('proceeds father', 0.01596615898116815),\n",
       "  ('orthodox church', 0.015241318722329996),\n",
       "  ('spirit proceeds', 0.014236389532865105),\n",
       "  ('catholic', 0.014114528691192991),\n",
       "  ('procession', 0.010647695918984665),\n",
       "  ('spirit father', 0.010647695918984665)],\n",
       " 73: [('hacker', 0.037624841547029275),\n",
       "  ('computer science', 0.021135175889707286),\n",
       "  ('software engineering', 0.018979888264341067),\n",
       "  ('engineer', 0.014632002100952472),\n",
       "  ('honours year', 0.0145581320260851),\n",
       "  ('cs people', 0.0145581320260851),\n",
       "  ('computer engineering', 0.012969318428987044),\n",
       "  ('jobs', 0.01219829212454623),\n",
       "  ('programming', 0.011901810880810968),\n",
       "  ('lisp', 0.011602833918929014)],\n",
       " 74: [('mouse', 0.16879734164167964),\n",
       "  ('mouse driver', 0.031084677171576817),\n",
       "  ('windows mouse', 0.02645993954431954),\n",
       "  ('s3', 0.02331350787868261),\n",
       "  ('old mouse', 0.01922740690272179),\n",
       "  ('check mouse', 0.01922740690272179),\n",
       "  ('microswitch', 0.01922740690272179),\n",
       "  ('mouse works', 0.01922740690272179),\n",
       "  ('microsoft mouse', 0.018298765747538817),\n",
       "  ('mouse mouse', 0.015542338585788408)],\n",
       " 75: [('macs', 0.04090338563583867),\n",
       "  ('powerpc', 0.03594821488374037),\n",
       "  ('based macs', 0.016698420729200053),\n",
       "  ('pin simms', 0.016097231513721923),\n",
       "  ('cpus', 0.015250042626331185),\n",
       "  ('680x0 based', 0.011697230819565241),\n",
       "  ('macs use', 0.011697230819565241),\n",
       "  ('nubus pds', 0.011697230819565241),\n",
       "  ('macrescue board', 0.011697230819565241),\n",
       "  ('intel', 0.01119043997983329)],\n",
       " 76: [('electricity', 0.03428890957486369),\n",
       "  ('transformer', 0.030198447139365068),\n",
       "  ('monitor', 0.022826330354340247),\n",
       "  ('transistor', 0.02188449833095549),\n",
       "  ('power supply', 0.016560608016616938),\n",
       "  ('consumption', 0.016330626039333294),\n",
       "  ('hours day', 0.015515679342931138),\n",
       "  ('computers', 0.014288487047162278),\n",
       "  ('energy storage', 0.013700533874443727),\n",
       "  ('primary side', 0.013700533874443727)],\n",
       " 77: [('yale edu', 0.06891071036231365),\n",
       "  ('eli cs', 0.04187003242811789),\n",
       "  ('inaccuracies deleted', 0.04187003242811789),\n",
       "  ('issue posted', 0.04187003242811789),\n",
       "  ('magistic', 0.04187003242811789),\n",
       "  ('mean cutting', 0.04187003242811789),\n",
       "  ('minerva cis', 0.04187003242811789),\n",
       "  ('newpaper article', 0.04187003242811789),\n",
       "  ('person wrote', 0.04187003242811789),\n",
       "  ('increasing dear', 0.04187003242811789)],\n",
       " 78: [('vga', 0.030664013491536714),\n",
       "  ('colors', 0.028678484277278943),\n",
       "  ('mode 13h', 0.02249771338903429),\n",
       "  ('vga mode', 0.020473770702294145),\n",
       "  ('turbo debugger', 0.017503457813295892),\n",
       "  ('video memory', 0.01564769810598645),\n",
       "  ('screen', 0.013968407795701583),\n",
       "  ('256', 0.013560353710016052),\n",
       "  ('video card', 0.013044831650927086),\n",
       "  ('svga', 0.013044831650927086)],\n",
       " 79: [('column list', 0.039310263271877144),\n",
       "  ('lobo gsfc', 0.025196880911043194),\n",
       "  ('port motif', 0.025196880911043194),\n",
       "  ('build motif', 0.0176503956110159),\n",
       "  ('motif x11r5', 0.0176503956110159),\n",
       "  ('motif clients', 0.0176503956110159),\n",
       "  ('need motif', 0.0176503956110159),\n",
       "  ('icon pixmap', 0.0176503956110159),\n",
       "  ('mail motif', 0.0176503956110159),\n",
       "  ('x11r5 motif', 0.01619314912176022)],\n",
       " 80: [('photography', 0.07057391430778288),\n",
       "  ('kirlian photograph', 0.033709702769662),\n",
       "  ('plate', 0.026838555049773342),\n",
       "  ('photographs', 0.021630767482934746),\n",
       "  ('electric fields', 0.021607063792968513),\n",
       "  ('involves taking', 0.021607063792968513),\n",
       "  ('krillean photography', 0.021607063792968513),\n",
       "  ('kirlian photography', 0.021607063792968513),\n",
       "  ('energy', 0.016577158935463146),\n",
       "  ('greg', 0.0156706059987717)],\n",
       " 81: [('living room', 0.029586831905109804),\n",
       "  ('bedroom', 0.0275392227189765),\n",
       "  ('washer dryer', 0.021674433236866956),\n",
       "  ('letter credit', 0.021674433236866956),\n",
       "  ('remodeled', 0.01686293718958626),\n",
       "  ('condo', 0.01686293718958626),\n",
       "  ('dining room', 0.016255824927650216),\n",
       "  ('hotels', 0.015784965674126034),\n",
       "  ('rooms', 0.015784965674126034),\n",
       "  ('expenses', 0.014121816511462161)],\n",
       " 82: [('leds', 0.04300194680125212),\n",
       "  ('computer graphics', 0.023465984409155635),\n",
       "  ('led', 0.020821286174024192),\n",
       "  ('colours', 0.020174592836802716),\n",
       "  ('uniform chromaticity', 0.018305755344844982),\n",
       "  ('fluorescent', 0.018305755344844982),\n",
       "  ('blinking leds', 0.017646697648732588),\n",
       "  ('hz', 0.014010938442014844),\n",
       "  ('longwave uv', 0.012823167475993982),\n",
       "  ('green red', 0.012823167475993982)],\n",
       " 83: [('rushdie', 0.05565893450109829),\n",
       "  ('islam', 0.024084236016446853),\n",
       "  ('qur', 0.022343330339461138),\n",
       "  ('fatwa', 0.021503595455560607),\n",
       "  ('apostasy', 0.01696432603160684),\n",
       "  ('hadith', 0.013571460825285472),\n",
       "  ('crisis', 0.010219762046536364),\n",
       "  ('secular', 0.009270425234909651),\n",
       "  ('knowledge', 0.00894061853239107),\n",
       "  ('prophet', 0.0074431091031484245)],\n",
       " 84: [('acetone', 0.058609298788222845),\n",
       "  ('wax', 0.02993681418438475),\n",
       "  ('denatured alcohol', 0.022962416177942712),\n",
       "  ('work try', 0.022962416177942712),\n",
       "  ('scuffed areas', 0.022962416177942712),\n",
       "  ('lubricate lock', 0.022962416177942712),\n",
       "  ('mek methyl', 0.022962416177942712),\n",
       "  ('stick', 0.020941715414313708),\n",
       "  ('drill', 0.019957876122923164),\n",
       "  ('scratches', 0.01884946143414989)],\n",
       " 85: [('nmm', 0.04955610513291921),\n",
       "  ('red light', 0.021846054271179055),\n",
       "  ('turn', 0.017905174403385907),\n",
       "  ('_red_ rear', 0.017503457813295892),\n",
       "  ('ramps', 0.017503457813295892),\n",
       "  ('lanes', 0.016873285041775717),\n",
       "  ('brake', 0.012615002112958223),\n",
       "  ('rear indicators', 0.01226115867500082),\n",
       "  ('left lane', 0.01226115867500082),\n",
       "  ('two lane', 0.01226115867500082)],\n",
       " 86: [('pluto', 0.032699003434705366),\n",
       "  ('bursts', 0.023783166601275905),\n",
       "  ('pluto charon', 0.01681559180020382),\n",
       "  ('black hole', 0.01615294611078878),\n",
       "  ('neptune', 0.01316840246325216),\n",
       "  ('peak flux', 0.01104759508824439),\n",
       "  ('gamma rays', 0.010649851185887948),\n",
       "  ('energy released', 0.010649851185887948),\n",
       "  ('atmosphere', 0.010616221234141575),\n",
       "  ('interstellar', 0.010341372163639048)],\n",
       " 87: [('moment silence', 0.03749734707418558),\n",
       "  ('religion', 0.03247137455129271),\n",
       "  ('public schools', 0.025842003579076463),\n",
       "  ('prayer', 0.025753942486825693),\n",
       "  ('christian prayer', 0.01732897766105848),\n",
       "  ('protestant', 0.01732897766105848),\n",
       "  ('non christians', 0.015505202147445878),\n",
       "  ('religion come', 0.012592292742742778),\n",
       "  ('forms prayer', 0.012592292742742778),\n",
       "  ('groups', 0.012589903954745485)],\n",
       " 88: [('junk mail', 0.042972628706500246),\n",
       "  ('junk', 0.04265758972174231),\n",
       "  ('mail', 0.02651954881348582),\n",
       "  ('keel hauling', 0.02472095173207087),\n",
       "  ('hauling', 0.02472095173207087),\n",
       "  ('mailings', 0.022023010528162097),\n",
       "  ('clothing', 0.017533995611309947),\n",
       "  ('mailing list', 0.015375273264048877),\n",
       "  ('virtual', 0.01467362583819842),\n",
       "  ('get promotional', 0.01338114438424386)],\n",
       " 89: [('transmissions', 0.03100575226904494),\n",
       "  ('shift', 0.024906807044324863),\n",
       "  ('throttle', 0.02377006482752003),\n",
       "  ('synchros', 0.02156816718848072),\n",
       "  ('dog clutches', 0.02156816718848072),\n",
       "  ('clutches', 0.020791653665338396),\n",
       "  ('automatics', 0.020791653665338396),\n",
       "  ('tranny', 0.01860345136142696),\n",
       "  ('clutchless', 0.015108484451913701),\n",
       "  ('gears always', 0.015108484451913701)],\n",
       " 90: [('government listening', 0.021413971176409363),\n",
       "  ('neutral ground', 0.020643009135112564),\n",
       "  ('law abiding', 0.020577822928376295),\n",
       "  ('center tap', 0.015000470264589921),\n",
       "  ('grounded center', 0.015000470264589921),\n",
       "  ('matter government', 0.015000470264589921),\n",
       "  ('freedoms', 0.012762406140658595),\n",
       "  ('citizens', 0.012095861036243011),\n",
       "  ('transformer', 0.011800063459952973),\n",
       "  ('govt', 0.011524952716301929)],\n",
       " 91: [('equipment', 0.038426200106050544),\n",
       "  ('low radiation', 0.028334286687753396),\n",
       "  ('buy tempest', 0.022044373271759045),\n",
       "  ('monitor', 0.01836396126483031),\n",
       "  ('pick laptop', 0.01544206644533222),\n",
       "  ('electromagnetic emissions', 0.01544206644533222),\n",
       "  ('even macs', 0.01544206644533222),\n",
       "  ('laptop screens', 0.01544206644533222),\n",
       "  ('tempest equipment', 0.01544206644533222),\n",
       "  ('security', 0.01431969289399503)],\n",
       " 92: [('muhammad saw', 0.02809205297182874),\n",
       "  ('koran', 0.019664437080280116),\n",
       "  ('holy qur', 0.015479942182838576),\n",
       "  ('islam', 0.014487283388688016),\n",
       "  ('prophet muhammad', 0.012753362165460845),\n",
       "  ('proofs prophethood', 0.012753362165460845),\n",
       "  ('prophets', 0.01271924372322349),\n",
       "  ('mohammed', 0.012082159375450794),\n",
       "  ('holy prophet', 0.009922249998510178),\n",
       "  ('messenger allah', 0.009922249998510178)],\n",
       " 93: [('profess faith', 0.03342013074812005),\n",
       "  ('natlamp jesus', 0.03342013074812005),\n",
       "  ('episode', 0.02549043703015952),\n",
       "  ('claim christian', 0.023410775768585943),\n",
       "  ('much deleted', 0.022280087165413368),\n",
       "  ('mormonism', 0.022280087165413368),\n",
       "  ('rites', 0.02085582168566536),\n",
       "  ('baptized', 0.019545740649540226),\n",
       "  ('lds', 0.015960021076215084),\n",
       "  ('strips drawn', 0.012671962394562876)],\n",
       " 94: [('punishment', 0.04409379572372475),\n",
       "  ('murder', 0.03238756558153379),\n",
       "  ('capital punishment', 0.03165420574161437),\n",
       "  ('death penalty', 0.027769410922827628),\n",
       "  ('agree concept', 0.022173746665886555),\n",
       "  ('testament interpretation', 0.022173746665886555),\n",
       "  ('hate crimes', 0.021102803827742912),\n",
       "  ('murder one', 0.021102803827742912),\n",
       "  ('king', 0.02007921596147623),\n",
       "  ('testament', 0.0154043013877691)],\n",
       " 95: [('supreme court', 0.021153029789760042),\n",
       "  ('libertarian', 0.016266007612945162),\n",
       "  ('government power', 0.01616764809952123),\n",
       "  ('government would', 0.014245104026659612),\n",
       "  ('irrelevant', 0.014176706342840592),\n",
       "  ('belongs use', 0.012578600391812115),\n",
       "  ('buy car', 0.012125736074640922),\n",
       "  ('autonomous', 0.01177450720363942),\n",
       "  ('amendment', 0.011211102922130853),\n",
       "  ('assets', 0.010849571896349268)],\n",
       " 96: [('xv', 0.11534645708093755),\n",
       "  ('copyright', 0.04764668603594947),\n",
       "  ('donation', 0.033435607471043766),\n",
       "  ('shareware', 0.022487217965864784),\n",
       "  ('bound copy', 0.0209947986568425),\n",
       "  ('donate 25', 0.0209947986568425),\n",
       "  ('folks donate', 0.0209947986568425),\n",
       "  ('copies xv', 0.0209947986568425),\n",
       "  ('copy xv', 0.0209947986568425),\n",
       "  ('copyright notices', 0.0209947986568425)],\n",
       " 97: [('rings', 0.0786358245112299),\n",
       "  ('dialing', 0.044009653224643966),\n",
       "  ('phone', 0.039528827722026205),\n",
       "  ('answering machine', 0.0337192776098386),\n",
       "  ('tone dialing', 0.02586367677361498),\n",
       "  ('ecs umass', 0.02586367677361498),\n",
       "  ('number line', 0.02586367677361498),\n",
       "  ('fax', 0.025638061893021213),\n",
       "  ('peripherals', 0.023041023341482378),\n",
       "  ('wall jacks', 0.023041023341482378)],\n",
       " 98: [('slavery', 0.03141744188924157),\n",
       "  ('mechanization cotton', 0.02189009923922384),\n",
       "  ('slaves', 0.018769397315831382),\n",
       "  ('cotton production', 0.01703072760938314),\n",
       "  ('white men', 0.015942030009191966),\n",
       "  ('labor used', 0.01193001153239241),\n",
       "  ('blacks slaves', 0.01193001153239241),\n",
       "  ('wack', 0.01193001153239241),\n",
       "  ('slave labor', 0.01193001153239241),\n",
       "  ('cotton reaper', 0.01193001153239241)],\n",
       " 99: [('monitor', 0.04928796517251987),\n",
       "  ('make pc', 0.04144574376808919),\n",
       "  ('monochrome monitor', 0.03692252876202978),\n",
       "  ('keyboard mouse', 0.035262055484930784),\n",
       "  ('video card', 0.029396501284146802),\n",
       "  ('macintosh', 0.026317741692972962),\n",
       "  ('ii cx', 0.022434066757781684),\n",
       "  ('machines deal', 0.022434066757781684),\n",
       "  ('ikegami sale', 0.022434066757781684),\n",
       "  ('hz 1152x870', 0.022434066757781684)],\n",
       " 100: [('radar', 0.11340524839097249),\n",
       "  ('radar detector', 0.07736899067549546),\n",
       "  ('detectors', 0.051460785650919036),\n",
       "  ('radar detectors', 0.04903543170236146),\n",
       "  ('police', 0.028499815973731482),\n",
       "  ('virginia', 0.020615304926023505),\n",
       "  ('use radar', 0.019911656258690538),\n",
       "  ('law radar', 0.019911656258690538),\n",
       "  ('state courts', 0.01894996737556511),\n",
       "  ('lights', 0.01383280682151982)],\n",
       " 101: [('pray pray', 0.05565865067725334),\n",
       "  ('spiritually', 0.03620150730981845),\n",
       "  ('gifts', 0.03133948297636504),\n",
       "  ('heart', 0.022863913034256774),\n",
       "  ('gifts money', 0.022545402076678864),\n",
       "  ('husband little', 0.022545402076678864),\n",
       "  ('indeed rich', 0.022545402076678864),\n",
       "  ('kind caring', 0.022545402076678864),\n",
       "  ('sincere love', 0.022545402076678864),\n",
       "  ('intervention realization', 0.022545402076678864)],\n",
       " 102: [('thermometer', 0.04041912024880307),\n",
       "  ('temperature', 0.02890411795554307),\n",
       "  ('scale', 0.025359655185383446),\n",
       "  ('russian winter', 0.023847236317326985),\n",
       "  ('pete pete', 0.023847236317326985),\n",
       "  ('divided hundredths', 0.023847236317326985),\n",
       "  ('data particle', 0.023847236317326985),\n",
       "  ('data easy', 0.023847236317326985),\n",
       "  ('droplets must', 0.023847236317326985),\n",
       "  ('remember fahrenheit', 0.023847236317326985)],\n",
       " 103: [('sipps', 0.09743462699783505),\n",
       "  ('simms', 0.05048059044801008),\n",
       "  ('sipp', 0.04671000730292803),\n",
       "  ('80ns', 0.04097747381789574),\n",
       "  ('dram', 0.03657540504407993),\n",
       "  ('mhz 286', 0.03272032402743883),\n",
       "  ('256x9 sipps', 0.03272032402743883),\n",
       "  ('sipps sale', 0.03272032402743883),\n",
       "  ('modem 1meg', 0.0177111053350908),\n",
       "  ('momboard', 0.0177111053350908)],\n",
       " 104: [('message digest', 0.06575323795083358),\n",
       "  ('collision', 0.04786582960063256),\n",
       "  ('digest algorithm', 0.04641317321057317),\n",
       "  ('pseudocollisions', 0.03964375437068416),\n",
       "  ('md5 message', 0.03964375437068416),\n",
       "  ('boer bosselaers', 0.03266104944813144),\n",
       "  ('rsa', 0.031122141244659854),\n",
       "  ('128 bit', 0.03094211547371545),\n",
       "  ('s_1 s_2', 0.02541064024008704),\n",
       "  ('rfc', 0.023786252622410495)],\n",
       " 105: [('interpretation', 0.022940372691344583),\n",
       "  ('bible', 0.019263758346566844),\n",
       "  ('jesus', 0.01909545444022437),\n",
       "  ('contradictions', 0.013540972374571462),\n",
       "  ('flying reindeer', 0.010063936894750979),\n",
       "  ('private interpretation', 0.010063936894750979),\n",
       "  ('peter', 0.010030775858961278),\n",
       "  ('benjamin franklin', 0.00970160740117218),\n",
       "  ('santa claus', 0.009191016870552396),\n",
       "  ('scripture', 0.008667985861920203)],\n",
       " 106: [('midi', 0.10141529194844376),\n",
       "  ('mpeg_play', 0.045940473574875774),\n",
       "  ('files', 0.03994208771376119),\n",
       "  ('mono', 0.039620344361111705),\n",
       "  ('drv file', 0.03680834676866679),\n",
       "  ('lciii midi', 0.02578421847323521),\n",
       "  ('wav files', 0.02578421847323521),\n",
       "  ('mpeg_play dither', 0.02578421847323521),\n",
       "  ('midi files', 0.02578421847323521),\n",
       "  ('sound exe', 0.024538897845777858)],\n",
       " 107: [('ocr', 0.056512604824932006),\n",
       "  ('winfax', 0.056512604824932006),\n",
       "  ('word processor', 0.038571457006569755),\n",
       "  ('wysiwyg', 0.026203912791554068),\n",
       "  ('font', 0.017386318015383692),\n",
       "  ('ocr omnipage', 0.01667118722367263),\n",
       "  ('grammar checker', 0.01667118722367263),\n",
       "  ('gov bc', 0.01667118722367263),\n",
       "  ('grammar style', 0.01667118722367263),\n",
       "  ('reading ease', 0.01667118722367263)],\n",
       " 108: [('interviews', 0.030809790812283206),\n",
       "  ('nextstep', 0.025983708338179083),\n",
       "  ('toolkit', 0.017369636035090754),\n",
       "  ('vms', 0.015752052040514147),\n",
       "  ('driver module', 0.014583428519614354),\n",
       "  ('tk tcl', 0.014583428519614354),\n",
       "  ('tele use', 0.014583428519614354),\n",
       "  ('uim designer', 0.014583428519614354),\n",
       "  ('snmp', 0.014583428519614354),\n",
       "  ('extensions tk', 0.014583428519614354)],\n",
       " 109: [('left channel', 0.08588614246022251),\n",
       "  ('channel', 0.07575778848838735),\n",
       "  ('mac models', 0.06016317643754882),\n",
       "  ('play stereo', 0.06016317643754882),\n",
       "  ('stereo', 0.03927561509579989),\n",
       "  ('number guess', 0.032565580777425024),\n",
       "  ('iii centris', 0.032565580777425024),\n",
       "  ('mono like', 0.032565580777425024),\n",
       "  ('iivx lc', 0.032565580777425024),\n",
       "  ('newer mac', 0.032565580777425024)],\n",
       " 110: [('us nine', 0.03022509286515009),\n",
       "  ('mnemonics', 0.03022509286515009),\n",
       "  ('planets', 0.029349605787285696),\n",
       "  ('mother', 0.028961525767442604),\n",
       "  ('sci', 0.023843782706808186),\n",
       "  ('nine planets', 0.02351544037919733),\n",
       "  ('astro', 0.018245384398033682),\n",
       "  ('godzilla kills', 0.01647254781754281),\n",
       "  ('bioplasmic', 0.015676960252798217),\n",
       "  ('____________________________________________________',\n",
       "   0.015676960252798217)],\n",
       " 111: [('cpu fans', 0.05874848635915504),\n",
       "  ('cpu fan', 0.041341435744413346),\n",
       "  ('fan blowing', 0.022530907686008215),\n",
       "  ('sink grease', 0.022530907686008215),\n",
       "  ('heatsink', 0.021442714761881053),\n",
       "  ('pcp', 0.021442714761881053),\n",
       "  ('dx2', 0.019582828786385013),\n",
       "  ('clips', 0.018811135631839386),\n",
       "  ('cooling', 0.016492334814273677),\n",
       "  ('connector', 0.014434215470260789)],\n",
       " 112: [('messages posted', 0.05728848541322909),\n",
       "  ('sarcastic sort', 0.03100954620102929),\n",
       "  ('funny things', 0.03100954620102929),\n",
       "  ('saying atheists', 0.03100954620102929),\n",
       "  ('zbib posting', 0.03100954620102929),\n",
       "  ('ignorance appalling', 0.03100954620102929),\n",
       "  ('irresponsibly intended', 0.03100954620102929),\n",
       "  ('sarcastic impression', 0.03100954620102929),\n",
       "  ('indicate remark', 0.03100954620102929),\n",
       "  ('reported incident', 0.03100954620102929)],\n",
       " 113: [('companies', 0.052130139021180966),\n",
       "  ('columbus', 0.039255731220505165),\n",
       "  ('addresses', 0.02781819576169669),\n",
       "  ('library center', 0.02545041186807166),\n",
       "  ('lockheed nyone', 0.02545041186807166),\n",
       "  ('largest private', 0.02545041186807166),\n",
       "  ('like bureau', 0.02545041186807166),\n",
       "  ('macrovision go', 0.02545041186807166),\n",
       "  ('middlefield road', 0.02545041186807166),\n",
       "  ('marietta lockheed', 0.02545041186807166)],\n",
       " 114: [('mileage', 0.04163952228800968),\n",
       "  ('odometer', 0.03198461919685771),\n",
       "  ('oxygen sensor', 0.026833408450618226),\n",
       "  ('eeprom', 0.02314494340710566),\n",
       "  ('battery', 0.021639481804324956),\n",
       "  ('ecm', 0.01879678188810316),\n",
       "  ('110 mph', 0.01879678188810316),\n",
       "  ('sensor light', 0.01788893896707882),\n",
       "  ('sprint', 0.017244887810519565),\n",
       "  ('cars', 0.01495970228606498)],\n",
       " 115: [('baptism', 0.02972155834935296),\n",
       "  ('salvation', 0.026721965325278655),\n",
       "  ('holy spirit', 0.02244584207276701),\n",
       "  ('cf john', 0.020911429688280223),\n",
       "  ('name jesus', 0.020087380858653144),\n",
       "  ('father son', 0.016943176887213553),\n",
       "  ('trinity', 0.015239682903663464),\n",
       "  ('baptismal', 0.014715417883224053),\n",
       "  ('persons godhead', 0.014715417883224053),\n",
       "  ('three persons', 0.014715417883224053)]}"
      ]
     },
     "execution_count": 15,
     "metadata": {},
     "output_type": "execute_result"
    }
   ],
   "source": [
    "#get top 10 words per topic\n",
    "topic_model.get_topics()"
   ]
  },
  {
   "cell_type": "code",
   "execution_count": 16,
   "id": "c3d57826",
   "metadata": {},
   "outputs": [
    {
     "name": "stderr",
     "output_type": "stream",
     "text": [
      "/opt/conda/lib/python3.8/site-packages/scipy/sparse/_index.py:125: SparseEfficiencyWarning: Changing the sparsity structure of a csr_matrix is expensive. lil_matrix is more efficient.\n",
      "  self._set_arrayXarray(i, j, x)\n"
     ]
    }
   ],
   "source": [
    "#save model\n",
    "topic_model.save(\"bertopic_20news.model\")"
   ]
  },
  {
   "cell_type": "code",
   "execution_count": 16,
   "id": "8ee96e18",
   "metadata": {},
   "outputs": [
    {
     "data": {
      "application/vnd.plotly.v1+json": {
       "config": {
        "plotlyServerURL": "https://plot.ly"
       },
       "data": [
        {
         "marker": {
          "color": "#D55E00"
         },
         "orientation": "h",
         "type": "bar",
         "x": [
          0.00498700452731302,
          0.005237657890152873,
          0.005287226769148705,
          0.005942210107381999,
          0.006880379813224154
         ],
         "xaxis": "x",
         "y": [
          "hockey  ",
          "03  ",
          "det  ",
          "season  ",
          "games  "
         ],
         "yaxis": "y"
        },
        {
         "marker": {
          "color": "#0072B2"
         },
         "orientation": "h",
         "type": "bar",
         "x": [
          0.004894638326597243,
          0.005599757043385022,
          0.0057398355293025016,
          0.006279988972118991,
          0.007442527410495439
         ],
         "xaxis": "x2",
         "y": [
          "yeast  ",
          "disease  ",
          "cancer  ",
          "health  ",
          "patients  "
         ],
         "yaxis": "y2"
        },
        {
         "marker": {
          "color": "#CC79A7"
         },
         "orientation": "h",
         "type": "bar",
         "x": [
          0.006295578020024833,
          0.006680566466348159,
          0.007136948215465011,
          0.009486397646387468,
          0.010891782945610776
         ],
         "xaxis": "x3",
         "y": [
          "wiretap  ",
          "clipper chip  ",
          "law enforcement  ",
          "nsa  ",
          "encryption  "
         ],
         "yaxis": "y3"
        },
        {
         "marker": {
          "color": "#E69F00"
         },
         "orientation": "h",
         "type": "bar",
         "x": [
          0.005897975225885052,
          0.006410130291515757,
          0.006440524718755735,
          0.006703117817039543,
          0.017912949904224797
         ],
         "xaxis": "x4",
         "y": [
          "children  ",
          "would  ",
          "warrant  ",
          "agents  ",
          "fbi  "
         ],
         "yaxis": "y4"
        },
        {
         "marker": {
          "color": "#56B4E9"
         },
         "orientation": "h",
         "type": "bar",
         "x": [
          0.7016562021930617,
          1.0095330041001758,
          1.0095330041001758,
          1.0095330041001758,
          1.0095330041001758
         ],
         "xaxis": "x5",
         "y": [
          "yep  ",
          "dir hello  ",
          "hello huh  ",
          "yep dir  ",
          "hi yep  "
         ],
         "yaxis": "y5"
        },
        {
         "marker": {
          "color": "#009E73"
         },
         "orientation": "h",
         "type": "bar",
         "x": [
          0.008024464043131306,
          0.008487260237982077,
          0.012690370527947708,
          0.023356648694552617,
          0.029896357691373693
         ],
         "xaxis": "x6",
         "y": [
          "lebanon  ",
          "palestinians  ",
          "palestinian  ",
          "israeli  ",
          "israel  "
         ],
         "yaxis": "y6"
        },
        {
         "marker": {
          "color": "#F0E442"
         },
         "orientation": "h",
         "type": "bar",
         "x": [
          0.006044755681048387,
          0.006716395201164875,
          0.009287784767653207,
          0.01133553608228402,
          0.012784589317962737
         ],
         "xaxis": "x7",
         "y": [
          "sedan  ",
          "centaur  ",
          "mustang  ",
          "ford  ",
          "cars  "
         ],
         "yaxis": "y7"
        },
        {
         "marker": {
          "color": "#D55E00"
         },
         "orientation": "h",
         "type": "bar",
         "x": [
          0.015351181055064118,
          0.015935465508286586,
          0.01853021081448469,
          0.021932604948705612,
          0.02588375017264388
         ],
         "xaxis": "x8",
         "y": [
          "disk drives  ",
          "rom bios  ",
          "hard disk  ",
          "bios  ",
          "scsi  "
         ],
         "yaxis": "y8"
        }
       ],
       "layout": {
        "annotations": [
         {
          "font": {
           "size": 16
          },
          "showarrow": false,
          "text": "Topic 0",
          "x": 0.0875,
          "xanchor": "center",
          "xref": "paper",
          "y": 1,
          "yanchor": "bottom",
          "yref": "paper"
         },
         {
          "font": {
           "size": 16
          },
          "showarrow": false,
          "text": "Topic 1",
          "x": 0.36250000000000004,
          "xanchor": "center",
          "xref": "paper",
          "y": 1,
          "yanchor": "bottom",
          "yref": "paper"
         },
         {
          "font": {
           "size": 16
          },
          "showarrow": false,
          "text": "Topic 2",
          "x": 0.6375000000000001,
          "xanchor": "center",
          "xref": "paper",
          "y": 1,
          "yanchor": "bottom",
          "yref": "paper"
         },
         {
          "font": {
           "size": 16
          },
          "showarrow": false,
          "text": "Topic 3",
          "x": 0.9125,
          "xanchor": "center",
          "xref": "paper",
          "y": 1,
          "yanchor": "bottom",
          "yref": "paper"
         },
         {
          "font": {
           "size": 16
          },
          "showarrow": false,
          "text": "Topic 4",
          "x": 0.0875,
          "xanchor": "center",
          "xref": "paper",
          "y": 0.4,
          "yanchor": "bottom",
          "yref": "paper"
         },
         {
          "font": {
           "size": 16
          },
          "showarrow": false,
          "text": "Topic 5",
          "x": 0.36250000000000004,
          "xanchor": "center",
          "xref": "paper",
          "y": 0.4,
          "yanchor": "bottom",
          "yref": "paper"
         },
         {
          "font": {
           "size": 16
          },
          "showarrow": false,
          "text": "Topic 6",
          "x": 0.6375000000000001,
          "xanchor": "center",
          "xref": "paper",
          "y": 0.4,
          "yanchor": "bottom",
          "yref": "paper"
         },
         {
          "font": {
           "size": 16
          },
          "showarrow": false,
          "text": "Topic 7",
          "x": 0.9125,
          "xanchor": "center",
          "xref": "paper",
          "y": 0.4,
          "yanchor": "bottom",
          "yref": "paper"
         }
        ],
        "height": 500,
        "hoverlabel": {
         "bgcolor": "white",
         "font": {
          "family": "Rockwell",
          "size": 16
         }
        },
        "showlegend": false,
        "template": {
         "data": {
          "bar": [
           {
            "error_x": {
             "color": "#2a3f5f"
            },
            "error_y": {
             "color": "#2a3f5f"
            },
            "marker": {
             "line": {
              "color": "white",
              "width": 0.5
             },
             "pattern": {
              "fillmode": "overlay",
              "size": 10,
              "solidity": 0.2
             }
            },
            "type": "bar"
           }
          ],
          "barpolar": [
           {
            "marker": {
             "line": {
              "color": "white",
              "width": 0.5
             },
             "pattern": {
              "fillmode": "overlay",
              "size": 10,
              "solidity": 0.2
             }
            },
            "type": "barpolar"
           }
          ],
          "carpet": [
           {
            "aaxis": {
             "endlinecolor": "#2a3f5f",
             "gridcolor": "#C8D4E3",
             "linecolor": "#C8D4E3",
             "minorgridcolor": "#C8D4E3",
             "startlinecolor": "#2a3f5f"
            },
            "baxis": {
             "endlinecolor": "#2a3f5f",
             "gridcolor": "#C8D4E3",
             "linecolor": "#C8D4E3",
             "minorgridcolor": "#C8D4E3",
             "startlinecolor": "#2a3f5f"
            },
            "type": "carpet"
           }
          ],
          "choropleth": [
           {
            "colorbar": {
             "outlinewidth": 0,
             "ticks": ""
            },
            "type": "choropleth"
           }
          ],
          "contour": [
           {
            "colorbar": {
             "outlinewidth": 0,
             "ticks": ""
            },
            "colorscale": [
             [
              0,
              "#0d0887"
             ],
             [
              0.1111111111111111,
              "#46039f"
             ],
             [
              0.2222222222222222,
              "#7201a8"
             ],
             [
              0.3333333333333333,
              "#9c179e"
             ],
             [
              0.4444444444444444,
              "#bd3786"
             ],
             [
              0.5555555555555556,
              "#d8576b"
             ],
             [
              0.6666666666666666,
              "#ed7953"
             ],
             [
              0.7777777777777778,
              "#fb9f3a"
             ],
             [
              0.8888888888888888,
              "#fdca26"
             ],
             [
              1,
              "#f0f921"
             ]
            ],
            "type": "contour"
           }
          ],
          "contourcarpet": [
           {
            "colorbar": {
             "outlinewidth": 0,
             "ticks": ""
            },
            "type": "contourcarpet"
           }
          ],
          "heatmap": [
           {
            "colorbar": {
             "outlinewidth": 0,
             "ticks": ""
            },
            "colorscale": [
             [
              0,
              "#0d0887"
             ],
             [
              0.1111111111111111,
              "#46039f"
             ],
             [
              0.2222222222222222,
              "#7201a8"
             ],
             [
              0.3333333333333333,
              "#9c179e"
             ],
             [
              0.4444444444444444,
              "#bd3786"
             ],
             [
              0.5555555555555556,
              "#d8576b"
             ],
             [
              0.6666666666666666,
              "#ed7953"
             ],
             [
              0.7777777777777778,
              "#fb9f3a"
             ],
             [
              0.8888888888888888,
              "#fdca26"
             ],
             [
              1,
              "#f0f921"
             ]
            ],
            "type": "heatmap"
           }
          ],
          "heatmapgl": [
           {
            "colorbar": {
             "outlinewidth": 0,
             "ticks": ""
            },
            "colorscale": [
             [
              0,
              "#0d0887"
             ],
             [
              0.1111111111111111,
              "#46039f"
             ],
             [
              0.2222222222222222,
              "#7201a8"
             ],
             [
              0.3333333333333333,
              "#9c179e"
             ],
             [
              0.4444444444444444,
              "#bd3786"
             ],
             [
              0.5555555555555556,
              "#d8576b"
             ],
             [
              0.6666666666666666,
              "#ed7953"
             ],
             [
              0.7777777777777778,
              "#fb9f3a"
             ],
             [
              0.8888888888888888,
              "#fdca26"
             ],
             [
              1,
              "#f0f921"
             ]
            ],
            "type": "heatmapgl"
           }
          ],
          "histogram": [
           {
            "marker": {
             "pattern": {
              "fillmode": "overlay",
              "size": 10,
              "solidity": 0.2
             }
            },
            "type": "histogram"
           }
          ],
          "histogram2d": [
           {
            "colorbar": {
             "outlinewidth": 0,
             "ticks": ""
            },
            "colorscale": [
             [
              0,
              "#0d0887"
             ],
             [
              0.1111111111111111,
              "#46039f"
             ],
             [
              0.2222222222222222,
              "#7201a8"
             ],
             [
              0.3333333333333333,
              "#9c179e"
             ],
             [
              0.4444444444444444,
              "#bd3786"
             ],
             [
              0.5555555555555556,
              "#d8576b"
             ],
             [
              0.6666666666666666,
              "#ed7953"
             ],
             [
              0.7777777777777778,
              "#fb9f3a"
             ],
             [
              0.8888888888888888,
              "#fdca26"
             ],
             [
              1,
              "#f0f921"
             ]
            ],
            "type": "histogram2d"
           }
          ],
          "histogram2dcontour": [
           {
            "colorbar": {
             "outlinewidth": 0,
             "ticks": ""
            },
            "colorscale": [
             [
              0,
              "#0d0887"
             ],
             [
              0.1111111111111111,
              "#46039f"
             ],
             [
              0.2222222222222222,
              "#7201a8"
             ],
             [
              0.3333333333333333,
              "#9c179e"
             ],
             [
              0.4444444444444444,
              "#bd3786"
             ],
             [
              0.5555555555555556,
              "#d8576b"
             ],
             [
              0.6666666666666666,
              "#ed7953"
             ],
             [
              0.7777777777777778,
              "#fb9f3a"
             ],
             [
              0.8888888888888888,
              "#fdca26"
             ],
             [
              1,
              "#f0f921"
             ]
            ],
            "type": "histogram2dcontour"
           }
          ],
          "mesh3d": [
           {
            "colorbar": {
             "outlinewidth": 0,
             "ticks": ""
            },
            "type": "mesh3d"
           }
          ],
          "parcoords": [
           {
            "line": {
             "colorbar": {
              "outlinewidth": 0,
              "ticks": ""
             }
            },
            "type": "parcoords"
           }
          ],
          "pie": [
           {
            "automargin": true,
            "type": "pie"
           }
          ],
          "scatter": [
           {
            "fillpattern": {
             "fillmode": "overlay",
             "size": 10,
             "solidity": 0.2
            },
            "type": "scatter"
           }
          ],
          "scatter3d": [
           {
            "line": {
             "colorbar": {
              "outlinewidth": 0,
              "ticks": ""
             }
            },
            "marker": {
             "colorbar": {
              "outlinewidth": 0,
              "ticks": ""
             }
            },
            "type": "scatter3d"
           }
          ],
          "scattercarpet": [
           {
            "marker": {
             "colorbar": {
              "outlinewidth": 0,
              "ticks": ""
             }
            },
            "type": "scattercarpet"
           }
          ],
          "scattergeo": [
           {
            "marker": {
             "colorbar": {
              "outlinewidth": 0,
              "ticks": ""
             }
            },
            "type": "scattergeo"
           }
          ],
          "scattergl": [
           {
            "marker": {
             "colorbar": {
              "outlinewidth": 0,
              "ticks": ""
             }
            },
            "type": "scattergl"
           }
          ],
          "scattermapbox": [
           {
            "marker": {
             "colorbar": {
              "outlinewidth": 0,
              "ticks": ""
             }
            },
            "type": "scattermapbox"
           }
          ],
          "scatterpolar": [
           {
            "marker": {
             "colorbar": {
              "outlinewidth": 0,
              "ticks": ""
             }
            },
            "type": "scatterpolar"
           }
          ],
          "scatterpolargl": [
           {
            "marker": {
             "colorbar": {
              "outlinewidth": 0,
              "ticks": ""
             }
            },
            "type": "scatterpolargl"
           }
          ],
          "scatterternary": [
           {
            "marker": {
             "colorbar": {
              "outlinewidth": 0,
              "ticks": ""
             }
            },
            "type": "scatterternary"
           }
          ],
          "surface": [
           {
            "colorbar": {
             "outlinewidth": 0,
             "ticks": ""
            },
            "colorscale": [
             [
              0,
              "#0d0887"
             ],
             [
              0.1111111111111111,
              "#46039f"
             ],
             [
              0.2222222222222222,
              "#7201a8"
             ],
             [
              0.3333333333333333,
              "#9c179e"
             ],
             [
              0.4444444444444444,
              "#bd3786"
             ],
             [
              0.5555555555555556,
              "#d8576b"
             ],
             [
              0.6666666666666666,
              "#ed7953"
             ],
             [
              0.7777777777777778,
              "#fb9f3a"
             ],
             [
              0.8888888888888888,
              "#fdca26"
             ],
             [
              1,
              "#f0f921"
             ]
            ],
            "type": "surface"
           }
          ],
          "table": [
           {
            "cells": {
             "fill": {
              "color": "#EBF0F8"
             },
             "line": {
              "color": "white"
             }
            },
            "header": {
             "fill": {
              "color": "#C8D4E3"
             },
             "line": {
              "color": "white"
             }
            },
            "type": "table"
           }
          ]
         },
         "layout": {
          "annotationdefaults": {
           "arrowcolor": "#2a3f5f",
           "arrowhead": 0,
           "arrowwidth": 1
          },
          "autotypenumbers": "strict",
          "coloraxis": {
           "colorbar": {
            "outlinewidth": 0,
            "ticks": ""
           }
          },
          "colorscale": {
           "diverging": [
            [
             0,
             "#8e0152"
            ],
            [
             0.1,
             "#c51b7d"
            ],
            [
             0.2,
             "#de77ae"
            ],
            [
             0.3,
             "#f1b6da"
            ],
            [
             0.4,
             "#fde0ef"
            ],
            [
             0.5,
             "#f7f7f7"
            ],
            [
             0.6,
             "#e6f5d0"
            ],
            [
             0.7,
             "#b8e186"
            ],
            [
             0.8,
             "#7fbc41"
            ],
            [
             0.9,
             "#4d9221"
            ],
            [
             1,
             "#276419"
            ]
           ],
           "sequential": [
            [
             0,
             "#0d0887"
            ],
            [
             0.1111111111111111,
             "#46039f"
            ],
            [
             0.2222222222222222,
             "#7201a8"
            ],
            [
             0.3333333333333333,
             "#9c179e"
            ],
            [
             0.4444444444444444,
             "#bd3786"
            ],
            [
             0.5555555555555556,
             "#d8576b"
            ],
            [
             0.6666666666666666,
             "#ed7953"
            ],
            [
             0.7777777777777778,
             "#fb9f3a"
            ],
            [
             0.8888888888888888,
             "#fdca26"
            ],
            [
             1,
             "#f0f921"
            ]
           ],
           "sequentialminus": [
            [
             0,
             "#0d0887"
            ],
            [
             0.1111111111111111,
             "#46039f"
            ],
            [
             0.2222222222222222,
             "#7201a8"
            ],
            [
             0.3333333333333333,
             "#9c179e"
            ],
            [
             0.4444444444444444,
             "#bd3786"
            ],
            [
             0.5555555555555556,
             "#d8576b"
            ],
            [
             0.6666666666666666,
             "#ed7953"
            ],
            [
             0.7777777777777778,
             "#fb9f3a"
            ],
            [
             0.8888888888888888,
             "#fdca26"
            ],
            [
             1,
             "#f0f921"
            ]
           ]
          },
          "colorway": [
           "#636efa",
           "#EF553B",
           "#00cc96",
           "#ab63fa",
           "#FFA15A",
           "#19d3f3",
           "#FF6692",
           "#B6E880",
           "#FF97FF",
           "#FECB52"
          ],
          "font": {
           "color": "#2a3f5f"
          },
          "geo": {
           "bgcolor": "white",
           "lakecolor": "white",
           "landcolor": "white",
           "showlakes": true,
           "showland": true,
           "subunitcolor": "#C8D4E3"
          },
          "hoverlabel": {
           "align": "left"
          },
          "hovermode": "closest",
          "mapbox": {
           "style": "light"
          },
          "paper_bgcolor": "white",
          "plot_bgcolor": "white",
          "polar": {
           "angularaxis": {
            "gridcolor": "#EBF0F8",
            "linecolor": "#EBF0F8",
            "ticks": ""
           },
           "bgcolor": "white",
           "radialaxis": {
            "gridcolor": "#EBF0F8",
            "linecolor": "#EBF0F8",
            "ticks": ""
           }
          },
          "scene": {
           "xaxis": {
            "backgroundcolor": "white",
            "gridcolor": "#DFE8F3",
            "gridwidth": 2,
            "linecolor": "#EBF0F8",
            "showbackground": true,
            "ticks": "",
            "zerolinecolor": "#EBF0F8"
           },
           "yaxis": {
            "backgroundcolor": "white",
            "gridcolor": "#DFE8F3",
            "gridwidth": 2,
            "linecolor": "#EBF0F8",
            "showbackground": true,
            "ticks": "",
            "zerolinecolor": "#EBF0F8"
           },
           "zaxis": {
            "backgroundcolor": "white",
            "gridcolor": "#DFE8F3",
            "gridwidth": 2,
            "linecolor": "#EBF0F8",
            "showbackground": true,
            "ticks": "",
            "zerolinecolor": "#EBF0F8"
           }
          },
          "shapedefaults": {
           "line": {
            "color": "#2a3f5f"
           }
          },
          "ternary": {
           "aaxis": {
            "gridcolor": "#DFE8F3",
            "linecolor": "#A2B1C6",
            "ticks": ""
           },
           "baxis": {
            "gridcolor": "#DFE8F3",
            "linecolor": "#A2B1C6",
            "ticks": ""
           },
           "bgcolor": "white",
           "caxis": {
            "gridcolor": "#DFE8F3",
            "linecolor": "#A2B1C6",
            "ticks": ""
           }
          },
          "title": {
           "x": 0.05
          },
          "xaxis": {
           "automargin": true,
           "gridcolor": "#EBF0F8",
           "linecolor": "#EBF0F8",
           "ticks": "",
           "title": {
            "standoff": 15
           },
           "zerolinecolor": "#EBF0F8",
           "zerolinewidth": 2
          },
          "yaxis": {
           "automargin": true,
           "gridcolor": "#EBF0F8",
           "linecolor": "#EBF0F8",
           "ticks": "",
           "title": {
            "standoff": 15
           },
           "zerolinecolor": "#EBF0F8",
           "zerolinewidth": 2
          }
         }
        },
        "title": {
         "font": {
          "color": "Black",
          "size": 22
         },
         "text": "<b>Topic Word Scores",
         "x": 0.5,
         "xanchor": "center",
         "yanchor": "top"
        },
        "width": 1000,
        "xaxis": {
         "anchor": "y",
         "domain": [
          0,
          0.175
         ],
         "showgrid": true
        },
        "xaxis2": {
         "anchor": "y2",
         "domain": [
          0.275,
          0.45
         ],
         "showgrid": true
        },
        "xaxis3": {
         "anchor": "y3",
         "domain": [
          0.55,
          0.7250000000000001
         ],
         "showgrid": true
        },
        "xaxis4": {
         "anchor": "y4",
         "domain": [
          0.825,
          1
         ],
         "showgrid": true
        },
        "xaxis5": {
         "anchor": "y5",
         "domain": [
          0,
          0.175
         ],
         "showgrid": true
        },
        "xaxis6": {
         "anchor": "y6",
         "domain": [
          0.275,
          0.45
         ],
         "showgrid": true
        },
        "xaxis7": {
         "anchor": "y7",
         "domain": [
          0.55,
          0.7250000000000001
         ],
         "showgrid": true
        },
        "xaxis8": {
         "anchor": "y8",
         "domain": [
          0.825,
          1
         ],
         "showgrid": true
        },
        "yaxis": {
         "anchor": "x",
         "domain": [
          0.6000000000000001,
          1
         ],
         "showgrid": true
        },
        "yaxis2": {
         "anchor": "x2",
         "domain": [
          0.6000000000000001,
          1
         ],
         "showgrid": true
        },
        "yaxis3": {
         "anchor": "x3",
         "domain": [
          0.6000000000000001,
          1
         ],
         "showgrid": true
        },
        "yaxis4": {
         "anchor": "x4",
         "domain": [
          0.6000000000000001,
          1
         ],
         "showgrid": true
        },
        "yaxis5": {
         "anchor": "x5",
         "domain": [
          0,
          0.4
         ],
         "showgrid": true
        },
        "yaxis6": {
         "anchor": "x6",
         "domain": [
          0,
          0.4
         ],
         "showgrid": true
        },
        "yaxis7": {
         "anchor": "x7",
         "domain": [
          0,
          0.4
         ],
         "showgrid": true
        },
        "yaxis8": {
         "anchor": "x8",
         "domain": [
          0,
          0.4
         ],
         "showgrid": true
        }
       }
      }
     },
     "metadata": {},
     "output_type": "display_data"
    }
   ],
   "source": [
    "topic_model.visualize_barchart()"
   ]
  },
  {
   "cell_type": "code",
   "execution_count": 17,
   "id": "1a511235",
   "metadata": {},
   "outputs": [
    {
     "data": {
      "application/vnd.plotly.v1+json": {
       "config": {
        "plotlyServerURL": "https://plot.ly"
       },
       "data": [
        {
         "hoverinfo": "text",
         "marker": {
          "color": "rgb(0,116,217)"
         },
         "mode": "lines",
         "type": "scatter",
         "x": [
          0,
          1.1501536736876932,
          1.1501536736876932,
          0
         ],
         "xaxis": "x",
         "y": [
          -15,
          -15,
          -25,
          -25
         ],
         "yaxis": "y"
        },
        {
         "hoverinfo": "text",
         "marker": {
          "color": "rgb(0,116,217)"
         },
         "mode": "lines",
         "type": "scatter",
         "x": [
          0,
          1.3184091674006198,
          1.3184091674006198,
          1.1501536736876932
         ],
         "xaxis": "x",
         "y": [
          -5,
          -5,
          -20,
          -20
         ],
         "yaxis": "y"
        },
        {
         "hoverinfo": "text",
         "marker": {
          "color": "rgb(61,153,112)"
         },
         "mode": "lines",
         "type": "scatter",
         "x": [
          0,
          0.9709447676038496,
          0.9709447676038496,
          0
         ],
         "xaxis": "x",
         "y": [
          -45,
          -45,
          -55,
          -55
         ],
         "yaxis": "y"
        },
        {
         "hoverinfo": "text",
         "marker": {
          "color": "rgb(0,116,217)"
         },
         "mode": "lines",
         "type": "scatter",
         "x": [
          0,
          1.2302923245065698,
          1.2302923245065698,
          0.9709447676038496
         ],
         "xaxis": "x",
         "y": [
          -35,
          -35,
          -50,
          -50
         ],
         "yaxis": "y"
        },
        {
         "hoverinfo": "text",
         "marker": {
          "color": "rgb(0,116,217)"
         },
         "mode": "lines",
         "type": "scatter",
         "x": [
          0,
          1.0929445722440616,
          1.0929445722440616,
          0
         ],
         "xaxis": "x",
         "y": [
          -65,
          -65,
          -75,
          -75
         ],
         "yaxis": "y"
        },
        {
         "hoverinfo": "text",
         "marker": {
          "color": "rgb(0,116,217)"
         },
         "mode": "lines",
         "type": "scatter",
         "x": [
          1.0929445722440616,
          1.3006803955071762,
          1.3006803955071762,
          0
         ],
         "xaxis": "x",
         "y": [
          -70,
          -70,
          -85,
          -85
         ],
         "yaxis": "y"
        },
        {
         "hoverinfo": "text",
         "marker": {
          "color": "rgb(0,116,217)"
         },
         "mode": "lines",
         "type": "scatter",
         "x": [
          1.2302923245065698,
          1.3765336767398684,
          1.3765336767398684,
          1.3006803955071762
         ],
         "xaxis": "x",
         "y": [
          -42.5,
          -42.5,
          -77.5,
          -77.5
         ],
         "yaxis": "y"
        },
        {
         "hoverinfo": "text",
         "marker": {
          "color": "rgb(0,116,217)"
         },
         "mode": "lines",
         "type": "scatter",
         "x": [
          1.3184091674006198,
          1.5790894738728694,
          1.5790894738728694,
          1.3765336767398684
         ],
         "xaxis": "x",
         "y": [
          -12.5,
          -12.5,
          -60,
          -60
         ],
         "yaxis": "y"
        },
        {
         "hoverinfo": "text",
         "marker": {
          "color": "rgb(0,116,217)"
         },
         "mode": "lines",
         "type": "scatter",
         "x": [
          0,
          1.0900745249859436,
          1.0900745249859436,
          0
         ],
         "xaxis": "x",
         "y": [
          -105,
          -105,
          -115,
          -115
         ],
         "yaxis": "y"
        },
        {
         "hoverinfo": "text",
         "marker": {
          "color": "rgb(0,116,217)"
         },
         "mode": "lines",
         "type": "scatter",
         "x": [
          0,
          1.0438047407732898,
          1.0438047407732898,
          0
         ],
         "xaxis": "x",
         "y": [
          -125,
          -125,
          -135,
          -135
         ],
         "yaxis": "y"
        },
        {
         "hoverinfo": "text",
         "marker": {
          "color": "rgb(0,116,217)"
         },
         "mode": "lines",
         "type": "scatter",
         "x": [
          1.0900745249859436,
          1.17673820786944,
          1.17673820786944,
          1.0438047407732898
         ],
         "xaxis": "x",
         "y": [
          -110,
          -110,
          -130,
          -130
         ],
         "yaxis": "y"
        },
        {
         "hoverinfo": "text",
         "marker": {
          "color": "rgb(0,116,217)"
         },
         "mode": "lines",
         "type": "scatter",
         "x": [
          0,
          1.2448527301997545,
          1.2448527301997545,
          1.17673820786944
         ],
         "xaxis": "x",
         "y": [
          -95,
          -95,
          -120,
          -120
         ],
         "yaxis": "y"
        },
        {
         "hoverinfo": "text",
         "marker": {
          "color": "rgb(0,116,217)"
         },
         "mode": "lines",
         "type": "scatter",
         "x": [
          0,
          1.101374722234352,
          1.101374722234352,
          0
         ],
         "xaxis": "x",
         "y": [
          -145,
          -145,
          -155,
          -155
         ],
         "yaxis": "y"
        },
        {
         "hoverinfo": "text",
         "marker": {
          "color": "rgb(0,116,217)"
         },
         "mode": "lines",
         "type": "scatter",
         "x": [
          1.2448527301997545,
          1.2882231894010787,
          1.2882231894010787,
          1.101374722234352
         ],
         "xaxis": "x",
         "y": [
          -107.5,
          -107.5,
          -150,
          -150
         ],
         "yaxis": "y"
        },
        {
         "hoverinfo": "text",
         "marker": {
          "color": "rgb(255,65,54)"
         },
         "mode": "lines",
         "type": "scatter",
         "x": [
          0,
          0.8000977051546174,
          0.8000977051546174,
          0
         ],
         "xaxis": "x",
         "y": [
          -165,
          -165,
          -175,
          -175
         ],
         "yaxis": "y"
        },
        {
         "hoverinfo": "text",
         "marker": {
          "color": "rgb(0,116,217)"
         },
         "mode": "lines",
         "type": "scatter",
         "x": [
          1.2882231894010787,
          1.6706017045136408,
          1.6706017045136408,
          0.8000977051546174
         ],
         "xaxis": "x",
         "y": [
          -128.75,
          -128.75,
          -170,
          -170
         ],
         "yaxis": "y"
        },
        {
         "hoverinfo": "text",
         "marker": {
          "color": "rgb(0,116,217)"
         },
         "mode": "lines",
         "type": "scatter",
         "x": [
          1.5790894738728694,
          2.0583576743446566,
          2.0583576743446566,
          1.6706017045136408
         ],
         "xaxis": "x",
         "y": [
          -36.25,
          -36.25,
          -149.375,
          -149.375
         ],
         "yaxis": "y"
        },
        {
         "hoverinfo": "text",
         "marker": {
          "color": "rgb(0,116,217)"
         },
         "mode": "lines",
         "type": "scatter",
         "x": [
          0,
          1.199273058157155,
          1.199273058157155,
          0
         ],
         "xaxis": "x",
         "y": [
          -185,
          -185,
          -195,
          -195
         ],
         "yaxis": "y"
        },
        {
         "hoverinfo": "text",
         "marker": {
          "color": "rgb(0,116,217)"
         },
         "mode": "lines",
         "type": "scatter",
         "x": [
          0,
          1.3677060995178532,
          1.3677060995178532,
          0
         ],
         "xaxis": "x",
         "y": [
          -205,
          -205,
          -215,
          -215
         ],
         "yaxis": "y"
        },
        {
         "hoverinfo": "text",
         "marker": {
          "color": "rgb(0,116,217)"
         },
         "mode": "lines",
         "type": "scatter",
         "x": [
          0,
          1.2887902533072226,
          1.2887902533072226,
          0
         ],
         "xaxis": "x",
         "y": [
          -235,
          -235,
          -245,
          -245
         ],
         "yaxis": "y"
        },
        {
         "hoverinfo": "text",
         "marker": {
          "color": "rgb(0,116,217)"
         },
         "mode": "lines",
         "type": "scatter",
         "x": [
          0,
          1.3502198988123373,
          1.3502198988123373,
          1.2887902533072226
         ],
         "xaxis": "x",
         "y": [
          -225,
          -225,
          -240,
          -240
         ],
         "yaxis": "y"
        },
        {
         "hoverinfo": "text",
         "marker": {
          "color": "rgb(0,116,217)"
         },
         "mode": "lines",
         "type": "scatter",
         "x": [
          1.3677060995178532,
          1.4584746232254573,
          1.4584746232254573,
          1.3502198988123373
         ],
         "xaxis": "x",
         "y": [
          -210,
          -210,
          -232.5,
          -232.5
         ],
         "yaxis": "y"
        },
        {
         "hoverinfo": "text",
         "marker": {
          "color": "rgb(0,116,217)"
         },
         "mode": "lines",
         "type": "scatter",
         "x": [
          1.199273058157155,
          1.5128283866555452,
          1.5128283866555452,
          1.4584746232254573
         ],
         "xaxis": "x",
         "y": [
          -190,
          -190,
          -221.25,
          -221.25
         ],
         "yaxis": "y"
        },
        {
         "hoverinfo": "text",
         "marker": {
          "color": "rgb(0,116,217)"
         },
         "mode": "lines",
         "type": "scatter",
         "x": [
          0,
          1.2308157682080192,
          1.2308157682080192,
          0
         ],
         "xaxis": "x",
         "y": [
          -265,
          -265,
          -275,
          -275
         ],
         "yaxis": "y"
        },
        {
         "hoverinfo": "text",
         "marker": {
          "color": "rgb(0,116,217)"
         },
         "mode": "lines",
         "type": "scatter",
         "x": [
          0,
          1.346031482209055,
          1.346031482209055,
          1.2308157682080192
         ],
         "xaxis": "x",
         "y": [
          -255,
          -255,
          -270,
          -270
         ],
         "yaxis": "y"
        },
        {
         "hoverinfo": "text",
         "marker": {
          "color": "rgb(0,116,217)"
         },
         "mode": "lines",
         "type": "scatter",
         "x": [
          1.5128283866555452,
          1.5731519201669257,
          1.5731519201669257,
          1.346031482209055
         ],
         "xaxis": "x",
         "y": [
          -205.625,
          -205.625,
          -262.5,
          -262.5
         ],
         "yaxis": "y"
        },
        {
         "hoverinfo": "text",
         "marker": {
          "color": "rgb(0,116,217)"
         },
         "mode": "lines",
         "type": "scatter",
         "x": [
          0,
          1.2372845704163504,
          1.2372845704163504,
          0
         ],
         "xaxis": "x",
         "y": [
          -285,
          -285,
          -295,
          -295
         ],
         "yaxis": "y"
        },
        {
         "hoverinfo": "text",
         "marker": {
          "color": "rgb(0,116,217)"
         },
         "mode": "lines",
         "type": "scatter",
         "x": [
          0,
          1.1260136092604398,
          1.1260136092604398,
          0
         ],
         "xaxis": "x",
         "y": [
          -305,
          -305,
          -315,
          -315
         ],
         "yaxis": "y"
        },
        {
         "hoverinfo": "text",
         "marker": {
          "color": "rgb(0,116,217)"
         },
         "mode": "lines",
         "type": "scatter",
         "x": [
          1.2372845704163504,
          1.273510802799641,
          1.273510802799641,
          1.1260136092604398
         ],
         "xaxis": "x",
         "y": [
          -290,
          -290,
          -310,
          -310
         ],
         "yaxis": "y"
        },
        {
         "hoverinfo": "text",
         "marker": {
          "color": "rgb(0,116,217)"
         },
         "mode": "lines",
         "type": "scatter",
         "x": [
          1.5731519201669257,
          1.6491211043568301,
          1.6491211043568301,
          1.273510802799641
         ],
         "xaxis": "x",
         "y": [
          -234.0625,
          -234.0625,
          -300,
          -300
         ],
         "yaxis": "y"
        },
        {
         "hoverinfo": "text",
         "marker": {
          "color": "rgb(0,116,217)"
         },
         "mode": "lines",
         "type": "scatter",
         "x": [
          0,
          1.2416051420354617,
          1.2416051420354617,
          0
         ],
         "xaxis": "x",
         "y": [
          -325,
          -325,
          -335,
          -335
         ],
         "yaxis": "y"
        },
        {
         "hoverinfo": "text",
         "marker": {
          "color": "rgb(0,116,217)"
         },
         "mode": "lines",
         "type": "scatter",
         "x": [
          0,
          1.094383887199562,
          1.094383887199562,
          0
         ],
         "xaxis": "x",
         "y": [
          -345,
          -345,
          -355,
          -355
         ],
         "yaxis": "y"
        },
        {
         "hoverinfo": "text",
         "marker": {
          "color": "rgb(0,116,217)"
         },
         "mode": "lines",
         "type": "scatter",
         "x": [
          1.2416051420354617,
          1.3323795403571728,
          1.3323795403571728,
          1.094383887199562
         ],
         "xaxis": "x",
         "y": [
          -330,
          -330,
          -350,
          -350
         ],
         "yaxis": "y"
        },
        {
         "hoverinfo": "text",
         "marker": {
          "color": "rgb(0,116,217)"
         },
         "mode": "lines",
         "type": "scatter",
         "x": [
          1.6491211043568301,
          1.6988953348826161,
          1.6988953348826161,
          1.3323795403571728
         ],
         "xaxis": "x",
         "y": [
          -267.03125,
          -267.03125,
          -340,
          -340
         ],
         "yaxis": "y"
        },
        {
         "hoverinfo": "text",
         "marker": {
          "color": "rgb(0,116,217)"
         },
         "mode": "lines",
         "type": "scatter",
         "x": [
          0,
          1.320141694812142,
          1.320141694812142,
          0
         ],
         "xaxis": "x",
         "y": [
          -365,
          -365,
          -375,
          -375
         ],
         "yaxis": "y"
        },
        {
         "hoverinfo": "text",
         "marker": {
          "color": "rgb(0,116,217)"
         },
         "mode": "lines",
         "type": "scatter",
         "x": [
          0,
          1.1891190759828068,
          1.1891190759828068,
          0
         ],
         "xaxis": "x",
         "y": [
          -395,
          -395,
          -405,
          -405
         ],
         "yaxis": "y"
        },
        {
         "hoverinfo": "text",
         "marker": {
          "color": "rgb(0,116,217)"
         },
         "mode": "lines",
         "type": "scatter",
         "x": [
          0,
          1.3110534136186798,
          1.3110534136186798,
          1.1891190759828068
         ],
         "xaxis": "x",
         "y": [
          -385,
          -385,
          -400,
          -400
         ],
         "yaxis": "y"
        },
        {
         "hoverinfo": "text",
         "marker": {
          "color": "rgb(0,116,217)"
         },
         "mode": "lines",
         "type": "scatter",
         "x": [
          0,
          1.296465291982111,
          1.296465291982111,
          0
         ],
         "xaxis": "x",
         "y": [
          -415,
          -415,
          -425,
          -425
         ],
         "yaxis": "y"
        },
        {
         "hoverinfo": "text",
         "marker": {
          "color": "rgb(0,116,217)"
         },
         "mode": "lines",
         "type": "scatter",
         "x": [
          1.3110534136186798,
          1.3646263175113829,
          1.3646263175113829,
          1.296465291982111
         ],
         "xaxis": "x",
         "y": [
          -392.5,
          -392.5,
          -420,
          -420
         ],
         "yaxis": "y"
        },
        {
         "hoverinfo": "text",
         "marker": {
          "color": "rgb(0,116,217)"
         },
         "mode": "lines",
         "type": "scatter",
         "x": [
          1.320141694812142,
          1.4257935352736903,
          1.4257935352736903,
          1.3646263175113829
         ],
         "xaxis": "x",
         "y": [
          -370,
          -370,
          -406.25,
          -406.25
         ],
         "yaxis": "y"
        },
        {
         "hoverinfo": "text",
         "marker": {
          "color": "rgb(0,116,217)"
         },
         "mode": "lines",
         "type": "scatter",
         "x": [
          0,
          1.1564756589208192,
          1.1564756589208192,
          0
         ],
         "xaxis": "x",
         "y": [
          -445,
          -445,
          -455,
          -455
         ],
         "yaxis": "y"
        },
        {
         "hoverinfo": "text",
         "marker": {
          "color": "rgb(0,116,217)"
         },
         "mode": "lines",
         "type": "scatter",
         "x": [
          0,
          1.2472174698939205,
          1.2472174698939205,
          1.1564756589208192
         ],
         "xaxis": "x",
         "y": [
          -435,
          -435,
          -450,
          -450
         ],
         "yaxis": "y"
        },
        {
         "hoverinfo": "text",
         "marker": {
          "color": "rgb(0,116,217)"
         },
         "mode": "lines",
         "type": "scatter",
         "x": [
          1.2472174698939205,
          1.3053911292359963,
          1.3053911292359963,
          0
         ],
         "xaxis": "x",
         "y": [
          -442.5,
          -442.5,
          -465,
          -465
         ],
         "yaxis": "y"
        },
        {
         "hoverinfo": "text",
         "marker": {
          "color": "rgb(0,116,217)"
         },
         "mode": "lines",
         "type": "scatter",
         "x": [
          1.4257935352736903,
          1.518170908962712,
          1.518170908962712,
          1.3053911292359963
         ],
         "xaxis": "x",
         "y": [
          -388.125,
          -388.125,
          -453.75,
          -453.75
         ],
         "yaxis": "y"
        },
        {
         "hoverinfo": "text",
         "marker": {
          "color": "rgb(0,116,217)"
         },
         "mode": "lines",
         "type": "scatter",
         "x": [
          0,
          1.2874168754877182,
          1.2874168754877182,
          0
         ],
         "xaxis": "x",
         "y": [
          -475,
          -475,
          -485,
          -485
         ],
         "yaxis": "y"
        },
        {
         "hoverinfo": "text",
         "marker": {
          "color": "rgb(0,116,217)"
         },
         "mode": "lines",
         "type": "scatter",
         "x": [
          0,
          1.2797684059812813,
          1.2797684059812813,
          0
         ],
         "xaxis": "x",
         "y": [
          -495,
          -495,
          -505,
          -505
         ],
         "yaxis": "y"
        },
        {
         "hoverinfo": "text",
         "marker": {
          "color": "rgb(0,116,217)"
         },
         "mode": "lines",
         "type": "scatter",
         "x": [
          1.2874168754877182,
          1.324795527507377,
          1.324795527507377,
          1.2797684059812813
         ],
         "xaxis": "x",
         "y": [
          -480,
          -480,
          -500,
          -500
         ],
         "yaxis": "y"
        },
        {
         "hoverinfo": "text",
         "marker": {
          "color": "rgb(0,116,217)"
         },
         "mode": "lines",
         "type": "scatter",
         "x": [
          0,
          1.2509200300727537,
          1.2509200300727537,
          0
         ],
         "xaxis": "x",
         "y": [
          -515,
          -515,
          -525,
          -525
         ],
         "yaxis": "y"
        },
        {
         "hoverinfo": "text",
         "marker": {
          "color": "rgb(0,116,217)"
         },
         "mode": "lines",
         "type": "scatter",
         "x": [
          1.324795527507377,
          1.3716922789603623,
          1.3716922789603623,
          1.2509200300727537
         ],
         "xaxis": "x",
         "y": [
          -490,
          -490,
          -520,
          -520
         ],
         "yaxis": "y"
        },
        {
         "hoverinfo": "text",
         "marker": {
          "color": "rgb(0,116,217)"
         },
         "mode": "lines",
         "type": "scatter",
         "x": [
          0,
          1.1133604275955857,
          1.1133604275955857,
          0
         ],
         "xaxis": "x",
         "y": [
          -535,
          -535,
          -545,
          -545
         ],
         "yaxis": "y"
        },
        {
         "hoverinfo": "text",
         "marker": {
          "color": "rgb(0,116,217)"
         },
         "mode": "lines",
         "type": "scatter",
         "x": [
          1.3716922789603623,
          1.5291087214938177,
          1.5291087214938177,
          1.1133604275955857
         ],
         "xaxis": "x",
         "y": [
          -505,
          -505,
          -540,
          -540
         ],
         "yaxis": "y"
        },
        {
         "hoverinfo": "text",
         "marker": {
          "color": "rgb(0,116,217)"
         },
         "mode": "lines",
         "type": "scatter",
         "x": [
          1.518170908962712,
          1.675816590916901,
          1.675816590916901,
          1.5291087214938177
         ],
         "xaxis": "x",
         "y": [
          -420.9375,
          -420.9375,
          -522.5,
          -522.5
         ],
         "yaxis": "y"
        },
        {
         "hoverinfo": "text",
         "marker": {
          "color": "rgb(0,116,217)"
         },
         "mode": "lines",
         "type": "scatter",
         "x": [
          1.6988953348826161,
          1.8712604811922786,
          1.8712604811922786,
          1.675816590916901
         ],
         "xaxis": "x",
         "y": [
          -303.515625,
          -303.515625,
          -471.71875,
          -471.71875
         ],
         "yaxis": "y"
        },
        {
         "hoverinfo": "text",
         "marker": {
          "color": "rgb(0,116,217)"
         },
         "mode": "lines",
         "type": "scatter",
         "x": [
          0,
          1.1243139867275527,
          1.1243139867275527,
          0
         ],
         "xaxis": "x",
         "y": [
          -555,
          -555,
          -565,
          -565
         ],
         "yaxis": "y"
        },
        {
         "hoverinfo": "text",
         "marker": {
          "color": "rgb(0,116,217)"
         },
         "mode": "lines",
         "type": "scatter",
         "x": [
          1.1243139867275527,
          1.3281617742845353,
          1.3281617742845353,
          0
         ],
         "xaxis": "x",
         "y": [
          -560,
          -560,
          -575,
          -575
         ],
         "yaxis": "y"
        },
        {
         "hoverinfo": "text",
         "marker": {
          "color": "rgb(0,116,217)"
         },
         "mode": "lines",
         "type": "scatter",
         "x": [
          0,
          1.2838809369726616,
          1.2838809369726616,
          0
         ],
         "xaxis": "x",
         "y": [
          -605,
          -605,
          -615,
          -615
         ],
         "yaxis": "y"
        },
        {
         "hoverinfo": "text",
         "marker": {
          "color": "rgb(0,116,217)"
         },
         "mode": "lines",
         "type": "scatter",
         "x": [
          0,
          1.3205249375003936,
          1.3205249375003936,
          1.2838809369726616
         ],
         "xaxis": "x",
         "y": [
          -595,
          -595,
          -610,
          -610
         ],
         "yaxis": "y"
        },
        {
         "hoverinfo": "text",
         "marker": {
          "color": "rgb(0,116,217)"
         },
         "mode": "lines",
         "type": "scatter",
         "x": [
          0,
          1.3589488322338454,
          1.3589488322338454,
          1.3205249375003936
         ],
         "xaxis": "x",
         "y": [
          -585,
          -585,
          -602.5,
          -602.5
         ],
         "yaxis": "y"
        },
        {
         "hoverinfo": "text",
         "marker": {
          "color": "rgb(0,116,217)"
         },
         "mode": "lines",
         "type": "scatter",
         "x": [
          0,
          1.3568689144638089,
          1.3568689144638089,
          0
         ],
         "xaxis": "x",
         "y": [
          -635,
          -635,
          -645,
          -645
         ],
         "yaxis": "y"
        },
        {
         "hoverinfo": "text",
         "marker": {
          "color": "rgb(0,116,217)"
         },
         "mode": "lines",
         "type": "scatter",
         "x": [
          0,
          1.3787654426168738,
          1.3787654426168738,
          1.3568689144638089
         ],
         "xaxis": "x",
         "y": [
          -625,
          -625,
          -640,
          -640
         ],
         "yaxis": "y"
        },
        {
         "hoverinfo": "text",
         "marker": {
          "color": "rgb(0,116,217)"
         },
         "mode": "lines",
         "type": "scatter",
         "x": [
          0,
          1.2649853073019313,
          1.2649853073019313,
          0
         ],
         "xaxis": "x",
         "y": [
          -655,
          -655,
          -665,
          -665
         ],
         "yaxis": "y"
        },
        {
         "hoverinfo": "text",
         "marker": {
          "color": "rgb(0,116,217)"
         },
         "mode": "lines",
         "type": "scatter",
         "x": [
          1.3787654426168738,
          1.4120025677355659,
          1.4120025677355659,
          1.2649853073019313
         ],
         "xaxis": "x",
         "y": [
          -632.5,
          -632.5,
          -660,
          -660
         ],
         "yaxis": "y"
        },
        {
         "hoverinfo": "text",
         "marker": {
          "color": "rgb(0,116,217)"
         },
         "mode": "lines",
         "type": "scatter",
         "x": [
          0,
          1.3680116045434185,
          1.3680116045434185,
          0
         ],
         "xaxis": "x",
         "y": [
          -685,
          -685,
          -695,
          -695
         ],
         "yaxis": "y"
        },
        {
         "hoverinfo": "text",
         "marker": {
          "color": "rgb(0,116,217)"
         },
         "mode": "lines",
         "type": "scatter",
         "x": [
          0,
          1.3838339866368357,
          1.3838339866368357,
          1.3680116045434185
         ],
         "xaxis": "x",
         "y": [
          -675,
          -675,
          -690,
          -690
         ],
         "yaxis": "y"
        },
        {
         "hoverinfo": "text",
         "marker": {
          "color": "rgb(0,116,217)"
         },
         "mode": "lines",
         "type": "scatter",
         "x": [
          1.3838339866368357,
          1.4002583879559223,
          1.4002583879559223,
          0
         ],
         "xaxis": "x",
         "y": [
          -682.5,
          -682.5,
          -705,
          -705
         ],
         "yaxis": "y"
        },
        {
         "hoverinfo": "text",
         "marker": {
          "color": "rgb(0,116,217)"
         },
         "mode": "lines",
         "type": "scatter",
         "x": [
          1.4120025677355659,
          1.4485170285211584,
          1.4485170285211584,
          1.4002583879559223
         ],
         "xaxis": "x",
         "y": [
          -646.25,
          -646.25,
          -693.75,
          -693.75
         ],
         "yaxis": "y"
        },
        {
         "hoverinfo": "text",
         "marker": {
          "color": "rgb(0,116,217)"
         },
         "mode": "lines",
         "type": "scatter",
         "x": [
          1.3589488322338454,
          1.509252726987491,
          1.509252726987491,
          1.4485170285211584
         ],
         "xaxis": "x",
         "y": [
          -593.75,
          -593.75,
          -670,
          -670
         ],
         "yaxis": "y"
        },
        {
         "hoverinfo": "text",
         "marker": {
          "color": "rgb(0,116,217)"
         },
         "mode": "lines",
         "type": "scatter",
         "x": [
          1.3281617742845353,
          1.5849345341409007,
          1.5849345341409007,
          1.509252726987491
         ],
         "xaxis": "x",
         "y": [
          -567.5,
          -567.5,
          -631.875,
          -631.875
         ],
         "yaxis": "y"
        },
        {
         "hoverinfo": "text",
         "marker": {
          "color": "rgb(0,116,217)"
         },
         "mode": "lines",
         "type": "scatter",
         "x": [
          0,
          1.2858019991129561,
          1.2858019991129561,
          0
         ],
         "xaxis": "x",
         "y": [
          -735,
          -735,
          -745,
          -745
         ],
         "yaxis": "y"
        },
        {
         "hoverinfo": "text",
         "marker": {
          "color": "rgb(0,116,217)"
         },
         "mode": "lines",
         "type": "scatter",
         "x": [
          0,
          1.3047743927230047,
          1.3047743927230047,
          1.2858019991129561
         ],
         "xaxis": "x",
         "y": [
          -725,
          -725,
          -740,
          -740
         ],
         "yaxis": "y"
        },
        {
         "hoverinfo": "text",
         "marker": {
          "color": "rgb(0,116,217)"
         },
         "mode": "lines",
         "type": "scatter",
         "x": [
          0,
          1.37347298532823,
          1.37347298532823,
          1.3047743927230047
         ],
         "xaxis": "x",
         "y": [
          -715,
          -715,
          -732.5,
          -732.5
         ],
         "yaxis": "y"
        },
        {
         "hoverinfo": "text",
         "marker": {
          "color": "rgb(0,116,217)"
         },
         "mode": "lines",
         "type": "scatter",
         "x": [
          0,
          1.234737909971798,
          1.234737909971798,
          0
         ],
         "xaxis": "x",
         "y": [
          -755,
          -755,
          -765,
          -765
         ],
         "yaxis": "y"
        },
        {
         "hoverinfo": "text",
         "marker": {
          "color": "rgb(0,116,217)"
         },
         "mode": "lines",
         "type": "scatter",
         "x": [
          1.234737909971798,
          1.2771594876163679,
          1.2771594876163679,
          0
         ],
         "xaxis": "x",
         "y": [
          -760,
          -760,
          -775,
          -775
         ],
         "yaxis": "y"
        },
        {
         "hoverinfo": "text",
         "marker": {
          "color": "rgb(0,116,217)"
         },
         "mode": "lines",
         "type": "scatter",
         "x": [
          1.37347298532823,
          1.4498111045158506,
          1.4498111045158506,
          1.2771594876163679
         ],
         "xaxis": "x",
         "y": [
          -723.75,
          -723.75,
          -767.5,
          -767.5
         ],
         "yaxis": "y"
        },
        {
         "hoverinfo": "text",
         "marker": {
          "color": "rgb(0,116,217)"
         },
         "mode": "lines",
         "type": "scatter",
         "x": [
          1.5849345341409007,
          1.796946318724328,
          1.796946318724328,
          1.4498111045158506
         ],
         "xaxis": "x",
         "y": [
          -599.6875,
          -599.6875,
          -745.625,
          -745.625
         ],
         "yaxis": "y"
        },
        {
         "hoverinfo": "text",
         "marker": {
          "color": "rgb(0,116,217)"
         },
         "mode": "lines",
         "type": "scatter",
         "x": [
          0,
          1.353378277842559,
          1.353378277842559,
          0
         ],
         "xaxis": "x",
         "y": [
          -795,
          -795,
          -805,
          -805
         ],
         "yaxis": "y"
        },
        {
         "hoverinfo": "text",
         "marker": {
          "color": "rgb(0,116,217)"
         },
         "mode": "lines",
         "type": "scatter",
         "x": [
          0,
          1.3821447699047262,
          1.3821447699047262,
          1.353378277842559
         ],
         "xaxis": "x",
         "y": [
          -785,
          -785,
          -800,
          -800
         ],
         "yaxis": "y"
        },
        {
         "hoverinfo": "text",
         "marker": {
          "color": "rgb(0,116,217)"
         },
         "mode": "lines",
         "type": "scatter",
         "x": [
          1.3821447699047262,
          1.3969103260958702,
          1.3969103260958702,
          0
         ],
         "xaxis": "x",
         "y": [
          -792.5,
          -792.5,
          -815,
          -815
         ],
         "yaxis": "y"
        },
        {
         "hoverinfo": "text",
         "marker": {
          "color": "rgb(0,116,217)"
         },
         "mode": "lines",
         "type": "scatter",
         "x": [
          0,
          1.3131192843853223,
          1.3131192843853223,
          0
         ],
         "xaxis": "x",
         "y": [
          -825,
          -825,
          -835,
          -835
         ],
         "yaxis": "y"
        },
        {
         "hoverinfo": "text",
         "marker": {
          "color": "rgb(0,116,217)"
         },
         "mode": "lines",
         "type": "scatter",
         "x": [
          1.3131192843853223,
          1.4047352287062926,
          1.4047352287062926,
          0
         ],
         "xaxis": "x",
         "y": [
          -830,
          -830,
          -845,
          -845
         ],
         "yaxis": "y"
        },
        {
         "hoverinfo": "text",
         "marker": {
          "color": "rgb(0,116,217)"
         },
         "mode": "lines",
         "type": "scatter",
         "x": [
          1.3969103260958702,
          1.427850205227854,
          1.427850205227854,
          1.4047352287062926
         ],
         "xaxis": "x",
         "y": [
          -803.75,
          -803.75,
          -837.5,
          -837.5
         ],
         "yaxis": "y"
        },
        {
         "hoverinfo": "text",
         "marker": {
          "color": "rgb(0,116,217)"
         },
         "mode": "lines",
         "type": "scatter",
         "x": [
          0,
          1.3486055470769183,
          1.3486055470769183,
          0
         ],
         "xaxis": "x",
         "y": [
          -855,
          -855,
          -865,
          -865
         ],
         "yaxis": "y"
        },
        {
         "hoverinfo": "text",
         "marker": {
          "color": "rgb(0,116,217)"
         },
         "mode": "lines",
         "type": "scatter",
         "x": [
          1.3486055470769183,
          1.3828966192665821,
          1.3828966192665821,
          0
         ],
         "xaxis": "x",
         "y": [
          -860,
          -860,
          -875,
          -875
         ],
         "yaxis": "y"
        },
        {
         "hoverinfo": "text",
         "marker": {
          "color": "rgb(0,116,217)"
         },
         "mode": "lines",
         "type": "scatter",
         "x": [
          0,
          1.3412096932232096,
          1.3412096932232096,
          0
         ],
         "xaxis": "x",
         "y": [
          -885,
          -885,
          -895,
          -895
         ],
         "yaxis": "y"
        },
        {
         "hoverinfo": "text",
         "marker": {
          "color": "rgb(0,116,217)"
         },
         "mode": "lines",
         "type": "scatter",
         "x": [
          0,
          1.3574345696261498,
          1.3574345696261498,
          0
         ],
         "xaxis": "x",
         "y": [
          -905,
          -905,
          -915,
          -915
         ],
         "yaxis": "y"
        },
        {
         "hoverinfo": "text",
         "marker": {
          "color": "rgb(0,116,217)"
         },
         "mode": "lines",
         "type": "scatter",
         "x": [
          1.3412096932232096,
          1.3936595981370186,
          1.3936595981370186,
          1.3574345696261498
         ],
         "xaxis": "x",
         "y": [
          -890,
          -890,
          -910,
          -910
         ],
         "yaxis": "y"
        },
        {
         "hoverinfo": "text",
         "marker": {
          "color": "rgb(0,116,217)"
         },
         "mode": "lines",
         "type": "scatter",
         "x": [
          1.3828966192665821,
          1.3993343240492575,
          1.3993343240492575,
          1.3936595981370186
         ],
         "xaxis": "x",
         "y": [
          -867.5,
          -867.5,
          -900,
          -900
         ],
         "yaxis": "y"
        },
        {
         "hoverinfo": "text",
         "marker": {
          "color": "rgb(0,116,217)"
         },
         "mode": "lines",
         "type": "scatter",
         "x": [
          1.427850205227854,
          1.4804342152754308,
          1.4804342152754308,
          1.3993343240492575
         ],
         "xaxis": "x",
         "y": [
          -820.625,
          -820.625,
          -883.75,
          -883.75
         ],
         "yaxis": "y"
        },
        {
         "hoverinfo": "text",
         "marker": {
          "color": "rgb(0,116,217)"
         },
         "mode": "lines",
         "type": "scatter",
         "x": [
          0,
          1.251540004615521,
          1.251540004615521,
          0
         ],
         "xaxis": "x",
         "y": [
          -935,
          -935,
          -945,
          -945
         ],
         "yaxis": "y"
        },
        {
         "hoverinfo": "text",
         "marker": {
          "color": "rgb(0,116,217)"
         },
         "mode": "lines",
         "type": "scatter",
         "x": [
          0,
          1.3455638967798478,
          1.3455638967798478,
          1.251540004615521
         ],
         "xaxis": "x",
         "y": [
          -925,
          -925,
          -940,
          -940
         ],
         "yaxis": "y"
        },
        {
         "hoverinfo": "text",
         "marker": {
          "color": "rgb(0,116,217)"
         },
         "mode": "lines",
         "type": "scatter",
         "x": [
          0,
          1.3558610836718354,
          1.3558610836718354,
          0
         ],
         "xaxis": "x",
         "y": [
          -965,
          -965,
          -975,
          -975
         ],
         "yaxis": "y"
        },
        {
         "hoverinfo": "text",
         "marker": {
          "color": "rgb(0,116,217)"
         },
         "mode": "lines",
         "type": "scatter",
         "x": [
          0,
          1.3683448791797186,
          1.3683448791797186,
          0
         ],
         "xaxis": "x",
         "y": [
          -985,
          -985,
          -995,
          -995
         ],
         "yaxis": "y"
        },
        {
         "hoverinfo": "text",
         "marker": {
          "color": "rgb(0,116,217)"
         },
         "mode": "lines",
         "type": "scatter",
         "x": [
          1.3558610836718354,
          1.3852607317732863,
          1.3852607317732863,
          1.3683448791797186
         ],
         "xaxis": "x",
         "y": [
          -970,
          -970,
          -990,
          -990
         ],
         "yaxis": "y"
        },
        {
         "hoverinfo": "text",
         "marker": {
          "color": "rgb(0,116,217)"
         },
         "mode": "lines",
         "type": "scatter",
         "x": [
          0,
          1.390894602028973,
          1.390894602028973,
          1.3852607317732863
         ],
         "xaxis": "x",
         "y": [
          -955,
          -955,
          -980,
          -980
         ],
         "yaxis": "y"
        },
        {
         "hoverinfo": "text",
         "marker": {
          "color": "rgb(0,116,217)"
         },
         "mode": "lines",
         "type": "scatter",
         "x": [
          0,
          1.3756814114602332,
          1.3756814114602332,
          0
         ],
         "xaxis": "x",
         "y": [
          -1015,
          -1015,
          -1025,
          -1025
         ],
         "yaxis": "y"
        },
        {
         "hoverinfo": "text",
         "marker": {
          "color": "rgb(0,116,217)"
         },
         "mode": "lines",
         "type": "scatter",
         "x": [
          0,
          1.3918663734777161,
          1.3918663734777161,
          1.3756814114602332
         ],
         "xaxis": "x",
         "y": [
          -1005,
          -1005,
          -1020,
          -1020
         ],
         "yaxis": "y"
        },
        {
         "hoverinfo": "text",
         "marker": {
          "color": "rgb(0,116,217)"
         },
         "mode": "lines",
         "type": "scatter",
         "x": [
          0,
          1.3792344714467013,
          1.3792344714467013,
          0
         ],
         "xaxis": "x",
         "y": [
          -1035,
          -1035,
          -1045,
          -1045
         ],
         "yaxis": "y"
        },
        {
         "hoverinfo": "text",
         "marker": {
          "color": "rgb(0,116,217)"
         },
         "mode": "lines",
         "type": "scatter",
         "x": [
          1.3792344714467013,
          1.392921555137087,
          1.392921555137087,
          0
         ],
         "xaxis": "x",
         "y": [
          -1040,
          -1040,
          -1055,
          -1055
         ],
         "yaxis": "y"
        },
        {
         "hoverinfo": "text",
         "marker": {
          "color": "rgb(0,116,217)"
         },
         "mode": "lines",
         "type": "scatter",
         "x": [
          1.3918663734777161,
          1.408630160001269,
          1.408630160001269,
          1.392921555137087
         ],
         "xaxis": "x",
         "y": [
          -1012.5,
          -1012.5,
          -1047.5,
          -1047.5
         ],
         "yaxis": "y"
        },
        {
         "hoverinfo": "text",
         "marker": {
          "color": "rgb(0,116,217)"
         },
         "mode": "lines",
         "type": "scatter",
         "x": [
          0,
          1.3880546147552373,
          1.3880546147552373,
          0
         ],
         "xaxis": "x",
         "y": [
          -1075,
          -1075,
          -1085,
          -1085
         ],
         "yaxis": "y"
        },
        {
         "hoverinfo": "text",
         "marker": {
          "color": "rgb(0,116,217)"
         },
         "mode": "lines",
         "type": "scatter",
         "x": [
          1.3880546147552373,
          1.4127997668932637,
          1.4127997668932637,
          0
         ],
         "xaxis": "x",
         "y": [
          -1080,
          -1080,
          -1095,
          -1095
         ],
         "yaxis": "y"
        },
        {
         "hoverinfo": "text",
         "marker": {
          "color": "rgb(0,116,217)"
         },
         "mode": "lines",
         "type": "scatter",
         "x": [
          0,
          1.4162924348336858,
          1.4162924348336858,
          1.4127997668932637
         ],
         "xaxis": "x",
         "y": [
          -1065,
          -1065,
          -1087.5,
          -1087.5
         ],
         "yaxis": "y"
        },
        {
         "hoverinfo": "text",
         "marker": {
          "color": "rgb(0,116,217)"
         },
         "mode": "lines",
         "type": "scatter",
         "x": [
          1.408630160001269,
          1.4274443157589625,
          1.4274443157589625,
          1.4162924348336858
         ],
         "xaxis": "x",
         "y": [
          -1030,
          -1030,
          -1076.25,
          -1076.25
         ],
         "yaxis": "y"
        },
        {
         "hoverinfo": "text",
         "marker": {
          "color": "rgb(0,116,217)"
         },
         "mode": "lines",
         "type": "scatter",
         "x": [
          1.390894602028973,
          1.4787452041264428,
          1.4787452041264428,
          1.4274443157589625
         ],
         "xaxis": "x",
         "y": [
          -967.5,
          -967.5,
          -1053.125,
          -1053.125
         ],
         "yaxis": "y"
        },
        {
         "hoverinfo": "text",
         "marker": {
          "color": "rgb(0,116,217)"
         },
         "mode": "lines",
         "type": "scatter",
         "x": [
          1.3455638967798478,
          1.4998782802904145,
          1.4998782802904145,
          1.4787452041264428
         ],
         "xaxis": "x",
         "y": [
          -932.5,
          -932.5,
          -1010.3125,
          -1010.3125
         ],
         "yaxis": "y"
        },
        {
         "hoverinfo": "text",
         "marker": {
          "color": "rgb(0,116,217)"
         },
         "mode": "lines",
         "type": "scatter",
         "x": [
          0,
          1.3549569208165393,
          1.3549569208165393,
          0
         ],
         "xaxis": "x",
         "y": [
          -1115,
          -1115,
          -1125,
          -1125
         ],
         "yaxis": "y"
        },
        {
         "hoverinfo": "text",
         "marker": {
          "color": "rgb(0,116,217)"
         },
         "mode": "lines",
         "type": "scatter",
         "x": [
          0,
          1.397722582835658,
          1.397722582835658,
          1.3549569208165393
         ],
         "xaxis": "x",
         "y": [
          -1105,
          -1105,
          -1120,
          -1120
         ],
         "yaxis": "y"
        },
        {
         "hoverinfo": "text",
         "marker": {
          "color": "rgb(0,116,217)"
         },
         "mode": "lines",
         "type": "scatter",
         "x": [
          0,
          1.3792276579653366,
          1.3792276579653366,
          0
         ],
         "xaxis": "x",
         "y": [
          -1135,
          -1135,
          -1145,
          -1145
         ],
         "yaxis": "y"
        },
        {
         "hoverinfo": "text",
         "marker": {
          "color": "rgb(0,116,217)"
         },
         "mode": "lines",
         "type": "scatter",
         "x": [
          1.3792276579653366,
          1.4353105302179083,
          1.4353105302179083,
          0
         ],
         "xaxis": "x",
         "y": [
          -1140,
          -1140,
          -1155,
          -1155
         ],
         "yaxis": "y"
        },
        {
         "hoverinfo": "text",
         "marker": {
          "color": "rgb(0,116,217)"
         },
         "mode": "lines",
         "type": "scatter",
         "x": [
          1.397722582835658,
          1.45705414961128,
          1.45705414961128,
          1.4353105302179083
         ],
         "xaxis": "x",
         "y": [
          -1112.5,
          -1112.5,
          -1147.5,
          -1147.5
         ],
         "yaxis": "y"
        },
        {
         "hoverinfo": "text",
         "marker": {
          "color": "rgb(0,116,217)"
         },
         "mode": "lines",
         "type": "scatter",
         "x": [
          1.4998782802904145,
          1.5539835402851434,
          1.5539835402851434,
          1.45705414961128
         ],
         "xaxis": "x",
         "y": [
          -971.40625,
          -971.40625,
          -1130,
          -1130
         ],
         "yaxis": "y"
        },
        {
         "hoverinfo": "text",
         "marker": {
          "color": "rgb(0,116,217)"
         },
         "mode": "lines",
         "type": "scatter",
         "x": [
          1.4804342152754308,
          1.6029159200599552,
          1.6029159200599552,
          1.5539835402851434
         ],
         "xaxis": "x",
         "y": [
          -852.1875,
          -852.1875,
          -1050.703125,
          -1050.703125
         ],
         "yaxis": "y"
        },
        {
         "hoverinfo": "text",
         "marker": {
          "color": "rgb(0,116,217)"
         },
         "mode": "lines",
         "type": "scatter",
         "x": [
          1.796946318724328,
          1.9278243860164186,
          1.9278243860164186,
          1.6029159200599552
         ],
         "xaxis": "x",
         "y": [
          -672.65625,
          -672.65625,
          -951.4453125,
          -951.4453125
         ],
         "yaxis": "y"
        },
        {
         "hoverinfo": "text",
         "marker": {
          "color": "rgb(0,116,217)"
         },
         "mode": "lines",
         "type": "scatter",
         "x": [
          1.8712604811922786,
          2.4454320134506906,
          2.4454320134506906,
          1.9278243860164186
         ],
         "xaxis": "x",
         "y": [
          -387.6171875,
          -387.6171875,
          -812.05078125,
          -812.05078125
         ],
         "yaxis": "y"
        },
        {
         "hoverinfo": "text",
         "marker": {
          "color": "rgb(0,116,217)"
         },
         "mode": "lines",
         "type": "scatter",
         "x": [
          2.0583576743446566,
          3.300673199079013,
          3.300673199079013,
          2.4454320134506906
         ],
         "xaxis": "x",
         "y": [
          -92.8125,
          -92.8125,
          -599.833984375,
          -599.833984375
         ],
         "yaxis": "y"
        }
       ],
       "layout": {
        "autosize": false,
        "height": 1940,
        "hoverlabel": {
         "bgcolor": "white",
         "font": {
          "family": "Rockwell",
          "size": 16
         }
        },
        "hovermode": "closest",
        "plot_bgcolor": "#ECEFF1",
        "showlegend": false,
        "template": {
         "data": {
          "bar": [
           {
            "error_x": {
             "color": "#2a3f5f"
            },
            "error_y": {
             "color": "#2a3f5f"
            },
            "marker": {
             "line": {
              "color": "white",
              "width": 0.5
             },
             "pattern": {
              "fillmode": "overlay",
              "size": 10,
              "solidity": 0.2
             }
            },
            "type": "bar"
           }
          ],
          "barpolar": [
           {
            "marker": {
             "line": {
              "color": "white",
              "width": 0.5
             },
             "pattern": {
              "fillmode": "overlay",
              "size": 10,
              "solidity": 0.2
             }
            },
            "type": "barpolar"
           }
          ],
          "carpet": [
           {
            "aaxis": {
             "endlinecolor": "#2a3f5f",
             "gridcolor": "#C8D4E3",
             "linecolor": "#C8D4E3",
             "minorgridcolor": "#C8D4E3",
             "startlinecolor": "#2a3f5f"
            },
            "baxis": {
             "endlinecolor": "#2a3f5f",
             "gridcolor": "#C8D4E3",
             "linecolor": "#C8D4E3",
             "minorgridcolor": "#C8D4E3",
             "startlinecolor": "#2a3f5f"
            },
            "type": "carpet"
           }
          ],
          "choropleth": [
           {
            "colorbar": {
             "outlinewidth": 0,
             "ticks": ""
            },
            "type": "choropleth"
           }
          ],
          "contour": [
           {
            "colorbar": {
             "outlinewidth": 0,
             "ticks": ""
            },
            "colorscale": [
             [
              0,
              "#0d0887"
             ],
             [
              0.1111111111111111,
              "#46039f"
             ],
             [
              0.2222222222222222,
              "#7201a8"
             ],
             [
              0.3333333333333333,
              "#9c179e"
             ],
             [
              0.4444444444444444,
              "#bd3786"
             ],
             [
              0.5555555555555556,
              "#d8576b"
             ],
             [
              0.6666666666666666,
              "#ed7953"
             ],
             [
              0.7777777777777778,
              "#fb9f3a"
             ],
             [
              0.8888888888888888,
              "#fdca26"
             ],
             [
              1,
              "#f0f921"
             ]
            ],
            "type": "contour"
           }
          ],
          "contourcarpet": [
           {
            "colorbar": {
             "outlinewidth": 0,
             "ticks": ""
            },
            "type": "contourcarpet"
           }
          ],
          "heatmap": [
           {
            "colorbar": {
             "outlinewidth": 0,
             "ticks": ""
            },
            "colorscale": [
             [
              0,
              "#0d0887"
             ],
             [
              0.1111111111111111,
              "#46039f"
             ],
             [
              0.2222222222222222,
              "#7201a8"
             ],
             [
              0.3333333333333333,
              "#9c179e"
             ],
             [
              0.4444444444444444,
              "#bd3786"
             ],
             [
              0.5555555555555556,
              "#d8576b"
             ],
             [
              0.6666666666666666,
              "#ed7953"
             ],
             [
              0.7777777777777778,
              "#fb9f3a"
             ],
             [
              0.8888888888888888,
              "#fdca26"
             ],
             [
              1,
              "#f0f921"
             ]
            ],
            "type": "heatmap"
           }
          ],
          "heatmapgl": [
           {
            "colorbar": {
             "outlinewidth": 0,
             "ticks": ""
            },
            "colorscale": [
             [
              0,
              "#0d0887"
             ],
             [
              0.1111111111111111,
              "#46039f"
             ],
             [
              0.2222222222222222,
              "#7201a8"
             ],
             [
              0.3333333333333333,
              "#9c179e"
             ],
             [
              0.4444444444444444,
              "#bd3786"
             ],
             [
              0.5555555555555556,
              "#d8576b"
             ],
             [
              0.6666666666666666,
              "#ed7953"
             ],
             [
              0.7777777777777778,
              "#fb9f3a"
             ],
             [
              0.8888888888888888,
              "#fdca26"
             ],
             [
              1,
              "#f0f921"
             ]
            ],
            "type": "heatmapgl"
           }
          ],
          "histogram": [
           {
            "marker": {
             "pattern": {
              "fillmode": "overlay",
              "size": 10,
              "solidity": 0.2
             }
            },
            "type": "histogram"
           }
          ],
          "histogram2d": [
           {
            "colorbar": {
             "outlinewidth": 0,
             "ticks": ""
            },
            "colorscale": [
             [
              0,
              "#0d0887"
             ],
             [
              0.1111111111111111,
              "#46039f"
             ],
             [
              0.2222222222222222,
              "#7201a8"
             ],
             [
              0.3333333333333333,
              "#9c179e"
             ],
             [
              0.4444444444444444,
              "#bd3786"
             ],
             [
              0.5555555555555556,
              "#d8576b"
             ],
             [
              0.6666666666666666,
              "#ed7953"
             ],
             [
              0.7777777777777778,
              "#fb9f3a"
             ],
             [
              0.8888888888888888,
              "#fdca26"
             ],
             [
              1,
              "#f0f921"
             ]
            ],
            "type": "histogram2d"
           }
          ],
          "histogram2dcontour": [
           {
            "colorbar": {
             "outlinewidth": 0,
             "ticks": ""
            },
            "colorscale": [
             [
              0,
              "#0d0887"
             ],
             [
              0.1111111111111111,
              "#46039f"
             ],
             [
              0.2222222222222222,
              "#7201a8"
             ],
             [
              0.3333333333333333,
              "#9c179e"
             ],
             [
              0.4444444444444444,
              "#bd3786"
             ],
             [
              0.5555555555555556,
              "#d8576b"
             ],
             [
              0.6666666666666666,
              "#ed7953"
             ],
             [
              0.7777777777777778,
              "#fb9f3a"
             ],
             [
              0.8888888888888888,
              "#fdca26"
             ],
             [
              1,
              "#f0f921"
             ]
            ],
            "type": "histogram2dcontour"
           }
          ],
          "mesh3d": [
           {
            "colorbar": {
             "outlinewidth": 0,
             "ticks": ""
            },
            "type": "mesh3d"
           }
          ],
          "parcoords": [
           {
            "line": {
             "colorbar": {
              "outlinewidth": 0,
              "ticks": ""
             }
            },
            "type": "parcoords"
           }
          ],
          "pie": [
           {
            "automargin": true,
            "type": "pie"
           }
          ],
          "scatter": [
           {
            "fillpattern": {
             "fillmode": "overlay",
             "size": 10,
             "solidity": 0.2
            },
            "type": "scatter"
           }
          ],
          "scatter3d": [
           {
            "line": {
             "colorbar": {
              "outlinewidth": 0,
              "ticks": ""
             }
            },
            "marker": {
             "colorbar": {
              "outlinewidth": 0,
              "ticks": ""
             }
            },
            "type": "scatter3d"
           }
          ],
          "scattercarpet": [
           {
            "marker": {
             "colorbar": {
              "outlinewidth": 0,
              "ticks": ""
             }
            },
            "type": "scattercarpet"
           }
          ],
          "scattergeo": [
           {
            "marker": {
             "colorbar": {
              "outlinewidth": 0,
              "ticks": ""
             }
            },
            "type": "scattergeo"
           }
          ],
          "scattergl": [
           {
            "marker": {
             "colorbar": {
              "outlinewidth": 0,
              "ticks": ""
             }
            },
            "type": "scattergl"
           }
          ],
          "scattermapbox": [
           {
            "marker": {
             "colorbar": {
              "outlinewidth": 0,
              "ticks": ""
             }
            },
            "type": "scattermapbox"
           }
          ],
          "scatterpolar": [
           {
            "marker": {
             "colorbar": {
              "outlinewidth": 0,
              "ticks": ""
             }
            },
            "type": "scatterpolar"
           }
          ],
          "scatterpolargl": [
           {
            "marker": {
             "colorbar": {
              "outlinewidth": 0,
              "ticks": ""
             }
            },
            "type": "scatterpolargl"
           }
          ],
          "scatterternary": [
           {
            "marker": {
             "colorbar": {
              "outlinewidth": 0,
              "ticks": ""
             }
            },
            "type": "scatterternary"
           }
          ],
          "surface": [
           {
            "colorbar": {
             "outlinewidth": 0,
             "ticks": ""
            },
            "colorscale": [
             [
              0,
              "#0d0887"
             ],
             [
              0.1111111111111111,
              "#46039f"
             ],
             [
              0.2222222222222222,
              "#7201a8"
             ],
             [
              0.3333333333333333,
              "#9c179e"
             ],
             [
              0.4444444444444444,
              "#bd3786"
             ],
             [
              0.5555555555555556,
              "#d8576b"
             ],
             [
              0.6666666666666666,
              "#ed7953"
             ],
             [
              0.7777777777777778,
              "#fb9f3a"
             ],
             [
              0.8888888888888888,
              "#fdca26"
             ],
             [
              1,
              "#f0f921"
             ]
            ],
            "type": "surface"
           }
          ],
          "table": [
           {
            "cells": {
             "fill": {
              "color": "#EBF0F8"
             },
             "line": {
              "color": "white"
             }
            },
            "header": {
             "fill": {
              "color": "#C8D4E3"
             },
             "line": {
              "color": "white"
             }
            },
            "type": "table"
           }
          ]
         },
         "layout": {
          "annotationdefaults": {
           "arrowcolor": "#2a3f5f",
           "arrowhead": 0,
           "arrowwidth": 1
          },
          "autotypenumbers": "strict",
          "coloraxis": {
           "colorbar": {
            "outlinewidth": 0,
            "ticks": ""
           }
          },
          "colorscale": {
           "diverging": [
            [
             0,
             "#8e0152"
            ],
            [
             0.1,
             "#c51b7d"
            ],
            [
             0.2,
             "#de77ae"
            ],
            [
             0.3,
             "#f1b6da"
            ],
            [
             0.4,
             "#fde0ef"
            ],
            [
             0.5,
             "#f7f7f7"
            ],
            [
             0.6,
             "#e6f5d0"
            ],
            [
             0.7,
             "#b8e186"
            ],
            [
             0.8,
             "#7fbc41"
            ],
            [
             0.9,
             "#4d9221"
            ],
            [
             1,
             "#276419"
            ]
           ],
           "sequential": [
            [
             0,
             "#0d0887"
            ],
            [
             0.1111111111111111,
             "#46039f"
            ],
            [
             0.2222222222222222,
             "#7201a8"
            ],
            [
             0.3333333333333333,
             "#9c179e"
            ],
            [
             0.4444444444444444,
             "#bd3786"
            ],
            [
             0.5555555555555556,
             "#d8576b"
            ],
            [
             0.6666666666666666,
             "#ed7953"
            ],
            [
             0.7777777777777778,
             "#fb9f3a"
            ],
            [
             0.8888888888888888,
             "#fdca26"
            ],
            [
             1,
             "#f0f921"
            ]
           ],
           "sequentialminus": [
            [
             0,
             "#0d0887"
            ],
            [
             0.1111111111111111,
             "#46039f"
            ],
            [
             0.2222222222222222,
             "#7201a8"
            ],
            [
             0.3333333333333333,
             "#9c179e"
            ],
            [
             0.4444444444444444,
             "#bd3786"
            ],
            [
             0.5555555555555556,
             "#d8576b"
            ],
            [
             0.6666666666666666,
             "#ed7953"
            ],
            [
             0.7777777777777778,
             "#fb9f3a"
            ],
            [
             0.8888888888888888,
             "#fdca26"
            ],
            [
             1,
             "#f0f921"
            ]
           ]
          },
          "colorway": [
           "#636efa",
           "#EF553B",
           "#00cc96",
           "#ab63fa",
           "#FFA15A",
           "#19d3f3",
           "#FF6692",
           "#B6E880",
           "#FF97FF",
           "#FECB52"
          ],
          "font": {
           "color": "#2a3f5f"
          },
          "geo": {
           "bgcolor": "white",
           "lakecolor": "white",
           "landcolor": "white",
           "showlakes": true,
           "showland": true,
           "subunitcolor": "#C8D4E3"
          },
          "hoverlabel": {
           "align": "left"
          },
          "hovermode": "closest",
          "mapbox": {
           "style": "light"
          },
          "paper_bgcolor": "white",
          "plot_bgcolor": "white",
          "polar": {
           "angularaxis": {
            "gridcolor": "#EBF0F8",
            "linecolor": "#EBF0F8",
            "ticks": ""
           },
           "bgcolor": "white",
           "radialaxis": {
            "gridcolor": "#EBF0F8",
            "linecolor": "#EBF0F8",
            "ticks": ""
           }
          },
          "scene": {
           "xaxis": {
            "backgroundcolor": "white",
            "gridcolor": "#DFE8F3",
            "gridwidth": 2,
            "linecolor": "#EBF0F8",
            "showbackground": true,
            "ticks": "",
            "zerolinecolor": "#EBF0F8"
           },
           "yaxis": {
            "backgroundcolor": "white",
            "gridcolor": "#DFE8F3",
            "gridwidth": 2,
            "linecolor": "#EBF0F8",
            "showbackground": true,
            "ticks": "",
            "zerolinecolor": "#EBF0F8"
           },
           "zaxis": {
            "backgroundcolor": "white",
            "gridcolor": "#DFE8F3",
            "gridwidth": 2,
            "linecolor": "#EBF0F8",
            "showbackground": true,
            "ticks": "",
            "zerolinecolor": "#EBF0F8"
           }
          },
          "shapedefaults": {
           "line": {
            "color": "#2a3f5f"
           }
          },
          "ternary": {
           "aaxis": {
            "gridcolor": "#DFE8F3",
            "linecolor": "#A2B1C6",
            "ticks": ""
           },
           "baxis": {
            "gridcolor": "#DFE8F3",
            "linecolor": "#A2B1C6",
            "ticks": ""
           },
           "bgcolor": "white",
           "caxis": {
            "gridcolor": "#DFE8F3",
            "linecolor": "#A2B1C6",
            "ticks": ""
           }
          },
          "title": {
           "x": 0.05
          },
          "xaxis": {
           "automargin": true,
           "gridcolor": "#EBF0F8",
           "linecolor": "#EBF0F8",
           "ticks": "",
           "title": {
            "standoff": 15
           },
           "zerolinecolor": "#EBF0F8",
           "zerolinewidth": 2
          },
          "yaxis": {
           "automargin": true,
           "gridcolor": "#EBF0F8",
           "linecolor": "#EBF0F8",
           "ticks": "",
           "title": {
            "standoff": 15
           },
           "zerolinecolor": "#EBF0F8",
           "zerolinewidth": 2
          }
         }
        },
        "title": {
         "font": {
          "color": "Black",
          "size": 22
         },
         "text": "<b>Hierarchical Clustering",
         "x": 0.5,
         "xanchor": "center",
         "yanchor": "top"
        },
        "width": 1000,
        "xaxis": {
         "mirror": "allticks",
         "rangemode": "tozero",
         "showgrid": false,
         "showline": true,
         "showticklabels": true,
         "ticks": "outside",
         "type": "linear",
         "zeroline": false
        },
        "yaxis": {
         "mirror": "allticks",
         "range": [
          -1160,
          0
         ],
         "rangemode": "tozero",
         "showgrid": false,
         "showline": true,
         "showticklabels": true,
         "tickmode": "array",
         "ticks": "outside",
         "ticktext": [
          "67_mary_bernadette_saint",
          "72_creed_holy spirit_pope",
          "115_baptism_salvation_holy ...",
          "105_interpretation_bible_je...",
          "61_bible_truth_lds",
          "9_bible_heaven_eternal",
          "48_existence_evolution_reli...",
          "34_fallacy_atheists_atheism",
          "33_morality_morals_objective",
          "0_games_season_det",
          "1_patients_health_cancer",
          "2_encryption_nsa_law enforc...",
          "8_guns_criminals_firearms",
          "3_fbi_agents_warrant",
          "10_armenian_armenians_turkish",
          "5_israel_israeli_palestinian",
          "21_stephanopoulos_mr stepha...",
          "71_mr stephanopoulos_stepha...",
          "41_uartcmd_serial_uart",
          "74_mouse_mouse driver_windo...",
          "103_sipps_simms_sipp",
          "99_monitor_make pc_monochro...",
          "75_macs_powerpc_based macs",
          "25_mhz_fpu_68030",
          "111_cpu fans_cpu fan_fan bl...",
          "40_games_sale_controller",
          "20_00_50_1st",
          "51_00 unix_list 20_unix",
          "53_shipping_formatted_seagate",
          "57_hard drive_floppy_software",
          "7_scsi_bios_hard disk",
          "23_mac_cd technology_applel...",
          "16_monitor_vga_trinitron",
          "78_vga_colors_mode 13h",
          "44_vlb_vram_cards",
          "60_simms_ram_ati",
          "79_column list_lobo gsfc_po...",
          "108_interviews_nextstep_too...",
          "59_shared memory_ms windows...",
          "12_widget_dpy_screen",
          "11_xterm_remote_x11r5",
          "17_jpeg_gif_format",
          "32_3d_animation_graphics",
          "47_pkzip_database_rtf files",
          "35_dos_vb_dos shell",
          "31_windows_os_wsm",
          "63_win31_excel_application ...",
          "24_battery_switch_error",
          "29_modem_fax_9600",
          "14_printer_hp_printers",
          "43_backup_copy protection_r...",
          "13_amp_stereo_frequency",
          "27_interference_antenna_sig...",
          "26_nasa_lunar_km",
          "15_space station_moon_nasa",
          "42_homosexuality_homosexual...",
          "50_homosexuality_exclusivel...",
          "68_hire_statutes_clayton",
          "90_government listening_neu...",
          "30_taxes_billion dollars_go...",
          "95_supreme court_libertaria...",
          "55_militia_amendment_bear a...",
          "94_punishment_murder_capita...",
          "62_censorship_quote context...",
          "70_atoms_observations_fractal",
          "83_rushdie_islam_qur",
          "92_muhammad saw_koran_holy ...",
          "93_profess faith_natlamp je...",
          "87_moment silence_religion_...",
          "98_slavery_mechanization co...",
          "101_pray pray_spiritually_g...",
          "89_transmissions_shift_thro...",
          "49_dogs_riding_bikers",
          "39_countersteering_turn_rid...",
          "85_nmm_red light_turn",
          "18_bmw_bikes_jeff",
          "6_cars_ford_mustang",
          "28_miles_interior_sunroof",
          "81_living room_bedroom_wash...",
          "56_cooling towers_turbine_r...",
          "46_diesel_diesels_emissions",
          "84_acetone_wax_denatured al...",
          "69_batteries_concrete_wd 40",
          "114_mileage_odometer_oxygen...",
          "100_radar_radar detector_de...",
          "73_hacker_computer science_...",
          "76_electricity_transformer_...",
          "91_equipment_low radiation_...",
          "82_leds_computer graphics_led",
          "36_polygons_spline_polyhedra",
          "86_pluto_bursts_pluto charon",
          "58_envelope_reboost_drag",
          "45_request_list_boogie ebay",
          "19_list_mailing list_edu",
          "37_edu_newsgroup_navy mil",
          "107_ocr_winfax_word processor",
          "65_network_packet_sys mac",
          "64_ncsl_nmsu edu_ftp",
          "106_midi_mpeg_play_files",
          "109_left channel_channel_ma...",
          "113_companies_columbus_addr...",
          "97_rings_dialing_phone",
          "54_mark ocsmd_joy cooking_f...",
          "96_xv_copyright_donation",
          "88_junk mail_junk_mail",
          "38_nicknames_list nicknames...",
          "66_polysyllabic_neil_regard...",
          "110_us nine_mnemonics_planets",
          "80_photography_kirlian phot...",
          "104_message digest_collisio...",
          "102_thermometer_temperature...",
          "52_stuff deleted_deletion_m...",
          "112_messages posted_sarcast...",
          "77_yale edu_eli cs_inaccura...",
          "22_many cheek__too_ many_ch...",
          "4_hi yep_yep dir_hello huh"
         ],
         "tickvals": [
          -5,
          -15,
          -25,
          -35,
          -45,
          -55,
          -65,
          -75,
          -85,
          -95,
          -105,
          -115,
          -125,
          -135,
          -145,
          -155,
          -165,
          -175,
          -185,
          -195,
          -205,
          -215,
          -225,
          -235,
          -245,
          -255,
          -265,
          -275,
          -285,
          -295,
          -305,
          -315,
          -325,
          -335,
          -345,
          -355,
          -365,
          -375,
          -385,
          -395,
          -405,
          -415,
          -425,
          -435,
          -445,
          -455,
          -465,
          -475,
          -485,
          -495,
          -505,
          -515,
          -525,
          -535,
          -545,
          -555,
          -565,
          -575,
          -585,
          -595,
          -605,
          -615,
          -625,
          -635,
          -645,
          -655,
          -665,
          -675,
          -685,
          -695,
          -705,
          -715,
          -725,
          -735,
          -745,
          -755,
          -765,
          -775,
          -785,
          -795,
          -805,
          -815,
          -825,
          -835,
          -845,
          -855,
          -865,
          -875,
          -885,
          -895,
          -905,
          -915,
          -925,
          -935,
          -945,
          -955,
          -965,
          -975,
          -985,
          -995,
          -1005,
          -1015,
          -1025,
          -1035,
          -1045,
          -1055,
          -1065,
          -1075,
          -1085,
          -1095,
          -1105,
          -1115,
          -1125,
          -1135,
          -1145,
          -1155
         ],
         "type": "linear",
         "zeroline": false
        }
       }
      }
     },
     "metadata": {},
     "output_type": "display_data"
    }
   ],
   "source": [
    "topic_model.visualize_hierarchy()"
   ]
  },
  {
   "cell_type": "markdown",
   "id": "fdbc1873",
   "metadata": {},
   "source": [
    "### Búsqueda de tópicos por palabra clave"
   ]
  },
  {
   "cell_type": "code",
   "execution_count": 24,
   "id": "2a52e3c1",
   "metadata": {},
   "outputs": [
    {
     "data": {
      "text/plain": [
       "[('vga', 0.030664013491536714),\n",
       " ('colors', 0.028678484277278943),\n",
       " ('mode 13h', 0.02249771338903429),\n",
       " ('vga mode', 0.020473770702294145),\n",
       " ('turbo debugger', 0.017503457813295892),\n",
       " ('video memory', 0.01564769810598645),\n",
       " ('screen', 0.013968407795701583),\n",
       " ('256', 0.013560353710016052),\n",
       " ('video card', 0.013044831650927086),\n",
       " ('svga', 0.013044831650927086)]"
      ]
     },
     "execution_count": 24,
     "metadata": {},
     "output_type": "execute_result"
    }
   ],
   "source": [
    "similar_topics, similarity = topic_model.find_topics(\"GPU and CPU\", top_n=5)\n",
    "topic_model.get_topic(similar_topics[1])"
   ]
  },
  {
   "cell_type": "code",
   "execution_count": 26,
   "id": "eeb0199a",
   "metadata": {},
   "outputs": [
    {
     "data": {
      "text/html": [
       "<div>\n",
       "<style scoped>\n",
       "    .dataframe tbody tr th:only-of-type {\n",
       "        vertical-align: middle;\n",
       "    }\n",
       "\n",
       "    .dataframe tbody tr th {\n",
       "        vertical-align: top;\n",
       "    }\n",
       "\n",
       "    .dataframe thead th {\n",
       "        text-align: right;\n",
       "    }\n",
       "</style>\n",
       "<table border=\"1\" class=\"dataframe\">\n",
       "  <thead>\n",
       "    <tr style=\"text-align: right;\">\n",
       "      <th></th>\n",
       "      <th>data</th>\n",
       "      <th>target</th>\n",
       "      <th>target_name</th>\n",
       "      <th>synthetic_target</th>\n",
       "      <th>cluster_topic</th>\n",
       "    </tr>\n",
       "  </thead>\n",
       "  <tbody>\n",
       "    <tr>\n",
       "      <th>2951</th>\n",
       "      <td>Hi there,\\n\\nI'm looking for help on hi-rez CG...</td>\n",
       "      <td>1</td>\n",
       "      <td>comp.graphics</td>\n",
       "      <td>1</td>\n",
       "      <td>78</td>\n",
       "    </tr>\n",
       "    <tr>\n",
       "      <th>4681</th>\n",
       "      <td>Experiences with Diamond Viper VLB video card\\...</td>\n",
       "      <td>3</td>\n",
       "      <td>comp.sys.ibm.pc.hardware</td>\n",
       "      <td>-1</td>\n",
       "      <td>78</td>\n",
       "    </tr>\n",
       "    <tr>\n",
       "      <th>1294</th>\n",
       "      <td>Has anybody gotten CVIEW to work in 32k or 64k...</td>\n",
       "      <td>1</td>\n",
       "      <td>comp.graphics</td>\n",
       "      <td>-1</td>\n",
       "      <td>78</td>\n",
       "    </tr>\n",
       "    <tr>\n",
       "      <th>2267</th>\n",
       "      <td>Hi there,\\n\\nI've made a VGA mode 13h graphics...</td>\n",
       "      <td>1</td>\n",
       "      <td>comp.graphics</td>\n",
       "      <td>1</td>\n",
       "      <td>78</td>\n",
       "    </tr>\n",
       "    <tr>\n",
       "      <th>907</th>\n",
       "      <td>I have an ATI Graph. Ultra Pro VLB w/2 megs, a...</td>\n",
       "      <td>1</td>\n",
       "      <td>comp.graphics</td>\n",
       "      <td>-1</td>\n",
       "      <td>78</td>\n",
       "    </tr>\n",
       "  </tbody>\n",
       "</table>\n",
       "</div>"
      ],
      "text/plain": [
       "                                                   data target  \\\n",
       "2951  Hi there,\\n\\nI'm looking for help on hi-rez CG...      1   \n",
       "4681  Experiences with Diamond Viper VLB video card\\...      3   \n",
       "1294  Has anybody gotten CVIEW to work in 32k or 64k...      1   \n",
       "2267  Hi there,\\n\\nI've made a VGA mode 13h graphics...      1   \n",
       "907   I have an ATI Graph. Ultra Pro VLB w/2 megs, a...      1   \n",
       "\n",
       "                   target_name synthetic_target  cluster_topic  \n",
       "2951             comp.graphics                1             78  \n",
       "4681  comp.sys.ibm.pc.hardware               -1             78  \n",
       "1294             comp.graphics               -1             78  \n",
       "2267             comp.graphics                1             78  \n",
       "907              comp.graphics               -1             78  "
      ]
     },
     "execution_count": 26,
     "metadata": {},
     "output_type": "execute_result"
    }
   ],
   "source": [
    "news[news.cluster_topic==similar_topics[1]].sample(5)"
   ]
  }
 ],
 "metadata": {
  "kernelspec": {
   "display_name": "Python 3.9.13 ('bid')",
   "language": "python",
   "name": "python3"
  },
  "language_info": {
   "codemirror_mode": {
    "name": "ipython",
    "version": 3
   },
   "file_extension": ".py",
   "mimetype": "text/x-python",
   "name": "python",
   "nbconvert_exporter": "python",
   "pygments_lexer": "ipython3",
   "version": "3.9.13"
  },
  "vscode": {
   "interpreter": {
    "hash": "cad67f8f08b43f52430a6b8684b01d2984f30490bfa5827628ebc9dc8cbf0dc5"
   }
  }
 },
 "nbformat": 4,
 "nbformat_minor": 5
}
