{
 "cells": [
  {
   "cell_type": "markdown",
   "id": "36a02f8c",
   "metadata": {},
   "source": [
    "# Modelado de tópicos con BERTopic\n",
    "\n",
    "\n",
    "Para compreder acerca de qué temas se habla en un conjunto de documentos, es necesario realizar un análisis de tópicos. El análisis de tópicos es una técnica de minería de texto que permite identificar los temas principales que se tratan en un conjunto de documentos. Exiten una gran cantidad de algoritmos que permiten realizar este análisis, entre ellos destacan *Latent Dirichlet Allocation, Latent Semantic Analysis, Non-negative Matrix Factorization*, entre otros.\n",
    "\n",
    "Siendo la mayoria de estos métodos basados en la representación de los documentos como vectores de palabras, es decir, se representan los documentos como vectores de frecuencias de palabras, lo que implica que se pierde la información de contexto de las palabras.\n",
    "\n",
    "En el año 2022 se lanzó [BERTopic](https://arxiv.org/abs/2203.05794), un algoritmo de análisis de tópicos basado en la representación de los documentos como vectores de palabras, pero utilizando la representación de palabras de cualquier modelo transformer de lenguaje (como BERT), a modo que la información contextual contenida dentro de cada texto sea aprovechada. BERTopic es un algoritmo de análisis de tópicos auto-,semi- y supervisado, lo que significa que no es necesario etiquetar todos los documentos para realizar el análisis de tópicos.\n",
    "\n",
    "El modelo de BERTopic permite agrupar textos cuya semántica es similar y provee de una jerarquía de palabras simples o compuestas para cada grupo de textos. Esta jerarquía de palabras permite al usuario asociar un tema o conjunto de temas a cada grupo.\n",
    "El funcionamiento de este modelo o algoritmo se divide en tres etapas:\n",
    "\n",
    "* **Generación y extracción de embbedings por documento**: En esta etapa se utiliza un modelo transformer de lenguaje para generar los embeddings de cada documento. Los embeddings son vectores de números reales que representan la información contextual de cada documento.\n",
    "\n",
    "* **Agrupamiento de los vectores de documentos en grupos semánticamente similares**: En esta etapa se utiliza un algoritmo de clustering para agrupar los vectores de documentos en grupos semánticamente similares. El algoritmo de clustering utilizado es DBSCAN, el cual permite identificar grupos de documentos que se encuentran cercanos entre sí y que no se encuentran cercanos a los grupos de otros documentos.\n",
    "\n",
    "* **Creación de la representación de palabras o tópicos para cada grupo**: Para asignar a cada grupo un conjunto de palabras claves, los textos asignados a cada grupo son considerados como un único documento, para el cual se mide la importancia de las palabras contenidas a partir de la frecuencia de aparición. Esto se realiza gracias a la medida estadística conocida como *Term frequency – Inverse document frequency* (Tf-Idf). De esta manera, a partir de las palabras más importantes de cada grupo se obtiene una descripción del tópico.\n",
    "\n",
    "En este notebook se presenta un ejemplo de aplicación de BERTopic semisupervisado para el análisis de tópicos de un conjunto de documentos. Se presentarán algunas gráficas que permiten visualizar algunos hitos dentro de los datos usados."
   ]
  },
  {
   "cell_type": "code",
   "execution_count": 1,
   "id": "d2298d51",
   "metadata": {},
   "outputs": [
    {
     "name": "stderr",
     "output_type": "stream",
     "text": [
      "[nltk_data] Downloading package stopwords to /home/pedri0/nltk_data...\n",
      "[nltk_data]   Package stopwords is already up-to-date!\n",
      "[nltk_data] Downloading package punkt to /home/pedri0/nltk_data...\n",
      "[nltk_data]   Package punkt is already up-to-date!\n"
     ]
    }
   ],
   "source": [
    "#Imports\n",
    "\n",
    "from bertopic import BERTopic\n",
    "from sklearn.datasets import fetch_20newsgroups\n",
    "import pandas as pd\n",
    "import nltk\n",
    "from nltk.corpus import stopwords\n",
    "from sklearn.feature_extraction.text import CountVectorizer\n",
    "nltk.download('stopwords')\n",
    "nltk.download('punkt')\n",
    "from umap import UMAP"
   ]
  },
  {
   "cell_type": "markdown",
   "id": "7fc14f53",
   "metadata": {},
   "source": [
    "### Carga de datos etiquetados y no etiquetados sobre migración en twitter\n",
    "\n",
    "Se leerán los datos para modelado de topicos a través del modelo BERTopic, el cual será entrenado de manera semisupervisada. El conjunto de datos contiene etiquetas para los temas covid (477), servicios públicos (465), género (464), seguridad/crimen (429), salud (188) y empleo (427). El conjunto de datos contiene 10,000 tweets. Los textos no etiquetados contienen la etiqueta -1."
   ]
  },
  {
   "cell_type": "code",
   "execution_count": 50,
   "id": "90e89a0f",
   "metadata": {},
   "outputs": [],
   "source": [
    "#read data\n",
    "data = pd.read_csv('assets/data/bertopic_train.csv')\n",
    "#convert string labels to int labels\n",
    "target_label = {'covid': 0, 'servpub':1, 'genero':2, 'crimen':3, 'empleo':4, 'salud':5, '-1':int(-1)}\n",
    "data['target'] = data.label.apply(lambda x: target_label[x])\n",
    "data = data.sample(frac=0.2).reset_index(drop=True)"
   ]
  },
  {
   "cell_type": "markdown",
   "id": "c63470d7",
   "metadata": {},
   "source": [
    "### Configuración del modelo BERTopic"
   ]
  },
  {
   "cell_type": "code",
   "execution_count": 55,
   "id": "f8827ae8",
   "metadata": {},
   "outputs": [],
   "source": [
    "#add our stop word through countvectorizer model, set to 2 the limit of n-grams\n",
    "# with min_df: ignore terms that have a document frequency strictly lower than the given threshold (5)\n",
    "vectorizer_model = CountVectorizer(stop_words=stopwords.words('spanish'), ngram_range=(1,2), min_df=1)\n",
    "\n",
    "#use paraphrase-multilingual-mpnet-base-v2 as embedding model. This model is the most accurate for multilingual\n",
    "#diversity is a parameter in BERTopic to diversity words in each topic such that we limit the number of \n",
    "#duplicate words we find in each topic. This is done using an algorithm called Maximal Marginal Relevance \n",
    "#which compares word embeddings with the topic embedding.\n",
    "#We do this by specifying a value between 0 and 1, with 0 being not at all diverse and 1 being completely diverse\n",
    "#min_topic_size is used to specify what the minimum size of a topic can be. \n",
    "#The lower this value the more topics are created.\n",
    "#calculate_probabilities lets you calculate the probabilities of each topic to each document.\n",
    "topic_model = BERTopic(embedding_model='paraphrase-multilingual-MiniLM-L12-v2', verbose=True,\n",
    "                      vectorizer_model=vectorizer_model, diversity=0.3, min_topic_size=5,\n",
    "                      calculate_probabilities=False)"
   ]
  },
  {
   "cell_type": "code",
   "execution_count": 56,
   "id": "b0d35dd9",
   "metadata": {},
   "outputs": [
    {
     "data": {
      "application/vnd.jupyter.widget-view+json": {
       "model_id": "4201c0831cc34e429dbed593d4ca253d",
       "version_major": 2,
       "version_minor": 0
      },
      "text/plain": [
       "Batches:   0%|          | 0/63 [00:00<?, ?it/s]"
      ]
     },
     "metadata": {},
     "output_type": "display_data"
    },
    {
     "name": "stderr",
     "output_type": "stream",
     "text": [
      "2022-10-14 16:33:52,296 - BERTopic - Transformed documents to Embeddings\n",
      "OMP: Info #276: omp_set_nested routine deprecated, please use omp_set_max_active_levels instead.\n",
      "2022-10-14 16:34:02,962 - BERTopic - Reduced dimensionality\n",
      "2022-10-14 16:34:03,153 - BERTopic - Clustered reduced embeddings\n"
     ]
    }
   ],
   "source": [
    "#fit the model using semisupervised topic modeling and infer clusters, probabilities\n",
    "topics = topic_model.fit_transform(data.text.to_list(), y=data.target.tolist())"
   ]
  },
  {
   "cell_type": "code",
   "execution_count": 57,
   "id": "8abc29ed",
   "metadata": {},
   "outputs": [],
   "source": [
    "#save inferred clusters of topics\n",
    "data['cluster_topic'] = topics[0]"
   ]
  },
  {
   "cell_type": "code",
   "execution_count": 58,
   "id": "af45e67b",
   "metadata": {},
   "outputs": [
    {
     "data": {
      "text/plain": [
       "-1     666\n",
       " 0     114\n",
       " 1     105\n",
       " 2      94\n",
       " 3      79\n",
       " 4      55\n",
       " 5      54\n",
       " 6      52\n",
       " 7      48\n",
       " 8      47\n",
       " 9      37\n",
       " 10     35\n",
       " 12     31\n",
       " 11     31\n",
       " 13     31\n",
       " 14     30\n",
       " 15     28\n",
       " 16     27\n",
       " 17     25\n",
       " 18     24\n",
       " 19     21\n",
       " 20     19\n",
       " 21     18\n",
       " 22     18\n",
       " 23     16\n",
       " 24     15\n",
       " 25     14\n",
       " 28     13\n",
       " 26     13\n",
       " 27     13\n",
       " 29     12\n",
       " 30     12\n",
       " 35     11\n",
       " 31     11\n",
       " 33     11\n",
       " 32     11\n",
       " 34     11\n",
       " 38     10\n",
       " 36     10\n",
       " 37     10\n",
       " 39      9\n",
       " 42      8\n",
       " 43      8\n",
       " 41      8\n",
       " 40      8\n",
       " 44      8\n",
       " 45      8\n",
       " 46      7\n",
       " 48      7\n",
       " 47      7\n",
       " 49      7\n",
       " 50      6\n",
       " 52      6\n",
       " 51      6\n",
       " 54      5\n",
       " 55      5\n",
       " 53      5\n",
       "Name: cluster_topic, dtype: int64"
      ]
     },
     "execution_count": 58,
     "metadata": {},
     "output_type": "execute_result"
    }
   ],
   "source": [
    "data.cluster_topic.value_counts()"
   ]
  },
  {
   "cell_type": "code",
   "execution_count": 59,
   "id": "96b33e1d",
   "metadata": {},
   "outputs": [
    {
     "data": {
      "text/html": [
       "<div>\n",
       "<style scoped>\n",
       "    .dataframe tbody tr th:only-of-type {\n",
       "        vertical-align: middle;\n",
       "    }\n",
       "\n",
       "    .dataframe tbody tr th {\n",
       "        vertical-align: top;\n",
       "    }\n",
       "\n",
       "    .dataframe thead th {\n",
       "        text-align: right;\n",
       "    }\n",
       "</style>\n",
       "<table border=\"1\" class=\"dataframe\">\n",
       "  <thead>\n",
       "    <tr style=\"text-align: right;\">\n",
       "      <th></th>\n",
       "      <th>Topic</th>\n",
       "      <th>Count</th>\n",
       "      <th>Name</th>\n",
       "    </tr>\n",
       "  </thead>\n",
       "  <tbody>\n",
       "    <tr>\n",
       "      <th>0</th>\n",
       "      <td>-1</td>\n",
       "      <td>666</td>\n",
       "      <td>-1_migrantes_inmigrantes_venezolanos_inmigracion</td>\n",
       "    </tr>\n",
       "    <tr>\n",
       "      <th>1</th>\n",
       "      <td>0</td>\n",
       "      <td>114</td>\n",
       "      <td>0_venezolanos_migrantes venezolanos_venezolana...</td>\n",
       "    </tr>\n",
       "    <tr>\n",
       "      <th>2</th>\n",
       "      <td>1</td>\n",
       "      <td>105</td>\n",
       "      <td>1_trabajo_empleo_desempleo_trabajadores</td>\n",
       "    </tr>\n",
       "    <tr>\n",
       "      <th>3</th>\n",
       "      <td>2</td>\n",
       "      <td>94</td>\n",
       "      <td>2_racista_racistas_negros_racismo</td>\n",
       "    </tr>\n",
       "    <tr>\n",
       "      <th>4</th>\n",
       "      <td>3</td>\n",
       "      <td>79</td>\n",
       "      <td>3_chile_chilenos_uruguay_argentina</td>\n",
       "    </tr>\n",
       "    <tr>\n",
       "      <th>5</th>\n",
       "      <td>4</td>\n",
       "      <td>55</td>\n",
       "      <td>4_apoyo_migrantes_migracion_apoyo migrantes</td>\n",
       "    </tr>\n",
       "    <tr>\n",
       "      <th>6</th>\n",
       "      <td>5</td>\n",
       "      <td>54</td>\n",
       "      <td>5_inmigrantes ilegales_ilegales_delincuentes_i...</td>\n",
       "    </tr>\n",
       "    <tr>\n",
       "      <th>7</th>\n",
       "      <td>6</td>\n",
       "      <td>52</td>\n",
       "      <td>6_migracion_pacto_pacto migratorio_gobierno</td>\n",
       "    </tr>\n",
       "    <tr>\n",
       "      <th>8</th>\n",
       "      <td>7</td>\n",
       "      <td>48</td>\n",
       "      <td>7_venezolanos_delincuentes venezolanos_venezol...</td>\n",
       "    </tr>\n",
       "    <tr>\n",
       "      <th>9</th>\n",
       "      <td>8</td>\n",
       "      <td>47</td>\n",
       "      <td>8_fronteras_cierre fronteras_cerrar fronteras_...</td>\n",
       "    </tr>\n",
       "    <tr>\n",
       "      <th>10</th>\n",
       "      <td>9</td>\n",
       "      <td>37</td>\n",
       "      <td>9_honduras_hondurenos_caravana_caravana migrantes</td>\n",
       "    </tr>\n",
       "    <tr>\n",
       "      <th>11</th>\n",
       "      <td>10</td>\n",
       "      <td>35</td>\n",
       "      <td>10_mujeres_mujeres migrantes_migrantes_victimas</td>\n",
       "    </tr>\n",
       "    <tr>\n",
       "      <th>12</th>\n",
       "      <td>11</td>\n",
       "      <td>31</td>\n",
       "      <td>11_colombia_colombianos_venezuela_venezolanos</td>\n",
       "    </tr>\n",
       "    <tr>\n",
       "      <th>13</th>\n",
       "      <td>12</td>\n",
       "      <td>31</td>\n",
       "      <td>12_peru_peruanos_venezolanos_peruano</td>\n",
       "    </tr>\n",
       "    <tr>\n",
       "      <th>14</th>\n",
       "      <td>13</td>\n",
       "      <td>31</td>\n",
       "      <td>13_ley migracion_inmigracion_justicia_ley inmi...</td>\n",
       "    </tr>\n",
       "    <tr>\n",
       "      <th>15</th>\n",
       "      <td>14</td>\n",
       "      <td>30</td>\n",
       "      <td>14_mexicanas_autoridades mexicanas_ilegal mexi...</td>\n",
       "    </tr>\n",
       "    <tr>\n",
       "      <th>16</th>\n",
       "      <td>15</td>\n",
       "      <td>28</td>\n",
       "      <td>15_venezolanos_pasaportes venezolanos_pasaport...</td>\n",
       "    </tr>\n",
       "    <tr>\n",
       "      <th>17</th>\n",
       "      <td>16</td>\n",
       "      <td>27</td>\n",
       "      <td>16_vacunados_vacunacion_vacunar_vacunaron</td>\n",
       "    </tr>\n",
       "    <tr>\n",
       "      <th>18</th>\n",
       "      <td>17</td>\n",
       "      <td>25</td>\n",
       "      <td>17_servicios_migrantes_ministerio salud_inmigr...</td>\n",
       "    </tr>\n",
       "    <tr>\n",
       "      <th>19</th>\n",
       "      <td>18</td>\n",
       "      <td>24</td>\n",
       "      <td>18_guatemala_guatemaltecos_guatemalteco_guatem...</td>\n",
       "    </tr>\n",
       "    <tr>\n",
       "      <th>20</th>\n",
       "      <td>19</td>\n",
       "      <td>21</td>\n",
       "      <td>19_colombia_venezolanos peru_venezolanos_tres ...</td>\n",
       "    </tr>\n",
       "    <tr>\n",
       "      <th>21</th>\n",
       "      <td>20</td>\n",
       "      <td>19</td>\n",
       "      <td>20_homofobia_homosexuales_lgbt_homofobicos</td>\n",
       "    </tr>\n",
       "    <tr>\n",
       "      <th>22</th>\n",
       "      <td>21</td>\n",
       "      <td>18</td>\n",
       "      <td>21_mediterraneo_italia_europeos_refugiados</td>\n",
       "    </tr>\n",
       "    <tr>\n",
       "      <th>23</th>\n",
       "      <td>22</td>\n",
       "      <td>18</td>\n",
       "      <td>22_aborto_inmigracion delincuencia_terrorismo ...</td>\n",
       "    </tr>\n",
       "    <tr>\n",
       "      <th>24</th>\n",
       "      <td>23</td>\n",
       "      <td>16</td>\n",
       "      <td>23_caravana_rescatan_migrantes_caravana migrante</td>\n",
       "    </tr>\n",
       "    <tr>\n",
       "      <th>25</th>\n",
       "      <td>24</td>\n",
       "      <td>15</td>\n",
       "      <td>24_chile_asesinos colombia_medicos chilenos_ch...</td>\n",
       "    </tr>\n",
       "    <tr>\n",
       "      <th>26</th>\n",
       "      <td>25</td>\n",
       "      <td>14</td>\n",
       "      <td>25_haitianos_haitiano_haiti_haiti nunca</td>\n",
       "    </tr>\n",
       "    <tr>\n",
       "      <th>27</th>\n",
       "      <td>26</td>\n",
       "      <td>13</td>\n",
       "      <td>26_panama_panamenos_panameno_nicaraguenses</td>\n",
       "    </tr>\n",
       "    <tr>\n",
       "      <th>28</th>\n",
       "      <td>27</td>\n",
       "      <td>13</td>\n",
       "      <td>27_dominicanos_dominicano_haitianos_territorio...</td>\n",
       "    </tr>\n",
       "    <tr>\n",
       "      <th>29</th>\n",
       "      <td>28</td>\n",
       "      <td>13</td>\n",
       "      <td>28_jamaiquinos_jamaiquinas_jamaica_jamaican</td>\n",
       "    </tr>\n",
       "    <tr>\n",
       "      <th>30</th>\n",
       "      <td>29</td>\n",
       "      <td>12</td>\n",
       "      <td>29_iglesia_francisco pide_papa francisco_inmig...</td>\n",
       "    </tr>\n",
       "    <tr>\n",
       "      <th>31</th>\n",
       "      <td>30</td>\n",
       "      <td>12</td>\n",
       "      <td>30_gastan migrantes_genocidio originarios_inmi...</td>\n",
       "    </tr>\n",
       "    <tr>\n",
       "      <th>32</th>\n",
       "      <td>31</td>\n",
       "      <td>11</td>\n",
       "      <td>31_mexicanos_mexico_via legal_migrantes</td>\n",
       "    </tr>\n",
       "    <tr>\n",
       "      <th>33</th>\n",
       "      <td>32</td>\n",
       "      <td>11</td>\n",
       "      <td>32_padres_hijos_abuso_ninos migrantes</td>\n",
       "    </tr>\n",
       "    <tr>\n",
       "      <th>34</th>\n",
       "      <td>33</td>\n",
       "      <td>11</td>\n",
       "      <td>33_cubanos_cubana_migracion cubana_migrantes c...</td>\n",
       "    </tr>\n",
       "    <tr>\n",
       "      <th>35</th>\n",
       "      <td>34</td>\n",
       "      <td>11</td>\n",
       "      <td>34_trafico_trafico migrantes_ninos inmigrantes...</td>\n",
       "    </tr>\n",
       "    <tr>\n",
       "      <th>36</th>\n",
       "      <td>35</td>\n",
       "      <td>11</td>\n",
       "      <td>35_familias_inmigrantes camara_mediante cambio...</td>\n",
       "    </tr>\n",
       "    <tr>\n",
       "      <th>37</th>\n",
       "      <td>36</td>\n",
       "      <td>10</td>\n",
       "      <td>36_colombia_colombianos_vacunar venezolanos_ve...</td>\n",
       "    </tr>\n",
       "    <tr>\n",
       "      <th>38</th>\n",
       "      <td>37</td>\n",
       "      <td>10</td>\n",
       "      <td>37_colombia_transitorias_colombia migracion_mi...</td>\n",
       "    </tr>\n",
       "    <tr>\n",
       "      <th>39</th>\n",
       "      <td>38</td>\n",
       "      <td>10</td>\n",
       "      <td>38_hijo inmigrante_ninos familias_inmigrantes ...</td>\n",
       "    </tr>\n",
       "    <tr>\n",
       "      <th>40</th>\n",
       "      <td>39</td>\n",
       "      <td>9</td>\n",
       "      <td>39_muro frontera_frontera mexico_construir mur...</td>\n",
       "    </tr>\n",
       "    <tr>\n",
       "      <th>41</th>\n",
       "      <td>40</td>\n",
       "      <td>8</td>\n",
       "      <td>40_haitianos_haiti_migrantes haitianos_haitian...</td>\n",
       "    </tr>\n",
       "    <tr>\n",
       "      <th>42</th>\n",
       "      <td>41</td>\n",
       "      <td>8</td>\n",
       "      <td>41_si inmigrantes_migrante norcoreano_inmigran...</td>\n",
       "    </tr>\n",
       "    <tr>\n",
       "      <th>43</th>\n",
       "      <td>42</td>\n",
       "      <td>8</td>\n",
       "      <td>42_guardia nacional_frontera mexico_migratoria...</td>\n",
       "    </tr>\n",
       "    <tr>\n",
       "      <th>44</th>\n",
       "      <td>43</td>\n",
       "      <td>8</td>\n",
       "      <td>43_mundial sida_interseccional migrantes_segun...</td>\n",
       "    </tr>\n",
       "    <tr>\n",
       "      <th>45</th>\n",
       "      <td>44</td>\n",
       "      <td>8</td>\n",
       "      <td>44_humanos migrantes_derechos humanos_respeto ...</td>\n",
       "    </tr>\n",
       "    <tr>\n",
       "      <th>46</th>\n",
       "      <td>45</td>\n",
       "      <td>8</td>\n",
       "      <td>45_coronavirus_viajeros sudafrica_variante via...</td>\n",
       "    </tr>\n",
       "    <tr>\n",
       "      <th>47</th>\n",
       "      <td>46</td>\n",
       "      <td>7</td>\n",
       "      <td>46_virus_fronteras_cerrar_gente volviendo</td>\n",
       "    </tr>\n",
       "    <tr>\n",
       "      <th>48</th>\n",
       "      <td>47</td>\n",
       "      <td>7</td>\n",
       "      <td>47_venezuela pueblo_colombia_pais aqui_venezol...</td>\n",
       "    </tr>\n",
       "    <tr>\n",
       "      <th>49</th>\n",
       "      <td>48</td>\n",
       "      <td>7</td>\n",
       "      <td>48_frontera unidos_mexico abrira_reapertura fr...</td>\n",
       "    </tr>\n",
       "    <tr>\n",
       "      <th>50</th>\n",
       "      <td>49</td>\n",
       "      <td>7</td>\n",
       "      <td>49_enfermo mental_extrema sindrome_inmigrante ...</td>\n",
       "    </tr>\n",
       "    <tr>\n",
       "      <th>51</th>\n",
       "      <td>50</td>\n",
       "      <td>6</td>\n",
       "      <td>50_peruanos_peruanos mas_migrantes debido_pedi...</td>\n",
       "    </tr>\n",
       "    <tr>\n",
       "      <th>52</th>\n",
       "      <td>51</td>\n",
       "      <td>6</td>\n",
       "      <td>51_inmigracion ilegal_invasion pasiva_social i...</td>\n",
       "    </tr>\n",
       "    <tr>\n",
       "      <th>53</th>\n",
       "      <td>52</td>\n",
       "      <td>6</td>\n",
       "      <td>52_educacion_lgbt feminismo_introducir inmigra...</td>\n",
       "    </tr>\n",
       "    <tr>\n",
       "      <th>54</th>\n",
       "      <td>53</td>\n",
       "      <td>5</td>\n",
       "      <td>53_violador_feminismo_igual agresiones_minoria...</td>\n",
       "    </tr>\n",
       "    <tr>\n",
       "      <th>55</th>\n",
       "      <td>54</td>\n",
       "      <td>5</td>\n",
       "      <td>54_economia_inmigracion economia_migratoria mo...</td>\n",
       "    </tr>\n",
       "    <tr>\n",
       "      <th>56</th>\n",
       "      <td>55</td>\n",
       "      <td>5</td>\n",
       "      <td>55_vacuna_argentina_trayendo infectados_dosis ...</td>\n",
       "    </tr>\n",
       "  </tbody>\n",
       "</table>\n",
       "</div>"
      ],
      "text/plain": [
       "    Topic  Count                                               Name\n",
       "0      -1    666   -1_migrantes_inmigrantes_venezolanos_inmigracion\n",
       "1       0    114  0_venezolanos_migrantes venezolanos_venezolana...\n",
       "2       1    105            1_trabajo_empleo_desempleo_trabajadores\n",
       "3       2     94                  2_racista_racistas_negros_racismo\n",
       "4       3     79                 3_chile_chilenos_uruguay_argentina\n",
       "5       4     55        4_apoyo_migrantes_migracion_apoyo migrantes\n",
       "6       5     54  5_inmigrantes ilegales_ilegales_delincuentes_i...\n",
       "7       6     52        6_migracion_pacto_pacto migratorio_gobierno\n",
       "8       7     48  7_venezolanos_delincuentes venezolanos_venezol...\n",
       "9       8     47  8_fronteras_cierre fronteras_cerrar fronteras_...\n",
       "10      9     37  9_honduras_hondurenos_caravana_caravana migrantes\n",
       "11     10     35    10_mujeres_mujeres migrantes_migrantes_victimas\n",
       "12     11     31      11_colombia_colombianos_venezuela_venezolanos\n",
       "13     12     31               12_peru_peruanos_venezolanos_peruano\n",
       "14     13     31  13_ley migracion_inmigracion_justicia_ley inmi...\n",
       "15     14     30  14_mexicanas_autoridades mexicanas_ilegal mexi...\n",
       "16     15     28  15_venezolanos_pasaportes venezolanos_pasaport...\n",
       "17     16     27          16_vacunados_vacunacion_vacunar_vacunaron\n",
       "18     17     25  17_servicios_migrantes_ministerio salud_inmigr...\n",
       "19     18     24  18_guatemala_guatemaltecos_guatemalteco_guatem...\n",
       "20     19     21  19_colombia_venezolanos peru_venezolanos_tres ...\n",
       "21     20     19         20_homofobia_homosexuales_lgbt_homofobicos\n",
       "22     21     18         21_mediterraneo_italia_europeos_refugiados\n",
       "23     22     18  22_aborto_inmigracion delincuencia_terrorismo ...\n",
       "24     23     16   23_caravana_rescatan_migrantes_caravana migrante\n",
       "25     24     15  24_chile_asesinos colombia_medicos chilenos_ch...\n",
       "26     25     14            25_haitianos_haitiano_haiti_haiti nunca\n",
       "27     26     13         26_panama_panamenos_panameno_nicaraguenses\n",
       "28     27     13  27_dominicanos_dominicano_haitianos_territorio...\n",
       "29     28     13        28_jamaiquinos_jamaiquinas_jamaica_jamaican\n",
       "30     29     12  29_iglesia_francisco pide_papa francisco_inmig...\n",
       "31     30     12  30_gastan migrantes_genocidio originarios_inmi...\n",
       "32     31     11            31_mexicanos_mexico_via legal_migrantes\n",
       "33     32     11              32_padres_hijos_abuso_ninos migrantes\n",
       "34     33     11  33_cubanos_cubana_migracion cubana_migrantes c...\n",
       "35     34     11  34_trafico_trafico migrantes_ninos inmigrantes...\n",
       "36     35     11  35_familias_inmigrantes camara_mediante cambio...\n",
       "37     36     10  36_colombia_colombianos_vacunar venezolanos_ve...\n",
       "38     37     10  37_colombia_transitorias_colombia migracion_mi...\n",
       "39     38     10  38_hijo inmigrante_ninos familias_inmigrantes ...\n",
       "40     39      9  39_muro frontera_frontera mexico_construir mur...\n",
       "41     40      8  40_haitianos_haiti_migrantes haitianos_haitian...\n",
       "42     41      8  41_si inmigrantes_migrante norcoreano_inmigran...\n",
       "43     42      8  42_guardia nacional_frontera mexico_migratoria...\n",
       "44     43      8  43_mundial sida_interseccional migrantes_segun...\n",
       "45     44      8  44_humanos migrantes_derechos humanos_respeto ...\n",
       "46     45      8  45_coronavirus_viajeros sudafrica_variante via...\n",
       "47     46      7          46_virus_fronteras_cerrar_gente volviendo\n",
       "48     47      7  47_venezuela pueblo_colombia_pais aqui_venezol...\n",
       "49     48      7  48_frontera unidos_mexico abrira_reapertura fr...\n",
       "50     49      7  49_enfermo mental_extrema sindrome_inmigrante ...\n",
       "51     50      6  50_peruanos_peruanos mas_migrantes debido_pedi...\n",
       "52     51      6  51_inmigracion ilegal_invasion pasiva_social i...\n",
       "53     52      6  52_educacion_lgbt feminismo_introducir inmigra...\n",
       "54     53      5  53_violador_feminismo_igual agresiones_minoria...\n",
       "55     54      5  54_economia_inmigracion economia_migratoria mo...\n",
       "56     55      5  55_vacuna_argentina_trayendo infectados_dosis ..."
      ]
     },
     "execution_count": 59,
     "metadata": {},
     "output_type": "execute_result"
    }
   ],
   "source": [
    "#get dataframe with info about clusters from fitted model\n",
    "topic_model.get_topic_info()"
   ]
  },
  {
   "cell_type": "code",
   "execution_count": 60,
   "id": "ac2bfe14",
   "metadata": {
    "scrolled": true
   },
   "outputs": [
    {
     "data": {
      "text/plain": [
       "{-1: [('migrantes', 0.010131560160920173),\n",
       "  ('inmigrantes', 0.007954665820730242),\n",
       "  ('venezolanos', 0.007271173322471336),\n",
       "  ('inmigracion', 0.0047090467928070714),\n",
       "  ('migrante', 0.004690835661777644),\n",
       "  ('mexico', 0.004083520080672387),\n",
       "  ('ilegales', 0.003781216026435863),\n",
       "  ('caravana', 0.003509960137426222),\n",
       "  ('inmigrante', 0.0034206451449695858),\n",
       "  ('migratoria', 0.00331592498238623)],\n",
       " 0: [('venezolanos', 0.032568576707118525),\n",
       "  ('migrantes venezolanos', 0.018753123563003904),\n",
       "  ('venezolana', 0.012760919570526767),\n",
       "  ('inmigrantes venezolanos', 0.009452647062884836),\n",
       "  ('migracion venezolana', 0.0093921272643424),\n",
       "  ('refugiados venezolanos', 0.009143018206162225),\n",
       "  ('venezolano', 0.00784663219654577),\n",
       "  ('migracion venezolanos', 0.006680512111826332),\n",
       "  ('venezolanos colombia', 0.005592221199530613),\n",
       "  ('personas venezolanas', 0.00548851567220626)],\n",
       " 1: [('trabajo', 0.0257993974090455),\n",
       "  ('empleo', 0.013977109824690194),\n",
       "  ('desempleo', 0.012926353832764853),\n",
       "  ('trabajadores', 0.012064615198286865),\n",
       "  ('pensiones', 0.010374433948925368),\n",
       "  ('migrantes', 0.009835679088685158),\n",
       "  ('empresarios', 0.009134651950973282),\n",
       "  ('laboral', 0.007330771177392367),\n",
       "  ('inmigrante', 0.007307472311207608),\n",
       "  ('trabajador', 0.006768072730975917)],\n",
       " 2: [('racista', 0.0791902812575231),\n",
       "  ('racistas', 0.05692876524567023),\n",
       "  ('negros', 0.028554685025346527),\n",
       "  ('racismo', 0.02826953594090448),\n",
       "  ('blancos', 0.01715396537181099),\n",
       "  ('ser racista', 0.01337723225514385),\n",
       "  ('fogo racistas', 0.01337723225514385),\n",
       "  ('racista fdp', 0.01055077094602925),\n",
       "  ('hijo puta', 0.009631641408667133),\n",
       "  ('racista racista', 0.007520899175775512)],\n",
       " 3: [('chile', 0.0443652652523267),\n",
       "  ('chilenos', 0.030632348863802693),\n",
       "  ('uruguay', 0.015328022769443474),\n",
       "  ('argentina', 0.010432662174145126),\n",
       "  ('chileno', 0.009777628883874897),\n",
       "  ('uruguayos', 0.009164241032589318),\n",
       "  ('inmigrante', 0.00879737132295364),\n",
       "  ('argentinos', 0.007556087940728088),\n",
       "  ('gobierno', 0.006983285895879663),\n",
       "  ('inmigrantes chilenos', 0.006426413839880669)],\n",
       " 4: [('apoyo', 0.020943229030577687),\n",
       "  ('migrantes', 0.019156700550636792),\n",
       "  ('migracion', 0.018469329264520773),\n",
       "  ('apoyo migrantes', 0.014173338985422907),\n",
       "  ('familias', 0.011952772477126021),\n",
       "  ('migrantes familias', 0.01063000423906718),\n",
       "  ('cooperacion', 0.010268497581909715),\n",
       "  ('refugiados', 0.01014556872064745),\n",
       "  ('migratoria', 0.01014556872064745),\n",
       "  ('solidaridad', 0.009698889412716273)],\n",
       " 5: [('inmigrantes ilegales', 0.03034987287151255),\n",
       "  ('ilegales', 0.03004282943385154),\n",
       "  ('delincuentes', 0.027169623788623858),\n",
       "  ('inmigrantes delincuentes', 0.02213317447481121),\n",
       "  ('inmigrante ilegal', 0.011066587237405605),\n",
       "  ('inmigrantes roban', 0.00947097310914566),\n",
       "  ('solo inmigrantes', 0.00947097310914566),\n",
       "  ('mayoria inmigrantes', 0.00885763484526388),\n",
       "  ('delincuentes inmigrantes', 0.008422889604167526),\n",
       "  ('delincuentes si', 0.008422889604167526)],\n",
       " 6: [('migracion', 0.017281224006464452),\n",
       "  ('pacto', 0.016027398789979344),\n",
       "  ('pacto migratorio', 0.015974400687477817),\n",
       "  ('gobierno', 0.015321652063977636),\n",
       "  ('migratorio', 0.014383584855190729),\n",
       "  ('politica', 0.009284416181367593),\n",
       "  ('ciudadanos', 0.009158513594273911),\n",
       "  ('inmigracion', 0.008881722159203263),\n",
       "  ('leyes', 0.008669741196593856),\n",
       "  ('paises vecinos', 0.0073096626863447195)],\n",
       " 7: [('venezolanos', 0.04203859193698349),\n",
       "  ('delincuentes venezolanos', 0.03661501898184525),\n",
       "  ('venezolanos delincuentes', 0.026071558767474558),\n",
       "  ('venezolano', 0.013021983681689523),\n",
       "  ('mas delincuentes', 0.012144719709878439),\n",
       "  ('venezuela', 0.010748006742802145),\n",
       "  ('venecos', 0.008822706784400627),\n",
       "  ('presidente', 0.008681322454459682),\n",
       "  ('hace policia', 0.00865711263407008),\n",
       "  ('protegen', 0.00865711263407008)],\n",
       " 8: [('fronteras', 0.07169159745581281),\n",
       "  ('cierre fronteras', 0.03338884314159482),\n",
       "  ('cerrar fronteras', 0.029143563542444725),\n",
       "  ('presidente', 0.017248237236919206),\n",
       "  ('cerradas', 0.015312697158287954),\n",
       "  ('frontera', 0.014040647562316337),\n",
       "  ('fronteras aereas', 0.013788222298469382),\n",
       "  ('pandemia', 0.011118740941396811),\n",
       "  ('aeropuerto fronteras', 0.009828649512952892),\n",
       "  ('vuelos etc', 0.009828649512952892)],\n",
       " 9: [('honduras', 0.07289751386735513),\n",
       "  ('hondurenos', 0.07204341956705713),\n",
       "  ('caravana', 0.02892394450091214),\n",
       "  ('caravana migrantes', 0.020167247141381316),\n",
       "  ('guatemala', 0.019829634803342395),\n",
       "  ('migrantes hondurenos', 0.01820620962411973),\n",
       "  ('inmigrantes hondurenos', 0.015589043107432601),\n",
       "  ('honduras puede', 0.011685887306794318),\n",
       "  ('inyectaron economia', 0.011685887306794318),\n",
       "  ('hondurenos inyectaron', 0.011685887306794318)],\n",
       " 10: [('mujeres', 0.08376001349673953),\n",
       "  ('mujeres migrantes', 0.047728520678231884),\n",
       "  ('migrantes', 0.02291882042390548),\n",
       "  ('victimas', 0.020551227623381203),\n",
       "  ('discriminacion', 0.013960333207564698),\n",
       "  ('refugiadas', 0.013960333207564698),\n",
       "  ('indigenas', 0.013960333207564698),\n",
       "  ('todas mujeres', 0.01128474573709406),\n",
       "  ('mujeres refugiadas', 0.01128474573709406),\n",
       "  ('migrantes victimas', 0.01055394793216175)],\n",
       " 11: [('colombia', 0.04227006562293734),\n",
       "  ('colombianos', 0.029705734763157084),\n",
       "  ('venezuela', 0.02548787794554395),\n",
       "  ('venezolanos', 0.02017546462429358),\n",
       "  ('dolares', 0.019990178808734584),\n",
       "  ('venezolano', 0.018013565758524495),\n",
       "  ('hacen colombia', 0.010264760502023932),\n",
       "  ('soldados', 0.010264760502023932),\n",
       "  ('si venezuela', 0.010264760502023932),\n",
       "  ('farc eln', 0.010264760502023932)],\n",
       " 12: [('peru', 0.07489767960916593),\n",
       "  ('peruanos', 0.04899442384042856),\n",
       "  ('venezolanos', 0.040726208905718146),\n",
       "  ('peruano', 0.022376216289822694),\n",
       "  ('venezolanos peru', 0.019129061082630447),\n",
       "  ('peru pais', 0.012580275459177366),\n",
       "  ('aqui peru', 0.011765579416820804),\n",
       "  ('peruana', 0.011188108144911347),\n",
       "  ('ingreso venezolanos', 0.010740621940111519),\n",
       "  ('venezolanos vienen', 0.010375353380848688)],\n",
       " 13: [('ley migracion', 0.036375980854470455),\n",
       "  ('inmigracion', 0.023666128505286883),\n",
       "  ('justicia', 0.019008421142461276),\n",
       "  ('ley inmigracion', 0.01704258326188694),\n",
       "  ('visa inmigrante', 0.01704258326188694),\n",
       "  ('visa', 0.016864137244806225),\n",
       "  ('proteccion internacional', 0.01593890908718016),\n",
       "  ('legislacion', 0.015156604894811689),\n",
       "  ('deportar', 0.015156604894811689),\n",
       "  ('migrantes', 0.014159754922694426)],\n",
       " 14: [('mexicanas', 0.028129744047118113),\n",
       "  ('autoridades mexicanas', 0.028129744047118113),\n",
       "  ('ilegal mexico', 0.020051707112300362),\n",
       "  ('migrantes mexico', 0.020051707112300362),\n",
       "  ('mexico centroamerica', 0.020051707112300362),\n",
       "  ('mexico mientras', 0.020051707112300362),\n",
       "  ('mexico migrantes', 0.01783273095970621),\n",
       "  ('mexicano', 0.01653728074989205),\n",
       "  ('migrantes centroamericanos', 0.015244909835515274),\n",
       "  ('frontera mexico', 0.013841917941660757)],\n",
       " 15: [('venezolanos', 0.0352274611876116),\n",
       "  ('pasaportes venezolanos', 0.03187888490070866),\n",
       "  ('pasaporte venezolano', 0.03187888490070866),\n",
       "  ('venezolano', 0.03145266790261737),\n",
       "  ('peru', 0.019760188068415372),\n",
       "  ('venezolanos necesitamos', 0.01792283146479645),\n",
       "  ('venezolanos vencidos', 0.01792283146479645),\n",
       "  ('venezolanos pasaporte', 0.01792283146479645),\n",
       "  ('venezolana', 0.015943243584984466),\n",
       "  ('venezuela', 0.014834408158645142)],\n",
       " 16: [('vacunados', 0.052710615500973966),\n",
       "  ('vacunacion', 0.025291006489469463),\n",
       "  ('vacunar', 0.0245427970847213),\n",
       "  ('vacunaron', 0.015753106596422605),\n",
       "  ('vacunados solo', 0.015753106596422605),\n",
       "  ('vacunados gt', 0.015753106596422605),\n",
       "  ('extranjeros vacunados', 0.015753106596422605),\n",
       "  ('vacunacion migrantes', 0.014732938664442695),\n",
       "  ('vacunarse', 0.014732938664442695),\n",
       "  ('vacunar migrantes', 0.014732938664442695)],\n",
       " 17: [('servicios', 0.024323913027239203),\n",
       "  ('migrantes', 0.016338607411782783),\n",
       "  ('ministerio salud', 0.013793648596107504),\n",
       "  ('inmigrantes pobres', 0.013116636821602086),\n",
       "  ('salud mental', 0.013116636821602086),\n",
       "  ('sistema salud', 0.013116636821602086),\n",
       "  ('autoridades', 0.012743038426026915),\n",
       "  ('hospitales', 0.011802070977979253),\n",
       "  ('poblacion migrante', 0.011489042555008258),\n",
       "  ('atencion medica', 0.010966684531620714)],\n",
       " 18: [('guatemala', 0.05420192367561675),\n",
       "  ('guatemaltecos', 0.027883832966104402),\n",
       "  ('guatemalteco', 0.024441883600215597),\n",
       "  ('guatemalteco migracion', 0.017422891953923467),\n",
       "  ('guatemala puede', 0.017422891953923467),\n",
       "  ('instituto guatemalteco', 0.017422891953923467),\n",
       "  ('boliviana', 0.017422891953923467),\n",
       "  ('migrantes guatemaltecos', 0.017422891953923467),\n",
       "  ('eeuu inmigrante', 0.017422891953923467),\n",
       "  ('guatemala sigue', 0.017422891953923467)],\n",
       " 19: [('colombia', 0.06646339775596222),\n",
       "  ('venezolanos peru', 0.061353868394870906),\n",
       "  ('venezolanos', 0.044785299494327926),\n",
       "  ('tres venezolanas', 0.0322796215270365),\n",
       "  ('crisis venezuela', 0.0322796215270365),\n",
       "  ('gustado video', 0.030189199898974308),\n",
       "  ('colombia venezolanos', 0.030189199898974308),\n",
       "  ('venezuela', 0.026717267407172257),\n",
       "  ('venezolanas', 0.0235144278853571),\n",
       "  ('venezolanos colombia', 0.023069718721061044)],\n",
       " 20: [('homofobia', 0.03151713868906941),\n",
       "  ('homosexuales', 0.02922759122605035),\n",
       "  ('lgbt', 0.02363785401680206),\n",
       "  ('homofobicos', 0.017719451816968972),\n",
       "  ('personas lgbt', 0.017719451816968972),\n",
       "  ('homofobos', 0.017719451816968972),\n",
       "  ('homofobo', 0.016571943774330578),\n",
       "  ('inmigracion masiva', 0.014179225699785006),\n",
       "  ('feministas', 0.014179225699785006),\n",
       "  ('racismo', 0.01110063810823696)],\n",
       " 21: [('mediterraneo', 0.02683524489830185),\n",
       "  ('italia', 0.025761926537513857),\n",
       "  ('europeos', 0.024885811370006634),\n",
       "  ('refugiados', 0.02458789198804253),\n",
       "  ('tunecinos', 0.020116285879167674),\n",
       "  ('estan causando', 0.018813559357331814),\n",
       "  ('inmigrantes', 0.016744011655894803),\n",
       "  ('mas inmigrantes', 0.014653918827106599),\n",
       "  ('espana', 0.014376781231965577),\n",
       "  ('invasion', 0.014376781231965577)],\n",
       " 22: [('aborto', 0.031362940356720694),\n",
       "  ('inmigracion delincuencia', 0.01901402363921328),\n",
       "  ('terrorismo izquierda', 0.01901402363921328),\n",
       "  ('conservador', 0.01901402363921328),\n",
       "  ('delincuencia terrorismo', 0.01901402363921328),\n",
       "  ('suecia', 0.01778267939254651),\n",
       "  ('politicos', 0.017460750210980938),\n",
       "  ('ideologia genero', 0.01690988034687514),\n",
       "  ('ideologia', 0.016233542749666267),\n",
       "  ('feministas', 0.0152151508650661)],\n",
       " 23: [('caravana', 0.05344145103711742),\n",
       "  ('rescatan', 0.050877658800902455),\n",
       "  ('migrantes', 0.034169877722913626),\n",
       "  ('caravana migrante', 0.03096399942507472),\n",
       "  ('viajaban', 0.030844971681390432),\n",
       "  ('migrantes centroamericanos', 0.023450811919817325),\n",
       "  ('caravana migrantes', 0.021292629327542348),\n",
       "  ('rio cronica', 0.01713156662720237),\n",
       "  ('informativa caravana', 0.01713156662720237),\n",
       "  ('lado mexicano', 0.01713156662720237)],\n",
       " 24: [('chile', 0.033413104568833916),\n",
       "  ('asesinos colombia', 0.02267189388559551),\n",
       "  ('medicos chilenos', 0.02267189388559551),\n",
       "  ('chilenos', 0.019774579504045594),\n",
       "  ('venezolano', 0.01705147228010706),\n",
       "  ('venezolanos', 0.015727686846011713),\n",
       "  ('brasil', 0.01387987040364728),\n",
       "  ('colombia', 0.012731233260958938),\n",
       "  ('medicos venezolanos', 0.01259216784758069),\n",
       "  ('medico venezolano', 0.01259216784758069)],\n",
       " 25: [('haitianos', 0.07116496844073493),\n",
       "  ('haitiano', 0.03396503046323983),\n",
       "  ('haiti', 0.029432904873793263),\n",
       "  ('haiti nunca', 0.027455414353765112),\n",
       "  ('cedula identidad', 0.025677407386600126),\n",
       "  ('haitiana', 0.024417123929443885),\n",
       "  ('inmigracion', 0.02382867059666935),\n",
       "  ('ministro haitiano', 0.015248976887949362),\n",
       "  ('migracion todas', 0.015248976887949362),\n",
       "  ('parar acuerdo', 0.015248976887949362)],\n",
       " 26: [('panama', 0.12974081819611397),\n",
       "  ('panamenos', 0.04312171530942347),\n",
       "  ('panameno', 0.03367173458480627),\n",
       "  ('nicaraguenses', 0.02994552934743118),\n",
       "  ('extranjeros', 0.022383149189808858),\n",
       "  ('derechos humanos', 0.02135209255847751),\n",
       "  ('migracion nicaraguense', 0.018701575428617143),\n",
       "  ('mesero albanil', 0.018701575428617143),\n",
       "  ('migracion recordemos', 0.018701575428617143),\n",
       "  ('repudiar visita', 0.018701575428617143)],\n",
       " 27: [('dominicanos', 0.08908185177988426),\n",
       "  ('dominicano', 0.04729684073849551),\n",
       "  ('haitianos', 0.03190939703427878),\n",
       "  ('territorio dominicano', 0.02769892135468542),\n",
       "  ('inmigrantes haitianos', 0.025905144924397022),\n",
       "  ('republica dominicana', 0.022844181612378597),\n",
       "  ('dominicana', 0.022164865007424452),\n",
       "  ('piden muro', 0.01538422280269836),\n",
       "  ('mundo siempre', 0.01538422280269836),\n",
       "  ('negros cuya', 0.01538422280269836)],\n",
       " 28: [('jamaiquinos', 0.09290450859347332),\n",
       "  ('jamaiquinas', 0.06106212732179299),\n",
       "  ('jamaica', 0.05806511178343363),\n",
       "  ('jamaican', 0.043526876414505665),\n",
       "  ('reggae', 0.043526876414505665),\n",
       "  ('centro ciudad', 0.043526876414505665),\n",
       "  ('we are', 0.043526876414505665),\n",
       "  ('madres jamaiquinas', 0.024175207261383138),\n",
       "  ('mas reggae', 0.024175207261383138),\n",
       "  ('madein belize', 0.024175207261383138)],\n",
       " 29: [('iglesia', 0.0858793309136463),\n",
       "  ('francisco pide', 0.04292856883492483),\n",
       "  ('papa francisco', 0.04014852357698645),\n",
       "  ('inmigrantes papa', 0.023842902006931135),\n",
       "  ('iglesia catolica', 0.023842902006931135),\n",
       "  ('iglesia contexto', 0.023842902006931135),\n",
       "  ('iglesia humilde', 0.023842902006931135),\n",
       "  ('iglesia insiste', 0.023842902006931135),\n",
       "  ('iglesia mexico', 0.023842902006931135),\n",
       "  ('iglesias eeuu', 0.023842902006931135)],\n",
       " 30: [('gastan migrantes', 0.021480756916461178),\n",
       "  ('genocidio originarios', 0.021480756916461178),\n",
       "  ('inmigrantes buenos', 0.021480756916461178),\n",
       "  ('europa igual', 0.021480756916461178),\n",
       "  ('gusta delincuentes', 0.021480756916461178),\n",
       "  ('inmigrante mal', 0.021480756916461178),\n",
       "  ('igual gusta', 0.021480756916461178),\n",
       "  ('propios inmigrantes', 0.021480756916461178),\n",
       "  ('ilegales extranjeros', 0.021480756916461178),\n",
       "  ('ilegales papa', 0.021480756916461178)],\n",
       " 31: [('mexicanos', 0.06916857570191906),\n",
       "  ('mexico', 0.03857936334142836),\n",
       "  ('via legal', 0.029957346597033873),\n",
       "  ('migrantes', 0.019358833602010416),\n",
       "  ('ingresan mexico', 0.01663857190411741),\n",
       "  ('problemas aqui', 0.01663857190411741),\n",
       "  ('inseguridad terrible', 0.01663857190411741),\n",
       "  ('gobierno movilizara', 0.01663857190411741),\n",
       "  ('invadir frontera', 0.01663857190411741),\n",
       "  ('quitaran poder', 0.01663857190411741)],\n",
       " 32: [('padres', 0.03606675504123803),\n",
       "  ('hijos', 0.02872628277534199),\n",
       "  ('abuso', 0.024044503360825357),\n",
       "  ('ninos migrantes', 0.0208631436294396),\n",
       "  ('mirando hijo', 0.01756527717472648),\n",
       "  ('ninos condenamos', 0.01756527717472648),\n",
       "  ('ninos padres', 0.01756527717472648),\n",
       "  ('matando ninos', 0.01756527717472648),\n",
       "  ('mientras padres', 0.01756527717472648),\n",
       "  ('menores aqui', 0.01756527717472648)],\n",
       " 33: [('cubanos', 0.08918454466737856),\n",
       "  ('cubana', 0.05224039837569107),\n",
       "  ('migracion cubana', 0.03916054398421042),\n",
       "  ('migrantes cubanos', 0.0334339736254882),\n",
       "  ('mexico 31', 0.021750108100366646),\n",
       "  ('mecanismos pertinentes', 0.021750108100366646),\n",
       "  ('mejor vida', 0.021750108100366646),\n",
       "  ('garantizar migracion', 0.021750108100366646),\n",
       "  ('migratorio cubanos', 0.021750108100366646),\n",
       "  ('nicaragua buscando', 0.021750108100366646)],\n",
       " 34: [('trafico', 0.07852123611679321),\n",
       "  ('trafico migrantes', 0.051685915922321475),\n",
       "  ('ninos inmigrantes', 0.03715649293611026),\n",
       "  ('delito', 0.03254588309060868),\n",
       "  ('libertad extorsion', 0.02320496482948816),\n",
       "  ('migrantes iranies', 0.02320496482948816),\n",
       "  ('migrantes casi', 0.02320496482948816),\n",
       "  ('musulmanes condenados', 0.02320496482948816),\n",
       "  ('migrantes cierre', 0.02320496482948816),\n",
       "  ('iranies afganos', 0.02320496482948816)],\n",
       " 35: [('familias', 0.031421698826331286),\n",
       "  ('inmigrantes camara', 0.030298185519724716),\n",
       "  ('mediante cambios', 0.030298185519724716),\n",
       "  ('trasladar debate', 0.030298185519724716),\n",
       "  ('ilegales donald', 0.030298185519724716),\n",
       "  ('votante trump', 0.030298185519724716),\n",
       "  ('jueces inmigracion', 0.030298185519724716),\n",
       "  ('masiva inmigrantes', 0.030298185519724716),\n",
       "  ('khashoggi candidatos', 0.030298185519724716),\n",
       "  ('those migrants', 0.030298185519724716)],\n",
       " 36: [('colombia', 0.04755870865619237),\n",
       "  ('colombianos', 0.04456317929955275),\n",
       "  ('vacunar venezolanos', 0.04234648654563771),\n",
       "  ('venezolanos', 0.034272140206252646),\n",
       "  ('migrantes venezolanos', 0.025372340481640446),\n",
       "  ('mil vacunas', 0.023519608420396475),\n",
       "  ('mundo colombia', 0.023519608420396475),\n",
       "  ('nacional colombiano', 0.023519608420396475),\n",
       "  ('obligacion vacunar', 0.023519608420396475),\n",
       "  ('parte colombia', 0.023519608420396475)],\n",
       " 37: [('colombia', 0.06715753245837434),\n",
       "  ('transitorias', 0.03261674551165307),\n",
       "  ('colombia migracion', 0.03261674551165307),\n",
       "  ('migracion', 0.03175169448461592),\n",
       "  ('migracion colombia', 0.027847095526189917),\n",
       "  ('miseria hambre', 0.018115625284639583),\n",
       "  ('mal colombia', 0.018115625284639583),\n",
       "  ('mas miseria', 0.018115625284639583),\n",
       "  ('medidas colombia', 0.018115625284639583),\n",
       "  ('migrantes xenofobo', 0.018115625284639583)],\n",
       " 38: [('hijo inmigrante', 0.03876136583249699),\n",
       "  ('ninos familias', 0.03876136583249699),\n",
       "  ('inmigrantes acompanados', 0.03876136583249699),\n",
       "  ('ilegal menores', 0.03876136583249699),\n",
       "  ('inmigrantes informe', 0.03876136583249699),\n",
       "  ('llamado violadores', 0.03876136583249699),\n",
       "  ('menores inmigrantes', 0.03876136583249699),\n",
       "  ('menores separados', 0.03876136583249699),\n",
       "  ('mexico reprocha', 0.03876136583249699),\n",
       "  ('migrantes reconocen', 0.03876136583249699)],\n",
       " 39: [('muro frontera', 0.1073409795932074),\n",
       "  ('frontera mexico', 0.10414873040645714),\n",
       "  ('construir muro', 0.08050573469490556),\n",
       "  ('mexico trump', 0.06034885763750302),\n",
       "  ('trump anuncia', 0.06034885763750302),\n",
       "  ('mexico construir', 0.033518282531482896),\n",
       "  ('mexico dice', 0.033518282531482896),\n",
       "  ('mexico frene', 0.033518282531482896),\n",
       "  ('mexico respondio', 0.033518282531482896),\n",
       "  ('ilegales pasan', 0.033518282531482896)],\n",
       " 40: [('haitianos', 0.0813058647596595),\n",
       "  ('haiti', 0.07566085716144595),\n",
       "  ('migrantes haitianos', 0.05647657693982163),\n",
       "  ('haitianos perderan', 0.039199347367327456),\n",
       "  ('haitiano recoger', 0.039199347367327456),\n",
       "  ('haitiano casa', 0.039199347367327456),\n",
       "  ('haitianos poblar', 0.039199347367327456),\n",
       "  ('haiti migrantes', 0.039199347367327456),\n",
       "  ('haiti buenos', 0.039199347367327456),\n",
       "  ('millones haitianos', 0.039199347367327456)],\n",
       " 41: [('si inmigrantes', 0.05101842952359413),\n",
       "  ('migrante norcoreano', 0.030298185519724716),\n",
       "  ('inmigrantes eeuu', 0.030298185519724716),\n",
       "  ('maduro inmigrantes', 0.030298185519724716),\n",
       "  ('mezclaron hicieron', 0.030298185519724716),\n",
       "  ('migrante sabores', 0.030298185519724716),\n",
       "  ('migrantes norcoreanos', 0.030298185519724716),\n",
       "  ('migrantes unicos', 0.030298185519724716),\n",
       "  ('norcoreanos explicaria', 0.030298185519724716),\n",
       "  ('nunca debieron', 0.030298185519724716)],\n",
       " 42: [('guardia nacional', 0.13100108727622092),\n",
       "  ('frontera mexico', 0.05947251639761828),\n",
       "  ('migratoria mexicana', 0.04785023782080662),\n",
       "  ('mexico descarta', 0.04785023782080662),\n",
       "  ('mexico protestan', 0.04785023782080662),\n",
       "  ('mexico nacional', 0.04785023782080662),\n",
       "  ('mexico insiste', 0.04785023782080662),\n",
       "  ('mexico disolver', 0.04785023782080662),\n",
       "  ('mexico cumpliendo', 0.04785023782080662),\n",
       "  ('mexicana narrativa', 0.04785023782080662)],\n",
       " 43: [('mundial sida', 0.03197366121666802),\n",
       "  ('interseccional migrantes', 0.03197366121666802),\n",
       "  ('segunda pandemia', 0.03197366121666802),\n",
       "  ('humanitarios continuen', 0.03197366121666802),\n",
       "  ('migracion nube', 0.03197366121666802),\n",
       "  ('migracion perdidas', 0.03197366121666802),\n",
       "  ('zuniga', 0.03197366121666802),\n",
       "  ('migrantes mundo', 0.03197366121666802),\n",
       "  ('migratorio contexto', 0.03197366121666802),\n",
       "  ('impulsor riesgo', 0.03197366121666802)],\n",
       " 44: [('humanos migrantes', 0.0947521717378998),\n",
       "  ('derechos humanos', 0.09385813198098526),\n",
       "  ('respeto derechos', 0.0789795596295993),\n",
       "  ('informacion ciudadanos', 0.03288286485316095),\n",
       "  ('migrantes derecho', 0.03288286485316095),\n",
       "  ('migrantes cultura', 0.03288286485316095),\n",
       "  ('migrantes trata', 0.03288286485316095),\n",
       "  ('migrantes world', 0.03288286485316095),\n",
       "  ('migratoria permitira', 0.03288286485316095),\n",
       "  ('migratorias soberano', 0.03288286485316095)],\n",
       " 45: [('coronavirus', 0.14887425300310708),\n",
       "  ('viajeros sudafrica', 0.04575902392294185),\n",
       "  ('variante viajeros', 0.04575902392294185),\n",
       "  ('casos variante', 0.04575902392294185),\n",
       "  ('panama mismo', 0.025414961479915604),\n",
       "  ('paises coronavirus', 0.025414961479915604),\n",
       "  ('omicron dinamarca', 0.025414961479915604),\n",
       "  ('pasajero enfermo', 0.025414961479915604),\n",
       "  ('peor adultos', 0.025414961479915604),\n",
       "  ('personas coronavirus', 0.025414961479915604)],\n",
       " 46: [('virus', 0.05945636742426082),\n",
       "  ('fronteras', 0.02438537565557665),\n",
       "  ('cerrar', 0.023541307233054018),\n",
       "  ('gente volviendo', 0.023519608420396475),\n",
       "  ('incierto primer', 0.023519608420396475),\n",
       "  ('gente ver', 0.023519608420396475),\n",
       "  ('historias virus', 0.023519608420396475),\n",
       "  ('sabia virus', 0.023519608420396475),\n",
       "  ('ife migrantes', 0.023519608420396475),\n",
       "  ('impedir gente', 0.023519608420396475)],\n",
       " 47: [('venezuela pueblo', 0.039911225338540336),\n",
       "  ('colombia', 0.03735308587214257),\n",
       "  ('pais aqui', 0.03732658262269347),\n",
       "  ('venezolanos', 0.03691567817743324),\n",
       "  ('vinieron', 0.03109015669038976),\n",
       "  ('pueblo', 0.026328887327887032),\n",
       "  ('mayoria', 0.022778446041175446),\n",
       "  ('pais denles', 0.02216704307992639),\n",
       "  ('pasa senora', 0.02216704307992639),\n",
       "  ('porq buenesito', 0.02216704307992639)],\n",
       " 48: [('frontera unidos', 0.0679666960849957),\n",
       "  ('mexico abrira', 0.06093762698030793),\n",
       "  ('reapertura frontera', 0.06093762698030793),\n",
       "  ('unidos mexico', 0.050257199547232914),\n",
       "  ('mexicanos', 0.04019971577379825),\n",
       "  ('fuente sdpnoticias', 0.03384529016593639),\n",
       "  ('mexico si', 0.03384529016593639),\n",
       "  ('migrantes accedan', 0.03384529016593639),\n",
       "  ('necesitan vacunados', 0.03384529016593639),\n",
       "  ('municipio fronterizo', 0.03384529016593639)],\n",
       " 49: [('enfermo mental', 0.06093762698030793),\n",
       "  ('extrema sindrome', 0.03384529016593639),\n",
       "  ('inmigrante sindrome', 0.03384529016593639),\n",
       "  ('extranjeros mentales', 0.03384529016593639),\n",
       "  ('trump extranjeros', 0.03384529016593639),\n",
       "  ('inmigrantes viviendo', 0.03384529016593639),\n",
       "  ('lewandowski exasistente', 0.03384529016593639),\n",
       "  ('situacion emocional', 0.03384529016593639),\n",
       "  ('literalmente bloqueo', 0.03384529016593639),\n",
       "  ('gran deshumanizacion', 0.03384529016593639)],\n",
       " 50: [('peruanos', 0.07338078864788168),\n",
       "  ('peruanos mas', 0.04534826460141804),\n",
       "  ('migrantes debido', 0.04534826460141804),\n",
       "  ('pedian visa', 0.04534826460141804),\n",
       "  ('lapatriabo', 0.04534826460141804),\n",
       "  ('resultados peruana', 0.04534826460141804),\n",
       "  ('migratorio sr', 0.04534826460141804),\n",
       "  ('pony inmigrante', 0.04534826460141804),\n",
       "  ('quieren peruanos', 0.04534826460141804),\n",
       "  ('migratorio quieren', 0.04534826460141804)],\n",
       " 51: [('inmigracion ilegal', 0.12327237377700533),\n",
       "  ('invasion pasiva', 0.05830491163039462),\n",
       "  ('social inmigracion', 0.05830491163039462),\n",
       "  ('parando inmigracion', 0.05830491163039462),\n",
       "  ('ilegal cada', 0.05830491163039462),\n",
       "  ('migrantes claro', 0.05830491163039462),\n",
       "  ('interpreta legislacion', 0.05830491163039462),\n",
       "  ('ilegal inmediata', 0.05830491163039462),\n",
       "  ('ilegal ilegal', 0.05830491163039462),\n",
       "  ('ilegal debe', 0.05830491163039462)],\n",
       " 52: [('educacion', 0.03919317214465293),\n",
       "  ('lgbt feminismo', 0.029275461957877467),\n",
       "  ('introducir inmigrantes', 0.029275461957877467),\n",
       "  ('mantienen escuelas', 0.029275461957877467),\n",
       "  ('maestros consideran', 0.029275461957877467),\n",
       "  ('mas conflictivos', 0.029275461957877467),\n",
       "  ('mas oportunidades', 0.029275461957877467),\n",
       "  ('medida liberal', 0.029275461957877467),\n",
       "  ('mentiroso posibilidad', 0.029275461957877467),\n",
       "  ('idiomas diferentes', 0.029275461957877467)],\n",
       " 53: [('violador', 0.06093762698030793),\n",
       "  ('feminismo', 0.04746936119069266),\n",
       "  ('igual agresiones', 0.03384529016593639),\n",
       "  ('minoria migrantes', 0.03384529016593639),\n",
       "  ('mujer genetica', 0.03384529016593639),\n",
       "  ('mujer gritando', 0.03384529016593639),\n",
       "  ('mujer musulmanes', 0.03384529016593639),\n",
       "  ('mujeres biologicas', 0.03384529016593639),\n",
       "  ('mujeres parte', 0.03384529016593639),\n",
       "  ('musulmanes provenientes', 0.03384529016593639)],\n",
       " 54: [('economia', 0.04630739565862164),\n",
       "  ('inmigracion economia', 0.04105493777524828),\n",
       "  ('migratoria monton', 0.04105493777524828),\n",
       "  ('empleo migracion', 0.04105493777524828),\n",
       "  ('medidas necesarias', 0.04105493777524828),\n",
       "  ('inmigrantes reciban', 0.04105493777524828),\n",
       "  ('inmigracion gente', 0.04105493777524828),\n",
       "  ('impuestos tambien', 0.04105493777524828),\n",
       "  ('formalmente mercado', 0.04105493777524828),\n",
       "  ('seguridad economia', 0.04105493777524828)],\n",
       " 55: [('vacuna', 0.07349006308724976),\n",
       "  ('argentina', 0.06811620849695234),\n",
       "  ('trayendo infectados', 0.03876136583249699),\n",
       "  ('dosis vacuna', 0.03876136583249699),\n",
       "  ('vacunacion completo', 0.03876136583249699),\n",
       "  ('igual brasil', 0.03876136583249699),\n",
       "  ('vacuna coronavirus', 0.03876136583249699),\n",
       "  ('vacuna gratis', 0.03876136583249699),\n",
       "  ('vacuna politicos', 0.03876136583249699),\n",
       "  ('egoista vacunas', 0.03876136583249699)]}"
      ]
     },
     "execution_count": 60,
     "metadata": {},
     "output_type": "execute_result"
    }
   ],
   "source": [
    "#get top 10 words per topic\n",
    "topic_model.get_topics()"
   ]
  },
  {
   "cell_type": "code",
   "execution_count": 16,
   "id": "c3d57826",
   "metadata": {},
   "outputs": [
    {
     "name": "stderr",
     "output_type": "stream",
     "text": [
      "/opt/conda/lib/python3.8/site-packages/scipy/sparse/_index.py:125: SparseEfficiencyWarning: Changing the sparsity structure of a csr_matrix is expensive. lil_matrix is more efficient.\n",
      "  self._set_arrayXarray(i, j, x)\n"
     ]
    }
   ],
   "source": [
    "#save model\n",
    "topic_model.save(\"bertopic_20news.model\")"
   ]
  },
  {
   "cell_type": "code",
   "execution_count": 61,
   "id": "8ee96e18",
   "metadata": {},
   "outputs": [
    {
     "data": {
      "application/vnd.plotly.v1+json": {
       "config": {
        "plotlyServerURL": "https://plot.ly"
       },
       "data": [
        {
         "marker": {
          "color": "#D55E00"
         },
         "orientation": "h",
         "type": "bar",
         "x": [
          0.0093921272643424,
          0.009452647062884836,
          0.012760919570526767,
          0.018753123563003904,
          0.032568576707118525
         ],
         "xaxis": "x",
         "y": [
          "migracion venezolana  ",
          "inmigrantes venezolanos  ",
          "venezolana  ",
          "migrantes venezolanos  ",
          "venezolanos  "
         ],
         "yaxis": "y"
        },
        {
         "marker": {
          "color": "#0072B2"
         },
         "orientation": "h",
         "type": "bar",
         "x": [
          0.010374433948925368,
          0.012064615198286865,
          0.012926353832764853,
          0.013977109824690194,
          0.0257993974090455
         ],
         "xaxis": "x2",
         "y": [
          "pensiones  ",
          "trabajadores  ",
          "desempleo  ",
          "empleo  ",
          "trabajo  "
         ],
         "yaxis": "y2"
        },
        {
         "marker": {
          "color": "#CC79A7"
         },
         "orientation": "h",
         "type": "bar",
         "x": [
          0.01715396537181099,
          0.02826953594090448,
          0.028554685025346527,
          0.05692876524567023,
          0.0791902812575231
         ],
         "xaxis": "x3",
         "y": [
          "blancos  ",
          "racismo  ",
          "negros  ",
          "racistas  ",
          "racista  "
         ],
         "yaxis": "y3"
        },
        {
         "marker": {
          "color": "#E69F00"
         },
         "orientation": "h",
         "type": "bar",
         "x": [
          0.009777628883874897,
          0.010432662174145126,
          0.015328022769443474,
          0.030632348863802693,
          0.0443652652523267
         ],
         "xaxis": "x4",
         "y": [
          "chileno  ",
          "argentina  ",
          "uruguay  ",
          "chilenos  ",
          "chile  "
         ],
         "yaxis": "y4"
        },
        {
         "marker": {
          "color": "#56B4E9"
         },
         "orientation": "h",
         "type": "bar",
         "x": [
          0.011952772477126021,
          0.014173338985422907,
          0.018469329264520773,
          0.019156700550636792,
          0.020943229030577687
         ],
         "xaxis": "x5",
         "y": [
          "familias  ",
          "apoyo migrantes  ",
          "migracion  ",
          "migrantes  ",
          "apoyo  "
         ],
         "yaxis": "y5"
        },
        {
         "marker": {
          "color": "#009E73"
         },
         "orientation": "h",
         "type": "bar",
         "x": [
          0.011066587237405605,
          0.02213317447481121,
          0.027169623788623858,
          0.03004282943385154,
          0.03034987287151255
         ],
         "xaxis": "x6",
         "y": [
          "inmigrante ilegal  ",
          "inmigrantes delincuentes  ",
          "delincuentes  ",
          "ilegales  ",
          "inmigrantes ilegales  "
         ],
         "yaxis": "y6"
        },
        {
         "marker": {
          "color": "#F0E442"
         },
         "orientation": "h",
         "type": "bar",
         "x": [
          0.014383584855190729,
          0.015321652063977636,
          0.015974400687477817,
          0.016027398789979344,
          0.017281224006464452
         ],
         "xaxis": "x7",
         "y": [
          "migratorio  ",
          "gobierno  ",
          "pacto migratorio  ",
          "pacto  ",
          "migracion  "
         ],
         "yaxis": "y7"
        },
        {
         "marker": {
          "color": "#D55E00"
         },
         "orientation": "h",
         "type": "bar",
         "x": [
          0.012144719709878439,
          0.013021983681689523,
          0.026071558767474558,
          0.03661501898184525,
          0.04203859193698349
         ],
         "xaxis": "x8",
         "y": [
          "mas delincuentes  ",
          "venezolano  ",
          "venezolanos delincuentes  ",
          "delincuentes venezolanos  ",
          "venezolanos  "
         ],
         "yaxis": "y8"
        }
       ],
       "layout": {
        "annotations": [
         {
          "font": {
           "size": 16
          },
          "showarrow": false,
          "text": "Topic 0",
          "x": 0.0875,
          "xanchor": "center",
          "xref": "paper",
          "y": 1,
          "yanchor": "bottom",
          "yref": "paper"
         },
         {
          "font": {
           "size": 16
          },
          "showarrow": false,
          "text": "Topic 1",
          "x": 0.36250000000000004,
          "xanchor": "center",
          "xref": "paper",
          "y": 1,
          "yanchor": "bottom",
          "yref": "paper"
         },
         {
          "font": {
           "size": 16
          },
          "showarrow": false,
          "text": "Topic 2",
          "x": 0.6375000000000001,
          "xanchor": "center",
          "xref": "paper",
          "y": 1,
          "yanchor": "bottom",
          "yref": "paper"
         },
         {
          "font": {
           "size": 16
          },
          "showarrow": false,
          "text": "Topic 3",
          "x": 0.9125,
          "xanchor": "center",
          "xref": "paper",
          "y": 1,
          "yanchor": "bottom",
          "yref": "paper"
         },
         {
          "font": {
           "size": 16
          },
          "showarrow": false,
          "text": "Topic 4",
          "x": 0.0875,
          "xanchor": "center",
          "xref": "paper",
          "y": 0.4,
          "yanchor": "bottom",
          "yref": "paper"
         },
         {
          "font": {
           "size": 16
          },
          "showarrow": false,
          "text": "Topic 5",
          "x": 0.36250000000000004,
          "xanchor": "center",
          "xref": "paper",
          "y": 0.4,
          "yanchor": "bottom",
          "yref": "paper"
         },
         {
          "font": {
           "size": 16
          },
          "showarrow": false,
          "text": "Topic 6",
          "x": 0.6375000000000001,
          "xanchor": "center",
          "xref": "paper",
          "y": 0.4,
          "yanchor": "bottom",
          "yref": "paper"
         },
         {
          "font": {
           "size": 16
          },
          "showarrow": false,
          "text": "Topic 7",
          "x": 0.9125,
          "xanchor": "center",
          "xref": "paper",
          "y": 0.4,
          "yanchor": "bottom",
          "yref": "paper"
         }
        ],
        "height": 500,
        "hoverlabel": {
         "bgcolor": "white",
         "font": {
          "family": "Rockwell",
          "size": 16
         }
        },
        "showlegend": false,
        "template": {
         "data": {
          "bar": [
           {
            "error_x": {
             "color": "#2a3f5f"
            },
            "error_y": {
             "color": "#2a3f5f"
            },
            "marker": {
             "line": {
              "color": "white",
              "width": 0.5
             },
             "pattern": {
              "fillmode": "overlay",
              "size": 10,
              "solidity": 0.2
             }
            },
            "type": "bar"
           }
          ],
          "barpolar": [
           {
            "marker": {
             "line": {
              "color": "white",
              "width": 0.5
             },
             "pattern": {
              "fillmode": "overlay",
              "size": 10,
              "solidity": 0.2
             }
            },
            "type": "barpolar"
           }
          ],
          "carpet": [
           {
            "aaxis": {
             "endlinecolor": "#2a3f5f",
             "gridcolor": "#C8D4E3",
             "linecolor": "#C8D4E3",
             "minorgridcolor": "#C8D4E3",
             "startlinecolor": "#2a3f5f"
            },
            "baxis": {
             "endlinecolor": "#2a3f5f",
             "gridcolor": "#C8D4E3",
             "linecolor": "#C8D4E3",
             "minorgridcolor": "#C8D4E3",
             "startlinecolor": "#2a3f5f"
            },
            "type": "carpet"
           }
          ],
          "choropleth": [
           {
            "colorbar": {
             "outlinewidth": 0,
             "ticks": ""
            },
            "type": "choropleth"
           }
          ],
          "contour": [
           {
            "colorbar": {
             "outlinewidth": 0,
             "ticks": ""
            },
            "colorscale": [
             [
              0,
              "#0d0887"
             ],
             [
              0.1111111111111111,
              "#46039f"
             ],
             [
              0.2222222222222222,
              "#7201a8"
             ],
             [
              0.3333333333333333,
              "#9c179e"
             ],
             [
              0.4444444444444444,
              "#bd3786"
             ],
             [
              0.5555555555555556,
              "#d8576b"
             ],
             [
              0.6666666666666666,
              "#ed7953"
             ],
             [
              0.7777777777777778,
              "#fb9f3a"
             ],
             [
              0.8888888888888888,
              "#fdca26"
             ],
             [
              1,
              "#f0f921"
             ]
            ],
            "type": "contour"
           }
          ],
          "contourcarpet": [
           {
            "colorbar": {
             "outlinewidth": 0,
             "ticks": ""
            },
            "type": "contourcarpet"
           }
          ],
          "heatmap": [
           {
            "colorbar": {
             "outlinewidth": 0,
             "ticks": ""
            },
            "colorscale": [
             [
              0,
              "#0d0887"
             ],
             [
              0.1111111111111111,
              "#46039f"
             ],
             [
              0.2222222222222222,
              "#7201a8"
             ],
             [
              0.3333333333333333,
              "#9c179e"
             ],
             [
              0.4444444444444444,
              "#bd3786"
             ],
             [
              0.5555555555555556,
              "#d8576b"
             ],
             [
              0.6666666666666666,
              "#ed7953"
             ],
             [
              0.7777777777777778,
              "#fb9f3a"
             ],
             [
              0.8888888888888888,
              "#fdca26"
             ],
             [
              1,
              "#f0f921"
             ]
            ],
            "type": "heatmap"
           }
          ],
          "heatmapgl": [
           {
            "colorbar": {
             "outlinewidth": 0,
             "ticks": ""
            },
            "colorscale": [
             [
              0,
              "#0d0887"
             ],
             [
              0.1111111111111111,
              "#46039f"
             ],
             [
              0.2222222222222222,
              "#7201a8"
             ],
             [
              0.3333333333333333,
              "#9c179e"
             ],
             [
              0.4444444444444444,
              "#bd3786"
             ],
             [
              0.5555555555555556,
              "#d8576b"
             ],
             [
              0.6666666666666666,
              "#ed7953"
             ],
             [
              0.7777777777777778,
              "#fb9f3a"
             ],
             [
              0.8888888888888888,
              "#fdca26"
             ],
             [
              1,
              "#f0f921"
             ]
            ],
            "type": "heatmapgl"
           }
          ],
          "histogram": [
           {
            "marker": {
             "pattern": {
              "fillmode": "overlay",
              "size": 10,
              "solidity": 0.2
             }
            },
            "type": "histogram"
           }
          ],
          "histogram2d": [
           {
            "colorbar": {
             "outlinewidth": 0,
             "ticks": ""
            },
            "colorscale": [
             [
              0,
              "#0d0887"
             ],
             [
              0.1111111111111111,
              "#46039f"
             ],
             [
              0.2222222222222222,
              "#7201a8"
             ],
             [
              0.3333333333333333,
              "#9c179e"
             ],
             [
              0.4444444444444444,
              "#bd3786"
             ],
             [
              0.5555555555555556,
              "#d8576b"
             ],
             [
              0.6666666666666666,
              "#ed7953"
             ],
             [
              0.7777777777777778,
              "#fb9f3a"
             ],
             [
              0.8888888888888888,
              "#fdca26"
             ],
             [
              1,
              "#f0f921"
             ]
            ],
            "type": "histogram2d"
           }
          ],
          "histogram2dcontour": [
           {
            "colorbar": {
             "outlinewidth": 0,
             "ticks": ""
            },
            "colorscale": [
             [
              0,
              "#0d0887"
             ],
             [
              0.1111111111111111,
              "#46039f"
             ],
             [
              0.2222222222222222,
              "#7201a8"
             ],
             [
              0.3333333333333333,
              "#9c179e"
             ],
             [
              0.4444444444444444,
              "#bd3786"
             ],
             [
              0.5555555555555556,
              "#d8576b"
             ],
             [
              0.6666666666666666,
              "#ed7953"
             ],
             [
              0.7777777777777778,
              "#fb9f3a"
             ],
             [
              0.8888888888888888,
              "#fdca26"
             ],
             [
              1,
              "#f0f921"
             ]
            ],
            "type": "histogram2dcontour"
           }
          ],
          "mesh3d": [
           {
            "colorbar": {
             "outlinewidth": 0,
             "ticks": ""
            },
            "type": "mesh3d"
           }
          ],
          "parcoords": [
           {
            "line": {
             "colorbar": {
              "outlinewidth": 0,
              "ticks": ""
             }
            },
            "type": "parcoords"
           }
          ],
          "pie": [
           {
            "automargin": true,
            "type": "pie"
           }
          ],
          "scatter": [
           {
            "fillpattern": {
             "fillmode": "overlay",
             "size": 10,
             "solidity": 0.2
            },
            "type": "scatter"
           }
          ],
          "scatter3d": [
           {
            "line": {
             "colorbar": {
              "outlinewidth": 0,
              "ticks": ""
             }
            },
            "marker": {
             "colorbar": {
              "outlinewidth": 0,
              "ticks": ""
             }
            },
            "type": "scatter3d"
           }
          ],
          "scattercarpet": [
           {
            "marker": {
             "colorbar": {
              "outlinewidth": 0,
              "ticks": ""
             }
            },
            "type": "scattercarpet"
           }
          ],
          "scattergeo": [
           {
            "marker": {
             "colorbar": {
              "outlinewidth": 0,
              "ticks": ""
             }
            },
            "type": "scattergeo"
           }
          ],
          "scattergl": [
           {
            "marker": {
             "colorbar": {
              "outlinewidth": 0,
              "ticks": ""
             }
            },
            "type": "scattergl"
           }
          ],
          "scattermapbox": [
           {
            "marker": {
             "colorbar": {
              "outlinewidth": 0,
              "ticks": ""
             }
            },
            "type": "scattermapbox"
           }
          ],
          "scatterpolar": [
           {
            "marker": {
             "colorbar": {
              "outlinewidth": 0,
              "ticks": ""
             }
            },
            "type": "scatterpolar"
           }
          ],
          "scatterpolargl": [
           {
            "marker": {
             "colorbar": {
              "outlinewidth": 0,
              "ticks": ""
             }
            },
            "type": "scatterpolargl"
           }
          ],
          "scatterternary": [
           {
            "marker": {
             "colorbar": {
              "outlinewidth": 0,
              "ticks": ""
             }
            },
            "type": "scatterternary"
           }
          ],
          "surface": [
           {
            "colorbar": {
             "outlinewidth": 0,
             "ticks": ""
            },
            "colorscale": [
             [
              0,
              "#0d0887"
             ],
             [
              0.1111111111111111,
              "#46039f"
             ],
             [
              0.2222222222222222,
              "#7201a8"
             ],
             [
              0.3333333333333333,
              "#9c179e"
             ],
             [
              0.4444444444444444,
              "#bd3786"
             ],
             [
              0.5555555555555556,
              "#d8576b"
             ],
             [
              0.6666666666666666,
              "#ed7953"
             ],
             [
              0.7777777777777778,
              "#fb9f3a"
             ],
             [
              0.8888888888888888,
              "#fdca26"
             ],
             [
              1,
              "#f0f921"
             ]
            ],
            "type": "surface"
           }
          ],
          "table": [
           {
            "cells": {
             "fill": {
              "color": "#EBF0F8"
             },
             "line": {
              "color": "white"
             }
            },
            "header": {
             "fill": {
              "color": "#C8D4E3"
             },
             "line": {
              "color": "white"
             }
            },
            "type": "table"
           }
          ]
         },
         "layout": {
          "annotationdefaults": {
           "arrowcolor": "#2a3f5f",
           "arrowhead": 0,
           "arrowwidth": 1
          },
          "autotypenumbers": "strict",
          "coloraxis": {
           "colorbar": {
            "outlinewidth": 0,
            "ticks": ""
           }
          },
          "colorscale": {
           "diverging": [
            [
             0,
             "#8e0152"
            ],
            [
             0.1,
             "#c51b7d"
            ],
            [
             0.2,
             "#de77ae"
            ],
            [
             0.3,
             "#f1b6da"
            ],
            [
             0.4,
             "#fde0ef"
            ],
            [
             0.5,
             "#f7f7f7"
            ],
            [
             0.6,
             "#e6f5d0"
            ],
            [
             0.7,
             "#b8e186"
            ],
            [
             0.8,
             "#7fbc41"
            ],
            [
             0.9,
             "#4d9221"
            ],
            [
             1,
             "#276419"
            ]
           ],
           "sequential": [
            [
             0,
             "#0d0887"
            ],
            [
             0.1111111111111111,
             "#46039f"
            ],
            [
             0.2222222222222222,
             "#7201a8"
            ],
            [
             0.3333333333333333,
             "#9c179e"
            ],
            [
             0.4444444444444444,
             "#bd3786"
            ],
            [
             0.5555555555555556,
             "#d8576b"
            ],
            [
             0.6666666666666666,
             "#ed7953"
            ],
            [
             0.7777777777777778,
             "#fb9f3a"
            ],
            [
             0.8888888888888888,
             "#fdca26"
            ],
            [
             1,
             "#f0f921"
            ]
           ],
           "sequentialminus": [
            [
             0,
             "#0d0887"
            ],
            [
             0.1111111111111111,
             "#46039f"
            ],
            [
             0.2222222222222222,
             "#7201a8"
            ],
            [
             0.3333333333333333,
             "#9c179e"
            ],
            [
             0.4444444444444444,
             "#bd3786"
            ],
            [
             0.5555555555555556,
             "#d8576b"
            ],
            [
             0.6666666666666666,
             "#ed7953"
            ],
            [
             0.7777777777777778,
             "#fb9f3a"
            ],
            [
             0.8888888888888888,
             "#fdca26"
            ],
            [
             1,
             "#f0f921"
            ]
           ]
          },
          "colorway": [
           "#636efa",
           "#EF553B",
           "#00cc96",
           "#ab63fa",
           "#FFA15A",
           "#19d3f3",
           "#FF6692",
           "#B6E880",
           "#FF97FF",
           "#FECB52"
          ],
          "font": {
           "color": "#2a3f5f"
          },
          "geo": {
           "bgcolor": "white",
           "lakecolor": "white",
           "landcolor": "white",
           "showlakes": true,
           "showland": true,
           "subunitcolor": "#C8D4E3"
          },
          "hoverlabel": {
           "align": "left"
          },
          "hovermode": "closest",
          "mapbox": {
           "style": "light"
          },
          "paper_bgcolor": "white",
          "plot_bgcolor": "white",
          "polar": {
           "angularaxis": {
            "gridcolor": "#EBF0F8",
            "linecolor": "#EBF0F8",
            "ticks": ""
           },
           "bgcolor": "white",
           "radialaxis": {
            "gridcolor": "#EBF0F8",
            "linecolor": "#EBF0F8",
            "ticks": ""
           }
          },
          "scene": {
           "xaxis": {
            "backgroundcolor": "white",
            "gridcolor": "#DFE8F3",
            "gridwidth": 2,
            "linecolor": "#EBF0F8",
            "showbackground": true,
            "ticks": "",
            "zerolinecolor": "#EBF0F8"
           },
           "yaxis": {
            "backgroundcolor": "white",
            "gridcolor": "#DFE8F3",
            "gridwidth": 2,
            "linecolor": "#EBF0F8",
            "showbackground": true,
            "ticks": "",
            "zerolinecolor": "#EBF0F8"
           },
           "zaxis": {
            "backgroundcolor": "white",
            "gridcolor": "#DFE8F3",
            "gridwidth": 2,
            "linecolor": "#EBF0F8",
            "showbackground": true,
            "ticks": "",
            "zerolinecolor": "#EBF0F8"
           }
          },
          "shapedefaults": {
           "line": {
            "color": "#2a3f5f"
           }
          },
          "ternary": {
           "aaxis": {
            "gridcolor": "#DFE8F3",
            "linecolor": "#A2B1C6",
            "ticks": ""
           },
           "baxis": {
            "gridcolor": "#DFE8F3",
            "linecolor": "#A2B1C6",
            "ticks": ""
           },
           "bgcolor": "white",
           "caxis": {
            "gridcolor": "#DFE8F3",
            "linecolor": "#A2B1C6",
            "ticks": ""
           }
          },
          "title": {
           "x": 0.05
          },
          "xaxis": {
           "automargin": true,
           "gridcolor": "#EBF0F8",
           "linecolor": "#EBF0F8",
           "ticks": "",
           "title": {
            "standoff": 15
           },
           "zerolinecolor": "#EBF0F8",
           "zerolinewidth": 2
          },
          "yaxis": {
           "automargin": true,
           "gridcolor": "#EBF0F8",
           "linecolor": "#EBF0F8",
           "ticks": "",
           "title": {
            "standoff": 15
           },
           "zerolinecolor": "#EBF0F8",
           "zerolinewidth": 2
          }
         }
        },
        "title": {
         "font": {
          "color": "Black",
          "size": 22
         },
         "text": "<b>Topic Word Scores",
         "x": 0.5,
         "xanchor": "center",
         "yanchor": "top"
        },
        "width": 1000,
        "xaxis": {
         "anchor": "y",
         "domain": [
          0,
          0.175
         ],
         "showgrid": true
        },
        "xaxis2": {
         "anchor": "y2",
         "domain": [
          0.275,
          0.45
         ],
         "showgrid": true
        },
        "xaxis3": {
         "anchor": "y3",
         "domain": [
          0.55,
          0.7250000000000001
         ],
         "showgrid": true
        },
        "xaxis4": {
         "anchor": "y4",
         "domain": [
          0.825,
          1
         ],
         "showgrid": true
        },
        "xaxis5": {
         "anchor": "y5",
         "domain": [
          0,
          0.175
         ],
         "showgrid": true
        },
        "xaxis6": {
         "anchor": "y6",
         "domain": [
          0.275,
          0.45
         ],
         "showgrid": true
        },
        "xaxis7": {
         "anchor": "y7",
         "domain": [
          0.55,
          0.7250000000000001
         ],
         "showgrid": true
        },
        "xaxis8": {
         "anchor": "y8",
         "domain": [
          0.825,
          1
         ],
         "showgrid": true
        },
        "yaxis": {
         "anchor": "x",
         "domain": [
          0.6000000000000001,
          1
         ],
         "showgrid": true
        },
        "yaxis2": {
         "anchor": "x2",
         "domain": [
          0.6000000000000001,
          1
         ],
         "showgrid": true
        },
        "yaxis3": {
         "anchor": "x3",
         "domain": [
          0.6000000000000001,
          1
         ],
         "showgrid": true
        },
        "yaxis4": {
         "anchor": "x4",
         "domain": [
          0.6000000000000001,
          1
         ],
         "showgrid": true
        },
        "yaxis5": {
         "anchor": "x5",
         "domain": [
          0,
          0.4
         ],
         "showgrid": true
        },
        "yaxis6": {
         "anchor": "x6",
         "domain": [
          0,
          0.4
         ],
         "showgrid": true
        },
        "yaxis7": {
         "anchor": "x7",
         "domain": [
          0,
          0.4
         ],
         "showgrid": true
        },
        "yaxis8": {
         "anchor": "x8",
         "domain": [
          0,
          0.4
         ],
         "showgrid": true
        }
       }
      }
     },
     "metadata": {},
     "output_type": "display_data"
    }
   ],
   "source": [
    "topic_model.visualize_barchart()"
   ]
  },
  {
   "cell_type": "code",
   "execution_count": 63,
   "id": "1a511235",
   "metadata": {},
   "outputs": [
    {
     "data": {
      "application/vnd.plotly.v1+json": {
       "config": {
        "plotlyServerURL": "https://plot.ly"
       },
       "data": [
        {
         "hoverinfo": "text",
         "marker": {
          "color": "rgb(0,116,217)"
         },
         "mode": "lines",
         "type": "scatter",
         "x": [
          0,
          1.2104922199349328,
          1.2104922199349328,
          0
         ],
         "xaxis": "x",
         "y": [
          -15,
          -15,
          -25,
          -25
         ],
         "yaxis": "y"
        },
        {
         "hoverinfo": "text",
         "marker": {
          "color": "rgb(0,116,217)"
         },
         "mode": "lines",
         "type": "scatter",
         "x": [
          0,
          1.249773274955263,
          1.249773274955263,
          0
         ],
         "xaxis": "x",
         "y": [
          -35,
          -35,
          -45,
          -45
         ],
         "yaxis": "y"
        },
        {
         "hoverinfo": "text",
         "marker": {
          "color": "rgb(0,116,217)"
         },
         "mode": "lines",
         "type": "scatter",
         "x": [
          1.2104922199349328,
          1.3024961211134545,
          1.3024961211134545,
          1.249773274955263
         ],
         "xaxis": "x",
         "y": [
          -20,
          -20,
          -40,
          -40
         ],
         "yaxis": "y"
        },
        {
         "hoverinfo": "text",
         "marker": {
          "color": "rgb(0,116,217)"
         },
         "mode": "lines",
         "type": "scatter",
         "x": [
          1.3024961211134545,
          1.314577687926609,
          1.314577687926609,
          0
         ],
         "xaxis": "x",
         "y": [
          -30,
          -30,
          -55,
          -55
         ],
         "yaxis": "y"
        },
        {
         "hoverinfo": "text",
         "marker": {
          "color": "rgb(0,116,217)"
         },
         "mode": "lines",
         "type": "scatter",
         "x": [
          0,
          1.3592312410080143,
          1.3592312410080143,
          1.314577687926609
         ],
         "xaxis": "x",
         "y": [
          -5,
          -5,
          -42.5,
          -42.5
         ],
         "yaxis": "y"
        },
        {
         "hoverinfo": "text",
         "marker": {
          "color": "rgb(0,116,217)"
         },
         "mode": "lines",
         "type": "scatter",
         "x": [
          0,
          1.3587333173348806,
          1.3587333173348806,
          0
         ],
         "xaxis": "x",
         "y": [
          -65,
          -65,
          -75,
          -75
         ],
         "yaxis": "y"
        },
        {
         "hoverinfo": "text",
         "marker": {
          "color": "rgb(0,116,217)"
         },
         "mode": "lines",
         "type": "scatter",
         "x": [
          1.3587333173348806,
          1.3724437913030698,
          1.3724437913030698,
          0
         ],
         "xaxis": "x",
         "y": [
          -70,
          -70,
          -85,
          -85
         ],
         "yaxis": "y"
        },
        {
         "hoverinfo": "text",
         "marker": {
          "color": "rgb(0,116,217)"
         },
         "mode": "lines",
         "type": "scatter",
         "x": [
          1.3592312410080143,
          1.4219489832436607,
          1.4219489832436607,
          1.3724437913030698
         ],
         "xaxis": "x",
         "y": [
          -23.75,
          -23.75,
          -77.5,
          -77.5
         ],
         "yaxis": "y"
        },
        {
         "hoverinfo": "text",
         "marker": {
          "color": "rgb(0,116,217)"
         },
         "mode": "lines",
         "type": "scatter",
         "x": [
          0,
          1.2853918978067378,
          1.2853918978067378,
          0
         ],
         "xaxis": "x",
         "y": [
          -105,
          -105,
          -115,
          -115
         ],
         "yaxis": "y"
        },
        {
         "hoverinfo": "text",
         "marker": {
          "color": "rgb(0,116,217)"
         },
         "mode": "lines",
         "type": "scatter",
         "x": [
          0,
          1.3886127482108968,
          1.3886127482108968,
          1.2853918978067378
         ],
         "xaxis": "x",
         "y": [
          -95,
          -95,
          -110,
          -110
         ],
         "yaxis": "y"
        },
        {
         "hoverinfo": "text",
         "marker": {
          "color": "rgb(0,116,217)"
         },
         "mode": "lines",
         "type": "scatter",
         "x": [
          0,
          1.2361481198245063,
          1.2361481198245063,
          0
         ],
         "xaxis": "x",
         "y": [
          -125,
          -125,
          -135,
          -135
         ],
         "yaxis": "y"
        },
        {
         "hoverinfo": "text",
         "marker": {
          "color": "rgb(0,116,217)"
         },
         "mode": "lines",
         "type": "scatter",
         "x": [
          0,
          1.3304743506474699,
          1.3304743506474699,
          0
         ],
         "xaxis": "x",
         "y": [
          -145,
          -145,
          -155,
          -155
         ],
         "yaxis": "y"
        },
        {
         "hoverinfo": "text",
         "marker": {
          "color": "rgb(0,116,217)"
         },
         "mode": "lines",
         "type": "scatter",
         "x": [
          1.2361481198245063,
          1.3681004024475112,
          1.3681004024475112,
          1.3304743506474699
         ],
         "xaxis": "x",
         "y": [
          -130,
          -130,
          -150,
          -150
         ],
         "yaxis": "y"
        },
        {
         "hoverinfo": "text",
         "marker": {
          "color": "rgb(0,116,217)"
         },
         "mode": "lines",
         "type": "scatter",
         "x": [
          1.3886127482108968,
          1.4909785622020115,
          1.4909785622020115,
          1.3681004024475112
         ],
         "xaxis": "x",
         "y": [
          -102.5,
          -102.5,
          -140,
          -140
         ],
         "yaxis": "y"
        },
        {
         "hoverinfo": "text",
         "marker": {
          "color": "rgb(0,116,217)"
         },
         "mode": "lines",
         "type": "scatter",
         "x": [
          0,
          1.264418723493021,
          1.264418723493021,
          0
         ],
         "xaxis": "x",
         "y": [
          -165,
          -165,
          -175,
          -175
         ],
         "yaxis": "y"
        },
        {
         "hoverinfo": "text",
         "marker": {
          "color": "rgb(0,116,217)"
         },
         "mode": "lines",
         "type": "scatter",
         "x": [
          1.264418723493021,
          1.3477024473662604,
          1.3477024473662604,
          0
         ],
         "xaxis": "x",
         "y": [
          -170,
          -170,
          -185,
          -185
         ],
         "yaxis": "y"
        },
        {
         "hoverinfo": "text",
         "marker": {
          "color": "rgb(0,116,217)"
         },
         "mode": "lines",
         "type": "scatter",
         "x": [
          0,
          1.3107367460663935,
          1.3107367460663935,
          0
         ],
         "xaxis": "x",
         "y": [
          -205,
          -205,
          -215,
          -215
         ],
         "yaxis": "y"
        },
        {
         "hoverinfo": "text",
         "marker": {
          "color": "rgb(0,116,217)"
         },
         "mode": "lines",
         "type": "scatter",
         "x": [
          0,
          1.3335005103442514,
          1.3335005103442514,
          1.3107367460663935
         ],
         "xaxis": "x",
         "y": [
          -195,
          -195,
          -210,
          -210
         ],
         "yaxis": "y"
        },
        {
         "hoverinfo": "text",
         "marker": {
          "color": "rgb(0,116,217)"
         },
         "mode": "lines",
         "type": "scatter",
         "x": [
          1.3335005103442514,
          1.3445558884089137,
          1.3445558884089137,
          0
         ],
         "xaxis": "x",
         "y": [
          -202.5,
          -202.5,
          -225,
          -225
         ],
         "yaxis": "y"
        },
        {
         "hoverinfo": "text",
         "marker": {
          "color": "rgb(0,116,217)"
         },
         "mode": "lines",
         "type": "scatter",
         "x": [
          0,
          1.330733384855378,
          1.330733384855378,
          0
         ],
         "xaxis": "x",
         "y": [
          -235,
          -235,
          -245,
          -245
         ],
         "yaxis": "y"
        },
        {
         "hoverinfo": "text",
         "marker": {
          "color": "rgb(0,116,217)"
         },
         "mode": "lines",
         "type": "scatter",
         "x": [
          1.330733384855378,
          1.3870651091775719,
          1.3870651091775719,
          0
         ],
         "xaxis": "x",
         "y": [
          -240,
          -240,
          -255,
          -255
         ],
         "yaxis": "y"
        },
        {
         "hoverinfo": "text",
         "marker": {
          "color": "rgb(0,116,217)"
         },
         "mode": "lines",
         "type": "scatter",
         "x": [
          1.3445558884089137,
          1.4293378191602277,
          1.4293378191602277,
          1.3870651091775719
         ],
         "xaxis": "x",
         "y": [
          -213.75,
          -213.75,
          -247.5,
          -247.5
         ],
         "yaxis": "y"
        },
        {
         "hoverinfo": "text",
         "marker": {
          "color": "rgb(0,116,217)"
         },
         "mode": "lines",
         "type": "scatter",
         "x": [
          1.3477024473662604,
          1.4705177296291383,
          1.4705177296291383,
          1.4293378191602277
         ],
         "xaxis": "x",
         "y": [
          -177.5,
          -177.5,
          -230.625,
          -230.625
         ],
         "yaxis": "y"
        },
        {
         "hoverinfo": "text",
         "marker": {
          "color": "rgb(0,116,217)"
         },
         "mode": "lines",
         "type": "scatter",
         "x": [
          0,
          1.2120131794077278,
          1.2120131794077278,
          0
         ],
         "xaxis": "x",
         "y": [
          -265,
          -265,
          -275,
          -275
         ],
         "yaxis": "y"
        },
        {
         "hoverinfo": "text",
         "marker": {
          "color": "rgb(0,116,217)"
         },
         "mode": "lines",
         "type": "scatter",
         "x": [
          1.2120131794077278,
          1.256000976837872,
          1.256000976837872,
          0
         ],
         "xaxis": "x",
         "y": [
          -270,
          -270,
          -285,
          -285
         ],
         "yaxis": "y"
        },
        {
         "hoverinfo": "text",
         "marker": {
          "color": "rgb(0,116,217)"
         },
         "mode": "lines",
         "type": "scatter",
         "x": [
          1.4705177296291383,
          1.566648126181754,
          1.566648126181754,
          1.256000976837872
         ],
         "xaxis": "x",
         "y": [
          -204.0625,
          -204.0625,
          -277.5,
          -277.5
         ],
         "yaxis": "y"
        },
        {
         "hoverinfo": "text",
         "marker": {
          "color": "rgb(0,116,217)"
         },
         "mode": "lines",
         "type": "scatter",
         "x": [
          0,
          1.3776181506471725,
          1.3776181506471725,
          0
         ],
         "xaxis": "x",
         "y": [
          -295,
          -295,
          -305,
          -305
         ],
         "yaxis": "y"
        },
        {
         "hoverinfo": "text",
         "marker": {
          "color": "rgb(0,116,217)"
         },
         "mode": "lines",
         "type": "scatter",
         "x": [
          0,
          1.3506960956067178,
          1.3506960956067178,
          0
         ],
         "xaxis": "x",
         "y": [
          -315,
          -315,
          -325,
          -325
         ],
         "yaxis": "y"
        },
        {
         "hoverinfo": "text",
         "marker": {
          "color": "rgb(0,116,217)"
         },
         "mode": "lines",
         "type": "scatter",
         "x": [
          1.3776181506471725,
          1.4126506671457284,
          1.4126506671457284,
          1.3506960956067178
         ],
         "xaxis": "x",
         "y": [
          -300,
          -300,
          -320,
          -320
         ],
         "yaxis": "y"
        },
        {
         "hoverinfo": "text",
         "marker": {
          "color": "rgb(0,116,217)"
         },
         "mode": "lines",
         "type": "scatter",
         "x": [
          0,
          1.3287696016790123,
          1.3287696016790123,
          0
         ],
         "xaxis": "x",
         "y": [
          -335,
          -335,
          -345,
          -345
         ],
         "yaxis": "y"
        },
        {
         "hoverinfo": "text",
         "marker": {
          "color": "rgb(0,116,217)"
         },
         "mode": "lines",
         "type": "scatter",
         "x": [
          1.3287696016790123,
          1.3520886449633311,
          1.3520886449633311,
          0
         ],
         "xaxis": "x",
         "y": [
          -340,
          -340,
          -355,
          -355
         ],
         "yaxis": "y"
        },
        {
         "hoverinfo": "text",
         "marker": {
          "color": "rgb(0,116,217)"
         },
         "mode": "lines",
         "type": "scatter",
         "x": [
          1.4126506671457284,
          1.4316731323828327,
          1.4316731323828327,
          1.3520886449633311
         ],
         "xaxis": "x",
         "y": [
          -310,
          -310,
          -347.5,
          -347.5
         ],
         "yaxis": "y"
        },
        {
         "hoverinfo": "text",
         "marker": {
          "color": "rgb(0,116,217)"
         },
         "mode": "lines",
         "type": "scatter",
         "x": [
          0,
          1.2983800702858064,
          1.2983800702858064,
          0
         ],
         "xaxis": "x",
         "y": [
          -365,
          -365,
          -375,
          -375
         ],
         "yaxis": "y"
        },
        {
         "hoverinfo": "text",
         "marker": {
          "color": "rgb(0,116,217)"
         },
         "mode": "lines",
         "type": "scatter",
         "x": [
          1.4316731323828327,
          1.4709618762894758,
          1.4709618762894758,
          1.2983800702858064
         ],
         "xaxis": "x",
         "y": [
          -328.75,
          -328.75,
          -370,
          -370
         ],
         "yaxis": "y"
        },
        {
         "hoverinfo": "text",
         "marker": {
          "color": "rgb(0,116,217)"
         },
         "mode": "lines",
         "type": "scatter",
         "x": [
          0,
          1.3544145735955215,
          1.3544145735955215,
          0
         ],
         "xaxis": "x",
         "y": [
          -395,
          -395,
          -405,
          -405
         ],
         "yaxis": "y"
        },
        {
         "hoverinfo": "text",
         "marker": {
          "color": "rgb(0,116,217)"
         },
         "mode": "lines",
         "type": "scatter",
         "x": [
          1.3544145735955215,
          1.3821227685923083,
          1.3821227685923083,
          0
         ],
         "xaxis": "x",
         "y": [
          -400,
          -400,
          -415,
          -415
         ],
         "yaxis": "y"
        },
        {
         "hoverinfo": "text",
         "marker": {
          "color": "rgb(0,116,217)"
         },
         "mode": "lines",
         "type": "scatter",
         "x": [
          0,
          1.3932750178128221,
          1.3932750178128221,
          1.3821227685923083
         ],
         "xaxis": "x",
         "y": [
          -385,
          -385,
          -407.5,
          -407.5
         ],
         "yaxis": "y"
        },
        {
         "hoverinfo": "text",
         "marker": {
          "color": "rgb(0,116,217)"
         },
         "mode": "lines",
         "type": "scatter",
         "x": [
          0,
          1.3707962629537553,
          1.3707962629537553,
          0
         ],
         "xaxis": "x",
         "y": [
          -435,
          -435,
          -445,
          -445
         ],
         "yaxis": "y"
        },
        {
         "hoverinfo": "text",
         "marker": {
          "color": "rgb(0,116,217)"
         },
         "mode": "lines",
         "type": "scatter",
         "x": [
          0,
          1.396899054157703,
          1.396899054157703,
          1.3707962629537553
         ],
         "xaxis": "x",
         "y": [
          -425,
          -425,
          -440,
          -440
         ],
         "yaxis": "y"
        },
        {
         "hoverinfo": "text",
         "marker": {
          "color": "rgb(0,116,217)"
         },
         "mode": "lines",
         "type": "scatter",
         "x": [
          1.396899054157703,
          1.4082189170978556,
          1.4082189170978556,
          0
         ],
         "xaxis": "x",
         "y": [
          -432.5,
          -432.5,
          -455,
          -455
         ],
         "yaxis": "y"
        },
        {
         "hoverinfo": "text",
         "marker": {
          "color": "rgb(0,116,217)"
         },
         "mode": "lines",
         "type": "scatter",
         "x": [
          0,
          1.3953342120720131,
          1.3953342120720131,
          0
         ],
         "xaxis": "x",
         "y": [
          -465,
          -465,
          -475,
          -475
         ],
         "yaxis": "y"
        },
        {
         "hoverinfo": "text",
         "marker": {
          "color": "rgb(0,116,217)"
         },
         "mode": "lines",
         "type": "scatter",
         "x": [
          1.3953342120720131,
          1.4061544949175335,
          1.4061544949175335,
          0
         ],
         "xaxis": "x",
         "y": [
          -470,
          -470,
          -485,
          -485
         ],
         "yaxis": "y"
        },
        {
         "hoverinfo": "text",
         "marker": {
          "color": "rgb(0,116,217)"
         },
         "mode": "lines",
         "type": "scatter",
         "x": [
          1.4082189170978556,
          1.4224376164273391,
          1.4224376164273391,
          1.4061544949175335
         ],
         "xaxis": "x",
         "y": [
          -443.75,
          -443.75,
          -477.5,
          -477.5
         ],
         "yaxis": "y"
        },
        {
         "hoverinfo": "text",
         "marker": {
          "color": "rgb(0,116,217)"
         },
         "mode": "lines",
         "type": "scatter",
         "x": [
          1.3932750178128221,
          1.4367189234554638,
          1.4367189234554638,
          1.4224376164273391
         ],
         "xaxis": "x",
         "y": [
          -396.25,
          -396.25,
          -460.625,
          -460.625
         ],
         "yaxis": "y"
        },
        {
         "hoverinfo": "text",
         "marker": {
          "color": "rgb(0,116,217)"
         },
         "mode": "lines",
         "type": "scatter",
         "x": [
          1.4709618762894758,
          1.4775194884743204,
          1.4775194884743204,
          1.4367189234554638
         ],
         "xaxis": "x",
         "y": [
          -349.375,
          -349.375,
          -428.4375,
          -428.4375
         ],
         "yaxis": "y"
        },
        {
         "hoverinfo": "text",
         "marker": {
          "color": "rgb(0,116,217)"
         },
         "mode": "lines",
         "type": "scatter",
         "x": [
          0,
          1.3103948484135526,
          1.3103948484135526,
          0
         ],
         "xaxis": "x",
         "y": [
          -505,
          -505,
          -515,
          -515
         ],
         "yaxis": "y"
        },
        {
         "hoverinfo": "text",
         "marker": {
          "color": "rgb(0,116,217)"
         },
         "mode": "lines",
         "type": "scatter",
         "x": [
          0,
          1.364912654347915,
          1.364912654347915,
          1.3103948484135526
         ],
         "xaxis": "x",
         "y": [
          -495,
          -495,
          -510,
          -510
         ],
         "yaxis": "y"
        },
        {
         "hoverinfo": "text",
         "marker": {
          "color": "rgb(0,116,217)"
         },
         "mode": "lines",
         "type": "scatter",
         "x": [
          1.4775194884743204,
          1.5057667644515778,
          1.5057667644515778,
          1.364912654347915
         ],
         "xaxis": "x",
         "y": [
          -388.90625,
          -388.90625,
          -502.5,
          -502.5
         ],
         "yaxis": "y"
        },
        {
         "hoverinfo": "text",
         "marker": {
          "color": "rgb(0,116,217)"
         },
         "mode": "lines",
         "type": "scatter",
         "x": [
          1.566648126181754,
          1.584260149050217,
          1.584260149050217,
          1.5057667644515778
         ],
         "xaxis": "x",
         "y": [
          -240.78125,
          -240.78125,
          -445.703125,
          -445.703125
         ],
         "yaxis": "y"
        },
        {
         "hoverinfo": "text",
         "marker": {
          "color": "rgb(0,116,217)"
         },
         "mode": "lines",
         "type": "scatter",
         "x": [
          1.4909785622020115,
          1.675914110076858,
          1.675914110076858,
          1.584260149050217
         ],
         "xaxis": "x",
         "y": [
          -121.25,
          -121.25,
          -343.2421875,
          -343.2421875
         ],
         "yaxis": "y"
        },
        {
         "hoverinfo": "text",
         "marker": {
          "color": "rgb(0,116,217)"
         },
         "mode": "lines",
         "type": "scatter",
         "x": [
          0,
          1.1697620052700068,
          1.1697620052700068,
          0
         ],
         "xaxis": "x",
         "y": [
          -535,
          -535,
          -545,
          -545
         ],
         "yaxis": "y"
        },
        {
         "hoverinfo": "text",
         "marker": {
          "color": "rgb(0,116,217)"
         },
         "mode": "lines",
         "type": "scatter",
         "x": [
          0,
          1.3031731365277275,
          1.3031731365277275,
          1.1697620052700068
         ],
         "xaxis": "x",
         "y": [
          -525,
          -525,
          -540,
          -540
         ],
         "yaxis": "y"
        },
        {
         "hoverinfo": "text",
         "marker": {
          "color": "rgb(0,116,217)"
         },
         "mode": "lines",
         "type": "scatter",
         "x": [
          1.3031731365277275,
          1.3614783663768244,
          1.3614783663768244,
          0
         ],
         "xaxis": "x",
         "y": [
          -532.5,
          -532.5,
          -555,
          -555
         ],
         "yaxis": "y"
        },
        {
         "hoverinfo": "text",
         "marker": {
          "color": "rgb(0,116,217)"
         },
         "mode": "lines",
         "type": "scatter",
         "x": [
          1.675914110076858,
          1.7348620327765147,
          1.7348620327765147,
          1.3614783663768244
         ],
         "xaxis": "x",
         "y": [
          -232.24609375,
          -232.24609375,
          -543.75,
          -543.75
         ],
         "yaxis": "y"
        },
        {
         "hoverinfo": "text",
         "marker": {
          "color": "rgb(0,116,217)"
         },
         "mode": "lines",
         "type": "scatter",
         "x": [
          1.4219489832436607,
          1.879532934187114,
          1.879532934187114,
          1.7348620327765147
         ],
         "xaxis": "x",
         "y": [
          -50.625,
          -50.625,
          -387.998046875,
          -387.998046875
         ],
         "yaxis": "y"
        }
       ],
       "layout": {
        "autosize": false,
        "height": 1040,
        "hoverlabel": {
         "bgcolor": "white",
         "font": {
          "family": "Rockwell",
          "size": 16
         }
        },
        "hovermode": "closest",
        "plot_bgcolor": "#ECEFF1",
        "showlegend": false,
        "template": {
         "data": {
          "bar": [
           {
            "error_x": {
             "color": "#2a3f5f"
            },
            "error_y": {
             "color": "#2a3f5f"
            },
            "marker": {
             "line": {
              "color": "white",
              "width": 0.5
             },
             "pattern": {
              "fillmode": "overlay",
              "size": 10,
              "solidity": 0.2
             }
            },
            "type": "bar"
           }
          ],
          "barpolar": [
           {
            "marker": {
             "line": {
              "color": "white",
              "width": 0.5
             },
             "pattern": {
              "fillmode": "overlay",
              "size": 10,
              "solidity": 0.2
             }
            },
            "type": "barpolar"
           }
          ],
          "carpet": [
           {
            "aaxis": {
             "endlinecolor": "#2a3f5f",
             "gridcolor": "#C8D4E3",
             "linecolor": "#C8D4E3",
             "minorgridcolor": "#C8D4E3",
             "startlinecolor": "#2a3f5f"
            },
            "baxis": {
             "endlinecolor": "#2a3f5f",
             "gridcolor": "#C8D4E3",
             "linecolor": "#C8D4E3",
             "minorgridcolor": "#C8D4E3",
             "startlinecolor": "#2a3f5f"
            },
            "type": "carpet"
           }
          ],
          "choropleth": [
           {
            "colorbar": {
             "outlinewidth": 0,
             "ticks": ""
            },
            "type": "choropleth"
           }
          ],
          "contour": [
           {
            "colorbar": {
             "outlinewidth": 0,
             "ticks": ""
            },
            "colorscale": [
             [
              0,
              "#0d0887"
             ],
             [
              0.1111111111111111,
              "#46039f"
             ],
             [
              0.2222222222222222,
              "#7201a8"
             ],
             [
              0.3333333333333333,
              "#9c179e"
             ],
             [
              0.4444444444444444,
              "#bd3786"
             ],
             [
              0.5555555555555556,
              "#d8576b"
             ],
             [
              0.6666666666666666,
              "#ed7953"
             ],
             [
              0.7777777777777778,
              "#fb9f3a"
             ],
             [
              0.8888888888888888,
              "#fdca26"
             ],
             [
              1,
              "#f0f921"
             ]
            ],
            "type": "contour"
           }
          ],
          "contourcarpet": [
           {
            "colorbar": {
             "outlinewidth": 0,
             "ticks": ""
            },
            "type": "contourcarpet"
           }
          ],
          "heatmap": [
           {
            "colorbar": {
             "outlinewidth": 0,
             "ticks": ""
            },
            "colorscale": [
             [
              0,
              "#0d0887"
             ],
             [
              0.1111111111111111,
              "#46039f"
             ],
             [
              0.2222222222222222,
              "#7201a8"
             ],
             [
              0.3333333333333333,
              "#9c179e"
             ],
             [
              0.4444444444444444,
              "#bd3786"
             ],
             [
              0.5555555555555556,
              "#d8576b"
             ],
             [
              0.6666666666666666,
              "#ed7953"
             ],
             [
              0.7777777777777778,
              "#fb9f3a"
             ],
             [
              0.8888888888888888,
              "#fdca26"
             ],
             [
              1,
              "#f0f921"
             ]
            ],
            "type": "heatmap"
           }
          ],
          "heatmapgl": [
           {
            "colorbar": {
             "outlinewidth": 0,
             "ticks": ""
            },
            "colorscale": [
             [
              0,
              "#0d0887"
             ],
             [
              0.1111111111111111,
              "#46039f"
             ],
             [
              0.2222222222222222,
              "#7201a8"
             ],
             [
              0.3333333333333333,
              "#9c179e"
             ],
             [
              0.4444444444444444,
              "#bd3786"
             ],
             [
              0.5555555555555556,
              "#d8576b"
             ],
             [
              0.6666666666666666,
              "#ed7953"
             ],
             [
              0.7777777777777778,
              "#fb9f3a"
             ],
             [
              0.8888888888888888,
              "#fdca26"
             ],
             [
              1,
              "#f0f921"
             ]
            ],
            "type": "heatmapgl"
           }
          ],
          "histogram": [
           {
            "marker": {
             "pattern": {
              "fillmode": "overlay",
              "size": 10,
              "solidity": 0.2
             }
            },
            "type": "histogram"
           }
          ],
          "histogram2d": [
           {
            "colorbar": {
             "outlinewidth": 0,
             "ticks": ""
            },
            "colorscale": [
             [
              0,
              "#0d0887"
             ],
             [
              0.1111111111111111,
              "#46039f"
             ],
             [
              0.2222222222222222,
              "#7201a8"
             ],
             [
              0.3333333333333333,
              "#9c179e"
             ],
             [
              0.4444444444444444,
              "#bd3786"
             ],
             [
              0.5555555555555556,
              "#d8576b"
             ],
             [
              0.6666666666666666,
              "#ed7953"
             ],
             [
              0.7777777777777778,
              "#fb9f3a"
             ],
             [
              0.8888888888888888,
              "#fdca26"
             ],
             [
              1,
              "#f0f921"
             ]
            ],
            "type": "histogram2d"
           }
          ],
          "histogram2dcontour": [
           {
            "colorbar": {
             "outlinewidth": 0,
             "ticks": ""
            },
            "colorscale": [
             [
              0,
              "#0d0887"
             ],
             [
              0.1111111111111111,
              "#46039f"
             ],
             [
              0.2222222222222222,
              "#7201a8"
             ],
             [
              0.3333333333333333,
              "#9c179e"
             ],
             [
              0.4444444444444444,
              "#bd3786"
             ],
             [
              0.5555555555555556,
              "#d8576b"
             ],
             [
              0.6666666666666666,
              "#ed7953"
             ],
             [
              0.7777777777777778,
              "#fb9f3a"
             ],
             [
              0.8888888888888888,
              "#fdca26"
             ],
             [
              1,
              "#f0f921"
             ]
            ],
            "type": "histogram2dcontour"
           }
          ],
          "mesh3d": [
           {
            "colorbar": {
             "outlinewidth": 0,
             "ticks": ""
            },
            "type": "mesh3d"
           }
          ],
          "parcoords": [
           {
            "line": {
             "colorbar": {
              "outlinewidth": 0,
              "ticks": ""
             }
            },
            "type": "parcoords"
           }
          ],
          "pie": [
           {
            "automargin": true,
            "type": "pie"
           }
          ],
          "scatter": [
           {
            "fillpattern": {
             "fillmode": "overlay",
             "size": 10,
             "solidity": 0.2
            },
            "type": "scatter"
           }
          ],
          "scatter3d": [
           {
            "line": {
             "colorbar": {
              "outlinewidth": 0,
              "ticks": ""
             }
            },
            "marker": {
             "colorbar": {
              "outlinewidth": 0,
              "ticks": ""
             }
            },
            "type": "scatter3d"
           }
          ],
          "scattercarpet": [
           {
            "marker": {
             "colorbar": {
              "outlinewidth": 0,
              "ticks": ""
             }
            },
            "type": "scattercarpet"
           }
          ],
          "scattergeo": [
           {
            "marker": {
             "colorbar": {
              "outlinewidth": 0,
              "ticks": ""
             }
            },
            "type": "scattergeo"
           }
          ],
          "scattergl": [
           {
            "marker": {
             "colorbar": {
              "outlinewidth": 0,
              "ticks": ""
             }
            },
            "type": "scattergl"
           }
          ],
          "scattermapbox": [
           {
            "marker": {
             "colorbar": {
              "outlinewidth": 0,
              "ticks": ""
             }
            },
            "type": "scattermapbox"
           }
          ],
          "scatterpolar": [
           {
            "marker": {
             "colorbar": {
              "outlinewidth": 0,
              "ticks": ""
             }
            },
            "type": "scatterpolar"
           }
          ],
          "scatterpolargl": [
           {
            "marker": {
             "colorbar": {
              "outlinewidth": 0,
              "ticks": ""
             }
            },
            "type": "scatterpolargl"
           }
          ],
          "scatterternary": [
           {
            "marker": {
             "colorbar": {
              "outlinewidth": 0,
              "ticks": ""
             }
            },
            "type": "scatterternary"
           }
          ],
          "surface": [
           {
            "colorbar": {
             "outlinewidth": 0,
             "ticks": ""
            },
            "colorscale": [
             [
              0,
              "#0d0887"
             ],
             [
              0.1111111111111111,
              "#46039f"
             ],
             [
              0.2222222222222222,
              "#7201a8"
             ],
             [
              0.3333333333333333,
              "#9c179e"
             ],
             [
              0.4444444444444444,
              "#bd3786"
             ],
             [
              0.5555555555555556,
              "#d8576b"
             ],
             [
              0.6666666666666666,
              "#ed7953"
             ],
             [
              0.7777777777777778,
              "#fb9f3a"
             ],
             [
              0.8888888888888888,
              "#fdca26"
             ],
             [
              1,
              "#f0f921"
             ]
            ],
            "type": "surface"
           }
          ],
          "table": [
           {
            "cells": {
             "fill": {
              "color": "#EBF0F8"
             },
             "line": {
              "color": "white"
             }
            },
            "header": {
             "fill": {
              "color": "#C8D4E3"
             },
             "line": {
              "color": "white"
             }
            },
            "type": "table"
           }
          ]
         },
         "layout": {
          "annotationdefaults": {
           "arrowcolor": "#2a3f5f",
           "arrowhead": 0,
           "arrowwidth": 1
          },
          "autotypenumbers": "strict",
          "coloraxis": {
           "colorbar": {
            "outlinewidth": 0,
            "ticks": ""
           }
          },
          "colorscale": {
           "diverging": [
            [
             0,
             "#8e0152"
            ],
            [
             0.1,
             "#c51b7d"
            ],
            [
             0.2,
             "#de77ae"
            ],
            [
             0.3,
             "#f1b6da"
            ],
            [
             0.4,
             "#fde0ef"
            ],
            [
             0.5,
             "#f7f7f7"
            ],
            [
             0.6,
             "#e6f5d0"
            ],
            [
             0.7,
             "#b8e186"
            ],
            [
             0.8,
             "#7fbc41"
            ],
            [
             0.9,
             "#4d9221"
            ],
            [
             1,
             "#276419"
            ]
           ],
           "sequential": [
            [
             0,
             "#0d0887"
            ],
            [
             0.1111111111111111,
             "#46039f"
            ],
            [
             0.2222222222222222,
             "#7201a8"
            ],
            [
             0.3333333333333333,
             "#9c179e"
            ],
            [
             0.4444444444444444,
             "#bd3786"
            ],
            [
             0.5555555555555556,
             "#d8576b"
            ],
            [
             0.6666666666666666,
             "#ed7953"
            ],
            [
             0.7777777777777778,
             "#fb9f3a"
            ],
            [
             0.8888888888888888,
             "#fdca26"
            ],
            [
             1,
             "#f0f921"
            ]
           ],
           "sequentialminus": [
            [
             0,
             "#0d0887"
            ],
            [
             0.1111111111111111,
             "#46039f"
            ],
            [
             0.2222222222222222,
             "#7201a8"
            ],
            [
             0.3333333333333333,
             "#9c179e"
            ],
            [
             0.4444444444444444,
             "#bd3786"
            ],
            [
             0.5555555555555556,
             "#d8576b"
            ],
            [
             0.6666666666666666,
             "#ed7953"
            ],
            [
             0.7777777777777778,
             "#fb9f3a"
            ],
            [
             0.8888888888888888,
             "#fdca26"
            ],
            [
             1,
             "#f0f921"
            ]
           ]
          },
          "colorway": [
           "#636efa",
           "#EF553B",
           "#00cc96",
           "#ab63fa",
           "#FFA15A",
           "#19d3f3",
           "#FF6692",
           "#B6E880",
           "#FF97FF",
           "#FECB52"
          ],
          "font": {
           "color": "#2a3f5f"
          },
          "geo": {
           "bgcolor": "white",
           "lakecolor": "white",
           "landcolor": "white",
           "showlakes": true,
           "showland": true,
           "subunitcolor": "#C8D4E3"
          },
          "hoverlabel": {
           "align": "left"
          },
          "hovermode": "closest",
          "mapbox": {
           "style": "light"
          },
          "paper_bgcolor": "white",
          "plot_bgcolor": "white",
          "polar": {
           "angularaxis": {
            "gridcolor": "#EBF0F8",
            "linecolor": "#EBF0F8",
            "ticks": ""
           },
           "bgcolor": "white",
           "radialaxis": {
            "gridcolor": "#EBF0F8",
            "linecolor": "#EBF0F8",
            "ticks": ""
           }
          },
          "scene": {
           "xaxis": {
            "backgroundcolor": "white",
            "gridcolor": "#DFE8F3",
            "gridwidth": 2,
            "linecolor": "#EBF0F8",
            "showbackground": true,
            "ticks": "",
            "zerolinecolor": "#EBF0F8"
           },
           "yaxis": {
            "backgroundcolor": "white",
            "gridcolor": "#DFE8F3",
            "gridwidth": 2,
            "linecolor": "#EBF0F8",
            "showbackground": true,
            "ticks": "",
            "zerolinecolor": "#EBF0F8"
           },
           "zaxis": {
            "backgroundcolor": "white",
            "gridcolor": "#DFE8F3",
            "gridwidth": 2,
            "linecolor": "#EBF0F8",
            "showbackground": true,
            "ticks": "",
            "zerolinecolor": "#EBF0F8"
           }
          },
          "shapedefaults": {
           "line": {
            "color": "#2a3f5f"
           }
          },
          "ternary": {
           "aaxis": {
            "gridcolor": "#DFE8F3",
            "linecolor": "#A2B1C6",
            "ticks": ""
           },
           "baxis": {
            "gridcolor": "#DFE8F3",
            "linecolor": "#A2B1C6",
            "ticks": ""
           },
           "bgcolor": "white",
           "caxis": {
            "gridcolor": "#DFE8F3",
            "linecolor": "#A2B1C6",
            "ticks": ""
           }
          },
          "title": {
           "x": 0.05
          },
          "xaxis": {
           "automargin": true,
           "gridcolor": "#EBF0F8",
           "linecolor": "#EBF0F8",
           "ticks": "",
           "title": {
            "standoff": 15
           },
           "zerolinecolor": "#EBF0F8",
           "zerolinewidth": 2
          },
          "yaxis": {
           "automargin": true,
           "gridcolor": "#EBF0F8",
           "linecolor": "#EBF0F8",
           "ticks": "",
           "title": {
            "standoff": 15
           },
           "zerolinecolor": "#EBF0F8",
           "zerolinewidth": 2
          }
         }
        },
        "title": {
         "font": {
          "color": "Black",
          "size": 22
         },
         "text": "<b>Hierarchical Clustering",
         "x": 0.5,
         "xanchor": "center",
         "yanchor": "top"
        },
        "width": 1000,
        "xaxis": {
         "mirror": "allticks",
         "rangemode": "tozero",
         "showgrid": false,
         "showline": true,
         "showticklabels": true,
         "ticks": "outside",
         "type": "linear",
         "zeroline": false
        },
        "yaxis": {
         "mirror": "allticks",
         "range": [
          -560,
          0
         ],
         "rangemode": "tozero",
         "showgrid": false,
         "showline": true,
         "showticklabels": true,
         "tickmode": "array",
         "ticks": "outside",
         "ticktext": [
          "15_venezolanos_pasaportes v...",
          "11_colombia_colombianos_ven...",
          "0_venezolanos_migrantes ven...",
          "7_venezolanos_delincuentes ...",
          "12_peru_peruanos_venezolanos",
          "19_colombia_venezolanos per...",
          "24_chile_asesinos colombia_...",
          "37_colombia_transitorias_co...",
          "47_venezuela pueblo_colombi...",
          "45_coronavirus_viajeros sud...",
          "8_fronteras_cierre frontera...",
          "46_virus_fronteras_cerrar",
          "48_frontera unidos_mexico a...",
          "16_vacunados_vacunacion_vac...",
          "36_colombia_colombianos_vac...",
          "55_vacuna_argentina_trayend...",
          "23_caravana_rescatan_migran...",
          "9_honduras_hondurenos_carav...",
          "18_guatemala_guatemaltecos_...",
          "13_ley migracion_inmigracio...",
          "4_apoyo_migrantes_migracion",
          "6_migracion_pacto_pacto mig...",
          "17_servicios_migrantes_mini...",
          "26_panama_panamenos_panameno",
          "44_humanos migrantes_derech...",
          "33_cubanos_cubana_migracion...",
          "3_chile_chilenos_uruguay",
          "1_trabajo_empleo_desempleo",
          "5_inmigrantes ilegales_ileg...",
          "43_mundial sida_interseccio...",
          "34_trafico_trafico migrante...",
          "51_inmigracion ilegal_invas...",
          "22_aborto_inmigracion delin...",
          "20_homofobia_homosexuales_l...",
          "10_mujeres_mujeres migrante...",
          "53_violador_feminismo_igual...",
          "32_padres_hijos_abuso",
          "38_hijo inmigrante_ninos fa...",
          "29_iglesia_francisco pide_p...",
          "21_mediterraneo_italia_euro...",
          "30_gastan migrantes_genocid...",
          "31_mexicanos_mexico_via legal",
          "28_jamaiquinos_jamaiquinas_...",
          "2_racista_racistas_negros",
          "41_si inmigrantes_migrante ...",
          "49_enfermo mental_extrema s...",
          "52_educacion_lgbt feminismo...",
          "54_economia_inmigracion eco...",
          "50_peruanos_peruanos mas_mi...",
          "27_dominicanos_dominicano_h...",
          "25_haitianos_haitiano_haiti",
          "40_haitianos_haiti_migrante...",
          "14_mexicanas_autoridades me...",
          "42_guardia nacional_fronter...",
          "39_muro frontera_frontera m...",
          "35_familias_inmigrantes cam..."
         ],
         "tickvals": [
          -5,
          -15,
          -25,
          -35,
          -45,
          -55,
          -65,
          -75,
          -85,
          -95,
          -105,
          -115,
          -125,
          -135,
          -145,
          -155,
          -165,
          -175,
          -185,
          -195,
          -205,
          -215,
          -225,
          -235,
          -245,
          -255,
          -265,
          -275,
          -285,
          -295,
          -305,
          -315,
          -325,
          -335,
          -345,
          -355,
          -365,
          -375,
          -385,
          -395,
          -405,
          -415,
          -425,
          -435,
          -445,
          -455,
          -465,
          -475,
          -485,
          -495,
          -505,
          -515,
          -525,
          -535,
          -545,
          -555
         ],
         "type": "linear",
         "zeroline": false
        }
       }
      }
     },
     "metadata": {},
     "output_type": "display_data"
    }
   ],
   "source": [
    "topic_model.visualize_hierarchy()"
   ]
  },
  {
   "cell_type": "markdown",
   "id": "fdbc1873",
   "metadata": {},
   "source": [
    "### Búsqueda de tópicos por palabra clave"
   ]
  },
  {
   "cell_type": "code",
   "execution_count": 74,
   "id": "2a52e3c1",
   "metadata": {},
   "outputs": [
    {
     "data": {
      "text/plain": [
       "[('migracion', 0.017281224006464452),\n",
       " ('pacto', 0.016027398789979344),\n",
       " ('pacto migratorio', 0.015974400687477817),\n",
       " ('gobierno', 0.015321652063977636),\n",
       " ('migratorio', 0.014383584855190729),\n",
       " ('politica', 0.009284416181367593),\n",
       " ('ciudadanos', 0.009158513594273911),\n",
       " ('inmigracion', 0.008881722159203263),\n",
       " ('leyes', 0.008669741196593856),\n",
       " ('paises vecinos', 0.0073096626863447195)]"
      ]
     },
     "execution_count": 74,
     "metadata": {},
     "output_type": "execute_result"
    }
   ],
   "source": [
    "similar_topics, similarity = topic_model.find_topics(\"coivd\", top_n=5)\n",
    "topic_model.get_topic(similar_topics[1])"
   ]
  },
  {
   "cell_type": "code",
   "execution_count": 85,
   "id": "eeb0199a",
   "metadata": {},
   "outputs": [
    {
     "data": {
      "text/html": [
       "<div>\n",
       "<style scoped>\n",
       "    .dataframe tbody tr th:only-of-type {\n",
       "        vertical-align: middle;\n",
       "    }\n",
       "\n",
       "    .dataframe tbody tr th {\n",
       "        vertical-align: top;\n",
       "    }\n",
       "\n",
       "    .dataframe thead th {\n",
       "        text-align: right;\n",
       "    }\n",
       "</style>\n",
       "<table border=\"1\" class=\"dataframe\">\n",
       "  <thead>\n",
       "    <tr style=\"text-align: right;\">\n",
       "      <th></th>\n",
       "      <th>_id</th>\n",
       "      <th>label</th>\n",
       "      <th>a_code</th>\n",
       "      <th>text</th>\n",
       "      <th>target</th>\n",
       "      <th>cluster_topic</th>\n",
       "    </tr>\n",
       "  </thead>\n",
       "  <tbody>\n",
       "    <tr>\n",
       "      <th>1919</th>\n",
       "      <td>1130585348046839810</td>\n",
       "      <td>servpub</td>\n",
       "      <td>NaN</td>\n",
       "      <td>el gobierno no se ha pronunciado para nada, so...</td>\n",
       "      <td>1</td>\n",
       "      <td>6</td>\n",
       "    </tr>\n",
       "    <tr>\n",
       "      <th>1498</th>\n",
       "      <td>1231069036638851077</td>\n",
       "      <td>-1</td>\n",
       "      <td>SLV</td>\n",
       "      <td>no se que habra pasado con migracion en el aie...</td>\n",
       "      <td>-1</td>\n",
       "      <td>6</td>\n",
       "    </tr>\n",
       "    <tr>\n",
       "      <th>1307</th>\n",
       "      <td>1072240107447566336</td>\n",
       "      <td>-1</td>\n",
       "      <td>PRY</td>\n",
       "      <td>no importa que tantas pruebas hayan sobre el p...</td>\n",
       "      <td>-1</td>\n",
       "      <td>6</td>\n",
       "    </tr>\n",
       "    <tr>\n",
       "      <th>348</th>\n",
       "      <td>1085246117812596737</td>\n",
       "      <td>-1</td>\n",
       "      <td>PRY</td>\n",
       "      <td>bueno, yo no estoy por alla, y los que me cono...</td>\n",
       "      <td>-1</td>\n",
       "      <td>6</td>\n",
       "    </tr>\n",
       "    <tr>\n",
       "      <th>1744</th>\n",
       "      <td>1072223587698905090</td>\n",
       "      <td>-1</td>\n",
       "      <td>ARG</td>\n",
       "      <td>bulgaria \"en esta etapa, el gobierno bulgaro c...</td>\n",
       "      <td>-1</td>\n",
       "      <td>6</td>\n",
       "    </tr>\n",
       "  </tbody>\n",
       "</table>\n",
       "</div>"
      ],
      "text/plain": [
       "                      _id    label a_code  \\\n",
       "1919  1130585348046839810  servpub    NaN   \n",
       "1498  1231069036638851077       -1    SLV   \n",
       "1307  1072240107447566336       -1    PRY   \n",
       "348   1085246117812596737       -1    PRY   \n",
       "1744  1072223587698905090       -1    ARG   \n",
       "\n",
       "                                                   text  target  cluster_topic  \n",
       "1919  el gobierno no se ha pronunciado para nada, so...       1              6  \n",
       "1498  no se que habra pasado con migracion en el aie...      -1              6  \n",
       "1307  no importa que tantas pruebas hayan sobre el p...      -1              6  \n",
       "348   bueno, yo no estoy por alla, y los que me cono...      -1              6  \n",
       "1744  bulgaria \"en esta etapa, el gobierno bulgaro c...      -1              6  "
      ]
     },
     "execution_count": 85,
     "metadata": {},
     "output_type": "execute_result"
    }
   ],
   "source": [
    "data[data.cluster_topic==similar_topics[1]].sample(5)"
   ]
  }
 ],
 "metadata": {
  "kernelspec": {
   "display_name": "Python 3.9.13 ('bid')",
   "language": "python",
   "name": "python3"
  },
  "language_info": {
   "codemirror_mode": {
    "name": "ipython",
    "version": 3
   },
   "file_extension": ".py",
   "mimetype": "text/x-python",
   "name": "python",
   "nbconvert_exporter": "python",
   "pygments_lexer": "ipython3",
   "version": "3.9.13"
  },
  "vscode": {
   "interpreter": {
    "hash": "cad67f8f08b43f52430a6b8684b01d2984f30490bfa5827628ebc9dc8cbf0dc5"
   }
  }
 },
 "nbformat": 4,
 "nbformat_minor": 5
}
