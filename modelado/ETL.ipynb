{
 "cells": [
  {
   "cell_type": "markdown",
   "metadata": {},
   "source": [
    "# Extracción, transformación y carga de los datos"
   ]
  },
  {
   "cell_type": "markdown",
   "metadata": {},
   "source": [
    "### Librerias útiles\n",
    "\n",
    "Una vez que se cuenta con el conjunto de datos etiquetado, éste debe ser dividido en tres subconjuntos que llamaremos \"entrenamiento\", \"validación\" y \"prueba\", divididos en 70%, 10% y 20% de los datos. Esta división es común dentro de la ciencia de datos y está basada en el *principio de Pareto*.\n",
    "\n",
    "Además de la división es necesario transformar el texto de cada tweet, pues recordemos cada texto puede contener emoticonos 🇧🇷🇨🇷🇳🇮🇲🇽, hashtags *#VivaLaMigración*, menciones a usuarios [@el_BID](https://twitter.com/el_bid?lang=es) y links a páginas externas. Algunos de estos elementos pueden contener información útil para la detección de sentimiento y/o xenofobia (como los hashtags), pero otros pueden no ser nada informativos (como los nombres de usuario).\n",
    "\n",
    "##### Scikit learn\n",
    "Se trata de una librería de código abierto enfocada en proveer herramientas de aprendizaje de máquinas tales como modelos estadísticos y matemáticos, así como métricas de evaluación comunes en algoritmos de aprendizaje de máquinas.\n",
    "<figure>\n",
    "    <img src=\"./assets/images/scikit.png\"\n",
    "         alt=\"scikit-learn logo\"\n",
    "         style=\"max-width: 20%; height: auto\">\n",
    "    <figcaption>scikit-learn logo</figcaption>\n",
    "</figure>\n",
    "\n",
    "Esta librería nos permitirá dividir el conjunto de datos en los subconjuntos mencionados."
   ]
  },
  {
   "cell_type": "code",
   "execution_count": 1,
   "metadata": {},
   "outputs": [],
   "source": [
    "#Imports\n",
    "\n",
    "#data reading\n",
    "import pandas as pd\n",
    "\n",
    "#data processing\n",
    "from pysentimiento.preprocessing import preprocess_tweet\n",
    "import re\n",
    "\n",
    "#scikit-learn creacion de conjuntos de entrenamiento, prueba y validación\n",
    "from sklearn.model_selection import train_test_split"
   ]
  },
  {
   "cell_type": "markdown",
   "metadata": {},
   "source": [
    "### Cargando los datos etiquetados"
   ]
  },
  {
   "cell_type": "code",
   "execution_count": 2,
   "metadata": {},
   "outputs": [
    {
     "data": {
      "text/html": [
       "<div>\n",
       "<style scoped>\n",
       "    .dataframe tbody tr th:only-of-type {\n",
       "        vertical-align: middle;\n",
       "    }\n",
       "\n",
       "    .dataframe tbody tr th {\n",
       "        vertical-align: top;\n",
       "    }\n",
       "\n",
       "    .dataframe thead th {\n",
       "        text-align: right;\n",
       "    }\n",
       "</style>\n",
       "<table border=\"1\" class=\"dataframe\">\n",
       "  <thead>\n",
       "    <tr style=\"text-align: right;\">\n",
       "      <th></th>\n",
       "      <th>id</th>\n",
       "      <th>text</th>\n",
       "      <th>date</th>\n",
       "      <th>label</th>\n",
       "    </tr>\n",
       "  </thead>\n",
       "  <tbody>\n",
       "    <tr>\n",
       "      <th>9807</th>\n",
       "      <td>1254872614713114624</td>\n",
       "      <td>Gran trabajo de coordinación y apoyo humanitar...</td>\n",
       "      <td>2021-10-06</td>\n",
       "      <td>0</td>\n",
       "    </tr>\n",
       "    <tr>\n",
       "      <th>6246</th>\n",
       "      <td>1258399516371361792</td>\n",
       "      <td>@Oscar08464952 @Arizasoy Hola sabes de alguna ...</td>\n",
       "      <td>2021-09-10</td>\n",
       "      <td>0</td>\n",
       "    </tr>\n",
       "    <tr>\n",
       "      <th>7158</th>\n",
       "      <td>1360251914777157632</td>\n",
       "      <td>@rdco15 @MigracionCol Si. Pero de manera regul...</td>\n",
       "      <td>2021-10-16</td>\n",
       "      <td>0</td>\n",
       "    </tr>\n",
       "    <tr>\n",
       "      <th>7220</th>\n",
       "      <td>1182294468738854912</td>\n",
       "      <td>Como pueden los gobiernos exigir requisitos de...</td>\n",
       "      <td>2021-11-13</td>\n",
       "      <td>0</td>\n",
       "    </tr>\n",
       "    <tr>\n",
       "      <th>83</th>\n",
       "      <td>1138155946428043264</td>\n",
       "      <td>Implementarán carnet fronterizo como control m...</td>\n",
       "      <td>2021-11-20</td>\n",
       "      <td>0</td>\n",
       "    </tr>\n",
       "  </tbody>\n",
       "</table>\n",
       "</div>"
      ],
      "text/plain": [
       "                       id                                               text  \\\n",
       "9807  1254872614713114624  Gran trabajo de coordinación y apoyo humanitar...   \n",
       "6246  1258399516371361792  @Oscar08464952 @Arizasoy Hola sabes de alguna ...   \n",
       "7158  1360251914777157632  @rdco15 @MigracionCol Si. Pero de manera regul...   \n",
       "7220  1182294468738854912  Como pueden los gobiernos exigir requisitos de...   \n",
       "83    1138155946428043264  Implementarán carnet fronterizo como control m...   \n",
       "\n",
       "            date  label  \n",
       "9807  2021-10-06      0  \n",
       "6246  2021-09-10      0  \n",
       "7158  2021-10-16      0  \n",
       "7220  2021-11-13      0  \n",
       "83    2021-11-20      0  "
      ]
     },
     "execution_count": 2,
     "metadata": {},
     "output_type": "execute_result"
    }
   ],
   "source": [
    "data = pd.read_csv('./assets/data/xeno_data_workshop.csv')\n",
    "data.sample(n=5)"
   ]
  },
  {
   "cell_type": "code",
   "execution_count": 3,
   "metadata": {},
   "outputs": [
    {
     "name": "stdout",
     "output_type": "stream",
     "text": [
      "Tweet marcado como xenofóbo:\n",
      " Una imagen dicen mil Palabras\".  Si ven la cara de Cojudo? Como que no quebrara un Plato\".... Aca en ECUADOR. Nos sirve Como un ejemplo?  LA INVASION DE EXTRANJEROS MAS VENEZOLANOS\" Son Asi.  Carita de Dios. Pero Recuerda Es mejor no conocerlos?  De lejitos\"\n",
      "Tweet marcado como NO xenofóbo:\n",
      " #Nacional | Alrededor de 3⃣0⃣ migrantes centroamericanos fueron asegurados en un operativo realizado por elementos de la Guardia Nacional. 🚃   https://t.co/11exZf9vxG\n"
     ]
    }
   ],
   "source": [
    "print('Tweet marcado como xenofóbo:\\n {}\\nTweet marcado como NO xenofóbo:\\n {}'.format(data[data.label==1].sample(n=1).text.values[0], data[data.label==0].sample(n=1).text.values[0]))"
   ]
  },
  {
   "cell_type": "markdown",
   "metadata": {},
   "source": [
    "### Limpieza de textos"
   ]
  },
  {
   "cell_type": "code",
   "execution_count": 4,
   "metadata": {},
   "outputs": [
    {
     "name": "stdout",
     "output_type": "stream",
     "text": [
      "Que opinas de la reformas Migratorias?👀👀 mi buen amigo @Pepe?\n",
      "Yo pienso que DEbieron facilitar la entrada de los inmigrantes 💁🇧🇷🇨🇷🇳🇮🇲🇽💪#YoTeApoyo eeeexxxxxx jajajajaja. Página oficial del BID:          https://www.iadb.org/es \n"
     ]
    }
   ],
   "source": [
    "example_text = 'Que opinas de la reformas Migratorias?👀👀 mi buen amigo @Pepe?\\nYo pienso que DEbieron facilitar la entrada de los inmigrantes 💁🇧🇷🇨🇷🇳🇮🇲🇽💪#YoTeApoyo eeeexxxxxx jajajajaja.'\n",
    "bid_url = ' Página oficial del BID:          https://www.iadb.org/es '\n",
    "example_text = example_text + bid_url\n",
    "print(example_text)"
   ]
  },
  {
   "cell_type": "code",
   "execution_count": 5,
   "metadata": {},
   "outputs": [
    {
     "data": {
      "text/plain": [
       "'Que opinas de la reformas Migratorias? emoji ojos emoji  emoji ojos emoji  mi buen amigo @usuario?\\nYo pienso que DEbieron facilitar la entrada de los inmigrantes  emoji persona de mostrador de información emoji  emoji bandera brasil emoji  emoji bandera costa rica emoji  emoji bandera nicaragua emoji  emoji bandera méxico emoji  emoji bíceps flexionado emoji hashtag yo te apoyo eexx jaja. Página oficial del BID:  url'"
      ]
     },
     "execution_count": 5,
     "metadata": {},
     "output_type": "execute_result"
    }
   ],
   "source": [
    "preprocess_tweet(example_text, user_token='@usuario', url_token='url', preprocess_hashtags=True, demoji=True, shorten=2, normalize_laughter=True, hashtag_token='hashtag')"
   ]
  },
  {
   "cell_type": "markdown",
   "metadata": {},
   "source": [
    "Podemos observar que el texto cambia los links por la palabra definida \"url\", los nombres de usuario por \"@usuario\", separa las palabras contenidas en un hashtag y además agrega \"hashtag\", normaliza las expresiones de risa y las letras repetidas. Describe el contenido de cada emoticono.\n",
    "\n",
    "Las palabras definidas serán muy útiles para el modelo, pues éste puede ser configurado para que considere dichas palabras como elementos estructurales y no como palabras.\n",
    "\n",
    "Sin embargo, se observa que el texto contiene espacios, mantiene los acentos, los saltos de línea y las mayúsculas. Estas características podrían ser no deseadas según el objetivo que se tiene y el modelo que se empleará para clasificar los textos. Ya que existen modelos que hacen diferencia entre estas características y otros que no."
   ]
  },
  {
   "cell_type": "code",
   "execution_count": 6,
   "metadata": {},
   "outputs": [
    {
     "data": {
      "text/plain": [
       "'#Página#oficial#del#BID:#https://www.iadb.org/es#'"
      ]
     },
     "execution_count": 6,
     "metadata": {},
     "output_type": "execute_result"
    }
   ],
   "source": [
    "#remove extra spaces\n",
    "re.compile(r'\\s+').sub('#', bid_url)"
   ]
  },
  {
   "cell_type": "code",
   "execution_count": 7,
   "metadata": {},
   "outputs": [],
   "source": [
    "#juntemos estos conceptos para crear una función que nos permita limpiar un tweet\n",
    "def clean_tweet(tweet, user_token='@usuario', url_token='url', hashtag_token='hashtag', preprocess_hashtags=True, demoji=True, shorten=2, normalize_laughter=True):\n",
    "    tweet = str(tweet)\n",
    "    tweet = preprocess_tweet(tweet, user_token=user_token, url_token=url_token, preprocess_hashtags=preprocess_hashtags, demoji=demoji, shorten=shorten, normalize_laughter=normalize_laughter, hashtag_token=hashtag_token)\n",
    "    tweet = re.compile(r'\\s+').sub(' ', tweet)\n",
    "    return tweet\n",
    "\n",
    "data['text'] = data.text.apply(lambda x: clean_tweet(x))\n",
    "#remove initial and final spaces\n",
    "data['text'] = data.text.str.strip()"
   ]
  },
  {
   "cell_type": "code",
   "execution_count": 8,
   "metadata": {},
   "outputs": [
    {
     "data": {
      "text/plain": [
       "array([[1342852606264291328,\n",
       "        '@usuario Jajaj dales alojamiento tu po qué eres defensor de la inmigración masiva e ilegal que totalmente irrespetuosa con nuestro país por como lo tratan y lo que hacen en el',\n",
       "        '2021-07-04', 1]], dtype=object)"
      ]
     },
     "execution_count": 8,
     "metadata": {},
     "output_type": "execute_result"
    }
   ],
   "source": [
    "data.sample(n=1).values"
   ]
  },
  {
   "cell_type": "markdown",
   "metadata": {},
   "source": [
    "### División en conjuntos de entrenamiento, validación y prueba\n",
    "\n",
    "La división en tres subconjuntos del conjunto de datos es de suma importancia, ya que cada uno de ellos juega un rol importante para la creación de un modelo de aprendizaje de máquinas.\n",
    "\n",
    "* El conjunto de entrenamiento, es por lo regular, el que contiene más muestras, ya que a partir de estos datos el modelo debe aprender y/o generalizar las características lingüísticas de los tweets marcados como xenófobos y no xenófobos de la mejor forma posible. De esta manera, cuando el modelo deba clasificar un texto nuevo, su etiqueta sea correcta.\n",
    "\n",
    "* El conjunto de validación, es por lo regular, el que contiene menos muestras. Este conjunto nos permitirá realizar múltiples evaluaciones sobre el modelo, ya sea para determinar si existen mejoras al momento de variar cualquier parámetro involucrado con el modelo, aumentar el conjunto de entrenamiento o incluso evaluar la selección de modelos.\n",
    "\n",
    "* El conjunto de prueba nos permite realizar la evaluación final del modelo. Por lo regular este conjunto solo debe usarse una vez, esto para evitar posibles sesgos.\n",
    "\n",
    "En el aprendizaje de máquinas es común aplicar el principio de Pareto, el cual sostiene que la división óptima es 80% de los datos para entrenamiento y el restante para tareas de evaluación. Sin embargo, dado que se sabe que el modelo pasará por una serie de algoritmos de optimización, sí se usara esta división podría lograrse un sesgo en cuanto al rendimiento real del modelo. "
   ]
  },
  {
   "cell_type": "markdown",
   "metadata": {},
   "source": [
    "Para la división en subconjuntos debe considerarse también la siguiente pregunta ¿El conjunto de datos total está balanceado? Al decir balanceado nos referimos a que las etiquetas disponibles son proporcionales entre sí. Para nuestro caso, dado que se trabaja con únicamente dos etiquetas, diremos que nuestro conjunto de datos es balanceado sí y sólo sí aproximadamente el 50% de los datos contienen la etiqueta *xenófobo*, y el restante corresponde a la etiqueta *no xenofóbo*.\n",
    "\n",
    "Cuando el conjunto de datos se encuentra desbalanceado (como es el caso) la división en subconjuntos debe hacerse con cuidado, a modo de distribuir proporcionalmente la o las clases más desbalanceadas en cada uno de los tres.\n",
    "\n",
    "Un ejemplo de omitir esta distribución puede suceder como sigue: Suponga que se tiene un conjunto de datos total de 1000 muestras, donde 780 corrresponden a la clase A y 220 a la clase B. Se hace la división de forma aleatoria a modo de que el conjunto de entrenamiento contiene sólo 20 muestras de la clase B y 680 de la clase A. Tanto el conjunto de validación y prueba contendrán 100 muestras de la clase A y 200 de la clase B. Dado que las muestras de la clase B en el conjunto de entrenamiento son pocas, el modelo no podrá aprender lo suficiente de la clase B y por ende, su rendimiento para esta clase será muy bajo."
   ]
  },
  {
   "cell_type": "code",
   "execution_count": 9,
   "metadata": {},
   "outputs": [],
   "source": [
    "#shuffle data before splitting\n",
    "data = data.sample(frac=1, ignore_index=True)\n",
    "\n",
    "#vamos a dividir el dataset por su id y etiqueta\n",
    "X = data.id.values\n",
    "y = data.label.values\n",
    "#generate train and test sets\n",
    "x_train,x_test,y_train,y_test = train_test_split(X, \n",
    "                                    y, test_size=0.2, random_state=2022, stratify=y)\n",
    "#from x_test and y_test, generate validation and test sets\n",
    "x_train, x_val, y_train, y_val = train_test_split(x_train, y_train, test_size=0.125, random_state=2022,\n",
    "                                                  stratify=y_train)\n",
    "                "
   ]
  },
  {
   "cell_type": "code",
   "execution_count": 10,
   "metadata": {},
   "outputs": [],
   "source": [
    "#get the dataframes\n",
    "train_df = data[data.id.isin(x_train)].reset_index(drop=True)\n",
    "test_df = data[data.id.isin(x_test)].reset_index(drop=True)\n",
    "valid_df = data[data.id.isin(x_val)].reset_index(drop=True)"
   ]
  },
  {
   "cell_type": "code",
   "execution_count": 11,
   "metadata": {},
   "outputs": [
    {
     "data": {
      "text/plain": [
       "0    5469\n",
       "1    1531\n",
       "Name: label, dtype: int64"
      ]
     },
     "execution_count": 11,
     "metadata": {},
     "output_type": "execute_result"
    }
   ],
   "source": [
    "#check the distribution of the labels by eye\n",
    "train_df.label.value_counts()"
   ]
  },
  {
   "cell_type": "code",
   "execution_count": 12,
   "metadata": {},
   "outputs": [
    {
     "data": {
      "text/html": [
       "<div>\n",
       "<style scoped>\n",
       "    .dataframe tbody tr th:only-of-type {\n",
       "        vertical-align: middle;\n",
       "    }\n",
       "\n",
       "    .dataframe tbody tr th {\n",
       "        vertical-align: top;\n",
       "    }\n",
       "\n",
       "    .dataframe thead th {\n",
       "        text-align: right;\n",
       "    }\n",
       "</style>\n",
       "<table border=\"1\" class=\"dataframe\">\n",
       "  <thead>\n",
       "    <tr style=\"text-align: right;\">\n",
       "      <th></th>\n",
       "      <th>id</th>\n",
       "      <th>text</th>\n",
       "      <th>date</th>\n",
       "      <th>label</th>\n",
       "    </tr>\n",
       "  </thead>\n",
       "  <tbody>\n",
       "    <tr>\n",
       "      <th>0</th>\n",
       "      <td>1353357604764971008</td>\n",
       "      <td>@usuario @usuario @usuario Claro porque los ve...</td>\n",
       "      <td>2021-10-20</td>\n",
       "      <td>1</td>\n",
       "    </tr>\n",
       "    <tr>\n",
       "      <th>1</th>\n",
       "      <td>1143920056621031424</td>\n",
       "      <td>El hashtag alquiler de hashtag viviendas en ha...</td>\n",
       "      <td>2021-11-21</td>\n",
       "      <td>0</td>\n",
       "    </tr>\n",
       "    <tr>\n",
       "      <th>2</th>\n",
       "      <td>1220702929478438912</td>\n",
       "      <td>@usuario Que raro.. total si aquí solo entran ...</td>\n",
       "      <td>2021-07-13</td>\n",
       "      <td>1</td>\n",
       "    </tr>\n",
       "    <tr>\n",
       "      <th>3</th>\n",
       "      <td>1347148151598190592</td>\n",
       "      <td>@usuario @usuario @usuario Que están en la otr...</td>\n",
       "      <td>2021-09-29</td>\n",
       "      <td>0</td>\n",
       "    </tr>\n",
       "    <tr>\n",
       "      <th>4</th>\n",
       "      <td>1169355407757893632</td>\n",
       "      <td>Una persona como Ivanna Trump no representa a ...</td>\n",
       "      <td>2021-11-12</td>\n",
       "      <td>0</td>\n",
       "    </tr>\n",
       "  </tbody>\n",
       "</table>\n",
       "</div>"
      ],
      "text/plain": [
       "                    id                                               text  \\\n",
       "0  1353357604764971008  @usuario @usuario @usuario Claro porque los ve...   \n",
       "1  1143920056621031424  El hashtag alquiler de hashtag viviendas en ha...   \n",
       "2  1220702929478438912  @usuario Que raro.. total si aquí solo entran ...   \n",
       "3  1347148151598190592  @usuario @usuario @usuario Que están en la otr...   \n",
       "4  1169355407757893632  Una persona como Ivanna Trump no representa a ...   \n",
       "\n",
       "         date  label  \n",
       "0  2021-10-20      1  \n",
       "1  2021-11-21      0  \n",
       "2  2021-07-13      1  \n",
       "3  2021-09-29      0  \n",
       "4  2021-11-12      0  "
      ]
     },
     "execution_count": 12,
     "metadata": {},
     "output_type": "execute_result"
    }
   ],
   "source": [
    "#check the final datasets\n",
    "train_df.head(5)"
   ]
  },
  {
   "cell_type": "code",
   "execution_count": 13,
   "metadata": {},
   "outputs": [],
   "source": [
    "#save the datasets\n",
    "train_df.to_csv('./assets/data/train.csv', index=False)\n",
    "test_df.to_csv('./assets/data/test.csv', index=False)\n",
    "valid_df.to_csv('./assets/data/valid.csv', index=False)"
   ]
  }
 ],
 "metadata": {
  "kernelspec": {
   "display_name": "Python 3.9.13 ('bid')",
   "language": "python",
   "name": "python3"
  },
  "language_info": {
   "codemirror_mode": {
    "name": "ipython",
    "version": 3
   },
   "file_extension": ".py",
   "mimetype": "text/x-python",
   "name": "python",
   "nbconvert_exporter": "python",
   "pygments_lexer": "ipython3",
   "version": "3.9.13"
  },
  "orig_nbformat": 4,
  "vscode": {
   "interpreter": {
    "hash": "cad67f8f08b43f52430a6b8684b01d2984f30490bfa5827628ebc9dc8cbf0dc5"
   }
  }
 },
 "nbformat": 4,
 "nbformat_minor": 2
}
